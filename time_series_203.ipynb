{
 "cells": [
  {
   "cell_type": "markdown",
   "metadata": {},
   "source": [
    "Now that we have build our model, let's make future predictions. As a reminder, our plan of action was as follows:\n",
    "\n",
    "1. Perform EDA on the dataset to extract valuable insight about the process generating the time series (COMPLETED).\n",
    "2. Build a baseline model (univariable model without exogenous variables) for benchmarking purposes (COMPLETED).\n",
    "3. Build a univariate model with all exogenous variables to check best possible performance (COMPLETED).\n",
    "4. Evaluate the model with exogenous variables and discuss any potential issues (COMPLETED).\n",
    "5. Overcome issues identified above (COMPLETED).\n",
    "6. Make future predictions with the best model.\n",
    "7. Replicate flow with Automated Time Series Modeling (AutoML)"
   ]
  },
  {
   "cell_type": "code",
   "execution_count": null,
   "metadata": {},
   "outputs": [],
   "source": [
    "def what_is_installed():\n",
    "    import pycaret\n",
    "    from pycaret import show_versions\n",
    "    show_versions()\n",
    "\n",
    "try:\n",
    "    what_is_installed()\n",
    "except:\n",
    "    !pip install pycaret-ts-alpha\n",
    "    what_is_installed()"
   ]
  },
  {
   "cell_type": "code",
   "execution_count": null,
   "metadata": {},
   "outputs": [],
   "source": [
    "import numpy as np\n",
    "import pandas as pd\n",
    "from pycaret.datasets import get_data\n",
    "from pycaret.internal.pycaret_experiment import TimeSeriesExperiment"
   ]
  },
  {
   "cell_type": "code",
   "execution_count": null,
   "metadata": {},
   "outputs": [],
   "source": [
    "data = get_data(\"airquality\", verbose=False)\n",
    "data[\"index\"] = pd.to_datetime(data[\"Date\"] + \" \" + data[\"Time\"])\n",
    "data.drop(columns=[\"Date\", \"Time\"], inplace=True)\n",
    "data.replace(-200, np.nan, inplace=True)\n",
    "data.fillna(method=\"ffill\", inplace=True)\n",
    "data.set_index(\"index\", inplace=True)\n",
    "\n",
    "exog_vars = ['NOx(GT)', 'PT08.S3(NOx)', 'RH']\n",
    "data = data[exog_vars]\n",
    "data.head()"
   ]
  },
  {
   "cell_type": "markdown",
   "metadata": {},
   "source": [
    "## Step 6: Making Future Predictions\n",
    "\n",
    "### Step 6A: Get future exogenous variable values using forecasting"
   ]
  },
  {
   "cell_type": "code",
   "execution_count": null,
   "metadata": {},
   "outputs": [],
   "source": [
    "exog_exps = []\n",
    "exog_models = []\n",
    "for exog_var in exog_vars:\n",
    "    exog_exp = TimeSeriesExperiment()\n",
    "    exog_exp.setup(data=data[exog_var], fh=48, session_id=42)\n",
    "\n",
    "    # Users can customize how to model future exogenous variables i.e. add\n",
    "    # more steps and models to potentially get better models at the expense\n",
    "    # of higher modeling time.\n",
    "    best = exog_exp.compare_models(\n",
    "        sort=\"mase\", include=[\"arima\", \"ets\", \"exp_smooth\", \"theta\", \"lightgbm_cds_dt\",]        \n",
    "    )\n",
    "    final_exog_model = exog_exp.finalize_model(best)\n",
    "\n",
    "    exog_exps.append(exog_exp)\n",
    "    exog_models.append(final_exog_model)\n",
    "\n",
    "# Step 2: Get future predictions for exog variables ----\n",
    "future_exog = [\n",
    "    exog_exp.predict_model(exog_model)\n",
    "    for exog_exp, exog_model in zip(exog_exps, exog_models)\n",
    "]\n",
    "future_exog = pd.concat(future_exog, axis=1)"
   ]
  },
  {
   "cell_type": "code",
   "execution_count": null,
   "metadata": {},
   "outputs": [],
   "source": [
    "future_exog"
   ]
  },
  {
   "cell_type": "markdown",
   "metadata": {},
   "source": [
    "### Step 6B: Load Model and make future predcitons for the target variable"
   ]
  },
  {
   "cell_type": "code",
   "execution_count": null,
   "metadata": {},
   "outputs": [],
   "source": [
    "exp_future = TimeSeriesExperiment()"
   ]
  },
  {
   "cell_type": "code",
   "execution_count": null,
   "metadata": {},
   "outputs": [],
   "source": [
    "final_slim_model = exp_future.load_model(\"final_slim_model\")"
   ]
  },
  {
   "cell_type": "code",
   "execution_count": null,
   "metadata": {},
   "outputs": [],
   "source": [
    "future_preds = exp_future.predict_model(final_slim_model, X=future_exog)\n",
    "future_preds.plot()"
   ]
  }
 ],
 "metadata": {
  "interpreter": {
   "hash": "c161a91f6f4623a54f30c5492a42e7cf0592610fb90c8abd312086f09f8fbe0f"
  },
  "kernelspec": {
   "display_name": "pycaret_dev_sktime_0p10p0",
   "language": "python",
   "name": "pycaret_dev_sktime_0p10p0"
  },
  "language_info": {
   "codemirror_mode": {
    "name": "ipython",
    "version": 3
   },
   "file_extension": ".py",
   "mimetype": "text/x-python",
   "name": "python",
   "nbconvert_exporter": "python",
   "pygments_lexer": "ipython3",
   "version": "3.8.12"
  }
 },
 "nbformat": 4,
 "nbformat_minor": 2
}
