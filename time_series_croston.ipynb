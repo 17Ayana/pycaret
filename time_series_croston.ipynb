{
 "cells": [
  {
   "cell_type": "code",
   "execution_count": 11,
   "metadata": {},
   "outputs": [],
   "source": [
    "import time\n",
    "import numpy as np\n",
    "import pandas as pd\n",
    "\n",
    "from pycaret.datasets import get_data\n",
    "from pycaret.internal.pycaret_experiment import TimeSeriesExperiment\n",
    "import plotly.express as px"
   ]
  },
  {
   "cell_type": "markdown",
   "metadata": {},
   "source": [
    "#### Making our search space for croston\n",
    "* Using a logspace base 100, to create values between 0.01 and 1\n",
    "* Closely spaced near the bottom of the space and further apart towards 1."
   ]
  },
  {
   "cell_type": "code",
   "execution_count": 12,
   "metadata": {},
   "outputs": [
    {
     "data": {
      "text/plain": [
       "array([0.01 , 0.02 , 0.039, 0.074, 0.142, 0.272, 0.521, 1.   ])"
      ]
     },
     "metadata": {},
     "output_type": "display_data"
    },
    {
     "data": {
      "application/vnd.plotly.v1+json": {
       "config": {
        "plotlyServerURL": "https://plot.ly"
       },
       "data": [
        {
         "hovertemplate": "variable=0<br>index=%{x}<br>value=%{y}<extra></extra>",
         "legendgroup": "0",
         "line": {
          "color": "#636efa",
          "dash": "solid"
         },
         "marker": {
          "symbol": "circle"
         },
         "mode": "lines",
         "name": "0",
         "orientation": "v",
         "showlegend": true,
         "type": "scatter",
         "x": [
          0,
          1,
          2,
          3,
          4,
          5,
          6,
          7
         ],
         "xaxis": "x",
         "y": [
          0.01,
          0.02,
          0.039,
          0.074,
          0.142,
          0.272,
          0.521,
          1
         ],
         "yaxis": "y"
        }
       ],
       "layout": {
        "legend": {
         "title": {
          "text": "variable"
         },
         "tracegroupgap": 0
        },
        "margin": {
         "t": 60
        },
        "template": {
         "data": {
          "bar": [
           {
            "error_x": {
             "color": "#2a3f5f"
            },
            "error_y": {
             "color": "#2a3f5f"
            },
            "marker": {
             "line": {
              "color": "#E5ECF6",
              "width": 0.5
             },
             "pattern": {
              "fillmode": "overlay",
              "size": 10,
              "solidity": 0.2
             }
            },
            "type": "bar"
           }
          ],
          "barpolar": [
           {
            "marker": {
             "line": {
              "color": "#E5ECF6",
              "width": 0.5
             },
             "pattern": {
              "fillmode": "overlay",
              "size": 10,
              "solidity": 0.2
             }
            },
            "type": "barpolar"
           }
          ],
          "carpet": [
           {
            "aaxis": {
             "endlinecolor": "#2a3f5f",
             "gridcolor": "white",
             "linecolor": "white",
             "minorgridcolor": "white",
             "startlinecolor": "#2a3f5f"
            },
            "baxis": {
             "endlinecolor": "#2a3f5f",
             "gridcolor": "white",
             "linecolor": "white",
             "minorgridcolor": "white",
             "startlinecolor": "#2a3f5f"
            },
            "type": "carpet"
           }
          ],
          "choropleth": [
           {
            "colorbar": {
             "outlinewidth": 0,
             "ticks": ""
            },
            "type": "choropleth"
           }
          ],
          "contour": [
           {
            "colorbar": {
             "outlinewidth": 0,
             "ticks": ""
            },
            "colorscale": [
             [
              0,
              "#0d0887"
             ],
             [
              0.1111111111111111,
              "#46039f"
             ],
             [
              0.2222222222222222,
              "#7201a8"
             ],
             [
              0.3333333333333333,
              "#9c179e"
             ],
             [
              0.4444444444444444,
              "#bd3786"
             ],
             [
              0.5555555555555556,
              "#d8576b"
             ],
             [
              0.6666666666666666,
              "#ed7953"
             ],
             [
              0.7777777777777778,
              "#fb9f3a"
             ],
             [
              0.8888888888888888,
              "#fdca26"
             ],
             [
              1,
              "#f0f921"
             ]
            ],
            "type": "contour"
           }
          ],
          "contourcarpet": [
           {
            "colorbar": {
             "outlinewidth": 0,
             "ticks": ""
            },
            "type": "contourcarpet"
           }
          ],
          "heatmap": [
           {
            "colorbar": {
             "outlinewidth": 0,
             "ticks": ""
            },
            "colorscale": [
             [
              0,
              "#0d0887"
             ],
             [
              0.1111111111111111,
              "#46039f"
             ],
             [
              0.2222222222222222,
              "#7201a8"
             ],
             [
              0.3333333333333333,
              "#9c179e"
             ],
             [
              0.4444444444444444,
              "#bd3786"
             ],
             [
              0.5555555555555556,
              "#d8576b"
             ],
             [
              0.6666666666666666,
              "#ed7953"
             ],
             [
              0.7777777777777778,
              "#fb9f3a"
             ],
             [
              0.8888888888888888,
              "#fdca26"
             ],
             [
              1,
              "#f0f921"
             ]
            ],
            "type": "heatmap"
           }
          ],
          "heatmapgl": [
           {
            "colorbar": {
             "outlinewidth": 0,
             "ticks": ""
            },
            "colorscale": [
             [
              0,
              "#0d0887"
             ],
             [
              0.1111111111111111,
              "#46039f"
             ],
             [
              0.2222222222222222,
              "#7201a8"
             ],
             [
              0.3333333333333333,
              "#9c179e"
             ],
             [
              0.4444444444444444,
              "#bd3786"
             ],
             [
              0.5555555555555556,
              "#d8576b"
             ],
             [
              0.6666666666666666,
              "#ed7953"
             ],
             [
              0.7777777777777778,
              "#fb9f3a"
             ],
             [
              0.8888888888888888,
              "#fdca26"
             ],
             [
              1,
              "#f0f921"
             ]
            ],
            "type": "heatmapgl"
           }
          ],
          "histogram": [
           {
            "marker": {
             "pattern": {
              "fillmode": "overlay",
              "size": 10,
              "solidity": 0.2
             }
            },
            "type": "histogram"
           }
          ],
          "histogram2d": [
           {
            "colorbar": {
             "outlinewidth": 0,
             "ticks": ""
            },
            "colorscale": [
             [
              0,
              "#0d0887"
             ],
             [
              0.1111111111111111,
              "#46039f"
             ],
             [
              0.2222222222222222,
              "#7201a8"
             ],
             [
              0.3333333333333333,
              "#9c179e"
             ],
             [
              0.4444444444444444,
              "#bd3786"
             ],
             [
              0.5555555555555556,
              "#d8576b"
             ],
             [
              0.6666666666666666,
              "#ed7953"
             ],
             [
              0.7777777777777778,
              "#fb9f3a"
             ],
             [
              0.8888888888888888,
              "#fdca26"
             ],
             [
              1,
              "#f0f921"
             ]
            ],
            "type": "histogram2d"
           }
          ],
          "histogram2dcontour": [
           {
            "colorbar": {
             "outlinewidth": 0,
             "ticks": ""
            },
            "colorscale": [
             [
              0,
              "#0d0887"
             ],
             [
              0.1111111111111111,
              "#46039f"
             ],
             [
              0.2222222222222222,
              "#7201a8"
             ],
             [
              0.3333333333333333,
              "#9c179e"
             ],
             [
              0.4444444444444444,
              "#bd3786"
             ],
             [
              0.5555555555555556,
              "#d8576b"
             ],
             [
              0.6666666666666666,
              "#ed7953"
             ],
             [
              0.7777777777777778,
              "#fb9f3a"
             ],
             [
              0.8888888888888888,
              "#fdca26"
             ],
             [
              1,
              "#f0f921"
             ]
            ],
            "type": "histogram2dcontour"
           }
          ],
          "mesh3d": [
           {
            "colorbar": {
             "outlinewidth": 0,
             "ticks": ""
            },
            "type": "mesh3d"
           }
          ],
          "parcoords": [
           {
            "line": {
             "colorbar": {
              "outlinewidth": 0,
              "ticks": ""
             }
            },
            "type": "parcoords"
           }
          ],
          "pie": [
           {
            "automargin": true,
            "type": "pie"
           }
          ],
          "scatter": [
           {
            "marker": {
             "colorbar": {
              "outlinewidth": 0,
              "ticks": ""
             }
            },
            "type": "scatter"
           }
          ],
          "scatter3d": [
           {
            "line": {
             "colorbar": {
              "outlinewidth": 0,
              "ticks": ""
             }
            },
            "marker": {
             "colorbar": {
              "outlinewidth": 0,
              "ticks": ""
             }
            },
            "type": "scatter3d"
           }
          ],
          "scattercarpet": [
           {
            "marker": {
             "colorbar": {
              "outlinewidth": 0,
              "ticks": ""
             }
            },
            "type": "scattercarpet"
           }
          ],
          "scattergeo": [
           {
            "marker": {
             "colorbar": {
              "outlinewidth": 0,
              "ticks": ""
             }
            },
            "type": "scattergeo"
           }
          ],
          "scattergl": [
           {
            "marker": {
             "colorbar": {
              "outlinewidth": 0,
              "ticks": ""
             }
            },
            "type": "scattergl"
           }
          ],
          "scattermapbox": [
           {
            "marker": {
             "colorbar": {
              "outlinewidth": 0,
              "ticks": ""
             }
            },
            "type": "scattermapbox"
           }
          ],
          "scatterpolar": [
           {
            "marker": {
             "colorbar": {
              "outlinewidth": 0,
              "ticks": ""
             }
            },
            "type": "scatterpolar"
           }
          ],
          "scatterpolargl": [
           {
            "marker": {
             "colorbar": {
              "outlinewidth": 0,
              "ticks": ""
             }
            },
            "type": "scatterpolargl"
           }
          ],
          "scatterternary": [
           {
            "marker": {
             "colorbar": {
              "outlinewidth": 0,
              "ticks": ""
             }
            },
            "type": "scatterternary"
           }
          ],
          "surface": [
           {
            "colorbar": {
             "outlinewidth": 0,
             "ticks": ""
            },
            "colorscale": [
             [
              0,
              "#0d0887"
             ],
             [
              0.1111111111111111,
              "#46039f"
             ],
             [
              0.2222222222222222,
              "#7201a8"
             ],
             [
              0.3333333333333333,
              "#9c179e"
             ],
             [
              0.4444444444444444,
              "#bd3786"
             ],
             [
              0.5555555555555556,
              "#d8576b"
             ],
             [
              0.6666666666666666,
              "#ed7953"
             ],
             [
              0.7777777777777778,
              "#fb9f3a"
             ],
             [
              0.8888888888888888,
              "#fdca26"
             ],
             [
              1,
              "#f0f921"
             ]
            ],
            "type": "surface"
           }
          ],
          "table": [
           {
            "cells": {
             "fill": {
              "color": "#EBF0F8"
             },
             "line": {
              "color": "white"
             }
            },
            "header": {
             "fill": {
              "color": "#C8D4E3"
             },
             "line": {
              "color": "white"
             }
            },
            "type": "table"
           }
          ]
         },
         "layout": {
          "annotationdefaults": {
           "arrowcolor": "#2a3f5f",
           "arrowhead": 0,
           "arrowwidth": 1
          },
          "autotypenumbers": "strict",
          "coloraxis": {
           "colorbar": {
            "outlinewidth": 0,
            "ticks": ""
           }
          },
          "colorscale": {
           "diverging": [
            [
             0,
             "#8e0152"
            ],
            [
             0.1,
             "#c51b7d"
            ],
            [
             0.2,
             "#de77ae"
            ],
            [
             0.3,
             "#f1b6da"
            ],
            [
             0.4,
             "#fde0ef"
            ],
            [
             0.5,
             "#f7f7f7"
            ],
            [
             0.6,
             "#e6f5d0"
            ],
            [
             0.7,
             "#b8e186"
            ],
            [
             0.8,
             "#7fbc41"
            ],
            [
             0.9,
             "#4d9221"
            ],
            [
             1,
             "#276419"
            ]
           ],
           "sequential": [
            [
             0,
             "#0d0887"
            ],
            [
             0.1111111111111111,
             "#46039f"
            ],
            [
             0.2222222222222222,
             "#7201a8"
            ],
            [
             0.3333333333333333,
             "#9c179e"
            ],
            [
             0.4444444444444444,
             "#bd3786"
            ],
            [
             0.5555555555555556,
             "#d8576b"
            ],
            [
             0.6666666666666666,
             "#ed7953"
            ],
            [
             0.7777777777777778,
             "#fb9f3a"
            ],
            [
             0.8888888888888888,
             "#fdca26"
            ],
            [
             1,
             "#f0f921"
            ]
           ],
           "sequentialminus": [
            [
             0,
             "#0d0887"
            ],
            [
             0.1111111111111111,
             "#46039f"
            ],
            [
             0.2222222222222222,
             "#7201a8"
            ],
            [
             0.3333333333333333,
             "#9c179e"
            ],
            [
             0.4444444444444444,
             "#bd3786"
            ],
            [
             0.5555555555555556,
             "#d8576b"
            ],
            [
             0.6666666666666666,
             "#ed7953"
            ],
            [
             0.7777777777777778,
             "#fb9f3a"
            ],
            [
             0.8888888888888888,
             "#fdca26"
            ],
            [
             1,
             "#f0f921"
            ]
           ]
          },
          "colorway": [
           "#636efa",
           "#EF553B",
           "#00cc96",
           "#ab63fa",
           "#FFA15A",
           "#19d3f3",
           "#FF6692",
           "#B6E880",
           "#FF97FF",
           "#FECB52"
          ],
          "font": {
           "color": "#2a3f5f"
          },
          "geo": {
           "bgcolor": "white",
           "lakecolor": "white",
           "landcolor": "#E5ECF6",
           "showlakes": true,
           "showland": true,
           "subunitcolor": "white"
          },
          "hoverlabel": {
           "align": "left"
          },
          "hovermode": "closest",
          "mapbox": {
           "style": "light"
          },
          "paper_bgcolor": "white",
          "plot_bgcolor": "#E5ECF6",
          "polar": {
           "angularaxis": {
            "gridcolor": "white",
            "linecolor": "white",
            "ticks": ""
           },
           "bgcolor": "#E5ECF6",
           "radialaxis": {
            "gridcolor": "white",
            "linecolor": "white",
            "ticks": ""
           }
          },
          "scene": {
           "xaxis": {
            "backgroundcolor": "#E5ECF6",
            "gridcolor": "white",
            "gridwidth": 2,
            "linecolor": "white",
            "showbackground": true,
            "ticks": "",
            "zerolinecolor": "white"
           },
           "yaxis": {
            "backgroundcolor": "#E5ECF6",
            "gridcolor": "white",
            "gridwidth": 2,
            "linecolor": "white",
            "showbackground": true,
            "ticks": "",
            "zerolinecolor": "white"
           },
           "zaxis": {
            "backgroundcolor": "#E5ECF6",
            "gridcolor": "white",
            "gridwidth": 2,
            "linecolor": "white",
            "showbackground": true,
            "ticks": "",
            "zerolinecolor": "white"
           }
          },
          "shapedefaults": {
           "line": {
            "color": "#2a3f5f"
           }
          },
          "ternary": {
           "aaxis": {
            "gridcolor": "white",
            "linecolor": "white",
            "ticks": ""
           },
           "baxis": {
            "gridcolor": "white",
            "linecolor": "white",
            "ticks": ""
           },
           "bgcolor": "#E5ECF6",
           "caxis": {
            "gridcolor": "white",
            "linecolor": "white",
            "ticks": ""
           }
          },
          "title": {
           "x": 0.05
          },
          "xaxis": {
           "automargin": true,
           "gridcolor": "white",
           "linecolor": "white",
           "ticks": "",
           "title": {
            "standoff": 15
           },
           "zerolinecolor": "white",
           "zerolinewidth": 2
          },
          "yaxis": {
           "automargin": true,
           "gridcolor": "white",
           "linecolor": "white",
           "ticks": "",
           "title": {
            "standoff": 15
           },
           "zerolinecolor": "white",
           "zerolinewidth": 2
          }
         }
        },
        "xaxis": {
         "anchor": "y",
         "domain": [
          0,
          1
         ],
         "title": {
          "text": "index"
         }
        },
        "yaxis": {
         "anchor": "x",
         "domain": [
          0,
          1
         ],
         "title": {
          "text": "value"
         }
        }
       }
      },
      "text/html": [
       "<div>                            <div id=\"248adc57-0967-4518-ab87-b21dd887fe61\" class=\"plotly-graph-div\" style=\"height:525px; width:100%;\"></div>            <script type=\"text/javascript\">                require([\"plotly\"], function(Plotly) {                    window.PLOTLYENV=window.PLOTLYENV || {};                                    if (document.getElementById(\"248adc57-0967-4518-ab87-b21dd887fe61\")) {                    Plotly.newPlot(                        \"248adc57-0967-4518-ab87-b21dd887fe61\",                        [{\"hovertemplate\":\"variable=0<br>index=%{x}<br>value=%{y}<extra></extra>\",\"legendgroup\":\"0\",\"line\":{\"color\":\"#636efa\",\"dash\":\"solid\"},\"marker\":{\"symbol\":\"circle\"},\"mode\":\"lines\",\"name\":\"0\",\"orientation\":\"v\",\"showlegend\":true,\"x\":[0,1,2,3,4,5,6,7],\"xaxis\":\"x\",\"y\":[0.01,0.02,0.039,0.074,0.142,0.272,0.521,1.0],\"yaxis\":\"y\",\"type\":\"scatter\"}],                        {\"template\":{\"data\":{\"bar\":[{\"error_x\":{\"color\":\"#2a3f5f\"},\"error_y\":{\"color\":\"#2a3f5f\"},\"marker\":{\"line\":{\"color\":\"#E5ECF6\",\"width\":0.5},\"pattern\":{\"fillmode\":\"overlay\",\"size\":10,\"solidity\":0.2}},\"type\":\"bar\"}],\"barpolar\":[{\"marker\":{\"line\":{\"color\":\"#E5ECF6\",\"width\":0.5},\"pattern\":{\"fillmode\":\"overlay\",\"size\":10,\"solidity\":0.2}},\"type\":\"barpolar\"}],\"carpet\":[{\"aaxis\":{\"endlinecolor\":\"#2a3f5f\",\"gridcolor\":\"white\",\"linecolor\":\"white\",\"minorgridcolor\":\"white\",\"startlinecolor\":\"#2a3f5f\"},\"baxis\":{\"endlinecolor\":\"#2a3f5f\",\"gridcolor\":\"white\",\"linecolor\":\"white\",\"minorgridcolor\":\"white\",\"startlinecolor\":\"#2a3f5f\"},\"type\":\"carpet\"}],\"choropleth\":[{\"colorbar\":{\"outlinewidth\":0,\"ticks\":\"\"},\"type\":\"choropleth\"}],\"contour\":[{\"colorbar\":{\"outlinewidth\":0,\"ticks\":\"\"},\"colorscale\":[[0.0,\"#0d0887\"],[0.1111111111111111,\"#46039f\"],[0.2222222222222222,\"#7201a8\"],[0.3333333333333333,\"#9c179e\"],[0.4444444444444444,\"#bd3786\"],[0.5555555555555556,\"#d8576b\"],[0.6666666666666666,\"#ed7953\"],[0.7777777777777778,\"#fb9f3a\"],[0.8888888888888888,\"#fdca26\"],[1.0,\"#f0f921\"]],\"type\":\"contour\"}],\"contourcarpet\":[{\"colorbar\":{\"outlinewidth\":0,\"ticks\":\"\"},\"type\":\"contourcarpet\"}],\"heatmap\":[{\"colorbar\":{\"outlinewidth\":0,\"ticks\":\"\"},\"colorscale\":[[0.0,\"#0d0887\"],[0.1111111111111111,\"#46039f\"],[0.2222222222222222,\"#7201a8\"],[0.3333333333333333,\"#9c179e\"],[0.4444444444444444,\"#bd3786\"],[0.5555555555555556,\"#d8576b\"],[0.6666666666666666,\"#ed7953\"],[0.7777777777777778,\"#fb9f3a\"],[0.8888888888888888,\"#fdca26\"],[1.0,\"#f0f921\"]],\"type\":\"heatmap\"}],\"heatmapgl\":[{\"colorbar\":{\"outlinewidth\":0,\"ticks\":\"\"},\"colorscale\":[[0.0,\"#0d0887\"],[0.1111111111111111,\"#46039f\"],[0.2222222222222222,\"#7201a8\"],[0.3333333333333333,\"#9c179e\"],[0.4444444444444444,\"#bd3786\"],[0.5555555555555556,\"#d8576b\"],[0.6666666666666666,\"#ed7953\"],[0.7777777777777778,\"#fb9f3a\"],[0.8888888888888888,\"#fdca26\"],[1.0,\"#f0f921\"]],\"type\":\"heatmapgl\"}],\"histogram\":[{\"marker\":{\"pattern\":{\"fillmode\":\"overlay\",\"size\":10,\"solidity\":0.2}},\"type\":\"histogram\"}],\"histogram2d\":[{\"colorbar\":{\"outlinewidth\":0,\"ticks\":\"\"},\"colorscale\":[[0.0,\"#0d0887\"],[0.1111111111111111,\"#46039f\"],[0.2222222222222222,\"#7201a8\"],[0.3333333333333333,\"#9c179e\"],[0.4444444444444444,\"#bd3786\"],[0.5555555555555556,\"#d8576b\"],[0.6666666666666666,\"#ed7953\"],[0.7777777777777778,\"#fb9f3a\"],[0.8888888888888888,\"#fdca26\"],[1.0,\"#f0f921\"]],\"type\":\"histogram2d\"}],\"histogram2dcontour\":[{\"colorbar\":{\"outlinewidth\":0,\"ticks\":\"\"},\"colorscale\":[[0.0,\"#0d0887\"],[0.1111111111111111,\"#46039f\"],[0.2222222222222222,\"#7201a8\"],[0.3333333333333333,\"#9c179e\"],[0.4444444444444444,\"#bd3786\"],[0.5555555555555556,\"#d8576b\"],[0.6666666666666666,\"#ed7953\"],[0.7777777777777778,\"#fb9f3a\"],[0.8888888888888888,\"#fdca26\"],[1.0,\"#f0f921\"]],\"type\":\"histogram2dcontour\"}],\"mesh3d\":[{\"colorbar\":{\"outlinewidth\":0,\"ticks\":\"\"},\"type\":\"mesh3d\"}],\"parcoords\":[{\"line\":{\"colorbar\":{\"outlinewidth\":0,\"ticks\":\"\"}},\"type\":\"parcoords\"}],\"pie\":[{\"automargin\":true,\"type\":\"pie\"}],\"scatter\":[{\"marker\":{\"colorbar\":{\"outlinewidth\":0,\"ticks\":\"\"}},\"type\":\"scatter\"}],\"scatter3d\":[{\"line\":{\"colorbar\":{\"outlinewidth\":0,\"ticks\":\"\"}},\"marker\":{\"colorbar\":{\"outlinewidth\":0,\"ticks\":\"\"}},\"type\":\"scatter3d\"}],\"scattercarpet\":[{\"marker\":{\"colorbar\":{\"outlinewidth\":0,\"ticks\":\"\"}},\"type\":\"scattercarpet\"}],\"scattergeo\":[{\"marker\":{\"colorbar\":{\"outlinewidth\":0,\"ticks\":\"\"}},\"type\":\"scattergeo\"}],\"scattergl\":[{\"marker\":{\"colorbar\":{\"outlinewidth\":0,\"ticks\":\"\"}},\"type\":\"scattergl\"}],\"scattermapbox\":[{\"marker\":{\"colorbar\":{\"outlinewidth\":0,\"ticks\":\"\"}},\"type\":\"scattermapbox\"}],\"scatterpolar\":[{\"marker\":{\"colorbar\":{\"outlinewidth\":0,\"ticks\":\"\"}},\"type\":\"scatterpolar\"}],\"scatterpolargl\":[{\"marker\":{\"colorbar\":{\"outlinewidth\":0,\"ticks\":\"\"}},\"type\":\"scatterpolargl\"}],\"scatterternary\":[{\"marker\":{\"colorbar\":{\"outlinewidth\":0,\"ticks\":\"\"}},\"type\":\"scatterternary\"}],\"surface\":[{\"colorbar\":{\"outlinewidth\":0,\"ticks\":\"\"},\"colorscale\":[[0.0,\"#0d0887\"],[0.1111111111111111,\"#46039f\"],[0.2222222222222222,\"#7201a8\"],[0.3333333333333333,\"#9c179e\"],[0.4444444444444444,\"#bd3786\"],[0.5555555555555556,\"#d8576b\"],[0.6666666666666666,\"#ed7953\"],[0.7777777777777778,\"#fb9f3a\"],[0.8888888888888888,\"#fdca26\"],[1.0,\"#f0f921\"]],\"type\":\"surface\"}],\"table\":[{\"cells\":{\"fill\":{\"color\":\"#EBF0F8\"},\"line\":{\"color\":\"white\"}},\"header\":{\"fill\":{\"color\":\"#C8D4E3\"},\"line\":{\"color\":\"white\"}},\"type\":\"table\"}]},\"layout\":{\"annotationdefaults\":{\"arrowcolor\":\"#2a3f5f\",\"arrowhead\":0,\"arrowwidth\":1},\"autotypenumbers\":\"strict\",\"coloraxis\":{\"colorbar\":{\"outlinewidth\":0,\"ticks\":\"\"}},\"colorscale\":{\"diverging\":[[0,\"#8e0152\"],[0.1,\"#c51b7d\"],[0.2,\"#de77ae\"],[0.3,\"#f1b6da\"],[0.4,\"#fde0ef\"],[0.5,\"#f7f7f7\"],[0.6,\"#e6f5d0\"],[0.7,\"#b8e186\"],[0.8,\"#7fbc41\"],[0.9,\"#4d9221\"],[1,\"#276419\"]],\"sequential\":[[0.0,\"#0d0887\"],[0.1111111111111111,\"#46039f\"],[0.2222222222222222,\"#7201a8\"],[0.3333333333333333,\"#9c179e\"],[0.4444444444444444,\"#bd3786\"],[0.5555555555555556,\"#d8576b\"],[0.6666666666666666,\"#ed7953\"],[0.7777777777777778,\"#fb9f3a\"],[0.8888888888888888,\"#fdca26\"],[1.0,\"#f0f921\"]],\"sequentialminus\":[[0.0,\"#0d0887\"],[0.1111111111111111,\"#46039f\"],[0.2222222222222222,\"#7201a8\"],[0.3333333333333333,\"#9c179e\"],[0.4444444444444444,\"#bd3786\"],[0.5555555555555556,\"#d8576b\"],[0.6666666666666666,\"#ed7953\"],[0.7777777777777778,\"#fb9f3a\"],[0.8888888888888888,\"#fdca26\"],[1.0,\"#f0f921\"]]},\"colorway\":[\"#636efa\",\"#EF553B\",\"#00cc96\",\"#ab63fa\",\"#FFA15A\",\"#19d3f3\",\"#FF6692\",\"#B6E880\",\"#FF97FF\",\"#FECB52\"],\"font\":{\"color\":\"#2a3f5f\"},\"geo\":{\"bgcolor\":\"white\",\"lakecolor\":\"white\",\"landcolor\":\"#E5ECF6\",\"showlakes\":true,\"showland\":true,\"subunitcolor\":\"white\"},\"hoverlabel\":{\"align\":\"left\"},\"hovermode\":\"closest\",\"mapbox\":{\"style\":\"light\"},\"paper_bgcolor\":\"white\",\"plot_bgcolor\":\"#E5ECF6\",\"polar\":{\"angularaxis\":{\"gridcolor\":\"white\",\"linecolor\":\"white\",\"ticks\":\"\"},\"bgcolor\":\"#E5ECF6\",\"radialaxis\":{\"gridcolor\":\"white\",\"linecolor\":\"white\",\"ticks\":\"\"}},\"scene\":{\"xaxis\":{\"backgroundcolor\":\"#E5ECF6\",\"gridcolor\":\"white\",\"gridwidth\":2,\"linecolor\":\"white\",\"showbackground\":true,\"ticks\":\"\",\"zerolinecolor\":\"white\"},\"yaxis\":{\"backgroundcolor\":\"#E5ECF6\",\"gridcolor\":\"white\",\"gridwidth\":2,\"linecolor\":\"white\",\"showbackground\":true,\"ticks\":\"\",\"zerolinecolor\":\"white\"},\"zaxis\":{\"backgroundcolor\":\"#E5ECF6\",\"gridcolor\":\"white\",\"gridwidth\":2,\"linecolor\":\"white\",\"showbackground\":true,\"ticks\":\"\",\"zerolinecolor\":\"white\"}},\"shapedefaults\":{\"line\":{\"color\":\"#2a3f5f\"}},\"ternary\":{\"aaxis\":{\"gridcolor\":\"white\",\"linecolor\":\"white\",\"ticks\":\"\"},\"baxis\":{\"gridcolor\":\"white\",\"linecolor\":\"white\",\"ticks\":\"\"},\"bgcolor\":\"#E5ECF6\",\"caxis\":{\"gridcolor\":\"white\",\"linecolor\":\"white\",\"ticks\":\"\"}},\"title\":{\"x\":0.05},\"xaxis\":{\"automargin\":true,\"gridcolor\":\"white\",\"linecolor\":\"white\",\"ticks\":\"\",\"title\":{\"standoff\":15},\"zerolinecolor\":\"white\",\"zerolinewidth\":2},\"yaxis\":{\"automargin\":true,\"gridcolor\":\"white\",\"linecolor\":\"white\",\"ticks\":\"\",\"title\":{\"standoff\":15},\"zerolinecolor\":\"white\",\"zerolinewidth\":2}}},\"xaxis\":{\"anchor\":\"y\",\"domain\":[0.0,1.0],\"title\":{\"text\":\"index\"}},\"yaxis\":{\"anchor\":\"x\",\"domain\":[0.0,1.0],\"title\":{\"text\":\"value\"}},\"legend\":{\"title\":{\"text\":\"variable\"},\"tracegroupgap\":0},\"margin\":{\"t\":60}},                        {\"responsive\": true}                    ).then(function(){\n",
       "                            \n",
       "var gd = document.getElementById('248adc57-0967-4518-ab87-b21dd887fe61');\n",
       "var x = new MutationObserver(function (mutations, observer) {{\n",
       "        var display = window.getComputedStyle(gd).display;\n",
       "        if (!display || display === 'none') {{\n",
       "            console.log([gd, 'removed!']);\n",
       "            Plotly.purge(gd);\n",
       "            observer.disconnect();\n",
       "        }}\n",
       "}});\n",
       "\n",
       "// Listen for the removal of the full notebook cells\n",
       "var notebookContainer = gd.closest('#notebook-container');\n",
       "if (notebookContainer) {{\n",
       "    x.observe(notebookContainer, {childList: true});\n",
       "}}\n",
       "\n",
       "// Listen for the clearing of the current output cell\n",
       "var outputEl = gd.closest('.output');\n",
       "if (outputEl) {{\n",
       "    x.observe(outputEl, {childList: true});\n",
       "}}\n",
       "\n",
       "                        })                };                });            </script>        </div>"
      ]
     },
     "metadata": {},
     "output_type": "display_data"
    }
   ],
   "source": [
    "search_space = np.logspace(start=0.01,stop=1.0,endpoint=True, base=100, num=8)/100\n",
    "search_space = np.round(search_space,3)\n",
    "display(search_space)\n",
    "px.line(search_space)"
   ]
  },
  {
   "cell_type": "markdown",
   "metadata": {},
   "source": [
    "#### Checking that pycaret's distribution is implemented as expected\n"
   ]
  },
  {
   "cell_type": "code",
   "execution_count": 13,
   "metadata": {},
   "outputs": [],
   "source": [
    "from pycaret.distributions import UniformDistribution\n",
    "\n",
    "new_search_space = UniformDistribution(0.01,1,log=True)\n",
    "search_space_array:np.ndarray = new_search_space.get_base().rvs(size=500)"
   ]
  },
  {
   "cell_type": "markdown",
   "metadata": {},
   "source": [
    "Histogram"
   ]
  },
  {
   "cell_type": "code",
   "execution_count": 4,
   "metadata": {},
   "outputs": [
    {
     "data": {
      "application/vnd.plotly.v1+json": {
       "config": {
        "plotlyServerURL": "https://plot.ly"
       },
       "data": [
        {
         "alignmentgroup": "True",
         "bingroup": "x",
         "hovertemplate": "variable=0<br>value=%{x}<br>count=%{y}<extra></extra>",
         "legendgroup": "0",
         "marker": {
          "color": "#636efa",
          "pattern": {
           "shape": ""
          }
         },
         "name": "0",
         "offsetgroup": "0",
         "orientation": "v",
         "showlegend": true,
         "type": "histogram",
         "x": [
          0.6879972039467595,
          0.6365274123176543,
          0.03573608866384901,
          0.2688407407795604,
          0.02335086248983882,
          0.04531603186349907,
          0.1994470776655488,
          0.09156149879851627,
          0.09572062401871766,
          0.2893161562030541,
          0.31325076915962063,
          0.17482651413985134,
          0.12465919741739391,
          0.11700511107833322,
          0.12745178108403515,
          0.06766963021294257,
          0.014676383082478222,
          0.19515370573309423,
          0.048880322690180375,
          0.03616022797798137,
          0.14352529465732325,
          0.11893284450457638,
          0.041741509502313534,
          0.01474455742526267,
          0.7338187574388088,
          0.08336728985458501,
          0.011390161565499764,
          0.028547902187206386,
          0.5964508170589249,
          0.9290786211303345,
          0.011231138817270144,
          0.02223656422855493,
          0.22912397777981977,
          0.012233120574081512,
          0.03857348327797986,
          0.6217529214620268,
          0.6178936014711043,
          0.3317772883969164,
          0.025400527528565975,
          0.785590766043001,
          0.6435364611919754,
          0.05255112046553254,
          0.03481452705112127,
          0.04486048534236331,
          0.08505163163011972,
          0.8212759951173818,
          0.5741254208825172,
          0.12204820140137132,
          0.2751423078045026,
          0.04147674479500441,
          0.5223002067659508,
          0.7819720391407998,
          0.38812518097195303,
          0.11157207291710233,
          0.027557991324516067,
          0.14698180606740308,
          0.5168965402010592,
          0.9237385500516655,
          0.3670787124601244,
          0.13527077815231583,
          0.17898999530325674,
          0.04791231656558418,
          0.3428205873967509,
          0.04002721751674169,
          0.0237771494493248,
          0.09412937247792705,
          0.013787208802843317,
          0.27888911571031355,
          0.019831657892396153,
          0.0589481323976651,
          0.3022304754283211,
          0.40152166325014343,
          0.2582636612077904,
          0.3553320804205795,
          0.3886379716142296,
          0.15171697451410876,
          0.3647750877121889,
          0.03379715518424025,
          0.4632169844102105,
          0.2683558456449404,
          0.07144112977522384,
          0.030168232881462944,
          0.04397661232951423,
          0.03244688488112042,
          0.16923043353354328,
          0.06830502732665145,
          0.9162236689451818,
          0.03352991303439171,
          0.7565995374813348,
          0.4014755954266163,
          0.2550105397340835,
          0.0547133371706108,
          0.09404662561607971,
          0.03448397642201618,
          0.0497074608967455,
          0.2901823207460716,
          0.015991353829348017,
          0.7387892201483931,
          0.5556922272887367,
          0.023297673455317636,
          0.03439352602152634,
          0.0333458570621923,
          0.14626384769172224,
          0.38425166915954334,
          0.2114022858536949,
          0.015477833832579524,
          0.014319046906498592,
          0.48706165794723133,
          0.8246775402575469,
          0.26180723124291616,
          0.010370308387963783,
          0.021413665391885967,
          0.4589042273083597,
          0.13091242298056616,
          0.3597953375938347,
          0.03865865410465155,
          0.5893035403510024,
          0.01976535328524178,
          0.07652536306125836,
          0.03841420763702679,
          0.03514144651545654,
          0.1891594565975991,
          0.7339063484582632,
          0.13305827832158326,
          0.032302469610287224,
          0.0112461254522332,
          0.6783247476356824,
          0.4016007984264611,
          0.10548275379772172,
          0.11701412322281066,
          0.09263122799091755,
          0.02193911818073552,
          0.2584572758760663,
          0.9513864460787426,
          0.012061410584183543,
          0.1268294907832336,
          0.7807064944821,
          0.0498647547645092,
          0.03443063455803733,
          0.03140102391583828,
          0.5843812553713967,
          0.03254084963260957,
          0.1115182222767767,
          0.5668801546647938,
          0.08413886272842952,
          0.4170956098131967,
          0.05921206358629563,
          0.05032804610512971,
          0.24982482818706636,
          0.029380445720160502,
          0.5737261313967721,
          0.010215600244687909,
          0.0512427249088108,
          0.012226594788239481,
          0.8110949821957029,
          0.018176314609694526,
          0.020751898360418797,
          0.0120755462648214,
          0.23506167408208356,
          0.014656880293375316,
          0.02364866415751379,
          0.1273417477479534,
          0.0943636612815173,
          0.06405397195091926,
          0.36896589151144915,
          0.03469442119256058,
          0.7662165241036768,
          0.0856756068626278,
          0.015019219595895217,
          0.04400081941534653,
          0.030746057451625793,
          0.012494504490476305,
          0.017245425094988144,
          0.02167339614792724,
          0.14294720352530235,
          0.04147598774734842,
          0.2990774849077277,
          0.5686903594800624,
          0.04103847753652165,
          0.29788949730296915,
          0.08191310368034825,
          0.020036580343554513,
          0.7348794211283027,
          0.030461648384630925,
          0.4462000649215601,
          0.0852110883846433,
          0.2828037654802167,
          0.06896592114999561,
          0.1608118226550639,
          0.4284071423610012,
          0.3312860905182105,
          0.033329921461853936,
          0.6298891454324759,
          0.7872511551895646,
          0.05497210065439031,
          0.11394384353273768,
          0.015616418863980948,
          0.1354610742355146,
          0.28099960066723517,
          0.011180963903830908,
          0.04909637620718393,
          0.2009617340718987,
          0.01801794522997377,
          0.01083937295880926,
          0.12831579008682173,
          0.028816903282151807,
          0.10317859705785841,
          0.012120687888884926,
          0.4842409185423492,
          0.348366444646292,
          0.07334271536797365,
          0.013645133306269618,
          0.047001445637217094,
          0.11715713185967705,
          0.34492495359695924,
          0.3436035715584872,
          0.08261073707093713,
          0.09380122854414799,
          0.20612288124012254,
          0.797314274221999,
          0.03727569201808995,
          0.7905941591849404,
          0.39492872242670873,
          0.06724698661781071,
          0.04724416295084637,
          0.19767210744160893,
          0.015096420533016122,
          0.5808990943956621,
          0.30402241917794415,
          0.04835041534354439,
          0.09619931489586232,
          0.015214188064966163,
          0.03562761167003627,
          0.7030461274146927,
          0.06468502779982757,
          0.055264114402479775,
          0.010421634939159905,
          0.3839707301289077,
          0.09153485977255574,
          0.3671797144875212,
          0.01655634569087575,
          0.020349607077777034,
          0.10833064821668542,
          0.12332405202761586,
          0.18854843363124477,
          0.019408750489055864,
          0.08174755857255939,
          0.01572661205505274,
          0.01626251386009922,
          0.648591203394269,
          0.08563267218789672,
          0.7091512333810145,
          0.2831505292286437,
          0.036923519653714744,
          0.7155927418669735,
          0.011567379922184536,
          0.9800040820270379,
          0.13675725890408197,
          0.1709468663778003,
          0.17665933819353957,
          0.04092239720119548,
          0.4291787730483599,
          0.028657561034074394,
          0.07575769534927289,
          0.5190643393554755,
          0.3063002239512633,
          0.6467317322175192,
          0.2061313529881219,
          0.014378635176912362,
          0.29563345395340396,
          0.05630769026176278,
          0.11674362868399968,
          0.05078441088489455,
          0.3588101279852989,
          0.018808336694274917,
          0.050802164925002835,
          0.014135983467718424,
          0.0421891480625569,
          0.08465098704029281,
          0.10447802932057469,
          0.011121983867436607,
          0.4382138859308776,
          0.8878144111440418,
          0.01318663153786662,
          0.11076778933214985,
          0.9844152329635231,
          0.19769934431571606,
          0.17267473263655744,
          0.1353639027283422,
          0.9079737810676436,
          0.011413320939799203,
          0.08154841270921148,
          0.018706051008143227,
          0.08024612062627931,
          0.3669760313593243,
          0.0999719401214992,
          0.3572437596807101,
          0.016314889281294685,
          0.34683849817498774,
          0.20028682822237287,
          0.011434607173888315,
          0.254211922964642,
          0.3097031112079538,
          0.28170416938870857,
          0.16047241443649618,
          0.1164694359297342,
          0.013419539774177003,
          0.15168183074109312,
          0.03933650439225632,
          0.2765928514005165,
          0.06196313070781883,
          0.09959328046113142,
          0.20423731270985584,
          0.07128738061177639,
          0.1397136172412057,
          0.7470169210891962,
          0.12635995231077046,
          0.09909976406455837,
          0.06901585499246951,
          0.13109613838118025,
          0.08483646063913045,
          0.0117491621326006,
          0.10889991094423293,
          0.026763173096114035,
          0.5475197389520176,
          0.14558752016770404,
          0.15624610326182836,
          0.016307037462081966,
          0.5672044846603606,
          0.06768223024393163,
          0.7143299207938424,
          0.2338058763101226,
          0.038769491318778264,
          0.04440752327132905,
          0.010526628581673312,
          0.9029139161926092,
          0.3778354802539691,
          0.03315499934916895,
          0.04886448011265647,
          0.14129458830356453,
          0.09023097306202942,
          0.011321686903126104,
          0.021307583883104667,
          0.04759114077142591,
          0.024481368583693076,
          0.1912134246311453,
          0.135001630062033,
          0.06714876952889705,
          0.4144272025539803,
          0.9613297017325578,
          0.016692660205192306,
          0.016602763586759224,
          0.1245316541298026,
          0.02155625002085626,
          0.5302771545943693,
          0.12444206635682332,
          0.6475493887602707,
          0.011795311790422454,
          0.059944417767382074,
          0.1766219512505402,
          0.013858507432198061,
          0.043986621061524234,
          0.02203406494265163,
          0.4369134463237257,
          0.034807938956867325,
          0.0903368495394134,
          0.011609645433411647,
          0.022955265665405854,
          0.03844451896879674,
          0.354566832389819,
          0.0493203993446183,
          0.3023872011333025,
          0.1234899368823074,
          0.3619963782452282,
          0.03364609733474508,
          0.16246398697632344,
          0.4033791664185156,
          0.5731792596132579,
          0.055941948452952604,
          0.03463883948898376,
          0.4087391830853534,
          0.1687476253619923,
          0.03349299177181563,
          0.10790519737563446,
          0.11973696116796072,
          0.10946227806454197,
          0.2635755618363805,
          0.013122677919319838,
          0.024280656480361925,
          0.015287222534288507,
          0.04912644666735466,
          0.39970116758396024,
          0.8990477835010845,
          0.24213600343688185,
          0.02392447633982864,
          0.016505504934927858,
          0.13102003340901303,
          0.01541282994857767,
          0.014697289572060958,
          0.03572538906961006,
          0.02824862539510489,
          0.015257962737506289,
          0.1476869126940638,
          0.0594097933082508,
          0.09250181671292897,
          0.29688106981846196,
          0.011692211757218872,
          0.07542065226825136,
          0.18119174008425737,
          0.011010806138601732,
          0.032732625278623584,
          0.2094666931359732,
          0.8791843061263793,
          0.028112920740547175,
          0.036642558464107876,
          0.039545612532887145,
          0.02317503989707023,
          0.01880845230236825,
          0.24930248354731735,
          0.4656702838494166,
          0.5620598623243047,
          0.11931780895023514,
          0.1298568740517257,
          0.028669157558681206,
          0.04818812786557885,
          0.595246659742182,
          0.34945709912278533,
          0.020418647112294633,
          0.02518845746549417,
          0.362020307192497,
          0.017775984788873073,
          0.9799173415303837,
          0.026775784960028255,
          0.011177011132295146,
          0.023088292713287488,
          0.015040224389299854,
          0.012126822267181914,
          0.29391785884202815,
          0.12138988405771681,
          0.014728303290843334,
          0.33919585102983246,
          0.7046766068205405,
          0.811295222050836,
          0.4193032723454531,
          0.02506088811130631,
          0.11322039290661812,
          0.17679201416394605,
          0.045168086729191835,
          0.7205192917544381,
          0.027548847795748142,
          0.18079457349107117,
          0.056421353918796976,
          0.014018739221593548,
          0.03952651496642322,
          0.7921889148340175,
          0.01282636135568697,
          0.07163919871899914,
          0.01162152928319486,
          0.07151791652401294,
          0.08283029782459496,
          0.15617995164922233,
          0.2302455834756918,
          0.04957777915017538,
          0.4439755383904245,
          0.09724977004076259,
          0.026841226097481005,
          0.15903918339542017,
          0.08560597219454856,
          0.3430037410816355,
          0.12580399445238238,
          0.1821215931366931,
          0.3832254465613586,
          0.41200160589219315,
          0.10772443842046359,
          0.053551712161585316,
          0.0930246792935995,
          0.026413532080408635,
          0.010848928702546447,
          0.6964083815166803,
          0.6263641289328752,
          0.057096808929942594,
          0.02628835790723741,
          0.43296476796089556,
          0.2172795904272297,
          0.1153005835549183,
          0.2639858317653327,
          0.574750414382644,
          0.12962188150586804,
          0.01964692392525119,
          0.029649332214373443,
          0.07041841652298197,
          0.05490567197455435,
          0.16262279301540816,
          0.035135426042323795,
          0.0262952448954914,
          0.07188405932605402,
          0.025830009310787744,
          0.025281870195131177,
          0.1715463637193759,
          0.049178133440503105
         ],
         "xaxis": "x",
         "yaxis": "y"
        }
       ],
       "layout": {
        "barmode": "relative",
        "legend": {
         "title": {
          "text": "variable"
         },
         "tracegroupgap": 0
        },
        "margin": {
         "t": 60
        },
        "template": {
         "data": {
          "bar": [
           {
            "error_x": {
             "color": "#2a3f5f"
            },
            "error_y": {
             "color": "#2a3f5f"
            },
            "marker": {
             "line": {
              "color": "#E5ECF6",
              "width": 0.5
             },
             "pattern": {
              "fillmode": "overlay",
              "size": 10,
              "solidity": 0.2
             }
            },
            "type": "bar"
           }
          ],
          "barpolar": [
           {
            "marker": {
             "line": {
              "color": "#E5ECF6",
              "width": 0.5
             },
             "pattern": {
              "fillmode": "overlay",
              "size": 10,
              "solidity": 0.2
             }
            },
            "type": "barpolar"
           }
          ],
          "carpet": [
           {
            "aaxis": {
             "endlinecolor": "#2a3f5f",
             "gridcolor": "white",
             "linecolor": "white",
             "minorgridcolor": "white",
             "startlinecolor": "#2a3f5f"
            },
            "baxis": {
             "endlinecolor": "#2a3f5f",
             "gridcolor": "white",
             "linecolor": "white",
             "minorgridcolor": "white",
             "startlinecolor": "#2a3f5f"
            },
            "type": "carpet"
           }
          ],
          "choropleth": [
           {
            "colorbar": {
             "outlinewidth": 0,
             "ticks": ""
            },
            "type": "choropleth"
           }
          ],
          "contour": [
           {
            "colorbar": {
             "outlinewidth": 0,
             "ticks": ""
            },
            "colorscale": [
             [
              0,
              "#0d0887"
             ],
             [
              0.1111111111111111,
              "#46039f"
             ],
             [
              0.2222222222222222,
              "#7201a8"
             ],
             [
              0.3333333333333333,
              "#9c179e"
             ],
             [
              0.4444444444444444,
              "#bd3786"
             ],
             [
              0.5555555555555556,
              "#d8576b"
             ],
             [
              0.6666666666666666,
              "#ed7953"
             ],
             [
              0.7777777777777778,
              "#fb9f3a"
             ],
             [
              0.8888888888888888,
              "#fdca26"
             ],
             [
              1,
              "#f0f921"
             ]
            ],
            "type": "contour"
           }
          ],
          "contourcarpet": [
           {
            "colorbar": {
             "outlinewidth": 0,
             "ticks": ""
            },
            "type": "contourcarpet"
           }
          ],
          "heatmap": [
           {
            "colorbar": {
             "outlinewidth": 0,
             "ticks": ""
            },
            "colorscale": [
             [
              0,
              "#0d0887"
             ],
             [
              0.1111111111111111,
              "#46039f"
             ],
             [
              0.2222222222222222,
              "#7201a8"
             ],
             [
              0.3333333333333333,
              "#9c179e"
             ],
             [
              0.4444444444444444,
              "#bd3786"
             ],
             [
              0.5555555555555556,
              "#d8576b"
             ],
             [
              0.6666666666666666,
              "#ed7953"
             ],
             [
              0.7777777777777778,
              "#fb9f3a"
             ],
             [
              0.8888888888888888,
              "#fdca26"
             ],
             [
              1,
              "#f0f921"
             ]
            ],
            "type": "heatmap"
           }
          ],
          "heatmapgl": [
           {
            "colorbar": {
             "outlinewidth": 0,
             "ticks": ""
            },
            "colorscale": [
             [
              0,
              "#0d0887"
             ],
             [
              0.1111111111111111,
              "#46039f"
             ],
             [
              0.2222222222222222,
              "#7201a8"
             ],
             [
              0.3333333333333333,
              "#9c179e"
             ],
             [
              0.4444444444444444,
              "#bd3786"
             ],
             [
              0.5555555555555556,
              "#d8576b"
             ],
             [
              0.6666666666666666,
              "#ed7953"
             ],
             [
              0.7777777777777778,
              "#fb9f3a"
             ],
             [
              0.8888888888888888,
              "#fdca26"
             ],
             [
              1,
              "#f0f921"
             ]
            ],
            "type": "heatmapgl"
           }
          ],
          "histogram": [
           {
            "marker": {
             "pattern": {
              "fillmode": "overlay",
              "size": 10,
              "solidity": 0.2
             }
            },
            "type": "histogram"
           }
          ],
          "histogram2d": [
           {
            "colorbar": {
             "outlinewidth": 0,
             "ticks": ""
            },
            "colorscale": [
             [
              0,
              "#0d0887"
             ],
             [
              0.1111111111111111,
              "#46039f"
             ],
             [
              0.2222222222222222,
              "#7201a8"
             ],
             [
              0.3333333333333333,
              "#9c179e"
             ],
             [
              0.4444444444444444,
              "#bd3786"
             ],
             [
              0.5555555555555556,
              "#d8576b"
             ],
             [
              0.6666666666666666,
              "#ed7953"
             ],
             [
              0.7777777777777778,
              "#fb9f3a"
             ],
             [
              0.8888888888888888,
              "#fdca26"
             ],
             [
              1,
              "#f0f921"
             ]
            ],
            "type": "histogram2d"
           }
          ],
          "histogram2dcontour": [
           {
            "colorbar": {
             "outlinewidth": 0,
             "ticks": ""
            },
            "colorscale": [
             [
              0,
              "#0d0887"
             ],
             [
              0.1111111111111111,
              "#46039f"
             ],
             [
              0.2222222222222222,
              "#7201a8"
             ],
             [
              0.3333333333333333,
              "#9c179e"
             ],
             [
              0.4444444444444444,
              "#bd3786"
             ],
             [
              0.5555555555555556,
              "#d8576b"
             ],
             [
              0.6666666666666666,
              "#ed7953"
             ],
             [
              0.7777777777777778,
              "#fb9f3a"
             ],
             [
              0.8888888888888888,
              "#fdca26"
             ],
             [
              1,
              "#f0f921"
             ]
            ],
            "type": "histogram2dcontour"
           }
          ],
          "mesh3d": [
           {
            "colorbar": {
             "outlinewidth": 0,
             "ticks": ""
            },
            "type": "mesh3d"
           }
          ],
          "parcoords": [
           {
            "line": {
             "colorbar": {
              "outlinewidth": 0,
              "ticks": ""
             }
            },
            "type": "parcoords"
           }
          ],
          "pie": [
           {
            "automargin": true,
            "type": "pie"
           }
          ],
          "scatter": [
           {
            "marker": {
             "colorbar": {
              "outlinewidth": 0,
              "ticks": ""
             }
            },
            "type": "scatter"
           }
          ],
          "scatter3d": [
           {
            "line": {
             "colorbar": {
              "outlinewidth": 0,
              "ticks": ""
             }
            },
            "marker": {
             "colorbar": {
              "outlinewidth": 0,
              "ticks": ""
             }
            },
            "type": "scatter3d"
           }
          ],
          "scattercarpet": [
           {
            "marker": {
             "colorbar": {
              "outlinewidth": 0,
              "ticks": ""
             }
            },
            "type": "scattercarpet"
           }
          ],
          "scattergeo": [
           {
            "marker": {
             "colorbar": {
              "outlinewidth": 0,
              "ticks": ""
             }
            },
            "type": "scattergeo"
           }
          ],
          "scattergl": [
           {
            "marker": {
             "colorbar": {
              "outlinewidth": 0,
              "ticks": ""
             }
            },
            "type": "scattergl"
           }
          ],
          "scattermapbox": [
           {
            "marker": {
             "colorbar": {
              "outlinewidth": 0,
              "ticks": ""
             }
            },
            "type": "scattermapbox"
           }
          ],
          "scatterpolar": [
           {
            "marker": {
             "colorbar": {
              "outlinewidth": 0,
              "ticks": ""
             }
            },
            "type": "scatterpolar"
           }
          ],
          "scatterpolargl": [
           {
            "marker": {
             "colorbar": {
              "outlinewidth": 0,
              "ticks": ""
             }
            },
            "type": "scatterpolargl"
           }
          ],
          "scatterternary": [
           {
            "marker": {
             "colorbar": {
              "outlinewidth": 0,
              "ticks": ""
             }
            },
            "type": "scatterternary"
           }
          ],
          "surface": [
           {
            "colorbar": {
             "outlinewidth": 0,
             "ticks": ""
            },
            "colorscale": [
             [
              0,
              "#0d0887"
             ],
             [
              0.1111111111111111,
              "#46039f"
             ],
             [
              0.2222222222222222,
              "#7201a8"
             ],
             [
              0.3333333333333333,
              "#9c179e"
             ],
             [
              0.4444444444444444,
              "#bd3786"
             ],
             [
              0.5555555555555556,
              "#d8576b"
             ],
             [
              0.6666666666666666,
              "#ed7953"
             ],
             [
              0.7777777777777778,
              "#fb9f3a"
             ],
             [
              0.8888888888888888,
              "#fdca26"
             ],
             [
              1,
              "#f0f921"
             ]
            ],
            "type": "surface"
           }
          ],
          "table": [
           {
            "cells": {
             "fill": {
              "color": "#EBF0F8"
             },
             "line": {
              "color": "white"
             }
            },
            "header": {
             "fill": {
              "color": "#C8D4E3"
             },
             "line": {
              "color": "white"
             }
            },
            "type": "table"
           }
          ]
         },
         "layout": {
          "annotationdefaults": {
           "arrowcolor": "#2a3f5f",
           "arrowhead": 0,
           "arrowwidth": 1
          },
          "autotypenumbers": "strict",
          "coloraxis": {
           "colorbar": {
            "outlinewidth": 0,
            "ticks": ""
           }
          },
          "colorscale": {
           "diverging": [
            [
             0,
             "#8e0152"
            ],
            [
             0.1,
             "#c51b7d"
            ],
            [
             0.2,
             "#de77ae"
            ],
            [
             0.3,
             "#f1b6da"
            ],
            [
             0.4,
             "#fde0ef"
            ],
            [
             0.5,
             "#f7f7f7"
            ],
            [
             0.6,
             "#e6f5d0"
            ],
            [
             0.7,
             "#b8e186"
            ],
            [
             0.8,
             "#7fbc41"
            ],
            [
             0.9,
             "#4d9221"
            ],
            [
             1,
             "#276419"
            ]
           ],
           "sequential": [
            [
             0,
             "#0d0887"
            ],
            [
             0.1111111111111111,
             "#46039f"
            ],
            [
             0.2222222222222222,
             "#7201a8"
            ],
            [
             0.3333333333333333,
             "#9c179e"
            ],
            [
             0.4444444444444444,
             "#bd3786"
            ],
            [
             0.5555555555555556,
             "#d8576b"
            ],
            [
             0.6666666666666666,
             "#ed7953"
            ],
            [
             0.7777777777777778,
             "#fb9f3a"
            ],
            [
             0.8888888888888888,
             "#fdca26"
            ],
            [
             1,
             "#f0f921"
            ]
           ],
           "sequentialminus": [
            [
             0,
             "#0d0887"
            ],
            [
             0.1111111111111111,
             "#46039f"
            ],
            [
             0.2222222222222222,
             "#7201a8"
            ],
            [
             0.3333333333333333,
             "#9c179e"
            ],
            [
             0.4444444444444444,
             "#bd3786"
            ],
            [
             0.5555555555555556,
             "#d8576b"
            ],
            [
             0.6666666666666666,
             "#ed7953"
            ],
            [
             0.7777777777777778,
             "#fb9f3a"
            ],
            [
             0.8888888888888888,
             "#fdca26"
            ],
            [
             1,
             "#f0f921"
            ]
           ]
          },
          "colorway": [
           "#636efa",
           "#EF553B",
           "#00cc96",
           "#ab63fa",
           "#FFA15A",
           "#19d3f3",
           "#FF6692",
           "#B6E880",
           "#FF97FF",
           "#FECB52"
          ],
          "font": {
           "color": "#2a3f5f"
          },
          "geo": {
           "bgcolor": "white",
           "lakecolor": "white",
           "landcolor": "#E5ECF6",
           "showlakes": true,
           "showland": true,
           "subunitcolor": "white"
          },
          "hoverlabel": {
           "align": "left"
          },
          "hovermode": "closest",
          "mapbox": {
           "style": "light"
          },
          "paper_bgcolor": "white",
          "plot_bgcolor": "#E5ECF6",
          "polar": {
           "angularaxis": {
            "gridcolor": "white",
            "linecolor": "white",
            "ticks": ""
           },
           "bgcolor": "#E5ECF6",
           "radialaxis": {
            "gridcolor": "white",
            "linecolor": "white",
            "ticks": ""
           }
          },
          "scene": {
           "xaxis": {
            "backgroundcolor": "#E5ECF6",
            "gridcolor": "white",
            "gridwidth": 2,
            "linecolor": "white",
            "showbackground": true,
            "ticks": "",
            "zerolinecolor": "white"
           },
           "yaxis": {
            "backgroundcolor": "#E5ECF6",
            "gridcolor": "white",
            "gridwidth": 2,
            "linecolor": "white",
            "showbackground": true,
            "ticks": "",
            "zerolinecolor": "white"
           },
           "zaxis": {
            "backgroundcolor": "#E5ECF6",
            "gridcolor": "white",
            "gridwidth": 2,
            "linecolor": "white",
            "showbackground": true,
            "ticks": "",
            "zerolinecolor": "white"
           }
          },
          "shapedefaults": {
           "line": {
            "color": "#2a3f5f"
           }
          },
          "ternary": {
           "aaxis": {
            "gridcolor": "white",
            "linecolor": "white",
            "ticks": ""
           },
           "baxis": {
            "gridcolor": "white",
            "linecolor": "white",
            "ticks": ""
           },
           "bgcolor": "#E5ECF6",
           "caxis": {
            "gridcolor": "white",
            "linecolor": "white",
            "ticks": ""
           }
          },
          "title": {
           "x": 0.05
          },
          "xaxis": {
           "automargin": true,
           "gridcolor": "white",
           "linecolor": "white",
           "ticks": "",
           "title": {
            "standoff": 15
           },
           "zerolinecolor": "white",
           "zerolinewidth": 2
          },
          "yaxis": {
           "automargin": true,
           "gridcolor": "white",
           "linecolor": "white",
           "ticks": "",
           "title": {
            "standoff": 15
           },
           "zerolinecolor": "white",
           "zerolinewidth": 2
          }
         }
        },
        "xaxis": {
         "anchor": "y",
         "domain": [
          0,
          1
         ],
         "title": {
          "text": "value"
         }
        },
        "yaxis": {
         "anchor": "x",
         "domain": [
          0,
          1
         ],
         "title": {
          "text": "count"
         }
        }
       }
      },
      "text/html": [
       "<div>                            <div id=\"bb518e8a-5a96-4148-b80d-b5ff2b54e070\" class=\"plotly-graph-div\" style=\"height:525px; width:100%;\"></div>            <script type=\"text/javascript\">                require([\"plotly\"], function(Plotly) {                    window.PLOTLYENV=window.PLOTLYENV || {};                                    if (document.getElementById(\"bb518e8a-5a96-4148-b80d-b5ff2b54e070\")) {                    Plotly.newPlot(                        \"bb518e8a-5a96-4148-b80d-b5ff2b54e070\",                        [{\"alignmentgroup\":\"True\",\"bingroup\":\"x\",\"hovertemplate\":\"variable=0<br>value=%{x}<br>count=%{y}<extra></extra>\",\"legendgroup\":\"0\",\"marker\":{\"color\":\"#636efa\",\"pattern\":{\"shape\":\"\"}},\"name\":\"0\",\"offsetgroup\":\"0\",\"orientation\":\"v\",\"showlegend\":true,\"x\":[0.6879972039467595,0.6365274123176543,0.03573608866384901,0.2688407407795604,0.02335086248983882,0.04531603186349907,0.1994470776655488,0.09156149879851627,0.09572062401871766,0.2893161562030541,0.31325076915962063,0.17482651413985134,0.12465919741739391,0.11700511107833322,0.12745178108403515,0.06766963021294257,0.014676383082478222,0.19515370573309423,0.048880322690180375,0.03616022797798137,0.14352529465732325,0.11893284450457638,0.041741509502313534,0.01474455742526267,0.7338187574388088,0.08336728985458501,0.011390161565499764,0.028547902187206386,0.5964508170589249,0.9290786211303345,0.011231138817270144,0.02223656422855493,0.22912397777981977,0.012233120574081512,0.03857348327797986,0.6217529214620268,0.6178936014711043,0.3317772883969164,0.025400527528565975,0.785590766043001,0.6435364611919754,0.05255112046553254,0.03481452705112127,0.04486048534236331,0.08505163163011972,0.8212759951173818,0.5741254208825172,0.12204820140137132,0.2751423078045026,0.04147674479500441,0.5223002067659508,0.7819720391407998,0.38812518097195303,0.11157207291710233,0.027557991324516067,0.14698180606740308,0.5168965402010592,0.9237385500516655,0.3670787124601244,0.13527077815231583,0.17898999530325674,0.04791231656558418,0.3428205873967509,0.04002721751674169,0.0237771494493248,0.09412937247792705,0.013787208802843317,0.27888911571031355,0.019831657892396153,0.0589481323976651,0.3022304754283211,0.40152166325014343,0.2582636612077904,0.3553320804205795,0.3886379716142296,0.15171697451410876,0.3647750877121889,0.03379715518424025,0.4632169844102105,0.2683558456449404,0.07144112977522384,0.030168232881462944,0.04397661232951423,0.03244688488112042,0.16923043353354328,0.06830502732665145,0.9162236689451818,0.03352991303439171,0.7565995374813348,0.4014755954266163,0.2550105397340835,0.0547133371706108,0.09404662561607971,0.03448397642201618,0.0497074608967455,0.2901823207460716,0.015991353829348017,0.7387892201483931,0.5556922272887367,0.023297673455317636,0.03439352602152634,0.0333458570621923,0.14626384769172224,0.38425166915954334,0.2114022858536949,0.015477833832579524,0.014319046906498592,0.48706165794723133,0.8246775402575469,0.26180723124291616,0.010370308387963783,0.021413665391885967,0.4589042273083597,0.13091242298056616,0.3597953375938347,0.03865865410465155,0.5893035403510024,0.01976535328524178,0.07652536306125836,0.03841420763702679,0.03514144651545654,0.1891594565975991,0.7339063484582632,0.13305827832158326,0.032302469610287224,0.0112461254522332,0.6783247476356824,0.4016007984264611,0.10548275379772172,0.11701412322281066,0.09263122799091755,0.02193911818073552,0.2584572758760663,0.9513864460787426,0.012061410584183543,0.1268294907832336,0.7807064944821,0.0498647547645092,0.03443063455803733,0.03140102391583828,0.5843812553713967,0.03254084963260957,0.1115182222767767,0.5668801546647938,0.08413886272842952,0.4170956098131967,0.05921206358629563,0.05032804610512971,0.24982482818706636,0.029380445720160502,0.5737261313967721,0.010215600244687909,0.0512427249088108,0.012226594788239481,0.8110949821957029,0.018176314609694526,0.020751898360418797,0.0120755462648214,0.23506167408208356,0.014656880293375316,0.02364866415751379,0.1273417477479534,0.0943636612815173,0.06405397195091926,0.36896589151144915,0.03469442119256058,0.7662165241036768,0.0856756068626278,0.015019219595895217,0.04400081941534653,0.030746057451625793,0.012494504490476305,0.017245425094988144,0.02167339614792724,0.14294720352530235,0.04147598774734842,0.2990774849077277,0.5686903594800624,0.04103847753652165,0.29788949730296915,0.08191310368034825,0.020036580343554513,0.7348794211283027,0.030461648384630925,0.4462000649215601,0.0852110883846433,0.2828037654802167,0.06896592114999561,0.1608118226550639,0.4284071423610012,0.3312860905182105,0.033329921461853936,0.6298891454324759,0.7872511551895646,0.05497210065439031,0.11394384353273768,0.015616418863980948,0.1354610742355146,0.28099960066723517,0.011180963903830908,0.04909637620718393,0.2009617340718987,0.01801794522997377,0.01083937295880926,0.12831579008682173,0.028816903282151807,0.10317859705785841,0.012120687888884926,0.4842409185423492,0.348366444646292,0.07334271536797365,0.013645133306269618,0.047001445637217094,0.11715713185967705,0.34492495359695924,0.3436035715584872,0.08261073707093713,0.09380122854414799,0.20612288124012254,0.797314274221999,0.03727569201808995,0.7905941591849404,0.39492872242670873,0.06724698661781071,0.04724416295084637,0.19767210744160893,0.015096420533016122,0.5808990943956621,0.30402241917794415,0.04835041534354439,0.09619931489586232,0.015214188064966163,0.03562761167003627,0.7030461274146927,0.06468502779982757,0.055264114402479775,0.010421634939159905,0.3839707301289077,0.09153485977255574,0.3671797144875212,0.01655634569087575,0.020349607077777034,0.10833064821668542,0.12332405202761586,0.18854843363124477,0.019408750489055864,0.08174755857255939,0.01572661205505274,0.01626251386009922,0.648591203394269,0.08563267218789672,0.7091512333810145,0.2831505292286437,0.036923519653714744,0.7155927418669735,0.011567379922184536,0.9800040820270379,0.13675725890408197,0.1709468663778003,0.17665933819353957,0.04092239720119548,0.4291787730483599,0.028657561034074394,0.07575769534927289,0.5190643393554755,0.3063002239512633,0.6467317322175192,0.2061313529881219,0.014378635176912362,0.29563345395340396,0.05630769026176278,0.11674362868399968,0.05078441088489455,0.3588101279852989,0.018808336694274917,0.050802164925002835,0.014135983467718424,0.0421891480625569,0.08465098704029281,0.10447802932057469,0.011121983867436607,0.4382138859308776,0.8878144111440418,0.01318663153786662,0.11076778933214985,0.9844152329635231,0.19769934431571606,0.17267473263655744,0.1353639027283422,0.9079737810676436,0.011413320939799203,0.08154841270921148,0.018706051008143227,0.08024612062627931,0.3669760313593243,0.0999719401214992,0.3572437596807101,0.016314889281294685,0.34683849817498774,0.20028682822237287,0.011434607173888315,0.254211922964642,0.3097031112079538,0.28170416938870857,0.16047241443649618,0.1164694359297342,0.013419539774177003,0.15168183074109312,0.03933650439225632,0.2765928514005165,0.06196313070781883,0.09959328046113142,0.20423731270985584,0.07128738061177639,0.1397136172412057,0.7470169210891962,0.12635995231077046,0.09909976406455837,0.06901585499246951,0.13109613838118025,0.08483646063913045,0.0117491621326006,0.10889991094423293,0.026763173096114035,0.5475197389520176,0.14558752016770404,0.15624610326182836,0.016307037462081966,0.5672044846603606,0.06768223024393163,0.7143299207938424,0.2338058763101226,0.038769491318778264,0.04440752327132905,0.010526628581673312,0.9029139161926092,0.3778354802539691,0.03315499934916895,0.04886448011265647,0.14129458830356453,0.09023097306202942,0.011321686903126104,0.021307583883104667,0.04759114077142591,0.024481368583693076,0.1912134246311453,0.135001630062033,0.06714876952889705,0.4144272025539803,0.9613297017325578,0.016692660205192306,0.016602763586759224,0.1245316541298026,0.02155625002085626,0.5302771545943693,0.12444206635682332,0.6475493887602707,0.011795311790422454,0.059944417767382074,0.1766219512505402,0.013858507432198061,0.043986621061524234,0.02203406494265163,0.4369134463237257,0.034807938956867325,0.0903368495394134,0.011609645433411647,0.022955265665405854,0.03844451896879674,0.354566832389819,0.0493203993446183,0.3023872011333025,0.1234899368823074,0.3619963782452282,0.03364609733474508,0.16246398697632344,0.4033791664185156,0.5731792596132579,0.055941948452952604,0.03463883948898376,0.4087391830853534,0.1687476253619923,0.03349299177181563,0.10790519737563446,0.11973696116796072,0.10946227806454197,0.2635755618363805,0.013122677919319838,0.024280656480361925,0.015287222534288507,0.04912644666735466,0.39970116758396024,0.8990477835010845,0.24213600343688185,0.02392447633982864,0.016505504934927858,0.13102003340901303,0.01541282994857767,0.014697289572060958,0.03572538906961006,0.02824862539510489,0.015257962737506289,0.1476869126940638,0.0594097933082508,0.09250181671292897,0.29688106981846196,0.011692211757218872,0.07542065226825136,0.18119174008425737,0.011010806138601732,0.032732625278623584,0.2094666931359732,0.8791843061263793,0.028112920740547175,0.036642558464107876,0.039545612532887145,0.02317503989707023,0.01880845230236825,0.24930248354731735,0.4656702838494166,0.5620598623243047,0.11931780895023514,0.1298568740517257,0.028669157558681206,0.04818812786557885,0.595246659742182,0.34945709912278533,0.020418647112294633,0.02518845746549417,0.362020307192497,0.017775984788873073,0.9799173415303837,0.026775784960028255,0.011177011132295146,0.023088292713287488,0.015040224389299854,0.012126822267181914,0.29391785884202815,0.12138988405771681,0.014728303290843334,0.33919585102983246,0.7046766068205405,0.811295222050836,0.4193032723454531,0.02506088811130631,0.11322039290661812,0.17679201416394605,0.045168086729191835,0.7205192917544381,0.027548847795748142,0.18079457349107117,0.056421353918796976,0.014018739221593548,0.03952651496642322,0.7921889148340175,0.01282636135568697,0.07163919871899914,0.01162152928319486,0.07151791652401294,0.08283029782459496,0.15617995164922233,0.2302455834756918,0.04957777915017538,0.4439755383904245,0.09724977004076259,0.026841226097481005,0.15903918339542017,0.08560597219454856,0.3430037410816355,0.12580399445238238,0.1821215931366931,0.3832254465613586,0.41200160589219315,0.10772443842046359,0.053551712161585316,0.0930246792935995,0.026413532080408635,0.010848928702546447,0.6964083815166803,0.6263641289328752,0.057096808929942594,0.02628835790723741,0.43296476796089556,0.2172795904272297,0.1153005835549183,0.2639858317653327,0.574750414382644,0.12962188150586804,0.01964692392525119,0.029649332214373443,0.07041841652298197,0.05490567197455435,0.16262279301540816,0.035135426042323795,0.0262952448954914,0.07188405932605402,0.025830009310787744,0.025281870195131177,0.1715463637193759,0.049178133440503105],\"xaxis\":\"x\",\"yaxis\":\"y\",\"type\":\"histogram\"}],                        {\"template\":{\"data\":{\"bar\":[{\"error_x\":{\"color\":\"#2a3f5f\"},\"error_y\":{\"color\":\"#2a3f5f\"},\"marker\":{\"line\":{\"color\":\"#E5ECF6\",\"width\":0.5},\"pattern\":{\"fillmode\":\"overlay\",\"size\":10,\"solidity\":0.2}},\"type\":\"bar\"}],\"barpolar\":[{\"marker\":{\"line\":{\"color\":\"#E5ECF6\",\"width\":0.5},\"pattern\":{\"fillmode\":\"overlay\",\"size\":10,\"solidity\":0.2}},\"type\":\"barpolar\"}],\"carpet\":[{\"aaxis\":{\"endlinecolor\":\"#2a3f5f\",\"gridcolor\":\"white\",\"linecolor\":\"white\",\"minorgridcolor\":\"white\",\"startlinecolor\":\"#2a3f5f\"},\"baxis\":{\"endlinecolor\":\"#2a3f5f\",\"gridcolor\":\"white\",\"linecolor\":\"white\",\"minorgridcolor\":\"white\",\"startlinecolor\":\"#2a3f5f\"},\"type\":\"carpet\"}],\"choropleth\":[{\"colorbar\":{\"outlinewidth\":0,\"ticks\":\"\"},\"type\":\"choropleth\"}],\"contour\":[{\"colorbar\":{\"outlinewidth\":0,\"ticks\":\"\"},\"colorscale\":[[0.0,\"#0d0887\"],[0.1111111111111111,\"#46039f\"],[0.2222222222222222,\"#7201a8\"],[0.3333333333333333,\"#9c179e\"],[0.4444444444444444,\"#bd3786\"],[0.5555555555555556,\"#d8576b\"],[0.6666666666666666,\"#ed7953\"],[0.7777777777777778,\"#fb9f3a\"],[0.8888888888888888,\"#fdca26\"],[1.0,\"#f0f921\"]],\"type\":\"contour\"}],\"contourcarpet\":[{\"colorbar\":{\"outlinewidth\":0,\"ticks\":\"\"},\"type\":\"contourcarpet\"}],\"heatmap\":[{\"colorbar\":{\"outlinewidth\":0,\"ticks\":\"\"},\"colorscale\":[[0.0,\"#0d0887\"],[0.1111111111111111,\"#46039f\"],[0.2222222222222222,\"#7201a8\"],[0.3333333333333333,\"#9c179e\"],[0.4444444444444444,\"#bd3786\"],[0.5555555555555556,\"#d8576b\"],[0.6666666666666666,\"#ed7953\"],[0.7777777777777778,\"#fb9f3a\"],[0.8888888888888888,\"#fdca26\"],[1.0,\"#f0f921\"]],\"type\":\"heatmap\"}],\"heatmapgl\":[{\"colorbar\":{\"outlinewidth\":0,\"ticks\":\"\"},\"colorscale\":[[0.0,\"#0d0887\"],[0.1111111111111111,\"#46039f\"],[0.2222222222222222,\"#7201a8\"],[0.3333333333333333,\"#9c179e\"],[0.4444444444444444,\"#bd3786\"],[0.5555555555555556,\"#d8576b\"],[0.6666666666666666,\"#ed7953\"],[0.7777777777777778,\"#fb9f3a\"],[0.8888888888888888,\"#fdca26\"],[1.0,\"#f0f921\"]],\"type\":\"heatmapgl\"}],\"histogram\":[{\"marker\":{\"pattern\":{\"fillmode\":\"overlay\",\"size\":10,\"solidity\":0.2}},\"type\":\"histogram\"}],\"histogram2d\":[{\"colorbar\":{\"outlinewidth\":0,\"ticks\":\"\"},\"colorscale\":[[0.0,\"#0d0887\"],[0.1111111111111111,\"#46039f\"],[0.2222222222222222,\"#7201a8\"],[0.3333333333333333,\"#9c179e\"],[0.4444444444444444,\"#bd3786\"],[0.5555555555555556,\"#d8576b\"],[0.6666666666666666,\"#ed7953\"],[0.7777777777777778,\"#fb9f3a\"],[0.8888888888888888,\"#fdca26\"],[1.0,\"#f0f921\"]],\"type\":\"histogram2d\"}],\"histogram2dcontour\":[{\"colorbar\":{\"outlinewidth\":0,\"ticks\":\"\"},\"colorscale\":[[0.0,\"#0d0887\"],[0.1111111111111111,\"#46039f\"],[0.2222222222222222,\"#7201a8\"],[0.3333333333333333,\"#9c179e\"],[0.4444444444444444,\"#bd3786\"],[0.5555555555555556,\"#d8576b\"],[0.6666666666666666,\"#ed7953\"],[0.7777777777777778,\"#fb9f3a\"],[0.8888888888888888,\"#fdca26\"],[1.0,\"#f0f921\"]],\"type\":\"histogram2dcontour\"}],\"mesh3d\":[{\"colorbar\":{\"outlinewidth\":0,\"ticks\":\"\"},\"type\":\"mesh3d\"}],\"parcoords\":[{\"line\":{\"colorbar\":{\"outlinewidth\":0,\"ticks\":\"\"}},\"type\":\"parcoords\"}],\"pie\":[{\"automargin\":true,\"type\":\"pie\"}],\"scatter\":[{\"marker\":{\"colorbar\":{\"outlinewidth\":0,\"ticks\":\"\"}},\"type\":\"scatter\"}],\"scatter3d\":[{\"line\":{\"colorbar\":{\"outlinewidth\":0,\"ticks\":\"\"}},\"marker\":{\"colorbar\":{\"outlinewidth\":0,\"ticks\":\"\"}},\"type\":\"scatter3d\"}],\"scattercarpet\":[{\"marker\":{\"colorbar\":{\"outlinewidth\":0,\"ticks\":\"\"}},\"type\":\"scattercarpet\"}],\"scattergeo\":[{\"marker\":{\"colorbar\":{\"outlinewidth\":0,\"ticks\":\"\"}},\"type\":\"scattergeo\"}],\"scattergl\":[{\"marker\":{\"colorbar\":{\"outlinewidth\":0,\"ticks\":\"\"}},\"type\":\"scattergl\"}],\"scattermapbox\":[{\"marker\":{\"colorbar\":{\"outlinewidth\":0,\"ticks\":\"\"}},\"type\":\"scattermapbox\"}],\"scatterpolar\":[{\"marker\":{\"colorbar\":{\"outlinewidth\":0,\"ticks\":\"\"}},\"type\":\"scatterpolar\"}],\"scatterpolargl\":[{\"marker\":{\"colorbar\":{\"outlinewidth\":0,\"ticks\":\"\"}},\"type\":\"scatterpolargl\"}],\"scatterternary\":[{\"marker\":{\"colorbar\":{\"outlinewidth\":0,\"ticks\":\"\"}},\"type\":\"scatterternary\"}],\"surface\":[{\"colorbar\":{\"outlinewidth\":0,\"ticks\":\"\"},\"colorscale\":[[0.0,\"#0d0887\"],[0.1111111111111111,\"#46039f\"],[0.2222222222222222,\"#7201a8\"],[0.3333333333333333,\"#9c179e\"],[0.4444444444444444,\"#bd3786\"],[0.5555555555555556,\"#d8576b\"],[0.6666666666666666,\"#ed7953\"],[0.7777777777777778,\"#fb9f3a\"],[0.8888888888888888,\"#fdca26\"],[1.0,\"#f0f921\"]],\"type\":\"surface\"}],\"table\":[{\"cells\":{\"fill\":{\"color\":\"#EBF0F8\"},\"line\":{\"color\":\"white\"}},\"header\":{\"fill\":{\"color\":\"#C8D4E3\"},\"line\":{\"color\":\"white\"}},\"type\":\"table\"}]},\"layout\":{\"annotationdefaults\":{\"arrowcolor\":\"#2a3f5f\",\"arrowhead\":0,\"arrowwidth\":1},\"autotypenumbers\":\"strict\",\"coloraxis\":{\"colorbar\":{\"outlinewidth\":0,\"ticks\":\"\"}},\"colorscale\":{\"diverging\":[[0,\"#8e0152\"],[0.1,\"#c51b7d\"],[0.2,\"#de77ae\"],[0.3,\"#f1b6da\"],[0.4,\"#fde0ef\"],[0.5,\"#f7f7f7\"],[0.6,\"#e6f5d0\"],[0.7,\"#b8e186\"],[0.8,\"#7fbc41\"],[0.9,\"#4d9221\"],[1,\"#276419\"]],\"sequential\":[[0.0,\"#0d0887\"],[0.1111111111111111,\"#46039f\"],[0.2222222222222222,\"#7201a8\"],[0.3333333333333333,\"#9c179e\"],[0.4444444444444444,\"#bd3786\"],[0.5555555555555556,\"#d8576b\"],[0.6666666666666666,\"#ed7953\"],[0.7777777777777778,\"#fb9f3a\"],[0.8888888888888888,\"#fdca26\"],[1.0,\"#f0f921\"]],\"sequentialminus\":[[0.0,\"#0d0887\"],[0.1111111111111111,\"#46039f\"],[0.2222222222222222,\"#7201a8\"],[0.3333333333333333,\"#9c179e\"],[0.4444444444444444,\"#bd3786\"],[0.5555555555555556,\"#d8576b\"],[0.6666666666666666,\"#ed7953\"],[0.7777777777777778,\"#fb9f3a\"],[0.8888888888888888,\"#fdca26\"],[1.0,\"#f0f921\"]]},\"colorway\":[\"#636efa\",\"#EF553B\",\"#00cc96\",\"#ab63fa\",\"#FFA15A\",\"#19d3f3\",\"#FF6692\",\"#B6E880\",\"#FF97FF\",\"#FECB52\"],\"font\":{\"color\":\"#2a3f5f\"},\"geo\":{\"bgcolor\":\"white\",\"lakecolor\":\"white\",\"landcolor\":\"#E5ECF6\",\"showlakes\":true,\"showland\":true,\"subunitcolor\":\"white\"},\"hoverlabel\":{\"align\":\"left\"},\"hovermode\":\"closest\",\"mapbox\":{\"style\":\"light\"},\"paper_bgcolor\":\"white\",\"plot_bgcolor\":\"#E5ECF6\",\"polar\":{\"angularaxis\":{\"gridcolor\":\"white\",\"linecolor\":\"white\",\"ticks\":\"\"},\"bgcolor\":\"#E5ECF6\",\"radialaxis\":{\"gridcolor\":\"white\",\"linecolor\":\"white\",\"ticks\":\"\"}},\"scene\":{\"xaxis\":{\"backgroundcolor\":\"#E5ECF6\",\"gridcolor\":\"white\",\"gridwidth\":2,\"linecolor\":\"white\",\"showbackground\":true,\"ticks\":\"\",\"zerolinecolor\":\"white\"},\"yaxis\":{\"backgroundcolor\":\"#E5ECF6\",\"gridcolor\":\"white\",\"gridwidth\":2,\"linecolor\":\"white\",\"showbackground\":true,\"ticks\":\"\",\"zerolinecolor\":\"white\"},\"zaxis\":{\"backgroundcolor\":\"#E5ECF6\",\"gridcolor\":\"white\",\"gridwidth\":2,\"linecolor\":\"white\",\"showbackground\":true,\"ticks\":\"\",\"zerolinecolor\":\"white\"}},\"shapedefaults\":{\"line\":{\"color\":\"#2a3f5f\"}},\"ternary\":{\"aaxis\":{\"gridcolor\":\"white\",\"linecolor\":\"white\",\"ticks\":\"\"},\"baxis\":{\"gridcolor\":\"white\",\"linecolor\":\"white\",\"ticks\":\"\"},\"bgcolor\":\"#E5ECF6\",\"caxis\":{\"gridcolor\":\"white\",\"linecolor\":\"white\",\"ticks\":\"\"}},\"title\":{\"x\":0.05},\"xaxis\":{\"automargin\":true,\"gridcolor\":\"white\",\"linecolor\":\"white\",\"ticks\":\"\",\"title\":{\"standoff\":15},\"zerolinecolor\":\"white\",\"zerolinewidth\":2},\"yaxis\":{\"automargin\":true,\"gridcolor\":\"white\",\"linecolor\":\"white\",\"ticks\":\"\",\"title\":{\"standoff\":15},\"zerolinecolor\":\"white\",\"zerolinewidth\":2}}},\"xaxis\":{\"anchor\":\"y\",\"domain\":[0.0,1.0],\"title\":{\"text\":\"value\"}},\"yaxis\":{\"anchor\":\"x\",\"domain\":[0.0,1.0],\"title\":{\"text\":\"count\"}},\"legend\":{\"title\":{\"text\":\"variable\"},\"tracegroupgap\":0},\"margin\":{\"t\":60},\"barmode\":\"relative\"},                        {\"responsive\": true}                    ).then(function(){\n",
       "                            \n",
       "var gd = document.getElementById('bb518e8a-5a96-4148-b80d-b5ff2b54e070');\n",
       "var x = new MutationObserver(function (mutations, observer) {{\n",
       "        var display = window.getComputedStyle(gd).display;\n",
       "        if (!display || display === 'none') {{\n",
       "            console.log([gd, 'removed!']);\n",
       "            Plotly.purge(gd);\n",
       "            observer.disconnect();\n",
       "        }}\n",
       "}});\n",
       "\n",
       "// Listen for the removal of the full notebook cells\n",
       "var notebookContainer = gd.closest('#notebook-container');\n",
       "if (notebookContainer) {{\n",
       "    x.observe(notebookContainer, {childList: true});\n",
       "}}\n",
       "\n",
       "// Listen for the clearing of the current output cell\n",
       "var outputEl = gd.closest('.output');\n",
       "if (outputEl) {{\n",
       "    x.observe(outputEl, {childList: true});\n",
       "}}\n",
       "\n",
       "                        })                };                });            </script>        </div>"
      ]
     },
     "metadata": {},
     "output_type": "display_data"
    }
   ],
   "source": [
    "px.histogram(search_space_array)"
   ]
  },
  {
   "cell_type": "markdown",
   "metadata": {},
   "source": [
    "ECDF"
   ]
  },
  {
   "cell_type": "code",
   "execution_count": 5,
   "metadata": {},
   "outputs": [
    {
     "data": {
      "application/vnd.plotly.v1+json": {
       "config": {
        "plotlyServerURL": "https://plot.ly"
       },
       "data": [
        {
         "hovertemplate": "variable=0<br>value=%{x}<br>probability=%{y}<extra></extra>",
         "legendgroup": "0",
         "line": {
          "dash": "solid",
          "shape": "hv"
         },
         "marker": {
          "color": "#636efa",
          "symbol": "circle"
         },
         "mode": "lines",
         "name": "0",
         "orientation": "v",
         "showlegend": true,
         "type": "scatter",
         "x": [
          0.01002015089165597,
          0.01011625459451497,
          0.010121651921819144,
          0.01025438472397692,
          0.010316099663188446,
          0.010330002115901014,
          0.010380317709320656,
          0.010526250988247244,
          0.01064050108772743,
          0.010762782844876542,
          0.010814263827770896,
          0.010901097053395805,
          0.010908534239075111,
          0.010918710469128717,
          0.011136295592416584,
          0.011377542225052864,
          0.01169723872877323,
          0.011822770096043964,
          0.011895178506627033,
          0.01201277752627768,
          0.012021982609013748,
          0.012048887953944114,
          0.01205137926884954,
          0.012120779683348291,
          0.012330436326711398,
          0.012339257438803404,
          0.012479994994341284,
          0.01250782907646486,
          0.012678253726933526,
          0.012717728521558273,
          0.012756381015262117,
          0.013001376056205343,
          0.01301279942422608,
          0.01316807290571999,
          0.013300652639192747,
          0.01338566585435805,
          0.013530040190619532,
          0.013728139896478904,
          0.014158730493114646,
          0.014176707901651528,
          0.014187798533020891,
          0.014375404689425136,
          0.0143772463437489,
          0.014385349459788038,
          0.014458074613452944,
          0.014535015166112346,
          0.01458807513566336,
          0.014747696675883257,
          0.014866958808273838,
          0.014877861821824665,
          0.014998051906043551,
          0.015338758021824038,
          0.01560926605751444,
          0.01563205851306309,
          0.016138797302679024,
          0.01623774535255742,
          0.016239955894275668,
          0.01625577747654725,
          0.01630813562556743,
          0.01637797819868157,
          0.016472544023211168,
          0.016879607187258065,
          0.017038767928779085,
          0.01720818841161769,
          0.01721853317812551,
          0.017647375780918947,
          0.017712339922813274,
          0.018028546757438837,
          0.018303097124391984,
          0.018418806834728935,
          0.01851840797994543,
          0.018790621831433214,
          0.01894424561853542,
          0.01967769464379994,
          0.020046536585026805,
          0.020966798349526087,
          0.021093238507347265,
          0.021255853149920467,
          0.021307100201787627,
          0.021484588411193727,
          0.021824726794422915,
          0.02222921545964177,
          0.022285219523339707,
          0.02232163361472754,
          0.022330680859042086,
          0.023124939709004515,
          0.024275469719708107,
          0.024395297993466486,
          0.024677341177206942,
          0.024969019084860055,
          0.025411054264191893,
          0.025821551077600233,
          0.025854100812822668,
          0.026285232526713154,
          0.026398227301549868,
          0.0265003231326647,
          0.026584279742442707,
          0.026694353093639593,
          0.026752492896345542,
          0.027081439654929783,
          0.027369639309072682,
          0.027861368337825966,
          0.028277882058379257,
          0.0287589866003477,
          0.028939698798731307,
          0.02920075445610659,
          0.02957946629526047,
          0.02974841727481691,
          0.030387999589232436,
          0.030860532263899152,
          0.03098915566493302,
          0.03116888720993038,
          0.031223592798358506,
          0.03150066096485567,
          0.03158598622986767,
          0.032212996541486565,
          0.03228378644696424,
          0.03236015428628671,
          0.03248043492918051,
          0.03323622096456876,
          0.03365420343484112,
          0.033682758555813035,
          0.03406010024399001,
          0.03416977617434245,
          0.03470132743689175,
          0.0347745893479701,
          0.03533529934801437,
          0.0357452534016253,
          0.035819017445222895,
          0.036060631734789454,
          0.03627638830084312,
          0.036623974579883666,
          0.03676006506054078,
          0.036884021037725895,
          0.03695304821592213,
          0.03701462366874918,
          0.03720080496964081,
          0.03720768423627251,
          0.03763525423589903,
          0.03782978014963431,
          0.03791796440236265,
          0.03814011265900441,
          0.0383666982613881,
          0.03859774816387592,
          0.03944166826926918,
          0.039659726192054254,
          0.040214552957873954,
          0.04110291385458644,
          0.041139215472007794,
          0.041148397564032324,
          0.041500835537934294,
          0.04293686770648769,
          0.04314176055108052,
          0.04390195757036608,
          0.04406781035846777,
          0.044289986834854925,
          0.044357507064296364,
          0.04467782497219584,
          0.044885000416099385,
          0.0452806179755803,
          0.045464730656623875,
          0.045877552481247495,
          0.046007528918348334,
          0.046856098715574855,
          0.047038315714208266,
          0.04713486174720105,
          0.04724510768401196,
          0.04831528509651278,
          0.049259828691403405,
          0.04927435040463426,
          0.050283570288023854,
          0.05037536935258472,
          0.0505080356224386,
          0.05098799885727441,
          0.051005970705562814,
          0.051190951876189356,
          0.051301316322343186,
          0.05185015835720372,
          0.052217157650273016,
          0.05245145117629438,
          0.05251499509569655,
          0.0527983345193968,
          0.05300557279734635,
          0.05345602718746324,
          0.05387428899669467,
          0.05428677315921046,
          0.05521713036443619,
          0.055435858262477815,
          0.05583422448595191,
          0.055844849002680864,
          0.056168436012517024,
          0.056520478461282234,
          0.0565873253860102,
          0.057316863244405665,
          0.05743982315946913,
          0.05807926753089259,
          0.0587388255085312,
          0.05933522957258222,
          0.059586088020690105,
          0.06017491868761378,
          0.06034154337595195,
          0.06080840787727893,
          0.061224427702772415,
          0.0616207287379774,
          0.061738046357248715,
          0.06282583539081175,
          0.06397355826589496,
          0.0648682141329244,
          0.06508566171032507,
          0.06568667267993428,
          0.06739109664281526,
          0.06845173585076325,
          0.06938542551513167,
          0.07007360562464791,
          0.07079961837643979,
          0.07278366580611122,
          0.07388114330021969,
          0.07418531280291954,
          0.07436250228091615,
          0.07472114932752551,
          0.07735529413623408,
          0.07842985798087017,
          0.07898391167549361,
          0.07904415104055132,
          0.07931587582925156,
          0.07972255653393753,
          0.08005316268410695,
          0.08032558673035867,
          0.08088191260087606,
          0.08190168993366811,
          0.08269832747601254,
          0.0827752534993709,
          0.08322223999139956,
          0.08376439092515427,
          0.08452407368176904,
          0.0849930244879067,
          0.08597022895600631,
          0.08658493634360412,
          0.08764737110793894,
          0.08771105837934486,
          0.08786046168225319,
          0.08811166001398832,
          0.08858754656231005,
          0.08915190044564004,
          0.09016610088765045,
          0.0920202240746553,
          0.09231342870314141,
          0.09662276272995377,
          0.09747565353975858,
          0.10052328156856812,
          0.10178104555158501,
          0.10311866696994466,
          0.10397731586512478,
          0.10411952420636804,
          0.1041558879552279,
          0.1041971365513901,
          0.1043996474721479,
          0.10486779364082144,
          0.10493713786858692,
          0.1053224427338947,
          0.10708831918453558,
          0.10783957656875554,
          0.10919844537360936,
          0.11006722802561603,
          0.11036108206878859,
          0.11047530551111766,
          0.11153680342869648,
          0.11176943126421435,
          0.11191977327958127,
          0.11195071168568145,
          0.11547239601212446,
          0.11652500281718671,
          0.11667906705979274,
          0.11799012424670167,
          0.11869882532993438,
          0.11913207783054733,
          0.12042921342048869,
          0.12105843070913214,
          0.12130951507272662,
          0.12220151763234299,
          0.12472394273357339,
          0.12613012355577824,
          0.12673974698108637,
          0.12945209472579658,
          0.13170458884064007,
          0.13308224711910038,
          0.13429047371250166,
          0.13693831291159025,
          0.14386588070845813,
          0.144090009596891,
          0.1460907265085138,
          0.14642829718873118,
          0.1487554513858568,
          0.15170667234336777,
          0.1532261582898066,
          0.1553155106961507,
          0.1556051699751572,
          0.15581670927481928,
          0.15931391293921404,
          0.16041526555487828,
          0.1610359759594155,
          0.16137039784539994,
          0.16214995655978812,
          0.16497880903434017,
          0.165210704708359,
          0.16521127767560015,
          0.16861815090686935,
          0.1717851715995113,
          0.17277321980746016,
          0.17363325993437628,
          0.17803688881094798,
          0.1790384730627766,
          0.18037606670225692,
          0.1859396701129842,
          0.18698690271137178,
          0.18760496499539797,
          0.19203746424706503,
          0.19701782632596027,
          0.19877262448525737,
          0.20133920044955816,
          0.20221784413879357,
          0.2037684509106927,
          0.2041014238925112,
          0.2046060607135715,
          0.21187958258573475,
          0.2143046733424898,
          0.21597317094589058,
          0.2215815039372524,
          0.2265453272834183,
          0.2274423924277901,
          0.22765033791553543,
          0.22847297545092854,
          0.22862892009333963,
          0.22972980010477873,
          0.2305522429523761,
          0.23058139840879022,
          0.233087089240629,
          0.23617862131583045,
          0.23958128436361345,
          0.24017850677027125,
          0.2409319157222087,
          0.24161240401344336,
          0.24234364011960025,
          0.24357196816557455,
          0.2437795663512418,
          0.24858397690811646,
          0.24909293351657683,
          0.24951572297277025,
          0.24963868179750964,
          0.25163511470339384,
          0.25315153833572923,
          0.25569135129995973,
          0.2562614649167056,
          0.2576034838407037,
          0.2600313667221179,
          0.2631519310576989,
          0.2633007570095603,
          0.2635538448377618,
          0.26435391860556245,
          0.26520755184820516,
          0.2678764435740039,
          0.27421606236977236,
          0.28230910418967137,
          0.2882655407664511,
          0.28856438033449566,
          0.28881682037069767,
          0.2919682279857302,
          0.2925325853482427,
          0.2947287884713899,
          0.29643271724118875,
          0.2978337976413571,
          0.3030382843064511,
          0.30306892645507916,
          0.30328282248715643,
          0.3109842558282185,
          0.3126746326379575,
          0.31372770257454063,
          0.316436738964856,
          0.3286875918816299,
          0.33078496506015576,
          0.33257882535125993,
          0.3328941582228326,
          0.3350274785632062,
          0.338818960580589,
          0.3405057613121192,
          0.3419705603055359,
          0.3432298395459668,
          0.34391806081366255,
          0.34648683232812716,
          0.3525854441684954,
          0.3574269078551936,
          0.3613675621485571,
          0.3634262606797301,
          0.36543761720211676,
          0.3676318483675465,
          0.37217032755287854,
          0.3745441889458574,
          0.3860450043495671,
          0.3864870617593379,
          0.3899725701145485,
          0.3922975808881201,
          0.39297843323371057,
          0.3979920351533848,
          0.4031149424956577,
          0.41804726687663474,
          0.42070038546526045,
          0.4207014602644612,
          0.4221642003226132,
          0.4223395568748955,
          0.4277200118847545,
          0.4302298111314796,
          0.43085293048209145,
          0.43190945296683275,
          0.43420835509046435,
          0.4416900332242469,
          0.44517650844812273,
          0.45062656576049365,
          0.45981131574654505,
          0.4603219318920517,
          0.46620059798007385,
          0.47352321171129774,
          0.47573751270664927,
          0.4759465875490505,
          0.476745789430778,
          0.4819950964373965,
          0.48728032872906285,
          0.49158086160300246,
          0.49466782244622187,
          0.5009386240652917,
          0.5073391612704494,
          0.5084895884930382,
          0.5093511486902176,
          0.5238249806948898,
          0.5483031770461583,
          0.5511730861206772,
          0.5599732451754017,
          0.5689279157502234,
          0.5694601711686973,
          0.5724827114254157,
          0.576649622087502,
          0.5815414846626075,
          0.5826642585255951,
          0.5877376939656452,
          0.599784394875652,
          0.6013061031240016,
          0.6067920901756602,
          0.6306206280568667,
          0.6381689591353874,
          0.6481303986725644,
          0.651691460800372,
          0.6549677795404627,
          0.6613611713133558,
          0.6649084746862355,
          0.6690789613622029,
          0.6743411635111637,
          0.6744739721510272,
          0.6765725675243454,
          0.6793639257498139,
          0.6882619983435325,
          0.7080187573183103,
          0.730808783625044,
          0.750323835927737,
          0.7538946157744267,
          0.7626492181573982,
          0.7681823866392476,
          0.7688566066593856,
          0.7725035481115943,
          0.7842350636920667,
          0.7853617168724608,
          0.7882255483585572,
          0.7952872302812801,
          0.7966078615277508,
          0.8039856561065868,
          0.8068836426253821,
          0.8121602059282274,
          0.8174185902864,
          0.8195462764251086,
          0.8390495439358491,
          0.8451446790571417,
          0.8458052480904453,
          0.8494419391111144,
          0.8549924475866817,
          0.8579428090417713,
          0.8586997500852881,
          0.8628705148385087,
          0.8647234262145006,
          0.8794925586967499,
          0.8947194295490364,
          0.8974085895741726,
          0.9018255333656121,
          0.9139509316745894,
          0.917402153002256,
          0.9281337994070562,
          0.9304973199030329,
          0.9405892470922163,
          0.9509332172994407,
          0.9574213641924811,
          0.9621529653218829,
          0.9844082212342194,
          0.9901820143655576
         ],
         "xaxis": "x",
         "y": [
          0.002,
          0.004,
          0.006,
          0.008,
          0.01,
          0.012,
          0.014,
          0.016,
          0.018,
          0.02,
          0.022,
          0.024,
          0.026,
          0.028,
          0.03,
          0.032,
          0.034,
          0.036,
          0.038,
          0.04,
          0.042,
          0.044,
          0.046,
          0.048,
          0.05,
          0.052,
          0.054,
          0.056,
          0.058,
          0.06,
          0.062,
          0.064,
          0.066,
          0.068,
          0.07,
          0.072,
          0.074,
          0.076,
          0.078,
          0.08,
          0.082,
          0.084,
          0.086,
          0.088,
          0.09,
          0.092,
          0.094,
          0.096,
          0.098,
          0.1,
          0.102,
          0.104,
          0.106,
          0.108,
          0.11,
          0.112,
          0.114,
          0.116,
          0.118,
          0.12,
          0.122,
          0.124,
          0.126,
          0.128,
          0.13,
          0.132,
          0.134,
          0.136,
          0.138,
          0.14,
          0.142,
          0.144,
          0.146,
          0.148,
          0.15,
          0.152,
          0.154,
          0.156,
          0.158,
          0.16,
          0.162,
          0.164,
          0.166,
          0.168,
          0.17,
          0.172,
          0.174,
          0.176,
          0.178,
          0.18,
          0.182,
          0.184,
          0.186,
          0.188,
          0.19,
          0.192,
          0.194,
          0.196,
          0.198,
          0.2,
          0.202,
          0.204,
          0.206,
          0.208,
          0.21,
          0.212,
          0.214,
          0.216,
          0.218,
          0.22,
          0.222,
          0.224,
          0.226,
          0.228,
          0.23,
          0.232,
          0.234,
          0.236,
          0.238,
          0.24,
          0.242,
          0.244,
          0.246,
          0.248,
          0.25,
          0.252,
          0.254,
          0.256,
          0.258,
          0.26,
          0.262,
          0.264,
          0.266,
          0.268,
          0.27,
          0.272,
          0.274,
          0.276,
          0.278,
          0.28,
          0.282,
          0.284,
          0.286,
          0.288,
          0.29,
          0.292,
          0.294,
          0.296,
          0.298,
          0.3,
          0.302,
          0.304,
          0.306,
          0.308,
          0.31,
          0.312,
          0.314,
          0.316,
          0.318,
          0.32,
          0.322,
          0.324,
          0.326,
          0.328,
          0.33,
          0.332,
          0.334,
          0.336,
          0.338,
          0.34,
          0.342,
          0.344,
          0.346,
          0.348,
          0.35,
          0.352,
          0.354,
          0.356,
          0.358,
          0.36,
          0.362,
          0.364,
          0.366,
          0.368,
          0.37,
          0.372,
          0.374,
          0.376,
          0.378,
          0.38,
          0.382,
          0.384,
          0.386,
          0.388,
          0.39,
          0.392,
          0.394,
          0.396,
          0.398,
          0.4,
          0.402,
          0.404,
          0.406,
          0.408,
          0.41,
          0.412,
          0.414,
          0.416,
          0.418,
          0.42,
          0.422,
          0.424,
          0.426,
          0.428,
          0.43,
          0.432,
          0.434,
          0.436,
          0.438,
          0.44,
          0.442,
          0.444,
          0.446,
          0.448,
          0.45,
          0.452,
          0.454,
          0.456,
          0.458,
          0.46,
          0.462,
          0.464,
          0.466,
          0.468,
          0.47,
          0.472,
          0.474,
          0.476,
          0.478,
          0.48,
          0.482,
          0.484,
          0.486,
          0.488,
          0.49,
          0.492,
          0.494,
          0.496,
          0.498,
          0.5,
          0.502,
          0.504,
          0.506,
          0.508,
          0.51,
          0.512,
          0.514,
          0.516,
          0.518,
          0.52,
          0.522,
          0.524,
          0.526,
          0.528,
          0.53,
          0.532,
          0.534,
          0.536,
          0.538,
          0.54,
          0.542,
          0.544,
          0.546,
          0.548,
          0.55,
          0.552,
          0.554,
          0.556,
          0.558,
          0.56,
          0.562,
          0.564,
          0.566,
          0.568,
          0.57,
          0.572,
          0.574,
          0.576,
          0.578,
          0.58,
          0.582,
          0.584,
          0.586,
          0.588,
          0.59,
          0.592,
          0.594,
          0.596,
          0.598,
          0.6,
          0.602,
          0.604,
          0.606,
          0.608,
          0.61,
          0.612,
          0.614,
          0.616,
          0.618,
          0.62,
          0.622,
          0.624,
          0.626,
          0.628,
          0.63,
          0.632,
          0.634,
          0.636,
          0.638,
          0.64,
          0.642,
          0.644,
          0.646,
          0.648,
          0.65,
          0.652,
          0.654,
          0.656,
          0.658,
          0.66,
          0.662,
          0.664,
          0.666,
          0.668,
          0.67,
          0.672,
          0.674,
          0.676,
          0.678,
          0.68,
          0.682,
          0.684,
          0.686,
          0.688,
          0.69,
          0.692,
          0.694,
          0.696,
          0.698,
          0.7,
          0.702,
          0.704,
          0.706,
          0.708,
          0.71,
          0.712,
          0.714,
          0.716,
          0.718,
          0.72,
          0.722,
          0.724,
          0.726,
          0.728,
          0.73,
          0.732,
          0.734,
          0.736,
          0.738,
          0.74,
          0.742,
          0.744,
          0.746,
          0.748,
          0.75,
          0.752,
          0.754,
          0.756,
          0.758,
          0.76,
          0.762,
          0.764,
          0.766,
          0.768,
          0.77,
          0.772,
          0.774,
          0.776,
          0.778,
          0.78,
          0.782,
          0.784,
          0.786,
          0.788,
          0.79,
          0.792,
          0.794,
          0.796,
          0.798,
          0.8,
          0.802,
          0.804,
          0.806,
          0.808,
          0.81,
          0.812,
          0.814,
          0.816,
          0.818,
          0.82,
          0.822,
          0.824,
          0.826,
          0.828,
          0.83,
          0.832,
          0.834,
          0.836,
          0.838,
          0.84,
          0.842,
          0.844,
          0.846,
          0.848,
          0.85,
          0.852,
          0.854,
          0.856,
          0.858,
          0.86,
          0.862,
          0.864,
          0.866,
          0.868,
          0.87,
          0.872,
          0.874,
          0.876,
          0.878,
          0.88,
          0.882,
          0.884,
          0.886,
          0.888,
          0.89,
          0.892,
          0.894,
          0.896,
          0.898,
          0.9,
          0.902,
          0.904,
          0.906,
          0.908,
          0.91,
          0.912,
          0.914,
          0.916,
          0.918,
          0.92,
          0.922,
          0.924,
          0.926,
          0.928,
          0.93,
          0.932,
          0.934,
          0.936,
          0.938,
          0.94,
          0.942,
          0.944,
          0.946,
          0.948,
          0.95,
          0.952,
          0.954,
          0.956,
          0.958,
          0.96,
          0.962,
          0.964,
          0.966,
          0.968,
          0.97,
          0.972,
          0.974,
          0.976,
          0.978,
          0.98,
          0.982,
          0.984,
          0.986,
          0.988,
          0.99,
          0.992,
          0.994,
          0.996,
          0.998,
          1
         ],
         "yaxis": "y"
        }
       ],
       "layout": {
        "legend": {
         "title": {
          "text": "variable"
         },
         "tracegroupgap": 0
        },
        "margin": {
         "t": 60
        },
        "template": {
         "data": {
          "bar": [
           {
            "error_x": {
             "color": "#2a3f5f"
            },
            "error_y": {
             "color": "#2a3f5f"
            },
            "marker": {
             "line": {
              "color": "#E5ECF6",
              "width": 0.5
             },
             "pattern": {
              "fillmode": "overlay",
              "size": 10,
              "solidity": 0.2
             }
            },
            "type": "bar"
           }
          ],
          "barpolar": [
           {
            "marker": {
             "line": {
              "color": "#E5ECF6",
              "width": 0.5
             },
             "pattern": {
              "fillmode": "overlay",
              "size": 10,
              "solidity": 0.2
             }
            },
            "type": "barpolar"
           }
          ],
          "carpet": [
           {
            "aaxis": {
             "endlinecolor": "#2a3f5f",
             "gridcolor": "white",
             "linecolor": "white",
             "minorgridcolor": "white",
             "startlinecolor": "#2a3f5f"
            },
            "baxis": {
             "endlinecolor": "#2a3f5f",
             "gridcolor": "white",
             "linecolor": "white",
             "minorgridcolor": "white",
             "startlinecolor": "#2a3f5f"
            },
            "type": "carpet"
           }
          ],
          "choropleth": [
           {
            "colorbar": {
             "outlinewidth": 0,
             "ticks": ""
            },
            "type": "choropleth"
           }
          ],
          "contour": [
           {
            "colorbar": {
             "outlinewidth": 0,
             "ticks": ""
            },
            "colorscale": [
             [
              0,
              "#0d0887"
             ],
             [
              0.1111111111111111,
              "#46039f"
             ],
             [
              0.2222222222222222,
              "#7201a8"
             ],
             [
              0.3333333333333333,
              "#9c179e"
             ],
             [
              0.4444444444444444,
              "#bd3786"
             ],
             [
              0.5555555555555556,
              "#d8576b"
             ],
             [
              0.6666666666666666,
              "#ed7953"
             ],
             [
              0.7777777777777778,
              "#fb9f3a"
             ],
             [
              0.8888888888888888,
              "#fdca26"
             ],
             [
              1,
              "#f0f921"
             ]
            ],
            "type": "contour"
           }
          ],
          "contourcarpet": [
           {
            "colorbar": {
             "outlinewidth": 0,
             "ticks": ""
            },
            "type": "contourcarpet"
           }
          ],
          "heatmap": [
           {
            "colorbar": {
             "outlinewidth": 0,
             "ticks": ""
            },
            "colorscale": [
             [
              0,
              "#0d0887"
             ],
             [
              0.1111111111111111,
              "#46039f"
             ],
             [
              0.2222222222222222,
              "#7201a8"
             ],
             [
              0.3333333333333333,
              "#9c179e"
             ],
             [
              0.4444444444444444,
              "#bd3786"
             ],
             [
              0.5555555555555556,
              "#d8576b"
             ],
             [
              0.6666666666666666,
              "#ed7953"
             ],
             [
              0.7777777777777778,
              "#fb9f3a"
             ],
             [
              0.8888888888888888,
              "#fdca26"
             ],
             [
              1,
              "#f0f921"
             ]
            ],
            "type": "heatmap"
           }
          ],
          "heatmapgl": [
           {
            "colorbar": {
             "outlinewidth": 0,
             "ticks": ""
            },
            "colorscale": [
             [
              0,
              "#0d0887"
             ],
             [
              0.1111111111111111,
              "#46039f"
             ],
             [
              0.2222222222222222,
              "#7201a8"
             ],
             [
              0.3333333333333333,
              "#9c179e"
             ],
             [
              0.4444444444444444,
              "#bd3786"
             ],
             [
              0.5555555555555556,
              "#d8576b"
             ],
             [
              0.6666666666666666,
              "#ed7953"
             ],
             [
              0.7777777777777778,
              "#fb9f3a"
             ],
             [
              0.8888888888888888,
              "#fdca26"
             ],
             [
              1,
              "#f0f921"
             ]
            ],
            "type": "heatmapgl"
           }
          ],
          "histogram": [
           {
            "marker": {
             "pattern": {
              "fillmode": "overlay",
              "size": 10,
              "solidity": 0.2
             }
            },
            "type": "histogram"
           }
          ],
          "histogram2d": [
           {
            "colorbar": {
             "outlinewidth": 0,
             "ticks": ""
            },
            "colorscale": [
             [
              0,
              "#0d0887"
             ],
             [
              0.1111111111111111,
              "#46039f"
             ],
             [
              0.2222222222222222,
              "#7201a8"
             ],
             [
              0.3333333333333333,
              "#9c179e"
             ],
             [
              0.4444444444444444,
              "#bd3786"
             ],
             [
              0.5555555555555556,
              "#d8576b"
             ],
             [
              0.6666666666666666,
              "#ed7953"
             ],
             [
              0.7777777777777778,
              "#fb9f3a"
             ],
             [
              0.8888888888888888,
              "#fdca26"
             ],
             [
              1,
              "#f0f921"
             ]
            ],
            "type": "histogram2d"
           }
          ],
          "histogram2dcontour": [
           {
            "colorbar": {
             "outlinewidth": 0,
             "ticks": ""
            },
            "colorscale": [
             [
              0,
              "#0d0887"
             ],
             [
              0.1111111111111111,
              "#46039f"
             ],
             [
              0.2222222222222222,
              "#7201a8"
             ],
             [
              0.3333333333333333,
              "#9c179e"
             ],
             [
              0.4444444444444444,
              "#bd3786"
             ],
             [
              0.5555555555555556,
              "#d8576b"
             ],
             [
              0.6666666666666666,
              "#ed7953"
             ],
             [
              0.7777777777777778,
              "#fb9f3a"
             ],
             [
              0.8888888888888888,
              "#fdca26"
             ],
             [
              1,
              "#f0f921"
             ]
            ],
            "type": "histogram2dcontour"
           }
          ],
          "mesh3d": [
           {
            "colorbar": {
             "outlinewidth": 0,
             "ticks": ""
            },
            "type": "mesh3d"
           }
          ],
          "parcoords": [
           {
            "line": {
             "colorbar": {
              "outlinewidth": 0,
              "ticks": ""
             }
            },
            "type": "parcoords"
           }
          ],
          "pie": [
           {
            "automargin": true,
            "type": "pie"
           }
          ],
          "scatter": [
           {
            "marker": {
             "colorbar": {
              "outlinewidth": 0,
              "ticks": ""
             }
            },
            "type": "scatter"
           }
          ],
          "scatter3d": [
           {
            "line": {
             "colorbar": {
              "outlinewidth": 0,
              "ticks": ""
             }
            },
            "marker": {
             "colorbar": {
              "outlinewidth": 0,
              "ticks": ""
             }
            },
            "type": "scatter3d"
           }
          ],
          "scattercarpet": [
           {
            "marker": {
             "colorbar": {
              "outlinewidth": 0,
              "ticks": ""
             }
            },
            "type": "scattercarpet"
           }
          ],
          "scattergeo": [
           {
            "marker": {
             "colorbar": {
              "outlinewidth": 0,
              "ticks": ""
             }
            },
            "type": "scattergeo"
           }
          ],
          "scattergl": [
           {
            "marker": {
             "colorbar": {
              "outlinewidth": 0,
              "ticks": ""
             }
            },
            "type": "scattergl"
           }
          ],
          "scattermapbox": [
           {
            "marker": {
             "colorbar": {
              "outlinewidth": 0,
              "ticks": ""
             }
            },
            "type": "scattermapbox"
           }
          ],
          "scatterpolar": [
           {
            "marker": {
             "colorbar": {
              "outlinewidth": 0,
              "ticks": ""
             }
            },
            "type": "scatterpolar"
           }
          ],
          "scatterpolargl": [
           {
            "marker": {
             "colorbar": {
              "outlinewidth": 0,
              "ticks": ""
             }
            },
            "type": "scatterpolargl"
           }
          ],
          "scatterternary": [
           {
            "marker": {
             "colorbar": {
              "outlinewidth": 0,
              "ticks": ""
             }
            },
            "type": "scatterternary"
           }
          ],
          "surface": [
           {
            "colorbar": {
             "outlinewidth": 0,
             "ticks": ""
            },
            "colorscale": [
             [
              0,
              "#0d0887"
             ],
             [
              0.1111111111111111,
              "#46039f"
             ],
             [
              0.2222222222222222,
              "#7201a8"
             ],
             [
              0.3333333333333333,
              "#9c179e"
             ],
             [
              0.4444444444444444,
              "#bd3786"
             ],
             [
              0.5555555555555556,
              "#d8576b"
             ],
             [
              0.6666666666666666,
              "#ed7953"
             ],
             [
              0.7777777777777778,
              "#fb9f3a"
             ],
             [
              0.8888888888888888,
              "#fdca26"
             ],
             [
              1,
              "#f0f921"
             ]
            ],
            "type": "surface"
           }
          ],
          "table": [
           {
            "cells": {
             "fill": {
              "color": "#EBF0F8"
             },
             "line": {
              "color": "white"
             }
            },
            "header": {
             "fill": {
              "color": "#C8D4E3"
             },
             "line": {
              "color": "white"
             }
            },
            "type": "table"
           }
          ]
         },
         "layout": {
          "annotationdefaults": {
           "arrowcolor": "#2a3f5f",
           "arrowhead": 0,
           "arrowwidth": 1
          },
          "autotypenumbers": "strict",
          "coloraxis": {
           "colorbar": {
            "outlinewidth": 0,
            "ticks": ""
           }
          },
          "colorscale": {
           "diverging": [
            [
             0,
             "#8e0152"
            ],
            [
             0.1,
             "#c51b7d"
            ],
            [
             0.2,
             "#de77ae"
            ],
            [
             0.3,
             "#f1b6da"
            ],
            [
             0.4,
             "#fde0ef"
            ],
            [
             0.5,
             "#f7f7f7"
            ],
            [
             0.6,
             "#e6f5d0"
            ],
            [
             0.7,
             "#b8e186"
            ],
            [
             0.8,
             "#7fbc41"
            ],
            [
             0.9,
             "#4d9221"
            ],
            [
             1,
             "#276419"
            ]
           ],
           "sequential": [
            [
             0,
             "#0d0887"
            ],
            [
             0.1111111111111111,
             "#46039f"
            ],
            [
             0.2222222222222222,
             "#7201a8"
            ],
            [
             0.3333333333333333,
             "#9c179e"
            ],
            [
             0.4444444444444444,
             "#bd3786"
            ],
            [
             0.5555555555555556,
             "#d8576b"
            ],
            [
             0.6666666666666666,
             "#ed7953"
            ],
            [
             0.7777777777777778,
             "#fb9f3a"
            ],
            [
             0.8888888888888888,
             "#fdca26"
            ],
            [
             1,
             "#f0f921"
            ]
           ],
           "sequentialminus": [
            [
             0,
             "#0d0887"
            ],
            [
             0.1111111111111111,
             "#46039f"
            ],
            [
             0.2222222222222222,
             "#7201a8"
            ],
            [
             0.3333333333333333,
             "#9c179e"
            ],
            [
             0.4444444444444444,
             "#bd3786"
            ],
            [
             0.5555555555555556,
             "#d8576b"
            ],
            [
             0.6666666666666666,
             "#ed7953"
            ],
            [
             0.7777777777777778,
             "#fb9f3a"
            ],
            [
             0.8888888888888888,
             "#fdca26"
            ],
            [
             1,
             "#f0f921"
            ]
           ]
          },
          "colorway": [
           "#636efa",
           "#EF553B",
           "#00cc96",
           "#ab63fa",
           "#FFA15A",
           "#19d3f3",
           "#FF6692",
           "#B6E880",
           "#FF97FF",
           "#FECB52"
          ],
          "font": {
           "color": "#2a3f5f"
          },
          "geo": {
           "bgcolor": "white",
           "lakecolor": "white",
           "landcolor": "#E5ECF6",
           "showlakes": true,
           "showland": true,
           "subunitcolor": "white"
          },
          "hoverlabel": {
           "align": "left"
          },
          "hovermode": "closest",
          "mapbox": {
           "style": "light"
          },
          "paper_bgcolor": "white",
          "plot_bgcolor": "#E5ECF6",
          "polar": {
           "angularaxis": {
            "gridcolor": "white",
            "linecolor": "white",
            "ticks": ""
           },
           "bgcolor": "#E5ECF6",
           "radialaxis": {
            "gridcolor": "white",
            "linecolor": "white",
            "ticks": ""
           }
          },
          "scene": {
           "xaxis": {
            "backgroundcolor": "#E5ECF6",
            "gridcolor": "white",
            "gridwidth": 2,
            "linecolor": "white",
            "showbackground": true,
            "ticks": "",
            "zerolinecolor": "white"
           },
           "yaxis": {
            "backgroundcolor": "#E5ECF6",
            "gridcolor": "white",
            "gridwidth": 2,
            "linecolor": "white",
            "showbackground": true,
            "ticks": "",
            "zerolinecolor": "white"
           },
           "zaxis": {
            "backgroundcolor": "#E5ECF6",
            "gridcolor": "white",
            "gridwidth": 2,
            "linecolor": "white",
            "showbackground": true,
            "ticks": "",
            "zerolinecolor": "white"
           }
          },
          "shapedefaults": {
           "line": {
            "color": "#2a3f5f"
           }
          },
          "ternary": {
           "aaxis": {
            "gridcolor": "white",
            "linecolor": "white",
            "ticks": ""
           },
           "baxis": {
            "gridcolor": "white",
            "linecolor": "white",
            "ticks": ""
           },
           "bgcolor": "#E5ECF6",
           "caxis": {
            "gridcolor": "white",
            "linecolor": "white",
            "ticks": ""
           }
          },
          "title": {
           "x": 0.05
          },
          "xaxis": {
           "automargin": true,
           "gridcolor": "white",
           "linecolor": "white",
           "ticks": "",
           "title": {
            "standoff": 15
           },
           "zerolinecolor": "white",
           "zerolinewidth": 2
          },
          "yaxis": {
           "automargin": true,
           "gridcolor": "white",
           "linecolor": "white",
           "ticks": "",
           "title": {
            "standoff": 15
           },
           "zerolinecolor": "white",
           "zerolinewidth": 2
          }
         }
        },
        "xaxis": {
         "anchor": "y",
         "domain": [
          0,
          1
         ],
         "title": {
          "text": "value"
         }
        },
        "yaxis": {
         "anchor": "x",
         "domain": [
          0,
          1
         ],
         "rangemode": "tozero",
         "title": {
          "text": "probability"
         }
        }
       }
      },
      "text/html": [
       "<div>                            <div id=\"1a1d5487-c25c-43ca-82df-329dcadb3a28\" class=\"plotly-graph-div\" style=\"height:525px; width:100%;\"></div>            <script type=\"text/javascript\">                require([\"plotly\"], function(Plotly) {                    window.PLOTLYENV=window.PLOTLYENV || {};                                    if (document.getElementById(\"1a1d5487-c25c-43ca-82df-329dcadb3a28\")) {                    Plotly.newPlot(                        \"1a1d5487-c25c-43ca-82df-329dcadb3a28\",                        [{\"hovertemplate\":\"variable=0<br>value=%{x}<br>probability=%{y}<extra></extra>\",\"legendgroup\":\"0\",\"line\":{\"dash\":\"solid\",\"shape\":\"hv\"},\"marker\":{\"color\":\"#636efa\",\"symbol\":\"circle\"},\"mode\":\"lines\",\"name\":\"0\",\"orientation\":\"v\",\"showlegend\":true,\"x\":[0.01002015089165597,0.01011625459451497,0.010121651921819144,0.01025438472397692,0.010316099663188446,0.010330002115901014,0.010380317709320656,0.010526250988247244,0.01064050108772743,0.010762782844876542,0.010814263827770896,0.010901097053395805,0.010908534239075111,0.010918710469128717,0.011136295592416584,0.011377542225052864,0.01169723872877323,0.011822770096043964,0.011895178506627033,0.01201277752627768,0.012021982609013748,0.012048887953944114,0.01205137926884954,0.012120779683348291,0.012330436326711398,0.012339257438803404,0.012479994994341284,0.01250782907646486,0.012678253726933526,0.012717728521558273,0.012756381015262117,0.013001376056205343,0.01301279942422608,0.01316807290571999,0.013300652639192747,0.01338566585435805,0.013530040190619532,0.013728139896478904,0.014158730493114646,0.014176707901651528,0.014187798533020891,0.014375404689425136,0.0143772463437489,0.014385349459788038,0.014458074613452944,0.014535015166112346,0.01458807513566336,0.014747696675883257,0.014866958808273838,0.014877861821824665,0.014998051906043551,0.015338758021824038,0.01560926605751444,0.01563205851306309,0.016138797302679024,0.01623774535255742,0.016239955894275668,0.01625577747654725,0.01630813562556743,0.01637797819868157,0.016472544023211168,0.016879607187258065,0.017038767928779085,0.01720818841161769,0.01721853317812551,0.017647375780918947,0.017712339922813274,0.018028546757438837,0.018303097124391984,0.018418806834728935,0.01851840797994543,0.018790621831433214,0.01894424561853542,0.01967769464379994,0.020046536585026805,0.020966798349526087,0.021093238507347265,0.021255853149920467,0.021307100201787627,0.021484588411193727,0.021824726794422915,0.02222921545964177,0.022285219523339707,0.02232163361472754,0.022330680859042086,0.023124939709004515,0.024275469719708107,0.024395297993466486,0.024677341177206942,0.024969019084860055,0.025411054264191893,0.025821551077600233,0.025854100812822668,0.026285232526713154,0.026398227301549868,0.0265003231326647,0.026584279742442707,0.026694353093639593,0.026752492896345542,0.027081439654929783,0.027369639309072682,0.027861368337825966,0.028277882058379257,0.0287589866003477,0.028939698798731307,0.02920075445610659,0.02957946629526047,0.02974841727481691,0.030387999589232436,0.030860532263899152,0.03098915566493302,0.03116888720993038,0.031223592798358506,0.03150066096485567,0.03158598622986767,0.032212996541486565,0.03228378644696424,0.03236015428628671,0.03248043492918051,0.03323622096456876,0.03365420343484112,0.033682758555813035,0.03406010024399001,0.03416977617434245,0.03470132743689175,0.0347745893479701,0.03533529934801437,0.0357452534016253,0.035819017445222895,0.036060631734789454,0.03627638830084312,0.036623974579883666,0.03676006506054078,0.036884021037725895,0.03695304821592213,0.03701462366874918,0.03720080496964081,0.03720768423627251,0.03763525423589903,0.03782978014963431,0.03791796440236265,0.03814011265900441,0.0383666982613881,0.03859774816387592,0.03944166826926918,0.039659726192054254,0.040214552957873954,0.04110291385458644,0.041139215472007794,0.041148397564032324,0.041500835537934294,0.04293686770648769,0.04314176055108052,0.04390195757036608,0.04406781035846777,0.044289986834854925,0.044357507064296364,0.04467782497219584,0.044885000416099385,0.0452806179755803,0.045464730656623875,0.045877552481247495,0.046007528918348334,0.046856098715574855,0.047038315714208266,0.04713486174720105,0.04724510768401196,0.04831528509651278,0.049259828691403405,0.04927435040463426,0.050283570288023854,0.05037536935258472,0.0505080356224386,0.05098799885727441,0.051005970705562814,0.051190951876189356,0.051301316322343186,0.05185015835720372,0.052217157650273016,0.05245145117629438,0.05251499509569655,0.0527983345193968,0.05300557279734635,0.05345602718746324,0.05387428899669467,0.05428677315921046,0.05521713036443619,0.055435858262477815,0.05583422448595191,0.055844849002680864,0.056168436012517024,0.056520478461282234,0.0565873253860102,0.057316863244405665,0.05743982315946913,0.05807926753089259,0.0587388255085312,0.05933522957258222,0.059586088020690105,0.06017491868761378,0.06034154337595195,0.06080840787727893,0.061224427702772415,0.0616207287379774,0.061738046357248715,0.06282583539081175,0.06397355826589496,0.0648682141329244,0.06508566171032507,0.06568667267993428,0.06739109664281526,0.06845173585076325,0.06938542551513167,0.07007360562464791,0.07079961837643979,0.07278366580611122,0.07388114330021969,0.07418531280291954,0.07436250228091615,0.07472114932752551,0.07735529413623408,0.07842985798087017,0.07898391167549361,0.07904415104055132,0.07931587582925156,0.07972255653393753,0.08005316268410695,0.08032558673035867,0.08088191260087606,0.08190168993366811,0.08269832747601254,0.0827752534993709,0.08322223999139956,0.08376439092515427,0.08452407368176904,0.0849930244879067,0.08597022895600631,0.08658493634360412,0.08764737110793894,0.08771105837934486,0.08786046168225319,0.08811166001398832,0.08858754656231005,0.08915190044564004,0.09016610088765045,0.0920202240746553,0.09231342870314141,0.09662276272995377,0.09747565353975858,0.10052328156856812,0.10178104555158501,0.10311866696994466,0.10397731586512478,0.10411952420636804,0.1041558879552279,0.1041971365513901,0.1043996474721479,0.10486779364082144,0.10493713786858692,0.1053224427338947,0.10708831918453558,0.10783957656875554,0.10919844537360936,0.11006722802561603,0.11036108206878859,0.11047530551111766,0.11153680342869648,0.11176943126421435,0.11191977327958127,0.11195071168568145,0.11547239601212446,0.11652500281718671,0.11667906705979274,0.11799012424670167,0.11869882532993438,0.11913207783054733,0.12042921342048869,0.12105843070913214,0.12130951507272662,0.12220151763234299,0.12472394273357339,0.12613012355577824,0.12673974698108637,0.12945209472579658,0.13170458884064007,0.13308224711910038,0.13429047371250166,0.13693831291159025,0.14386588070845813,0.144090009596891,0.1460907265085138,0.14642829718873118,0.1487554513858568,0.15170667234336777,0.1532261582898066,0.1553155106961507,0.1556051699751572,0.15581670927481928,0.15931391293921404,0.16041526555487828,0.1610359759594155,0.16137039784539994,0.16214995655978812,0.16497880903434017,0.165210704708359,0.16521127767560015,0.16861815090686935,0.1717851715995113,0.17277321980746016,0.17363325993437628,0.17803688881094798,0.1790384730627766,0.18037606670225692,0.1859396701129842,0.18698690271137178,0.18760496499539797,0.19203746424706503,0.19701782632596027,0.19877262448525737,0.20133920044955816,0.20221784413879357,0.2037684509106927,0.2041014238925112,0.2046060607135715,0.21187958258573475,0.2143046733424898,0.21597317094589058,0.2215815039372524,0.2265453272834183,0.2274423924277901,0.22765033791553543,0.22847297545092854,0.22862892009333963,0.22972980010477873,0.2305522429523761,0.23058139840879022,0.233087089240629,0.23617862131583045,0.23958128436361345,0.24017850677027125,0.2409319157222087,0.24161240401344336,0.24234364011960025,0.24357196816557455,0.2437795663512418,0.24858397690811646,0.24909293351657683,0.24951572297277025,0.24963868179750964,0.25163511470339384,0.25315153833572923,0.25569135129995973,0.2562614649167056,0.2576034838407037,0.2600313667221179,0.2631519310576989,0.2633007570095603,0.2635538448377618,0.26435391860556245,0.26520755184820516,0.2678764435740039,0.27421606236977236,0.28230910418967137,0.2882655407664511,0.28856438033449566,0.28881682037069767,0.2919682279857302,0.2925325853482427,0.2947287884713899,0.29643271724118875,0.2978337976413571,0.3030382843064511,0.30306892645507916,0.30328282248715643,0.3109842558282185,0.3126746326379575,0.31372770257454063,0.316436738964856,0.3286875918816299,0.33078496506015576,0.33257882535125993,0.3328941582228326,0.3350274785632062,0.338818960580589,0.3405057613121192,0.3419705603055359,0.3432298395459668,0.34391806081366255,0.34648683232812716,0.3525854441684954,0.3574269078551936,0.3613675621485571,0.3634262606797301,0.36543761720211676,0.3676318483675465,0.37217032755287854,0.3745441889458574,0.3860450043495671,0.3864870617593379,0.3899725701145485,0.3922975808881201,0.39297843323371057,0.3979920351533848,0.4031149424956577,0.41804726687663474,0.42070038546526045,0.4207014602644612,0.4221642003226132,0.4223395568748955,0.4277200118847545,0.4302298111314796,0.43085293048209145,0.43190945296683275,0.43420835509046435,0.4416900332242469,0.44517650844812273,0.45062656576049365,0.45981131574654505,0.4603219318920517,0.46620059798007385,0.47352321171129774,0.47573751270664927,0.4759465875490505,0.476745789430778,0.4819950964373965,0.48728032872906285,0.49158086160300246,0.49466782244622187,0.5009386240652917,0.5073391612704494,0.5084895884930382,0.5093511486902176,0.5238249806948898,0.5483031770461583,0.5511730861206772,0.5599732451754017,0.5689279157502234,0.5694601711686973,0.5724827114254157,0.576649622087502,0.5815414846626075,0.5826642585255951,0.5877376939656452,0.599784394875652,0.6013061031240016,0.6067920901756602,0.6306206280568667,0.6381689591353874,0.6481303986725644,0.651691460800372,0.6549677795404627,0.6613611713133558,0.6649084746862355,0.6690789613622029,0.6743411635111637,0.6744739721510272,0.6765725675243454,0.6793639257498139,0.6882619983435325,0.7080187573183103,0.730808783625044,0.750323835927737,0.7538946157744267,0.7626492181573982,0.7681823866392476,0.7688566066593856,0.7725035481115943,0.7842350636920667,0.7853617168724608,0.7882255483585572,0.7952872302812801,0.7966078615277508,0.8039856561065868,0.8068836426253821,0.8121602059282274,0.8174185902864,0.8195462764251086,0.8390495439358491,0.8451446790571417,0.8458052480904453,0.8494419391111144,0.8549924475866817,0.8579428090417713,0.8586997500852881,0.8628705148385087,0.8647234262145006,0.8794925586967499,0.8947194295490364,0.8974085895741726,0.9018255333656121,0.9139509316745894,0.917402153002256,0.9281337994070562,0.9304973199030329,0.9405892470922163,0.9509332172994407,0.9574213641924811,0.9621529653218829,0.9844082212342194,0.9901820143655576],\"xaxis\":\"x\",\"y\":[0.002,0.004,0.006,0.008,0.01,0.012,0.014,0.016,0.018,0.02,0.022,0.024,0.026,0.028,0.03,0.032,0.034,0.036,0.038,0.04,0.042,0.044,0.046,0.048,0.05,0.052,0.054,0.056,0.058,0.06,0.062,0.064,0.066,0.068,0.07,0.072,0.074,0.076,0.078,0.08,0.082,0.084,0.086,0.088,0.09,0.092,0.094,0.096,0.098,0.1,0.102,0.104,0.106,0.108,0.11,0.112,0.114,0.116,0.118,0.12,0.122,0.124,0.126,0.128,0.13,0.132,0.134,0.136,0.138,0.14,0.142,0.144,0.146,0.148,0.15,0.152,0.154,0.156,0.158,0.16,0.162,0.164,0.166,0.168,0.17,0.172,0.174,0.176,0.178,0.18,0.182,0.184,0.186,0.188,0.19,0.192,0.194,0.196,0.198,0.2,0.202,0.204,0.206,0.208,0.21,0.212,0.214,0.216,0.218,0.22,0.222,0.224,0.226,0.228,0.23,0.232,0.234,0.236,0.238,0.24,0.242,0.244,0.246,0.248,0.25,0.252,0.254,0.256,0.258,0.26,0.262,0.264,0.266,0.268,0.27,0.272,0.274,0.276,0.278,0.28,0.282,0.284,0.286,0.288,0.29,0.292,0.294,0.296,0.298,0.3,0.302,0.304,0.306,0.308,0.31,0.312,0.314,0.316,0.318,0.32,0.322,0.324,0.326,0.328,0.33,0.332,0.334,0.336,0.338,0.34,0.342,0.344,0.346,0.348,0.35,0.352,0.354,0.356,0.358,0.36,0.362,0.364,0.366,0.368,0.37,0.372,0.374,0.376,0.378,0.38,0.382,0.384,0.386,0.388,0.39,0.392,0.394,0.396,0.398,0.4,0.402,0.404,0.406,0.408,0.41,0.412,0.414,0.416,0.418,0.42,0.422,0.424,0.426,0.428,0.43,0.432,0.434,0.436,0.438,0.44,0.442,0.444,0.446,0.448,0.45,0.452,0.454,0.456,0.458,0.46,0.462,0.464,0.466,0.468,0.47,0.472,0.474,0.476,0.478,0.48,0.482,0.484,0.486,0.488,0.49,0.492,0.494,0.496,0.498,0.5,0.502,0.504,0.506,0.508,0.51,0.512,0.514,0.516,0.518,0.52,0.522,0.524,0.526,0.528,0.53,0.532,0.534,0.536,0.538,0.54,0.542,0.544,0.546,0.548,0.55,0.552,0.554,0.556,0.558,0.56,0.562,0.564,0.566,0.568,0.57,0.572,0.574,0.576,0.578,0.58,0.582,0.584,0.586,0.588,0.59,0.592,0.594,0.596,0.598,0.6,0.602,0.604,0.606,0.608,0.61,0.612,0.614,0.616,0.618,0.62,0.622,0.624,0.626,0.628,0.63,0.632,0.634,0.636,0.638,0.64,0.642,0.644,0.646,0.648,0.65,0.652,0.654,0.656,0.658,0.66,0.662,0.664,0.666,0.668,0.67,0.672,0.674,0.676,0.678,0.68,0.682,0.684,0.686,0.688,0.69,0.692,0.694,0.696,0.698,0.7,0.702,0.704,0.706,0.708,0.71,0.712,0.714,0.716,0.718,0.72,0.722,0.724,0.726,0.728,0.73,0.732,0.734,0.736,0.738,0.74,0.742,0.744,0.746,0.748,0.75,0.752,0.754,0.756,0.758,0.76,0.762,0.764,0.766,0.768,0.77,0.772,0.774,0.776,0.778,0.78,0.782,0.784,0.786,0.788,0.79,0.792,0.794,0.796,0.798,0.8,0.802,0.804,0.806,0.808,0.81,0.812,0.814,0.816,0.818,0.82,0.822,0.824,0.826,0.828,0.83,0.832,0.834,0.836,0.838,0.84,0.842,0.844,0.846,0.848,0.85,0.852,0.854,0.856,0.858,0.86,0.862,0.864,0.866,0.868,0.87,0.872,0.874,0.876,0.878,0.88,0.882,0.884,0.886,0.888,0.89,0.892,0.894,0.896,0.898,0.9,0.902,0.904,0.906,0.908,0.91,0.912,0.914,0.916,0.918,0.92,0.922,0.924,0.926,0.928,0.93,0.932,0.934,0.936,0.938,0.94,0.942,0.944,0.946,0.948,0.95,0.952,0.954,0.956,0.958,0.96,0.962,0.964,0.966,0.968,0.97,0.972,0.974,0.976,0.978,0.98,0.982,0.984,0.986,0.988,0.99,0.992,0.994,0.996,0.998,1.0],\"yaxis\":\"y\",\"type\":\"scatter\"}],                        {\"template\":{\"data\":{\"bar\":[{\"error_x\":{\"color\":\"#2a3f5f\"},\"error_y\":{\"color\":\"#2a3f5f\"},\"marker\":{\"line\":{\"color\":\"#E5ECF6\",\"width\":0.5},\"pattern\":{\"fillmode\":\"overlay\",\"size\":10,\"solidity\":0.2}},\"type\":\"bar\"}],\"barpolar\":[{\"marker\":{\"line\":{\"color\":\"#E5ECF6\",\"width\":0.5},\"pattern\":{\"fillmode\":\"overlay\",\"size\":10,\"solidity\":0.2}},\"type\":\"barpolar\"}],\"carpet\":[{\"aaxis\":{\"endlinecolor\":\"#2a3f5f\",\"gridcolor\":\"white\",\"linecolor\":\"white\",\"minorgridcolor\":\"white\",\"startlinecolor\":\"#2a3f5f\"},\"baxis\":{\"endlinecolor\":\"#2a3f5f\",\"gridcolor\":\"white\",\"linecolor\":\"white\",\"minorgridcolor\":\"white\",\"startlinecolor\":\"#2a3f5f\"},\"type\":\"carpet\"}],\"choropleth\":[{\"colorbar\":{\"outlinewidth\":0,\"ticks\":\"\"},\"type\":\"choropleth\"}],\"contour\":[{\"colorbar\":{\"outlinewidth\":0,\"ticks\":\"\"},\"colorscale\":[[0.0,\"#0d0887\"],[0.1111111111111111,\"#46039f\"],[0.2222222222222222,\"#7201a8\"],[0.3333333333333333,\"#9c179e\"],[0.4444444444444444,\"#bd3786\"],[0.5555555555555556,\"#d8576b\"],[0.6666666666666666,\"#ed7953\"],[0.7777777777777778,\"#fb9f3a\"],[0.8888888888888888,\"#fdca26\"],[1.0,\"#f0f921\"]],\"type\":\"contour\"}],\"contourcarpet\":[{\"colorbar\":{\"outlinewidth\":0,\"ticks\":\"\"},\"type\":\"contourcarpet\"}],\"heatmap\":[{\"colorbar\":{\"outlinewidth\":0,\"ticks\":\"\"},\"colorscale\":[[0.0,\"#0d0887\"],[0.1111111111111111,\"#46039f\"],[0.2222222222222222,\"#7201a8\"],[0.3333333333333333,\"#9c179e\"],[0.4444444444444444,\"#bd3786\"],[0.5555555555555556,\"#d8576b\"],[0.6666666666666666,\"#ed7953\"],[0.7777777777777778,\"#fb9f3a\"],[0.8888888888888888,\"#fdca26\"],[1.0,\"#f0f921\"]],\"type\":\"heatmap\"}],\"heatmapgl\":[{\"colorbar\":{\"outlinewidth\":0,\"ticks\":\"\"},\"colorscale\":[[0.0,\"#0d0887\"],[0.1111111111111111,\"#46039f\"],[0.2222222222222222,\"#7201a8\"],[0.3333333333333333,\"#9c179e\"],[0.4444444444444444,\"#bd3786\"],[0.5555555555555556,\"#d8576b\"],[0.6666666666666666,\"#ed7953\"],[0.7777777777777778,\"#fb9f3a\"],[0.8888888888888888,\"#fdca26\"],[1.0,\"#f0f921\"]],\"type\":\"heatmapgl\"}],\"histogram\":[{\"marker\":{\"pattern\":{\"fillmode\":\"overlay\",\"size\":10,\"solidity\":0.2}},\"type\":\"histogram\"}],\"histogram2d\":[{\"colorbar\":{\"outlinewidth\":0,\"ticks\":\"\"},\"colorscale\":[[0.0,\"#0d0887\"],[0.1111111111111111,\"#46039f\"],[0.2222222222222222,\"#7201a8\"],[0.3333333333333333,\"#9c179e\"],[0.4444444444444444,\"#bd3786\"],[0.5555555555555556,\"#d8576b\"],[0.6666666666666666,\"#ed7953\"],[0.7777777777777778,\"#fb9f3a\"],[0.8888888888888888,\"#fdca26\"],[1.0,\"#f0f921\"]],\"type\":\"histogram2d\"}],\"histogram2dcontour\":[{\"colorbar\":{\"outlinewidth\":0,\"ticks\":\"\"},\"colorscale\":[[0.0,\"#0d0887\"],[0.1111111111111111,\"#46039f\"],[0.2222222222222222,\"#7201a8\"],[0.3333333333333333,\"#9c179e\"],[0.4444444444444444,\"#bd3786\"],[0.5555555555555556,\"#d8576b\"],[0.6666666666666666,\"#ed7953\"],[0.7777777777777778,\"#fb9f3a\"],[0.8888888888888888,\"#fdca26\"],[1.0,\"#f0f921\"]],\"type\":\"histogram2dcontour\"}],\"mesh3d\":[{\"colorbar\":{\"outlinewidth\":0,\"ticks\":\"\"},\"type\":\"mesh3d\"}],\"parcoords\":[{\"line\":{\"colorbar\":{\"outlinewidth\":0,\"ticks\":\"\"}},\"type\":\"parcoords\"}],\"pie\":[{\"automargin\":true,\"type\":\"pie\"}],\"scatter\":[{\"marker\":{\"colorbar\":{\"outlinewidth\":0,\"ticks\":\"\"}},\"type\":\"scatter\"}],\"scatter3d\":[{\"line\":{\"colorbar\":{\"outlinewidth\":0,\"ticks\":\"\"}},\"marker\":{\"colorbar\":{\"outlinewidth\":0,\"ticks\":\"\"}},\"type\":\"scatter3d\"}],\"scattercarpet\":[{\"marker\":{\"colorbar\":{\"outlinewidth\":0,\"ticks\":\"\"}},\"type\":\"scattercarpet\"}],\"scattergeo\":[{\"marker\":{\"colorbar\":{\"outlinewidth\":0,\"ticks\":\"\"}},\"type\":\"scattergeo\"}],\"scattergl\":[{\"marker\":{\"colorbar\":{\"outlinewidth\":0,\"ticks\":\"\"}},\"type\":\"scattergl\"}],\"scattermapbox\":[{\"marker\":{\"colorbar\":{\"outlinewidth\":0,\"ticks\":\"\"}},\"type\":\"scattermapbox\"}],\"scatterpolar\":[{\"marker\":{\"colorbar\":{\"outlinewidth\":0,\"ticks\":\"\"}},\"type\":\"scatterpolar\"}],\"scatterpolargl\":[{\"marker\":{\"colorbar\":{\"outlinewidth\":0,\"ticks\":\"\"}},\"type\":\"scatterpolargl\"}],\"scatterternary\":[{\"marker\":{\"colorbar\":{\"outlinewidth\":0,\"ticks\":\"\"}},\"type\":\"scatterternary\"}],\"surface\":[{\"colorbar\":{\"outlinewidth\":0,\"ticks\":\"\"},\"colorscale\":[[0.0,\"#0d0887\"],[0.1111111111111111,\"#46039f\"],[0.2222222222222222,\"#7201a8\"],[0.3333333333333333,\"#9c179e\"],[0.4444444444444444,\"#bd3786\"],[0.5555555555555556,\"#d8576b\"],[0.6666666666666666,\"#ed7953\"],[0.7777777777777778,\"#fb9f3a\"],[0.8888888888888888,\"#fdca26\"],[1.0,\"#f0f921\"]],\"type\":\"surface\"}],\"table\":[{\"cells\":{\"fill\":{\"color\":\"#EBF0F8\"},\"line\":{\"color\":\"white\"}},\"header\":{\"fill\":{\"color\":\"#C8D4E3\"},\"line\":{\"color\":\"white\"}},\"type\":\"table\"}]},\"layout\":{\"annotationdefaults\":{\"arrowcolor\":\"#2a3f5f\",\"arrowhead\":0,\"arrowwidth\":1},\"autotypenumbers\":\"strict\",\"coloraxis\":{\"colorbar\":{\"outlinewidth\":0,\"ticks\":\"\"}},\"colorscale\":{\"diverging\":[[0,\"#8e0152\"],[0.1,\"#c51b7d\"],[0.2,\"#de77ae\"],[0.3,\"#f1b6da\"],[0.4,\"#fde0ef\"],[0.5,\"#f7f7f7\"],[0.6,\"#e6f5d0\"],[0.7,\"#b8e186\"],[0.8,\"#7fbc41\"],[0.9,\"#4d9221\"],[1,\"#276419\"]],\"sequential\":[[0.0,\"#0d0887\"],[0.1111111111111111,\"#46039f\"],[0.2222222222222222,\"#7201a8\"],[0.3333333333333333,\"#9c179e\"],[0.4444444444444444,\"#bd3786\"],[0.5555555555555556,\"#d8576b\"],[0.6666666666666666,\"#ed7953\"],[0.7777777777777778,\"#fb9f3a\"],[0.8888888888888888,\"#fdca26\"],[1.0,\"#f0f921\"]],\"sequentialminus\":[[0.0,\"#0d0887\"],[0.1111111111111111,\"#46039f\"],[0.2222222222222222,\"#7201a8\"],[0.3333333333333333,\"#9c179e\"],[0.4444444444444444,\"#bd3786\"],[0.5555555555555556,\"#d8576b\"],[0.6666666666666666,\"#ed7953\"],[0.7777777777777778,\"#fb9f3a\"],[0.8888888888888888,\"#fdca26\"],[1.0,\"#f0f921\"]]},\"colorway\":[\"#636efa\",\"#EF553B\",\"#00cc96\",\"#ab63fa\",\"#FFA15A\",\"#19d3f3\",\"#FF6692\",\"#B6E880\",\"#FF97FF\",\"#FECB52\"],\"font\":{\"color\":\"#2a3f5f\"},\"geo\":{\"bgcolor\":\"white\",\"lakecolor\":\"white\",\"landcolor\":\"#E5ECF6\",\"showlakes\":true,\"showland\":true,\"subunitcolor\":\"white\"},\"hoverlabel\":{\"align\":\"left\"},\"hovermode\":\"closest\",\"mapbox\":{\"style\":\"light\"},\"paper_bgcolor\":\"white\",\"plot_bgcolor\":\"#E5ECF6\",\"polar\":{\"angularaxis\":{\"gridcolor\":\"white\",\"linecolor\":\"white\",\"ticks\":\"\"},\"bgcolor\":\"#E5ECF6\",\"radialaxis\":{\"gridcolor\":\"white\",\"linecolor\":\"white\",\"ticks\":\"\"}},\"scene\":{\"xaxis\":{\"backgroundcolor\":\"#E5ECF6\",\"gridcolor\":\"white\",\"gridwidth\":2,\"linecolor\":\"white\",\"showbackground\":true,\"ticks\":\"\",\"zerolinecolor\":\"white\"},\"yaxis\":{\"backgroundcolor\":\"#E5ECF6\",\"gridcolor\":\"white\",\"gridwidth\":2,\"linecolor\":\"white\",\"showbackground\":true,\"ticks\":\"\",\"zerolinecolor\":\"white\"},\"zaxis\":{\"backgroundcolor\":\"#E5ECF6\",\"gridcolor\":\"white\",\"gridwidth\":2,\"linecolor\":\"white\",\"showbackground\":true,\"ticks\":\"\",\"zerolinecolor\":\"white\"}},\"shapedefaults\":{\"line\":{\"color\":\"#2a3f5f\"}},\"ternary\":{\"aaxis\":{\"gridcolor\":\"white\",\"linecolor\":\"white\",\"ticks\":\"\"},\"baxis\":{\"gridcolor\":\"white\",\"linecolor\":\"white\",\"ticks\":\"\"},\"bgcolor\":\"#E5ECF6\",\"caxis\":{\"gridcolor\":\"white\",\"linecolor\":\"white\",\"ticks\":\"\"}},\"title\":{\"x\":0.05},\"xaxis\":{\"automargin\":true,\"gridcolor\":\"white\",\"linecolor\":\"white\",\"ticks\":\"\",\"title\":{\"standoff\":15},\"zerolinecolor\":\"white\",\"zerolinewidth\":2},\"yaxis\":{\"automargin\":true,\"gridcolor\":\"white\",\"linecolor\":\"white\",\"ticks\":\"\",\"title\":{\"standoff\":15},\"zerolinecolor\":\"white\",\"zerolinewidth\":2}}},\"xaxis\":{\"anchor\":\"y\",\"domain\":[0.0,1.0],\"title\":{\"text\":\"value\"}},\"yaxis\":{\"anchor\":\"x\",\"domain\":[0.0,1.0],\"title\":{\"text\":\"probability\"},\"rangemode\":\"tozero\"},\"legend\":{\"title\":{\"text\":\"variable\"},\"tracegroupgap\":0},\"margin\":{\"t\":60}},                        {\"responsive\": true}                    ).then(function(){\n",
       "                            \n",
       "var gd = document.getElementById('1a1d5487-c25c-43ca-82df-329dcadb3a28');\n",
       "var x = new MutationObserver(function (mutations, observer) {{\n",
       "        var display = window.getComputedStyle(gd).display;\n",
       "        if (!display || display === 'none') {{\n",
       "            console.log([gd, 'removed!']);\n",
       "            Plotly.purge(gd);\n",
       "            observer.disconnect();\n",
       "        }}\n",
       "}});\n",
       "\n",
       "// Listen for the removal of the full notebook cells\n",
       "var notebookContainer = gd.closest('#notebook-container');\n",
       "if (notebookContainer) {{\n",
       "    x.observe(notebookContainer, {childList: true});\n",
       "}}\n",
       "\n",
       "// Listen for the clearing of the current output cell\n",
       "var outputEl = gd.closest('.output');\n",
       "if (outputEl) {{\n",
       "    x.observe(outputEl, {childList: true});\n",
       "}}\n",
       "\n",
       "                        })                };                });            </script>        </div>"
      ]
     },
     "metadata": {},
     "output_type": "display_data"
    }
   ],
   "source": [
    "px.ecdf(new_search_space.get_base().rvs(size=500))"
   ]
  },
  {
   "cell_type": "markdown",
   "metadata": {},
   "source": [
    "Distributions seem satisfactory!"
   ]
  },
  {
   "cell_type": "markdown",
   "metadata": {},
   "source": [
    "### Initial POC of croston"
   ]
  },
  {
   "cell_type": "code",
   "execution_count": 14,
   "metadata": {},
   "outputs": [
    {
     "data": {
      "text/plain": [
       "<AxesSubplot:xlabel='Period'>"
      ]
     },
     "execution_count": 14,
     "metadata": {},
     "output_type": "execute_result"
    },
    {
     "data": {
      "image/png": "[encoded data removed]",
      "text/plain": [
       "<Figure size 576x396 with 1 Axes>"
      ]
     },
     "metadata": {},
     "output_type": "display_data"
    }
   ],
   "source": [
    "# Get any dataset as not really important for the demo what it is as we will transform!\n",
    "y = get_data(\"lynx\", verbose=False)\n",
    "# clip the dataset and reduce the scale by the same amount to make a dataset with a lot of zeros / intermittent style\n",
    "clip_number = np.quantile(y,0.84)\n",
    "y_intermittent= (y.clip(lower=clip_number) - clip_number )\n",
    "y_intermittent.head()\n",
    "y_intermittent.plot()"
   ]
  },
  {
   "cell_type": "code",
   "execution_count": 15,
   "metadata": {},
   "outputs": [
    {
     "data": {
      "text/plain": [
       "0.0"
      ]
     },
     "execution_count": 15,
     "metadata": {},
     "output_type": "execute_result"
    }
   ],
   "source": [
    "y_intermittent.min()"
   ]
  },
  {
   "cell_type": "markdown",
   "metadata": {},
   "source": [
    "#### Setup basic pycaret ts experiment"
   ]
  },
  {
   "cell_type": "code",
   "execution_count": 7,
   "metadata": {},
   "outputs": [
    {
     "data": {
      "text/html": [
       "<style type=\"text/css\">\n",
       "#T_70e4b_row8_col1, #T_70e4b_row10_col1 {\n",
       "  background-color: lightgreen;\n",
       "}\n",
       "</style>\n",
       "<table id=\"T_70e4b_\">\n",
       "  <thead>\n",
       "    <tr>\n",
       "      <th class=\"blank level0\" >&nbsp;</th>\n",
       "      <th class=\"col_heading level0 col0\" >Description</th>\n",
       "      <th class=\"col_heading level0 col1\" >Value</th>\n",
       "    </tr>\n",
       "  </thead>\n",
       "  <tbody>\n",
       "    <tr>\n",
       "      <th id=\"T_70e4b_level0_row0\" class=\"row_heading level0 row0\" >0</th>\n",
       "      <td id=\"T_70e4b_row0_col0\" class=\"data row0 col0\" >session_id</td>\n",
       "      <td id=\"T_70e4b_row0_col1\" class=\"data row0 col1\" >55</td>\n",
       "    </tr>\n",
       "    <tr>\n",
       "      <th id=\"T_70e4b_level0_row1\" class=\"row_heading level0 row1\" >1</th>\n",
       "      <td id=\"T_70e4b_row1_col0\" class=\"data row1 col0\" >Original Data</td>\n",
       "      <td id=\"T_70e4b_row1_col1\" class=\"data row1 col1\" >(114, 1)</td>\n",
       "    </tr>\n",
       "    <tr>\n",
       "      <th id=\"T_70e4b_level0_row2\" class=\"row_heading level0 row2\" >2</th>\n",
       "      <td id=\"T_70e4b_row2_col0\" class=\"data row2 col0\" >Missing Values</td>\n",
       "      <td id=\"T_70e4b_row2_col1\" class=\"data row2 col1\" >False</td>\n",
       "    </tr>\n",
       "    <tr>\n",
       "      <th id=\"T_70e4b_level0_row3\" class=\"row_heading level0 row3\" >3</th>\n",
       "      <td id=\"T_70e4b_row3_col0\" class=\"data row3 col0\" >Transformed Train Set</td>\n",
       "      <td id=\"T_70e4b_row3_col1\" class=\"data row3 col1\" >(109,)</td>\n",
       "    </tr>\n",
       "    <tr>\n",
       "      <th id=\"T_70e4b_level0_row4\" class=\"row_heading level0 row4\" >4</th>\n",
       "      <td id=\"T_70e4b_row4_col0\" class=\"data row4 col0\" >Transformed Test Set</td>\n",
       "      <td id=\"T_70e4b_row4_col1\" class=\"data row4 col1\" >(5,)</td>\n",
       "    </tr>\n",
       "    <tr>\n",
       "      <th id=\"T_70e4b_level0_row5\" class=\"row_heading level0 row5\" >5</th>\n",
       "      <td id=\"T_70e4b_row5_col0\" class=\"data row5 col0\" >Fold Generator</td>\n",
       "      <td id=\"T_70e4b_row5_col1\" class=\"data row5 col1\" >ExpandingWindowSplitter</td>\n",
       "    </tr>\n",
       "    <tr>\n",
       "      <th id=\"T_70e4b_level0_row6\" class=\"row_heading level0 row6\" >6</th>\n",
       "      <td id=\"T_70e4b_row6_col0\" class=\"data row6 col0\" >Fold Number</td>\n",
       "      <td id=\"T_70e4b_row6_col1\" class=\"data row6 col1\" >5</td>\n",
       "    </tr>\n",
       "    <tr>\n",
       "      <th id=\"T_70e4b_level0_row7\" class=\"row_heading level0 row7\" >7</th>\n",
       "      <td id=\"T_70e4b_row7_col0\" class=\"data row7 col0\" >Enforce Prediction Interval</td>\n",
       "      <td id=\"T_70e4b_row7_col1\" class=\"data row7 col1\" >False</td>\n",
       "    </tr>\n",
       "    <tr>\n",
       "      <th id=\"T_70e4b_level0_row8\" class=\"row_heading level0 row8\" >8</th>\n",
       "      <td id=\"T_70e4b_row8_col0\" class=\"data row8 col0\" >Seasonal Period Tested</td>\n",
       "      <td id=\"T_70e4b_row8_col1\" class=\"data row8 col1\" >1</td>\n",
       "    </tr>\n",
       "    <tr>\n",
       "      <th id=\"T_70e4b_level0_row9\" class=\"row_heading level0 row9\" >9</th>\n",
       "      <td id=\"T_70e4b_row9_col0\" class=\"data row9 col0\" >Seasonality Detected</td>\n",
       "      <td id=\"T_70e4b_row9_col1\" class=\"data row9 col1\" >False</td>\n",
       "    </tr>\n",
       "    <tr>\n",
       "      <th id=\"T_70e4b_level0_row10\" class=\"row_heading level0 row10\" >10</th>\n",
       "      <td id=\"T_70e4b_row10_col0\" class=\"data row10 col0\" >Seasonality Used in Models</td>\n",
       "      <td id=\"T_70e4b_row10_col1\" class=\"data row10 col1\" >1</td>\n",
       "    </tr>\n",
       "    <tr>\n",
       "      <th id=\"T_70e4b_level0_row11\" class=\"row_heading level0 row11\" >11</th>\n",
       "      <td id=\"T_70e4b_row11_col0\" class=\"data row11 col0\" >Target Strictly Positive</td>\n",
       "      <td id=\"T_70e4b_row11_col1\" class=\"data row11 col1\" >False</td>\n",
       "    </tr>\n",
       "    <tr>\n",
       "      <th id=\"T_70e4b_level0_row12\" class=\"row_heading level0 row12\" >12</th>\n",
       "      <td id=\"T_70e4b_row12_col0\" class=\"data row12 col0\" >Target White Noise</td>\n",
       "      <td id=\"T_70e4b_row12_col1\" class=\"data row12 col1\" >No</td>\n",
       "    </tr>\n",
       "    <tr>\n",
       "      <th id=\"T_70e4b_level0_row13\" class=\"row_heading level0 row13\" >13</th>\n",
       "      <td id=\"T_70e4b_row13_col0\" class=\"data row13 col0\" >Recommended d</td>\n",
       "      <td id=\"T_70e4b_row13_col1\" class=\"data row13 col1\" >0</td>\n",
       "    </tr>\n",
       "    <tr>\n",
       "      <th id=\"T_70e4b_level0_row14\" class=\"row_heading level0 row14\" >14</th>\n",
       "      <td id=\"T_70e4b_row14_col0\" class=\"data row14 col0\" >Recommended Seasonal D</td>\n",
       "      <td id=\"T_70e4b_row14_col1\" class=\"data row14 col1\" >0</td>\n",
       "    </tr>\n",
       "    <tr>\n",
       "      <th id=\"T_70e4b_level0_row15\" class=\"row_heading level0 row15\" >15</th>\n",
       "      <td id=\"T_70e4b_row15_col0\" class=\"data row15 col0\" >CPU Jobs</td>\n",
       "      <td id=\"T_70e4b_row15_col1\" class=\"data row15 col1\" >-1</td>\n",
       "    </tr>\n",
       "    <tr>\n",
       "      <th id=\"T_70e4b_level0_row16\" class=\"row_heading level0 row16\" >16</th>\n",
       "      <td id=\"T_70e4b_row16_col0\" class=\"data row16 col0\" >Use GPU</td>\n",
       "      <td id=\"T_70e4b_row16_col1\" class=\"data row16 col1\" >False</td>\n",
       "    </tr>\n",
       "    <tr>\n",
       "      <th id=\"T_70e4b_level0_row17\" class=\"row_heading level0 row17\" >17</th>\n",
       "      <td id=\"T_70e4b_row17_col0\" class=\"data row17 col0\" >Log Experiment</td>\n",
       "      <td id=\"T_70e4b_row17_col1\" class=\"data row17 col1\" >False</td>\n",
       "    </tr>\n",
       "    <tr>\n",
       "      <th id=\"T_70e4b_level0_row18\" class=\"row_heading level0 row18\" >18</th>\n",
       "      <td id=\"T_70e4b_row18_col0\" class=\"data row18 col0\" >Experiment Name</td>\n",
       "      <td id=\"T_70e4b_row18_col1\" class=\"data row18 col1\" >ts-default-name</td>\n",
       "    </tr>\n",
       "    <tr>\n",
       "      <th id=\"T_70e4b_level0_row19\" class=\"row_heading level0 row19\" >19</th>\n",
       "      <td id=\"T_70e4b_row19_col0\" class=\"data row19 col0\" >USI</td>\n",
       "      <td id=\"T_70e4b_row19_col1\" class=\"data row19 col1\" >f76f</td>\n",
       "    </tr>\n",
       "    <tr>\n",
       "      <th id=\"T_70e4b_level0_row20\" class=\"row_heading level0 row20\" >20</th>\n",
       "      <td id=\"T_70e4b_row20_col0\" class=\"data row20 col0\" >Imputation Type</td>\n",
       "      <td id=\"T_70e4b_row20_col1\" class=\"data row20 col1\" >simple</td>\n",
       "    </tr>\n",
       "  </tbody>\n",
       "</table>\n"
      ],
      "text/plain": [
       "<pandas.io.formats.style.Styler at 0x7f4e24682d00>"
      ]
     },
     "metadata": {},
     "output_type": "display_data"
    },
    {
     "data": {
      "text/plain": [
       "<pycaret.internal.pycaret_experiment.time_series_experiment.TimeSeriesExperiment at 0x7f4e26c69f10>"
      ]
     },
     "execution_count": 7,
     "metadata": {},
     "output_type": "execute_result"
    }
   ],
   "source": [
    "FORECAST_HORIZON=5\n",
    "exp = TimeSeriesExperiment()\n",
    "\n",
    "exp.setup(data=y_intermittent , fh=FORECAST_HORIZON, fold=5, fold_strategy='expanding', session_id=55)"
   ]
  },
  {
   "cell_type": "markdown",
   "metadata": {},
   "source": [
    "#### Training/ model comparison\n",
    "##### Compare models - sort by smape"
   ]
  },
  {
   "cell_type": "code",
   "execution_count": 8,
   "metadata": {},
   "outputs": [
    {
     "ename": "ValueError",
     "evalue": "Estimator croston Not Available. Please see docstring for list of available estimators.",
     "output_type": "error",
     "traceback": [
      "\u001b[0;31m---------------------------------------------------------------------------\u001b[0m",
      "\u001b[0;31mValueError\u001b[0m                                Traceback (most recent call last)",
      "\u001b[0;32m/tmp/ipykernel_2858/4141523452.py\u001b[0m in \u001b[0;36m<module>\u001b[0;34m\u001b[0m\n\u001b[0;32m----> 1\u001b[0;31m \u001b[0mbest\u001b[0m \u001b[0;34m=\u001b[0m \u001b[0mexp\u001b[0m\u001b[0;34m.\u001b[0m\u001b[0mcompare_models\u001b[0m\u001b[0;34m(\u001b[0m\u001b[0mturbo\u001b[0m\u001b[0;34m=\u001b[0m\u001b[0;32mTrue\u001b[0m\u001b[0;34m,\u001b[0m \u001b[0msort\u001b[0m\u001b[0;34m=\u001b[0m\u001b[0;34m'SMAPE'\u001b[0m\u001b[0;34m,\u001b[0m \u001b[0minclude\u001b[0m\u001b[0;34m=\u001b[0m\u001b[0;34m[\u001b[0m\u001b[0;34m'ets'\u001b[0m\u001b[0;34m,\u001b[0m\u001b[0;34m'croston'\u001b[0m\u001b[0;34m]\u001b[0m\u001b[0;34m)\u001b[0m\u001b[0;34m\u001b[0m\u001b[0;34m\u001b[0m\u001b[0m\n\u001b[0m",
      "\u001b[0;32m/workspaces/pycaret/pycaret/internal/pycaret_experiment/time_series_experiment.py\u001b[0m in \u001b[0;36mcompare_models\u001b[0;34m(self, include, exclude, fold, round, cross_validation, sort, n_select, budget_time, turbo, errors, fit_kwargs, verbose)\u001b[0m\n\u001b[1;32m   1305\u001b[0m         \"\"\"\n\u001b[1;32m   1306\u001b[0m \u001b[0;34m\u001b[0m\u001b[0m\n\u001b[0;32m-> 1307\u001b[0;31m         return super().compare_models(\n\u001b[0m\u001b[1;32m   1308\u001b[0m             \u001b[0minclude\u001b[0m\u001b[0;34m=\u001b[0m\u001b[0minclude\u001b[0m\u001b[0;34m,\u001b[0m\u001b[0;34m\u001b[0m\u001b[0;34m\u001b[0m\u001b[0m\n\u001b[1;32m   1309\u001b[0m             \u001b[0mexclude\u001b[0m\u001b[0;34m=\u001b[0m\u001b[0mexclude\u001b[0m\u001b[0;34m,\u001b[0m\u001b[0;34m\u001b[0m\u001b[0;34m\u001b[0m\u001b[0m\n",
      "\u001b[0;32m/workspaces/pycaret/pycaret/internal/pycaret_experiment/supervised_experiment.py\u001b[0m in \u001b[0;36mcompare_models\u001b[0;34m(self, include, exclude, fold, round, cross_validation, sort, n_select, budget_time, turbo, errors, fit_kwargs, groups, probability_threshold, verbose, display)\u001b[0m\n\u001b[1;32m    535\u001b[0m                 \u001b[0;32mif\u001b[0m \u001b[0misinstance\u001b[0m\u001b[0;34m(\u001b[0m\u001b[0mi\u001b[0m\u001b[0;34m,\u001b[0m \u001b[0mstr\u001b[0m\u001b[0;34m)\u001b[0m\u001b[0;34m:\u001b[0m\u001b[0;34m\u001b[0m\u001b[0;34m\u001b[0m\u001b[0m\n\u001b[1;32m    536\u001b[0m                     \u001b[0;32mif\u001b[0m \u001b[0mi\u001b[0m \u001b[0;32mnot\u001b[0m \u001b[0;32min\u001b[0m \u001b[0mavailable_estimators\u001b[0m\u001b[0;34m:\u001b[0m\u001b[0;34m\u001b[0m\u001b[0;34m\u001b[0m\u001b[0m\n\u001b[0;32m--> 537\u001b[0;31m                         raise ValueError(\n\u001b[0m\u001b[1;32m    538\u001b[0m                             \u001b[0;34mf\"Estimator {i} Not Available. Please see docstring for list of available estimators.\"\u001b[0m\u001b[0;34m\u001b[0m\u001b[0;34m\u001b[0m\u001b[0m\n\u001b[1;32m    539\u001b[0m                         )\n",
      "\u001b[0;31mValueError\u001b[0m: Estimator croston Not Available. Please see docstring for list of available estimators."
     ]
    }
   ],
   "source": [
    "best = exp.compare_models(turbo=True, sort='SMAPE', include=['ets','croston'])"
   ]
  },
  {
   "cell_type": "markdown",
   "metadata": {},
   "source": [
    "##### Create croston"
   ]
  },
  {
   "cell_type": "code",
   "execution_count": 9,
   "metadata": {},
   "outputs": [
    {
     "ename": "ValueError",
     "evalue": "Estimator croston not available. Please see docstring for list of available estimators.",
     "output_type": "error",
     "traceback": [
      "\u001b[0;31m---------------------------------------------------------------------------\u001b[0m",
      "\u001b[0;31mValueError\u001b[0m                                Traceback (most recent call last)",
      "\u001b[0;32m/tmp/ipykernel_2858/1481560705.py\u001b[0m in \u001b[0;36m<module>\u001b[0;34m\u001b[0m\n\u001b[0;32m----> 1\u001b[0;31m \u001b[0mcroston\u001b[0m \u001b[0;34m=\u001b[0m \u001b[0mexp\u001b[0m\u001b[0;34m.\u001b[0m\u001b[0mcreate_model\u001b[0m\u001b[0;34m(\u001b[0m\u001b[0;34m'croston'\u001b[0m\u001b[0;34m)\u001b[0m\u001b[0;34m\u001b[0m\u001b[0;34m\u001b[0m\u001b[0m\n\u001b[0m",
      "\u001b[0;32m/workspaces/pycaret/pycaret/internal/pycaret_experiment/time_series_experiment.py\u001b[0m in \u001b[0;36mcreate_model\u001b[0;34m(self, estimator, fold, round, cross_validation, fit_kwargs, verbose, **kwargs)\u001b[0m\n\u001b[1;32m   1423\u001b[0m \u001b[0;34m\u001b[0m\u001b[0m\n\u001b[1;32m   1424\u001b[0m         \"\"\"\n\u001b[0;32m-> 1425\u001b[0;31m         return super().create_model(\n\u001b[0m\u001b[1;32m   1426\u001b[0m             \u001b[0mestimator\u001b[0m\u001b[0;34m=\u001b[0m\u001b[0mestimator\u001b[0m\u001b[0;34m,\u001b[0m\u001b[0;34m\u001b[0m\u001b[0;34m\u001b[0m\u001b[0m\n\u001b[1;32m   1427\u001b[0m             \u001b[0mfold\u001b[0m\u001b[0;34m=\u001b[0m\u001b[0mfold\u001b[0m\u001b[0;34m,\u001b[0m\u001b[0;34m\u001b[0m\u001b[0;34m\u001b[0m\u001b[0m\n",
      "\u001b[0;32m/workspaces/pycaret/pycaret/internal/pycaret_experiment/supervised_experiment.py\u001b[0m in \u001b[0;36mcreate_model\u001b[0;34m(self, estimator, fold, round, cross_validation, predict, fit_kwargs, groups, refit, probability_threshold, verbose, system, add_to_model_list, X_train_data, y_train_data, metrics, display, **kwargs)\u001b[0m\n\u001b[1;32m   1334\u001b[0m         \u001b[0;32mif\u001b[0m \u001b[0misinstance\u001b[0m\u001b[0;34m(\u001b[0m\u001b[0mestimator\u001b[0m\u001b[0;34m,\u001b[0m \u001b[0mstr\u001b[0m\u001b[0;34m)\u001b[0m\u001b[0;34m:\u001b[0m\u001b[0;34m\u001b[0m\u001b[0;34m\u001b[0m\u001b[0m\n\u001b[1;32m   1335\u001b[0m             \u001b[0;32mif\u001b[0m \u001b[0mestimator\u001b[0m \u001b[0;32mnot\u001b[0m \u001b[0;32min\u001b[0m \u001b[0mavailable_estimators\u001b[0m\u001b[0;34m:\u001b[0m\u001b[0;34m\u001b[0m\u001b[0;34m\u001b[0m\u001b[0m\n\u001b[0;32m-> 1336\u001b[0;31m                 raise ValueError(\n\u001b[0m\u001b[1;32m   1337\u001b[0m                     \u001b[0;34mf\"Estimator {estimator} not available. Please see docstring for list of available estimators.\"\u001b[0m\u001b[0;34m\u001b[0m\u001b[0;34m\u001b[0m\u001b[0m\n\u001b[1;32m   1338\u001b[0m                 )\n",
      "\u001b[0;31mValueError\u001b[0m: Estimator croston not available. Please see docstring for list of available estimators."
     ]
    }
   ],
   "source": [
    "croston = exp.create_model('croston')"
   ]
  },
  {
   "cell_type": "markdown",
   "metadata": {},
   "source": [
    "##### Plot Croston"
   ]
  },
  {
   "cell_type": "code",
   "execution_count": null,
   "metadata": {},
   "outputs": [],
   "source": [
    "exp.plot_model(croston)"
   ]
  },
  {
   "cell_type": "markdown",
   "metadata": {},
   "source": [
    "##### Tune Croston"
   ]
  },
  {
   "cell_type": "code",
   "execution_count": null,
   "metadata": {},
   "outputs": [],
   "source": [
    "tuned_croston = exp.tune_model(croston)"
   ]
  },
  {
   "cell_type": "markdown",
   "metadata": {},
   "source": [
    "##### Plot tuned croston"
   ]
  },
  {
   "cell_type": "code",
   "execution_count": null,
   "metadata": {},
   "outputs": [],
   "source": [
    "exp.plot_model(tuned_croston)"
   ]
  },
  {
   "cell_type": "code",
   "execution_count": null,
   "metadata": {},
   "outputs": [],
   "source": [
    "print(croston)\n",
    "print(tuned_croston)"
   ]
  },
  {
   "cell_type": "code",
   "execution_count": 17,
   "metadata": {},
   "outputs": [
    {
     "data": {
      "text/plain": [
       "<AxesSubplot:xlabel='Period'>"
      ]
     },
     "execution_count": 17,
     "metadata": {},
     "output_type": "execute_result"
    },
    {
     "data": {
      "image/png": "[encoded data removed]",
      "text/plain": [
       "<Figure size 576x396 with 1 Axes>"
      ]
     },
     "metadata": {},
     "output_type": "display_data"
    }
   ],
   "source": []
  },
  {
   "cell_type": "code",
   "execution_count": 21,
   "metadata": {},
   "outputs": [
    {
     "name": "stdout",
     "output_type": "stream",
     "text": [
      "Period\n",
      "1821     -0.00\n",
      "1822     -0.00\n",
      "1823     -0.00\n",
      "1824     -0.00\n",
      "1825     -0.00\n",
      "         ...  \n",
      "1930     -0.00\n",
      "1931     -0.00\n",
      "1932     -0.00\n",
      "1933     -0.00\n",
      "1934   -313.48\n",
      "Freq: A-DEC, Name: Number of Lynx trappings, Length: 114, dtype: float64\n",
      "1934   -0.0\n",
      "1935   -0.0\n",
      "1936   -0.0\n",
      "1937   -0.0\n",
      "1938   -0.0\n",
      "Freq: A-DEC, dtype: float64\n"
     ]
    }
   ],
   "source": [
    "from pycaret.datasets import get_data\n",
    "import pandas as pd\n",
    "from sktime.forecasting.croston import Croston\n",
    "\n",
    "# Get any dataset as not really important for the demo what it is as we will transform!\n",
    "y = get_data(\"lynx\", verbose=False)\n",
    "# clip the dataset and reduce the scale by the same amount to make a dataset with a lot of zeros / intermittent style\n",
    "clip_number = np.quantile(y,0.84)\n",
    "#clip and turn negative\n",
    "y_neg= -(y.clip(lower=clip_number) - clip_number )\n",
    "# init model\n",
    "forecaster = Croston(smoothing=0.1)\n",
    "# print training data\n",
    "print(y_neg)\n",
    "# fit the model\n",
    "forecaster.fit(y_neg)\n",
    "# create prediction\n",
    "y_pred = forecaster.predict(fh=[i for i in range(5)])\n",
    "print(y_pred)"
   ]
  },
  {
   "cell_type": "code",
   "execution_count": null,
   "metadata": {},
   "outputs": [],
   "source": [
    "neg_croston = neg_exp.compare_models()"
   ]
  },
  {
   "cell_type": "code",
   "execution_count": null,
   "metadata": {},
   "outputs": [],
   "source": [
    "neg_exp.plot_model(neg_croston)"
   ]
  },
  {
   "cell_type": "markdown",
   "metadata": {},
   "source": [
    "### Does sktime Croston handle negative values ?\n",
    "(no)"
   ]
  },
  {
   "cell_type": "code",
   "execution_count": 16,
   "metadata": {},
   "outputs": [
    {
     "ename": "NameError",
     "evalue": "name 'y_neg' is not defined",
     "output_type": "error",
     "traceback": [
      "\u001b[0;31m---------------------------------------------------------------------------\u001b[0m",
      "\u001b[0;31mNameError\u001b[0m                                 Traceback (most recent call last)",
      "\u001b[0;32m/tmp/ipykernel_2858/1040152726.py\u001b[0m in \u001b[0;36m<module>\u001b[0;34m\u001b[0m\n\u001b[1;32m      1\u001b[0m \u001b[0;32mfrom\u001b[0m \u001b[0msktime\u001b[0m\u001b[0;34m.\u001b[0m\u001b[0mforecasting\u001b[0m\u001b[0;34m.\u001b[0m\u001b[0mcroston\u001b[0m \u001b[0;32mimport\u001b[0m \u001b[0mCroston\u001b[0m\u001b[0;34m\u001b[0m\u001b[0;34m\u001b[0m\u001b[0m\n\u001b[1;32m      2\u001b[0m \u001b[0;34m\u001b[0m\u001b[0m\n\u001b[0;32m----> 3\u001b[0;31m \u001b[0my\u001b[0m \u001b[0;34m=\u001b[0m \u001b[0my_neg\u001b[0m\u001b[0;34m\u001b[0m\u001b[0;34m\u001b[0m\u001b[0m\n\u001b[0m\u001b[1;32m      4\u001b[0m \u001b[0mforecaster\u001b[0m \u001b[0;34m=\u001b[0m \u001b[0mCroston\u001b[0m\u001b[0;34m(\u001b[0m\u001b[0msmoothing\u001b[0m\u001b[0;34m=\u001b[0m\u001b[0;36m0.1\u001b[0m\u001b[0;34m)\u001b[0m\u001b[0;34m\u001b[0m\u001b[0;34m\u001b[0m\u001b[0m\n\u001b[1;32m      5\u001b[0m \u001b[0mforecaster\u001b[0m\u001b[0;34m.\u001b[0m\u001b[0mfit\u001b[0m\u001b[0;34m(\u001b[0m\u001b[0my\u001b[0m\u001b[0;34m)\u001b[0m\u001b[0;34m\u001b[0m\u001b[0;34m\u001b[0m\u001b[0m\n",
      "\u001b[0;31mNameError\u001b[0m: name 'y_neg' is not defined"
     ]
    }
   ],
   "source": []
  },
  {
   "cell_type": "code",
   "execution_count": null,
   "metadata": {},
   "outputs": [],
   "source": [
    "y_pred"
   ]
  },
  {
   "cell_type": "markdown",
   "metadata": {},
   "source": [
    "Answer: NO"
   ]
  }
 ],
 "metadata": {
  "interpreter": {
   "hash": "949777d72b0d2535278d3dc13498b2535136f6dfe0678499012e853ee9abcab1"
  },
  "kernelspec": {
   "display_name": "Python 3.8.12 64-bit",
   "language": "python",
   "name": "python3"
  },
  "language_info": {
   "codemirror_mode": {
    "name": "ipython",
    "version": 3
   },
   "file_extension": ".py",
   "mimetype": "text/x-python",
   "name": "python",
   "nbconvert_exporter": "python",
   "pygments_lexer": "ipython3",
   "version": "3.8.12"
  },
  "orig_nbformat": 4
 },
 "nbformat": 4,
 "nbformat_minor": 2
}
