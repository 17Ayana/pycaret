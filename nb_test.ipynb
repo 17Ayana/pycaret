{
 "cells": [
  {
   "cell_type": "code",
   "execution_count": 1,
   "metadata": {},
   "outputs": [],
   "source": [
    "import pandas as pd\n",
    "\n",
    "from pycaret.classification import *\n",
    "from sklearn.decomposition import PCA\n",
    "from sklearn.datasets import fetch_20newsgroups"
   ]
  },
  {
   "cell_type": "code",
   "execution_count": 8,
   "outputs": [
    {
     "data": {
      "text/plain": "   Id Purchase  WeekofPurchase  StoreID  PriceCH  PriceMM  DiscCH  DiscMM  \\\n0   1       CH             237        1     1.75     1.99    0.00     0.0   \n1   2       CH             239        1     1.75     1.99    0.00     0.3   \n2   3       CH             245        1     1.86     2.09    0.17     0.0   \n3   4       MM             227        1     1.69     1.69    0.00     0.0   \n4   5       CH             228        7     1.69     1.69    0.00     0.0   \n\n   SpecialCH  SpecialMM   LoyalCH  SalePriceMM  SalePriceCH  PriceDiff Store7  \\\n0          0          0  0.500000         1.99         1.75       0.24     No   \n1          0          1  0.600000         1.69         1.75      -0.06     No   \n2          0          0  0.680000         2.09         1.69       0.40     No   \n3          0          0  0.400000         1.69         1.69       0.00     No   \n4          0          0  0.956535         1.69         1.69       0.00    Yes   \n\n   PctDiscMM  PctDiscCH  ListPriceDiff  STORE  \n0   0.000000   0.000000           0.24      1  \n1   0.150754   0.000000           0.24      1  \n2   0.000000   0.091398           0.23      1  \n3   0.000000   0.000000           0.00      1  \n4   0.000000   0.000000           0.00      0  ",
      "text/html": "<div>\n<style scoped>\n    .dataframe tbody tr th:only-of-type {\n        vertical-align: middle;\n    }\n\n    .dataframe tbody tr th {\n        vertical-align: top;\n    }\n\n    .dataframe thead th {\n        text-align: right;\n    }\n</style>\n<table border=\"1\" class=\"dataframe\">\n  <thead>\n    <tr style=\"text-align: right;\">\n      <th></th>\n      <th>Id</th>\n      <th>Purchase</th>\n      <th>WeekofPurchase</th>\n      <th>StoreID</th>\n      <th>PriceCH</th>\n      <th>PriceMM</th>\n      <th>DiscCH</th>\n      <th>DiscMM</th>\n      <th>SpecialCH</th>\n      <th>SpecialMM</th>\n      <th>LoyalCH</th>\n      <th>SalePriceMM</th>\n      <th>SalePriceCH</th>\n      <th>PriceDiff</th>\n      <th>Store7</th>\n      <th>PctDiscMM</th>\n      <th>PctDiscCH</th>\n      <th>ListPriceDiff</th>\n      <th>STORE</th>\n    </tr>\n  </thead>\n  <tbody>\n    <tr>\n      <th>0</th>\n      <td>1</td>\n      <td>CH</td>\n      <td>237</td>\n      <td>1</td>\n      <td>1.75</td>\n      <td>1.99</td>\n      <td>0.00</td>\n      <td>0.0</td>\n      <td>0</td>\n      <td>0</td>\n      <td>0.500000</td>\n      <td>1.99</td>\n      <td>1.75</td>\n      <td>0.24</td>\n      <td>No</td>\n      <td>0.000000</td>\n      <td>0.000000</td>\n      <td>0.24</td>\n      <td>1</td>\n    </tr>\n    <tr>\n      <th>1</th>\n      <td>2</td>\n      <td>CH</td>\n      <td>239</td>\n      <td>1</td>\n      <td>1.75</td>\n      <td>1.99</td>\n      <td>0.00</td>\n      <td>0.3</td>\n      <td>0</td>\n      <td>1</td>\n      <td>0.600000</td>\n      <td>1.69</td>\n      <td>1.75</td>\n      <td>-0.06</td>\n      <td>No</td>\n      <td>0.150754</td>\n      <td>0.000000</td>\n      <td>0.24</td>\n      <td>1</td>\n    </tr>\n    <tr>\n      <th>2</th>\n      <td>3</td>\n      <td>CH</td>\n      <td>245</td>\n      <td>1</td>\n      <td>1.86</td>\n      <td>2.09</td>\n      <td>0.17</td>\n      <td>0.0</td>\n      <td>0</td>\n      <td>0</td>\n      <td>0.680000</td>\n      <td>2.09</td>\n      <td>1.69</td>\n      <td>0.40</td>\n      <td>No</td>\n      <td>0.000000</td>\n      <td>0.091398</td>\n      <td>0.23</td>\n      <td>1</td>\n    </tr>\n    <tr>\n      <th>3</th>\n      <td>4</td>\n      <td>MM</td>\n      <td>227</td>\n      <td>1</td>\n      <td>1.69</td>\n      <td>1.69</td>\n      <td>0.00</td>\n      <td>0.0</td>\n      <td>0</td>\n      <td>0</td>\n      <td>0.400000</td>\n      <td>1.69</td>\n      <td>1.69</td>\n      <td>0.00</td>\n      <td>No</td>\n      <td>0.000000</td>\n      <td>0.000000</td>\n      <td>0.00</td>\n      <td>1</td>\n    </tr>\n    <tr>\n      <th>4</th>\n      <td>5</td>\n      <td>CH</td>\n      <td>228</td>\n      <td>7</td>\n      <td>1.69</td>\n      <td>1.69</td>\n      <td>0.00</td>\n      <td>0.0</td>\n      <td>0</td>\n      <td>0</td>\n      <td>0.956535</td>\n      <td>1.69</td>\n      <td>1.69</td>\n      <td>0.00</td>\n      <td>Yes</td>\n      <td>0.000000</td>\n      <td>0.000000</td>\n      <td>0.00</td>\n      <td>0</td>\n    </tr>\n  </tbody>\n</table>\n</div>"
     },
     "metadata": {},
     "output_type": "display_data"
    }
   ],
   "source": [
    "from pycaret.datasets import get_data\n",
    "dataset = get_data('juice')"
   ],
   "metadata": {
    "collapsed": false,
    "pycharm": {
     "name": "#%%\n"
    }
   }
  },
  {
   "cell_type": "code",
   "execution_count": 9,
   "metadata": {},
   "outputs": [
    {
     "name": "stdout",
     "output_type": "stream",
     "text": [
      "<pandas.io.formats.style.Styler object at 0x000001E6326A4700>\n"
     ]
    }
   ],
   "source": [
    "py = setup(\n",
    "    data=dataset,\n",
    "    target='STORE',\n",
    "    session_id=123,\n",
    "    experiment_name=None,\n",
    "    # text_features=[\"Purchase\"],\n",
    "    # ignore_features=[\"Id\"],\n",
    "    # imputation_type='simple',\n",
    "    # numeric_iterative_imputer='lightgbm',\n",
    "    # categorical_iterative_imputer='lightgbm',\n",
    "    # max_encoding_ohe=5,\n",
    "    # normalize=True,\n",
    "    # remove_outliers=True,\n",
    "    # outliers_threshold=0.2,\n",
    "    # remove_multicollinearity=True,\n",
    "    # multicollinearity_threshold=0.8,\n",
    "    # bin_numeric_features=[\"PriceMM\"],\n",
    "    # feature_selection=True,\n",
    "    # feature_selection_method=\"\",\n",
    "    # custom_pipeline=[(\"pca\", PCA(n_components=8))],\n",
    "    system_log=False,\n",
    ")"
   ]
  },
  {
   "cell_type": "code",
   "execution_count": 10,
   "outputs": [
    {
     "name": "stdout",
     "output_type": "stream",
     "text": [
      "Pipeline(steps=[('numerical_imputer',\n",
      "                 TransfomerWrapper(columns=['Id', 'WeekofPurchase', 'StoreID', 'PriceCH', 'PriceMM', 'DiscCH', 'DiscMM', 'SpecialCH', 'SpecialMM', 'LoyalCH', 'SalePriceMM', 'SalePriceCH', 'PriceDiff', 'PctDiscMM', 'PctDiscCH', 'ListPriceDiff'], transformer=SimpleImputer(fill_value=0))),\n",
      "                ('categorical_imputer',\n",
      "                 TransfomerWrapper(columns=['Store7'], transformer=SimpleImputer(fill_value='not_available', strategy='constant'))),\n",
      "                ('text_embedding',\n",
      "                 TransfomerWrapper(columns=['Purchase'], transformer=EmbedTextFeatures())),\n",
      "                ('ordinal_encoding',\n",
      "                 TransfomerWrapper(columns=['Store7'], transformer=OrdinalEncoder(handle_missing='return_nan', mapping=[{'col': 'Store7', 'mapping': {'No': 1, 'Yes': 0}}])))])\n",
      "         Id  Purchase_ch  Purchase_mm  WeekofPurchase  StoreID  PriceCH  \\\n",
      "0     339.0          0.0          1.0           255.0      7.0     1.86   \n",
      "1     270.0          0.0          1.0           261.0      2.0     1.86   \n",
      "2      75.0          1.0          0.0           230.0      7.0     1.69   \n",
      "3     328.0          1.0          0.0           266.0      1.0     1.86   \n",
      "4     663.0          1.0          0.0           265.0      7.0     1.86   \n",
      "...     ...          ...          ...             ...      ...      ...   \n",
      "1065  156.0          1.0          0.0           233.0      1.0     1.69   \n",
      "1066  939.0          0.0          1.0           237.0      2.0     1.75   \n",
      "1067  812.0          1.0          0.0           266.0      7.0     1.86   \n",
      "1068  237.0          1.0          0.0           238.0      3.0     1.79   \n",
      "1069  984.0          1.0          0.0           264.0      7.0     1.86   \n",
      "\n",
      "      PriceMM  DiscCH  DiscMM  SpecialCH  SpecialMM   LoyalCH  SalePriceMM  \\\n",
      "0        2.18    0.00     0.0        0.0        0.0  0.039170         2.18   \n",
      "1        2.18    0.00     0.0        0.0        0.0  0.533760         2.18   \n",
      "2        1.99    0.00     0.0        0.0        1.0  0.680000         1.99   \n",
      "3        1.99    0.00     0.1        0.0        0.0  0.564800         1.89   \n",
      "4        2.13    0.37     0.0        1.0        0.0  0.400000         2.13   \n",
      "...       ...     ...     ...        ...        ...       ...          ...   \n",
      "1065     1.99    0.00     0.0        0.0        0.0  0.916114         1.99   \n",
      "1066     1.99    0.00     0.0        0.0        0.0  0.086789         1.99   \n",
      "1067     2.13    0.37     0.0        1.0        0.0  0.916114         2.13   \n",
      "1068     2.09    0.00     0.0        0.0        0.0  0.719675         2.09   \n",
      "1069     2.13    0.37     0.0        1.0        0.0  0.492800         2.13   \n",
      "\n",
      "      SalePriceCH  PriceDiff  Store7  PctDiscMM  PctDiscCH  ListPriceDiff  \n",
      "0            1.86       0.32     0.0   0.000000   0.000000           0.32  \n",
      "1            1.86       0.32     1.0   0.000000   0.000000           0.32  \n",
      "2            1.69       0.30     0.0   0.000000   0.000000           0.30  \n",
      "3            1.86       0.03     1.0   0.050251   0.000000           0.13  \n",
      "4            1.49       0.64     0.0   0.000000   0.198925           0.27  \n",
      "...           ...        ...     ...        ...        ...            ...  \n",
      "1065         1.69       0.30     1.0   0.000000   0.000000           0.30  \n",
      "1066         1.75       0.24     1.0   0.000000   0.000000           0.24  \n",
      "1067         1.49       0.64     0.0   0.000000   0.198925           0.27  \n",
      "1068         1.79       0.30     1.0   0.000000   0.000000           0.30  \n",
      "1069         1.49       0.64     0.0   0.000000   0.198925           0.27  \n",
      "\n",
      "[1070 rows x 19 columns]\n",
      "(1070, 19)\n"
     ]
    }
   ],
   "source": [
    "a = py._internal_pipeline\n",
    "print(a)\n",
    "a.fit(py.X, py.y)\n",
    "X, y = a.transform(py.X, py.y)\n",
    "print(X)\n",
    "print(X.shape)"
   ],
   "metadata": {
    "collapsed": false,
    "pycharm": {
     "name": "#%%\n"
    }
   }
  },
  {
   "cell_type": "code",
   "execution_count": null,
   "metadata": {
    "pycharm": {
     "name": "#%%\n"
    }
   },
   "outputs": [],
   "source": [
    "best_model = create_model(\"lr\")"
   ]
  },
  {
   "cell_type": "code",
   "execution_count": 16,
   "outputs": [
    {
     "data": {
      "text/plain": "True"
     },
     "execution_count": 16,
     "metadata": {},
     "output_type": "execute_result"
    }
   ],
   "source": [
    "best_model"
   ],
   "metadata": {
    "collapsed": false,
    "pycharm": {
     "name": "#%%\n"
    }
   }
  }
 ],
 "metadata": {
  "kernelspec": {
   "display_name": "Python 3",
   "language": "python",
   "name": "python3"
  },
  "language_info": {
   "codemirror_mode": {
    "name": "ipython",
    "version": 3
   },
   "file_extension": ".py",
   "mimetype": "text/x-python",
   "name": "python",
   "nbconvert_exporter": "python",
   "pygments_lexer": "ipython3",
   "version": "3.8.3"
  }
 },
 "nbformat": 4,
 "nbformat_minor": 4
}