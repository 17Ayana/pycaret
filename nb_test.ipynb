{
 "cells": [
  {
   "cell_type": "code",
   "execution_count": null,
   "metadata": {
    "pycharm": {
     "is_executing": true
    }
   },
   "outputs": [],
   "source": [
    "from pycaret.classification import *\n",
    "from sklearn.decomposition import PCA\n",
    "from sklearn.datasets import fetch_20newsgroups"
   ]
  },
  {
   "cell_type": "code",
   "execution_count": null,
   "outputs": [],
   "source": [
    "from pycaret.datasets import get_data\n",
    "dataset = get_data('juice')\n",
    "\n",
    "print(dataset.shape)"
   ],
   "metadata": {
    "collapsed": false,
    "pycharm": {
     "name": "#%%\n",
     "is_executing": true
    }
   }
  },
  {
   "cell_type": "code",
   "execution_count": 3,
   "metadata": {},
   "outputs": [
    {
     "data": {
      "text/plain": "<pandas.io.formats.style.Styler at 0x2325417bdf0>",
      "text/html": "<style type=\"text/css\">\n#T_e476d_row12_col1, #T_e476d_row19_col1, #T_e476d_row21_col1, #T_e476d_row23_col1, #T_e476d_row25_col1, #T_e476d_row29_col1 {\n  background-color: lightgreen;\n}\n</style>\n<table id=\"T_e476d\">\n  <thead>\n    <tr>\n      <th class=\"blank level0\" >&nbsp;</th>\n      <th id=\"T_e476d_level0_col0\" class=\"col_heading level0 col0\" >Description</th>\n      <th id=\"T_e476d_level0_col1\" class=\"col_heading level0 col1\" >Value</th>\n    </tr>\n  </thead>\n  <tbody>\n    <tr>\n      <th id=\"T_e476d_level0_row0\" class=\"row_heading level0 row0\" >0</th>\n      <td id=\"T_e476d_row0_col0\" class=\"data row0 col0\" >Session id</td>\n      <td id=\"T_e476d_row0_col1\" class=\"data row0 col1\" >123</td>\n    </tr>\n    <tr>\n      <th id=\"T_e476d_level0_row1\" class=\"row_heading level0 row1\" >1</th>\n      <td id=\"T_e476d_row1_col0\" class=\"data row1 col0\" >Target</td>\n      <td id=\"T_e476d_row1_col1\" class=\"data row1 col1\" >STORE</td>\n    </tr>\n    <tr>\n      <th id=\"T_e476d_level0_row2\" class=\"row_heading level0 row2\" >2</th>\n      <td id=\"T_e476d_row2_col0\" class=\"data row2 col0\" >Target type</td>\n      <td id=\"T_e476d_row2_col1\" class=\"data row2 col1\" >classification</td>\n    </tr>\n    <tr>\n      <th id=\"T_e476d_level0_row3\" class=\"row_heading level0 row3\" >3</th>\n      <td id=\"T_e476d_row3_col0\" class=\"data row3 col0\" >Data shape</td>\n      <td id=\"T_e476d_row3_col1\" class=\"data row3 col1\" >(1070, 19)</td>\n    </tr>\n    <tr>\n      <th id=\"T_e476d_level0_row4\" class=\"row_heading level0 row4\" >4</th>\n      <td id=\"T_e476d_row4_col0\" class=\"data row4 col0\" >Train data shape</td>\n      <td id=\"T_e476d_row4_col1\" class=\"data row4 col1\" >(748, 18)</td>\n    </tr>\n    <tr>\n      <th id=\"T_e476d_level0_row5\" class=\"row_heading level0 row5\" >5</th>\n      <td id=\"T_e476d_row5_col0\" class=\"data row5 col0\" >Test data shape</td>\n      <td id=\"T_e476d_row5_col1\" class=\"data row5 col1\" >(322, 18)</td>\n    </tr>\n    <tr>\n      <th id=\"T_e476d_level0_row6\" class=\"row_heading level0 row6\" >6</th>\n      <td id=\"T_e476d_row6_col0\" class=\"data row6 col0\" >Ignore features</td>\n      <td id=\"T_e476d_row6_col1\" class=\"data row6 col1\" >1</td>\n    </tr>\n    <tr>\n      <th id=\"T_e476d_level0_row7\" class=\"row_heading level0 row7\" >7</th>\n      <td id=\"T_e476d_row7_col0\" class=\"data row7 col0\" >Ordinal features</td>\n      <td id=\"T_e476d_row7_col1\" class=\"data row7 col1\" >1</td>\n    </tr>\n    <tr>\n      <th id=\"T_e476d_level0_row8\" class=\"row_heading level0 row8\" >8</th>\n      <td id=\"T_e476d_row8_col0\" class=\"data row8 col0\" >Numeric features</td>\n      <td id=\"T_e476d_row8_col1\" class=\"data row8 col1\" >15</td>\n    </tr>\n    <tr>\n      <th id=\"T_e476d_level0_row9\" class=\"row_heading level0 row9\" >9</th>\n      <td id=\"T_e476d_row9_col0\" class=\"data row9 col0\" >Text features</td>\n      <td id=\"T_e476d_row9_col1\" class=\"data row9 col1\" >1</td>\n    </tr>\n    <tr>\n      <th id=\"T_e476d_level0_row10\" class=\"row_heading level0 row10\" >10</th>\n      <td id=\"T_e476d_row10_col0\" class=\"data row10 col0\" >Categorical features</td>\n      <td id=\"T_e476d_row10_col1\" class=\"data row10 col1\" >1</td>\n    </tr>\n    <tr>\n      <th id=\"T_e476d_level0_row11\" class=\"row_heading level0 row11\" >11</th>\n      <td id=\"T_e476d_row11_col0\" class=\"data row11 col0\" >Keep features</td>\n      <td id=\"T_e476d_row11_col1\" class=\"data row11 col1\" >1</td>\n    </tr>\n    <tr>\n      <th id=\"T_e476d_level0_row12\" class=\"row_heading level0 row12\" >12</th>\n      <td id=\"T_e476d_row12_col0\" class=\"data row12 col0\" >Preprocess</td>\n      <td id=\"T_e476d_row12_col1\" class=\"data row12 col1\" >1</td>\n    </tr>\n    <tr>\n      <th id=\"T_e476d_level0_row13\" class=\"row_heading level0 row13\" >13</th>\n      <td id=\"T_e476d_row13_col0\" class=\"data row13 col0\" >Imputation type</td>\n      <td id=\"T_e476d_row13_col1\" class=\"data row13 col1\" >simple</td>\n    </tr>\n    <tr>\n      <th id=\"T_e476d_level0_row14\" class=\"row_heading level0 row14\" >14</th>\n      <td id=\"T_e476d_row14_col0\" class=\"data row14 col0\" >Numeric imputation</td>\n      <td id=\"T_e476d_row14_col1\" class=\"data row14 col1\" >mean</td>\n    </tr>\n    <tr>\n      <th id=\"T_e476d_level0_row15\" class=\"row_heading level0 row15\" >15</th>\n      <td id=\"T_e476d_row15_col0\" class=\"data row15 col0\" >Categorical imputation</td>\n      <td id=\"T_e476d_row15_col1\" class=\"data row15 col1\" >constant</td>\n    </tr>\n    <tr>\n      <th id=\"T_e476d_level0_row16\" class=\"row_heading level0 row16\" >16</th>\n      <td id=\"T_e476d_row16_col0\" class=\"data row16 col0\" >Text features embedding method</td>\n      <td id=\"T_e476d_row16_col1\" class=\"data row16 col1\" >tf-idf</td>\n    </tr>\n    <tr>\n      <th id=\"T_e476d_level0_row17\" class=\"row_heading level0 row17\" >17</th>\n      <td id=\"T_e476d_row17_col0\" class=\"data row17 col0\" >Maximum one-hot encoding</td>\n      <td id=\"T_e476d_row17_col1\" class=\"data row17 col1\" >5</td>\n    </tr>\n    <tr>\n      <th id=\"T_e476d_level0_row18\" class=\"row_heading level0 row18\" >18</th>\n      <td id=\"T_e476d_row18_col0\" class=\"data row18 col0\" >Encoding method</td>\n      <td id=\"T_e476d_row18_col1\" class=\"data row18 col1\" >None</td>\n    </tr>\n    <tr>\n      <th id=\"T_e476d_level0_row19\" class=\"row_heading level0 row19\" >19</th>\n      <td id=\"T_e476d_row19_col0\" class=\"data row19 col0\" >Remove multicollinearity</td>\n      <td id=\"T_e476d_row19_col1\" class=\"data row19 col1\" >1</td>\n    </tr>\n    <tr>\n      <th id=\"T_e476d_level0_row20\" class=\"row_heading level0 row20\" >20</th>\n      <td id=\"T_e476d_row20_col0\" class=\"data row20 col0\" >Multicollinearity threshold</td>\n      <td id=\"T_e476d_row20_col1\" class=\"data row20 col1\" >0.800000</td>\n    </tr>\n    <tr>\n      <th id=\"T_e476d_level0_row21\" class=\"row_heading level0 row21\" >21</th>\n      <td id=\"T_e476d_row21_col0\" class=\"data row21 col0\" >Remove outliers</td>\n      <td id=\"T_e476d_row21_col1\" class=\"data row21 col1\" >1</td>\n    </tr>\n    <tr>\n      <th id=\"T_e476d_level0_row22\" class=\"row_heading level0 row22\" >22</th>\n      <td id=\"T_e476d_row22_col0\" class=\"data row22 col0\" >Outliers threshold</td>\n      <td id=\"T_e476d_row22_col1\" class=\"data row22 col1\" >0.500000</td>\n    </tr>\n    <tr>\n      <th id=\"T_e476d_level0_row23\" class=\"row_heading level0 row23\" >23</th>\n      <td id=\"T_e476d_row23_col0\" class=\"data row23 col0\" >Normalize</td>\n      <td id=\"T_e476d_row23_col1\" class=\"data row23 col1\" >1</td>\n    </tr>\n    <tr>\n      <th id=\"T_e476d_level0_row24\" class=\"row_heading level0 row24\" >24</th>\n      <td id=\"T_e476d_row24_col0\" class=\"data row24 col0\" >Normalize method</td>\n      <td id=\"T_e476d_row24_col1\" class=\"data row24 col1\" >zscore</td>\n    </tr>\n    <tr>\n      <th id=\"T_e476d_level0_row25\" class=\"row_heading level0 row25\" >25</th>\n      <td id=\"T_e476d_row25_col0\" class=\"data row25 col0\" >Feature selection</td>\n      <td id=\"T_e476d_row25_col1\" class=\"data row25 col1\" >1</td>\n    </tr>\n    <tr>\n      <th id=\"T_e476d_level0_row26\" class=\"row_heading level0 row26\" >26</th>\n      <td id=\"T_e476d_row26_col0\" class=\"data row26 col0\" >Feature selection method</td>\n      <td id=\"T_e476d_row26_col1\" class=\"data row26 col1\" >classic</td>\n    </tr>\n    <tr>\n      <th id=\"T_e476d_level0_row27\" class=\"row_heading level0 row27\" >27</th>\n      <td id=\"T_e476d_row27_col0\" class=\"data row27 col0\" >Feature selection estimator</td>\n      <td id=\"T_e476d_row27_col1\" class=\"data row27 col1\" >rf</td>\n    </tr>\n    <tr>\n      <th id=\"T_e476d_level0_row28\" class=\"row_heading level0 row28\" >28</th>\n      <td id=\"T_e476d_row28_col0\" class=\"data row28 col0\" >Number of features selected</td>\n      <td id=\"T_e476d_row28_col1\" class=\"data row28 col1\" >7</td>\n    </tr>\n    <tr>\n      <th id=\"T_e476d_level0_row29\" class=\"row_heading level0 row29\" >29</th>\n      <td id=\"T_e476d_row29_col0\" class=\"data row29 col0\" >Custom pipeline</td>\n      <td id=\"T_e476d_row29_col1\" class=\"data row29 col1\" >Yes</td>\n    </tr>\n    <tr>\n      <th id=\"T_e476d_level0_row30\" class=\"row_heading level0 row30\" >30</th>\n      <td id=\"T_e476d_row30_col0\" class=\"data row30 col0\" >Fold Generator</td>\n      <td id=\"T_e476d_row30_col1\" class=\"data row30 col1\" >StratifiedKFold</td>\n    </tr>\n    <tr>\n      <th id=\"T_e476d_level0_row31\" class=\"row_heading level0 row31\" >31</th>\n      <td id=\"T_e476d_row31_col0\" class=\"data row31 col0\" >Fold Number</td>\n      <td id=\"T_e476d_row31_col1\" class=\"data row31 col1\" >10</td>\n    </tr>\n    <tr>\n      <th id=\"T_e476d_level0_row32\" class=\"row_heading level0 row32\" >32</th>\n      <td id=\"T_e476d_row32_col0\" class=\"data row32 col0\" >CPU Jobs</td>\n      <td id=\"T_e476d_row32_col1\" class=\"data row32 col1\" >-1</td>\n    </tr>\n    <tr>\n      <th id=\"T_e476d_level0_row33\" class=\"row_heading level0 row33\" >33</th>\n      <td id=\"T_e476d_row33_col0\" class=\"data row33 col0\" >Log Experiment</td>\n      <td id=\"T_e476d_row33_col1\" class=\"data row33 col1\" >0</td>\n    </tr>\n    <tr>\n      <th id=\"T_e476d_level0_row34\" class=\"row_heading level0 row34\" >34</th>\n      <td id=\"T_e476d_row34_col0\" class=\"data row34 col0\" >Experiment Name</td>\n      <td id=\"T_e476d_row34_col1\" class=\"data row34 col1\" >clf-default-name</td>\n    </tr>\n    <tr>\n      <th id=\"T_e476d_level0_row35\" class=\"row_heading level0 row35\" >35</th>\n      <td id=\"T_e476d_row35_col0\" class=\"data row35 col0\" >USI</td>\n      <td id=\"T_e476d_row35_col1\" class=\"data row35 col1\" >85b4</td>\n    </tr>\n  </tbody>\n</table>\n"
     },
     "metadata": {},
     "output_type": "display_data"
    }
   ],
   "source": [
    "py = setup(\n",
    "    data=dataset,\n",
    "    target='STORE',\n",
    "    session_id=123,\n",
    "    experiment_name=None,\n",
    "    text_features=[\"Purchase\"],\n",
    "    ignore_features=[\"Id\"],\n",
    "    keep_features=[\"SalePriceCH\"],\n",
    "    preprocess=True,\n",
    "    imputation_type='simple',\n",
    "    numeric_iterative_imputer='lightgbm',\n",
    "    categorical_iterative_imputer='lightgbm',\n",
    "    max_encoding_ohe=5,\n",
    "    remove_multicollinearity=True,\n",
    "    multicollinearity_threshold=0.8,\n",
    "    bin_numeric_features=[\"PriceMM\"],\n",
    "    remove_outliers=True,\n",
    "    outliers_method=\"lof\",\n",
    "    outliers_threshold=0.5,\n",
    "    normalize=True,\n",
    "    feature_selection=True,\n",
    "    feature_selection_method=\"classic\",\n",
    "    feature_selection_estimator=\"rf\",\n",
    "    n_features_to_select=7,\n",
    "    custom_pipeline=[(\"pca\", PCA(n_components=5))],\n",
    "    data_split_stratify=[\"SalePriceCH\", \"Purchase\"],\n",
    "    system_log=False,\n",
    "    memory=False,\n",
    ")"
   ]
  },
  {
   "cell_type": "code",
   "execution_count": 4,
   "outputs": [
    {
     "name": "stdout",
     "output_type": "stream",
     "text": [
      "Pipeline(steps=[('text_embedding',\n",
      "                 TransfomerWrapper(include=['Purchase'], transformer=EmbedTextFeatures())),\n",
      "                ('ordinal_encoding',\n",
      "                 TransfomerWrapper(include=['Store7'], transformer=OrdinalEncoder(cols=['Store7'], handle_missing='return_nan', mapping=[{'col': 'Store7', 'mapping': {nan: -1, 'No': 0, 'Yes': 1}}]))),\n",
      "                ('remove_multicollinearity',\n",
      "                 TransfomerWrapper(exclu...\n",
      "                 TransfomerWrapper(transformer=RemoveOutliers(method='lof', threshold=0.5))),\n",
      "                ('normalize', TransfomerWrapper(transformer=StandardScaler())),\n",
      "                ('feature_selection',\n",
      "                 TransfomerWrapper(exclude=['SalePriceCH'], transformer=SelectFromModel(estimator=RandomForestClassifier(), max_features=7, threshold=-inf))),\n",
      "                ('pca', TransfomerWrapper(transformer=PCA(n_components=5)))])\n",
      "      Feature 2  Feature 3  Feature 4  Feature 5  Feature 6\n",
      "0      0.079733   0.686711  -1.017912   1.637034  -0.564534\n",
      "1     -0.523192   0.539102  -1.144576   0.059205   0.771493\n",
      "2      1.604373   2.246761  -0.240488  -0.918169  -0.838933\n",
      "3     -1.082840  -0.112558   0.732661  -0.361060   0.598827\n",
      "4      3.026975  -0.299823  -0.054082   1.627772  -0.395194\n",
      "...         ...        ...        ...        ...        ...\n",
      "1065   0.567979   2.600625  -0.170794  -1.858629   0.549362\n",
      "1066  -0.426757   2.548729   0.446756   0.629665  -0.102198\n",
      "1067   3.463102  -0.842385  -0.344943   0.165957  -0.257738\n",
      "1068   0.182012   1.668914  -0.644691  -0.951788  -0.042340\n",
      "1069   3.101734  -0.345146  -0.099560   1.344974  -0.410759\n",
      "\n",
      "[1070 rows x 5 columns]\n",
      "(1070, 5)\n"
     ]
    }
   ],
   "source": [
    "a = py.pipeline\n",
    "print(a)\n",
    "a.fit(py.X, py.y)\n",
    "X, y = a.transform(py.X, py.y)\n",
    "print(X)\n",
    "print(X.shape)"
   ],
   "metadata": {
    "collapsed": false,
    "pycharm": {
     "name": "#%%\n"
    }
   }
  },
  {
   "cell_type": "code",
   "execution_count": 5,
   "outputs": [
    {
     "data": {
      "text/plain": "IntProgress(value=0, description='Processing: ', max=4)",
      "application/vnd.jupyter.widget-view+json": {
       "version_major": 2,
       "version_minor": 0,
       "model_id": "efff0327feeb4f90a07055482685dfdf"
      }
     },
     "metadata": {},
     "output_type": "display_data"
    },
    {
     "data": {
      "text/plain": "                                                                    \n                                                                    \nInitiated  . . . . . . . . . . . . . . . . . .              15:24:15\nStatus     . . . . . . . . . . . . . . . . . .  Loading Dependencies\nEstimator  . . . . . . . . . . . . . . . . . .     Compiling Library",
      "text/html": "<div>\n<style scoped>\n    .dataframe tbody tr th:only-of-type {\n        vertical-align: middle;\n    }\n\n    .dataframe tbody tr th {\n        vertical-align: top;\n    }\n\n    .dataframe thead th {\n        text-align: right;\n    }\n</style>\n<table border=\"1\" class=\"dataframe\">\n  <thead>\n    <tr style=\"text-align: right;\">\n      <th></th>\n      <th></th>\n      <th></th>\n    </tr>\n    <tr>\n      <th></th>\n      <th></th>\n      <th></th>\n    </tr>\n  </thead>\n  <tbody>\n    <tr>\n      <th>Initiated</th>\n      <td>. . . . . . . . . . . . . . . . . .</td>\n      <td>15:24:15</td>\n    </tr>\n    <tr>\n      <th>Status</th>\n      <td>. . . . . . . . . . . . . . . . . .</td>\n      <td>Loading Dependencies</td>\n    </tr>\n    <tr>\n      <th>Estimator</th>\n      <td>. . . . . . . . . . . . . . . . . .</td>\n      <td>Compiling Library</td>\n    </tr>\n  </tbody>\n</table>\n</div>"
     },
     "metadata": {},
     "output_type": "display_data"
    },
    {
     "data": {
      "text/plain": "Empty DataFrame\nColumns: [Accuracy, AUC, Recall, Prec., F1, Kappa, MCC]\nIndex: []",
      "text/html": "<div>\n<style scoped>\n    .dataframe tbody tr th:only-of-type {\n        vertical-align: middle;\n    }\n\n    .dataframe tbody tr th {\n        vertical-align: top;\n    }\n\n    .dataframe thead th {\n        text-align: right;\n    }\n</style>\n<table border=\"1\" class=\"dataframe\">\n  <thead>\n    <tr style=\"text-align: right;\">\n      <th></th>\n      <th>Accuracy</th>\n      <th>AUC</th>\n      <th>Recall</th>\n      <th>Prec.</th>\n      <th>F1</th>\n      <th>Kappa</th>\n      <th>MCC</th>\n    </tr>\n  </thead>\n  <tbody>\n  </tbody>\n</table>\n</div>"
     },
     "metadata": {},
     "output_type": "display_data"
    },
    {
     "ename": "AttributeError",
     "evalue": "'ClassificationExperiment' object has no attribute 'transform_target_param'",
     "output_type": "error",
     "traceback": [
      "\u001B[1;31m---------------------------------------------------------------------------\u001B[0m",
      "\u001B[1;31mAttributeError\u001B[0m                            Traceback (most recent call last)",
      "Input \u001B[1;32mIn [5]\u001B[0m, in \u001B[0;36m<module>\u001B[1;34m\u001B[0m\n\u001B[1;32m----> 1\u001B[0m best_model \u001B[38;5;241m=\u001B[39m \u001B[43mcreate_model\u001B[49m\u001B[43m(\u001B[49m\u001B[38;5;124;43m\"\u001B[39;49m\u001B[38;5;124;43mlr\u001B[39;49m\u001B[38;5;124;43m\"\u001B[39;49m\u001B[43m)\u001B[49m\n",
      "File \u001B[1;32m~\\Documents\\Python\\pycaret\\pycaret\\internal\\utils.py:896\u001B[0m, in \u001B[0;36mcheck_if_global_is_not_none.<locals>.decorator.<locals>.wrapper\u001B[1;34m(*args, **kwargs)\u001B[0m\n\u001B[0;32m    894\u001B[0m     \u001B[38;5;28;01mif\u001B[39;00m globals_d[name] \u001B[38;5;129;01mis\u001B[39;00m \u001B[38;5;28;01mNone\u001B[39;00m:\n\u001B[0;32m    895\u001B[0m         \u001B[38;5;28;01mraise\u001B[39;00m \u001B[38;5;167;01mValueError\u001B[39;00m(message)\n\u001B[1;32m--> 896\u001B[0m \u001B[38;5;28;01mreturn\u001B[39;00m func(\u001B[38;5;241m*\u001B[39margs, \u001B[38;5;241m*\u001B[39m\u001B[38;5;241m*\u001B[39mkwargs)\n",
      "File \u001B[1;32m~\\Documents\\Python\\pycaret\\pycaret\\classification.py:829\u001B[0m, in \u001B[0;36mcreate_model\u001B[1;34m(estimator, fold, round, cross_validation, fit_kwargs, groups, probability_threshold, verbose, **kwargs)\u001B[0m\n\u001B[0;32m    720\u001B[0m \u001B[38;5;129m@check_if_global_is_not_none\u001B[39m(\u001B[38;5;28mglobals\u001B[39m(), _CURRENT_EXPERIMENT_DECORATOR_DICT)\n\u001B[0;32m    721\u001B[0m \u001B[38;5;28;01mdef\u001B[39;00m \u001B[38;5;21mcreate_model\u001B[39m(\n\u001B[0;32m    722\u001B[0m     estimator: Union[\u001B[38;5;28mstr\u001B[39m, Any],\n\u001B[1;32m   (...)\u001B[0m\n\u001B[0;32m    730\u001B[0m     \u001B[38;5;241m*\u001B[39m\u001B[38;5;241m*\u001B[39mkwargs,\n\u001B[0;32m    731\u001B[0m ) \u001B[38;5;241m-\u001B[39m\u001B[38;5;241m>\u001B[39m Any:\n\u001B[0;32m    733\u001B[0m     \u001B[38;5;124;03m\"\"\"\u001B[39;00m\n\u001B[0;32m    734\u001B[0m \u001B[38;5;124;03m    This function trains and evaluates the performance of a given estimator\u001B[39;00m\n\u001B[0;32m    735\u001B[0m \u001B[38;5;124;03m    using cross validation. The output of this function is a score grid with\u001B[39;00m\n\u001B[1;32m   (...)\u001B[0m\n\u001B[0;32m    826\u001B[0m \n\u001B[0;32m    827\u001B[0m \u001B[38;5;124;03m    \"\"\"\u001B[39;00m\n\u001B[1;32m--> 829\u001B[0m     \u001B[38;5;28;01mreturn\u001B[39;00m _CURRENT_EXPERIMENT\u001B[38;5;241m.\u001B[39mcreate_model(\n\u001B[0;32m    830\u001B[0m         estimator\u001B[38;5;241m=\u001B[39mestimator,\n\u001B[0;32m    831\u001B[0m         fold\u001B[38;5;241m=\u001B[39mfold,\n\u001B[0;32m    832\u001B[0m         \u001B[38;5;28mround\u001B[39m\u001B[38;5;241m=\u001B[39m\u001B[38;5;28mround\u001B[39m,\n\u001B[0;32m    833\u001B[0m         cross_validation\u001B[38;5;241m=\u001B[39mcross_validation,\n\u001B[0;32m    834\u001B[0m         fit_kwargs\u001B[38;5;241m=\u001B[39mfit_kwargs,\n\u001B[0;32m    835\u001B[0m         groups\u001B[38;5;241m=\u001B[39mgroups,\n\u001B[0;32m    836\u001B[0m         probability_threshold\u001B[38;5;241m=\u001B[39mprobability_threshold,\n\u001B[0;32m    837\u001B[0m         verbose\u001B[38;5;241m=\u001B[39mverbose,\n\u001B[0;32m    838\u001B[0m         \u001B[38;5;241m*\u001B[39m\u001B[38;5;241m*\u001B[39mkwargs,\n\u001B[0;32m    839\u001B[0m     )\n",
      "File \u001B[1;32m~\\Documents\\Python\\pycaret\\pycaret\\internal\\pycaret_experiment\\classification_experiment.py:676\u001B[0m, in \u001B[0;36mClassificationExperiment.create_model\u001B[1;34m(self, estimator, fold, round, cross_validation, fit_kwargs, groups, probability_threshold, verbose, **kwargs)\u001B[0m\n\u001B[0;32m    567\u001B[0m \u001B[38;5;28;01mdef\u001B[39;00m \u001B[38;5;21mcreate_model\u001B[39m(\n\u001B[0;32m    568\u001B[0m     \u001B[38;5;28mself\u001B[39m,\n\u001B[0;32m    569\u001B[0m     estimator: Union[\u001B[38;5;28mstr\u001B[39m, Any],\n\u001B[1;32m   (...)\u001B[0m\n\u001B[0;32m    577\u001B[0m     \u001B[38;5;241m*\u001B[39m\u001B[38;5;241m*\u001B[39mkwargs,\n\u001B[0;32m    578\u001B[0m ) \u001B[38;5;241m-\u001B[39m\u001B[38;5;241m>\u001B[39m Any:\n\u001B[0;32m    580\u001B[0m     \u001B[38;5;124;03m\"\"\"\u001B[39;00m\n\u001B[0;32m    581\u001B[0m \u001B[38;5;124;03m    This function trains and evaluates the performance of a given estimator\u001B[39;00m\n\u001B[0;32m    582\u001B[0m \u001B[38;5;124;03m    using cross validation. The output of this function is a score grid with\u001B[39;00m\n\u001B[1;32m   (...)\u001B[0m\n\u001B[0;32m    673\u001B[0m \n\u001B[0;32m    674\u001B[0m \u001B[38;5;124;03m    \"\"\"\u001B[39;00m\n\u001B[1;32m--> 676\u001B[0m     \u001B[38;5;28;01mreturn\u001B[39;00m \u001B[38;5;28msuper\u001B[39m()\u001B[38;5;241m.\u001B[39mcreate_model(\n\u001B[0;32m    677\u001B[0m         estimator\u001B[38;5;241m=\u001B[39mestimator,\n\u001B[0;32m    678\u001B[0m         fold\u001B[38;5;241m=\u001B[39mfold,\n\u001B[0;32m    679\u001B[0m         \u001B[38;5;28mround\u001B[39m\u001B[38;5;241m=\u001B[39m\u001B[38;5;28mround\u001B[39m,\n\u001B[0;32m    680\u001B[0m         cross_validation\u001B[38;5;241m=\u001B[39mcross_validation,\n\u001B[0;32m    681\u001B[0m         fit_kwargs\u001B[38;5;241m=\u001B[39mfit_kwargs,\n\u001B[0;32m    682\u001B[0m         groups\u001B[38;5;241m=\u001B[39mgroups,\n\u001B[0;32m    683\u001B[0m         verbose\u001B[38;5;241m=\u001B[39mverbose,\n\u001B[0;32m    684\u001B[0m         probability_threshold\u001B[38;5;241m=\u001B[39mprobability_threshold,\n\u001B[0;32m    685\u001B[0m         \u001B[38;5;241m*\u001B[39m\u001B[38;5;241m*\u001B[39mkwargs,\n\u001B[0;32m    686\u001B[0m     )\n",
      "File \u001B[1;32m~\\Documents\\Python\\pycaret\\pycaret\\internal\\pycaret_experiment\\supervised_experiment.py:1399\u001B[0m, in \u001B[0;36mcreate_model\u001B[1;34m(self, estimator, fold, round, cross_validation, predict, fit_kwargs, groups, refit, probability_threshold, verbose, system, add_to_model_list, X_train_data, y_train_data, metrics, display, **kwargs)\u001B[0m\n",
      "\u001B[1;31mAttributeError\u001B[0m: 'ClassificationExperiment' object has no attribute 'transform_target_param'"
     ]
    }
   ],
   "source": [
    "best_model = create_model(\"lr\")"
   ],
   "metadata": {
    "collapsed": false,
    "pycharm": {
     "name": "#%%\n"
    }
   }
  },
  {
   "cell_type": "code",
   "execution_count": null,
   "outputs": [],
   "source": [
    "models = compare_models(turbo=False, n_select=5)"
   ],
   "metadata": {
    "collapsed": false,
    "pycharm": {
     "name": "#%%\n"
    }
   }
  },
  {
   "cell_type": "code",
   "execution_count": null,
   "outputs": [],
   "source": [],
   "metadata": {
    "collapsed": false,
    "pycharm": {
     "name": "#%%\n"
    }
   }
  }
 ],
 "metadata": {
  "kernelspec": {
   "display_name": "Python 3",
   "language": "python",
   "name": "python3"
  },
  "language_info": {
   "codemirror_mode": {
    "name": "ipython",
    "version": 3
   },
   "file_extension": ".py",
   "mimetype": "text/x-python",
   "name": "python",
   "nbconvert_exporter": "python",
   "pygments_lexer": "ipython3",
   "version": "3.8.3"
  }
 },
 "nbformat": 4,
 "nbformat_minor": 4
}