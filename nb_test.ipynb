{
 "cells": [
  {
   "cell_type": "code",
   "execution_count": 1,
   "metadata": {},
   "outputs": [],
   "source": [
    "from pycaret.classification import *\n",
    "from sklearn.decomposition import PCA\n",
    "from sklearn.datasets import fetch_20newsgroups"
   ]
  },
  {
   "cell_type": "code",
   "execution_count": 2,
   "outputs": [
    {
     "data": {
      "text/plain": "   Id Purchase  WeekofPurchase  StoreID  PriceCH  PriceMM  DiscCH  DiscMM  \\\n0   1       CH             237        1     1.75     1.99    0.00     0.0   \n1   2       CH             239        1     1.75     1.99    0.00     0.3   \n2   3       CH             245        1     1.86     2.09    0.17     0.0   \n3   4       MM             227        1     1.69     1.69    0.00     0.0   \n4   5       CH             228        7     1.69     1.69    0.00     0.0   \n\n   SpecialCH  SpecialMM   LoyalCH  SalePriceMM  SalePriceCH  PriceDiff Store7  \\\n0          0          0  0.500000         1.99         1.75       0.24     No   \n1          0          1  0.600000         1.69         1.75      -0.06     No   \n2          0          0  0.680000         2.09         1.69       0.40     No   \n3          0          0  0.400000         1.69         1.69       0.00     No   \n4          0          0  0.956535         1.69         1.69       0.00    Yes   \n\n   PctDiscMM  PctDiscCH  ListPriceDiff  STORE  \n0   0.000000   0.000000           0.24      1  \n1   0.150754   0.000000           0.24      1  \n2   0.000000   0.091398           0.23      1  \n3   0.000000   0.000000           0.00      1  \n4   0.000000   0.000000           0.00      0  ",
      "text/html": "<div>\n<style scoped>\n    .dataframe tbody tr th:only-of-type {\n        vertical-align: middle;\n    }\n\n    .dataframe tbody tr th {\n        vertical-align: top;\n    }\n\n    .dataframe thead th {\n        text-align: right;\n    }\n</style>\n<table border=\"1\" class=\"dataframe\">\n  <thead>\n    <tr style=\"text-align: right;\">\n      <th></th>\n      <th>Id</th>\n      <th>Purchase</th>\n      <th>WeekofPurchase</th>\n      <th>StoreID</th>\n      <th>PriceCH</th>\n      <th>PriceMM</th>\n      <th>DiscCH</th>\n      <th>DiscMM</th>\n      <th>SpecialCH</th>\n      <th>SpecialMM</th>\n      <th>LoyalCH</th>\n      <th>SalePriceMM</th>\n      <th>SalePriceCH</th>\n      <th>PriceDiff</th>\n      <th>Store7</th>\n      <th>PctDiscMM</th>\n      <th>PctDiscCH</th>\n      <th>ListPriceDiff</th>\n      <th>STORE</th>\n    </tr>\n  </thead>\n  <tbody>\n    <tr>\n      <th>0</th>\n      <td>1</td>\n      <td>CH</td>\n      <td>237</td>\n      <td>1</td>\n      <td>1.75</td>\n      <td>1.99</td>\n      <td>0.00</td>\n      <td>0.0</td>\n      <td>0</td>\n      <td>0</td>\n      <td>0.500000</td>\n      <td>1.99</td>\n      <td>1.75</td>\n      <td>0.24</td>\n      <td>No</td>\n      <td>0.000000</td>\n      <td>0.000000</td>\n      <td>0.24</td>\n      <td>1</td>\n    </tr>\n    <tr>\n      <th>1</th>\n      <td>2</td>\n      <td>CH</td>\n      <td>239</td>\n      <td>1</td>\n      <td>1.75</td>\n      <td>1.99</td>\n      <td>0.00</td>\n      <td>0.3</td>\n      <td>0</td>\n      <td>1</td>\n      <td>0.600000</td>\n      <td>1.69</td>\n      <td>1.75</td>\n      <td>-0.06</td>\n      <td>No</td>\n      <td>0.150754</td>\n      <td>0.000000</td>\n      <td>0.24</td>\n      <td>1</td>\n    </tr>\n    <tr>\n      <th>2</th>\n      <td>3</td>\n      <td>CH</td>\n      <td>245</td>\n      <td>1</td>\n      <td>1.86</td>\n      <td>2.09</td>\n      <td>0.17</td>\n      <td>0.0</td>\n      <td>0</td>\n      <td>0</td>\n      <td>0.680000</td>\n      <td>2.09</td>\n      <td>1.69</td>\n      <td>0.40</td>\n      <td>No</td>\n      <td>0.000000</td>\n      <td>0.091398</td>\n      <td>0.23</td>\n      <td>1</td>\n    </tr>\n    <tr>\n      <th>3</th>\n      <td>4</td>\n      <td>MM</td>\n      <td>227</td>\n      <td>1</td>\n      <td>1.69</td>\n      <td>1.69</td>\n      <td>0.00</td>\n      <td>0.0</td>\n      <td>0</td>\n      <td>0</td>\n      <td>0.400000</td>\n      <td>1.69</td>\n      <td>1.69</td>\n      <td>0.00</td>\n      <td>No</td>\n      <td>0.000000</td>\n      <td>0.000000</td>\n      <td>0.00</td>\n      <td>1</td>\n    </tr>\n    <tr>\n      <th>4</th>\n      <td>5</td>\n      <td>CH</td>\n      <td>228</td>\n      <td>7</td>\n      <td>1.69</td>\n      <td>1.69</td>\n      <td>0.00</td>\n      <td>0.0</td>\n      <td>0</td>\n      <td>0</td>\n      <td>0.956535</td>\n      <td>1.69</td>\n      <td>1.69</td>\n      <td>0.00</td>\n      <td>Yes</td>\n      <td>0.000000</td>\n      <td>0.000000</td>\n      <td>0.00</td>\n      <td>0</td>\n    </tr>\n  </tbody>\n</table>\n</div>"
     },
     "metadata": {},
     "output_type": "display_data"
    },
    {
     "name": "stdout",
     "output_type": "stream",
     "text": [
      "(1070, 19)\n"
     ]
    }
   ],
   "source": [
    "from pycaret.datasets import get_data\n",
    "dataset = get_data('juice')\n",
    "\n",
    "print(dataset.shape)"
   ],
   "metadata": {
    "collapsed": false,
    "pycharm": {
     "name": "#%%\n"
    }
   }
  },
  {
   "cell_type": "code",
   "execution_count": 3,
   "metadata": {},
   "outputs": [
    {
     "name": "stdout",
     "output_type": "stream",
     "text": [
      "                        Description             Value\n",
      "0                        session_id               123\n",
      "1                            Target             STORE\n",
      "2                       Target type        Regression\n",
      "3                        Data shape        (1070, 19)\n",
      "4                  Train data shape         (748, 18)\n",
      "5                   Test data shape         (322, 18)\n",
      "6                  Ordinal features                 1\n",
      "7                Numerical features                15\n",
      "8              Categorical features                 1\n",
      "9                     Date features                 0\n",
      "10                    Text features                 1\n",
      "11                 Ignored features                 1\n",
      "12                    Kept features                 1\n",
      "13                   Missing Values                 0\n",
      "14                       Preprocess              True\n",
      "15                  Imputation type            simple\n",
      "16               Numeric imputation              mean\n",
      "17           Categorical imputation          constant\n",
      "18  Iterative imputation iterations                 5\n",
      "19        Numeric iterative imputer          lightgbm\n",
      "20    Categorical iterative imputer          lightgbm\n",
      "21   Text features embedding method            tf-idf\n",
      "22         Maximum one-hot encoding                 5\n",
      "23                  Encoding method              None\n",
      "24              Polynomial features             False\n",
      "25                Polynomial degree                 2\n",
      "26           Low variance threshold                 0\n",
      "27         Remove multicollinearity              True\n",
      "28      Multicollinearity threshold               0.8\n",
      "29                  Remove outliers              True\n",
      "30               Outliers threshold               0.5\n",
      "31                    Fix imbalance             False\n",
      "32             Fix imbalance method              None\n",
      "33                   Transformation             False\n",
      "34            Transformation method       yeo-johnson\n",
      "35                        Normalize              True\n",
      "36                 Normalize method            zscore\n",
      "37                              PCA             False\n",
      "38                       PCA method            linear\n",
      "39                   PCA components               1.0\n",
      "40                Feature selection              True\n",
      "41         Feature selection method           classic\n",
      "42      Feature selection estimator                rf\n",
      "43      Number of features selected                 7\n",
      "44                  Custom pipeline               Yes\n",
      "45                   Fold Generator   StratifiedKFold\n",
      "46                      Fold Number                10\n",
      "47                         CPU Jobs                -1\n",
      "48                          Use GPU             False\n",
      "49                   Log Experiment             False\n",
      "50                  Experiment Name  clf-default-name\n",
      "51                              USI              85ae\n"
     ]
    },
    {
     "data": {
      "text/plain": "<pandas.io.formats.style.Styler at 0x20fa9f0f1f0>",
      "text/html": "<style type=\"text/css\">\n#T_2b56b_row14_col1, #T_2b56b_row27_col1, #T_2b56b_row29_col1, #T_2b56b_row35_col1, #T_2b56b_row40_col1 {\n  background-color: lightgreen;\n}\n</style>\n<table id=\"T_2b56b\">\n  <thead>\n    <tr>\n      <th class=\"blank level0\" >&nbsp;</th>\n      <th id=\"T_2b56b_level0_col0\" class=\"col_heading level0 col0\" >Description</th>\n      <th id=\"T_2b56b_level0_col1\" class=\"col_heading level0 col1\" >Value</th>\n    </tr>\n  </thead>\n  <tbody>\n    <tr>\n      <th id=\"T_2b56b_level0_row0\" class=\"row_heading level0 row0\" >0</th>\n      <td id=\"T_2b56b_row0_col0\" class=\"data row0 col0\" >session_id</td>\n      <td id=\"T_2b56b_row0_col1\" class=\"data row0 col1\" >123</td>\n    </tr>\n    <tr>\n      <th id=\"T_2b56b_level0_row1\" class=\"row_heading level0 row1\" >1</th>\n      <td id=\"T_2b56b_row1_col0\" class=\"data row1 col0\" >Target</td>\n      <td id=\"T_2b56b_row1_col1\" class=\"data row1 col1\" >STORE</td>\n    </tr>\n    <tr>\n      <th id=\"T_2b56b_level0_row2\" class=\"row_heading level0 row2\" >2</th>\n      <td id=\"T_2b56b_row2_col0\" class=\"data row2 col0\" >Target type</td>\n      <td id=\"T_2b56b_row2_col1\" class=\"data row2 col1\" >Regression</td>\n    </tr>\n    <tr>\n      <th id=\"T_2b56b_level0_row3\" class=\"row_heading level0 row3\" >3</th>\n      <td id=\"T_2b56b_row3_col0\" class=\"data row3 col0\" >Data shape</td>\n      <td id=\"T_2b56b_row3_col1\" class=\"data row3 col1\" >(1070, 19)</td>\n    </tr>\n    <tr>\n      <th id=\"T_2b56b_level0_row4\" class=\"row_heading level0 row4\" >4</th>\n      <td id=\"T_2b56b_row4_col0\" class=\"data row4 col0\" >Train data shape</td>\n      <td id=\"T_2b56b_row4_col1\" class=\"data row4 col1\" >(748, 18)</td>\n    </tr>\n    <tr>\n      <th id=\"T_2b56b_level0_row5\" class=\"row_heading level0 row5\" >5</th>\n      <td id=\"T_2b56b_row5_col0\" class=\"data row5 col0\" >Test data shape</td>\n      <td id=\"T_2b56b_row5_col1\" class=\"data row5 col1\" >(322, 18)</td>\n    </tr>\n    <tr>\n      <th id=\"T_2b56b_level0_row6\" class=\"row_heading level0 row6\" >6</th>\n      <td id=\"T_2b56b_row6_col0\" class=\"data row6 col0\" >Ordinal features</td>\n      <td id=\"T_2b56b_row6_col1\" class=\"data row6 col1\" >1</td>\n    </tr>\n    <tr>\n      <th id=\"T_2b56b_level0_row7\" class=\"row_heading level0 row7\" >7</th>\n      <td id=\"T_2b56b_row7_col0\" class=\"data row7 col0\" >Numerical features</td>\n      <td id=\"T_2b56b_row7_col1\" class=\"data row7 col1\" >15</td>\n    </tr>\n    <tr>\n      <th id=\"T_2b56b_level0_row8\" class=\"row_heading level0 row8\" >8</th>\n      <td id=\"T_2b56b_row8_col0\" class=\"data row8 col0\" >Categorical features</td>\n      <td id=\"T_2b56b_row8_col1\" class=\"data row8 col1\" >1</td>\n    </tr>\n    <tr>\n      <th id=\"T_2b56b_level0_row9\" class=\"row_heading level0 row9\" >9</th>\n      <td id=\"T_2b56b_row9_col0\" class=\"data row9 col0\" >Date features</td>\n      <td id=\"T_2b56b_row9_col1\" class=\"data row9 col1\" >0</td>\n    </tr>\n    <tr>\n      <th id=\"T_2b56b_level0_row10\" class=\"row_heading level0 row10\" >10</th>\n      <td id=\"T_2b56b_row10_col0\" class=\"data row10 col0\" >Text features</td>\n      <td id=\"T_2b56b_row10_col1\" class=\"data row10 col1\" >1</td>\n    </tr>\n    <tr>\n      <th id=\"T_2b56b_level0_row11\" class=\"row_heading level0 row11\" >11</th>\n      <td id=\"T_2b56b_row11_col0\" class=\"data row11 col0\" >Ignored features</td>\n      <td id=\"T_2b56b_row11_col1\" class=\"data row11 col1\" >1</td>\n    </tr>\n    <tr>\n      <th id=\"T_2b56b_level0_row12\" class=\"row_heading level0 row12\" >12</th>\n      <td id=\"T_2b56b_row12_col0\" class=\"data row12 col0\" >Kept features</td>\n      <td id=\"T_2b56b_row12_col1\" class=\"data row12 col1\" >1</td>\n    </tr>\n    <tr>\n      <th id=\"T_2b56b_level0_row13\" class=\"row_heading level0 row13\" >13</th>\n      <td id=\"T_2b56b_row13_col0\" class=\"data row13 col0\" >Missing Values</td>\n      <td id=\"T_2b56b_row13_col1\" class=\"data row13 col1\" >0</td>\n    </tr>\n    <tr>\n      <th id=\"T_2b56b_level0_row14\" class=\"row_heading level0 row14\" >14</th>\n      <td id=\"T_2b56b_row14_col0\" class=\"data row14 col0\" >Preprocess</td>\n      <td id=\"T_2b56b_row14_col1\" class=\"data row14 col1\" >1</td>\n    </tr>\n    <tr>\n      <th id=\"T_2b56b_level0_row15\" class=\"row_heading level0 row15\" >15</th>\n      <td id=\"T_2b56b_row15_col0\" class=\"data row15 col0\" >Imputation type</td>\n      <td id=\"T_2b56b_row15_col1\" class=\"data row15 col1\" >simple</td>\n    </tr>\n    <tr>\n      <th id=\"T_2b56b_level0_row16\" class=\"row_heading level0 row16\" >16</th>\n      <td id=\"T_2b56b_row16_col0\" class=\"data row16 col0\" >Numeric imputation</td>\n      <td id=\"T_2b56b_row16_col1\" class=\"data row16 col1\" >mean</td>\n    </tr>\n    <tr>\n      <th id=\"T_2b56b_level0_row17\" class=\"row_heading level0 row17\" >17</th>\n      <td id=\"T_2b56b_row17_col0\" class=\"data row17 col0\" >Categorical imputation</td>\n      <td id=\"T_2b56b_row17_col1\" class=\"data row17 col1\" >constant</td>\n    </tr>\n    <tr>\n      <th id=\"T_2b56b_level0_row18\" class=\"row_heading level0 row18\" >18</th>\n      <td id=\"T_2b56b_row18_col0\" class=\"data row18 col0\" >Iterative imputation iterations</td>\n      <td id=\"T_2b56b_row18_col1\" class=\"data row18 col1\" >5</td>\n    </tr>\n    <tr>\n      <th id=\"T_2b56b_level0_row19\" class=\"row_heading level0 row19\" >19</th>\n      <td id=\"T_2b56b_row19_col0\" class=\"data row19 col0\" >Numeric iterative imputer</td>\n      <td id=\"T_2b56b_row19_col1\" class=\"data row19 col1\" >lightgbm</td>\n    </tr>\n    <tr>\n      <th id=\"T_2b56b_level0_row20\" class=\"row_heading level0 row20\" >20</th>\n      <td id=\"T_2b56b_row20_col0\" class=\"data row20 col0\" >Categorical iterative imputer</td>\n      <td id=\"T_2b56b_row20_col1\" class=\"data row20 col1\" >lightgbm</td>\n    </tr>\n    <tr>\n      <th id=\"T_2b56b_level0_row21\" class=\"row_heading level0 row21\" >21</th>\n      <td id=\"T_2b56b_row21_col0\" class=\"data row21 col0\" >Text features embedding method</td>\n      <td id=\"T_2b56b_row21_col1\" class=\"data row21 col1\" >tf-idf</td>\n    </tr>\n    <tr>\n      <th id=\"T_2b56b_level0_row22\" class=\"row_heading level0 row22\" >22</th>\n      <td id=\"T_2b56b_row22_col0\" class=\"data row22 col0\" >Maximum one-hot encoding</td>\n      <td id=\"T_2b56b_row22_col1\" class=\"data row22 col1\" >5</td>\n    </tr>\n    <tr>\n      <th id=\"T_2b56b_level0_row23\" class=\"row_heading level0 row23\" >23</th>\n      <td id=\"T_2b56b_row23_col0\" class=\"data row23 col0\" >Encoding method</td>\n      <td id=\"T_2b56b_row23_col1\" class=\"data row23 col1\" >None</td>\n    </tr>\n    <tr>\n      <th id=\"T_2b56b_level0_row24\" class=\"row_heading level0 row24\" >24</th>\n      <td id=\"T_2b56b_row24_col0\" class=\"data row24 col0\" >Polynomial features</td>\n      <td id=\"T_2b56b_row24_col1\" class=\"data row24 col1\" >0</td>\n    </tr>\n    <tr>\n      <th id=\"T_2b56b_level0_row25\" class=\"row_heading level0 row25\" >25</th>\n      <td id=\"T_2b56b_row25_col0\" class=\"data row25 col0\" >Polynomial degree</td>\n      <td id=\"T_2b56b_row25_col1\" class=\"data row25 col1\" >2</td>\n    </tr>\n    <tr>\n      <th id=\"T_2b56b_level0_row26\" class=\"row_heading level0 row26\" >26</th>\n      <td id=\"T_2b56b_row26_col0\" class=\"data row26 col0\" >Low variance threshold</td>\n      <td id=\"T_2b56b_row26_col1\" class=\"data row26 col1\" >0</td>\n    </tr>\n    <tr>\n      <th id=\"T_2b56b_level0_row27\" class=\"row_heading level0 row27\" >27</th>\n      <td id=\"T_2b56b_row27_col0\" class=\"data row27 col0\" >Remove multicollinearity</td>\n      <td id=\"T_2b56b_row27_col1\" class=\"data row27 col1\" >1</td>\n    </tr>\n    <tr>\n      <th id=\"T_2b56b_level0_row28\" class=\"row_heading level0 row28\" >28</th>\n      <td id=\"T_2b56b_row28_col0\" class=\"data row28 col0\" >Multicollinearity threshold</td>\n      <td id=\"T_2b56b_row28_col1\" class=\"data row28 col1\" >0.800000</td>\n    </tr>\n    <tr>\n      <th id=\"T_2b56b_level0_row29\" class=\"row_heading level0 row29\" >29</th>\n      <td id=\"T_2b56b_row29_col0\" class=\"data row29 col0\" >Remove outliers</td>\n      <td id=\"T_2b56b_row29_col1\" class=\"data row29 col1\" >1</td>\n    </tr>\n    <tr>\n      <th id=\"T_2b56b_level0_row30\" class=\"row_heading level0 row30\" >30</th>\n      <td id=\"T_2b56b_row30_col0\" class=\"data row30 col0\" >Outliers threshold</td>\n      <td id=\"T_2b56b_row30_col1\" class=\"data row30 col1\" >0.500000</td>\n    </tr>\n    <tr>\n      <th id=\"T_2b56b_level0_row31\" class=\"row_heading level0 row31\" >31</th>\n      <td id=\"T_2b56b_row31_col0\" class=\"data row31 col0\" >Fix imbalance</td>\n      <td id=\"T_2b56b_row31_col1\" class=\"data row31 col1\" >0</td>\n    </tr>\n    <tr>\n      <th id=\"T_2b56b_level0_row32\" class=\"row_heading level0 row32\" >32</th>\n      <td id=\"T_2b56b_row32_col0\" class=\"data row32 col0\" >Fix imbalance method</td>\n      <td id=\"T_2b56b_row32_col1\" class=\"data row32 col1\" >None</td>\n    </tr>\n    <tr>\n      <th id=\"T_2b56b_level0_row33\" class=\"row_heading level0 row33\" >33</th>\n      <td id=\"T_2b56b_row33_col0\" class=\"data row33 col0\" >Transformation</td>\n      <td id=\"T_2b56b_row33_col1\" class=\"data row33 col1\" >0</td>\n    </tr>\n    <tr>\n      <th id=\"T_2b56b_level0_row34\" class=\"row_heading level0 row34\" >34</th>\n      <td id=\"T_2b56b_row34_col0\" class=\"data row34 col0\" >Transformation method</td>\n      <td id=\"T_2b56b_row34_col1\" class=\"data row34 col1\" >yeo-johnson</td>\n    </tr>\n    <tr>\n      <th id=\"T_2b56b_level0_row35\" class=\"row_heading level0 row35\" >35</th>\n      <td id=\"T_2b56b_row35_col0\" class=\"data row35 col0\" >Normalize</td>\n      <td id=\"T_2b56b_row35_col1\" class=\"data row35 col1\" >1</td>\n    </tr>\n    <tr>\n      <th id=\"T_2b56b_level0_row36\" class=\"row_heading level0 row36\" >36</th>\n      <td id=\"T_2b56b_row36_col0\" class=\"data row36 col0\" >Normalize method</td>\n      <td id=\"T_2b56b_row36_col1\" class=\"data row36 col1\" >zscore</td>\n    </tr>\n    <tr>\n      <th id=\"T_2b56b_level0_row37\" class=\"row_heading level0 row37\" >37</th>\n      <td id=\"T_2b56b_row37_col0\" class=\"data row37 col0\" >PCA</td>\n      <td id=\"T_2b56b_row37_col1\" class=\"data row37 col1\" >0</td>\n    </tr>\n    <tr>\n      <th id=\"T_2b56b_level0_row38\" class=\"row_heading level0 row38\" >38</th>\n      <td id=\"T_2b56b_row38_col0\" class=\"data row38 col0\" >PCA method</td>\n      <td id=\"T_2b56b_row38_col1\" class=\"data row38 col1\" >linear</td>\n    </tr>\n    <tr>\n      <th id=\"T_2b56b_level0_row39\" class=\"row_heading level0 row39\" >39</th>\n      <td id=\"T_2b56b_row39_col0\" class=\"data row39 col0\" >PCA components</td>\n      <td id=\"T_2b56b_row39_col1\" class=\"data row39 col1\" >1.000000</td>\n    </tr>\n    <tr>\n      <th id=\"T_2b56b_level0_row40\" class=\"row_heading level0 row40\" >40</th>\n      <td id=\"T_2b56b_row40_col0\" class=\"data row40 col0\" >Feature selection</td>\n      <td id=\"T_2b56b_row40_col1\" class=\"data row40 col1\" >1</td>\n    </tr>\n    <tr>\n      <th id=\"T_2b56b_level0_row41\" class=\"row_heading level0 row41\" >41</th>\n      <td id=\"T_2b56b_row41_col0\" class=\"data row41 col0\" >Feature selection method</td>\n      <td id=\"T_2b56b_row41_col1\" class=\"data row41 col1\" >classic</td>\n    </tr>\n    <tr>\n      <th id=\"T_2b56b_level0_row42\" class=\"row_heading level0 row42\" >42</th>\n      <td id=\"T_2b56b_row42_col0\" class=\"data row42 col0\" >Feature selection estimator</td>\n      <td id=\"T_2b56b_row42_col1\" class=\"data row42 col1\" >rf</td>\n    </tr>\n    <tr>\n      <th id=\"T_2b56b_level0_row43\" class=\"row_heading level0 row43\" >43</th>\n      <td id=\"T_2b56b_row43_col0\" class=\"data row43 col0\" >Number of features selected</td>\n      <td id=\"T_2b56b_row43_col1\" class=\"data row43 col1\" >7</td>\n    </tr>\n    <tr>\n      <th id=\"T_2b56b_level0_row44\" class=\"row_heading level0 row44\" >44</th>\n      <td id=\"T_2b56b_row44_col0\" class=\"data row44 col0\" >Custom pipeline</td>\n      <td id=\"T_2b56b_row44_col1\" class=\"data row44 col1\" >Yes</td>\n    </tr>\n    <tr>\n      <th id=\"T_2b56b_level0_row45\" class=\"row_heading level0 row45\" >45</th>\n      <td id=\"T_2b56b_row45_col0\" class=\"data row45 col0\" >Fold Generator</td>\n      <td id=\"T_2b56b_row45_col1\" class=\"data row45 col1\" >StratifiedKFold</td>\n    </tr>\n    <tr>\n      <th id=\"T_2b56b_level0_row46\" class=\"row_heading level0 row46\" >46</th>\n      <td id=\"T_2b56b_row46_col0\" class=\"data row46 col0\" >Fold Number</td>\n      <td id=\"T_2b56b_row46_col1\" class=\"data row46 col1\" >10</td>\n    </tr>\n    <tr>\n      <th id=\"T_2b56b_level0_row47\" class=\"row_heading level0 row47\" >47</th>\n      <td id=\"T_2b56b_row47_col0\" class=\"data row47 col0\" >CPU Jobs</td>\n      <td id=\"T_2b56b_row47_col1\" class=\"data row47 col1\" >-1</td>\n    </tr>\n    <tr>\n      <th id=\"T_2b56b_level0_row48\" class=\"row_heading level0 row48\" >48</th>\n      <td id=\"T_2b56b_row48_col0\" class=\"data row48 col0\" >Use GPU</td>\n      <td id=\"T_2b56b_row48_col1\" class=\"data row48 col1\" >0</td>\n    </tr>\n    <tr>\n      <th id=\"T_2b56b_level0_row49\" class=\"row_heading level0 row49\" >49</th>\n      <td id=\"T_2b56b_row49_col0\" class=\"data row49 col0\" >Log Experiment</td>\n      <td id=\"T_2b56b_row49_col1\" class=\"data row49 col1\" >0</td>\n    </tr>\n    <tr>\n      <th id=\"T_2b56b_level0_row50\" class=\"row_heading level0 row50\" >50</th>\n      <td id=\"T_2b56b_row50_col0\" class=\"data row50 col0\" >Experiment Name</td>\n      <td id=\"T_2b56b_row50_col1\" class=\"data row50 col1\" >clf-default-name</td>\n    </tr>\n    <tr>\n      <th id=\"T_2b56b_level0_row51\" class=\"row_heading level0 row51\" >51</th>\n      <td id=\"T_2b56b_row51_col0\" class=\"data row51 col0\" >USI</td>\n      <td id=\"T_2b56b_row51_col1\" class=\"data row51 col1\" >85ae</td>\n    </tr>\n  </tbody>\n</table>\n"
     },
     "metadata": {},
     "output_type": "display_data"
    }
   ],
   "source": [
    "py = setup(\n",
    "    data=dataset,\n",
    "    target='STORE',\n",
    "    session_id=123,\n",
    "    experiment_name=None,\n",
    "    text_features=[\"Purchase\"],\n",
    "    ignore_features=[\"Id\"],\n",
    "    keep_features=[\"SalePriceCH\"],\n",
    "    preprocess=True,\n",
    "    imputation_type='simple',\n",
    "    numeric_iterative_imputer='lightgbm',\n",
    "    categorical_iterative_imputer='lightgbm',\n",
    "    max_encoding_ohe=5,\n",
    "    remove_multicollinearity=True,\n",
    "    multicollinearity_threshold=0.8,\n",
    "    bin_numeric_features=[\"PriceMM\"],\n",
    "    remove_outliers=True,\n",
    "    outliers_method=\"lof\",\n",
    "    outliers_threshold=0.5,\n",
    "    normalize=True,\n",
    "    feature_selection=True,\n",
    "    feature_selection_method=\"classic\",\n",
    "    feature_selection_estimator=\"rf\",\n",
    "    n_features_to_select=7,\n",
    "    custom_pipeline=[(\"pca\", PCA(n_components=5))],\n",
    "    system_log=False,\n",
    "    memory=False,\n",
    ")"
   ]
  },
  {
   "cell_type": "code",
   "execution_count": null,
   "outputs": [],
   "source": [
    "a = py.pipeline\n",
    "print(a)\n",
    "a.fit(py.X, py.y)\n",
    "X, y = a.transform(py.X, py.y)\n",
    "print(X)\n",
    "print(X.shape)"
   ],
   "metadata": {
    "collapsed": false,
    "pycharm": {
     "name": "#%%\n"
    }
   }
  },
  {
   "cell_type": "code",
   "execution_count": null,
   "outputs": [],
   "source": [
    "best_model = create_model(\"lr\")"
   ],
   "metadata": {
    "collapsed": false,
    "pycharm": {
     "name": "#%%\n"
    }
   }
  },
  {
   "cell_type": "code",
   "execution_count": null,
   "outputs": [],
   "source": [
    "models = compare_models(turbo=False, n_select=5)"
   ],
   "metadata": {
    "collapsed": false,
    "pycharm": {
     "name": "#%%\n"
    }
   }
  },
  {
   "cell_type": "code",
   "execution_count": null,
   "outputs": [],
   "source": [],
   "metadata": {
    "collapsed": false,
    "pycharm": {
     "name": "#%%\n"
    }
   }
  }
 ],
 "metadata": {
  "kernelspec": {
   "display_name": "Python 3",
   "language": "python",
   "name": "python3"
  },
  "language_info": {
   "codemirror_mode": {
    "name": "ipython",
    "version": 3
   },
   "file_extension": ".py",
   "mimetype": "text/x-python",
   "name": "python",
   "nbconvert_exporter": "python",
   "pygments_lexer": "ipython3",
   "version": "3.8.3"
  }
 },
 "nbformat": 4,
 "nbformat_minor": 4
}