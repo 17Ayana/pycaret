{
 "cells": [
  {
   "cell_type": "code",
   "execution_count": 1,
   "metadata": {},
   "outputs": [],
   "source": [
    "import pandas as pd\n",
    "from pycaret.classification import *\n",
    "from sklearn.decomposition import PCA\n",
    "from sklearn.datasets import fetch_20newsgroups"
   ]
  },
  {
   "cell_type": "code",
   "execution_count": 7,
   "outputs": [
    {
     "data": {
      "text/plain": "   age           job  marital  education default  balance housing loan  \\\n0   58    management  married   tertiary      no     2143     yes   no   \n1   44    technician   single  secondary      no       29     yes   no   \n2   33  entrepreneur  married  secondary      no        2     yes  yes   \n3   47   blue-collar  married    unknown      no     1506     yes   no   \n4   33       unknown   single    unknown      no        1      no   no   \n\n   contact  day month  duration  campaign  pdays  previous poutcome deposit  \n0  unknown    5   may       261         1     -1         0  unknown      no  \n1  unknown    5   may       151         1     -1         0  unknown      no  \n2  unknown    5   may        76         1     -1         0  unknown      no  \n3  unknown    5   may        92         1     -1         0  unknown      no  \n4  unknown    5   may       198         1     -1         0  unknown      no  ",
      "text/html": "<div>\n<style scoped>\n    .dataframe tbody tr th:only-of-type {\n        vertical-align: middle;\n    }\n\n    .dataframe tbody tr th {\n        vertical-align: top;\n    }\n\n    .dataframe thead th {\n        text-align: right;\n    }\n</style>\n<table border=\"1\" class=\"dataframe\">\n  <thead>\n    <tr style=\"text-align: right;\">\n      <th></th>\n      <th>age</th>\n      <th>job</th>\n      <th>marital</th>\n      <th>education</th>\n      <th>default</th>\n      <th>balance</th>\n      <th>housing</th>\n      <th>loan</th>\n      <th>contact</th>\n      <th>day</th>\n      <th>month</th>\n      <th>duration</th>\n      <th>campaign</th>\n      <th>pdays</th>\n      <th>previous</th>\n      <th>poutcome</th>\n      <th>deposit</th>\n    </tr>\n  </thead>\n  <tbody>\n    <tr>\n      <th>0</th>\n      <td>58</td>\n      <td>management</td>\n      <td>married</td>\n      <td>tertiary</td>\n      <td>no</td>\n      <td>2143</td>\n      <td>yes</td>\n      <td>no</td>\n      <td>unknown</td>\n      <td>5</td>\n      <td>may</td>\n      <td>261</td>\n      <td>1</td>\n      <td>-1</td>\n      <td>0</td>\n      <td>unknown</td>\n      <td>no</td>\n    </tr>\n    <tr>\n      <th>1</th>\n      <td>44</td>\n      <td>technician</td>\n      <td>single</td>\n      <td>secondary</td>\n      <td>no</td>\n      <td>29</td>\n      <td>yes</td>\n      <td>no</td>\n      <td>unknown</td>\n      <td>5</td>\n      <td>may</td>\n      <td>151</td>\n      <td>1</td>\n      <td>-1</td>\n      <td>0</td>\n      <td>unknown</td>\n      <td>no</td>\n    </tr>\n    <tr>\n      <th>2</th>\n      <td>33</td>\n      <td>entrepreneur</td>\n      <td>married</td>\n      <td>secondary</td>\n      <td>no</td>\n      <td>2</td>\n      <td>yes</td>\n      <td>yes</td>\n      <td>unknown</td>\n      <td>5</td>\n      <td>may</td>\n      <td>76</td>\n      <td>1</td>\n      <td>-1</td>\n      <td>0</td>\n      <td>unknown</td>\n      <td>no</td>\n    </tr>\n    <tr>\n      <th>3</th>\n      <td>47</td>\n      <td>blue-collar</td>\n      <td>married</td>\n      <td>unknown</td>\n      <td>no</td>\n      <td>1506</td>\n      <td>yes</td>\n      <td>no</td>\n      <td>unknown</td>\n      <td>5</td>\n      <td>may</td>\n      <td>92</td>\n      <td>1</td>\n      <td>-1</td>\n      <td>0</td>\n      <td>unknown</td>\n      <td>no</td>\n    </tr>\n    <tr>\n      <th>4</th>\n      <td>33</td>\n      <td>unknown</td>\n      <td>single</td>\n      <td>unknown</td>\n      <td>no</td>\n      <td>1</td>\n      <td>no</td>\n      <td>no</td>\n      <td>unknown</td>\n      <td>5</td>\n      <td>may</td>\n      <td>198</td>\n      <td>1</td>\n      <td>-1</td>\n      <td>0</td>\n      <td>unknown</td>\n      <td>no</td>\n    </tr>\n  </tbody>\n</table>\n</div>"
     },
     "metadata": {},
     "output_type": "display_data"
    },
    {
     "name": "stdout",
     "output_type": "stream",
     "text": [
      "(45211, 17)\n"
     ]
    }
   ],
   "source": [
    "from pycaret.datasets import get_data\n",
    "dataset = get_data('bank')\n",
    "\n",
    "print(dataset.shape)"
   ],
   "metadata": {
    "collapsed": false,
    "pycharm": {
     "name": "#%%\n"
    }
   }
  },
  {
   "cell_type": "code",
   "execution_count": 3,
   "metadata": {},
   "outputs": [
    {
     "name": "stdout",
     "output_type": "stream",
     "text": [
      "<pandas.io.formats.style.Styler object at 0x0000021C329F9700>\n"
     ]
    }
   ],
   "source": [
    "py = setup(\n",
    "    data=dataset,\n",
    "    target='STORE',\n",
    "    session_id=123,\n",
    "    experiment_name=None,\n",
    "    # text_features=[\"Purchase\"],\n",
    "    # ignore_features=[\"Id\"],\n",
    "    # keep_features=[\"SalePriceCH\"],\n",
    "    # preprocess=False,\n",
    "    # imputation_type='simple',\n",
    "    # numeric_iterative_imputer='lightgbm',\n",
    "    # categorical_iterative_imputer='lightgbm',\n",
    "    # max_encoding_ohe=5,\n",
    "    normalize=True,\n",
    "    # remove_outliers=True,\n",
    "    # outliers_method=\"lof\",\n",
    "    # outliers_threshold=0.5,\n",
    "    # remove_multicollinearity=True,\n",
    "    # multicollinearity_threshold=0.8,\n",
    "    # bin_numeric_features=[\"PriceMM\"],\n",
    "    # feature_selection=True,\n",
    "    # feature_selection_method=\"classic\",\n",
    "    # feature_selection_estimator=\"rf\",\n",
    "    # n_features_to_select=7,\n",
    "    # custom_pipeline=[(\"pca\", PCA(n_components=5))],\n",
    "    system_log=False,\n",
    ")"
   ]
  },
  {
   "cell_type": "code",
   "execution_count": 4,
   "outputs": [
    {
     "name": "stdout",
     "output_type": "stream",
     "text": [
      "Pipeline(steps=[('numerical_imputer',\n",
      "                 TransfomerWrapper(columns=['Id', 'WeekofPurchase', 'StoreID', 'PriceCH', 'PriceMM', 'DiscCH', 'DiscMM', 'SpecialCH', 'SpecialMM', 'LoyalCH', 'SalePriceMM', 'SalePriceCH', 'PriceDiff', 'PctDiscMM', 'PctDiscCH', 'ListPriceDiff'], transformer=SimpleImputer(fill_value=0))),\n",
      "                ('categorical_imputer',\n",
      "                 TransfomerWrapper(columns=['Purchase...mpleImputer(fill_value='not_available', strategy='constant'))),\n",
      "                ('ordinal_encoding',\n",
      "                 TransfomerWrapper(columns=['Purchase', 'Store7'], transformer=OrdinalEncoder(handle_missing='return_nan', mapping=[{'col': 'Purchase', 'mapping': {'CH': 1, 'MM': 0}}, {'col': 'Store7', 'mapping': {'No': 1, 'Yes': 0}}]))),\n",
      "                ('normalize', TransfomerWrapper(transformer=StandardScaler()))])\n"
     ]
    },
    {
     "ename": "NameError",
     "evalue": "name 'transform_one' is not defined",
     "output_type": "error",
     "traceback": [
      "\u001B[1;31m---------------------------------------------------------------------------\u001B[0m",
      "\u001B[1;31mNameError\u001B[0m                                 Traceback (most recent call last)",
      "\u001B[1;32m<ipython-input-4-395f606111a9>\u001B[0m in \u001B[0;36m<module>\u001B[1;34m\u001B[0m\n\u001B[0;32m      2\u001B[0m \u001B[0mprint\u001B[0m\u001B[1;33m(\u001B[0m\u001B[0ma\u001B[0m\u001B[1;33m)\u001B[0m\u001B[1;33m\u001B[0m\u001B[1;33m\u001B[0m\u001B[0m\n\u001B[0;32m      3\u001B[0m \u001B[0ma\u001B[0m\u001B[1;33m.\u001B[0m\u001B[0mfit\u001B[0m\u001B[1;33m(\u001B[0m\u001B[0mpy\u001B[0m\u001B[1;33m.\u001B[0m\u001B[0mX\u001B[0m\u001B[1;33m,\u001B[0m \u001B[0mpy\u001B[0m\u001B[1;33m.\u001B[0m\u001B[0my\u001B[0m\u001B[1;33m)\u001B[0m\u001B[1;33m\u001B[0m\u001B[1;33m\u001B[0m\u001B[0m\n\u001B[1;32m----> 4\u001B[1;33m \u001B[0mX\u001B[0m\u001B[1;33m,\u001B[0m \u001B[0my\u001B[0m \u001B[1;33m=\u001B[0m \u001B[0ma\u001B[0m\u001B[1;33m.\u001B[0m\u001B[0mtransform\u001B[0m\u001B[1;33m(\u001B[0m\u001B[0mpy\u001B[0m\u001B[1;33m.\u001B[0m\u001B[0mX\u001B[0m\u001B[1;33m,\u001B[0m \u001B[0mpy\u001B[0m\u001B[1;33m.\u001B[0m\u001B[0my\u001B[0m\u001B[1;33m)\u001B[0m\u001B[1;33m\u001B[0m\u001B[1;33m\u001B[0m\u001B[0m\n\u001B[0m\u001B[0;32m      5\u001B[0m \u001B[0mprint\u001B[0m\u001B[1;33m(\u001B[0m\u001B[0mX\u001B[0m\u001B[1;33m)\u001B[0m\u001B[1;33m\u001B[0m\u001B[1;33m\u001B[0m\u001B[0m\n\u001B[0;32m      6\u001B[0m \u001B[0mprint\u001B[0m\u001B[1;33m(\u001B[0m\u001B[0mX\u001B[0m\u001B[1;33m.\u001B[0m\u001B[0mshape\u001B[0m\u001B[1;33m)\u001B[0m\u001B[1;33m\u001B[0m\u001B[1;33m\u001B[0m\u001B[0m\n",
      "\u001B[1;32m~\\Documents\\Python\\pycaret\\pycaret\\internal\\pipeline.py\u001B[0m in \u001B[0;36mtransform\u001B[1;34m(self, X, y)\u001B[0m\n\u001B[0;32m    193\u001B[0m     \u001B[1;32mdef\u001B[0m \u001B[0mtransform\u001B[0m\u001B[1;33m(\u001B[0m\u001B[0mself\u001B[0m\u001B[1;33m,\u001B[0m \u001B[0mX\u001B[0m\u001B[1;33m=\u001B[0m\u001B[1;32mNone\u001B[0m\u001B[1;33m,\u001B[0m \u001B[0my\u001B[0m\u001B[1;33m=\u001B[0m\u001B[1;32mNone\u001B[0m\u001B[1;33m)\u001B[0m\u001B[1;33m:\u001B[0m\u001B[1;33m\u001B[0m\u001B[1;33m\u001B[0m\u001B[0m\n\u001B[0;32m    194\u001B[0m         \u001B[1;32mfor\u001B[0m \u001B[0m_\u001B[0m\u001B[1;33m,\u001B[0m \u001B[0m_\u001B[0m\u001B[1;33m,\u001B[0m \u001B[0mtransformer\u001B[0m \u001B[1;32min\u001B[0m \u001B[0mself\u001B[0m\u001B[1;33m.\u001B[0m\u001B[0m_iter\u001B[0m\u001B[1;33m(\u001B[0m\u001B[1;33m)\u001B[0m\u001B[1;33m:\u001B[0m\u001B[1;33m\u001B[0m\u001B[1;33m\u001B[0m\u001B[0m\n\u001B[1;32m--> 195\u001B[1;33m             \u001B[0mX\u001B[0m\u001B[1;33m,\u001B[0m \u001B[0my\u001B[0m \u001B[1;33m=\u001B[0m \u001B[0mtransform_one\u001B[0m\u001B[1;33m(\u001B[0m\u001B[0mtransformer\u001B[0m\u001B[1;33m,\u001B[0m \u001B[0mX\u001B[0m\u001B[1;33m,\u001B[0m \u001B[0my\u001B[0m\u001B[1;33m)\u001B[0m\u001B[1;33m\u001B[0m\u001B[1;33m\u001B[0m\u001B[0m\n\u001B[0m\u001B[0;32m    196\u001B[0m \u001B[1;33m\u001B[0m\u001B[0m\n\u001B[0;32m    197\u001B[0m         \u001B[1;32mreturn\u001B[0m \u001B[0mvariable_return\u001B[0m\u001B[1;33m(\u001B[0m\u001B[0mX\u001B[0m\u001B[1;33m,\u001B[0m \u001B[0my\u001B[0m\u001B[1;33m)\u001B[0m\u001B[1;33m\u001B[0m\u001B[1;33m\u001B[0m\u001B[0m\n",
      "\u001B[1;31mNameError\u001B[0m: name 'transform_one' is not defined"
     ]
    }
   ],
   "source": [
    "a = py._internal_pipeline\n",
    "print(a)\n",
    "a.fit(py.X, py.y)\n",
    "X, y = a.transform(py.X, py.y)\n",
    "print(X)\n",
    "print(X.shape)"
   ],
   "metadata": {
    "collapsed": false,
    "pycharm": {
     "name": "#%%\n"
    }
   }
  },
  {
   "cell_type": "code",
   "execution_count": 5,
   "metadata": {
    "pycharm": {
     "name": "#%%\n"
    }
   },
   "outputs": [
    {
     "data": {
      "text/plain": "<pandas.io.formats.style.Styler at 0x22fb19f5ee0>",
      "text/html": "<style  type=\"text/css\" >\n#T_87575_row10_col0,#T_87575_row10_col1,#T_87575_row10_col2,#T_87575_row10_col3,#T_87575_row10_col4,#T_87575_row10_col5,#T_87575_row10_col6{\n            background:  yellow;\n        }</style><table id=\"T_87575_\" ><thead>    <tr>        <th class=\"blank level0\" ></th>        <th class=\"col_heading level0 col0\" >Accuracy</th>        <th class=\"col_heading level0 col1\" >AUC</th>        <th class=\"col_heading level0 col2\" >Recall</th>        <th class=\"col_heading level0 col3\" >Prec.</th>        <th class=\"col_heading level0 col4\" >F1</th>        <th class=\"col_heading level0 col5\" >Kappa</th>        <th class=\"col_heading level0 col6\" >MCC</th>    </tr></thead><tbody>\n                <tr>\n                        <th id=\"T_87575_level0_row0\" class=\"row_heading level0 row0\" >0</th>\n                        <td id=\"T_87575_row0_col0\" class=\"data row0 col0\" >0.9200</td>\n                        <td id=\"T_87575_row0_col1\" class=\"data row0 col1\" >0.9928</td>\n                        <td id=\"T_87575_row0_col2\" class=\"data row0 col2\" >0.8914</td>\n                        <td id=\"T_87575_row0_col3\" class=\"data row0 col3\" >0.9233</td>\n                        <td id=\"T_87575_row0_col4\" class=\"data row0 col4\" >0.9205</td>\n                        <td id=\"T_87575_row0_col5\" class=\"data row0 col5\" >0.8959</td>\n                        <td id=\"T_87575_row0_col6\" class=\"data row0 col6\" >0.8965</td>\n            </tr>\n            <tr>\n                        <th id=\"T_87575_level0_row1\" class=\"row_heading level0 row1\" >1</th>\n                        <td id=\"T_87575_row1_col0\" class=\"data row1 col0\" >1.0000</td>\n                        <td id=\"T_87575_row1_col1\" class=\"data row1 col1\" >1.0000</td>\n                        <td id=\"T_87575_row1_col2\" class=\"data row1 col2\" >1.0000</td>\n                        <td id=\"T_87575_row1_col3\" class=\"data row1 col3\" >1.0000</td>\n                        <td id=\"T_87575_row1_col4\" class=\"data row1 col4\" >1.0000</td>\n                        <td id=\"T_87575_row1_col5\" class=\"data row1 col5\" >1.0000</td>\n                        <td id=\"T_87575_row1_col6\" class=\"data row1 col6\" >1.0000</td>\n            </tr>\n            <tr>\n                        <th id=\"T_87575_level0_row2\" class=\"row_heading level0 row2\" >2</th>\n                        <td id=\"T_87575_row2_col0\" class=\"data row2 col0\" >0.9200</td>\n                        <td id=\"T_87575_row2_col1\" class=\"data row2 col1\" >0.9917</td>\n                        <td id=\"T_87575_row2_col2\" class=\"data row2 col2\" >0.8835</td>\n                        <td id=\"T_87575_row2_col3\" class=\"data row2 col3\" >0.9348</td>\n                        <td id=\"T_87575_row2_col4\" class=\"data row2 col4\" >0.9174</td>\n                        <td id=\"T_87575_row2_col5\" class=\"data row2 col5\" >0.8955</td>\n                        <td id=\"T_87575_row2_col6\" class=\"data row2 col6\" >0.8989</td>\n            </tr>\n            <tr>\n                        <th id=\"T_87575_level0_row3\" class=\"row_heading level0 row3\" >3</th>\n                        <td id=\"T_87575_row3_col0\" class=\"data row3 col0\" >0.8533</td>\n                        <td id=\"T_87575_row3_col1\" class=\"data row3 col1\" >0.9844</td>\n                        <td id=\"T_87575_row3_col2\" class=\"data row3 col2\" >0.8317</td>\n                        <td id=\"T_87575_row3_col3\" class=\"data row3 col3\" >0.8795</td>\n                        <td id=\"T_87575_row3_col4\" class=\"data row3 col4\" >0.8578</td>\n                        <td id=\"T_87575_row3_col5\" class=\"data row3 col5\" >0.8100</td>\n                        <td id=\"T_87575_row3_col6\" class=\"data row3 col6\" >0.8135</td>\n            </tr>\n            <tr>\n                        <th id=\"T_87575_level0_row4\" class=\"row_heading level0 row4\" >4</th>\n                        <td id=\"T_87575_row4_col0\" class=\"data row4 col0\" >0.9333</td>\n                        <td id=\"T_87575_row4_col1\" class=\"data row4 col1\" >0.9930</td>\n                        <td id=\"T_87575_row4_col2\" class=\"data row4 col2\" >0.9146</td>\n                        <td id=\"T_87575_row4_col3\" class=\"data row4 col3\" >0.9372</td>\n                        <td id=\"T_87575_row4_col4\" class=\"data row4 col4\" >0.9331</td>\n                        <td id=\"T_87575_row4_col5\" class=\"data row4 col5\" >0.9130</td>\n                        <td id=\"T_87575_row4_col6\" class=\"data row4 col6\" >0.9141</td>\n            </tr>\n            <tr>\n                        <th id=\"T_87575_level0_row5\" class=\"row_heading level0 row5\" >5</th>\n                        <td id=\"T_87575_row5_col0\" class=\"data row5 col0\" >0.9467</td>\n                        <td id=\"T_87575_row5_col1\" class=\"data row5 col1\" >0.9976</td>\n                        <td id=\"T_87575_row5_col2\" class=\"data row5 col2\" >0.9267</td>\n                        <td id=\"T_87575_row5_col3\" class=\"data row5 col3\" >0.9585</td>\n                        <td id=\"T_87575_row5_col4\" class=\"data row5 col4\" >0.9462</td>\n                        <td id=\"T_87575_row5_col5\" class=\"data row5 col5\" >0.9305</td>\n                        <td id=\"T_87575_row5_col6\" class=\"data row5 col6\" >0.9333</td>\n            </tr>\n            <tr>\n                        <th id=\"T_87575_level0_row6\" class=\"row_heading level0 row6\" >6</th>\n                        <td id=\"T_87575_row6_col0\" class=\"data row6 col0\" >0.8800</td>\n                        <td id=\"T_87575_row6_col1\" class=\"data row6 col1\" >0.9891</td>\n                        <td id=\"T_87575_row6_col2\" class=\"data row6 col2\" >0.8381</td>\n                        <td id=\"T_87575_row6_col3\" class=\"data row6 col3\" >0.8868</td>\n                        <td id=\"T_87575_row6_col4\" class=\"data row6 col4\" >0.8755</td>\n                        <td id=\"T_87575_row6_col5\" class=\"data row6 col5\" >0.8435</td>\n                        <td id=\"T_87575_row6_col6\" class=\"data row6 col6\" >0.8477</td>\n            </tr>\n            <tr>\n                        <th id=\"T_87575_level0_row7\" class=\"row_heading level0 row7\" >7</th>\n                        <td id=\"T_87575_row7_col0\" class=\"data row7 col0\" >0.8533</td>\n                        <td id=\"T_87575_row7_col1\" class=\"data row7 col1\" >0.9838</td>\n                        <td id=\"T_87575_row7_col2\" class=\"data row7 col2\" >0.8143</td>\n                        <td id=\"T_87575_row7_col3\" class=\"data row7 col3\" >0.8663</td>\n                        <td id=\"T_87575_row7_col4\" class=\"data row7 col4\" >0.8475</td>\n                        <td id=\"T_87575_row7_col5\" class=\"data row7 col5\" >0.8078</td>\n                        <td id=\"T_87575_row7_col6\" class=\"data row7 col6\" >0.8111</td>\n            </tr>\n            <tr>\n                        <th id=\"T_87575_level0_row8\" class=\"row_heading level0 row8\" >8</th>\n                        <td id=\"T_87575_row8_col0\" class=\"data row8 col0\" >0.9865</td>\n                        <td id=\"T_87575_row8_col1\" class=\"data row8 col1\" >0.9982</td>\n                        <td id=\"T_87575_row8_col2\" class=\"data row8 col2\" >0.9857</td>\n                        <td id=\"T_87575_row8_col3\" class=\"data row8 col3\" >0.9873</td>\n                        <td id=\"T_87575_row8_col4\" class=\"data row8 col4\" >0.9865</td>\n                        <td id=\"T_87575_row8_col5\" class=\"data row8 col5\" >0.9825</td>\n                        <td id=\"T_87575_row8_col6\" class=\"data row8 col6\" >0.9827</td>\n            </tr>\n            <tr>\n                        <th id=\"T_87575_level0_row9\" class=\"row_heading level0 row9\" >9</th>\n                        <td id=\"T_87575_row9_col0\" class=\"data row9 col0\" >0.8108</td>\n                        <td id=\"T_87575_row9_col1\" class=\"data row9 col1\" >0.9853</td>\n                        <td id=\"T_87575_row9_col2\" class=\"data row9 col2\" >0.7692</td>\n                        <td id=\"T_87575_row9_col3\" class=\"data row9 col3\" >0.8315</td>\n                        <td id=\"T_87575_row9_col4\" class=\"data row9 col4\" >0.7904</td>\n                        <td id=\"T_87575_row9_col5\" class=\"data row9 col5\" >0.7468</td>\n                        <td id=\"T_87575_row9_col6\" class=\"data row9 col6\" >0.7663</td>\n            </tr>\n            <tr>\n                        <th id=\"T_87575_level0_row10\" class=\"row_heading level0 row10\" >Mean</th>\n                        <td id=\"T_87575_row10_col0\" class=\"data row10 col0\" >0.9104</td>\n                        <td id=\"T_87575_row10_col1\" class=\"data row10 col1\" >0.9916</td>\n                        <td id=\"T_87575_row10_col2\" class=\"data row10 col2\" >0.8855</td>\n                        <td id=\"T_87575_row10_col3\" class=\"data row10 col3\" >0.9205</td>\n                        <td id=\"T_87575_row10_col4\" class=\"data row10 col4\" >0.9075</td>\n                        <td id=\"T_87575_row10_col5\" class=\"data row10 col5\" >0.8825</td>\n                        <td id=\"T_87575_row10_col6\" class=\"data row10 col6\" >0.8864</td>\n            </tr>\n            <tr>\n                        <th id=\"T_87575_level0_row11\" class=\"row_heading level0 row11\" >SD</th>\n                        <td id=\"T_87575_row11_col0\" class=\"data row11 col0\" >0.0576</td>\n                        <td id=\"T_87575_row11_col1\" class=\"data row11 col1\" >0.0056</td>\n                        <td id=\"T_87575_row11_col2\" class=\"data row11 col2\" >0.0703</td>\n                        <td id=\"T_87575_row11_col3\" class=\"data row11 col3\" >0.0514</td>\n                        <td id=\"T_87575_row11_col4\" class=\"data row11 col4\" >0.0617</td>\n                        <td id=\"T_87575_row11_col5\" class=\"data row11 col5\" >0.0763</td>\n                        <td id=\"T_87575_row11_col6\" class=\"data row11 col6\" >0.0723</td>\n            </tr>\n    </tbody></table>"
     },
     "metadata": {},
     "output_type": "display_data"
    },
    {
     "name": "stdout",
     "output_type": "stream",
     "text": [
      "aa LogisticRegression(max_iter=1000, random_state=123)\n"
     ]
    }
   ],
   "source": [
    "best_model = create_model(\"lr\")"
   ]
  },
  {
   "cell_type": "code",
   "execution_count": 6,
   "outputs": [
    {
     "data": {
      "text/plain": "LogisticRegression(max_iter=1000, random_state=123)"
     },
     "execution_count": 6,
     "metadata": {},
     "output_type": "execute_result"
    }
   ],
   "source": [
    "best_model"
   ],
   "metadata": {
    "collapsed": false,
    "pycharm": {
     "name": "#%%\n"
    }
   }
  },
  {
   "cell_type": "code",
   "execution_count": 7,
   "outputs": [
    {
     "name": "stdout",
     "output_type": "stream",
     "text": [
      "Pipeline(steps=[('numerical_imputer',\n",
      "                 TransfomerWrapper(columns=['Id', 'WeekofPurchase', 'StoreID', 'PriceCH', 'PriceMM', 'DiscCH', 'DiscMM', 'SpecialCH', 'SpecialMM', 'LoyalCH', 'SalePriceMM', 'SalePriceCH', 'PriceDiff', 'PctDiscMM', 'PctDiscCH', 'ListPriceDiff'], transformer=SimpleImputer(fill_value=0))),\n",
      "                ('categorical_imputer',\n",
      "                 TransfomerWrapper(columns=['Purchase...\n",
      "                 TransfomerWrapper(columns=['Purchase', 'Store7'], transformer=OrdinalEncoder(cols=['Purchase', 'Store7'], handle_missing='return_nan', mapping=[{'col': 'Purchase', 'mapping': {'CH': 1, 'MM': 0}}, {'col': 'Store7', 'mapping': {'No': 1, 'Yes': 0}}]))),\n",
      "                ('normalize',\n",
      "                 TransfomerWrapper(columns=['Id', 'Purchase', 'WeekofPurchase', 'StoreID', 'PriceCH', 'PriceMM', 'DiscCH', 'DiscMM', 'SpecialCH', 'SpecialMM', 'LoyalCH', 'SalePriceMM', 'SalePriceCH', 'PriceDiff', 'Store7', 'PctDiscMM', 'PctDiscCH', 'ListPriceDiff'], transformer=StandardScaler()))])\n"
     ]
    },
    {
     "ename": "AttributeError",
     "evalue": "'TransfomerWrapper' object has no attribute 'predict'",
     "output_type": "error",
     "traceback": [
      "\u001B[1;31m---------------------------------------------------------------------------\u001B[0m",
      "\u001B[1;31mAttributeError\u001B[0m                            Traceback (most recent call last)",
      "\u001B[1;32m<ipython-input-7-2739d780fc17>\u001B[0m in \u001B[0;36m<module>\u001B[1;34m\u001B[0m\n\u001B[1;32m----> 1\u001B[1;33m \u001B[0mpy\u001B[0m\u001B[1;33m.\u001B[0m\u001B[0mpredict_model\u001B[0m\u001B[1;33m(\u001B[0m\u001B[0mbest_model\u001B[0m\u001B[1;33m)\u001B[0m\u001B[1;33m\u001B[0m\u001B[1;33m\u001B[0m\u001B[0m\n\u001B[0m\u001B[0;32m      2\u001B[0m \u001B[1;33m\u001B[0m\u001B[0m\n",
      "\u001B[1;32m~\\Documents\\Python\\pycaret\\pycaret\\internal\\pycaret_experiment\\classification_experiment.py\u001B[0m in \u001B[0;36mpredict_model\u001B[1;34m(self, estimator, data, probability_threshold, encoded_labels, raw_score, round, verbose)\u001B[0m\n\u001B[0;32m   1794\u001B[0m         \"\"\"\n\u001B[0;32m   1795\u001B[0m \u001B[1;33m\u001B[0m\u001B[0m\n\u001B[1;32m-> 1796\u001B[1;33m         return super().predict_model(\n\u001B[0m\u001B[0;32m   1797\u001B[0m             \u001B[0mestimator\u001B[0m\u001B[1;33m=\u001B[0m\u001B[0mestimator\u001B[0m\u001B[1;33m,\u001B[0m\u001B[1;33m\u001B[0m\u001B[1;33m\u001B[0m\u001B[0m\n\u001B[0;32m   1798\u001B[0m             \u001B[0mdata\u001B[0m\u001B[1;33m=\u001B[0m\u001B[0mdata\u001B[0m\u001B[1;33m,\u001B[0m\u001B[1;33m\u001B[0m\u001B[1;33m\u001B[0m\u001B[0m\n",
      "\u001B[1;32m~\\Documents\\Python\\pycaret\\pycaret\\internal\\pycaret_experiment\\supervised_experiment.py\u001B[0m in \u001B[0;36mpredict_model\u001B[1;34m(self, estimator, data, probability_threshold, encoded_labels, raw_score, round, verbose, ml_usecase, display)\u001B[0m\n\u001B[0;32m   4445\u001B[0m         \u001B[1;31m# prediction starts here\u001B[0m\u001B[1;33m\u001B[0m\u001B[1;33m\u001B[0m\u001B[1;33m\u001B[0m\u001B[0m\n\u001B[0;32m   4446\u001B[0m         \u001B[0mprint\u001B[0m\u001B[1;33m(\u001B[0m\u001B[0mself\u001B[0m\u001B[1;33m.\u001B[0m\u001B[0m_internal_pipeline\u001B[0m\u001B[1;33m)\u001B[0m\u001B[1;33m\u001B[0m\u001B[1;33m\u001B[0m\u001B[0m\n\u001B[1;32m-> 4447\u001B[1;33m         \u001B[0mpred\u001B[0m \u001B[1;33m=\u001B[0m \u001B[0mnp\u001B[0m\u001B[1;33m.\u001B[0m\u001B[0mnan_to_num\u001B[0m\u001B[1;33m(\u001B[0m\u001B[0mself\u001B[0m\u001B[1;33m.\u001B[0m\u001B[0m_internal_pipeline\u001B[0m\u001B[1;33m.\u001B[0m\u001B[0mpredict\u001B[0m\u001B[1;33m(\u001B[0m\u001B[0mX_test_\u001B[0m\u001B[1;33m)\u001B[0m\u001B[1;33m)\u001B[0m\u001B[1;33m\u001B[0m\u001B[1;33m\u001B[0m\u001B[0m\n\u001B[0m\u001B[0;32m   4448\u001B[0m \u001B[1;33m\u001B[0m\u001B[0m\n\u001B[0;32m   4449\u001B[0m         \u001B[1;32mtry\u001B[0m\u001B[1;33m:\u001B[0m\u001B[1;33m\u001B[0m\u001B[1;33m\u001B[0m\u001B[0m\n",
      "\u001B[1;32m~\\Documents\\Python\\pycaret\\pycaret\\internal\\pipeline.py\u001B[0m in \u001B[0;36m__getattr__\u001B[1;34m(self, name)\u001B[0m\n\u001B[0;32m    209\u001B[0m     \u001B[1;32mdef\u001B[0m \u001B[0m__getattr__\u001B[0m\u001B[1;33m(\u001B[0m\u001B[0mself\u001B[0m\u001B[1;33m,\u001B[0m \u001B[0mname\u001B[0m\u001B[1;33m:\u001B[0m \u001B[0mstr\u001B[0m\u001B[1;33m)\u001B[0m\u001B[1;33m:\u001B[0m\u001B[1;33m\u001B[0m\u001B[1;33m\u001B[0m\u001B[0m\n\u001B[0;32m    210\u001B[0m         \u001B[1;31m# override getattr to allow grabbing of final estimator attrs\u001B[0m\u001B[1;33m\u001B[0m\u001B[1;33m\u001B[0m\u001B[1;33m\u001B[0m\u001B[0m\n\u001B[1;32m--> 211\u001B[1;33m         \u001B[1;32mreturn\u001B[0m \u001B[0mgetattr\u001B[0m\u001B[1;33m(\u001B[0m\u001B[0mself\u001B[0m\u001B[1;33m.\u001B[0m\u001B[0m_final_estimator\u001B[0m\u001B[1;33m,\u001B[0m \u001B[0mname\u001B[0m\u001B[1;33m)\u001B[0m\u001B[1;33m\u001B[0m\u001B[1;33m\u001B[0m\u001B[0m\n\u001B[0m\u001B[0;32m    212\u001B[0m \u001B[1;33m\u001B[0m\u001B[0m\n\u001B[0;32m    213\u001B[0m     \u001B[1;32mdef\u001B[0m \u001B[0m_clear_final_estimator_fit_vars\u001B[0m\u001B[1;33m(\u001B[0m\u001B[0mself\u001B[0m\u001B[1;33m,\u001B[0m \u001B[0mall\u001B[0m\u001B[1;33m:\u001B[0m \u001B[0mbool\u001B[0m \u001B[1;33m=\u001B[0m \u001B[1;32mFalse\u001B[0m\u001B[1;33m)\u001B[0m\u001B[1;33m:\u001B[0m\u001B[1;33m\u001B[0m\u001B[1;33m\u001B[0m\u001B[0m\n",
      "\u001B[1;31mAttributeError\u001B[0m: 'TransfomerWrapper' object has no attribute 'predict'"
     ]
    }
   ],
   "source": [
    "py.predict_model(best_model)"
   ],
   "metadata": {
    "collapsed": false,
    "pycharm": {
     "name": "#%%\n"
    }
   }
  },
  {
   "cell_type": "code",
   "execution_count": null,
   "outputs": [],
   "source": [],
   "metadata": {
    "collapsed": false,
    "pycharm": {
     "name": "#%%\n"
    }
   }
  }
 ],
 "metadata": {
  "kernelspec": {
   "display_name": "Python 3",
   "language": "python",
   "name": "python3"
  },
  "language_info": {
   "codemirror_mode": {
    "name": "ipython",
    "version": 3
   },
   "file_extension": ".py",
   "mimetype": "text/x-python",
   "name": "python",
   "nbconvert_exporter": "python",
   "pygments_lexer": "ipython3",
   "version": "3.8.3"
  }
 },
 "nbformat": 4,
 "nbformat_minor": 4
}