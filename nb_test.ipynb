{
 "cells": [
  {
   "cell_type": "code",
   "execution_count": 1,
   "metadata": {},
   "outputs": [],
   "source": [
    "import pandas as pd\n",
    "from pycaret.classification import *\n",
    "from sklearn.decomposition import PCA\n",
    "from sklearn.datasets import fetch_20newsgroups"
   ]
  },
  {
   "cell_type": "code",
   "execution_count": 2,
   "outputs": [
    {
     "data": {
      "text/plain": "   Id Purchase  WeekofPurchase  StoreID  PriceCH  PriceMM  DiscCH  DiscMM  \\\n0   1       CH             237        1     1.75     1.99    0.00     0.0   \n1   2       CH             239        1     1.75     1.99    0.00     0.3   \n2   3       CH             245        1     1.86     2.09    0.17     0.0   \n3   4       MM             227        1     1.69     1.69    0.00     0.0   \n4   5       CH             228        7     1.69     1.69    0.00     0.0   \n\n   SpecialCH  SpecialMM   LoyalCH  SalePriceMM  SalePriceCH  PriceDiff Store7  \\\n0          0          0  0.500000         1.99         1.75       0.24     No   \n1          0          1  0.600000         1.69         1.75      -0.06     No   \n2          0          0  0.680000         2.09         1.69       0.40     No   \n3          0          0  0.400000         1.69         1.69       0.00     No   \n4          0          0  0.956535         1.69         1.69       0.00    Yes   \n\n   PctDiscMM  PctDiscCH  ListPriceDiff  STORE  \n0   0.000000   0.000000           0.24      1  \n1   0.150754   0.000000           0.24      1  \n2   0.000000   0.091398           0.23      1  \n3   0.000000   0.000000           0.00      1  \n4   0.000000   0.000000           0.00      0  ",
      "text/html": "<div>\n<style scoped>\n    .dataframe tbody tr th:only-of-type {\n        vertical-align: middle;\n    }\n\n    .dataframe tbody tr th {\n        vertical-align: top;\n    }\n\n    .dataframe thead th {\n        text-align: right;\n    }\n</style>\n<table border=\"1\" class=\"dataframe\">\n  <thead>\n    <tr style=\"text-align: right;\">\n      <th></th>\n      <th>Id</th>\n      <th>Purchase</th>\n      <th>WeekofPurchase</th>\n      <th>StoreID</th>\n      <th>PriceCH</th>\n      <th>PriceMM</th>\n      <th>DiscCH</th>\n      <th>DiscMM</th>\n      <th>SpecialCH</th>\n      <th>SpecialMM</th>\n      <th>LoyalCH</th>\n      <th>SalePriceMM</th>\n      <th>SalePriceCH</th>\n      <th>PriceDiff</th>\n      <th>Store7</th>\n      <th>PctDiscMM</th>\n      <th>PctDiscCH</th>\n      <th>ListPriceDiff</th>\n      <th>STORE</th>\n    </tr>\n  </thead>\n  <tbody>\n    <tr>\n      <th>0</th>\n      <td>1</td>\n      <td>CH</td>\n      <td>237</td>\n      <td>1</td>\n      <td>1.75</td>\n      <td>1.99</td>\n      <td>0.00</td>\n      <td>0.0</td>\n      <td>0</td>\n      <td>0</td>\n      <td>0.500000</td>\n      <td>1.99</td>\n      <td>1.75</td>\n      <td>0.24</td>\n      <td>No</td>\n      <td>0.000000</td>\n      <td>0.000000</td>\n      <td>0.24</td>\n      <td>1</td>\n    </tr>\n    <tr>\n      <th>1</th>\n      <td>2</td>\n      <td>CH</td>\n      <td>239</td>\n      <td>1</td>\n      <td>1.75</td>\n      <td>1.99</td>\n      <td>0.00</td>\n      <td>0.3</td>\n      <td>0</td>\n      <td>1</td>\n      <td>0.600000</td>\n      <td>1.69</td>\n      <td>1.75</td>\n      <td>-0.06</td>\n      <td>No</td>\n      <td>0.150754</td>\n      <td>0.000000</td>\n      <td>0.24</td>\n      <td>1</td>\n    </tr>\n    <tr>\n      <th>2</th>\n      <td>3</td>\n      <td>CH</td>\n      <td>245</td>\n      <td>1</td>\n      <td>1.86</td>\n      <td>2.09</td>\n      <td>0.17</td>\n      <td>0.0</td>\n      <td>0</td>\n      <td>0</td>\n      <td>0.680000</td>\n      <td>2.09</td>\n      <td>1.69</td>\n      <td>0.40</td>\n      <td>No</td>\n      <td>0.000000</td>\n      <td>0.091398</td>\n      <td>0.23</td>\n      <td>1</td>\n    </tr>\n    <tr>\n      <th>3</th>\n      <td>4</td>\n      <td>MM</td>\n      <td>227</td>\n      <td>1</td>\n      <td>1.69</td>\n      <td>1.69</td>\n      <td>0.00</td>\n      <td>0.0</td>\n      <td>0</td>\n      <td>0</td>\n      <td>0.400000</td>\n      <td>1.69</td>\n      <td>1.69</td>\n      <td>0.00</td>\n      <td>No</td>\n      <td>0.000000</td>\n      <td>0.000000</td>\n      <td>0.00</td>\n      <td>1</td>\n    </tr>\n    <tr>\n      <th>4</th>\n      <td>5</td>\n      <td>CH</td>\n      <td>228</td>\n      <td>7</td>\n      <td>1.69</td>\n      <td>1.69</td>\n      <td>0.00</td>\n      <td>0.0</td>\n      <td>0</td>\n      <td>0</td>\n      <td>0.956535</td>\n      <td>1.69</td>\n      <td>1.69</td>\n      <td>0.00</td>\n      <td>Yes</td>\n      <td>0.000000</td>\n      <td>0.000000</td>\n      <td>0.00</td>\n      <td>0</td>\n    </tr>\n  </tbody>\n</table>\n</div>"
     },
     "metadata": {},
     "output_type": "display_data"
    },
    {
     "name": "stdout",
     "output_type": "stream",
     "text": [
      "(1070, 19)\n"
     ]
    }
   ],
   "source": [
    "from pycaret.datasets import get_data\n",
    "dataset = get_data('juice')\n",
    "\n",
    "print(dataset.shape)"
   ],
   "metadata": {
    "collapsed": false,
    "pycharm": {
     "name": "#%%\n"
    }
   }
  },
  {
   "cell_type": "code",
   "execution_count": 3,
   "metadata": {},
   "outputs": [
    {
     "name": "stdout",
     "output_type": "stream",
     "text": [
      "<pandas.io.formats.style.Styler object at 0x000002682DF3A730>\n"
     ]
    }
   ],
   "source": [
    "py = setup(\n",
    "    data=dataset,\n",
    "    target='STORE',\n",
    "    session_id=123,\n",
    "    experiment_name=None,\n",
    "    # text_features=[\"Purchase\"],\n",
    "    ignore_features=[\"Id\"],\n",
    "    keep_features=[\"SalePriceCH\"],\n",
    "    # preprocess=False,\n",
    "    # imputation_type='simple',\n",
    "    # numeric_iterative_imputer='lightgbm',\n",
    "    # categorical_iterative_imputer='lightgbm',\n",
    "    # max_encoding_ohe=5,\n",
    "    # normalize=True,\n",
    "    # remove_outliers=True,\n",
    "    # outliers_method=\"lof\",\n",
    "    # outliers_threshold=0.5,\n",
    "    # remove_multicollinearity=True,\n",
    "    # multicollinearity_threshold=0.8,\n",
    "    # bin_numeric_features=[\"PriceMM\"],\n",
    "    # feature_selection=True,\n",
    "    # feature_selection_method=\"boruta\",\n",
    "    # feature_selection_estimator=\"rf\",\n",
    "    # n_features_to_select=7,\n",
    "    # custom_pipeline=[(\"pca\", PCA(n_components=8))],\n",
    "    system_log=False,\n",
    ")"
   ]
  },
  {
   "cell_type": "code",
   "execution_count": 4,
   "outputs": [
    {
     "name": "stdout",
     "output_type": "stream",
     "text": [
      "Pipeline(steps=[('numerical_imputer',\n",
      "                 TransfomerWrapper(columns=['WeekofPurchase', 'StoreID', 'PriceCH', 'PriceMM', 'DiscCH', 'DiscMM', 'SpecialCH', 'SpecialMM', 'LoyalCH', 'SalePriceMM', 'SalePriceCH', 'PriceDiff', 'PctDiscMM', 'PctDiscCH', 'ListPriceDiff'], transformer=SimpleImputer(fill_value=0))),\n",
      "                ('categorical_imputer',\n",
      "                 TransfomerWrapper(columns=['Purchase', 'Store7'], transformer=SimpleImputer(fill_value='not_available', strategy='constant'))),\n",
      "                ('ordinal_encoding',\n",
      "                 TransfomerWrapper(columns=['Purchase', 'Store7'], transformer=OrdinalEncoder(handle_missing='return_nan', mapping=[{'col': 'Purchase', 'mapping': {'CH': 1, 'MM': 0}}, {'col': 'Store7', 'mapping': {'No': 1, 'Yes': 0}}])))])\n",
      "      Purchase  WeekofPurchase  StoreID  PriceCH  PriceMM  DiscCH  DiscMM  \\\n",
      "0          0.0           255.0      7.0     1.86     2.18    0.00     0.0   \n",
      "1          0.0           261.0      2.0     1.86     2.18    0.00     0.0   \n",
      "2          1.0           230.0      7.0     1.69     1.99    0.00     0.0   \n",
      "3          1.0           266.0      1.0     1.86     1.99    0.00     0.1   \n",
      "4          1.0           265.0      7.0     1.86     2.13    0.37     0.0   \n",
      "...        ...             ...      ...      ...      ...     ...     ...   \n",
      "1065       1.0           233.0      1.0     1.69     1.99    0.00     0.0   \n",
      "1066       0.0           237.0      2.0     1.75     1.99    0.00     0.0   \n",
      "1067       1.0           266.0      7.0     1.86     2.13    0.37     0.0   \n",
      "1068       1.0           238.0      3.0     1.79     2.09    0.00     0.0   \n",
      "1069       1.0           264.0      7.0     1.86     2.13    0.37     0.0   \n",
      "\n",
      "      SpecialCH  SpecialMM   LoyalCH  SalePriceMM  SalePriceCH  PriceDiff  \\\n",
      "0           0.0        0.0  0.039170         2.18         1.86       0.32   \n",
      "1           0.0        0.0  0.533760         2.18         1.86       0.32   \n",
      "2           0.0        1.0  0.680000         1.99         1.69       0.30   \n",
      "3           0.0        0.0  0.564800         1.89         1.86       0.03   \n",
      "4           1.0        0.0  0.400000         2.13         1.49       0.64   \n",
      "...         ...        ...       ...          ...          ...        ...   \n",
      "1065        0.0        0.0  0.916114         1.99         1.69       0.30   \n",
      "1066        0.0        0.0  0.086789         1.99         1.75       0.24   \n",
      "1067        1.0        0.0  0.916114         2.13         1.49       0.64   \n",
      "1068        0.0        0.0  0.719675         2.09         1.79       0.30   \n",
      "1069        1.0        0.0  0.492800         2.13         1.49       0.64   \n",
      "\n",
      "      Store7  PctDiscMM  PctDiscCH  ListPriceDiff  \n",
      "0        0.0   0.000000   0.000000           0.32  \n",
      "1        1.0   0.000000   0.000000           0.32  \n",
      "2        0.0   0.000000   0.000000           0.30  \n",
      "3        1.0   0.050251   0.000000           0.13  \n",
      "4        0.0   0.000000   0.198925           0.27  \n",
      "...      ...        ...        ...            ...  \n",
      "1065     1.0   0.000000   0.000000           0.30  \n",
      "1066     1.0   0.000000   0.000000           0.24  \n",
      "1067     0.0   0.000000   0.198925           0.27  \n",
      "1068     1.0   0.000000   0.000000           0.30  \n",
      "1069     0.0   0.000000   0.198925           0.27  \n",
      "\n",
      "[1070 rows x 17 columns]\n",
      "(1070, 17)\n"
     ]
    }
   ],
   "source": [
    "a = py._internal_pipeline\n",
    "print(a)\n",
    "a.fit(py.X, py.y)\n",
    "X, y = a.transform(py.X, py.y)\n",
    "print(X)\n",
    "print(X.shape)"
   ],
   "metadata": {
    "collapsed": false,
    "pycharm": {
     "name": "#%%\n"
    }
   }
  },
  {
   "cell_type": "code",
   "execution_count": 7,
   "metadata": {
    "pycharm": {
     "name": "#%%\n"
    }
   },
   "outputs": [
    {
     "data": {
      "text/plain": "<pandas.io.formats.style.Styler at 0x267c78b8970>",
      "text/html": "<style  type=\"text/css\" >\n    #T_d8916_ th {\n          text-align: left;\n    }#T_d8916_row0_col0,#T_d8916_row0_col3,#T_d8916_row0_col4,#T_d8916_row0_col7,#T_d8916_row1_col0,#T_d8916_row1_col1,#T_d8916_row1_col2,#T_d8916_row1_col4,#T_d8916_row1_col5,#T_d8916_row1_col6,#T_d8916_row2_col0,#T_d8916_row2_col1,#T_d8916_row2_col2,#T_d8916_row2_col5,#T_d8916_row2_col6,#T_d8916_row2_col7,#T_d8916_row3_col0,#T_d8916_row3_col1,#T_d8916_row3_col2,#T_d8916_row3_col3,#T_d8916_row3_col4,#T_d8916_row3_col5,#T_d8916_row3_col6,#T_d8916_row3_col7,#T_d8916_row4_col0,#T_d8916_row4_col1,#T_d8916_row4_col2,#T_d8916_row4_col3,#T_d8916_row4_col4,#T_d8916_row4_col5,#T_d8916_row4_col6,#T_d8916_row4_col7,#T_d8916_row5_col0,#T_d8916_row5_col1,#T_d8916_row5_col2,#T_d8916_row5_col3,#T_d8916_row5_col4,#T_d8916_row5_col5,#T_d8916_row5_col6,#T_d8916_row5_col7,#T_d8916_row6_col0,#T_d8916_row6_col1,#T_d8916_row6_col2,#T_d8916_row6_col3,#T_d8916_row6_col4,#T_d8916_row6_col5,#T_d8916_row6_col6,#T_d8916_row6_col7,#T_d8916_row7_col0,#T_d8916_row7_col1,#T_d8916_row7_col2,#T_d8916_row7_col3,#T_d8916_row7_col4,#T_d8916_row7_col5,#T_d8916_row7_col6,#T_d8916_row7_col7,#T_d8916_row8_col0,#T_d8916_row8_col1,#T_d8916_row8_col2,#T_d8916_row8_col3,#T_d8916_row8_col4,#T_d8916_row8_col5,#T_d8916_row8_col6,#T_d8916_row8_col7,#T_d8916_row9_col0,#T_d8916_row9_col1,#T_d8916_row9_col2,#T_d8916_row9_col3,#T_d8916_row9_col4,#T_d8916_row9_col5,#T_d8916_row9_col6,#T_d8916_row9_col7,#T_d8916_row10_col0,#T_d8916_row10_col1,#T_d8916_row10_col2,#T_d8916_row10_col3,#T_d8916_row10_col4,#T_d8916_row10_col5,#T_d8916_row10_col6,#T_d8916_row10_col7,#T_d8916_row11_col0,#T_d8916_row11_col1,#T_d8916_row11_col2,#T_d8916_row11_col3,#T_d8916_row11_col4,#T_d8916_row11_col5,#T_d8916_row11_col6,#T_d8916_row11_col7,#T_d8916_row12_col0,#T_d8916_row12_col1,#T_d8916_row12_col2,#T_d8916_row12_col3,#T_d8916_row12_col4,#T_d8916_row12_col5,#T_d8916_row12_col6,#T_d8916_row12_col7,#T_d8916_row13_col0,#T_d8916_row13_col1,#T_d8916_row13_col2,#T_d8916_row13_col3,#T_d8916_row13_col4,#T_d8916_row13_col5,#T_d8916_row13_col6,#T_d8916_row13_col7,#T_d8916_row14_col0,#T_d8916_row14_col1,#T_d8916_row14_col2,#T_d8916_row14_col3,#T_d8916_row14_col4,#T_d8916_row14_col5,#T_d8916_row14_col6,#T_d8916_row14_col7{\n            text-align:  left;\n            text-align:  left;\n        }#T_d8916_row0_col1,#T_d8916_row0_col2,#T_d8916_row0_col5,#T_d8916_row0_col6,#T_d8916_row1_col3,#T_d8916_row1_col7,#T_d8916_row2_col3,#T_d8916_row2_col4{\n            text-align:  left;\n            text-align:  left;\n            background-color:  yellow;\n        }#T_d8916_row0_col8,#T_d8916_row1_col8,#T_d8916_row2_col8,#T_d8916_row3_col8,#T_d8916_row4_col8,#T_d8916_row6_col8,#T_d8916_row7_col8,#T_d8916_row8_col8,#T_d8916_row10_col8,#T_d8916_row11_col8,#T_d8916_row12_col8,#T_d8916_row13_col8,#T_d8916_row14_col8{\n            text-align:  left;\n            text-align:  left;\n            background-color:  lightgrey;\n        }#T_d8916_row5_col8,#T_d8916_row9_col8{\n            text-align:  left;\n            text-align:  left;\n            background-color:  yellow;\n            background-color:  lightgrey;\n        }</style><table id=\"T_d8916_\" ><thead>    <tr>        <th class=\"blank level0\" ></th>        <th class=\"col_heading level0 col0\" >Model</th>        <th class=\"col_heading level0 col1\" >Accuracy</th>        <th class=\"col_heading level0 col2\" >AUC</th>        <th class=\"col_heading level0 col3\" >Recall</th>        <th class=\"col_heading level0 col4\" >Prec.</th>        <th class=\"col_heading level0 col5\" >F1</th>        <th class=\"col_heading level0 col6\" >Kappa</th>        <th class=\"col_heading level0 col7\" >MCC</th>        <th class=\"col_heading level0 col8\" >TT (Sec)</th>    </tr></thead><tbody>\n                <tr>\n                        <th id=\"T_d8916_level0_row0\" class=\"row_heading level0 row0\" >catboost</th>\n                        <td id=\"T_d8916_row0_col0\" class=\"data row0 col0\" >CatBoost Classifier</td>\n                        <td id=\"T_d8916_row0_col1\" class=\"data row0 col1\" >0.5235</td>\n                        <td id=\"T_d8916_row0_col2\" class=\"data row0 col2\" >0.8218</td>\n                        <td id=\"T_d8916_row0_col3\" class=\"data row0 col3\" >0.4479</td>\n                        <td id=\"T_d8916_row0_col4\" class=\"data row0 col4\" >0.4636</td>\n                        <td id=\"T_d8916_row0_col5\" class=\"data row0 col5\" >0.4691</td>\n                        <td id=\"T_d8916_row0_col6\" class=\"data row0 col6\" >0.3973</td>\n                        <td id=\"T_d8916_row0_col7\" class=\"data row0 col7\" >0.4372</td>\n                        <td id=\"T_d8916_row0_col8\" class=\"data row0 col8\" >0.6040</td>\n            </tr>\n            <tr>\n                        <th id=\"T_d8916_level0_row1\" class=\"row_heading level0 row1\" >xgboost</th>\n                        <td id=\"T_d8916_row1_col0\" class=\"data row1 col0\" >Extreme Gradient Boosting</td>\n                        <td id=\"T_d8916_row1_col1\" class=\"data row1 col1\" >0.5221</td>\n                        <td id=\"T_d8916_row1_col2\" class=\"data row1 col2\" >0.8109</td>\n                        <td id=\"T_d8916_row1_col3\" class=\"data row1 col3\" >0.4501</td>\n                        <td id=\"T_d8916_row1_col4\" class=\"data row1 col4\" >0.4697</td>\n                        <td id=\"T_d8916_row1_col5\" class=\"data row1 col5\" >0.4632</td>\n                        <td id=\"T_d8916_row1_col6\" class=\"data row1 col6\" >0.3970</td>\n                        <td id=\"T_d8916_row1_col7\" class=\"data row1 col7\" >0.4395</td>\n                        <td id=\"T_d8916_row1_col8\" class=\"data row1 col8\" >0.1250</td>\n            </tr>\n            <tr>\n                        <th id=\"T_d8916_level0_row2\" class=\"row_heading level0 row2\" >lightgbm</th>\n                        <td id=\"T_d8916_row2_col0\" class=\"data row2 col0\" >Light Gradient Boosting Machine</td>\n                        <td id=\"T_d8916_row2_col1\" class=\"data row2 col1\" >0.5221</td>\n                        <td id=\"T_d8916_row2_col2\" class=\"data row2 col2\" >0.8163</td>\n                        <td id=\"T_d8916_row2_col3\" class=\"data row2 col3\" >0.4501</td>\n                        <td id=\"T_d8916_row2_col4\" class=\"data row2 col4\" >0.4698</td>\n                        <td id=\"T_d8916_row2_col5\" class=\"data row2 col5\" >0.4634</td>\n                        <td id=\"T_d8916_row2_col6\" class=\"data row2 col6\" >0.3968</td>\n                        <td id=\"T_d8916_row2_col7\" class=\"data row2 col7\" >0.4390</td>\n                        <td id=\"T_d8916_row2_col8\" class=\"data row2 col8\" >0.1030</td>\n            </tr>\n            <tr>\n                        <th id=\"T_d8916_level0_row3\" class=\"row_heading level0 row3\" >lr</th>\n                        <td id=\"T_d8916_row3_col0\" class=\"data row3 col0\" >Logistic Regression</td>\n                        <td id=\"T_d8916_row3_col1\" class=\"data row3 col1\" >0.0000</td>\n                        <td id=\"T_d8916_row3_col2\" class=\"data row3 col2\" >0.0000</td>\n                        <td id=\"T_d8916_row3_col3\" class=\"data row3 col3\" >0.0000</td>\n                        <td id=\"T_d8916_row3_col4\" class=\"data row3 col4\" >0.0000</td>\n                        <td id=\"T_d8916_row3_col5\" class=\"data row3 col5\" >0.0000</td>\n                        <td id=\"T_d8916_row3_col6\" class=\"data row3 col6\" >0.0000</td>\n                        <td id=\"T_d8916_row3_col7\" class=\"data row3 col7\" >0.0000</td>\n                        <td id=\"T_d8916_row3_col8\" class=\"data row3 col8\" >0.0080</td>\n            </tr>\n            <tr>\n                        <th id=\"T_d8916_level0_row4\" class=\"row_heading level0 row4\" >knn</th>\n                        <td id=\"T_d8916_row4_col0\" class=\"data row4 col0\" >K Neighbors Classifier</td>\n                        <td id=\"T_d8916_row4_col1\" class=\"data row4 col1\" >0.0000</td>\n                        <td id=\"T_d8916_row4_col2\" class=\"data row4 col2\" >0.0000</td>\n                        <td id=\"T_d8916_row4_col3\" class=\"data row4 col3\" >0.0000</td>\n                        <td id=\"T_d8916_row4_col4\" class=\"data row4 col4\" >0.0000</td>\n                        <td id=\"T_d8916_row4_col5\" class=\"data row4 col5\" >0.0000</td>\n                        <td id=\"T_d8916_row4_col6\" class=\"data row4 col6\" >0.0000</td>\n                        <td id=\"T_d8916_row4_col7\" class=\"data row4 col7\" >0.0000</td>\n                        <td id=\"T_d8916_row4_col8\" class=\"data row4 col8\" >0.0090</td>\n            </tr>\n            <tr>\n                        <th id=\"T_d8916_level0_row5\" class=\"row_heading level0 row5\" >nb</th>\n                        <td id=\"T_d8916_row5_col0\" class=\"data row5 col0\" >Naive Bayes</td>\n                        <td id=\"T_d8916_row5_col1\" class=\"data row5 col1\" >0.0000</td>\n                        <td id=\"T_d8916_row5_col2\" class=\"data row5 col2\" >0.0000</td>\n                        <td id=\"T_d8916_row5_col3\" class=\"data row5 col3\" >0.0000</td>\n                        <td id=\"T_d8916_row5_col4\" class=\"data row5 col4\" >0.0000</td>\n                        <td id=\"T_d8916_row5_col5\" class=\"data row5 col5\" >0.0000</td>\n                        <td id=\"T_d8916_row5_col6\" class=\"data row5 col6\" >0.0000</td>\n                        <td id=\"T_d8916_row5_col7\" class=\"data row5 col7\" >0.0000</td>\n                        <td id=\"T_d8916_row5_col8\" class=\"data row5 col8\" >0.0070</td>\n            </tr>\n            <tr>\n                        <th id=\"T_d8916_level0_row6\" class=\"row_heading level0 row6\" >dt</th>\n                        <td id=\"T_d8916_row6_col0\" class=\"data row6 col0\" >Decision Tree Classifier</td>\n                        <td id=\"T_d8916_row6_col1\" class=\"data row6 col1\" >0.0000</td>\n                        <td id=\"T_d8916_row6_col2\" class=\"data row6 col2\" >0.0000</td>\n                        <td id=\"T_d8916_row6_col3\" class=\"data row6 col3\" >0.0000</td>\n                        <td id=\"T_d8916_row6_col4\" class=\"data row6 col4\" >0.0000</td>\n                        <td id=\"T_d8916_row6_col5\" class=\"data row6 col5\" >0.0000</td>\n                        <td id=\"T_d8916_row6_col6\" class=\"data row6 col6\" >0.0000</td>\n                        <td id=\"T_d8916_row6_col7\" class=\"data row6 col7\" >0.0000</td>\n                        <td id=\"T_d8916_row6_col8\" class=\"data row6 col8\" >0.0090</td>\n            </tr>\n            <tr>\n                        <th id=\"T_d8916_level0_row7\" class=\"row_heading level0 row7\" >svm</th>\n                        <td id=\"T_d8916_row7_col0\" class=\"data row7 col0\" >SVM - Linear Kernel</td>\n                        <td id=\"T_d8916_row7_col1\" class=\"data row7 col1\" >0.0000</td>\n                        <td id=\"T_d8916_row7_col2\" class=\"data row7 col2\" >0.0000</td>\n                        <td id=\"T_d8916_row7_col3\" class=\"data row7 col3\" >0.0000</td>\n                        <td id=\"T_d8916_row7_col4\" class=\"data row7 col4\" >0.0000</td>\n                        <td id=\"T_d8916_row7_col5\" class=\"data row7 col5\" >0.0000</td>\n                        <td id=\"T_d8916_row7_col6\" class=\"data row7 col6\" >0.0000</td>\n                        <td id=\"T_d8916_row7_col7\" class=\"data row7 col7\" >0.0000</td>\n                        <td id=\"T_d8916_row7_col8\" class=\"data row7 col8\" >0.0090</td>\n            </tr>\n            <tr>\n                        <th id=\"T_d8916_level0_row8\" class=\"row_heading level0 row8\" >ridge</th>\n                        <td id=\"T_d8916_row8_col0\" class=\"data row8 col0\" >Ridge Classifier</td>\n                        <td id=\"T_d8916_row8_col1\" class=\"data row8 col1\" >0.0000</td>\n                        <td id=\"T_d8916_row8_col2\" class=\"data row8 col2\" >0.0000</td>\n                        <td id=\"T_d8916_row8_col3\" class=\"data row8 col3\" >0.0000</td>\n                        <td id=\"T_d8916_row8_col4\" class=\"data row8 col4\" >0.0000</td>\n                        <td id=\"T_d8916_row8_col5\" class=\"data row8 col5\" >0.0000</td>\n                        <td id=\"T_d8916_row8_col6\" class=\"data row8 col6\" >0.0000</td>\n                        <td id=\"T_d8916_row8_col7\" class=\"data row8 col7\" >0.0000</td>\n                        <td id=\"T_d8916_row8_col8\" class=\"data row8 col8\" >0.0090</td>\n            </tr>\n            <tr>\n                        <th id=\"T_d8916_level0_row9\" class=\"row_heading level0 row9\" >rf</th>\n                        <td id=\"T_d8916_row9_col0\" class=\"data row9 col0\" >Random Forest Classifier</td>\n                        <td id=\"T_d8916_row9_col1\" class=\"data row9 col1\" >0.0000</td>\n                        <td id=\"T_d8916_row9_col2\" class=\"data row9 col2\" >0.0000</td>\n                        <td id=\"T_d8916_row9_col3\" class=\"data row9 col3\" >0.0000</td>\n                        <td id=\"T_d8916_row9_col4\" class=\"data row9 col4\" >0.0000</td>\n                        <td id=\"T_d8916_row9_col5\" class=\"data row9 col5\" >0.0000</td>\n                        <td id=\"T_d8916_row9_col6\" class=\"data row9 col6\" >0.0000</td>\n                        <td id=\"T_d8916_row9_col7\" class=\"data row9 col7\" >0.0000</td>\n                        <td id=\"T_d8916_row9_col8\" class=\"data row9 col8\" >0.0070</td>\n            </tr>\n            <tr>\n                        <th id=\"T_d8916_level0_row10\" class=\"row_heading level0 row10\" >qda</th>\n                        <td id=\"T_d8916_row10_col0\" class=\"data row10 col0\" >Quadratic Discriminant Analysis</td>\n                        <td id=\"T_d8916_row10_col1\" class=\"data row10 col1\" >0.0000</td>\n                        <td id=\"T_d8916_row10_col2\" class=\"data row10 col2\" >0.0000</td>\n                        <td id=\"T_d8916_row10_col3\" class=\"data row10 col3\" >0.0000</td>\n                        <td id=\"T_d8916_row10_col4\" class=\"data row10 col4\" >0.0000</td>\n                        <td id=\"T_d8916_row10_col5\" class=\"data row10 col5\" >0.0000</td>\n                        <td id=\"T_d8916_row10_col6\" class=\"data row10 col6\" >0.0000</td>\n                        <td id=\"T_d8916_row10_col7\" class=\"data row10 col7\" >0.0000</td>\n                        <td id=\"T_d8916_row10_col8\" class=\"data row10 col8\" >0.0090</td>\n            </tr>\n            <tr>\n                        <th id=\"T_d8916_level0_row11\" class=\"row_heading level0 row11\" >ada</th>\n                        <td id=\"T_d8916_row11_col0\" class=\"data row11 col0\" >Ada Boost Classifier</td>\n                        <td id=\"T_d8916_row11_col1\" class=\"data row11 col1\" >0.0000</td>\n                        <td id=\"T_d8916_row11_col2\" class=\"data row11 col2\" >0.0000</td>\n                        <td id=\"T_d8916_row11_col3\" class=\"data row11 col3\" >0.0000</td>\n                        <td id=\"T_d8916_row11_col4\" class=\"data row11 col4\" >0.0000</td>\n                        <td id=\"T_d8916_row11_col5\" class=\"data row11 col5\" >0.0000</td>\n                        <td id=\"T_d8916_row11_col6\" class=\"data row11 col6\" >0.0000</td>\n                        <td id=\"T_d8916_row11_col7\" class=\"data row11 col7\" >0.0000</td>\n                        <td id=\"T_d8916_row11_col8\" class=\"data row11 col8\" >0.0080</td>\n            </tr>\n            <tr>\n                        <th id=\"T_d8916_level0_row12\" class=\"row_heading level0 row12\" >gbc</th>\n                        <td id=\"T_d8916_row12_col0\" class=\"data row12 col0\" >Gradient Boosting Classifier</td>\n                        <td id=\"T_d8916_row12_col1\" class=\"data row12 col1\" >0.0000</td>\n                        <td id=\"T_d8916_row12_col2\" class=\"data row12 col2\" >0.0000</td>\n                        <td id=\"T_d8916_row12_col3\" class=\"data row12 col3\" >0.0000</td>\n                        <td id=\"T_d8916_row12_col4\" class=\"data row12 col4\" >0.0000</td>\n                        <td id=\"T_d8916_row12_col5\" class=\"data row12 col5\" >0.0000</td>\n                        <td id=\"T_d8916_row12_col6\" class=\"data row12 col6\" >0.0000</td>\n                        <td id=\"T_d8916_row12_col7\" class=\"data row12 col7\" >0.0000</td>\n                        <td id=\"T_d8916_row12_col8\" class=\"data row12 col8\" >0.0080</td>\n            </tr>\n            <tr>\n                        <th id=\"T_d8916_level0_row13\" class=\"row_heading level0 row13\" >lda</th>\n                        <td id=\"T_d8916_row13_col0\" class=\"data row13 col0\" >Linear Discriminant Analysis</td>\n                        <td id=\"T_d8916_row13_col1\" class=\"data row13 col1\" >0.0000</td>\n                        <td id=\"T_d8916_row13_col2\" class=\"data row13 col2\" >0.0000</td>\n                        <td id=\"T_d8916_row13_col3\" class=\"data row13 col3\" >0.0000</td>\n                        <td id=\"T_d8916_row13_col4\" class=\"data row13 col4\" >0.0000</td>\n                        <td id=\"T_d8916_row13_col5\" class=\"data row13 col5\" >0.0000</td>\n                        <td id=\"T_d8916_row13_col6\" class=\"data row13 col6\" >0.0000</td>\n                        <td id=\"T_d8916_row13_col7\" class=\"data row13 col7\" >0.0000</td>\n                        <td id=\"T_d8916_row13_col8\" class=\"data row13 col8\" >0.0090</td>\n            </tr>\n            <tr>\n                        <th id=\"T_d8916_level0_row14\" class=\"row_heading level0 row14\" >et</th>\n                        <td id=\"T_d8916_row14_col0\" class=\"data row14 col0\" >Extra Trees Classifier</td>\n                        <td id=\"T_d8916_row14_col1\" class=\"data row14 col1\" >0.0000</td>\n                        <td id=\"T_d8916_row14_col2\" class=\"data row14 col2\" >0.0000</td>\n                        <td id=\"T_d8916_row14_col3\" class=\"data row14 col3\" >0.0000</td>\n                        <td id=\"T_d8916_row14_col4\" class=\"data row14 col4\" >0.0000</td>\n                        <td id=\"T_d8916_row14_col5\" class=\"data row14 col5\" >0.0000</td>\n                        <td id=\"T_d8916_row14_col6\" class=\"data row14 col6\" >0.0000</td>\n                        <td id=\"T_d8916_row14_col7\" class=\"data row14 col7\" >0.0000</td>\n                        <td id=\"T_d8916_row14_col8\" class=\"data row14 col8\" >0.0090</td>\n            </tr>\n    </tbody></table>"
     },
     "metadata": {},
     "output_type": "display_data"
    }
   ],
   "source": [
    "best_model = compare_models()"
   ]
  },
  {
   "cell_type": "code",
   "execution_count": 8,
   "outputs": [
    {
     "data": {
      "text/plain": "<catboost.core.CatBoostClassifier at 0x2682ee7e460>"
     },
     "execution_count": 8,
     "metadata": {},
     "output_type": "execute_result"
    }
   ],
   "source": [
    "best_model"
   ],
   "metadata": {
    "collapsed": false,
    "pycharm": {
     "name": "#%%\n"
    }
   }
  },
  {
   "cell_type": "code",
   "execution_count": null,
   "outputs": [],
   "source": [],
   "metadata": {
    "collapsed": false,
    "pycharm": {
     "name": "#%%\n"
    }
   }
  }
 ],
 "metadata": {
  "kernelspec": {
   "display_name": "Python 3",
   "language": "python",
   "name": "python3"
  },
  "language_info": {
   "codemirror_mode": {
    "name": "ipython",
    "version": 3
   },
   "file_extension": ".py",
   "mimetype": "text/x-python",
   "name": "python",
   "nbconvert_exporter": "python",
   "pygments_lexer": "ipython3",
   "version": "3.8.3"
  }
 },
 "nbformat": 4,
 "nbformat_minor": 4
}