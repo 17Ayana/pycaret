{
 "cells": [
  {
   "cell_type": "code",
   "execution_count": 1,
   "metadata": {},
   "outputs": [],
   "source": [
    "import pandas as pd\n",
    "from pycaret.classification import *\n",
    "from sklearn.decomposition import PCA\n",
    "from sklearn.datasets import fetch_20newsgroups"
   ]
  },
  {
   "cell_type": "code",
   "execution_count": 2,
   "outputs": [
    {
     "data": {
      "text/plain": "   Id Purchase  WeekofPurchase  StoreID  PriceCH  PriceMM  DiscCH  DiscMM  \\\n0   1       CH             237        1     1.75     1.99    0.00     0.0   \n1   2       CH             239        1     1.75     1.99    0.00     0.3   \n2   3       CH             245        1     1.86     2.09    0.17     0.0   \n3   4       MM             227        1     1.69     1.69    0.00     0.0   \n4   5       CH             228        7     1.69     1.69    0.00     0.0   \n\n   SpecialCH  SpecialMM   LoyalCH  SalePriceMM  SalePriceCH  PriceDiff Store7  \\\n0          0          0  0.500000         1.99         1.75       0.24     No   \n1          0          1  0.600000         1.69         1.75      -0.06     No   \n2          0          0  0.680000         2.09         1.69       0.40     No   \n3          0          0  0.400000         1.69         1.69       0.00     No   \n4          0          0  0.956535         1.69         1.69       0.00    Yes   \n\n   PctDiscMM  PctDiscCH  ListPriceDiff  STORE  \n0   0.000000   0.000000           0.24      1  \n1   0.150754   0.000000           0.24      1  \n2   0.000000   0.091398           0.23      1  \n3   0.000000   0.000000           0.00      1  \n4   0.000000   0.000000           0.00      0  ",
      "text/html": "<div>\n<style scoped>\n    .dataframe tbody tr th:only-of-type {\n        vertical-align: middle;\n    }\n\n    .dataframe tbody tr th {\n        vertical-align: top;\n    }\n\n    .dataframe thead th {\n        text-align: right;\n    }\n</style>\n<table border=\"1\" class=\"dataframe\">\n  <thead>\n    <tr style=\"text-align: right;\">\n      <th></th>\n      <th>Id</th>\n      <th>Purchase</th>\n      <th>WeekofPurchase</th>\n      <th>StoreID</th>\n      <th>PriceCH</th>\n      <th>PriceMM</th>\n      <th>DiscCH</th>\n      <th>DiscMM</th>\n      <th>SpecialCH</th>\n      <th>SpecialMM</th>\n      <th>LoyalCH</th>\n      <th>SalePriceMM</th>\n      <th>SalePriceCH</th>\n      <th>PriceDiff</th>\n      <th>Store7</th>\n      <th>PctDiscMM</th>\n      <th>PctDiscCH</th>\n      <th>ListPriceDiff</th>\n      <th>STORE</th>\n    </tr>\n  </thead>\n  <tbody>\n    <tr>\n      <th>0</th>\n      <td>1</td>\n      <td>CH</td>\n      <td>237</td>\n      <td>1</td>\n      <td>1.75</td>\n      <td>1.99</td>\n      <td>0.00</td>\n      <td>0.0</td>\n      <td>0</td>\n      <td>0</td>\n      <td>0.500000</td>\n      <td>1.99</td>\n      <td>1.75</td>\n      <td>0.24</td>\n      <td>No</td>\n      <td>0.000000</td>\n      <td>0.000000</td>\n      <td>0.24</td>\n      <td>1</td>\n    </tr>\n    <tr>\n      <th>1</th>\n      <td>2</td>\n      <td>CH</td>\n      <td>239</td>\n      <td>1</td>\n      <td>1.75</td>\n      <td>1.99</td>\n      <td>0.00</td>\n      <td>0.3</td>\n      <td>0</td>\n      <td>1</td>\n      <td>0.600000</td>\n      <td>1.69</td>\n      <td>1.75</td>\n      <td>-0.06</td>\n      <td>No</td>\n      <td>0.150754</td>\n      <td>0.000000</td>\n      <td>0.24</td>\n      <td>1</td>\n    </tr>\n    <tr>\n      <th>2</th>\n      <td>3</td>\n      <td>CH</td>\n      <td>245</td>\n      <td>1</td>\n      <td>1.86</td>\n      <td>2.09</td>\n      <td>0.17</td>\n      <td>0.0</td>\n      <td>0</td>\n      <td>0</td>\n      <td>0.680000</td>\n      <td>2.09</td>\n      <td>1.69</td>\n      <td>0.40</td>\n      <td>No</td>\n      <td>0.000000</td>\n      <td>0.091398</td>\n      <td>0.23</td>\n      <td>1</td>\n    </tr>\n    <tr>\n      <th>3</th>\n      <td>4</td>\n      <td>MM</td>\n      <td>227</td>\n      <td>1</td>\n      <td>1.69</td>\n      <td>1.69</td>\n      <td>0.00</td>\n      <td>0.0</td>\n      <td>0</td>\n      <td>0</td>\n      <td>0.400000</td>\n      <td>1.69</td>\n      <td>1.69</td>\n      <td>0.00</td>\n      <td>No</td>\n      <td>0.000000</td>\n      <td>0.000000</td>\n      <td>0.00</td>\n      <td>1</td>\n    </tr>\n    <tr>\n      <th>4</th>\n      <td>5</td>\n      <td>CH</td>\n      <td>228</td>\n      <td>7</td>\n      <td>1.69</td>\n      <td>1.69</td>\n      <td>0.00</td>\n      <td>0.0</td>\n      <td>0</td>\n      <td>0</td>\n      <td>0.956535</td>\n      <td>1.69</td>\n      <td>1.69</td>\n      <td>0.00</td>\n      <td>Yes</td>\n      <td>0.000000</td>\n      <td>0.000000</td>\n      <td>0.00</td>\n      <td>0</td>\n    </tr>\n  </tbody>\n</table>\n</div>"
     },
     "metadata": {},
     "output_type": "display_data"
    },
    {
     "name": "stdout",
     "output_type": "stream",
     "text": [
      "(1070, 19)\n"
     ]
    }
   ],
   "source": [
    "from pycaret.datasets import get_data\n",
    "dataset = get_data('juice')\n",
    "\n",
    "print(dataset.shape)"
   ],
   "metadata": {
    "collapsed": false,
    "pycharm": {
     "name": "#%%\n"
    }
   }
  },
  {
   "cell_type": "code",
   "execution_count": 3,
   "metadata": {},
   "outputs": [
    {
     "name": "stdout",
     "output_type": "stream",
     "text": [
      "<pandas.io.formats.style.Styler object at 0x00000189AE171BE0>\n"
     ]
    }
   ],
   "source": [
    "py = setup(\n",
    "    data=dataset,\n",
    "    target='STORE',\n",
    "    session_id=123,\n",
    "    experiment_name=None,\n",
    "    # text_features=[\"Purchase\"],\n",
    "    # ignore_features=[\"Id\"],\n",
    "    # keep_features=[\"SalePriceCH\"],\n",
    "    # preprocess=False,\n",
    "    # imputation_type='simple',\n",
    "    # numeric_iterative_imputer='lightgbm',\n",
    "    # categorical_iterative_imputer='lightgbm',\n",
    "    # max_encoding_ohe=5,\n",
    "    normalize=True,\n",
    "    # remove_outliers=True,\n",
    "    # outliers_method=\"lof\",\n",
    "    # outliers_threshold=0.5,\n",
    "    # remove_multicollinearity=True,\n",
    "    # multicollinearity_threshold=0.8,\n",
    "    # bin_numeric_features=[\"PriceMM\"],\n",
    "    # feature_selection=True,\n",
    "    # feature_selection_method=\"classic\",\n",
    "    # feature_selection_estimator=\"rf\",\n",
    "    # n_features_to_select=7,\n",
    "    # custom_pipeline=[(\"pca\", PCA(n_components=5))],\n",
    "    system_log=False,\n",
    ")"
   ]
  },
  {
   "cell_type": "code",
   "execution_count": 4,
   "outputs": [
    {
     "name": "stdout",
     "output_type": "stream",
     "text": [
      "Pipeline(steps=[('ordinal_encoding',\n",
      "                 TransfomerWrapper(include=['Purchase', 'Store7'], transformer=OrdinalEncoder(handle_missing='return_nan', mapping=[{'col': 'Purchase', 'mapping': {nan: -1, 'CH': 1, 'MM': 0}}, {'col': 'Store7', 'mapping': {nan: -1, 'No': 1, 'Yes': 0}}]))),\n",
      "                ('normalize', TransfomerWrapper(transformer=StandardScaler()))])\n",
      "            Id  Purchase  WeekofPurchase   StoreID   PriceCH   PriceMM  \\\n",
      "0    -0.636165 -1.251378        0.039785  1.317293 -0.072806  0.704191   \n",
      "1    -0.859551 -1.251378        0.425612 -0.849174 -0.072806  0.704191   \n",
      "2    -1.490859  0.799119       -1.567828  1.317293 -1.740746 -0.710313   \n",
      "3    -0.671777  0.799119        0.747134 -1.282468 -0.072806 -0.710313   \n",
      "4     0.412779  0.799119        0.682830  1.317293 -0.072806  0.331953   \n",
      "...        ...       ...             ...       ...       ...       ...   \n",
      "1065 -1.228623  0.799119       -1.374914 -1.282468 -1.740746 -0.710313   \n",
      "1066  1.306323 -1.251378       -1.117696 -0.849174 -1.152062 -0.710313   \n",
      "1067  0.895163  0.799119        0.747134  1.317293 -0.072806  0.331953   \n",
      "1068 -0.966388  0.799119       -1.053392 -0.415881 -0.759606  0.034162   \n",
      "1069  1.452010  0.799119        0.618525  1.317293 -0.072806  0.331953   \n",
      "\n",
      "        DiscCH    DiscMM  SpecialCH  SpecialMM   LoyalCH  SalePriceMM  \\\n",
      "0    -0.441664 -0.577188  -0.416228  -0.439164 -1.711455     0.862911   \n",
      "1    -0.441664 -0.577188  -0.416228  -0.439164 -0.104070     0.862911   \n",
      "2    -0.441664 -0.577188  -0.416228   2.277053  0.371200     0.110671   \n",
      "3    -0.441664 -0.109316  -0.416228  -0.439164 -0.003192    -0.285244   \n",
      "4     2.709437 -0.577188   2.402530  -0.439164 -0.538781     0.664953   \n",
      "...        ...       ...        ...        ...       ...          ...   \n",
      "1065 -0.441664 -0.577188  -0.416228  -0.439164  1.138554     0.110671   \n",
      "1066 -0.441664 -0.577188  -0.416228  -0.439164 -1.556696     0.110671   \n",
      "1067  2.709437 -0.577188   2.402530  -0.439164  1.138554     0.664953   \n",
      "1068 -0.441664 -0.577188  -0.416228  -0.439164  0.500141     0.506586   \n",
      "1069  2.709437 -0.577188   2.402530  -0.439164 -0.237188     0.664953   \n",
      "\n",
      "      SalePriceCH  PriceDiff    Store7  PctDiscMM  PctDiscCH  ListPriceDiff  \n",
      "0        0.310078   0.639245 -1.416198  -0.583001  -0.439106       0.949055  \n",
      "1        0.310078   0.639245  0.706116  -0.583001  -0.439106       0.949055  \n",
      "2       -0.876107   0.565563 -1.416198  -0.583001  -0.439106       0.762983  \n",
      "3        0.310078  -0.429148  0.706116  -0.088951  -0.439106      -0.818631  \n",
      "4       -2.271620   1.818161 -1.416198  -0.583001   2.758875       0.483875  \n",
      "...           ...        ...       ...        ...        ...            ...  \n",
      "1065    -0.876107   0.565563  0.706116  -0.583001  -0.439106       0.762983  \n",
      "1066    -0.457454   0.344516  0.706116  -0.583001  -0.439106       0.204766  \n",
      "1067    -2.271620   1.818161 -1.416198  -0.583001   2.758875       0.483875  \n",
      "1068    -0.178352   0.565563  0.706116  -0.583001  -0.439106       0.762983  \n",
      "1069    -2.271620   1.818161 -1.416198  -0.583001   2.758875       0.483875  \n",
      "\n",
      "[1070 rows x 18 columns]\n",
      "(1070, 18)\n"
     ]
    }
   ],
   "source": [
    "a = py._internal_pipeline\n",
    "print(a)\n",
    "a.fit(py.X, py.y)\n",
    "X, y = a.transform(py.X, py.y)\n",
    "print(X)\n",
    "print(X.shape)"
   ],
   "metadata": {
    "collapsed": false,
    "pycharm": {
     "name": "#%%\n"
    }
   }
  },
  {
   "cell_type": "code",
   "execution_count": 5,
   "metadata": {
    "pycharm": {
     "name": "#%%\n"
    }
   },
   "outputs": [
    {
     "data": {
      "text/plain": "<pandas.io.formats.style.Styler at 0x189ae4a7b20>",
      "text/html": "<style type=\"text/css\">\n#T_b9722_row10_col0, #T_b9722_row10_col1, #T_b9722_row10_col2, #T_b9722_row10_col3, #T_b9722_row10_col4, #T_b9722_row10_col5, #T_b9722_row10_col6 {\n  background: yellow;\n}\n</style>\n<table id=\"T_b9722_\">\n  <thead>\n    <tr>\n      <th class=\"blank level0\" >&nbsp;</th>\n      <th class=\"col_heading level0 col0\" >Accuracy</th>\n      <th class=\"col_heading level0 col1\" >AUC</th>\n      <th class=\"col_heading level0 col2\" >Recall</th>\n      <th class=\"col_heading level0 col3\" >Prec.</th>\n      <th class=\"col_heading level0 col4\" >F1</th>\n      <th class=\"col_heading level0 col5\" >Kappa</th>\n      <th class=\"col_heading level0 col6\" >MCC</th>\n    </tr>\n  </thead>\n  <tbody>\n    <tr>\n      <th id=\"T_b9722_level0_row0\" class=\"row_heading level0 row0\" >0</th>\n      <td id=\"T_b9722_row0_col0\" class=\"data row0 col0\" >0.9333</td>\n      <td id=\"T_b9722_row0_col1\" class=\"data row0 col1\" >0.9968</td>\n      <td id=\"T_b9722_row0_col2\" class=\"data row0 col2\" >0.9225</td>\n      <td id=\"T_b9722_row0_col3\" class=\"data row0 col3\" >0.9387</td>\n      <td id=\"T_b9722_row0_col4\" class=\"data row0 col4\" >0.9346</td>\n      <td id=\"T_b9722_row0_col5\" class=\"data row0 col5\" >0.9135</td>\n      <td id=\"T_b9722_row0_col6\" class=\"data row0 col6\" >0.9141</td>\n    </tr>\n    <tr>\n      <th id=\"T_b9722_level0_row1\" class=\"row_heading level0 row1\" >1</th>\n      <td id=\"T_b9722_row1_col0\" class=\"data row1 col0\" >0.9867</td>\n      <td id=\"T_b9722_row1_col1\" class=\"data row1 col1\" >1.0000</td>\n      <td id=\"T_b9722_row1_col2\" class=\"data row1 col2\" >0.9857</td>\n      <td id=\"T_b9722_row1_col3\" class=\"data row1 col3\" >0.9875</td>\n      <td id=\"T_b9722_row1_col4\" class=\"data row1 col4\" >0.9866</td>\n      <td id=\"T_b9722_row1_col5\" class=\"data row1 col5\" >0.9827</td>\n      <td id=\"T_b9722_row1_col6\" class=\"data row1 col6\" >0.9829</td>\n    </tr>\n    <tr>\n      <th id=\"T_b9722_level0_row2\" class=\"row_heading level0 row2\" >2</th>\n      <td id=\"T_b9722_row2_col0\" class=\"data row2 col0\" >0.9467</td>\n      <td id=\"T_b9722_row2_col1\" class=\"data row2 col1\" >0.9940</td>\n      <td id=\"T_b9722_row2_col2\" class=\"data row2 col2\" >0.9279</td>\n      <td id=\"T_b9722_row2_col3\" class=\"data row2 col3\" >0.9517</td>\n      <td id=\"T_b9722_row2_col4\" class=\"data row2 col4\" >0.9468</td>\n      <td id=\"T_b9722_row2_col5\" class=\"data row2 col5\" >0.9305</td>\n      <td id=\"T_b9722_row2_col6\" class=\"data row2 col6\" >0.9314</td>\n    </tr>\n    <tr>\n      <th id=\"T_b9722_level0_row3\" class=\"row_heading level0 row3\" >3</th>\n      <td id=\"T_b9722_row3_col0\" class=\"data row3 col0\" >0.9067</td>\n      <td id=\"T_b9722_row3_col1\" class=\"data row3 col1\" >0.9930</td>\n      <td id=\"T_b9722_row3_col2\" class=\"data row3 col2\" >0.9038</td>\n      <td id=\"T_b9722_row3_col3\" class=\"data row3 col3\" >0.9202</td>\n      <td id=\"T_b9722_row3_col4\" class=\"data row3 col4\" >0.9070</td>\n      <td id=\"T_b9722_row3_col5\" class=\"data row3 col5\" >0.8792</td>\n      <td id=\"T_b9722_row3_col6\" class=\"data row3 col6\" >0.8818</td>\n    </tr>\n    <tr>\n      <th id=\"T_b9722_level0_row4\" class=\"row_heading level0 row4\" >4</th>\n      <td id=\"T_b9722_row4_col0\" class=\"data row4 col0\" >0.9467</td>\n      <td id=\"T_b9722_row4_col1\" class=\"data row4 col1\" >0.9963</td>\n      <td id=\"T_b9722_row4_col2\" class=\"data row4 col2\" >0.9368</td>\n      <td id=\"T_b9722_row4_col3\" class=\"data row4 col3\" >0.9517</td>\n      <td id=\"T_b9722_row4_col4\" class=\"data row4 col4\" >0.9475</td>\n      <td id=\"T_b9722_row4_col5\" class=\"data row4 col5\" >0.9307</td>\n      <td id=\"T_b9722_row4_col6\" class=\"data row4 col6\" >0.9315</td>\n    </tr>\n    <tr>\n      <th id=\"T_b9722_level0_row5\" class=\"row_heading level0 row5\" >5</th>\n      <td id=\"T_b9722_row5_col0\" class=\"data row5 col0\" >0.9600</td>\n      <td id=\"T_b9722_row5_col1\" class=\"data row5 col1\" >0.9989</td>\n      <td id=\"T_b9722_row5_col2\" class=\"data row5 col2\" >0.9514</td>\n      <td id=\"T_b9722_row5_col3\" class=\"data row5 col3\" >0.9598</td>\n      <td id=\"T_b9722_row5_col4\" class=\"data row5 col4\" >0.9595</td>\n      <td id=\"T_b9722_row5_col5\" class=\"data row5 col5\" >0.9480</td>\n      <td id=\"T_b9722_row5_col6\" class=\"data row5 col6\" >0.9482</td>\n    </tr>\n    <tr>\n      <th id=\"T_b9722_level0_row6\" class=\"row_heading level0 row6\" >6</th>\n      <td id=\"T_b9722_row6_col0\" class=\"data row6 col0\" >0.9733</td>\n      <td id=\"T_b9722_row6_col1\" class=\"data row6 col1\" >0.9961</td>\n      <td id=\"T_b9722_row6_col2\" class=\"data row6 col2\" >0.9714</td>\n      <td id=\"T_b9722_row6_col3\" class=\"data row6 col3\" >0.9778</td>\n      <td id=\"T_b9722_row6_col4\" class=\"data row6 col4\" >0.9735</td>\n      <td id=\"T_b9722_row6_col5\" class=\"data row6 col5\" >0.9654</td>\n      <td id=\"T_b9722_row6_col6\" class=\"data row6 col6\" >0.9663</td>\n    </tr>\n    <tr>\n      <th id=\"T_b9722_level0_row7\" class=\"row_heading level0 row7\" >7</th>\n      <td id=\"T_b9722_row7_col0\" class=\"data row7 col0\" >0.8933</td>\n      <td id=\"T_b9722_row7_col1\" class=\"data row7 col1\" >0.9906</td>\n      <td id=\"T_b9722_row7_col2\" class=\"data row7 col2\" >0.8743</td>\n      <td id=\"T_b9722_row7_col3\" class=\"data row7 col3\" >0.8945</td>\n      <td id=\"T_b9722_row7_col4\" class=\"data row7 col4\" >0.8934</td>\n      <td id=\"T_b9722_row7_col5\" class=\"data row7 col5\" >0.8615</td>\n      <td id=\"T_b9722_row7_col6\" class=\"data row7 col6\" >0.8617</td>\n    </tr>\n    <tr>\n      <th id=\"T_b9722_level0_row8\" class=\"row_heading level0 row8\" >8</th>\n      <td id=\"T_b9722_row8_col0\" class=\"data row8 col0\" >0.9865</td>\n      <td id=\"T_b9722_row8_col1\" class=\"data row8 col1\" >0.9993</td>\n      <td id=\"T_b9722_row8_col2\" class=\"data row8 col2\" >0.9857</td>\n      <td id=\"T_b9722_row8_col3\" class=\"data row8 col3\" >0.9873</td>\n      <td id=\"T_b9722_row8_col4\" class=\"data row8 col4\" >0.9865</td>\n      <td id=\"T_b9722_row8_col5\" class=\"data row8 col5\" >0.9825</td>\n      <td id=\"T_b9722_row8_col6\" class=\"data row8 col6\" >0.9827</td>\n    </tr>\n    <tr>\n      <th id=\"T_b9722_level0_row9\" class=\"row_heading level0 row9\" >9</th>\n      <td id=\"T_b9722_row9_col0\" class=\"data row9 col0\" >0.9324</td>\n      <td id=\"T_b9722_row9_col1\" class=\"data row9 col1\" >0.9905</td>\n      <td id=\"T_b9722_row9_col2\" class=\"data row9 col2\" >0.9314</td>\n      <td id=\"T_b9722_row9_col3\" class=\"data row9 col3\" >0.9344</td>\n      <td id=\"T_b9722_row9_col4\" class=\"data row9 col4\" >0.9320</td>\n      <td id=\"T_b9722_row9_col5\" class=\"data row9 col5\" >0.9126</td>\n      <td id=\"T_b9722_row9_col6\" class=\"data row9 col6\" >0.9133</td>\n    </tr>\n    <tr>\n      <th id=\"T_b9722_level0_row10\" class=\"row_heading level0 row10\" >Mean</th>\n      <td id=\"T_b9722_row10_col0\" class=\"data row10 col0\" >0.9466</td>\n      <td id=\"T_b9722_row10_col1\" class=\"data row10 col1\" >0.9956</td>\n      <td id=\"T_b9722_row10_col2\" class=\"data row10 col2\" >0.9391</td>\n      <td id=\"T_b9722_row10_col3\" class=\"data row10 col3\" >0.9504</td>\n      <td id=\"T_b9722_row10_col4\" class=\"data row10 col4\" >0.9467</td>\n      <td id=\"T_b9722_row10_col5\" class=\"data row10 col5\" >0.9306</td>\n      <td id=\"T_b9722_row10_col6\" class=\"data row10 col6\" >0.9314</td>\n    </tr>\n    <tr>\n      <th id=\"T_b9722_level0_row11\" class=\"row_heading level0 row11\" >SD</th>\n      <td id=\"T_b9722_row11_col0\" class=\"data row11 col0\" >0.0298</td>\n      <td id=\"T_b9722_row11_col1\" class=\"data row11 col1\" >0.0033</td>\n      <td id=\"T_b9722_row11_col2\" class=\"data row11 col2\" >0.0338</td>\n      <td id=\"T_b9722_row11_col3\" class=\"data row11 col3\" >0.0283</td>\n      <td id=\"T_b9722_row11_col4\" class=\"data row11 col4\" >0.0297</td>\n      <td id=\"T_b9722_row11_col5\" class=\"data row11 col5\" >0.0387</td>\n      <td id=\"T_b9722_row11_col6\" class=\"data row11 col6\" >0.0384</td>\n    </tr>\n  </tbody>\n</table>\n"
     },
     "metadata": {},
     "output_type": "display_data"
    }
   ],
   "source": [
    "best_model = create_model(\"lr\")"
   ]
  },
  {
   "cell_type": "code",
   "execution_count": 6,
   "outputs": [
    {
     "data": {
      "text/plain": "LogisticRegression(max_iter=1000, random_state=123)"
     },
     "execution_count": 6,
     "metadata": {},
     "output_type": "execute_result"
    }
   ],
   "source": [
    "best_model"
   ],
   "metadata": {
    "collapsed": false,
    "pycharm": {
     "name": "#%%\n"
    }
   }
  },
  {
   "cell_type": "code",
   "execution_count": 7,
   "outputs": [
    {
     "ename": "KeyError",
     "evalue": "'dtypes'",
     "output_type": "error",
     "traceback": [
      "\u001B[1;31m---------------------------------------------------------------------------\u001B[0m",
      "\u001B[1;31mKeyError\u001B[0m                                  Traceback (most recent call last)",
      "\u001B[1;32m<ipython-input-7-2739d780fc17>\u001B[0m in \u001B[0;36m<module>\u001B[1;34m\u001B[0m\n\u001B[1;32m----> 1\u001B[1;33m \u001B[0mpy\u001B[0m\u001B[1;33m.\u001B[0m\u001B[0mpredict_model\u001B[0m\u001B[1;33m(\u001B[0m\u001B[0mbest_model\u001B[0m\u001B[1;33m)\u001B[0m\u001B[1;33m\u001B[0m\u001B[1;33m\u001B[0m\u001B[0m\n\u001B[0m\u001B[0;32m      2\u001B[0m \u001B[1;33m\u001B[0m\u001B[0m\n",
      "\u001B[1;32m~\\Documents\\Python\\pycaret\\pycaret\\internal\\pycaret_experiment\\classification_experiment.py\u001B[0m in \u001B[0;36mpredict_model\u001B[1;34m(self, estimator, data, probability_threshold, encoded_labels, raw_score, round, verbose)\u001B[0m\n\u001B[0;32m   1821\u001B[0m         \"\"\"\n\u001B[0;32m   1822\u001B[0m \u001B[1;33m\u001B[0m\u001B[0m\n\u001B[1;32m-> 1823\u001B[1;33m         return super().predict_model(\n\u001B[0m\u001B[0;32m   1824\u001B[0m             \u001B[0mestimator\u001B[0m\u001B[1;33m=\u001B[0m\u001B[0mestimator\u001B[0m\u001B[1;33m,\u001B[0m\u001B[1;33m\u001B[0m\u001B[1;33m\u001B[0m\u001B[0m\n\u001B[0;32m   1825\u001B[0m             \u001B[0mdata\u001B[0m\u001B[1;33m=\u001B[0m\u001B[0mdata\u001B[0m\u001B[1;33m,\u001B[0m\u001B[1;33m\u001B[0m\u001B[1;33m\u001B[0m\u001B[0m\n",
      "\u001B[1;32m~\\Documents\\Python\\pycaret\\pycaret\\internal\\pycaret_experiment\\supervised_experiment.py\u001B[0m in \u001B[0;36mpredict_model\u001B[1;34m(self, estimator, data, probability_threshold, encoded_labels, raw_score, round, verbose, ml_usecase, display)\u001B[0m\n\u001B[0;32m   4617\u001B[0m             \u001B[0my_test_\u001B[0m \u001B[1;33m=\u001B[0m \u001B[0mself\u001B[0m\u001B[1;33m.\u001B[0m\u001B[0my_test\u001B[0m\u001B[1;33m.\u001B[0m\u001B[0mcopy\u001B[0m\u001B[1;33m(\u001B[0m\u001B[1;33m)\u001B[0m\u001B[1;33m\u001B[0m\u001B[1;33m\u001B[0m\u001B[0m\n\u001B[0;32m   4618\u001B[0m \u001B[1;33m\u001B[0m\u001B[0m\n\u001B[1;32m-> 4619\u001B[1;33m             \u001B[0mdtypes\u001B[0m \u001B[1;33m=\u001B[0m \u001B[0mself\u001B[0m\u001B[1;33m.\u001B[0m\u001B[0m_internal_pipeline\u001B[0m\u001B[1;33m.\u001B[0m\u001B[0mnamed_steps\u001B[0m\u001B[1;33m[\u001B[0m\u001B[1;34m\"dtypes\"\u001B[0m\u001B[1;33m]\u001B[0m\u001B[1;33m\u001B[0m\u001B[1;33m\u001B[0m\u001B[0m\n\u001B[0m\u001B[0;32m   4620\u001B[0m \u001B[1;33m\u001B[0m\u001B[0m\n\u001B[0;32m   4621\u001B[0m             \u001B[0mX_test_\u001B[0m\u001B[1;33m.\u001B[0m\u001B[0mreset_index\u001B[0m\u001B[1;33m(\u001B[0m\u001B[0mdrop\u001B[0m\u001B[1;33m=\u001B[0m\u001B[1;32mTrue\u001B[0m\u001B[1;33m,\u001B[0m \u001B[0minplace\u001B[0m\u001B[1;33m=\u001B[0m\u001B[1;32mTrue\u001B[0m\u001B[1;33m)\u001B[0m\u001B[1;33m\u001B[0m\u001B[1;33m\u001B[0m\u001B[0m\n",
      "\u001B[1;31mKeyError\u001B[0m: 'dtypes'"
     ]
    }
   ],
   "source": [
    "py.predict_model(best_model)"
   ],
   "metadata": {
    "collapsed": false,
    "pycharm": {
     "name": "#%%\n"
    }
   }
  },
  {
   "cell_type": "code",
   "execution_count": null,
   "outputs": [],
   "source": [],
   "metadata": {
    "collapsed": false,
    "pycharm": {
     "name": "#%%\n"
    }
   }
  }
 ],
 "metadata": {
  "kernelspec": {
   "display_name": "Python 3",
   "language": "python",
   "name": "python3"
  },
  "language_info": {
   "codemirror_mode": {
    "name": "ipython",
    "version": 3
   },
   "file_extension": ".py",
   "mimetype": "text/x-python",
   "name": "python",
   "nbconvert_exporter": "python",
   "pygments_lexer": "ipython3",
   "version": "3.8.3"
  }
 },
 "nbformat": 4,
 "nbformat_minor": 4
}