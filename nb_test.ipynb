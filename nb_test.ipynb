{
 "cells": [
  {
   "cell_type": "code",
   "execution_count": 1,
   "metadata": {},
   "outputs": [],
   "source": [
    "from pycaret.classification import *\n",
    "from sklearn.decomposition import PCA\n",
    "from sklearn.datasets import fetch_20newsgroups"
   ]
  },
  {
   "cell_type": "code",
   "execution_count": 2,
   "outputs": [
    {
     "data": {
      "text/plain": "   Id Purchase  WeekofPurchase  StoreID  PriceCH  PriceMM  DiscCH  DiscMM  \\\n0   1       CH             237        1     1.75     1.99    0.00     0.0   \n1   2       CH             239        1     1.75     1.99    0.00     0.3   \n2   3       CH             245        1     1.86     2.09    0.17     0.0   \n3   4       MM             227        1     1.69     1.69    0.00     0.0   \n4   5       CH             228        7     1.69     1.69    0.00     0.0   \n\n   SpecialCH  SpecialMM   LoyalCH  SalePriceMM  SalePriceCH  PriceDiff Store7  \\\n0          0          0  0.500000         1.99         1.75       0.24     No   \n1          0          1  0.600000         1.69         1.75      -0.06     No   \n2          0          0  0.680000         2.09         1.69       0.40     No   \n3          0          0  0.400000         1.69         1.69       0.00     No   \n4          0          0  0.956535         1.69         1.69       0.00    Yes   \n\n   PctDiscMM  PctDiscCH  ListPriceDiff  STORE  \n0   0.000000   0.000000           0.24      1  \n1   0.150754   0.000000           0.24      1  \n2   0.000000   0.091398           0.23      1  \n3   0.000000   0.000000           0.00      1  \n4   0.000000   0.000000           0.00      0  ",
      "text/html": "<div>\n<style scoped>\n    .dataframe tbody tr th:only-of-type {\n        vertical-align: middle;\n    }\n\n    .dataframe tbody tr th {\n        vertical-align: top;\n    }\n\n    .dataframe thead th {\n        text-align: right;\n    }\n</style>\n<table border=\"1\" class=\"dataframe\">\n  <thead>\n    <tr style=\"text-align: right;\">\n      <th></th>\n      <th>Id</th>\n      <th>Purchase</th>\n      <th>WeekofPurchase</th>\n      <th>StoreID</th>\n      <th>PriceCH</th>\n      <th>PriceMM</th>\n      <th>DiscCH</th>\n      <th>DiscMM</th>\n      <th>SpecialCH</th>\n      <th>SpecialMM</th>\n      <th>LoyalCH</th>\n      <th>SalePriceMM</th>\n      <th>SalePriceCH</th>\n      <th>PriceDiff</th>\n      <th>Store7</th>\n      <th>PctDiscMM</th>\n      <th>PctDiscCH</th>\n      <th>ListPriceDiff</th>\n      <th>STORE</th>\n    </tr>\n  </thead>\n  <tbody>\n    <tr>\n      <th>0</th>\n      <td>1</td>\n      <td>CH</td>\n      <td>237</td>\n      <td>1</td>\n      <td>1.75</td>\n      <td>1.99</td>\n      <td>0.00</td>\n      <td>0.0</td>\n      <td>0</td>\n      <td>0</td>\n      <td>0.500000</td>\n      <td>1.99</td>\n      <td>1.75</td>\n      <td>0.24</td>\n      <td>No</td>\n      <td>0.000000</td>\n      <td>0.000000</td>\n      <td>0.24</td>\n      <td>1</td>\n    </tr>\n    <tr>\n      <th>1</th>\n      <td>2</td>\n      <td>CH</td>\n      <td>239</td>\n      <td>1</td>\n      <td>1.75</td>\n      <td>1.99</td>\n      <td>0.00</td>\n      <td>0.3</td>\n      <td>0</td>\n      <td>1</td>\n      <td>0.600000</td>\n      <td>1.69</td>\n      <td>1.75</td>\n      <td>-0.06</td>\n      <td>No</td>\n      <td>0.150754</td>\n      <td>0.000000</td>\n      <td>0.24</td>\n      <td>1</td>\n    </tr>\n    <tr>\n      <th>2</th>\n      <td>3</td>\n      <td>CH</td>\n      <td>245</td>\n      <td>1</td>\n      <td>1.86</td>\n      <td>2.09</td>\n      <td>0.17</td>\n      <td>0.0</td>\n      <td>0</td>\n      <td>0</td>\n      <td>0.680000</td>\n      <td>2.09</td>\n      <td>1.69</td>\n      <td>0.40</td>\n      <td>No</td>\n      <td>0.000000</td>\n      <td>0.091398</td>\n      <td>0.23</td>\n      <td>1</td>\n    </tr>\n    <tr>\n      <th>3</th>\n      <td>4</td>\n      <td>MM</td>\n      <td>227</td>\n      <td>1</td>\n      <td>1.69</td>\n      <td>1.69</td>\n      <td>0.00</td>\n      <td>0.0</td>\n      <td>0</td>\n      <td>0</td>\n      <td>0.400000</td>\n      <td>1.69</td>\n      <td>1.69</td>\n      <td>0.00</td>\n      <td>No</td>\n      <td>0.000000</td>\n      <td>0.000000</td>\n      <td>0.00</td>\n      <td>1</td>\n    </tr>\n    <tr>\n      <th>4</th>\n      <td>5</td>\n      <td>CH</td>\n      <td>228</td>\n      <td>7</td>\n      <td>1.69</td>\n      <td>1.69</td>\n      <td>0.00</td>\n      <td>0.0</td>\n      <td>0</td>\n      <td>0</td>\n      <td>0.956535</td>\n      <td>1.69</td>\n      <td>1.69</td>\n      <td>0.00</td>\n      <td>Yes</td>\n      <td>0.000000</td>\n      <td>0.000000</td>\n      <td>0.00</td>\n      <td>0</td>\n    </tr>\n  </tbody>\n</table>\n</div>"
     },
     "metadata": {},
     "output_type": "display_data"
    },
    {
     "name": "stdout",
     "output_type": "stream",
     "text": [
      "(1070, 19)\n"
     ]
    }
   ],
   "source": [
    "from pycaret.datasets import get_data\n",
    "dataset = get_data('juice')\n",
    "\n",
    "print(dataset.shape)"
   ],
   "metadata": {
    "collapsed": false,
    "pycharm": {
     "name": "#%%\n"
    }
   }
  },
  {
   "cell_type": "code",
   "execution_count": 3,
   "metadata": {},
   "outputs": [
    {
     "data": {
      "text/plain": "<pandas.io.formats.style.Styler at 0x19bde6c5670>",
      "text/html": "<style type=\"text/css\">\n#T_f26a3_row12_col1, #T_f26a3_row18_col1, #T_f26a3_row20_col1, #T_f26a3_row22_col1, #T_f26a3_row24_col1, #T_f26a3_row28_col1 {\n  background-color: lightgreen;\n}\n</style>\n<table id=\"T_f26a3\">\n  <thead>\n    <tr>\n      <th class=\"blank level0\" >&nbsp;</th>\n      <th id=\"T_f26a3_level0_col0\" class=\"col_heading level0 col0\" >Description</th>\n      <th id=\"T_f26a3_level0_col1\" class=\"col_heading level0 col1\" >Value</th>\n    </tr>\n  </thead>\n  <tbody>\n    <tr>\n      <th id=\"T_f26a3_level0_row0\" class=\"row_heading level0 row0\" >0</th>\n      <td id=\"T_f26a3_row0_col0\" class=\"data row0 col0\" >Session id</td>\n      <td id=\"T_f26a3_row0_col1\" class=\"data row0 col1\" >123</td>\n    </tr>\n    <tr>\n      <th id=\"T_f26a3_level0_row1\" class=\"row_heading level0 row1\" >1</th>\n      <td id=\"T_f26a3_row1_col0\" class=\"data row1 col0\" >Target</td>\n      <td id=\"T_f26a3_row1_col1\" class=\"data row1 col1\" >Purchase</td>\n    </tr>\n    <tr>\n      <th id=\"T_f26a3_level0_row2\" class=\"row_heading level0 row2\" >2</th>\n      <td id=\"T_f26a3_row2_col0\" class=\"data row2 col0\" >Target type</td>\n      <td id=\"T_f26a3_row2_col1\" class=\"data row2 col1\" >classification</td>\n    </tr>\n    <tr>\n      <th id=\"T_f26a3_level0_row3\" class=\"row_heading level0 row3\" >3</th>\n      <td id=\"T_f26a3_row3_col0\" class=\"data row3 col0\" >Target mapping</td>\n      <td id=\"T_f26a3_row3_col1\" class=\"data row3 col1\" >CH: 0, MM: 1</td>\n    </tr>\n    <tr>\n      <th id=\"T_f26a3_level0_row4\" class=\"row_heading level0 row4\" >4</th>\n      <td id=\"T_f26a3_row4_col0\" class=\"data row4 col0\" >Data shape</td>\n      <td id=\"T_f26a3_row4_col1\" class=\"data row4 col1\" >(1070, 18)</td>\n    </tr>\n    <tr>\n      <th id=\"T_f26a3_level0_row5\" class=\"row_heading level0 row5\" >5</th>\n      <td id=\"T_f26a3_row5_col0\" class=\"data row5 col0\" >Train data shape</td>\n      <td id=\"T_f26a3_row5_col1\" class=\"data row5 col1\" >(748, 18)</td>\n    </tr>\n    <tr>\n      <th id=\"T_f26a3_level0_row6\" class=\"row_heading level0 row6\" >6</th>\n      <td id=\"T_f26a3_row6_col0\" class=\"data row6 col0\" >Test data shape</td>\n      <td id=\"T_f26a3_row6_col1\" class=\"data row6 col1\" >(322, 18)</td>\n    </tr>\n    <tr>\n      <th id=\"T_f26a3_level0_row7\" class=\"row_heading level0 row7\" >7</th>\n      <td id=\"T_f26a3_row7_col0\" class=\"data row7 col0\" >Ignore features</td>\n      <td id=\"T_f26a3_row7_col1\" class=\"data row7 col1\" >1</td>\n    </tr>\n    <tr>\n      <th id=\"T_f26a3_level0_row8\" class=\"row_heading level0 row8\" >8</th>\n      <td id=\"T_f26a3_row8_col0\" class=\"data row8 col0\" >Ordinal features</td>\n      <td id=\"T_f26a3_row8_col1\" class=\"data row8 col1\" >1</td>\n    </tr>\n    <tr>\n      <th id=\"T_f26a3_level0_row9\" class=\"row_heading level0 row9\" >9</th>\n      <td id=\"T_f26a3_row9_col0\" class=\"data row9 col0\" >Numeric features</td>\n      <td id=\"T_f26a3_row9_col1\" class=\"data row9 col1\" >16</td>\n    </tr>\n    <tr>\n      <th id=\"T_f26a3_level0_row10\" class=\"row_heading level0 row10\" >10</th>\n      <td id=\"T_f26a3_row10_col0\" class=\"data row10 col0\" >Categorical features</td>\n      <td id=\"T_f26a3_row10_col1\" class=\"data row10 col1\" >1</td>\n    </tr>\n    <tr>\n      <th id=\"T_f26a3_level0_row11\" class=\"row_heading level0 row11\" >11</th>\n      <td id=\"T_f26a3_row11_col0\" class=\"data row11 col0\" >Keep features</td>\n      <td id=\"T_f26a3_row11_col1\" class=\"data row11 col1\" >1</td>\n    </tr>\n    <tr>\n      <th id=\"T_f26a3_level0_row12\" class=\"row_heading level0 row12\" >12</th>\n      <td id=\"T_f26a3_row12_col0\" class=\"data row12 col0\" >Preprocess</td>\n      <td id=\"T_f26a3_row12_col1\" class=\"data row12 col1\" >1</td>\n    </tr>\n    <tr>\n      <th id=\"T_f26a3_level0_row13\" class=\"row_heading level0 row13\" >13</th>\n      <td id=\"T_f26a3_row13_col0\" class=\"data row13 col0\" >Imputation type</td>\n      <td id=\"T_f26a3_row13_col1\" class=\"data row13 col1\" >simple</td>\n    </tr>\n    <tr>\n      <th id=\"T_f26a3_level0_row14\" class=\"row_heading level0 row14\" >14</th>\n      <td id=\"T_f26a3_row14_col0\" class=\"data row14 col0\" >Numeric imputation</td>\n      <td id=\"T_f26a3_row14_col1\" class=\"data row14 col1\" >mean</td>\n    </tr>\n    <tr>\n      <th id=\"T_f26a3_level0_row15\" class=\"row_heading level0 row15\" >15</th>\n      <td id=\"T_f26a3_row15_col0\" class=\"data row15 col0\" >Categorical imputation</td>\n      <td id=\"T_f26a3_row15_col1\" class=\"data row15 col1\" >constant</td>\n    </tr>\n    <tr>\n      <th id=\"T_f26a3_level0_row16\" class=\"row_heading level0 row16\" >16</th>\n      <td id=\"T_f26a3_row16_col0\" class=\"data row16 col0\" >Maximum one-hot encoding</td>\n      <td id=\"T_f26a3_row16_col1\" class=\"data row16 col1\" >5</td>\n    </tr>\n    <tr>\n      <th id=\"T_f26a3_level0_row17\" class=\"row_heading level0 row17\" >17</th>\n      <td id=\"T_f26a3_row17_col0\" class=\"data row17 col0\" >Encoding method</td>\n      <td id=\"T_f26a3_row17_col1\" class=\"data row17 col1\" >None</td>\n    </tr>\n    <tr>\n      <th id=\"T_f26a3_level0_row18\" class=\"row_heading level0 row18\" >18</th>\n      <td id=\"T_f26a3_row18_col0\" class=\"data row18 col0\" >Remove multicollinearity</td>\n      <td id=\"T_f26a3_row18_col1\" class=\"data row18 col1\" >1</td>\n    </tr>\n    <tr>\n      <th id=\"T_f26a3_level0_row19\" class=\"row_heading level0 row19\" >19</th>\n      <td id=\"T_f26a3_row19_col0\" class=\"data row19 col0\" >Multicollinearity threshold</td>\n      <td id=\"T_f26a3_row19_col1\" class=\"data row19 col1\" >0.800000</td>\n    </tr>\n    <tr>\n      <th id=\"T_f26a3_level0_row20\" class=\"row_heading level0 row20\" >20</th>\n      <td id=\"T_f26a3_row20_col0\" class=\"data row20 col0\" >Remove outliers</td>\n      <td id=\"T_f26a3_row20_col1\" class=\"data row20 col1\" >1</td>\n    </tr>\n    <tr>\n      <th id=\"T_f26a3_level0_row21\" class=\"row_heading level0 row21\" >21</th>\n      <td id=\"T_f26a3_row21_col0\" class=\"data row21 col0\" >Outliers threshold</td>\n      <td id=\"T_f26a3_row21_col1\" class=\"data row21 col1\" >0.500000</td>\n    </tr>\n    <tr>\n      <th id=\"T_f26a3_level0_row22\" class=\"row_heading level0 row22\" >22</th>\n      <td id=\"T_f26a3_row22_col0\" class=\"data row22 col0\" >Normalize</td>\n      <td id=\"T_f26a3_row22_col1\" class=\"data row22 col1\" >1</td>\n    </tr>\n    <tr>\n      <th id=\"T_f26a3_level0_row23\" class=\"row_heading level0 row23\" >23</th>\n      <td id=\"T_f26a3_row23_col0\" class=\"data row23 col0\" >Normalize method</td>\n      <td id=\"T_f26a3_row23_col1\" class=\"data row23 col1\" >zscore</td>\n    </tr>\n    <tr>\n      <th id=\"T_f26a3_level0_row24\" class=\"row_heading level0 row24\" >24</th>\n      <td id=\"T_f26a3_row24_col0\" class=\"data row24 col0\" >Feature selection</td>\n      <td id=\"T_f26a3_row24_col1\" class=\"data row24 col1\" >1</td>\n    </tr>\n    <tr>\n      <th id=\"T_f26a3_level0_row25\" class=\"row_heading level0 row25\" >25</th>\n      <td id=\"T_f26a3_row25_col0\" class=\"data row25 col0\" >Feature selection method</td>\n      <td id=\"T_f26a3_row25_col1\" class=\"data row25 col1\" >classic</td>\n    </tr>\n    <tr>\n      <th id=\"T_f26a3_level0_row26\" class=\"row_heading level0 row26\" >26</th>\n      <td id=\"T_f26a3_row26_col0\" class=\"data row26 col0\" >Feature selection estimator</td>\n      <td id=\"T_f26a3_row26_col1\" class=\"data row26 col1\" >rf</td>\n    </tr>\n    <tr>\n      <th id=\"T_f26a3_level0_row27\" class=\"row_heading level0 row27\" >27</th>\n      <td id=\"T_f26a3_row27_col0\" class=\"data row27 col0\" >Number of features selected</td>\n      <td id=\"T_f26a3_row27_col1\" class=\"data row27 col1\" >7</td>\n    </tr>\n    <tr>\n      <th id=\"T_f26a3_level0_row28\" class=\"row_heading level0 row28\" >28</th>\n      <td id=\"T_f26a3_row28_col0\" class=\"data row28 col0\" >Custom pipeline</td>\n      <td id=\"T_f26a3_row28_col1\" class=\"data row28 col1\" >Yes</td>\n    </tr>\n    <tr>\n      <th id=\"T_f26a3_level0_row29\" class=\"row_heading level0 row29\" >29</th>\n      <td id=\"T_f26a3_row29_col0\" class=\"data row29 col0\" >Fold Generator</td>\n      <td id=\"T_f26a3_row29_col1\" class=\"data row29 col1\" >StratifiedKFold</td>\n    </tr>\n    <tr>\n      <th id=\"T_f26a3_level0_row30\" class=\"row_heading level0 row30\" >30</th>\n      <td id=\"T_f26a3_row30_col0\" class=\"data row30 col0\" >Fold Number</td>\n      <td id=\"T_f26a3_row30_col1\" class=\"data row30 col1\" >10</td>\n    </tr>\n    <tr>\n      <th id=\"T_f26a3_level0_row31\" class=\"row_heading level0 row31\" >31</th>\n      <td id=\"T_f26a3_row31_col0\" class=\"data row31 col0\" >CPU Jobs</td>\n      <td id=\"T_f26a3_row31_col1\" class=\"data row31 col1\" >-1</td>\n    </tr>\n    <tr>\n      <th id=\"T_f26a3_level0_row32\" class=\"row_heading level0 row32\" >32</th>\n      <td id=\"T_f26a3_row32_col0\" class=\"data row32 col0\" >Log Experiment</td>\n      <td id=\"T_f26a3_row32_col1\" class=\"data row32 col1\" >0</td>\n    </tr>\n    <tr>\n      <th id=\"T_f26a3_level0_row33\" class=\"row_heading level0 row33\" >33</th>\n      <td id=\"T_f26a3_row33_col0\" class=\"data row33 col0\" >Experiment Name</td>\n      <td id=\"T_f26a3_row33_col1\" class=\"data row33 col1\" >clf-default-name</td>\n    </tr>\n    <tr>\n      <th id=\"T_f26a3_level0_row34\" class=\"row_heading level0 row34\" >34</th>\n      <td id=\"T_f26a3_row34_col0\" class=\"data row34 col0\" >USI</td>\n      <td id=\"T_f26a3_row34_col1\" class=\"data row34 col1\" >4257</td>\n    </tr>\n  </tbody>\n</table>\n"
     },
     "metadata": {},
     "output_type": "display_data"
    }
   ],
   "source": [
    "py = setup(\n",
    "    data=dataset,\n",
    "    target='Purchase',\n",
    "    session_id=123,\n",
    "    experiment_name=None,\n",
    "    text_features=None,\n",
    "    ignore_features=[\"Id\"],\n",
    "    keep_features=[\"SalePriceCH\"],\n",
    "    preprocess=True,\n",
    "    imputation_type='simple',\n",
    "    numeric_iterative_imputer='lightgbm',\n",
    "    categorical_iterative_imputer='lightgbm',\n",
    "    max_encoding_ohe=5,\n",
    "    remove_multicollinearity=True,\n",
    "    multicollinearity_threshold=0.8,\n",
    "    bin_numeric_features=[\"PriceMM\"],\n",
    "    remove_outliers=True,\n",
    "    outliers_method=\"lof\",\n",
    "    outliers_threshold=0.5,\n",
    "    normalize=True,\n",
    "    feature_selection=True,\n",
    "    feature_selection_method=\"classic\",\n",
    "    feature_selection_estimator=\"rf\",\n",
    "    n_features_to_select=7,\n",
    "    custom_pipeline=[(\"pca\", PCA(n_components=5))],\n",
    "    data_split_stratify=[\"SalePriceCH\", \"Purchase\"],\n",
    "    system_log=False,\n",
    "    memory=False,\n",
    ")"
   ]
  },
  {
   "cell_type": "code",
   "execution_count": 4,
   "outputs": [
    {
     "data": {
      "text/plain": "<pandas.io.formats.style.Styler at 0x19bde60aee0>",
      "text/html": "<style type=\"text/css\">\n#T_d09a6_row10_col0, #T_d09a6_row10_col1, #T_d09a6_row10_col2, #T_d09a6_row10_col3, #T_d09a6_row10_col4, #T_d09a6_row10_col5, #T_d09a6_row10_col6 {\n  background: yellow;\n}\n</style>\n<table id=\"T_d09a6\">\n  <thead>\n    <tr>\n      <th class=\"blank level0\" >&nbsp;</th>\n      <th id=\"T_d09a6_level0_col0\" class=\"col_heading level0 col0\" >Accuracy</th>\n      <th id=\"T_d09a6_level0_col1\" class=\"col_heading level0 col1\" >AUC</th>\n      <th id=\"T_d09a6_level0_col2\" class=\"col_heading level0 col2\" >Recall</th>\n      <th id=\"T_d09a6_level0_col3\" class=\"col_heading level0 col3\" >Prec.</th>\n      <th id=\"T_d09a6_level0_col4\" class=\"col_heading level0 col4\" >F1</th>\n      <th id=\"T_d09a6_level0_col5\" class=\"col_heading level0 col5\" >Kappa</th>\n      <th id=\"T_d09a6_level0_col6\" class=\"col_heading level0 col6\" >MCC</th>\n    </tr>\n  </thead>\n  <tbody>\n    <tr>\n      <th id=\"T_d09a6_level0_row0\" class=\"row_heading level0 row0\" >0</th>\n      <td id=\"T_d09a6_row0_col0\" class=\"data row0 col0\" >0.8400</td>\n      <td id=\"T_d09a6_row0_col1\" class=\"data row0 col1\" >0.9348</td>\n      <td id=\"T_d09a6_row0_col2\" class=\"data row0 col2\" >0.7000</td>\n      <td id=\"T_d09a6_row0_col3\" class=\"data row0 col3\" >0.8750</td>\n      <td id=\"T_d09a6_row0_col4\" class=\"data row0 col4\" >0.7778</td>\n      <td id=\"T_d09a6_row0_col5\" class=\"data row0 col5\" >0.6552</td>\n      <td id=\"T_d09a6_row0_col6\" class=\"data row0 col6\" >0.6651</td>\n    </tr>\n    <tr>\n      <th id=\"T_d09a6_level0_row1\" class=\"row_heading level0 row1\" >1</th>\n      <td id=\"T_d09a6_row1_col0\" class=\"data row1 col0\" >0.8667</td>\n      <td id=\"T_d09a6_row1_col1\" class=\"data row1 col1\" >0.9033</td>\n      <td id=\"T_d09a6_row1_col2\" class=\"data row1 col2\" >0.7931</td>\n      <td id=\"T_d09a6_row1_col3\" class=\"data row1 col3\" >0.8519</td>\n      <td id=\"T_d09a6_row1_col4\" class=\"data row1 col4\" >0.8214</td>\n      <td id=\"T_d09a6_row1_col5\" class=\"data row1 col5\" >0.7153</td>\n      <td id=\"T_d09a6_row1_col6\" class=\"data row1 col6\" >0.7164</td>\n    </tr>\n    <tr>\n      <th id=\"T_d09a6_level0_row2\" class=\"row_heading level0 row2\" >2</th>\n      <td id=\"T_d09a6_row2_col0\" class=\"data row2 col0\" >0.8267</td>\n      <td id=\"T_d09a6_row2_col1\" class=\"data row2 col1\" >0.9348</td>\n      <td id=\"T_d09a6_row2_col2\" class=\"data row2 col2\" >0.7241</td>\n      <td id=\"T_d09a6_row2_col3\" class=\"data row2 col3\" >0.8077</td>\n      <td id=\"T_d09a6_row2_col4\" class=\"data row2 col4\" >0.7636</td>\n      <td id=\"T_d09a6_row2_col5\" class=\"data row2 col5\" >0.6274</td>\n      <td id=\"T_d09a6_row2_col6\" class=\"data row2 col6\" >0.6298</td>\n    </tr>\n    <tr>\n      <th id=\"T_d09a6_level0_row3\" class=\"row_heading level0 row3\" >3</th>\n      <td id=\"T_d09a6_row3_col0\" class=\"data row3 col0\" >0.8667</td>\n      <td id=\"T_d09a6_row3_col1\" class=\"data row3 col1\" >0.9168</td>\n      <td id=\"T_d09a6_row3_col2\" class=\"data row3 col2\" >0.8621</td>\n      <td id=\"T_d09a6_row3_col3\" class=\"data row3 col3\" >0.8065</td>\n      <td id=\"T_d09a6_row3_col4\" class=\"data row3 col4\" >0.8333</td>\n      <td id=\"T_d09a6_row3_col5\" class=\"data row3 col5\" >0.7224</td>\n      <td id=\"T_d09a6_row3_col6\" class=\"data row3 col6\" >0.7235</td>\n    </tr>\n    <tr>\n      <th id=\"T_d09a6_level0_row4\" class=\"row_heading level0 row4\" >4</th>\n      <td id=\"T_d09a6_row4_col0\" class=\"data row4 col0\" >0.8133</td>\n      <td id=\"T_d09a6_row4_col1\" class=\"data row4 col1\" >0.8744</td>\n      <td id=\"T_d09a6_row4_col2\" class=\"data row4 col2\" >0.7586</td>\n      <td id=\"T_d09a6_row4_col3\" class=\"data row4 col3\" >0.7586</td>\n      <td id=\"T_d09a6_row4_col4\" class=\"data row4 col4\" >0.7586</td>\n      <td id=\"T_d09a6_row4_col5\" class=\"data row4 col5\" >0.6064</td>\n      <td id=\"T_d09a6_row4_col6\" class=\"data row4 col6\" >0.6064</td>\n    </tr>\n    <tr>\n      <th id=\"T_d09a6_level0_row5\" class=\"row_heading level0 row5\" >5</th>\n      <td id=\"T_d09a6_row5_col0\" class=\"data row5 col0\" >0.6933</td>\n      <td id=\"T_d09a6_row5_col1\" class=\"data row5 col1\" >0.7837</td>\n      <td id=\"T_d09a6_row5_col2\" class=\"data row5 col2\" >0.5517</td>\n      <td id=\"T_d09a6_row5_col3\" class=\"data row5 col3\" >0.6154</td>\n      <td id=\"T_d09a6_row5_col4\" class=\"data row5 col4\" >0.5818</td>\n      <td id=\"T_d09a6_row5_col5\" class=\"data row5 col5\" >0.3408</td>\n      <td id=\"T_d09a6_row5_col6\" class=\"data row5 col6\" >0.3421</td>\n    </tr>\n    <tr>\n      <th id=\"T_d09a6_level0_row6\" class=\"row_heading level0 row6\" >6</th>\n      <td id=\"T_d09a6_row6_col0\" class=\"data row6 col0\" >0.9067</td>\n      <td id=\"T_d09a6_row6_col1\" class=\"data row6 col1\" >0.9543</td>\n      <td id=\"T_d09a6_row6_col2\" class=\"data row6 col2\" >0.8966</td>\n      <td id=\"T_d09a6_row6_col3\" class=\"data row6 col3\" >0.8667</td>\n      <td id=\"T_d09a6_row6_col4\" class=\"data row6 col4\" >0.8814</td>\n      <td id=\"T_d09a6_row6_col5\" class=\"data row6 col5\" >0.8045</td>\n      <td id=\"T_d09a6_row6_col6\" class=\"data row6 col6\" >0.8048</td>\n    </tr>\n    <tr>\n      <th id=\"T_d09a6_level0_row7\" class=\"row_heading level0 row7\" >7</th>\n      <td id=\"T_d09a6_row7_col0\" class=\"data row7 col0\" >0.7733</td>\n      <td id=\"T_d09a6_row7_col1\" class=\"data row7 col1\" >0.8276</td>\n      <td id=\"T_d09a6_row7_col2\" class=\"data row7 col2\" >0.7586</td>\n      <td id=\"T_d09a6_row7_col3\" class=\"data row7 col3\" >0.6875</td>\n      <td id=\"T_d09a6_row7_col4\" class=\"data row7 col4\" >0.7213</td>\n      <td id=\"T_d09a6_row7_col5\" class=\"data row7 col5\" >0.5311</td>\n      <td id=\"T_d09a6_row7_col6\" class=\"data row7 col6\" >0.5329</td>\n    </tr>\n    <tr>\n      <th id=\"T_d09a6_level0_row8\" class=\"row_heading level0 row8\" >8</th>\n      <td id=\"T_d09a6_row8_col0\" class=\"data row8 col0\" >0.8378</td>\n      <td id=\"T_d09a6_row8_col1\" class=\"data row8 col1\" >0.8989</td>\n      <td id=\"T_d09a6_row8_col2\" class=\"data row8 col2\" >0.7931</td>\n      <td id=\"T_d09a6_row8_col3\" class=\"data row8 col3\" >0.7931</td>\n      <td id=\"T_d09a6_row8_col4\" class=\"data row8 col4\" >0.7931</td>\n      <td id=\"T_d09a6_row8_col5\" class=\"data row8 col5\" >0.6598</td>\n      <td id=\"T_d09a6_row8_col6\" class=\"data row8 col6\" >0.6598</td>\n    </tr>\n    <tr>\n      <th id=\"T_d09a6_level0_row9\" class=\"row_heading level0 row9\" >9</th>\n      <td id=\"T_d09a6_row9_col0\" class=\"data row9 col0\" >0.8649</td>\n      <td id=\"T_d09a6_row9_col1\" class=\"data row9 col1\" >0.9510</td>\n      <td id=\"T_d09a6_row9_col2\" class=\"data row9 col2\" >0.7586</td>\n      <td id=\"T_d09a6_row9_col3\" class=\"data row9 col3\" >0.8800</td>\n      <td id=\"T_d09a6_row9_col4\" class=\"data row9 col4\" >0.8148</td>\n      <td id=\"T_d09a6_row9_col5\" class=\"data row9 col5\" >0.7093</td>\n      <td id=\"T_d09a6_row9_col6\" class=\"data row9 col6\" >0.7142</td>\n    </tr>\n    <tr>\n      <th id=\"T_d09a6_level0_row10\" class=\"row_heading level0 row10\" >Mean</th>\n      <td id=\"T_d09a6_row10_col0\" class=\"data row10 col0\" >0.8289</td>\n      <td id=\"T_d09a6_row10_col1\" class=\"data row10 col1\" >0.8980</td>\n      <td id=\"T_d09a6_row10_col2\" class=\"data row10 col2\" >0.7597</td>\n      <td id=\"T_d09a6_row10_col3\" class=\"data row10 col3\" >0.7942</td>\n      <td id=\"T_d09a6_row10_col4\" class=\"data row10 col4\" >0.7747</td>\n      <td id=\"T_d09a6_row10_col5\" class=\"data row10 col5\" >0.6372</td>\n      <td id=\"T_d09a6_row10_col6\" class=\"data row10 col6\" >0.6395</td>\n    </tr>\n    <tr>\n      <th id=\"T_d09a6_level0_row11\" class=\"row_heading level0 row11\" >SD</th>\n      <td id=\"T_d09a6_row11_col0\" class=\"data row11 col0\" >0.0567</td>\n      <td id=\"T_d09a6_row11_col1\" class=\"data row11 col1\" >0.0526</td>\n      <td id=\"T_d09a6_row11_col2\" class=\"data row11 col2\" >0.0892</td>\n      <td id=\"T_d09a6_row11_col3\" class=\"data row11 col3\" >0.0821</td>\n      <td id=\"T_d09a6_row11_col4\" class=\"data row11 col4\" >0.0771</td>\n      <td id=\"T_d09a6_row11_col5\" class=\"data row11 col5\" >0.1215</td>\n      <td id=\"T_d09a6_row11_col6\" class=\"data row11 col6\" >0.1216</td>\n    </tr>\n  </tbody>\n</table>\n"
     },
     "metadata": {},
     "output_type": "display_data"
    }
   ],
   "source": [
    "best_model = create_model(\"lr\")"
   ],
   "metadata": {
    "collapsed": false,
    "pycharm": {
     "name": "#%%\n"
    }
   }
  },
  {
   "cell_type": "code",
   "execution_count": 5,
   "outputs": [
    {
     "data": {
      "text/plain": "<pandas.io.formats.style.Styler at 0x19bde6d8040>",
      "text/html": "<style type=\"text/css\">\n</style>\n<table id=\"T_99469\">\n  <thead>\n    <tr>\n      <th class=\"blank level0\" >&nbsp;</th>\n      <th id=\"T_99469_level0_col0\" class=\"col_heading level0 col0\" >Model</th>\n      <th id=\"T_99469_level0_col1\" class=\"col_heading level0 col1\" >Accuracy</th>\n      <th id=\"T_99469_level0_col2\" class=\"col_heading level0 col2\" >AUC</th>\n      <th id=\"T_99469_level0_col3\" class=\"col_heading level0 col3\" >Recall</th>\n      <th id=\"T_99469_level0_col4\" class=\"col_heading level0 col4\" >Prec.</th>\n      <th id=\"T_99469_level0_col5\" class=\"col_heading level0 col5\" >F1</th>\n      <th id=\"T_99469_level0_col6\" class=\"col_heading level0 col6\" >Kappa</th>\n      <th id=\"T_99469_level0_col7\" class=\"col_heading level0 col7\" >MCC</th>\n    </tr>\n  </thead>\n  <tbody>\n    <tr>\n      <th id=\"T_99469_level0_row0\" class=\"row_heading level0 row0\" >0</th>\n      <td id=\"T_99469_row0_col0\" class=\"data row0 col0\" >Logistic Regression</td>\n      <td id=\"T_99469_row0_col1\" class=\"data row0 col1\" >0.8292</td>\n      <td id=\"T_99469_row0_col2\" class=\"data row0 col2\" >0.8868</td>\n      <td id=\"T_99469_row0_col3\" class=\"data row0 col3\" >0.7381</td>\n      <td id=\"T_99469_row0_col4\" class=\"data row0 col4\" >0.8087</td>\n      <td id=\"T_99469_row0_col5\" class=\"data row0 col5\" >0.7718</td>\n      <td id=\"T_99469_row0_col6\" class=\"data row0 col6\" >0.6358</td>\n      <td id=\"T_99469_row0_col7\" class=\"data row0 col7\" >0.6375</td>\n    </tr>\n  </tbody>\n</table>\n"
     },
     "metadata": {},
     "output_type": "display_data"
    },
    {
     "data": {
      "text/plain": "     Purchase  WeekofPurchase  StoreID  PriceCH  PriceMM  DiscCH  DiscMM  \\\n748        MM             255        2     1.89     2.18    0.13    0.00   \n749        MM             242        2     1.75     1.99    0.16    0.30   \n750        CH             274        7     1.86     2.13    0.47    0.54   \n751        CH             238        1     1.75     1.99    0.00    0.00   \n752        MM             240        7     1.86     2.09    0.00    0.00   \n...       ...             ...      ...      ...      ...     ...     ...   \n1065       CH             263        7     1.86     2.13    0.27    0.00   \n1066       CH             277        1     1.99     2.13    0.24    0.00   \n1067       CH             274        7     1.86     2.13    0.47    0.54   \n1068       CH             265        1     1.76     1.99    0.00    0.10   \n1069       MM             231        2     1.69     1.69    0.30    0.00   \n\n      SpecialCH  SpecialMM   LoyalCH  SalePriceMM  SalePriceCH  PriceDiff  \\\n748           0          0  0.035549         2.18         1.76       0.42   \n749           0          1  0.400000         1.69         1.59       0.10   \n750           1          0  0.400000         1.59         1.39       0.20   \n751           0          0  0.564800         1.99         1.75       0.24   \n752           0          0  0.953271         2.09         1.86       0.23   \n...         ...        ...       ...          ...          ...        ...   \n1065          0          0  0.813222         2.13         1.59       0.54   \n1066          0          0  0.795200         2.13         1.75       0.38   \n1067          1          0  0.965640         1.59         1.39       0.20   \n1068          0          0  0.833234         1.89         1.76       0.13   \n1069          1          0  0.135607         1.69         1.39       0.30   \n\n     Store7  PctDiscMM  PctDiscCH  ListPriceDiff  STORE Label   Score  \n748      No   0.000000   0.068783           0.29      2    MM  0.8404  \n749      No   0.150754   0.091429           0.24      2    MM  0.7126  \n750     Yes   0.253521   0.252688           0.27      0    CH  0.5017  \n751      No   0.000000   0.000000           0.24      1    CH  0.6921  \n752     Yes   0.000000   0.000000           0.23      0    CH  0.9804  \n...     ...        ...        ...            ...    ...   ...     ...  \n1065    Yes   0.000000   0.145161           0.27      0    CH  0.9761  \n1066     No   0.000000   0.120603           0.14      1    CH  0.8942  \n1067    Yes   0.253521   0.252688           0.27      0    CH  0.9580  \n1068     No   0.050251   0.000000           0.23      1    CH  0.8860  \n1069     No   0.000000   0.177515           0.00      2    MM  0.9241  \n\n[322 rows x 20 columns]",
      "text/html": "<div>\n<style scoped>\n    .dataframe tbody tr th:only-of-type {\n        vertical-align: middle;\n    }\n\n    .dataframe tbody tr th {\n        vertical-align: top;\n    }\n\n    .dataframe thead th {\n        text-align: right;\n    }\n</style>\n<table border=\"1\" class=\"dataframe\">\n  <thead>\n    <tr style=\"text-align: right;\">\n      <th></th>\n      <th>Purchase</th>\n      <th>WeekofPurchase</th>\n      <th>StoreID</th>\n      <th>PriceCH</th>\n      <th>PriceMM</th>\n      <th>DiscCH</th>\n      <th>DiscMM</th>\n      <th>SpecialCH</th>\n      <th>SpecialMM</th>\n      <th>LoyalCH</th>\n      <th>SalePriceMM</th>\n      <th>SalePriceCH</th>\n      <th>PriceDiff</th>\n      <th>Store7</th>\n      <th>PctDiscMM</th>\n      <th>PctDiscCH</th>\n      <th>ListPriceDiff</th>\n      <th>STORE</th>\n      <th>Label</th>\n      <th>Score</th>\n    </tr>\n  </thead>\n  <tbody>\n    <tr>\n      <th>748</th>\n      <td>MM</td>\n      <td>255</td>\n      <td>2</td>\n      <td>1.89</td>\n      <td>2.18</td>\n      <td>0.13</td>\n      <td>0.00</td>\n      <td>0</td>\n      <td>0</td>\n      <td>0.035549</td>\n      <td>2.18</td>\n      <td>1.76</td>\n      <td>0.42</td>\n      <td>No</td>\n      <td>0.000000</td>\n      <td>0.068783</td>\n      <td>0.29</td>\n      <td>2</td>\n      <td>MM</td>\n      <td>0.8404</td>\n    </tr>\n    <tr>\n      <th>749</th>\n      <td>MM</td>\n      <td>242</td>\n      <td>2</td>\n      <td>1.75</td>\n      <td>1.99</td>\n      <td>0.16</td>\n      <td>0.30</td>\n      <td>0</td>\n      <td>1</td>\n      <td>0.400000</td>\n      <td>1.69</td>\n      <td>1.59</td>\n      <td>0.10</td>\n      <td>No</td>\n      <td>0.150754</td>\n      <td>0.091429</td>\n      <td>0.24</td>\n      <td>2</td>\n      <td>MM</td>\n      <td>0.7126</td>\n    </tr>\n    <tr>\n      <th>750</th>\n      <td>CH</td>\n      <td>274</td>\n      <td>7</td>\n      <td>1.86</td>\n      <td>2.13</td>\n      <td>0.47</td>\n      <td>0.54</td>\n      <td>1</td>\n      <td>0</td>\n      <td>0.400000</td>\n      <td>1.59</td>\n      <td>1.39</td>\n      <td>0.20</td>\n      <td>Yes</td>\n      <td>0.253521</td>\n      <td>0.252688</td>\n      <td>0.27</td>\n      <td>0</td>\n      <td>CH</td>\n      <td>0.5017</td>\n    </tr>\n    <tr>\n      <th>751</th>\n      <td>CH</td>\n      <td>238</td>\n      <td>1</td>\n      <td>1.75</td>\n      <td>1.99</td>\n      <td>0.00</td>\n      <td>0.00</td>\n      <td>0</td>\n      <td>0</td>\n      <td>0.564800</td>\n      <td>1.99</td>\n      <td>1.75</td>\n      <td>0.24</td>\n      <td>No</td>\n      <td>0.000000</td>\n      <td>0.000000</td>\n      <td>0.24</td>\n      <td>1</td>\n      <td>CH</td>\n      <td>0.6921</td>\n    </tr>\n    <tr>\n      <th>752</th>\n      <td>MM</td>\n      <td>240</td>\n      <td>7</td>\n      <td>1.86</td>\n      <td>2.09</td>\n      <td>0.00</td>\n      <td>0.00</td>\n      <td>0</td>\n      <td>0</td>\n      <td>0.953271</td>\n      <td>2.09</td>\n      <td>1.86</td>\n      <td>0.23</td>\n      <td>Yes</td>\n      <td>0.000000</td>\n      <td>0.000000</td>\n      <td>0.23</td>\n      <td>0</td>\n      <td>CH</td>\n      <td>0.9804</td>\n    </tr>\n    <tr>\n      <th>...</th>\n      <td>...</td>\n      <td>...</td>\n      <td>...</td>\n      <td>...</td>\n      <td>...</td>\n      <td>...</td>\n      <td>...</td>\n      <td>...</td>\n      <td>...</td>\n      <td>...</td>\n      <td>...</td>\n      <td>...</td>\n      <td>...</td>\n      <td>...</td>\n      <td>...</td>\n      <td>...</td>\n      <td>...</td>\n      <td>...</td>\n      <td>...</td>\n      <td>...</td>\n    </tr>\n    <tr>\n      <th>1065</th>\n      <td>CH</td>\n      <td>263</td>\n      <td>7</td>\n      <td>1.86</td>\n      <td>2.13</td>\n      <td>0.27</td>\n      <td>0.00</td>\n      <td>0</td>\n      <td>0</td>\n      <td>0.813222</td>\n      <td>2.13</td>\n      <td>1.59</td>\n      <td>0.54</td>\n      <td>Yes</td>\n      <td>0.000000</td>\n      <td>0.145161</td>\n      <td>0.27</td>\n      <td>0</td>\n      <td>CH</td>\n      <td>0.9761</td>\n    </tr>\n    <tr>\n      <th>1066</th>\n      <td>CH</td>\n      <td>277</td>\n      <td>1</td>\n      <td>1.99</td>\n      <td>2.13</td>\n      <td>0.24</td>\n      <td>0.00</td>\n      <td>0</td>\n      <td>0</td>\n      <td>0.795200</td>\n      <td>2.13</td>\n      <td>1.75</td>\n      <td>0.38</td>\n      <td>No</td>\n      <td>0.000000</td>\n      <td>0.120603</td>\n      <td>0.14</td>\n      <td>1</td>\n      <td>CH</td>\n      <td>0.8942</td>\n    </tr>\n    <tr>\n      <th>1067</th>\n      <td>CH</td>\n      <td>274</td>\n      <td>7</td>\n      <td>1.86</td>\n      <td>2.13</td>\n      <td>0.47</td>\n      <td>0.54</td>\n      <td>1</td>\n      <td>0</td>\n      <td>0.965640</td>\n      <td>1.59</td>\n      <td>1.39</td>\n      <td>0.20</td>\n      <td>Yes</td>\n      <td>0.253521</td>\n      <td>0.252688</td>\n      <td>0.27</td>\n      <td>0</td>\n      <td>CH</td>\n      <td>0.9580</td>\n    </tr>\n    <tr>\n      <th>1068</th>\n      <td>CH</td>\n      <td>265</td>\n      <td>1</td>\n      <td>1.76</td>\n      <td>1.99</td>\n      <td>0.00</td>\n      <td>0.10</td>\n      <td>0</td>\n      <td>0</td>\n      <td>0.833234</td>\n      <td>1.89</td>\n      <td>1.76</td>\n      <td>0.13</td>\n      <td>No</td>\n      <td>0.050251</td>\n      <td>0.000000</td>\n      <td>0.23</td>\n      <td>1</td>\n      <td>CH</td>\n      <td>0.8860</td>\n    </tr>\n    <tr>\n      <th>1069</th>\n      <td>MM</td>\n      <td>231</td>\n      <td>2</td>\n      <td>1.69</td>\n      <td>1.69</td>\n      <td>0.30</td>\n      <td>0.00</td>\n      <td>1</td>\n      <td>0</td>\n      <td>0.135607</td>\n      <td>1.69</td>\n      <td>1.39</td>\n      <td>0.30</td>\n      <td>No</td>\n      <td>0.000000</td>\n      <td>0.177515</td>\n      <td>0.00</td>\n      <td>2</td>\n      <td>MM</td>\n      <td>0.9241</td>\n    </tr>\n  </tbody>\n</table>\n<p>322 rows × 20 columns</p>\n</div>"
     },
     "execution_count": 5,
     "metadata": {},
     "output_type": "execute_result"
    }
   ],
   "source": [
    "predict_model(best_model, data=None, encoded_labels=True)"
   ],
   "metadata": {
    "collapsed": false,
    "pycharm": {
     "name": "#%%\n"
    }
   }
  },
  {
   "cell_type": "code",
   "execution_count": 6,
   "outputs": [
    {
     "data": {
      "text/plain": "<pandas.io.formats.style.Styler at 0x19b99825250>",
      "text/html": "<style type=\"text/css\">\n#T_2f340_row10_col0, #T_2f340_row10_col1, #T_2f340_row10_col2, #T_2f340_row10_col3, #T_2f340_row10_col4, #T_2f340_row10_col5, #T_2f340_row10_col6 {\n  background: yellow;\n}\n</style>\n<table id=\"T_2f340\">\n  <thead>\n    <tr>\n      <th class=\"blank level0\" >&nbsp;</th>\n      <th id=\"T_2f340_level0_col0\" class=\"col_heading level0 col0\" >Accuracy</th>\n      <th id=\"T_2f340_level0_col1\" class=\"col_heading level0 col1\" >AUC</th>\n      <th id=\"T_2f340_level0_col2\" class=\"col_heading level0 col2\" >Recall</th>\n      <th id=\"T_2f340_level0_col3\" class=\"col_heading level0 col3\" >Prec.</th>\n      <th id=\"T_2f340_level0_col4\" class=\"col_heading level0 col4\" >F1</th>\n      <th id=\"T_2f340_level0_col5\" class=\"col_heading level0 col5\" >Kappa</th>\n      <th id=\"T_2f340_level0_col6\" class=\"col_heading level0 col6\" >MCC</th>\n    </tr>\n  </thead>\n  <tbody>\n    <tr>\n      <th id=\"T_2f340_level0_row0\" class=\"row_heading level0 row0\" >0</th>\n      <td id=\"T_2f340_row0_col0\" class=\"data row0 col0\" >0.8267</td>\n      <td id=\"T_2f340_row0_col1\" class=\"data row0 col1\" >0.9341</td>\n      <td id=\"T_2f340_row0_col2\" class=\"data row0 col2\" >0.6667</td>\n      <td id=\"T_2f340_row0_col3\" class=\"data row0 col3\" >0.8696</td>\n      <td id=\"T_2f340_row0_col4\" class=\"data row0 col4\" >0.7547</td>\n      <td id=\"T_2f340_row0_col5\" class=\"data row0 col5\" >0.6243</td>\n      <td id=\"T_2f340_row0_col6\" class=\"data row0 col6\" >0.6375</td>\n    </tr>\n    <tr>\n      <th id=\"T_2f340_level0_row1\" class=\"row_heading level0 row1\" >1</th>\n      <td id=\"T_2f340_row1_col0\" class=\"data row1 col0\" >0.8400</td>\n      <td id=\"T_2f340_row1_col1\" class=\"data row1 col1\" >0.8808</td>\n      <td id=\"T_2f340_row1_col2\" class=\"data row1 col2\" >0.7241</td>\n      <td id=\"T_2f340_row1_col3\" class=\"data row1 col3\" >0.8400</td>\n      <td id=\"T_2f340_row1_col4\" class=\"data row1 col4\" >0.7778</td>\n      <td id=\"T_2f340_row1_col5\" class=\"data row1 col5\" >0.6538</td>\n      <td id=\"T_2f340_row1_col6\" class=\"data row1 col6\" >0.6582</td>\n    </tr>\n    <tr>\n      <th id=\"T_2f340_level0_row2\" class=\"row_heading level0 row2\" >2</th>\n      <td id=\"T_2f340_row2_col0\" class=\"data row2 col0\" >0.8533</td>\n      <td id=\"T_2f340_row2_col1\" class=\"data row2 col1\" >0.9400</td>\n      <td id=\"T_2f340_row2_col2\" class=\"data row2 col2\" >0.7586</td>\n      <td id=\"T_2f340_row2_col3\" class=\"data row2 col3\" >0.8462</td>\n      <td id=\"T_2f340_row2_col4\" class=\"data row2 col4\" >0.8000</td>\n      <td id=\"T_2f340_row2_col5\" class=\"data row2 col5\" >0.6848</td>\n      <td id=\"T_2f340_row2_col6\" class=\"data row2 col6\" >0.6873</td>\n    </tr>\n    <tr>\n      <th id=\"T_2f340_level0_row3\" class=\"row_heading level0 row3\" >3</th>\n      <td id=\"T_2f340_row3_col0\" class=\"data row3 col0\" >0.8133</td>\n      <td id=\"T_2f340_row3_col1\" class=\"data row3 col1\" >0.9115</td>\n      <td id=\"T_2f340_row3_col2\" class=\"data row3 col2\" >0.7586</td>\n      <td id=\"T_2f340_row3_col3\" class=\"data row3 col3\" >0.7586</td>\n      <td id=\"T_2f340_row3_col4\" class=\"data row3 col4\" >0.7586</td>\n      <td id=\"T_2f340_row3_col5\" class=\"data row3 col5\" >0.6064</td>\n      <td id=\"T_2f340_row3_col6\" class=\"data row3 col6\" >0.6064</td>\n    </tr>\n    <tr>\n      <th id=\"T_2f340_level0_row4\" class=\"row_heading level0 row4\" >4</th>\n      <td id=\"T_2f340_row4_col0\" class=\"data row4 col0\" >0.7867</td>\n      <td id=\"T_2f340_row4_col1\" class=\"data row4 col1\" >0.8654</td>\n      <td id=\"T_2f340_row4_col2\" class=\"data row4 col2\" >0.6897</td>\n      <td id=\"T_2f340_row4_col3\" class=\"data row4 col3\" >0.7407</td>\n      <td id=\"T_2f340_row4_col4\" class=\"data row4 col4\" >0.7143</td>\n      <td id=\"T_2f340_row4_col5\" class=\"data row4 col5\" >0.5444</td>\n      <td id=\"T_2f340_row4_col6\" class=\"data row4 col6\" >0.5453</td>\n    </tr>\n    <tr>\n      <th id=\"T_2f340_level0_row5\" class=\"row_heading level0 row5\" >5</th>\n      <td id=\"T_2f340_row5_col0\" class=\"data row5 col0\" >0.6933</td>\n      <td id=\"T_2f340_row5_col1\" class=\"data row5 col1\" >0.7792</td>\n      <td id=\"T_2f340_row5_col2\" class=\"data row5 col2\" >0.5517</td>\n      <td id=\"T_2f340_row5_col3\" class=\"data row5 col3\" >0.6154</td>\n      <td id=\"T_2f340_row5_col4\" class=\"data row5 col4\" >0.5818</td>\n      <td id=\"T_2f340_row5_col5\" class=\"data row5 col5\" >0.3408</td>\n      <td id=\"T_2f340_row5_col6\" class=\"data row5 col6\" >0.3421</td>\n    </tr>\n    <tr>\n      <th id=\"T_2f340_level0_row6\" class=\"row_heading level0 row6\" >6</th>\n      <td id=\"T_2f340_row6_col0\" class=\"data row6 col0\" >0.8800</td>\n      <td id=\"T_2f340_row6_col1\" class=\"data row6 col1\" >0.9468</td>\n      <td id=\"T_2f340_row6_col2\" class=\"data row6 col2\" >0.8621</td>\n      <td id=\"T_2f340_row6_col3\" class=\"data row6 col3\" >0.8333</td>\n      <td id=\"T_2f340_row6_col4\" class=\"data row6 col4\" >0.8475</td>\n      <td id=\"T_2f340_row6_col5\" class=\"data row6 col5\" >0.7486</td>\n      <td id=\"T_2f340_row6_col6\" class=\"data row6 col6\" >0.7489</td>\n    </tr>\n    <tr>\n      <th id=\"T_2f340_level0_row7\" class=\"row_heading level0 row7\" >7</th>\n      <td id=\"T_2f340_row7_col0\" class=\"data row7 col0\" >0.7733</td>\n      <td id=\"T_2f340_row7_col1\" class=\"data row7 col1\" >0.8058</td>\n      <td id=\"T_2f340_row7_col2\" class=\"data row7 col2\" >0.7241</td>\n      <td id=\"T_2f340_row7_col3\" class=\"data row7 col3\" >0.7000</td>\n      <td id=\"T_2f340_row7_col4\" class=\"data row7 col4\" >0.7119</td>\n      <td id=\"T_2f340_row7_col5\" class=\"data row7 col5\" >0.5251</td>\n      <td id=\"T_2f340_row7_col6\" class=\"data row7 col6\" >0.5253</td>\n    </tr>\n    <tr>\n      <th id=\"T_2f340_level0_row8\" class=\"row_heading level0 row8\" >8</th>\n      <td id=\"T_2f340_row8_col0\" class=\"data row8 col0\" >0.8243</td>\n      <td id=\"T_2f340_row8_col1\" class=\"data row8 col1\" >0.8912</td>\n      <td id=\"T_2f340_row8_col2\" class=\"data row8 col2\" >0.7241</td>\n      <td id=\"T_2f340_row8_col3\" class=\"data row8 col3\" >0.8077</td>\n      <td id=\"T_2f340_row8_col4\" class=\"data row8 col4\" >0.7636</td>\n      <td id=\"T_2f340_row8_col5\" class=\"data row8 col5\" >0.6245</td>\n      <td id=\"T_2f340_row8_col6\" class=\"data row8 col6\" >0.6269</td>\n    </tr>\n    <tr>\n      <th id=\"T_2f340_level0_row9\" class=\"row_heading level0 row9\" >9</th>\n      <td id=\"T_2f340_row9_col0\" class=\"data row9 col0\" >0.8514</td>\n      <td id=\"T_2f340_row9_col1\" class=\"data row9 col1\" >0.9556</td>\n      <td id=\"T_2f340_row9_col2\" class=\"data row9 col2\" >0.7241</td>\n      <td id=\"T_2f340_row9_col3\" class=\"data row9 col3\" >0.8750</td>\n      <td id=\"T_2f340_row9_col4\" class=\"data row9 col4\" >0.7925</td>\n      <td id=\"T_2f340_row9_col5\" class=\"data row9 col5\" >0.6783</td>\n      <td id=\"T_2f340_row9_col6\" class=\"data row9 col6\" >0.6856</td>\n    </tr>\n    <tr>\n      <th id=\"T_2f340_level0_row10\" class=\"row_heading level0 row10\" >Mean</th>\n      <td id=\"T_2f340_row10_col0\" class=\"data row10 col0\" >0.8142</td>\n      <td id=\"T_2f340_row10_col1\" class=\"data row10 col1\" >0.8911</td>\n      <td id=\"T_2f340_row10_col2\" class=\"data row10 col2\" >0.7184</td>\n      <td id=\"T_2f340_row10_col3\" class=\"data row10 col3\" >0.7886</td>\n      <td id=\"T_2f340_row10_col4\" class=\"data row10 col4\" >0.7503</td>\n      <td id=\"T_2f340_row10_col5\" class=\"data row10 col5\" >0.6031</td>\n      <td id=\"T_2f340_row10_col6\" class=\"data row10 col6\" >0.6064</td>\n    </tr>\n    <tr>\n      <th id=\"T_2f340_level0_row11\" class=\"row_heading level0 row11\" >SD</th>\n      <td id=\"T_2f340_row11_col0\" class=\"data row11 col0\" >0.0502</td>\n      <td id=\"T_2f340_row11_col1\" class=\"data row11 col1\" >0.0570</td>\n      <td id=\"T_2f340_row11_col2\" class=\"data row11 col2\" >0.0744</td>\n      <td id=\"T_2f340_row11_col3\" class=\"data row11 col3\" >0.0796</td>\n      <td id=\"T_2f340_row11_col4\" class=\"data row11 col4\" >0.0677</td>\n      <td id=\"T_2f340_row11_col5\" class=\"data row11 col5\" >0.1074</td>\n      <td id=\"T_2f340_row11_col6\" class=\"data row11 col6\" >0.1083</td>\n    </tr>\n  </tbody>\n</table>\n"
     },
     "metadata": {},
     "output_type": "display_data"
    },
    {
     "data": {
      "text/plain": "AdaBoostClassifier(base_estimator=LogisticRegression(max_iter=1000,\n                                                     random_state=123),\n                   n_estimators=10, random_state=123)"
     },
     "execution_count": 6,
     "metadata": {},
     "output_type": "execute_result"
    }
   ],
   "source": [
    "ensemble_model(best_model, method='Boosting')"
   ],
   "metadata": {
    "collapsed": false,
    "pycharm": {
     "name": "#%%\n"
    }
   }
  },
  {
   "cell_type": "code",
   "execution_count": null,
   "outputs": [
    {
     "data": {
      "text/plain": "IntProgress(value=0, description='Processing: ', max=99)",
      "application/vnd.jupyter.widget-view+json": {
       "version_major": 2,
       "version_minor": 0,
       "model_id": "1793265242a24d4fb9fc80f84fea97b6"
      }
     },
     "metadata": {},
     "output_type": "display_data"
    },
    {
     "data": {
      "text/plain": "                                                                    \n                                                                    \nInitiated  . . . . . . . . . . . . . . . . . .              17:37:30\nStatus     . . . . . . . . . . . . . . . . . .  Loading Dependencies\nEstimator  . . . . . . . . . . . . . . . . . .     Compiling Library",
      "text/html": "<div>\n<style scoped>\n    .dataframe tbody tr th:only-of-type {\n        vertical-align: middle;\n    }\n\n    .dataframe tbody tr th {\n        vertical-align: top;\n    }\n\n    .dataframe thead th {\n        text-align: right;\n    }\n</style>\n<table border=\"1\" class=\"dataframe\">\n  <thead>\n    <tr style=\"text-align: right;\">\n      <th></th>\n      <th></th>\n      <th></th>\n    </tr>\n    <tr>\n      <th></th>\n      <th></th>\n      <th></th>\n    </tr>\n  </thead>\n  <tbody>\n    <tr>\n      <th>Initiated</th>\n      <td>. . . . . . . . . . . . . . . . . .</td>\n      <td>17:37:30</td>\n    </tr>\n    <tr>\n      <th>Status</th>\n      <td>. . . . . . . . . . . . . . . . . .</td>\n      <td>Loading Dependencies</td>\n    </tr>\n    <tr>\n      <th>Estimator</th>\n      <td>. . . . . . . . . . . . . . . . . .</td>\n      <td>Compiling Library</td>\n    </tr>\n  </tbody>\n</table>\n</div>"
     },
     "metadata": {},
     "output_type": "display_data"
    },
    {
     "data": {
      "text/plain": "Empty DataFrame\nColumns: [Model, Accuracy, AUC, Recall, Prec., F1, Kappa, MCC, TT (Sec)]\nIndex: []",
      "text/html": "<div>\n<style scoped>\n    .dataframe tbody tr th:only-of-type {\n        vertical-align: middle;\n    }\n\n    .dataframe tbody tr th {\n        vertical-align: top;\n    }\n\n    .dataframe thead th {\n        text-align: right;\n    }\n</style>\n<table border=\"1\" class=\"dataframe\">\n  <thead>\n    <tr style=\"text-align: right;\">\n      <th></th>\n      <th>Model</th>\n      <th>Accuracy</th>\n      <th>AUC</th>\n      <th>Recall</th>\n      <th>Prec.</th>\n      <th>F1</th>\n      <th>Kappa</th>\n      <th>MCC</th>\n      <th>TT (Sec)</th>\n    </tr>\n  </thead>\n  <tbody>\n  </tbody>\n</table>\n</div>"
     },
     "metadata": {},
     "output_type": "display_data"
    }
   ],
   "source": [
    "models = compare_models(turbo=False, n_select=5)"
   ],
   "metadata": {
    "collapsed": false,
    "pycharm": {
     "name": "#%%\n",
     "is_executing": true
    }
   }
  }
 ],
 "metadata": {
  "kernelspec": {
   "display_name": "Python 3",
   "language": "python",
   "name": "python3"
  },
  "language_info": {
   "codemirror_mode": {
    "name": "ipython",
    "version": 3
   },
   "file_extension": ".py",
   "mimetype": "text/x-python",
   "name": "python",
   "nbconvert_exporter": "python",
   "pygments_lexer": "ipython3",
   "version": "3.8.3"
  }
 },
 "nbformat": 4,
 "nbformat_minor": 4
}