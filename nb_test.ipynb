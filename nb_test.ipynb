{
 "cells": [
  {
   "cell_type": "code",
   "execution_count": 1,
   "metadata": {},
   "outputs": [],
   "source": [
    "from pycaret.classification import *\n",
    "from sklearn.decomposition import PCA\n",
    "from sklearn.datasets import fetch_20newsgroups"
   ]
  },
  {
   "cell_type": "code",
   "execution_count": 2,
   "outputs": [
    {
     "data": {
      "text/plain": "   Id Purchase  WeekofPurchase  StoreID  PriceCH  PriceMM  DiscCH  DiscMM  \\\n0   1       CH             237        1     1.75     1.99    0.00     0.0   \n1   2       CH             239        1     1.75     1.99    0.00     0.3   \n2   3       CH             245        1     1.86     2.09    0.17     0.0   \n3   4       MM             227        1     1.69     1.69    0.00     0.0   \n4   5       CH             228        7     1.69     1.69    0.00     0.0   \n\n   SpecialCH  SpecialMM   LoyalCH  SalePriceMM  SalePriceCH  PriceDiff Store7  \\\n0          0          0  0.500000         1.99         1.75       0.24     No   \n1          0          1  0.600000         1.69         1.75      -0.06     No   \n2          0          0  0.680000         2.09         1.69       0.40     No   \n3          0          0  0.400000         1.69         1.69       0.00     No   \n4          0          0  0.956535         1.69         1.69       0.00    Yes   \n\n   PctDiscMM  PctDiscCH  ListPriceDiff  STORE  \n0   0.000000   0.000000           0.24      1  \n1   0.150754   0.000000           0.24      1  \n2   0.000000   0.091398           0.23      1  \n3   0.000000   0.000000           0.00      1  \n4   0.000000   0.000000           0.00      0  ",
      "text/html": "<div>\n<style scoped>\n    .dataframe tbody tr th:only-of-type {\n        vertical-align: middle;\n    }\n\n    .dataframe tbody tr th {\n        vertical-align: top;\n    }\n\n    .dataframe thead th {\n        text-align: right;\n    }\n</style>\n<table border=\"1\" class=\"dataframe\">\n  <thead>\n    <tr style=\"text-align: right;\">\n      <th></th>\n      <th>Id</th>\n      <th>Purchase</th>\n      <th>WeekofPurchase</th>\n      <th>StoreID</th>\n      <th>PriceCH</th>\n      <th>PriceMM</th>\n      <th>DiscCH</th>\n      <th>DiscMM</th>\n      <th>SpecialCH</th>\n      <th>SpecialMM</th>\n      <th>LoyalCH</th>\n      <th>SalePriceMM</th>\n      <th>SalePriceCH</th>\n      <th>PriceDiff</th>\n      <th>Store7</th>\n      <th>PctDiscMM</th>\n      <th>PctDiscCH</th>\n      <th>ListPriceDiff</th>\n      <th>STORE</th>\n    </tr>\n  </thead>\n  <tbody>\n    <tr>\n      <th>0</th>\n      <td>1</td>\n      <td>CH</td>\n      <td>237</td>\n      <td>1</td>\n      <td>1.75</td>\n      <td>1.99</td>\n      <td>0.00</td>\n      <td>0.0</td>\n      <td>0</td>\n      <td>0</td>\n      <td>0.500000</td>\n      <td>1.99</td>\n      <td>1.75</td>\n      <td>0.24</td>\n      <td>No</td>\n      <td>0.000000</td>\n      <td>0.000000</td>\n      <td>0.24</td>\n      <td>1</td>\n    </tr>\n    <tr>\n      <th>1</th>\n      <td>2</td>\n      <td>CH</td>\n      <td>239</td>\n      <td>1</td>\n      <td>1.75</td>\n      <td>1.99</td>\n      <td>0.00</td>\n      <td>0.3</td>\n      <td>0</td>\n      <td>1</td>\n      <td>0.600000</td>\n      <td>1.69</td>\n      <td>1.75</td>\n      <td>-0.06</td>\n      <td>No</td>\n      <td>0.150754</td>\n      <td>0.000000</td>\n      <td>0.24</td>\n      <td>1</td>\n    </tr>\n    <tr>\n      <th>2</th>\n      <td>3</td>\n      <td>CH</td>\n      <td>245</td>\n      <td>1</td>\n      <td>1.86</td>\n      <td>2.09</td>\n      <td>0.17</td>\n      <td>0.0</td>\n      <td>0</td>\n      <td>0</td>\n      <td>0.680000</td>\n      <td>2.09</td>\n      <td>1.69</td>\n      <td>0.40</td>\n      <td>No</td>\n      <td>0.000000</td>\n      <td>0.091398</td>\n      <td>0.23</td>\n      <td>1</td>\n    </tr>\n    <tr>\n      <th>3</th>\n      <td>4</td>\n      <td>MM</td>\n      <td>227</td>\n      <td>1</td>\n      <td>1.69</td>\n      <td>1.69</td>\n      <td>0.00</td>\n      <td>0.0</td>\n      <td>0</td>\n      <td>0</td>\n      <td>0.400000</td>\n      <td>1.69</td>\n      <td>1.69</td>\n      <td>0.00</td>\n      <td>No</td>\n      <td>0.000000</td>\n      <td>0.000000</td>\n      <td>0.00</td>\n      <td>1</td>\n    </tr>\n    <tr>\n      <th>4</th>\n      <td>5</td>\n      <td>CH</td>\n      <td>228</td>\n      <td>7</td>\n      <td>1.69</td>\n      <td>1.69</td>\n      <td>0.00</td>\n      <td>0.0</td>\n      <td>0</td>\n      <td>0</td>\n      <td>0.956535</td>\n      <td>1.69</td>\n      <td>1.69</td>\n      <td>0.00</td>\n      <td>Yes</td>\n      <td>0.000000</td>\n      <td>0.000000</td>\n      <td>0.00</td>\n      <td>0</td>\n    </tr>\n  </tbody>\n</table>\n</div>"
     },
     "metadata": {},
     "output_type": "display_data"
    },
    {
     "name": "stdout",
     "output_type": "stream",
     "text": [
      "(1070, 19)\n"
     ]
    }
   ],
   "source": [
    "from pycaret.datasets import get_data\n",
    "dataset = get_data('juice')\n",
    "\n",
    "print(dataset.shape)"
   ],
   "metadata": {
    "collapsed": false,
    "pycharm": {
     "name": "#%%\n"
    }
   }
  },
  {
   "cell_type": "code",
   "execution_count": 3,
   "metadata": {},
   "outputs": [
    {
     "name": "stdout",
     "output_type": "stream",
     "text": [
      "<pandas.io.formats.style.Styler object at 0x000002192A67D2B0>\n"
     ]
    }
   ],
   "source": [
    "py = setup(\n",
    "    data=dataset,\n",
    "    target='STORE',\n",
    "    session_id=123,\n",
    "    experiment_name=None,\n",
    "    text_features=[\"Purchase\"],\n",
    "    ignore_features=[\"Id\"],\n",
    "    keep_features=[\"SalePriceCH\"],\n",
    "    preprocess=True,\n",
    "    imputation_type='simple',\n",
    "    numeric_iterative_imputer='lightgbm',\n",
    "    categorical_iterative_imputer='lightgbm',\n",
    "    max_encoding_ohe=5,\n",
    "    remove_multicollinearity=True,\n",
    "    multicollinearity_threshold=0.8,\n",
    "    bin_numeric_features=[\"PriceMM\"],\n",
    "    remove_outliers=True,\n",
    "    outliers_method=\"lof\",\n",
    "    outliers_threshold=0.5,\n",
    "    normalize=True,\n",
    "    feature_selection=True,\n",
    "    feature_selection_method=\"classic\",\n",
    "    feature_selection_estimator=\"rf\",\n",
    "    n_features_to_select=7,\n",
    "    custom_pipeline=[(\"pca\", PCA(n_components=5))],\n",
    "    system_log=False,\n",
    "    memory=False,\n",
    ")"
   ]
  },
  {
   "cell_type": "code",
   "execution_count": 4,
   "outputs": [
    {
     "name": "stdout",
     "output_type": "stream",
     "text": [
      "Pipeline(steps=[('text_embedding',\n",
      "                 TransfomerWrapper(include=['Purchase'], transformer=EmbedTextFeatures())),\n",
      "                ('ordinal_encoding',\n",
      "                 TransfomerWrapper(include=['Store7'], transformer=OrdinalEncoder(cols=['Store7'], handle_missing='return_nan', mapping=[{'col': 'Store7', 'mapping': {nan: -1, 'No': 1, 'Yes': 0}}]))),\n",
      "                ('remove_multicollinearity',\n",
      "                 TransfomerWrapper(exclu...\n",
      "                 TransfomerWrapper(transformer=RemoveOutliers(method='lof', threshold=0.5))),\n",
      "                ('normalize', TransfomerWrapper(transformer=StandardScaler())),\n",
      "                ('feature_selection',\n",
      "                 TransfomerWrapper(exclude=['SalePriceCH'], transformer=SelectFromModel(estimator=RandomForestClassifier(), max_features=7, threshold=-inf))),\n",
      "                ('pca', TransfomerWrapper(transformer=PCA(n_components=5)))])\n",
      "      Feature 2  Feature 3  Feature 4  Feature 5  Feature 6\n",
      "0      1.249744  -0.546059  -0.845238   2.257786  -0.616256\n",
      "1     -0.681338  -0.498737  -1.219027  -0.237501   0.793163\n",
      "2      2.431728  -2.364223   0.246687  -0.151916  -1.210116\n",
      "3     -1.311132   0.225220   0.610778  -0.557254   0.632643\n",
      "4      2.573683  -0.097374  -0.043893   1.256860   0.454475\n",
      "...         ...        ...        ...        ...        ...\n",
      "1065  -0.000991  -2.733046  -0.043933  -2.025927   0.341325\n",
      "1066  -0.927513  -2.481361   0.342970   0.637318   0.165332\n",
      "1067   3.057647   0.346645  -0.203370  -0.253351   0.312685\n",
      "1068  -0.148331  -1.729234  -0.577248  -0.983576  -0.170695\n",
      "1069   2.651902  -0.067953  -0.066827   0.976729   0.379551\n",
      "\n",
      "[1070 rows x 5 columns]\n",
      "(1070, 5)\n"
     ]
    }
   ],
   "source": [
    "a = py.pipeline\n",
    "print(a)\n",
    "a.fit(py.X, py.y)\n",
    "X, y = a.transform(py.X, py.y)\n",
    "print(X)\n",
    "print(X.shape)"
   ],
   "metadata": {
    "collapsed": false,
    "pycharm": {
     "name": "#%%\n"
    }
   }
  },
  {
   "cell_type": "code",
   "execution_count": 5,
   "outputs": [
    {
     "data": {
      "text/plain": "<pandas.io.formats.style.Styler at 0x2192a173d30>",
      "text/html": "<style type=\"text/css\">\n#T_6d9ea_row10_col0, #T_6d9ea_row10_col1, #T_6d9ea_row10_col2, #T_6d9ea_row10_col3, #T_6d9ea_row10_col4, #T_6d9ea_row10_col5, #T_6d9ea_row10_col6 {\n  background: yellow;\n}\n</style>\n<table id=\"T_6d9ea\">\n  <thead>\n    <tr>\n      <th class=\"blank level0\" >&nbsp;</th>\n      <th id=\"T_6d9ea_level0_col0\" class=\"col_heading level0 col0\" >Accuracy</th>\n      <th id=\"T_6d9ea_level0_col1\" class=\"col_heading level0 col1\" >AUC</th>\n      <th id=\"T_6d9ea_level0_col2\" class=\"col_heading level0 col2\" >Recall</th>\n      <th id=\"T_6d9ea_level0_col3\" class=\"col_heading level0 col3\" >Prec.</th>\n      <th id=\"T_6d9ea_level0_col4\" class=\"col_heading level0 col4\" >F1</th>\n      <th id=\"T_6d9ea_level0_col5\" class=\"col_heading level0 col5\" >Kappa</th>\n      <th id=\"T_6d9ea_level0_col6\" class=\"col_heading level0 col6\" >MCC</th>\n    </tr>\n  </thead>\n  <tbody>\n    <tr>\n      <th id=\"T_6d9ea_level0_row0\" class=\"row_heading level0 row0\" >0</th>\n      <td id=\"T_6d9ea_row0_col0\" class=\"data row0 col0\" >0.6533</td>\n      <td id=\"T_6d9ea_row0_col1\" class=\"data row0 col1\" >0.9292</td>\n      <td id=\"T_6d9ea_row0_col2\" class=\"data row0 col2\" >0.5368</td>\n      <td id=\"T_6d9ea_row0_col3\" class=\"data row0 col3\" >0.6017</td>\n      <td id=\"T_6d9ea_row0_col4\" class=\"data row0 col4\" >0.6011</td>\n      <td id=\"T_6d9ea_row0_col5\" class=\"data row0 col5\" >0.5429</td>\n      <td id=\"T_6d9ea_row0_col6\" class=\"data row0 col6\" >0.5790</td>\n    </tr>\n    <tr>\n      <th id=\"T_6d9ea_level0_row1\" class=\"row_heading level0 row1\" >1</th>\n      <td id=\"T_6d9ea_row1_col0\" class=\"data row1 col0\" >0.7733</td>\n      <td id=\"T_6d9ea_row1_col1\" class=\"data row1 col1\" >0.9690</td>\n      <td id=\"T_6d9ea_row1_col2\" class=\"data row1 col2\" >0.7062</td>\n      <td id=\"T_6d9ea_row1_col3\" class=\"data row1 col3\" >0.8627</td>\n      <td id=\"T_6d9ea_row1_col4\" class=\"data row1 col4\" >0.7546</td>\n      <td id=\"T_6d9ea_row1_col5\" class=\"data row1 col5\" >0.7017</td>\n      <td id=\"T_6d9ea_row1_col6\" class=\"data row1 col6\" >0.7305</td>\n    </tr>\n    <tr>\n      <th id=\"T_6d9ea_level0_row2\" class=\"row_heading level0 row2\" >2</th>\n      <td id=\"T_6d9ea_row2_col0\" class=\"data row2 col0\" >0.7733</td>\n      <td id=\"T_6d9ea_row2_col1\" class=\"data row2 col1\" >0.9614</td>\n      <td id=\"T_6d9ea_row2_col2\" class=\"data row2 col2\" >0.6754</td>\n      <td id=\"T_6d9ea_row2_col3\" class=\"data row2 col3\" >0.8513</td>\n      <td id=\"T_6d9ea_row2_col4\" class=\"data row2 col4\" >0.7381</td>\n      <td id=\"T_6d9ea_row2_col5\" class=\"data row2 col5\" >0.7007</td>\n      <td id=\"T_6d9ea_row2_col6\" class=\"data row2 col6\" >0.7212</td>\n    </tr>\n    <tr>\n      <th id=\"T_6d9ea_level0_row3\" class=\"row_heading level0 row3\" >3</th>\n      <td id=\"T_6d9ea_row3_col0\" class=\"data row3 col0\" >0.7600</td>\n      <td id=\"T_6d9ea_row3_col1\" class=\"data row3 col1\" >0.9671</td>\n      <td id=\"T_6d9ea_row3_col2\" class=\"data row3 col2\" >0.6878</td>\n      <td id=\"T_6d9ea_row3_col3\" class=\"data row3 col3\" >0.8188</td>\n      <td id=\"T_6d9ea_row3_col4\" class=\"data row3 col4\" >0.7398</td>\n      <td id=\"T_6d9ea_row3_col5\" class=\"data row3 col5\" >0.6848</td>\n      <td id=\"T_6d9ea_row3_col6\" class=\"data row3 col6\" >0.6969</td>\n    </tr>\n    <tr>\n      <th id=\"T_6d9ea_level0_row4\" class=\"row_heading level0 row4\" >4</th>\n      <td id=\"T_6d9ea_row4_col0\" class=\"data row4 col0\" >0.7200</td>\n      <td id=\"T_6d9ea_row4_col1\" class=\"data row4 col1\" >0.9405</td>\n      <td id=\"T_6d9ea_row4_col2\" class=\"data row4 col2\" >0.6273</td>\n      <td id=\"T_6d9ea_row4_col3\" class=\"data row4 col3\" >0.6531</td>\n      <td id=\"T_6d9ea_row4_col4\" class=\"data row4 col4\" >0.6742</td>\n      <td id=\"T_6d9ea_row4_col5\" class=\"data row4 col5\" >0.6312</td>\n      <td id=\"T_6d9ea_row4_col6\" class=\"data row4 col6\" >0.6525</td>\n    </tr>\n    <tr>\n      <th id=\"T_6d9ea_level0_row5\" class=\"row_heading level0 row5\" >5</th>\n      <td id=\"T_6d9ea_row5_col0\" class=\"data row5 col0\" >0.7333</td>\n      <td id=\"T_6d9ea_row5_col1\" class=\"data row5 col1\" >0.9703</td>\n      <td id=\"T_6d9ea_row5_col2\" class=\"data row5 col2\" >0.6371</td>\n      <td id=\"T_6d9ea_row5_col3\" class=\"data row5 col3\" >0.7432</td>\n      <td id=\"T_6d9ea_row5_col4\" class=\"data row5 col4\" >0.7139</td>\n      <td id=\"T_6d9ea_row5_col5\" class=\"data row5 col5\" >0.6493</td>\n      <td id=\"T_6d9ea_row5_col6\" class=\"data row5 col6\" >0.6592</td>\n    </tr>\n    <tr>\n      <th id=\"T_6d9ea_level0_row6\" class=\"row_heading level0 row6\" >6</th>\n      <td id=\"T_6d9ea_row6_col0\" class=\"data row6 col0\" >0.7067</td>\n      <td id=\"T_6d9ea_row6_col1\" class=\"data row6 col1\" >0.9373</td>\n      <td id=\"T_6d9ea_row6_col2\" class=\"data row6 col2\" >0.6142</td>\n      <td id=\"T_6d9ea_row6_col3\" class=\"data row6 col3\" >0.7471</td>\n      <td id=\"T_6d9ea_row6_col4\" class=\"data row6 col4\" >0.6953</td>\n      <td id=\"T_6d9ea_row6_col5\" class=\"data row6 col5\" >0.6161</td>\n      <td id=\"T_6d9ea_row6_col6\" class=\"data row6 col6\" >0.6239</td>\n    </tr>\n    <tr>\n      <th id=\"T_6d9ea_level0_row7\" class=\"row_heading level0 row7\" >7</th>\n      <td id=\"T_6d9ea_row7_col0\" class=\"data row7 col0\" >0.7067</td>\n      <td id=\"T_6d9ea_row7_col1\" class=\"data row7 col1\" >0.9348</td>\n      <td id=\"T_6d9ea_row7_col2\" class=\"data row7 col2\" >0.6182</td>\n      <td id=\"T_6d9ea_row7_col3\" class=\"data row7 col3\" >0.7994</td>\n      <td id=\"T_6d9ea_row7_col4\" class=\"data row7 col4\" >0.6796</td>\n      <td id=\"T_6d9ea_row7_col5\" class=\"data row7 col5\" >0.6154</td>\n      <td id=\"T_6d9ea_row7_col6\" class=\"data row7 col6\" >0.6373</td>\n    </tr>\n    <tr>\n      <th id=\"T_6d9ea_level0_row8\" class=\"row_heading level0 row8\" >8</th>\n      <td id=\"T_6d9ea_row8_col0\" class=\"data row8 col0\" >0.7838</td>\n      <td id=\"T_6d9ea_row8_col1\" class=\"data row8 col1\" >0.9536</td>\n      <td id=\"T_6d9ea_row8_col2\" class=\"data row8 col2\" >0.7248</td>\n      <td id=\"T_6d9ea_row8_col3\" class=\"data row8 col3\" >0.8474</td>\n      <td id=\"T_6d9ea_row8_col4\" class=\"data row8 col4\" >0.7497</td>\n      <td id=\"T_6d9ea_row8_col5\" class=\"data row8 col5\" >0.7178</td>\n      <td id=\"T_6d9ea_row8_col6\" class=\"data row8 col6\" >0.7349</td>\n    </tr>\n    <tr>\n      <th id=\"T_6d9ea_level0_row9\" class=\"row_heading level0 row9\" >9</th>\n      <td id=\"T_6d9ea_row9_col0\" class=\"data row9 col0\" >0.7568</td>\n      <td id=\"T_6d9ea_row9_col1\" class=\"data row9 col1\" >0.9721</td>\n      <td id=\"T_6d9ea_row9_col2\" class=\"data row9 col2\" >0.6741</td>\n      <td id=\"T_6d9ea_row9_col3\" class=\"data row9 col3\" >0.8141</td>\n      <td id=\"T_6d9ea_row9_col4\" class=\"data row9 col4\" >0.7192</td>\n      <td id=\"T_6d9ea_row9_col5\" class=\"data row9 col5\" >0.6813</td>\n      <td id=\"T_6d9ea_row9_col6\" class=\"data row9 col6\" >0.6971</td>\n    </tr>\n    <tr>\n      <th id=\"T_6d9ea_level0_row10\" class=\"row_heading level0 row10\" >Mean</th>\n      <td id=\"T_6d9ea_row10_col0\" class=\"data row10 col0\" >0.7367</td>\n      <td id=\"T_6d9ea_row10_col1\" class=\"data row10 col1\" >0.9535</td>\n      <td id=\"T_6d9ea_row10_col2\" class=\"data row10 col2\" >0.6502</td>\n      <td id=\"T_6d9ea_row10_col3\" class=\"data row10 col3\" >0.7739</td>\n      <td id=\"T_6d9ea_row10_col4\" class=\"data row10 col4\" >0.7066</td>\n      <td id=\"T_6d9ea_row10_col5\" class=\"data row10 col5\" >0.6541</td>\n      <td id=\"T_6d9ea_row10_col6\" class=\"data row10 col6\" >0.6733</td>\n    </tr>\n    <tr>\n      <th id=\"T_6d9ea_level0_row11\" class=\"row_heading level0 row11\" >SD</th>\n      <td id=\"T_6d9ea_row11_col0\" class=\"data row11 col0\" >0.0386</td>\n      <td id=\"T_6d9ea_row11_col1\" class=\"data row11 col1\" >0.0158</td>\n      <td id=\"T_6d9ea_row11_col2\" class=\"data row11 col2\" >0.0522</td>\n      <td id=\"T_6d9ea_row11_col3\" class=\"data row11 col3\" >0.0833</td>\n      <td id=\"T_6d9ea_row11_col4\" class=\"data row11 col4\" >0.0442</td>\n      <td id=\"T_6d9ea_row11_col5\" class=\"data row11 col5\" >0.0510</td>\n      <td id=\"T_6d9ea_row11_col6\" class=\"data row11 col6\" >0.0487</td>\n    </tr>\n  </tbody>\n</table>\n"
     },
     "metadata": {},
     "output_type": "display_data"
    }
   ],
   "source": [
    "best_model = create_model(\"lr\")"
   ],
   "metadata": {
    "collapsed": false,
    "pycharm": {
     "name": "#%%\n"
    }
   }
  },
  {
   "cell_type": "code",
   "execution_count": 6,
   "outputs": [
    {
     "data": {
      "text/plain": "<pandas.io.formats.style.Styler at 0x218cb09b130>",
      "text/html": "<style type=\"text/css\">\n#T_d77aa th {\n  text-align: left;\n}\n#T_d77aa_row0_col0, #T_d77aa_row0_col2, #T_d77aa_row1_col0, #T_d77aa_row1_col1, #T_d77aa_row1_col3, #T_d77aa_row1_col4, #T_d77aa_row1_col5, #T_d77aa_row1_col6, #T_d77aa_row1_col7, #T_d77aa_row2_col0, #T_d77aa_row2_col1, #T_d77aa_row2_col2, #T_d77aa_row2_col3, #T_d77aa_row2_col4, #T_d77aa_row2_col5, #T_d77aa_row2_col6, #T_d77aa_row2_col7, #T_d77aa_row3_col0, #T_d77aa_row3_col1, #T_d77aa_row3_col2, #T_d77aa_row3_col3, #T_d77aa_row3_col4, #T_d77aa_row3_col5, #T_d77aa_row3_col6, #T_d77aa_row3_col7, #T_d77aa_row4_col0, #T_d77aa_row4_col1, #T_d77aa_row4_col2, #T_d77aa_row4_col3, #T_d77aa_row4_col4, #T_d77aa_row4_col5, #T_d77aa_row4_col6, #T_d77aa_row4_col7, #T_d77aa_row5_col0, #T_d77aa_row5_col1, #T_d77aa_row5_col2, #T_d77aa_row5_col3, #T_d77aa_row5_col4, #T_d77aa_row5_col5, #T_d77aa_row5_col6, #T_d77aa_row5_col7, #T_d77aa_row6_col0, #T_d77aa_row6_col1, #T_d77aa_row6_col2, #T_d77aa_row6_col3, #T_d77aa_row6_col4, #T_d77aa_row6_col5, #T_d77aa_row6_col6, #T_d77aa_row6_col7, #T_d77aa_row7_col0, #T_d77aa_row7_col1, #T_d77aa_row7_col2, #T_d77aa_row7_col3, #T_d77aa_row7_col4, #T_d77aa_row7_col5, #T_d77aa_row7_col6, #T_d77aa_row7_col7, #T_d77aa_row8_col0, #T_d77aa_row8_col1, #T_d77aa_row8_col2, #T_d77aa_row8_col3, #T_d77aa_row8_col4, #T_d77aa_row8_col5, #T_d77aa_row8_col6, #T_d77aa_row8_col7, #T_d77aa_row9_col0, #T_d77aa_row9_col1, #T_d77aa_row9_col2, #T_d77aa_row9_col3, #T_d77aa_row9_col4, #T_d77aa_row9_col5, #T_d77aa_row9_col6, #T_d77aa_row9_col7, #T_d77aa_row10_col0, #T_d77aa_row10_col1, #T_d77aa_row10_col2, #T_d77aa_row10_col3, #T_d77aa_row10_col4, #T_d77aa_row10_col5, #T_d77aa_row10_col6, #T_d77aa_row10_col7, #T_d77aa_row11_col0, #T_d77aa_row11_col1, #T_d77aa_row11_col2, #T_d77aa_row11_col3, #T_d77aa_row11_col4, #T_d77aa_row11_col5, #T_d77aa_row11_col6, #T_d77aa_row11_col7, #T_d77aa_row12_col0, #T_d77aa_row12_col1, #T_d77aa_row12_col2, #T_d77aa_row12_col3, #T_d77aa_row12_col4, #T_d77aa_row12_col5, #T_d77aa_row12_col6, #T_d77aa_row12_col7, #T_d77aa_row13_col0, #T_d77aa_row13_col1, #T_d77aa_row13_col2, #T_d77aa_row13_col3, #T_d77aa_row13_col4, #T_d77aa_row13_col5, #T_d77aa_row13_col6, #T_d77aa_row13_col7, #T_d77aa_row14_col0, #T_d77aa_row14_col1, #T_d77aa_row14_col2, #T_d77aa_row14_col3, #T_d77aa_row14_col4, #T_d77aa_row14_col5, #T_d77aa_row14_col6, #T_d77aa_row14_col7, #T_d77aa_row15_col0, #T_d77aa_row15_col1, #T_d77aa_row15_col2, #T_d77aa_row15_col3, #T_d77aa_row15_col4, #T_d77aa_row15_col5, #T_d77aa_row15_col6, #T_d77aa_row15_col7, #T_d77aa_row16_col0, #T_d77aa_row16_col1, #T_d77aa_row16_col2, #T_d77aa_row16_col3, #T_d77aa_row16_col4, #T_d77aa_row16_col5, #T_d77aa_row16_col6, #T_d77aa_row16_col7, #T_d77aa_row17_col0, #T_d77aa_row17_col1, #T_d77aa_row17_col2, #T_d77aa_row17_col3, #T_d77aa_row17_col4, #T_d77aa_row17_col5, #T_d77aa_row17_col6, #T_d77aa_row17_col7, #T_d77aa_row18_col0, #T_d77aa_row18_col1, #T_d77aa_row18_col2, #T_d77aa_row18_col3, #T_d77aa_row18_col4, #T_d77aa_row18_col5, #T_d77aa_row18_col6, #T_d77aa_row18_col7 {\n  text-align: left;\n}\n#T_d77aa_row0_col1, #T_d77aa_row0_col3, #T_d77aa_row0_col4, #T_d77aa_row0_col5, #T_d77aa_row0_col6, #T_d77aa_row0_col7, #T_d77aa_row1_col2 {\n  text-align: left;\n  background-color: yellow;\n}\n#T_d77aa_row0_col8, #T_d77aa_row1_col8, #T_d77aa_row2_col8, #T_d77aa_row3_col8, #T_d77aa_row4_col8, #T_d77aa_row5_col8, #T_d77aa_row6_col8, #T_d77aa_row7_col8, #T_d77aa_row8_col8, #T_d77aa_row9_col8, #T_d77aa_row10_col8, #T_d77aa_row11_col8, #T_d77aa_row12_col8, #T_d77aa_row14_col8, #T_d77aa_row15_col8, #T_d77aa_row17_col8, #T_d77aa_row18_col8 {\n  text-align: left;\n  background-color: lightgrey;\n}\n#T_d77aa_row13_col8, #T_d77aa_row16_col8 {\n  text-align: left;\n  background-color: yellow;\n  background-color: lightgrey;\n}\n</style>\n<table id=\"T_d77aa\">\n  <thead>\n    <tr>\n      <th class=\"blank level0\" >&nbsp;</th>\n      <th id=\"T_d77aa_level0_col0\" class=\"col_heading level0 col0\" >Model</th>\n      <th id=\"T_d77aa_level0_col1\" class=\"col_heading level0 col1\" >Accuracy</th>\n      <th id=\"T_d77aa_level0_col2\" class=\"col_heading level0 col2\" >AUC</th>\n      <th id=\"T_d77aa_level0_col3\" class=\"col_heading level0 col3\" >Recall</th>\n      <th id=\"T_d77aa_level0_col4\" class=\"col_heading level0 col4\" >Prec.</th>\n      <th id=\"T_d77aa_level0_col5\" class=\"col_heading level0 col5\" >F1</th>\n      <th id=\"T_d77aa_level0_col6\" class=\"col_heading level0 col6\" >Kappa</th>\n      <th id=\"T_d77aa_level0_col7\" class=\"col_heading level0 col7\" >MCC</th>\n      <th id=\"T_d77aa_level0_col8\" class=\"col_heading level0 col8\" >TT (Sec)</th>\n    </tr>\n  </thead>\n  <tbody>\n    <tr>\n      <th id=\"T_d77aa_level0_row0\" class=\"row_heading level0 row0\" >qda</th>\n      <td id=\"T_d77aa_row0_col0\" class=\"data row0 col0\" >Quadratic Discriminant Analysis</td>\n      <td id=\"T_d77aa_row0_col1\" class=\"data row0 col1\" >0.9439</td>\n      <td id=\"T_d77aa_row0_col2\" class=\"data row0 col2\" >0.9844</td>\n      <td id=\"T_d77aa_row0_col3\" class=\"data row0 col3\" >0.9276</td>\n      <td id=\"T_d77aa_row0_col4\" class=\"data row0 col4\" >0.9571</td>\n      <td id=\"T_d77aa_row0_col5\" class=\"data row0 col5\" >0.9435</td>\n      <td id=\"T_d77aa_row0_col6\" class=\"data row0 col6\" >0.9270</td>\n      <td id=\"T_d77aa_row0_col7\" class=\"data row0 col7\" >0.9304</td>\n      <td id=\"T_d77aa_row0_col8\" class=\"data row0 col8\" >0.0430</td>\n    </tr>\n    <tr>\n      <th id=\"T_d77aa_level0_row1\" class=\"row_heading level0 row1\" >lda</th>\n      <td id=\"T_d77aa_row1_col0\" class=\"data row1 col0\" >Linear Discriminant Analysis</td>\n      <td id=\"T_d77aa_row1_col1\" class=\"data row1 col1\" >0.9200</td>\n      <td id=\"T_d77aa_row1_col2\" class=\"data row1 col2\" >0.9865</td>\n      <td id=\"T_d77aa_row1_col3\" class=\"data row1 col3\" >0.9009</td>\n      <td id=\"T_d77aa_row1_col4\" class=\"data row1 col4\" >0.9276</td>\n      <td id=\"T_d77aa_row1_col5\" class=\"data row1 col5\" >0.9156</td>\n      <td id=\"T_d77aa_row1_col6\" class=\"data row1 col6\" >0.8954</td>\n      <td id=\"T_d77aa_row1_col7\" class=\"data row1 col7\" >0.8996</td>\n      <td id=\"T_d77aa_row1_col8\" class=\"data row1 col8\" >0.0430</td>\n    </tr>\n    <tr>\n      <th id=\"T_d77aa_level0_row2\" class=\"row_heading level0 row2\" >mlp</th>\n      <td id=\"T_d77aa_row2_col0\" class=\"data row2 col0\" >MLP Classifier</td>\n      <td id=\"T_d77aa_row2_col1\" class=\"data row2 col1\" >0.8851</td>\n      <td id=\"T_d77aa_row2_col2\" class=\"data row2 col2\" >0.9781</td>\n      <td id=\"T_d77aa_row2_col3\" class=\"data row2 col3\" >0.8441</td>\n      <td id=\"T_d77aa_row2_col4\" class=\"data row2 col4\" >0.9096</td>\n      <td id=\"T_d77aa_row2_col5\" class=\"data row2 col5\" >0.8769</td>\n      <td id=\"T_d77aa_row2_col6\" class=\"data row2 col6\" >0.8499</td>\n      <td id=\"T_d77aa_row2_col7\" class=\"data row2 col7\" >0.8570</td>\n      <td id=\"T_d77aa_row2_col8\" class=\"data row2 col8\" >0.1140</td>\n    </tr>\n    <tr>\n      <th id=\"T_d77aa_level0_row3\" class=\"row_heading level0 row3\" >lightgbm</th>\n      <td id=\"T_d77aa_row3_col0\" class=\"data row3 col0\" >Light Gradient Boosting Machine</td>\n      <td id=\"T_d77aa_row3_col1\" class=\"data row3 col1\" >0.8395</td>\n      <td id=\"T_d77aa_row3_col2\" class=\"data row3 col2\" >0.9669</td>\n      <td id=\"T_d77aa_row3_col3\" class=\"data row3 col3\" >0.7808</td>\n      <td id=\"T_d77aa_row3_col4\" class=\"data row3 col4\" >0.8575</td>\n      <td id=\"T_d77aa_row3_col5\" class=\"data row3 col5\" >0.8276</td>\n      <td id=\"T_d77aa_row3_col6\" class=\"data row3 col6\" >0.7898</td>\n      <td id=\"T_d77aa_row3_col7\" class=\"data row3 col7\" >0.7971</td>\n      <td id=\"T_d77aa_row3_col8\" class=\"data row3 col8\" >0.0860</td>\n    </tr>\n    <tr>\n      <th id=\"T_d77aa_level0_row4\" class=\"row_heading level0 row4\" >et</th>\n      <td id=\"T_d77aa_row4_col0\" class=\"data row4 col0\" >Extra Trees Classifier</td>\n      <td id=\"T_d77aa_row4_col1\" class=\"data row4 col1\" >0.8262</td>\n      <td id=\"T_d77aa_row4_col2\" class=\"data row4 col2\" >0.9780</td>\n      <td id=\"T_d77aa_row4_col3\" class=\"data row4 col3\" >0.7571</td>\n      <td id=\"T_d77aa_row4_col4\" class=\"data row4 col4\" >0.8647</td>\n      <td id=\"T_d77aa_row4_col5\" class=\"data row4 col5\" >0.8048</td>\n      <td id=\"T_d77aa_row4_col6\" class=\"data row4 col6\" >0.7720</td>\n      <td id=\"T_d77aa_row4_col7\" class=\"data row4 col7\" >0.7856</td>\n      <td id=\"T_d77aa_row4_col8\" class=\"data row4 col8\" >0.0570</td>\n    </tr>\n    <tr>\n      <th id=\"T_d77aa_level0_row5\" class=\"row_heading level0 row5\" >xgboost</th>\n      <td id=\"T_d77aa_row5_col0\" class=\"data row5 col0\" >Extreme Gradient Boosting</td>\n      <td id=\"T_d77aa_row5_col1\" class=\"data row5 col1\" >0.8248</td>\n      <td id=\"T_d77aa_row5_col2\" class=\"data row5 col2\" >0.9589</td>\n      <td id=\"T_d77aa_row5_col3\" class=\"data row5 col3\" >0.7608</td>\n      <td id=\"T_d77aa_row5_col4\" class=\"data row5 col4\" >0.8482</td>\n      <td id=\"T_d77aa_row5_col5\" class=\"data row5 col5\" >0.8075</td>\n      <td id=\"T_d77aa_row5_col6\" class=\"data row5 col6\" >0.7704</td>\n      <td id=\"T_d77aa_row5_col7\" class=\"data row5 col7\" >0.7802</td>\n      <td id=\"T_d77aa_row5_col8\" class=\"data row5 col8\" >0.1440</td>\n    </tr>\n    <tr>\n      <th id=\"T_d77aa_level0_row6\" class=\"row_heading level0 row6\" >catboost</th>\n      <td id=\"T_d77aa_row6_col0\" class=\"data row6 col0\" >CatBoost Classifier</td>\n      <td id=\"T_d77aa_row6_col1\" class=\"data row6 col1\" >0.8128</td>\n      <td id=\"T_d77aa_row6_col2\" class=\"data row6 col2\" >0.9706</td>\n      <td id=\"T_d77aa_row6_col3\" class=\"data row6 col3\" >0.7486</td>\n      <td id=\"T_d77aa_row6_col4\" class=\"data row6 col4\" >0.8331</td>\n      <td id=\"T_d77aa_row6_col5\" class=\"data row6 col5\" >0.7904</td>\n      <td id=\"T_d77aa_row6_col6\" class=\"data row6 col6\" >0.7552</td>\n      <td id=\"T_d77aa_row6_col7\" class=\"data row6 col7\" >0.7677</td>\n      <td id=\"T_d77aa_row6_col8\" class=\"data row6 col8\" >1.3020</td>\n    </tr>\n    <tr>\n      <th id=\"T_d77aa_level0_row7\" class=\"row_heading level0 row7\" >rf</th>\n      <td id=\"T_d77aa_row7_col0\" class=\"data row7 col0\" >Random Forest Classifier</td>\n      <td id=\"T_d77aa_row7_col1\" class=\"data row7 col1\" >0.8102</td>\n      <td id=\"T_d77aa_row7_col2\" class=\"data row7 col2\" >0.9706</td>\n      <td id=\"T_d77aa_row7_col3\" class=\"data row7 col3\" >0.7374</td>\n      <td id=\"T_d77aa_row7_col4\" class=\"data row7 col4\" >0.8429</td>\n      <td id=\"T_d77aa_row7_col5\" class=\"data row7 col5\" >0.7854</td>\n      <td id=\"T_d77aa_row7_col6\" class=\"data row7 col6\" >0.7509</td>\n      <td id=\"T_d77aa_row7_col7\" class=\"data row7 col7\" >0.7642</td>\n      <td id=\"T_d77aa_row7_col8\" class=\"data row7 col8\" >0.0590</td>\n    </tr>\n    <tr>\n      <th id=\"T_d77aa_level0_row8\" class=\"row_heading level0 row8\" >dt</th>\n      <td id=\"T_d77aa_row8_col0\" class=\"data row8 col0\" >Decision Tree Classifier</td>\n      <td id=\"T_d77aa_row8_col1\" class=\"data row8 col1\" >0.8088</td>\n      <td id=\"T_d77aa_row8_col2\" class=\"data row8 col2\" >0.8812</td>\n      <td id=\"T_d77aa_row8_col3\" class=\"data row8 col3\" >0.7435</td>\n      <td id=\"T_d77aa_row8_col4\" class=\"data row8 col4\" >0.8250</td>\n      <td id=\"T_d77aa_row8_col5\" class=\"data row8 col5\" >0.7943</td>\n      <td id=\"T_d77aa_row8_col6\" class=\"data row8 col6\" >0.7494</td>\n      <td id=\"T_d77aa_row8_col7\" class=\"data row8 col7\" >0.7572</td>\n      <td id=\"T_d77aa_row8_col8\" class=\"data row8 col8\" >0.0430</td>\n    </tr>\n    <tr>\n      <th id=\"T_d77aa_level0_row9\" class=\"row_heading level0 row9\" >gbc</th>\n      <td id=\"T_d77aa_row9_col0\" class=\"data row9 col0\" >Gradient Boosting Classifier</td>\n      <td id=\"T_d77aa_row9_col1\" class=\"data row9 col1\" >0.7981</td>\n      <td id=\"T_d77aa_row9_col2\" class=\"data row9 col2\" >0.9494</td>\n      <td id=\"T_d77aa_row9_col3\" class=\"data row9 col3\" >0.7299</td>\n      <td id=\"T_d77aa_row9_col4\" class=\"data row9 col4\" >0.8149</td>\n      <td id=\"T_d77aa_row9_col5\" class=\"data row9 col5\" >0.7762</td>\n      <td id=\"T_d77aa_row9_col6\" class=\"data row9 col6\" >0.7357</td>\n      <td id=\"T_d77aa_row9_col7\" class=\"data row9 col7\" >0.7479</td>\n      <td id=\"T_d77aa_row9_col8\" class=\"data row9 col8\" >0.0810</td>\n    </tr>\n    <tr>\n      <th id=\"T_d77aa_level0_row10\" class=\"row_heading level0 row10\" >rbfsvm</th>\n      <td id=\"T_d77aa_row10_col0\" class=\"data row10 col0\" >SVM - Radial Kernel</td>\n      <td id=\"T_d77aa_row10_col1\" class=\"data row10 col1\" >0.7875</td>\n      <td id=\"T_d77aa_row10_col2\" class=\"data row10 col2\" >0.9819</td>\n      <td id=\"T_d77aa_row10_col3\" class=\"data row10 col3\" >0.6942</td>\n      <td id=\"T_d77aa_row10_col4\" class=\"data row10 col4\" >0.8175</td>\n      <td id=\"T_d77aa_row10_col5\" class=\"data row10 col5\" >0.7452</td>\n      <td id=\"T_d77aa_row10_col6\" class=\"data row10 col6\" >0.7200</td>\n      <td id=\"T_d77aa_row10_col7\" class=\"data row10 col7\" >0.7393</td>\n      <td id=\"T_d77aa_row10_col8\" class=\"data row10 col8\" >0.0420</td>\n    </tr>\n    <tr>\n      <th id=\"T_d77aa_level0_row11\" class=\"row_heading level0 row11\" >knn</th>\n      <td id=\"T_d77aa_row11_col0\" class=\"data row11 col0\" >K Neighbors Classifier</td>\n      <td id=\"T_d77aa_row11_col1\" class=\"data row11 col1\" >0.7835</td>\n      <td id=\"T_d77aa_row11_col2\" class=\"data row11 col2\" >0.9353</td>\n      <td id=\"T_d77aa_row11_col3\" class=\"data row11 col3\" >0.6971</td>\n      <td id=\"T_d77aa_row11_col4\" class=\"data row11 col4\" >0.8028</td>\n      <td id=\"T_d77aa_row11_col5\" class=\"data row11 col5\" >0.7487</td>\n      <td id=\"T_d77aa_row11_col6\" class=\"data row11 col6\" >0.7155</td>\n      <td id=\"T_d77aa_row11_col7\" class=\"data row11 col7\" >0.7306</td>\n      <td id=\"T_d77aa_row11_col8\" class=\"data row11 col8\" >0.0420</td>\n    </tr>\n    <tr>\n      <th id=\"T_d77aa_level0_row12\" class=\"row_heading level0 row12\" >gpc</th>\n      <td id=\"T_d77aa_row12_col0\" class=\"data row12 col0\" >Gaussian Process Classifier</td>\n      <td id=\"T_d77aa_row12_col1\" class=\"data row12 col1\" >0.7821</td>\n      <td id=\"T_d77aa_row12_col2\" class=\"data row12 col2\" >0.9624</td>\n      <td id=\"T_d77aa_row12_col3\" class=\"data row12 col3\" >0.6916</td>\n      <td id=\"T_d77aa_row12_col4\" class=\"data row12 col4\" >0.8111</td>\n      <td id=\"T_d77aa_row12_col5\" class=\"data row12 col5\" >0.7435</td>\n      <td id=\"T_d77aa_row12_col6\" class=\"data row12 col6\" >0.7133</td>\n      <td id=\"T_d77aa_row12_col7\" class=\"data row12 col7\" >0.7311</td>\n      <td id=\"T_d77aa_row12_col8\" class=\"data row12 col8\" >0.4580</td>\n    </tr>\n    <tr>\n      <th id=\"T_d77aa_level0_row13\" class=\"row_heading level0 row13\" >svm</th>\n      <td id=\"T_d77aa_row13_col0\" class=\"data row13 col0\" >SVM - Linear Kernel</td>\n      <td id=\"T_d77aa_row13_col1\" class=\"data row13 col1\" >0.7580</td>\n      <td id=\"T_d77aa_row13_col2\" class=\"data row13 col2\" >0.0000</td>\n      <td id=\"T_d77aa_row13_col3\" class=\"data row13 col3\" >0.6861</td>\n      <td id=\"T_d77aa_row13_col4\" class=\"data row13 col4\" >0.7879</td>\n      <td id=\"T_d77aa_row13_col5\" class=\"data row13 col5\" >0.7402</td>\n      <td id=\"T_d77aa_row13_col6\" class=\"data row13 col6\" >0.6832</td>\n      <td id=\"T_d77aa_row13_col7\" class=\"data row13 col7\" >0.6966</td>\n      <td id=\"T_d77aa_row13_col8\" class=\"data row13 col8\" >0.0340</td>\n    </tr>\n    <tr>\n      <th id=\"T_d77aa_level0_row14\" class=\"row_heading level0 row14\" >lr</th>\n      <td id=\"T_d77aa_row14_col0\" class=\"data row14 col0\" >Logistic Regression</td>\n      <td id=\"T_d77aa_row14_col1\" class=\"data row14 col1\" >0.7354</td>\n      <td id=\"T_d77aa_row14_col2\" class=\"data row14 col2\" >0.9558</td>\n      <td id=\"T_d77aa_row14_col3\" class=\"data row14 col3\" >0.6482</td>\n      <td id=\"T_d77aa_row14_col4\" class=\"data row14 col4\" >0.7725</td>\n      <td id=\"T_d77aa_row14_col5\" class=\"data row14 col5\" >0.7043</td>\n      <td id=\"T_d77aa_row14_col6\" class=\"data row14 col6\" >0.6524</td>\n      <td id=\"T_d77aa_row14_col7\" class=\"data row14 col7\" >0.6705</td>\n      <td id=\"T_d77aa_row14_col8\" class=\"data row14 col8\" >0.2860</td>\n    </tr>\n    <tr>\n      <th id=\"T_d77aa_level0_row15\" class=\"row_heading level0 row15\" >nb</th>\n      <td id=\"T_d77aa_row15_col0\" class=\"data row15 col0\" >Naive Bayes</td>\n      <td id=\"T_d77aa_row15_col1\" class=\"data row15 col1\" >0.6846</td>\n      <td id=\"T_d77aa_row15_col2\" class=\"data row15 col2\" >0.9315</td>\n      <td id=\"T_d77aa_row15_col3\" class=\"data row15 col3\" >0.5939</td>\n      <td id=\"T_d77aa_row15_col4\" class=\"data row15 col4\" >0.6980</td>\n      <td id=\"T_d77aa_row15_col5\" class=\"data row15 col5\" >0.6579</td>\n      <td id=\"T_d77aa_row15_col6\" class=\"data row15 col6\" >0.5866</td>\n      <td id=\"T_d77aa_row15_col7\" class=\"data row15 col7\" >0.6027</td>\n      <td id=\"T_d77aa_row15_col8\" class=\"data row15 col8\" >0.0400</td>\n    </tr>\n    <tr>\n      <th id=\"T_d77aa_level0_row16\" class=\"row_heading level0 row16\" >ridge</th>\n      <td id=\"T_d77aa_row16_col0\" class=\"data row16 col0\" >Ridge Classifier</td>\n      <td id=\"T_d77aa_row16_col1\" class=\"data row16 col1\" >0.6806</td>\n      <td id=\"T_d77aa_row16_col2\" class=\"data row16 col2\" >0.0000</td>\n      <td id=\"T_d77aa_row16_col3\" class=\"data row16 col3\" >0.5641</td>\n      <td id=\"T_d77aa_row16_col4\" class=\"data row16 col4\" >0.6232</td>\n      <td id=\"T_d77aa_row16_col5\" class=\"data row16 col5\" >0.6230</td>\n      <td id=\"T_d77aa_row16_col6\" class=\"data row16 col6\" >0.5775</td>\n      <td id=\"T_d77aa_row16_col7\" class=\"data row16 col7\" >0.6039</td>\n      <td id=\"T_d77aa_row16_col8\" class=\"data row16 col8\" >0.0340</td>\n    </tr>\n    <tr>\n      <th id=\"T_d77aa_level0_row17\" class=\"row_heading level0 row17\" >ada</th>\n      <td id=\"T_d77aa_row17_col0\" class=\"data row17 col0\" >Ada Boost Classifier</td>\n      <td id=\"T_d77aa_row17_col1\" class=\"data row17 col1\" >0.4961</td>\n      <td id=\"T_d77aa_row17_col2\" class=\"data row17 col2\" >0.8091</td>\n      <td id=\"T_d77aa_row17_col3\" class=\"data row17 col3\" >0.4094</td>\n      <td id=\"T_d77aa_row17_col4\" class=\"data row17 col4\" >0.4937</td>\n      <td id=\"T_d77aa_row17_col5\" class=\"data row17 col5\" >0.4133</td>\n      <td id=\"T_d77aa_row17_col6\" class=\"data row17 col6\" >0.3518</td>\n      <td id=\"T_d77aa_row17_col7\" class=\"data row17 col7\" >0.4164</td>\n      <td id=\"T_d77aa_row17_col8\" class=\"data row17 col8\" >0.0500</td>\n    </tr>\n    <tr>\n      <th id=\"T_d77aa_level0_row18\" class=\"row_heading level0 row18\" >dummy</th>\n      <td id=\"T_d77aa_row18_col0\" class=\"data row18 col0\" >Dummy Classifier</td>\n      <td id=\"T_d77aa_row18_col1\" class=\"data row18 col1\" >0.2099</td>\n      <td id=\"T_d77aa_row18_col2\" class=\"data row18 col2\" >0.5000</td>\n      <td id=\"T_d77aa_row18_col3\" class=\"data row18 col3\" >0.2000</td>\n      <td id=\"T_d77aa_row18_col4\" class=\"data row18 col4\" >0.0462</td>\n      <td id=\"T_d77aa_row18_col5\" class=\"data row18 col5\" >0.0750</td>\n      <td id=\"T_d77aa_row18_col6\" class=\"data row18 col6\" >0.0000</td>\n      <td id=\"T_d77aa_row18_col7\" class=\"data row18 col7\" >0.0000</td>\n      <td id=\"T_d77aa_row18_col8\" class=\"data row18 col8\" >0.0540</td>\n    </tr>\n  </tbody>\n</table>\n"
     },
     "metadata": {},
     "output_type": "display_data"
    }
   ],
   "source": [
    "models = compare_models(turbo=False, n_select=5)"
   ],
   "metadata": {
    "collapsed": false,
    "pycharm": {
     "name": "#%%\n"
    }
   }
  },
  {
   "cell_type": "code",
   "execution_count": null,
   "outputs": [],
   "source": [],
   "metadata": {
    "collapsed": false,
    "pycharm": {
     "name": "#%%\n"
    }
   }
  }
 ],
 "metadata": {
  "kernelspec": {
   "display_name": "Python 3",
   "language": "python",
   "name": "python3"
  },
  "language_info": {
   "codemirror_mode": {
    "name": "ipython",
    "version": 3
   },
   "file_extension": ".py",
   "mimetype": "text/x-python",
   "name": "python",
   "nbconvert_exporter": "python",
   "pygments_lexer": "ipython3",
   "version": "3.8.3"
  }
 },
 "nbformat": 4,
 "nbformat_minor": 4
}