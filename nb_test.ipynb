{
 "cells": [
  {
   "cell_type": "code",
   "execution_count": 10,
   "metadata": {},
   "outputs": [],
   "source": [
    "from pycaret.classification import *\n",
    "from sklearn.decomposition import PCA\n",
    "from sklearn.datasets import fetch_20newsgroups"
   ]
  },
  {
   "cell_type": "code",
   "execution_count": 11,
   "outputs": [
    {
     "data": {
      "text/plain": "   Id Purchase  WeekofPurchase  StoreID  PriceCH  PriceMM  DiscCH  DiscMM  \\\n0   1       CH             237        1     1.75     1.99    0.00     0.0   \n1   2       CH             239        1     1.75     1.99    0.00     0.3   \n2   3       CH             245        1     1.86     2.09    0.17     0.0   \n3   4       MM             227        1     1.69     1.69    0.00     0.0   \n4   5       CH             228        7     1.69     1.69    0.00     0.0   \n\n   SpecialCH  SpecialMM   LoyalCH  SalePriceMM  SalePriceCH  PriceDiff Store7  \\\n0          0          0  0.500000         1.99         1.75       0.24     No   \n1          0          1  0.600000         1.69         1.75      -0.06     No   \n2          0          0  0.680000         2.09         1.69       0.40     No   \n3          0          0  0.400000         1.69         1.69       0.00     No   \n4          0          0  0.956535         1.69         1.69       0.00    Yes   \n\n   PctDiscMM  PctDiscCH  ListPriceDiff  STORE  \n0   0.000000   0.000000           0.24      1  \n1   0.150754   0.000000           0.24      1  \n2   0.000000   0.091398           0.23      1  \n3   0.000000   0.000000           0.00      1  \n4   0.000000   0.000000           0.00      0  ",
      "text/html": "<div>\n<style scoped>\n    .dataframe tbody tr th:only-of-type {\n        vertical-align: middle;\n    }\n\n    .dataframe tbody tr th {\n        vertical-align: top;\n    }\n\n    .dataframe thead th {\n        text-align: right;\n    }\n</style>\n<table border=\"1\" class=\"dataframe\">\n  <thead>\n    <tr style=\"text-align: right;\">\n      <th></th>\n      <th>Id</th>\n      <th>Purchase</th>\n      <th>WeekofPurchase</th>\n      <th>StoreID</th>\n      <th>PriceCH</th>\n      <th>PriceMM</th>\n      <th>DiscCH</th>\n      <th>DiscMM</th>\n      <th>SpecialCH</th>\n      <th>SpecialMM</th>\n      <th>LoyalCH</th>\n      <th>SalePriceMM</th>\n      <th>SalePriceCH</th>\n      <th>PriceDiff</th>\n      <th>Store7</th>\n      <th>PctDiscMM</th>\n      <th>PctDiscCH</th>\n      <th>ListPriceDiff</th>\n      <th>STORE</th>\n    </tr>\n  </thead>\n  <tbody>\n    <tr>\n      <th>0</th>\n      <td>1</td>\n      <td>CH</td>\n      <td>237</td>\n      <td>1</td>\n      <td>1.75</td>\n      <td>1.99</td>\n      <td>0.00</td>\n      <td>0.0</td>\n      <td>0</td>\n      <td>0</td>\n      <td>0.500000</td>\n      <td>1.99</td>\n      <td>1.75</td>\n      <td>0.24</td>\n      <td>No</td>\n      <td>0.000000</td>\n      <td>0.000000</td>\n      <td>0.24</td>\n      <td>1</td>\n    </tr>\n    <tr>\n      <th>1</th>\n      <td>2</td>\n      <td>CH</td>\n      <td>239</td>\n      <td>1</td>\n      <td>1.75</td>\n      <td>1.99</td>\n      <td>0.00</td>\n      <td>0.3</td>\n      <td>0</td>\n      <td>1</td>\n      <td>0.600000</td>\n      <td>1.69</td>\n      <td>1.75</td>\n      <td>-0.06</td>\n      <td>No</td>\n      <td>0.150754</td>\n      <td>0.000000</td>\n      <td>0.24</td>\n      <td>1</td>\n    </tr>\n    <tr>\n      <th>2</th>\n      <td>3</td>\n      <td>CH</td>\n      <td>245</td>\n      <td>1</td>\n      <td>1.86</td>\n      <td>2.09</td>\n      <td>0.17</td>\n      <td>0.0</td>\n      <td>0</td>\n      <td>0</td>\n      <td>0.680000</td>\n      <td>2.09</td>\n      <td>1.69</td>\n      <td>0.40</td>\n      <td>No</td>\n      <td>0.000000</td>\n      <td>0.091398</td>\n      <td>0.23</td>\n      <td>1</td>\n    </tr>\n    <tr>\n      <th>3</th>\n      <td>4</td>\n      <td>MM</td>\n      <td>227</td>\n      <td>1</td>\n      <td>1.69</td>\n      <td>1.69</td>\n      <td>0.00</td>\n      <td>0.0</td>\n      <td>0</td>\n      <td>0</td>\n      <td>0.400000</td>\n      <td>1.69</td>\n      <td>1.69</td>\n      <td>0.00</td>\n      <td>No</td>\n      <td>0.000000</td>\n      <td>0.000000</td>\n      <td>0.00</td>\n      <td>1</td>\n    </tr>\n    <tr>\n      <th>4</th>\n      <td>5</td>\n      <td>CH</td>\n      <td>228</td>\n      <td>7</td>\n      <td>1.69</td>\n      <td>1.69</td>\n      <td>0.00</td>\n      <td>0.0</td>\n      <td>0</td>\n      <td>0</td>\n      <td>0.956535</td>\n      <td>1.69</td>\n      <td>1.69</td>\n      <td>0.00</td>\n      <td>Yes</td>\n      <td>0.000000</td>\n      <td>0.000000</td>\n      <td>0.00</td>\n      <td>0</td>\n    </tr>\n  </tbody>\n</table>\n</div>"
     },
     "metadata": {},
     "output_type": "display_data"
    },
    {
     "name": "stdout",
     "output_type": "stream",
     "text": [
      "(1070, 19)\n"
     ]
    }
   ],
   "source": [
    "from pycaret.datasets import get_data\n",
    "dataset = get_data('juice')\n",
    "\n",
    "print(dataset.shape)"
   ],
   "metadata": {
    "collapsed": false,
    "pycharm": {
     "name": "#%%\n"
    }
   }
  },
  {
   "cell_type": "code",
   "execution_count": 12,
   "metadata": {},
   "outputs": [
    {
     "name": "stdout",
     "output_type": "stream",
     "text": [
      "<pandas.io.formats.style.Styler object at 0x00000151DA512D60>\n"
     ]
    }
   ],
   "source": [
    "py = setup(\n",
    "    data=dataset,\n",
    "    target='STORE',\n",
    "    session_id=123,\n",
    "    experiment_name=None,\n",
    "    text_features=[\"Purchase\"],\n",
    "    ignore_features=[\"Id\"],\n",
    "    keep_features=[\"SalePriceCH\"],\n",
    "    preprocess=True,\n",
    "    imputation_type='simple',\n",
    "    numeric_iterative_imputer='lightgbm',\n",
    "    categorical_iterative_imputer='lightgbm',\n",
    "    max_encoding_ohe=5,\n",
    "    remove_multicollinearity=True,\n",
    "    multicollinearity_threshold=0.8,\n",
    "    bin_numeric_features=[\"PriceMM\"],\n",
    "    remove_outliers=True,\n",
    "    outliers_method=\"lof\",\n",
    "    outliers_threshold=0.5,\n",
    "    normalize=True,\n",
    "    feature_selection=True,\n",
    "    feature_selection_method=\"classic\",\n",
    "    feature_selection_estimator=\"rf\",\n",
    "    n_features_to_select=7,\n",
    "    custom_pipeline=[(\"pca\", PCA(n_components=5))],\n",
    "    system_log=False,\n",
    "    memory=False,\n",
    ")"
   ]
  },
  {
   "cell_type": "code",
   "execution_count": 13,
   "outputs": [
    {
     "name": "stdout",
     "output_type": "stream",
     "text": [
      "Pipeline(steps=[('text_embedding',\n",
      "                 TransfomerWrapper(include=['Purchase'], transformer=EmbedTextFeatures())),\n",
      "                ('ordinal_encoding',\n",
      "                 TransfomerWrapper(include=['Store7'], transformer=OrdinalEncoder(cols=['Store7'], handle_missing='return_nan', mapping=[{'col': 'Store7', 'mapping': {nan: -1, 'No': 1, 'Yes': 0}}]))),\n",
      "                ('remove_multicollinearity',\n",
      "                 TransfomerWrapper(exclu...\n",
      "                 TransfomerWrapper(transformer=RemoveOutliers(method='lof', threshold=0.5))),\n",
      "                ('normalize', TransfomerWrapper(transformer=StandardScaler())),\n",
      "                ('feature_selection',\n",
      "                 TransfomerWrapper(exclude=['SalePriceCH'], transformer=SelectFromModel(estimator=RandomForestClassifier(), max_features=7, threshold=-inf))),\n",
      "                ('pca', TransfomerWrapper(transformer=PCA(n_components=5)))])\n",
      "      Feature 1  Feature 2  Feature 3  Feature 4  Feature 5\n",
      "0      1.249744  -0.546059  -0.845238   2.257786  -0.616256\n",
      "1     -0.681338  -0.498737  -1.219027  -0.237501   0.793163\n",
      "2      2.431728  -2.364223   0.246687  -0.151916  -1.210116\n",
      "3     -1.311132   0.225220   0.610778  -0.557254   0.632643\n",
      "4      2.573683  -0.097374  -0.043893   1.256860   0.454475\n",
      "...         ...        ...        ...        ...        ...\n",
      "1065  -0.000991  -2.733046  -0.043933  -2.025927   0.341325\n",
      "1066  -0.927513  -2.481361   0.342970   0.637318   0.165332\n",
      "1067   3.057647   0.346645  -0.203370  -0.253351   0.312685\n",
      "1068  -0.148331  -1.729234  -0.577248  -0.983576  -0.170695\n",
      "1069   2.651902  -0.067953  -0.066827   0.976729   0.379551\n",
      "\n",
      "[1070 rows x 5 columns]\n",
      "(1070, 5)\n"
     ]
    }
   ],
   "source": [
    "a = py._internal_pipeline\n",
    "print(a)\n",
    "a.fit(py.X, py.y)\n",
    "X, y = a.transform(py.X, py.y)\n",
    "print(X)\n",
    "print(X.shape)"
   ],
   "metadata": {
    "collapsed": false,
    "pycharm": {
     "name": "#%%\n"
    }
   }
  },
  {
   "cell_type": "code",
   "execution_count": 14,
   "metadata": {
    "pycharm": {
     "name": "#%%\n"
    }
   },
   "outputs": [
    {
     "data": {
      "text/plain": "<pandas.io.formats.style.Styler at 0x151d366e400>",
      "text/html": "<style type=\"text/css\">\n#T_78446_row10_col0, #T_78446_row10_col1, #T_78446_row10_col2, #T_78446_row10_col3, #T_78446_row10_col4, #T_78446_row10_col5, #T_78446_row10_col6 {\n  background: yellow;\n}\n</style>\n<table id=\"T_78446_\">\n  <thead>\n    <tr>\n      <th class=\"blank level0\" >&nbsp;</th>\n      <th class=\"col_heading level0 col0\" >Accuracy</th>\n      <th class=\"col_heading level0 col1\" >AUC</th>\n      <th class=\"col_heading level0 col2\" >Recall</th>\n      <th class=\"col_heading level0 col3\" >Prec.</th>\n      <th class=\"col_heading level0 col4\" >F1</th>\n      <th class=\"col_heading level0 col5\" >Kappa</th>\n      <th class=\"col_heading level0 col6\" >MCC</th>\n    </tr>\n  </thead>\n  <tbody>\n    <tr>\n      <th id=\"T_78446_level0_row0\" class=\"row_heading level0 row0\" >0</th>\n      <td id=\"T_78446_row0_col0\" class=\"data row0 col0\" >0.7733</td>\n      <td id=\"T_78446_row0_col1\" class=\"data row0 col1\" >0.9760</td>\n      <td id=\"T_78446_row0_col2\" class=\"data row0 col2\" >0.6867</td>\n      <td id=\"T_78446_row0_col3\" class=\"data row0 col3\" >0.7145</td>\n      <td id=\"T_78446_row0_col4\" class=\"data row0 col4\" >0.7176</td>\n      <td id=\"T_78446_row0_col5\" class=\"data row0 col5\" >0.7036</td>\n      <td id=\"T_78446_row0_col6\" class=\"data row0 col6\" >0.7304</td>\n    </tr>\n    <tr>\n      <th id=\"T_78446_level0_row1\" class=\"row_heading level0 row1\" >1</th>\n      <td id=\"T_78446_row1_col0\" class=\"data row1 col0\" >0.6800</td>\n      <td id=\"T_78446_row1_col1\" class=\"data row1 col1\" >0.9415</td>\n      <td id=\"T_78446_row1_col2\" class=\"data row1 col2\" >0.6000</td>\n      <td id=\"T_78446_row1_col3\" class=\"data row1 col3\" >0.6287</td>\n      <td id=\"T_78446_row1_col4\" class=\"data row1 col4\" >0.6412</td>\n      <td id=\"T_78446_row1_col5\" class=\"data row1 col5\" >0.5821</td>\n      <td id=\"T_78446_row1_col6\" class=\"data row1 col6\" >0.6055</td>\n    </tr>\n    <tr>\n      <th id=\"T_78446_level0_row2\" class=\"row_heading level0 row2\" >2</th>\n      <td id=\"T_78446_row2_col0\" class=\"data row2 col0\" >0.7467</td>\n      <td id=\"T_78446_row2_col1\" class=\"data row2 col1\" >0.9578</td>\n      <td id=\"T_78446_row2_col2\" class=\"data row2 col2\" >0.6582</td>\n      <td id=\"T_78446_row2_col3\" class=\"data row2 col3\" >0.8365</td>\n      <td id=\"T_78446_row2_col4\" class=\"data row2 col4\" >0.7048</td>\n      <td id=\"T_78446_row2_col5\" class=\"data row2 col5\" >0.6685</td>\n      <td id=\"T_78446_row2_col6\" class=\"data row2 col6\" >0.6911</td>\n    </tr>\n    <tr>\n      <th id=\"T_78446_level0_row3\" class=\"row_heading level0 row3\" >3</th>\n      <td id=\"T_78446_row3_col0\" class=\"data row3 col0\" >0.7867</td>\n      <td id=\"T_78446_row3_col1\" class=\"data row3 col1\" >0.9733</td>\n      <td id=\"T_78446_row3_col2\" class=\"data row3 col2\" >0.7057</td>\n      <td id=\"T_78446_row3_col3\" class=\"data row3 col3\" >0.7057</td>\n      <td id=\"T_78446_row3_col4\" class=\"data row3 col4\" >0.7304</td>\n      <td id=\"T_78446_row3_col5\" class=\"data row3 col5\" >0.7211</td>\n      <td id=\"T_78446_row3_col6\" class=\"data row3 col6\" >0.7443</td>\n    </tr>\n    <tr>\n      <th id=\"T_78446_level0_row4\" class=\"row_heading level0 row4\" >4</th>\n      <td id=\"T_78446_row4_col0\" class=\"data row4 col0\" >0.6933</td>\n      <td id=\"T_78446_row4_col1\" class=\"data row4 col1\" >0.9392</td>\n      <td id=\"T_78446_row4_col2\" class=\"data row4 col2\" >0.5821</td>\n      <td id=\"T_78446_row4_col3\" class=\"data row4 col3\" >0.6824</td>\n      <td id=\"T_78446_row4_col4\" class=\"data row4 col4\" >0.6295</td>\n      <td id=\"T_78446_row4_col5\" class=\"data row4 col5\" >0.5973</td>\n      <td id=\"T_78446_row4_col6\" class=\"data row4 col6\" >0.6259</td>\n    </tr>\n    <tr>\n      <th id=\"T_78446_level0_row5\" class=\"row_heading level0 row5\" >5</th>\n      <td id=\"T_78446_row5_col0\" class=\"data row5 col0\" >0.7333</td>\n      <td id=\"T_78446_row5_col1\" class=\"data row5 col1\" >0.9598</td>\n      <td id=\"T_78446_row5_col2\" class=\"data row5 col2\" >0.6420</td>\n      <td id=\"T_78446_row5_col3\" class=\"data row5 col3\" >0.7950</td>\n      <td id=\"T_78446_row5_col4\" class=\"data row5 col4\" >0.6928</td>\n      <td id=\"T_78446_row5_col5\" class=\"data row5 col5\" >0.6513</td>\n      <td id=\"T_78446_row5_col6\" class=\"data row5 col6\" >0.6699</td>\n    </tr>\n    <tr>\n      <th id=\"T_78446_level0_row6\" class=\"row_heading level0 row6\" >6</th>\n      <td id=\"T_78446_row6_col0\" class=\"data row6 col0\" >0.8133</td>\n      <td id=\"T_78446_row6_col1\" class=\"data row6 col1\" >0.9902</td>\n      <td id=\"T_78446_row6_col2\" class=\"data row6 col2\" >0.7506</td>\n      <td id=\"T_78446_row6_col3\" class=\"data row6 col3\" >0.8669</td>\n      <td id=\"T_78446_row6_col4\" class=\"data row6 col4\" >0.7754</td>\n      <td id=\"T_78446_row6_col5\" class=\"data row6 col5\" >0.7567</td>\n      <td id=\"T_78446_row6_col6\" class=\"data row6 col6\" >0.7737</td>\n    </tr>\n    <tr>\n      <th id=\"T_78446_level0_row7\" class=\"row_heading level0 row7\" >7</th>\n      <td id=\"T_78446_row7_col0\" class=\"data row7 col0\" >0.7200</td>\n      <td id=\"T_78446_row7_col1\" class=\"data row7 col1\" >0.9557</td>\n      <td id=\"T_78446_row7_col2\" class=\"data row7 col2\" >0.6344</td>\n      <td id=\"T_78446_row7_col3\" class=\"data row7 col3\" >0.7890</td>\n      <td id=\"T_78446_row7_col4\" class=\"data row7 col4\" >0.6866</td>\n      <td id=\"T_78446_row7_col5\" class=\"data row7 col5\" >0.6342</td>\n      <td id=\"T_78446_row7_col6\" class=\"data row7 col6\" >0.6512</td>\n    </tr>\n    <tr>\n      <th id=\"T_78446_level0_row8\" class=\"row_heading level0 row8\" >8</th>\n      <td id=\"T_78446_row8_col0\" class=\"data row8 col0\" >0.6892</td>\n      <td id=\"T_78446_row8_col1\" class=\"data row8 col1\" >0.9704</td>\n      <td id=\"T_78446_row8_col2\" class=\"data row8 col2\" >0.5869</td>\n      <td id=\"T_78446_row8_col3\" class=\"data row8 col3\" >0.7401</td>\n      <td id=\"T_78446_row8_col4\" class=\"data row8 col4\" >0.6487</td>\n      <td id=\"T_78446_row8_col5\" class=\"data row8 col5\" >0.5937</td>\n      <td id=\"T_78446_row8_col6\" class=\"data row8 col6\" >0.6115</td>\n    </tr>\n    <tr>\n      <th id=\"T_78446_level0_row9\" class=\"row_heading level0 row9\" >9</th>\n      <td id=\"T_78446_row9_col0\" class=\"data row9 col0\" >0.7297</td>\n      <td id=\"T_78446_row9_col1\" class=\"data row9 col1\" >0.9457</td>\n      <td id=\"T_78446_row9_col2\" class=\"data row9 col2\" >0.6486</td>\n      <td id=\"T_78446_row9_col3\" class=\"data row9 col3\" >0.7689</td>\n      <td id=\"T_78446_row9_col4\" class=\"data row9 col4\" >0.7241</td>\n      <td id=\"T_78446_row9_col5\" class=\"data row9 col5\" >0.6460</td>\n      <td id=\"T_78446_row9_col6\" class=\"data row9 col6\" >0.6566</td>\n    </tr>\n    <tr>\n      <th id=\"T_78446_level0_row10\" class=\"row_heading level0 row10\" >Mean</th>\n      <td id=\"T_78446_row10_col0\" class=\"data row10 col0\" >0.7366</td>\n      <td id=\"T_78446_row10_col1\" class=\"data row10 col1\" >0.9609</td>\n      <td id=\"T_78446_row10_col2\" class=\"data row10 col2\" >0.6495</td>\n      <td id=\"T_78446_row10_col3\" class=\"data row10 col3\" >0.7528</td>\n      <td id=\"T_78446_row10_col4\" class=\"data row10 col4\" >0.6951</td>\n      <td id=\"T_78446_row10_col5\" class=\"data row10 col5\" >0.6554</td>\n      <td id=\"T_78446_row10_col6\" class=\"data row10 col6\" >0.6760</td>\n    </tr>\n    <tr>\n      <th id=\"T_78446_level0_row11\" class=\"row_heading level0 row11\" >SD</th>\n      <td id=\"T_78446_row11_col0\" class=\"data row11 col0\" >0.0418</td>\n      <td id=\"T_78446_row11_col1\" class=\"data row11 col1\" >0.0156</td>\n      <td id=\"T_78446_row11_col2\" class=\"data row11 col2\" >0.0510</td>\n      <td id=\"T_78446_row11_col3\" class=\"data row11 col3\" >0.0690</td>\n      <td id=\"T_78446_row11_col4\" class=\"data row11 col4\" >0.0431</td>\n      <td id=\"T_78446_row11_col5\" class=\"data row11 col5\" >0.0549</td>\n      <td id=\"T_78446_row11_col6\" class=\"data row11 col6\" >0.0548</td>\n    </tr>\n  </tbody>\n</table>\n"
     },
     "metadata": {},
     "output_type": "display_data"
    }
   ],
   "source": [
    "best_model = create_model(\"lr\")"
   ]
  },
  {
   "cell_type": "code",
   "execution_count": 6,
   "outputs": [
    {
     "data": {
      "text/plain": "LinearRegression(n_jobs=-1)"
     },
     "execution_count": 6,
     "metadata": {},
     "output_type": "execute_result"
    }
   ],
   "source": [
    "best_model"
   ],
   "metadata": {
    "collapsed": false,
    "pycharm": {
     "name": "#%%\n"
    }
   }
  },
  {
   "cell_type": "code",
   "execution_count": 7,
   "outputs": [
    {
     "name": "stdout",
     "output_type": "stream",
     "text": [
      "Pipeline(memory=Memory(location=C:\\Users\\Mavs\\AppData\\Local\\Temp\\joblib),\n",
      "         steps=[('text_embedding',\n",
      "                 TransfomerWrapper(include=['Purchase'], transformer=EmbedTextFeatures())),\n",
      "                ('ordinal_encoding',\n",
      "                 TransfomerWrapper(include=['Store7'], transformer=OrdinalEncoder(cols=['Store7'], handle_missing='return_nan', mapping=[{'col': 'Store7', 'mapping': {nan: -1, 'No': 1, '...\n",
      "                 TransfomerWrapper(transformer=RemoveOutliers(method='lof', threshold=0.5))),\n",
      "                ('normalize', TransfomerWrapper(transformer=StandardScaler())),\n",
      "                ('feature_selection',\n",
      "                 TransfomerWrapper(exclude=['SalePriceCH'], transformer=SelectFromModel(estimator=RandomForestRegressor(), max_features=7, threshold=-inf))),\n",
      "                ('pca', TransfomerWrapper(transformer=PCA(n_components=5)))])\n"
     ]
    },
    {
     "ename": "KeyError",
     "evalue": "'label_encoder'",
     "output_type": "error",
     "traceback": [
      "\u001B[1;31m---------------------------------------------------------------------------\u001B[0m",
      "\u001B[1;31mKeyError\u001B[0m                                  Traceback (most recent call last)",
      "\u001B[1;32m<ipython-input-7-fdadb9f28958>\u001B[0m in \u001B[0;36m<module>\u001B[1;34m\u001B[0m\n\u001B[0;32m      2\u001B[0m \u001B[1;32mfrom\u001B[0m \u001B[0msklearn\u001B[0m\u001B[1;33m.\u001B[0m\u001B[0mdecomposition\u001B[0m \u001B[1;32mimport\u001B[0m \u001B[0mPCA\u001B[0m\u001B[1;33m\u001B[0m\u001B[1;33m\u001B[0m\u001B[0m\n\u001B[0;32m      3\u001B[0m \u001B[1;33m\u001B[0m\u001B[0m\n\u001B[1;32m----> 4\u001B[1;33m \u001B[0mpy\u001B[0m\u001B[1;33m.\u001B[0m\u001B[0mpredict_model\u001B[0m\u001B[1;33m(\u001B[0m\u001B[0mbest_model\u001B[0m\u001B[1;33m)\u001B[0m\u001B[1;33m\u001B[0m\u001B[1;33m\u001B[0m\u001B[0m\n\u001B[0m\u001B[0;32m      5\u001B[0m \u001B[1;33m\u001B[0m\u001B[0m\n",
      "\u001B[1;32m~\\Documents\\Python\\pycaret\\pycaret\\internal\\pycaret_experiment\\regression_experiment.py\u001B[0m in \u001B[0;36mpredict_model\u001B[1;34m(self, estimator, data, round, verbose)\u001B[0m\n\u001B[0;32m   1150\u001B[0m         \"\"\"\n\u001B[0;32m   1151\u001B[0m \u001B[1;33m\u001B[0m\u001B[0m\n\u001B[1;32m-> 1152\u001B[1;33m         return super().predict_model(\n\u001B[0m\u001B[0;32m   1153\u001B[0m             \u001B[0mestimator\u001B[0m\u001B[1;33m=\u001B[0m\u001B[0mestimator\u001B[0m\u001B[1;33m,\u001B[0m\u001B[1;33m\u001B[0m\u001B[1;33m\u001B[0m\u001B[0m\n\u001B[0;32m   1154\u001B[0m             \u001B[0mdata\u001B[0m\u001B[1;33m=\u001B[0m\u001B[0mdata\u001B[0m\u001B[1;33m,\u001B[0m\u001B[1;33m\u001B[0m\u001B[1;33m\u001B[0m\u001B[0m\n",
      "\u001B[1;32m~\\Documents\\Python\\pycaret\\pycaret\\internal\\pycaret_experiment\\supervised_experiment.py\u001B[0m in \u001B[0;36mpredict_model\u001B[1;34m(self, estimator, data, probability_threshold, encoded_labels, raw_score, round, verbose, ml_usecase, display)\u001B[0m\n\u001B[0;32m   4606\u001B[0m             \u001B[0my_test_\u001B[0m \u001B[1;33m=\u001B[0m \u001B[0mself\u001B[0m\u001B[1;33m.\u001B[0m\u001B[0my_test\u001B[0m\u001B[1;33m.\u001B[0m\u001B[0mcopy\u001B[0m\u001B[1;33m(\u001B[0m\u001B[1;33m)\u001B[0m\u001B[1;33m\u001B[0m\u001B[1;33m\u001B[0m\u001B[0m\n\u001B[0;32m   4607\u001B[0m \u001B[1;33m\u001B[0m\u001B[0m\n\u001B[1;32m-> 4608\u001B[1;33m             \u001B[0mdtypes\u001B[0m \u001B[1;33m=\u001B[0m \u001B[0mself\u001B[0m\u001B[1;33m.\u001B[0m\u001B[0m_internal_pipeline\u001B[0m\u001B[1;33m.\u001B[0m\u001B[0mnamed_steps\u001B[0m\u001B[1;33m[\u001B[0m\u001B[1;34m\"label_encoder\"\u001B[0m\u001B[1;33m]\u001B[0m\u001B[1;33m\u001B[0m\u001B[1;33m\u001B[0m\u001B[0m\n\u001B[0m\u001B[0;32m   4609\u001B[0m \u001B[1;33m\u001B[0m\u001B[0m\n\u001B[0;32m   4610\u001B[0m             \u001B[0mX_test_\u001B[0m\u001B[1;33m.\u001B[0m\u001B[0mreset_index\u001B[0m\u001B[1;33m(\u001B[0m\u001B[0mdrop\u001B[0m\u001B[1;33m=\u001B[0m\u001B[1;32mTrue\u001B[0m\u001B[1;33m,\u001B[0m \u001B[0minplace\u001B[0m\u001B[1;33m=\u001B[0m\u001B[1;32mTrue\u001B[0m\u001B[1;33m)\u001B[0m\u001B[1;33m\u001B[0m\u001B[1;33m\u001B[0m\u001B[0m\n",
      "\u001B[1;31mKeyError\u001B[0m: 'label_encoder'"
     ]
    }
   ],
   "source": [
    "py.predict_model(best_model)"
   ],
   "metadata": {
    "collapsed": false,
    "pycharm": {
     "name": "#%%\n"
    }
   }
  },
  {
   "cell_type": "code",
   "execution_count": null,
   "outputs": [],
   "source": [],
   "metadata": {
    "collapsed": false,
    "pycharm": {
     "name": "#%%\n"
    }
   }
  }
 ],
 "metadata": {
  "kernelspec": {
   "display_name": "Python 3",
   "language": "python",
   "name": "python3"
  },
  "language_info": {
   "codemirror_mode": {
    "name": "ipython",
    "version": 3
   },
   "file_extension": ".py",
   "mimetype": "text/x-python",
   "name": "python",
   "nbconvert_exporter": "python",
   "pygments_lexer": "ipython3",
   "version": "3.8.3"
  }
 },
 "nbformat": 4,
 "nbformat_minor": 4
}