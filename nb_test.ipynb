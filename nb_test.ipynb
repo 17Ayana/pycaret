{
 "cells": [
  {
   "cell_type": "code",
   "execution_count": 1,
   "metadata": {},
   "outputs": [],
   "source": [
    "from pycaret.classification import *\n",
    "from sklearn.decomposition import PCA\n",
    "from sklearn.datasets import fetch_20newsgroups"
   ]
  },
  {
   "cell_type": "code",
   "execution_count": 2,
   "outputs": [
    {
     "data": {
      "text/plain": "   Id Purchase  WeekofPurchase  StoreID  PriceCH  PriceMM  DiscCH  DiscMM  \\\n0   1       CH             237        1     1.75     1.99    0.00     0.0   \n1   2       CH             239        1     1.75     1.99    0.00     0.3   \n2   3       CH             245        1     1.86     2.09    0.17     0.0   \n3   4       MM             227        1     1.69     1.69    0.00     0.0   \n4   5       CH             228        7     1.69     1.69    0.00     0.0   \n\n   SpecialCH  SpecialMM   LoyalCH  SalePriceMM  SalePriceCH  PriceDiff Store7  \\\n0          0          0  0.500000         1.99         1.75       0.24     No   \n1          0          1  0.600000         1.69         1.75      -0.06     No   \n2          0          0  0.680000         2.09         1.69       0.40     No   \n3          0          0  0.400000         1.69         1.69       0.00     No   \n4          0          0  0.956535         1.69         1.69       0.00    Yes   \n\n   PctDiscMM  PctDiscCH  ListPriceDiff  STORE  \n0   0.000000   0.000000           0.24      1  \n1   0.150754   0.000000           0.24      1  \n2   0.000000   0.091398           0.23      1  \n3   0.000000   0.000000           0.00      1  \n4   0.000000   0.000000           0.00      0  ",
      "text/html": "<div>\n<style scoped>\n    .dataframe tbody tr th:only-of-type {\n        vertical-align: middle;\n    }\n\n    .dataframe tbody tr th {\n        vertical-align: top;\n    }\n\n    .dataframe thead th {\n        text-align: right;\n    }\n</style>\n<table border=\"1\" class=\"dataframe\">\n  <thead>\n    <tr style=\"text-align: right;\">\n      <th></th>\n      <th>Id</th>\n      <th>Purchase</th>\n      <th>WeekofPurchase</th>\n      <th>StoreID</th>\n      <th>PriceCH</th>\n      <th>PriceMM</th>\n      <th>DiscCH</th>\n      <th>DiscMM</th>\n      <th>SpecialCH</th>\n      <th>SpecialMM</th>\n      <th>LoyalCH</th>\n      <th>SalePriceMM</th>\n      <th>SalePriceCH</th>\n      <th>PriceDiff</th>\n      <th>Store7</th>\n      <th>PctDiscMM</th>\n      <th>PctDiscCH</th>\n      <th>ListPriceDiff</th>\n      <th>STORE</th>\n    </tr>\n  </thead>\n  <tbody>\n    <tr>\n      <th>0</th>\n      <td>1</td>\n      <td>CH</td>\n      <td>237</td>\n      <td>1</td>\n      <td>1.75</td>\n      <td>1.99</td>\n      <td>0.00</td>\n      <td>0.0</td>\n      <td>0</td>\n      <td>0</td>\n      <td>0.500000</td>\n      <td>1.99</td>\n      <td>1.75</td>\n      <td>0.24</td>\n      <td>No</td>\n      <td>0.000000</td>\n      <td>0.000000</td>\n      <td>0.24</td>\n      <td>1</td>\n    </tr>\n    <tr>\n      <th>1</th>\n      <td>2</td>\n      <td>CH</td>\n      <td>239</td>\n      <td>1</td>\n      <td>1.75</td>\n      <td>1.99</td>\n      <td>0.00</td>\n      <td>0.3</td>\n      <td>0</td>\n      <td>1</td>\n      <td>0.600000</td>\n      <td>1.69</td>\n      <td>1.75</td>\n      <td>-0.06</td>\n      <td>No</td>\n      <td>0.150754</td>\n      <td>0.000000</td>\n      <td>0.24</td>\n      <td>1</td>\n    </tr>\n    <tr>\n      <th>2</th>\n      <td>3</td>\n      <td>CH</td>\n      <td>245</td>\n      <td>1</td>\n      <td>1.86</td>\n      <td>2.09</td>\n      <td>0.17</td>\n      <td>0.0</td>\n      <td>0</td>\n      <td>0</td>\n      <td>0.680000</td>\n      <td>2.09</td>\n      <td>1.69</td>\n      <td>0.40</td>\n      <td>No</td>\n      <td>0.000000</td>\n      <td>0.091398</td>\n      <td>0.23</td>\n      <td>1</td>\n    </tr>\n    <tr>\n      <th>3</th>\n      <td>4</td>\n      <td>MM</td>\n      <td>227</td>\n      <td>1</td>\n      <td>1.69</td>\n      <td>1.69</td>\n      <td>0.00</td>\n      <td>0.0</td>\n      <td>0</td>\n      <td>0</td>\n      <td>0.400000</td>\n      <td>1.69</td>\n      <td>1.69</td>\n      <td>0.00</td>\n      <td>No</td>\n      <td>0.000000</td>\n      <td>0.000000</td>\n      <td>0.00</td>\n      <td>1</td>\n    </tr>\n    <tr>\n      <th>4</th>\n      <td>5</td>\n      <td>CH</td>\n      <td>228</td>\n      <td>7</td>\n      <td>1.69</td>\n      <td>1.69</td>\n      <td>0.00</td>\n      <td>0.0</td>\n      <td>0</td>\n      <td>0</td>\n      <td>0.956535</td>\n      <td>1.69</td>\n      <td>1.69</td>\n      <td>0.00</td>\n      <td>Yes</td>\n      <td>0.000000</td>\n      <td>0.000000</td>\n      <td>0.00</td>\n      <td>0</td>\n    </tr>\n  </tbody>\n</table>\n</div>"
     },
     "metadata": {},
     "output_type": "display_data"
    },
    {
     "name": "stdout",
     "output_type": "stream",
     "text": [
      "(1070, 19)\n"
     ]
    }
   ],
   "source": [
    "from pycaret.datasets import get_data\n",
    "dataset = get_data('juice')\n",
    "\n",
    "print(dataset.shape)"
   ],
   "metadata": {
    "collapsed": false,
    "pycharm": {
     "name": "#%%\n"
    }
   }
  },
  {
   "cell_type": "code",
   "execution_count": 3,
   "metadata": {},
   "outputs": [
    {
     "name": "stdout",
     "output_type": "stream",
     "text": [
      "<pandas.io.formats.style.Styler object at 0x000001CC67519910>\n"
     ]
    }
   ],
   "source": [
    "py = setup(\n",
    "    data=dataset,\n",
    "    target='STORE',\n",
    "    session_id=123,\n",
    "    experiment_name=None,\n",
    "    text_features=[\"Purchase\"],\n",
    "    ignore_features=[\"Id\"],\n",
    "    keep_features=[\"SalePriceCH\"],\n",
    "    preprocess=True,\n",
    "    imputation_type='simple',\n",
    "    numeric_iterative_imputer='lightgbm',\n",
    "    categorical_iterative_imputer='lightgbm',\n",
    "    max_encoding_ohe=5,\n",
    "    remove_multicollinearity=True,\n",
    "    multicollinearity_threshold=0.8,\n",
    "    bin_numeric_features=[\"PriceMM\"],\n",
    "    remove_outliers=True,\n",
    "    outliers_method=\"lof\",\n",
    "    outliers_threshold=0.5,\n",
    "    normalize=True,\n",
    "    feature_selection=True,\n",
    "    feature_selection_method=\"classic\",\n",
    "    feature_selection_estimator=\"rf\",\n",
    "    n_features_to_select=7,\n",
    "    custom_pipeline=[(\"pca\", PCA(n_components=5))],\n",
    "    system_log=False,\n",
    "    memory=False,\n",
    ")"
   ]
  },
  {
   "cell_type": "code",
   "execution_count": 4,
   "outputs": [
    {
     "name": "stdout",
     "output_type": "stream",
     "text": [
      "Pipeline(steps=[('text_embedding',\n",
      "                 TransfomerWrapper(include=['Purchase'], transformer=EmbedTextFeatures())),\n",
      "                ('ordinal_encoding',\n",
      "                 TransfomerWrapper(include=['Store7'], transformer=OrdinalEncoder(cols=['Store7'], handle_missing='return_nan', mapping=[{'col': 'Store7', 'mapping': {nan: -1, 'No': 1, 'Yes': 0}}]))),\n",
      "                ('remove_multicollinearity',\n",
      "                 TransfomerWrapper(exclu...\n",
      "                 TransfomerWrapper(transformer=RemoveOutliers(method='lof', threshold=0.5))),\n",
      "                ('normalize', TransfomerWrapper(transformer=StandardScaler())),\n",
      "                ('feature_selection',\n",
      "                 TransfomerWrapper(exclude=['SalePriceCH'], transformer=SelectFromModel(estimator=RandomForestClassifier(), max_features=7, threshold=-inf))),\n",
      "                ('pca', TransfomerWrapper(transformer=PCA(n_components=5)))])\n",
      "      Feature 1  Feature 2  Feature 3  Feature 4  Feature 5\n",
      "0      1.249744  -0.546059  -0.845238   2.257786  -0.616256\n",
      "1     -0.681338  -0.498737  -1.219027  -0.237501   0.793163\n",
      "2      2.431728  -2.364223   0.246687  -0.151916  -1.210116\n",
      "3     -1.311132   0.225220   0.610778  -0.557254   0.632643\n",
      "4      2.573683  -0.097374  -0.043893   1.256860   0.454475\n",
      "...         ...        ...        ...        ...        ...\n",
      "1065  -0.000991  -2.733046  -0.043933  -2.025927   0.341325\n",
      "1066  -0.927513  -2.481361   0.342970   0.637318   0.165332\n",
      "1067   3.057647   0.346645  -0.203370  -0.253351   0.312685\n",
      "1068  -0.148331  -1.729234  -0.577248  -0.983576  -0.170695\n",
      "1069   2.651902  -0.067953  -0.066827   0.976729   0.379551\n",
      "\n",
      "[1070 rows x 5 columns]\n",
      "(1070, 5)\n"
     ]
    }
   ],
   "source": [
    "a = py.pipeline\n",
    "print(a)\n",
    "a.fit(py.X, py.y)\n",
    "X, y = a.transform(py.X, py.y)\n",
    "print(X)\n",
    "print(X.shape)"
   ],
   "metadata": {
    "collapsed": false,
    "pycharm": {
     "name": "#%%\n"
    }
   }
  },
  {
   "cell_type": "code",
   "execution_count": 5,
   "outputs": [
    {
     "data": {
      "text/plain": "<pandas.io.formats.style.Styler at 0x1cc6986d580>",
      "text/html": "<style type=\"text/css\">\n#T_e2b42_row10_col0, #T_e2b42_row10_col1, #T_e2b42_row10_col2, #T_e2b42_row10_col3, #T_e2b42_row10_col4, #T_e2b42_row10_col5, #T_e2b42_row10_col6 {\n  background: yellow;\n}\n</style>\n<table id=\"T_e2b42_\">\n  <thead>\n    <tr>\n      <th class=\"blank level0\" >&nbsp;</th>\n      <th class=\"col_heading level0 col0\" >Accuracy</th>\n      <th class=\"col_heading level0 col1\" >AUC</th>\n      <th class=\"col_heading level0 col2\" >Recall</th>\n      <th class=\"col_heading level0 col3\" >Prec.</th>\n      <th class=\"col_heading level0 col4\" >F1</th>\n      <th class=\"col_heading level0 col5\" >Kappa</th>\n      <th class=\"col_heading level0 col6\" >MCC</th>\n    </tr>\n  </thead>\n  <tbody>\n    <tr>\n      <th id=\"T_e2b42_level0_row0\" class=\"row_heading level0 row0\" >0</th>\n      <td id=\"T_e2b42_row0_col0\" class=\"data row0 col0\" >0.7733</td>\n      <td id=\"T_e2b42_row0_col1\" class=\"data row0 col1\" >0.9760</td>\n      <td id=\"T_e2b42_row0_col2\" class=\"data row0 col2\" >0.6867</td>\n      <td id=\"T_e2b42_row0_col3\" class=\"data row0 col3\" >0.7145</td>\n      <td id=\"T_e2b42_row0_col4\" class=\"data row0 col4\" >0.7176</td>\n      <td id=\"T_e2b42_row0_col5\" class=\"data row0 col5\" >0.7036</td>\n      <td id=\"T_e2b42_row0_col6\" class=\"data row0 col6\" >0.7304</td>\n    </tr>\n    <tr>\n      <th id=\"T_e2b42_level0_row1\" class=\"row_heading level0 row1\" >1</th>\n      <td id=\"T_e2b42_row1_col0\" class=\"data row1 col0\" >0.6800</td>\n      <td id=\"T_e2b42_row1_col1\" class=\"data row1 col1\" >0.9415</td>\n      <td id=\"T_e2b42_row1_col2\" class=\"data row1 col2\" >0.6000</td>\n      <td id=\"T_e2b42_row1_col3\" class=\"data row1 col3\" >0.6287</td>\n      <td id=\"T_e2b42_row1_col4\" class=\"data row1 col4\" >0.6412</td>\n      <td id=\"T_e2b42_row1_col5\" class=\"data row1 col5\" >0.5821</td>\n      <td id=\"T_e2b42_row1_col6\" class=\"data row1 col6\" >0.6055</td>\n    </tr>\n    <tr>\n      <th id=\"T_e2b42_level0_row2\" class=\"row_heading level0 row2\" >2</th>\n      <td id=\"T_e2b42_row2_col0\" class=\"data row2 col0\" >0.8267</td>\n      <td id=\"T_e2b42_row2_col1\" class=\"data row2 col1\" >0.9883</td>\n      <td id=\"T_e2b42_row2_col2\" class=\"data row2 col2\" >0.7545</td>\n      <td id=\"T_e2b42_row2_col3\" class=\"data row2 col3\" >0.8813</td>\n      <td id=\"T_e2b42_row2_col4\" class=\"data row2 col4\" >0.8014</td>\n      <td id=\"T_e2b42_row2_col5\" class=\"data row2 col5\" >0.7736</td>\n      <td id=\"T_e2b42_row2_col6\" class=\"data row2 col6\" >0.7903</td>\n    </tr>\n    <tr>\n      <th id=\"T_e2b42_level0_row3\" class=\"row_heading level0 row3\" >3</th>\n      <td id=\"T_e2b42_row3_col0\" class=\"data row3 col0\" >0.7867</td>\n      <td id=\"T_e2b42_row3_col1\" class=\"data row3 col1\" >0.9733</td>\n      <td id=\"T_e2b42_row3_col2\" class=\"data row3 col2\" >0.7057</td>\n      <td id=\"T_e2b42_row3_col3\" class=\"data row3 col3\" >0.7057</td>\n      <td id=\"T_e2b42_row3_col4\" class=\"data row3 col4\" >0.7304</td>\n      <td id=\"T_e2b42_row3_col5\" class=\"data row3 col5\" >0.7211</td>\n      <td id=\"T_e2b42_row3_col6\" class=\"data row3 col6\" >0.7443</td>\n    </tr>\n    <tr>\n      <th id=\"T_e2b42_level0_row4\" class=\"row_heading level0 row4\" >4</th>\n      <td id=\"T_e2b42_row4_col0\" class=\"data row4 col0\" >0.6400</td>\n      <td id=\"T_e2b42_row4_col1\" class=\"data row4 col1\" >0.9215</td>\n      <td id=\"T_e2b42_row4_col2\" class=\"data row4 col2\" >0.5388</td>\n      <td id=\"T_e2b42_row4_col3\" class=\"data row4 col3\" >0.7822</td>\n      <td id=\"T_e2b42_row4_col4\" class=\"data row4 col4\" >0.6057</td>\n      <td id=\"T_e2b42_row4_col5\" class=\"data row4 col5\" >0.5285</td>\n      <td id=\"T_e2b42_row4_col6\" class=\"data row4 col6\" >0.5525</td>\n    </tr>\n    <tr>\n      <th id=\"T_e2b42_level0_row5\" class=\"row_heading level0 row5\" >5</th>\n      <td id=\"T_e2b42_row5_col0\" class=\"data row5 col0\" >0.7333</td>\n      <td id=\"T_e2b42_row5_col1\" class=\"data row5 col1\" >0.9598</td>\n      <td id=\"T_e2b42_row5_col2\" class=\"data row5 col2\" >0.6420</td>\n      <td id=\"T_e2b42_row5_col3\" class=\"data row5 col3\" >0.7950</td>\n      <td id=\"T_e2b42_row5_col4\" class=\"data row5 col4\" >0.6928</td>\n      <td id=\"T_e2b42_row5_col5\" class=\"data row5 col5\" >0.6513</td>\n      <td id=\"T_e2b42_row5_col6\" class=\"data row5 col6\" >0.6699</td>\n    </tr>\n    <tr>\n      <th id=\"T_e2b42_level0_row6\" class=\"row_heading level0 row6\" >6</th>\n      <td id=\"T_e2b42_row6_col0\" class=\"data row6 col0\" >0.8133</td>\n      <td id=\"T_e2b42_row6_col1\" class=\"data row6 col1\" >0.9902</td>\n      <td id=\"T_e2b42_row6_col2\" class=\"data row6 col2\" >0.7506</td>\n      <td id=\"T_e2b42_row6_col3\" class=\"data row6 col3\" >0.8669</td>\n      <td id=\"T_e2b42_row6_col4\" class=\"data row6 col4\" >0.7754</td>\n      <td id=\"T_e2b42_row6_col5\" class=\"data row6 col5\" >0.7567</td>\n      <td id=\"T_e2b42_row6_col6\" class=\"data row6 col6\" >0.7737</td>\n    </tr>\n    <tr>\n      <th id=\"T_e2b42_level0_row7\" class=\"row_heading level0 row7\" >7</th>\n      <td id=\"T_e2b42_row7_col0\" class=\"data row7 col0\" >0.7200</td>\n      <td id=\"T_e2b42_row7_col1\" class=\"data row7 col1\" >0.9557</td>\n      <td id=\"T_e2b42_row7_col2\" class=\"data row7 col2\" >0.6344</td>\n      <td id=\"T_e2b42_row7_col3\" class=\"data row7 col3\" >0.7890</td>\n      <td id=\"T_e2b42_row7_col4\" class=\"data row7 col4\" >0.6866</td>\n      <td id=\"T_e2b42_row7_col5\" class=\"data row7 col5\" >0.6342</td>\n      <td id=\"T_e2b42_row7_col6\" class=\"data row7 col6\" >0.6512</td>\n    </tr>\n    <tr>\n      <th id=\"T_e2b42_level0_row8\" class=\"row_heading level0 row8\" >8</th>\n      <td id=\"T_e2b42_row8_col0\" class=\"data row8 col0\" >0.6892</td>\n      <td id=\"T_e2b42_row8_col1\" class=\"data row8 col1\" >0.9704</td>\n      <td id=\"T_e2b42_row8_col2\" class=\"data row8 col2\" >0.5869</td>\n      <td id=\"T_e2b42_row8_col3\" class=\"data row8 col3\" >0.7401</td>\n      <td id=\"T_e2b42_row8_col4\" class=\"data row8 col4\" >0.6487</td>\n      <td id=\"T_e2b42_row8_col5\" class=\"data row8 col5\" >0.5937</td>\n      <td id=\"T_e2b42_row8_col6\" class=\"data row8 col6\" >0.6115</td>\n    </tr>\n    <tr>\n      <th id=\"T_e2b42_level0_row9\" class=\"row_heading level0 row9\" >9</th>\n      <td id=\"T_e2b42_row9_col0\" class=\"data row9 col0\" >0.8108</td>\n      <td id=\"T_e2b42_row9_col1\" class=\"data row9 col1\" >0.9726</td>\n      <td id=\"T_e2b42_row9_col2\" class=\"data row9 col2\" >0.7495</td>\n      <td id=\"T_e2b42_row9_col3\" class=\"data row9 col3\" >0.8553</td>\n      <td id=\"T_e2b42_row9_col4\" class=\"data row9 col4\" >0.8088</td>\n      <td id=\"T_e2b42_row9_col5\" class=\"data row9 col5\" >0.7526</td>\n      <td id=\"T_e2b42_row9_col6\" class=\"data row9 col6\" >0.7613</td>\n    </tr>\n    <tr>\n      <th id=\"T_e2b42_level0_row10\" class=\"row_heading level0 row10\" >Mean</th>\n      <td id=\"T_e2b42_row10_col0\" class=\"data row10 col0\" >0.7473</td>\n      <td id=\"T_e2b42_row10_col1\" class=\"data row10 col1\" >0.9649</td>\n      <td id=\"T_e2b42_row10_col2\" class=\"data row10 col2\" >0.6649</td>\n      <td id=\"T_e2b42_row10_col3\" class=\"data row10 col3\" >0.7759</td>\n      <td id=\"T_e2b42_row10_col4\" class=\"data row10 col4\" >0.7109</td>\n      <td id=\"T_e2b42_row10_col5\" class=\"data row10 col5\" >0.6697</td>\n      <td id=\"T_e2b42_row10_col6\" class=\"data row10 col6\" >0.6891</td>\n    </tr>\n    <tr>\n      <th id=\"T_e2b42_level0_row11\" class=\"row_heading level0 row11\" >SD</th>\n      <td id=\"T_e2b42_row11_col0\" class=\"data row11 col0\" >0.0611</td>\n      <td id=\"T_e2b42_row11_col1\" class=\"data row11 col1\" >0.0200</td>\n      <td id=\"T_e2b42_row11_col2\" class=\"data row11 col2\" >0.0724</td>\n      <td id=\"T_e2b42_row11_col3\" class=\"data row11 col3\" >0.0761</td>\n      <td id=\"T_e2b42_row11_col4\" class=\"data row11 col4\" >0.0656</td>\n      <td id=\"T_e2b42_row11_col5\" class=\"data row11 col5\" >0.0800</td>\n      <td id=\"T_e2b42_row11_col6\" class=\"data row11 col6\" >0.0780</td>\n    </tr>\n  </tbody>\n</table>\n"
     },
     "metadata": {},
     "output_type": "display_data"
    }
   ],
   "source": [
    "best_model = create_model(\"lr\")"
   ],
   "metadata": {
    "collapsed": false,
    "pycharm": {
     "name": "#%%\n"
    }
   }
  },
  {
   "cell_type": "code",
   "execution_count": 6,
   "outputs": [
    {
     "data": {
      "text/plain": "<pandas.io.formats.style.Styler at 0x1cc66690220>",
      "text/html": "<style type=\"text/css\">\n#T_2e84d_ th {\n  text-align: left;\n}\n#T_2e84d_row0_col0, #T_2e84d_row1_col0, #T_2e84d_row1_col1, #T_2e84d_row1_col2, #T_2e84d_row1_col3, #T_2e84d_row1_col4, #T_2e84d_row1_col5, #T_2e84d_row1_col6, #T_2e84d_row1_col7, #T_2e84d_row2_col0, #T_2e84d_row2_col1, #T_2e84d_row2_col2, #T_2e84d_row2_col3, #T_2e84d_row2_col4, #T_2e84d_row2_col5, #T_2e84d_row2_col6, #T_2e84d_row2_col7, #T_2e84d_row3_col0, #T_2e84d_row3_col1, #T_2e84d_row3_col2, #T_2e84d_row3_col3, #T_2e84d_row3_col4, #T_2e84d_row3_col5, #T_2e84d_row3_col6, #T_2e84d_row3_col7, #T_2e84d_row4_col0, #T_2e84d_row4_col1, #T_2e84d_row4_col2, #T_2e84d_row4_col3, #T_2e84d_row4_col4, #T_2e84d_row4_col5, #T_2e84d_row4_col6, #T_2e84d_row4_col7, #T_2e84d_row5_col0, #T_2e84d_row5_col1, #T_2e84d_row5_col2, #T_2e84d_row5_col3, #T_2e84d_row5_col4, #T_2e84d_row5_col5, #T_2e84d_row5_col6, #T_2e84d_row5_col7, #T_2e84d_row6_col0, #T_2e84d_row6_col1, #T_2e84d_row6_col2, #T_2e84d_row6_col3, #T_2e84d_row6_col4, #T_2e84d_row6_col5, #T_2e84d_row6_col6, #T_2e84d_row6_col7, #T_2e84d_row7_col0, #T_2e84d_row7_col1, #T_2e84d_row7_col2, #T_2e84d_row7_col3, #T_2e84d_row7_col4, #T_2e84d_row7_col5, #T_2e84d_row7_col6, #T_2e84d_row7_col7, #T_2e84d_row8_col0, #T_2e84d_row8_col1, #T_2e84d_row8_col2, #T_2e84d_row8_col3, #T_2e84d_row8_col4, #T_2e84d_row8_col5, #T_2e84d_row8_col6, #T_2e84d_row8_col7, #T_2e84d_row9_col0, #T_2e84d_row9_col1, #T_2e84d_row9_col2, #T_2e84d_row9_col3, #T_2e84d_row9_col4, #T_2e84d_row9_col5, #T_2e84d_row9_col6, #T_2e84d_row9_col7, #T_2e84d_row10_col0, #T_2e84d_row10_col1, #T_2e84d_row10_col2, #T_2e84d_row10_col3, #T_2e84d_row10_col4, #T_2e84d_row10_col5, #T_2e84d_row10_col6, #T_2e84d_row10_col7, #T_2e84d_row11_col0, #T_2e84d_row11_col1, #T_2e84d_row11_col2, #T_2e84d_row11_col3, #T_2e84d_row11_col4, #T_2e84d_row11_col5, #T_2e84d_row11_col6, #T_2e84d_row11_col7, #T_2e84d_row12_col0, #T_2e84d_row12_col1, #T_2e84d_row12_col2, #T_2e84d_row12_col3, #T_2e84d_row12_col4, #T_2e84d_row12_col5, #T_2e84d_row12_col6, #T_2e84d_row12_col7, #T_2e84d_row13_col0, #T_2e84d_row13_col1, #T_2e84d_row13_col2, #T_2e84d_row13_col3, #T_2e84d_row13_col4, #T_2e84d_row13_col5, #T_2e84d_row13_col6, #T_2e84d_row13_col7, #T_2e84d_row14_col0, #T_2e84d_row14_col1, #T_2e84d_row14_col2, #T_2e84d_row14_col3, #T_2e84d_row14_col4, #T_2e84d_row14_col5, #T_2e84d_row14_col6, #T_2e84d_row14_col7, #T_2e84d_row15_col0, #T_2e84d_row15_col1, #T_2e84d_row15_col2, #T_2e84d_row15_col3, #T_2e84d_row15_col4, #T_2e84d_row15_col5, #T_2e84d_row15_col6, #T_2e84d_row15_col7, #T_2e84d_row16_col0, #T_2e84d_row16_col1, #T_2e84d_row16_col2, #T_2e84d_row16_col3, #T_2e84d_row16_col4, #T_2e84d_row16_col5, #T_2e84d_row16_col6, #T_2e84d_row16_col7, #T_2e84d_row17_col0, #T_2e84d_row17_col1, #T_2e84d_row17_col2, #T_2e84d_row17_col3, #T_2e84d_row17_col4, #T_2e84d_row17_col5, #T_2e84d_row17_col6, #T_2e84d_row17_col7, #T_2e84d_row18_col0, #T_2e84d_row18_col1, #T_2e84d_row18_col2, #T_2e84d_row18_col3, #T_2e84d_row18_col4, #T_2e84d_row18_col5, #T_2e84d_row18_col6, #T_2e84d_row18_col7 {\n  text-align: left;\n}\n#T_2e84d_row0_col1, #T_2e84d_row0_col2, #T_2e84d_row0_col3, #T_2e84d_row0_col4, #T_2e84d_row0_col5, #T_2e84d_row0_col6, #T_2e84d_row0_col7 {\n  text-align: left;\n  background-color: yellow;\n}\n#T_2e84d_row0_col8, #T_2e84d_row1_col8, #T_2e84d_row2_col8, #T_2e84d_row3_col8, #T_2e84d_row4_col8, #T_2e84d_row5_col8, #T_2e84d_row6_col8, #T_2e84d_row7_col8, #T_2e84d_row8_col8, #T_2e84d_row9_col8, #T_2e84d_row10_col8, #T_2e84d_row11_col8, #T_2e84d_row12_col8, #T_2e84d_row13_col8, #T_2e84d_row14_col8, #T_2e84d_row15_col8, #T_2e84d_row17_col8, #T_2e84d_row18_col8 {\n  text-align: left;\n  background-color: lightgrey;\n}\n#T_2e84d_row16_col8 {\n  text-align: left;\n  background-color: yellow;\n  background-color: lightgrey;\n}\n</style>\n<table id=\"T_2e84d_\">\n  <thead>\n    <tr>\n      <th class=\"blank level0\" >&nbsp;</th>\n      <th class=\"col_heading level0 col0\" >Model</th>\n      <th class=\"col_heading level0 col1\" >Accuracy</th>\n      <th class=\"col_heading level0 col2\" >AUC</th>\n      <th class=\"col_heading level0 col3\" >Recall</th>\n      <th class=\"col_heading level0 col4\" >Prec.</th>\n      <th class=\"col_heading level0 col5\" >F1</th>\n      <th class=\"col_heading level0 col6\" >Kappa</th>\n      <th class=\"col_heading level0 col7\" >MCC</th>\n      <th class=\"col_heading level0 col8\" >TT (Sec)</th>\n    </tr>\n  </thead>\n  <tbody>\n    <tr>\n      <th id=\"T_2e84d_level0_row0\" class=\"row_heading level0 row0\" >lda</th>\n      <td id=\"T_2e84d_row0_col0\" class=\"data row0 col0\" >Linear Discriminant Analysis</td>\n      <td id=\"T_2e84d_row0_col1\" class=\"data row0 col1\" >0.9946</td>\n      <td id=\"T_2e84d_row0_col2\" class=\"data row0 col2\" >0.9999</td>\n      <td id=\"T_2e84d_row0_col3\" class=\"data row0 col3\" >0.9925</td>\n      <td id=\"T_2e84d_row0_col4\" class=\"data row0 col4\" >0.9951</td>\n      <td id=\"T_2e84d_row0_col5\" class=\"data row0 col5\" >0.9946</td>\n      <td id=\"T_2e84d_row0_col6\" class=\"data row0 col6\" >0.9931</td>\n      <td id=\"T_2e84d_row0_col7\" class=\"data row0 col7\" >0.9932</td>\n      <td id=\"T_2e84d_row0_col8\" class=\"data row0 col8\" >0.0760</td>\n    </tr>\n    <tr>\n      <th id=\"T_2e84d_level0_row1\" class=\"row_heading level0 row1\" >qda</th>\n      <td id=\"T_2e84d_row1_col0\" class=\"data row1 col0\" >Quadratic Discriminant Analysis</td>\n      <td id=\"T_2e84d_row1_col1\" class=\"data row1 col1\" >0.9558</td>\n      <td id=\"T_2e84d_row1_col2\" class=\"data row1 col2\" >0.9878</td>\n      <td id=\"T_2e84d_row1_col3\" class=\"data row1 col3\" >0.9412</td>\n      <td id=\"T_2e84d_row1_col4\" class=\"data row1 col4\" >0.9683</td>\n      <td id=\"T_2e84d_row1_col5\" class=\"data row1 col5\" >0.9520</td>\n      <td id=\"T_2e84d_row1_col6\" class=\"data row1 col6\" >0.9427</td>\n      <td id=\"T_2e84d_row1_col7\" class=\"data row1 col7\" >0.9465</td>\n      <td id=\"T_2e84d_row1_col8\" class=\"data row1 col8\" >0.0660</td>\n    </tr>\n    <tr>\n      <th id=\"T_2e84d_level0_row2\" class=\"row_heading level0 row2\" >mlp</th>\n      <td id=\"T_2e84d_row2_col0\" class=\"data row2 col0\" >MLP Classifier</td>\n      <td id=\"T_2e84d_row2_col1\" class=\"data row2 col1\" >0.8916</td>\n      <td id=\"T_2e84d_row2_col2\" class=\"data row2 col2\" >0.9872</td>\n      <td id=\"T_2e84d_row2_col3\" class=\"data row2 col3\" >0.8569</td>\n      <td id=\"T_2e84d_row2_col4\" class=\"data row2 col4\" >0.9149</td>\n      <td id=\"T_2e84d_row2_col5\" class=\"data row2 col5\" >0.8866</td>\n      <td id=\"T_2e84d_row2_col6\" class=\"data row2 col6\" >0.8592</td>\n      <td id=\"T_2e84d_row2_col7\" class=\"data row2 col7\" >0.8658</td>\n      <td id=\"T_2e84d_row2_col8\" class=\"data row2 col8\" >0.1260</td>\n    </tr>\n    <tr>\n      <th id=\"T_2e84d_level0_row3\" class=\"row_heading level0 row3\" >et</th>\n      <td id=\"T_2e84d_row3_col0\" class=\"data row3 col0\" >Extra Trees Classifier</td>\n      <td id=\"T_2e84d_row3_col1\" class=\"data row3 col1\" >0.8408</td>\n      <td id=\"T_2e84d_row3_col2\" class=\"data row3 col2\" >0.9842</td>\n      <td id=\"T_2e84d_row3_col3\" class=\"data row3 col3\" >0.7789</td>\n      <td id=\"T_2e84d_row3_col4\" class=\"data row3 col4\" >0.8857</td>\n      <td id=\"T_2e84d_row3_col5\" class=\"data row3 col5\" >0.8186</td>\n      <td id=\"T_2e84d_row3_col6\" class=\"data row3 col6\" >0.7923</td>\n      <td id=\"T_2e84d_row3_col7\" class=\"data row3 col7\" >0.8064</td>\n      <td id=\"T_2e84d_row3_col8\" class=\"data row3 col8\" >0.0770</td>\n    </tr>\n    <tr>\n      <th id=\"T_2e84d_level0_row4\" class=\"row_heading level0 row4\" >catboost</th>\n      <td id=\"T_2e84d_row4_col0\" class=\"data row4 col0\" >CatBoost Classifier</td>\n      <td id=\"T_2e84d_row4_col1\" class=\"data row4 col1\" >0.8315</td>\n      <td id=\"T_2e84d_row4_col2\" class=\"data row4 col2\" >0.9793</td>\n      <td id=\"T_2e84d_row4_col3\" class=\"data row4 col3\" >0.7685</td>\n      <td id=\"T_2e84d_row4_col4\" class=\"data row4 col4\" >0.8669</td>\n      <td id=\"T_2e84d_row4_col5\" class=\"data row4 col5\" >0.8118</td>\n      <td id=\"T_2e84d_row4_col6\" class=\"data row4 col6\" >0.7800</td>\n      <td id=\"T_2e84d_row4_col7\" class=\"data row4 col7\" >0.7921</td>\n      <td id=\"T_2e84d_row4_col8\" class=\"data row4 col8\" >1.5010</td>\n    </tr>\n    <tr>\n      <th id=\"T_2e84d_level0_row5\" class=\"row_heading level0 row5\" >xgboost</th>\n      <td id=\"T_2e84d_row5_col0\" class=\"data row5 col0\" >Extreme Gradient Boosting</td>\n      <td id=\"T_2e84d_row5_col1\" class=\"data row5 col1\" >0.8235</td>\n      <td id=\"T_2e84d_row5_col2\" class=\"data row5 col2\" >0.9643</td>\n      <td id=\"T_2e84d_row5_col3\" class=\"data row5 col3\" >0.7669</td>\n      <td id=\"T_2e84d_row5_col4\" class=\"data row5 col4\" >0.8408</td>\n      <td id=\"T_2e84d_row5_col5\" class=\"data row5 col5\" >0.8034</td>\n      <td id=\"T_2e84d_row5_col6\" class=\"data row5 col6\" >0.7703</td>\n      <td id=\"T_2e84d_row5_col7\" class=\"data row5 col7\" >0.7812</td>\n      <td id=\"T_2e84d_row5_col8\" class=\"data row5 col8\" >0.1870</td>\n    </tr>\n    <tr>\n      <th id=\"T_2e84d_level0_row6\" class=\"row_heading level0 row6\" >rf</th>\n      <td id=\"T_2e84d_row6_col0\" class=\"data row6 col0\" >Random Forest Classifier</td>\n      <td id=\"T_2e84d_row6_col1\" class=\"data row6 col1\" >0.8143</td>\n      <td id=\"T_2e84d_row6_col2\" class=\"data row6 col2\" >0.9770</td>\n      <td id=\"T_2e84d_row6_col3\" class=\"data row6 col3\" >0.7482</td>\n      <td id=\"T_2e84d_row6_col4\" class=\"data row6 col4\" >0.8339</td>\n      <td id=\"T_2e84d_row6_col5\" class=\"data row6 col5\" >0.7856</td>\n      <td id=\"T_2e84d_row6_col6\" class=\"data row6 col6\" >0.7575</td>\n      <td id=\"T_2e84d_row6_col7\" class=\"data row6 col7\" >0.7733</td>\n      <td id=\"T_2e84d_row6_col8\" class=\"data row6 col8\" >0.0790</td>\n    </tr>\n    <tr>\n      <th id=\"T_2e84d_level0_row7\" class=\"row_heading level0 row7\" >gbc</th>\n      <td id=\"T_2e84d_row7_col0\" class=\"data row7 col0\" >Gradient Boosting Classifier</td>\n      <td id=\"T_2e84d_row7_col1\" class=\"data row7 col1\" >0.8130</td>\n      <td id=\"T_2e84d_row7_col2\" class=\"data row7 col2\" >0.9554</td>\n      <td id=\"T_2e84d_row7_col3\" class=\"data row7 col3\" >0.7521</td>\n      <td id=\"T_2e84d_row7_col4\" class=\"data row7 col4\" >0.8445</td>\n      <td id=\"T_2e84d_row7_col5\" class=\"data row7 col5\" >0.7938</td>\n      <td id=\"T_2e84d_row7_col6\" class=\"data row7 col6\" >0.7563</td>\n      <td id=\"T_2e84d_row7_col7\" class=\"data row7 col7\" >0.7686</td>\n      <td id=\"T_2e84d_row7_col8\" class=\"data row7 col8\" >0.1260</td>\n    </tr>\n    <tr>\n      <th id=\"T_2e84d_level0_row8\" class=\"row_heading level0 row8\" >lightgbm</th>\n      <td id=\"T_2e84d_row8_col0\" class=\"data row8 col0\" >Light Gradient Boosting Machine</td>\n      <td id=\"T_2e84d_row8_col1\" class=\"data row8 col1\" >0.8116</td>\n      <td id=\"T_2e84d_row8_col2\" class=\"data row8 col2\" >0.9703</td>\n      <td id=\"T_2e84d_row8_col3\" class=\"data row8 col3\" >0.7518</td>\n      <td id=\"T_2e84d_row8_col4\" class=\"data row8 col4\" >0.8338</td>\n      <td id=\"T_2e84d_row8_col5\" class=\"data row8 col5\" >0.7879</td>\n      <td id=\"T_2e84d_row8_col6\" class=\"data row8 col6\" >0.7549</td>\n      <td id=\"T_2e84d_row8_col7\" class=\"data row8 col7\" >0.7675</td>\n      <td id=\"T_2e84d_row8_col8\" class=\"data row8 col8\" >0.1350</td>\n    </tr>\n    <tr>\n      <th id=\"T_2e84d_level0_row9\" class=\"row_heading level0 row9\" >dt</th>\n      <td id=\"T_2e84d_row9_col0\" class=\"data row9 col0\" >Decision Tree Classifier</td>\n      <td id=\"T_2e84d_row9_col1\" class=\"data row9 col1\" >0.7741</td>\n      <td id=\"T_2e84d_row9_col2\" class=\"data row9 col2\" >0.8606</td>\n      <td id=\"T_2e84d_row9_col3\" class=\"data row9 col3\" >0.7197</td>\n      <td id=\"T_2e84d_row9_col4\" class=\"data row9 col4\" >0.7868</td>\n      <td id=\"T_2e84d_row9_col5\" class=\"data row9 col5\" >0.7584</td>\n      <td id=\"T_2e84d_row9_col6\" class=\"data row9 col6\" >0.7071</td>\n      <td id=\"T_2e84d_row9_col7\" class=\"data row9 col7\" >0.7163</td>\n      <td id=\"T_2e84d_row9_col8\" class=\"data row9 col8\" >0.0490</td>\n    </tr>\n    <tr>\n      <th id=\"T_2e84d_level0_row10\" class=\"row_heading level0 row10\" >svm</th>\n      <td id=\"T_2e84d_row10_col0\" class=\"data row10 col0\" >SVM - Linear Kernel</td>\n      <td id=\"T_2e84d_row10_col1\" class=\"data row10 col1\" >0.7701</td>\n      <td id=\"T_2e84d_row10_col2\" class=\"data row10 col2\" >0.0000</td>\n      <td id=\"T_2e84d_row10_col3\" class=\"data row10 col3\" >0.7040</td>\n      <td id=\"T_2e84d_row10_col4\" class=\"data row10 col4\" >0.7963</td>\n      <td id=\"T_2e84d_row10_col5\" class=\"data row10 col5\" >0.7555</td>\n      <td id=\"T_2e84d_row10_col6\" class=\"data row10 col6\" >0.7005</td>\n      <td id=\"T_2e84d_row10_col7\" class=\"data row10 col7\" >0.7135</td>\n      <td id=\"T_2e84d_row10_col8\" class=\"data row10 col8\" >0.0410</td>\n    </tr>\n    <tr>\n      <th id=\"T_2e84d_level0_row11\" class=\"row_heading level0 row11\" >knn</th>\n      <td id=\"T_2e84d_row11_col0\" class=\"data row11 col0\" >K Neighbors Classifier</td>\n      <td id=\"T_2e84d_row11_col1\" class=\"data row11 col1\" >0.7700</td>\n      <td id=\"T_2e84d_row11_col2\" class=\"data row11 col2\" >0.9329</td>\n      <td id=\"T_2e84d_row11_col3\" class=\"data row11 col3\" >0.6836</td>\n      <td id=\"T_2e84d_row11_col4\" class=\"data row11 col4\" >0.7761</td>\n      <td id=\"T_2e84d_row11_col5\" class=\"data row11 col5\" >0.7317</td>\n      <td id=\"T_2e84d_row11_col6\" class=\"data row11 col6\" >0.6992</td>\n      <td id=\"T_2e84d_row11_col7\" class=\"data row11 col7\" >0.7167</td>\n      <td id=\"T_2e84d_row11_col8\" class=\"data row11 col8\" >0.0510</td>\n    </tr>\n    <tr>\n      <th id=\"T_2e84d_level0_row12\" class=\"row_heading level0 row12\" >gpc</th>\n      <td id=\"T_2e84d_row12_col0\" class=\"data row12 col0\" >Gaussian Process Classifier</td>\n      <td id=\"T_2e84d_row12_col1\" class=\"data row12 col1\" >0.7568</td>\n      <td id=\"T_2e84d_row12_col2\" class=\"data row12 col2\" >0.9500</td>\n      <td id=\"T_2e84d_row12_col3\" class=\"data row12 col3\" >0.6623</td>\n      <td id=\"T_2e84d_row12_col4\" class=\"data row12 col4\" >0.7767</td>\n      <td id=\"T_2e84d_row12_col5\" class=\"data row12 col5\" >0.7054</td>\n      <td id=\"T_2e84d_row12_col6\" class=\"data row12 col6\" >0.6813</td>\n      <td id=\"T_2e84d_row12_col7\" class=\"data row12 col7\" >0.7037</td>\n      <td id=\"T_2e84d_row12_col8\" class=\"data row12 col8\" >1.5650</td>\n    </tr>\n    <tr>\n      <th id=\"T_2e84d_level0_row13\" class=\"row_heading level0 row13\" >lr</th>\n      <td id=\"T_2e84d_row13_col0\" class=\"data row13 col0\" >Logistic Regression</td>\n      <td id=\"T_2e84d_row13_col1\" class=\"data row13 col1\" >0.7527</td>\n      <td id=\"T_2e84d_row13_col2\" class=\"data row13 col2\" >0.9690</td>\n      <td id=\"T_2e84d_row13_col3\" class=\"data row13 col3\" >0.6700</td>\n      <td id=\"T_2e84d_row13_col4\" class=\"data row13 col4\" >0.7747</td>\n      <td id=\"T_2e84d_row13_col5\" class=\"data row13 col5\" >0.7149</td>\n      <td id=\"T_2e84d_row13_col6\" class=\"data row13 col6\" >0.6767</td>\n      <td id=\"T_2e84d_row13_col7\" class=\"data row13 col7\" >0.6958</td>\n      <td id=\"T_2e84d_row13_col8\" class=\"data row13 col8\" >0.3460</td>\n    </tr>\n    <tr>\n      <th id=\"T_2e84d_level0_row14\" class=\"row_heading level0 row14\" >rbfsvm</th>\n      <td id=\"T_2e84d_row14_col0\" class=\"data row14 col0\" >SVM - Radial Kernel</td>\n      <td id=\"T_2e84d_row14_col1\" class=\"data row14 col1\" >0.7487</td>\n      <td id=\"T_2e84d_row14_col2\" class=\"data row14 col2\" >0.9803</td>\n      <td id=\"T_2e84d_row14_col3\" class=\"data row14 col3\" >0.6521</td>\n      <td id=\"T_2e84d_row14_col4\" class=\"data row14 col4\" >0.7622</td>\n      <td id=\"T_2e84d_row14_col5\" class=\"data row14 col5\" >0.6995</td>\n      <td id=\"T_2e84d_row14_col6\" class=\"data row14 col6\" >0.6706</td>\n      <td id=\"T_2e84d_row14_col7\" class=\"data row14 col7\" >0.6929</td>\n      <td id=\"T_2e84d_row14_col8\" class=\"data row14 col8\" >0.0520</td>\n    </tr>\n    <tr>\n      <th id=\"T_2e84d_level0_row15\" class=\"row_heading level0 row15\" >nb</th>\n      <td id=\"T_2e84d_row15_col0\" class=\"data row15 col0\" >Naive Bayes</td>\n      <td id=\"T_2e84d_row15_col1\" class=\"data row15 col1\" >0.6858</td>\n      <td id=\"T_2e84d_row15_col2\" class=\"data row15 col2\" >0.9358</td>\n      <td id=\"T_2e84d_row15_col3\" class=\"data row15 col3\" >0.6090</td>\n      <td id=\"T_2e84d_row15_col4\" class=\"data row15 col4\" >0.7040</td>\n      <td id=\"T_2e84d_row15_col5\" class=\"data row15 col5\" >0.6607</td>\n      <td id=\"T_2e84d_row15_col6\" class=\"data row15 col6\" >0.5909</td>\n      <td id=\"T_2e84d_row15_col7\" class=\"data row15 col7\" >0.6065</td>\n      <td id=\"T_2e84d_row15_col8\" class=\"data row15 col8\" >0.0500</td>\n    </tr>\n    <tr>\n      <th id=\"T_2e84d_level0_row16\" class=\"row_heading level0 row16\" >ridge</th>\n      <td id=\"T_2e84d_row16_col0\" class=\"data row16 col0\" >Ridge Classifier</td>\n      <td id=\"T_2e84d_row16_col1\" class=\"data row16 col1\" >0.6537</td>\n      <td id=\"T_2e84d_row16_col2\" class=\"data row16 col2\" >0.0000</td>\n      <td id=\"T_2e84d_row16_col3\" class=\"data row16 col3\" >0.5373</td>\n      <td id=\"T_2e84d_row16_col4\" class=\"data row16 col4\" >0.5761</td>\n      <td id=\"T_2e84d_row16_col5\" class=\"data row16 col5\" >0.5877</td>\n      <td id=\"T_2e84d_row16_col6\" class=\"data row16 col6\" >0.5444</td>\n      <td id=\"T_2e84d_row16_col7\" class=\"data row16 col7\" >0.5733</td>\n      <td id=\"T_2e84d_row16_col8\" class=\"data row16 col8\" >0.0400</td>\n    </tr>\n    <tr>\n      <th id=\"T_2e84d_level0_row17\" class=\"row_heading level0 row17\" >ada</th>\n      <td id=\"T_2e84d_row17_col0\" class=\"data row17 col0\" >Ada Boost Classifier</td>\n      <td id=\"T_2e84d_row17_col1\" class=\"data row17 col1\" >0.4668</td>\n      <td id=\"T_2e84d_row17_col2\" class=\"data row17 col2\" >0.7814</td>\n      <td id=\"T_2e84d_row17_col3\" class=\"data row17 col3\" >0.3882</td>\n      <td id=\"T_2e84d_row17_col4\" class=\"data row17 col4\" >0.4347</td>\n      <td id=\"T_2e84d_row17_col5\" class=\"data row17 col5\" >0.3784</td>\n      <td id=\"T_2e84d_row17_col6\" class=\"data row17 col6\" >0.3159</td>\n      <td id=\"T_2e84d_row17_col7\" class=\"data row17 col7\" >0.3975</td>\n      <td id=\"T_2e84d_row17_col8\" class=\"data row17 col8\" >0.0670</td>\n    </tr>\n    <tr>\n      <th id=\"T_2e84d_level0_row18\" class=\"row_heading level0 row18\" >dummy</th>\n      <td id=\"T_2e84d_row18_col0\" class=\"data row18 col0\" >Dummy Classifier</td>\n      <td id=\"T_2e84d_row18_col1\" class=\"data row18 col1\" >0.2499</td>\n      <td id=\"T_2e84d_row18_col2\" class=\"data row18 col2\" >0.5000</td>\n      <td id=\"T_2e84d_row18_col3\" class=\"data row18 col3\" >0.2000</td>\n      <td id=\"T_2e84d_row18_col4\" class=\"data row18 col4\" >0.0671</td>\n      <td id=\"T_2e84d_row18_col5\" class=\"data row18 col5\" >0.1046</td>\n      <td id=\"T_2e84d_row18_col6\" class=\"data row18 col6\" >0.0000</td>\n      <td id=\"T_2e84d_row18_col7\" class=\"data row18 col7\" >0.0000</td>\n      <td id=\"T_2e84d_row18_col8\" class=\"data row18 col8\" >0.0840</td>\n    </tr>\n  </tbody>\n</table>\n"
     },
     "metadata": {},
     "output_type": "display_data"
    }
   ],
   "source": [
    "models = compare_models(turbo=False, n_select=5)"
   ],
   "metadata": {
    "collapsed": false,
    "pycharm": {
     "name": "#%%\n"
    }
   }
  },
  {
   "cell_type": "code",
   "execution_count": null,
   "outputs": [],
   "source": [],
   "metadata": {
    "collapsed": false,
    "pycharm": {
     "name": "#%%\n"
    }
   }
  }
 ],
 "metadata": {
  "kernelspec": {
   "display_name": "Python 3",
   "language": "python",
   "name": "python3"
  },
  "language_info": {
   "codemirror_mode": {
    "name": "ipython",
    "version": 3
   },
   "file_extension": ".py",
   "mimetype": "text/x-python",
   "name": "python",
   "nbconvert_exporter": "python",
   "pygments_lexer": "ipython3",
   "version": "3.8.3"
  }
 },
 "nbformat": 4,
 "nbformat_minor": 4
}