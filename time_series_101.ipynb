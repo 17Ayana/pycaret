{
 "cells": [
  {
   "cell_type": "code",
   "execution_count": 1,
   "source": [
    "import time\r\n",
    "import numpy as np\r\n",
    "import pandas as pd\r\n",
    "# from sklearn import metrics\r\n",
    "\r\n",
    "from pycaret.datasets import get_data\r\n",
    "from pycaret.internal.pycaret_experiment import TimeSeriesExperiment\r\n",
    "\r\n",
    "from sktime.utils.plotting import plot_series\r\n",
    "from sktime.performance_metrics.forecasting import mean_absolute_percentage_error"
   ],
   "outputs": [],
   "metadata": {}
  },
  {
   "cell_type": "code",
   "execution_count": 2,
   "source": [
    "y = get_data('airline', verbose=False)"
   ],
   "outputs": [],
   "metadata": {}
  },
  {
   "cell_type": "code",
   "execution_count": 3,
   "source": [
    "fh = 12 # or alternately fh = np.arange(1,13)\r\n",
    "fold = 3"
   ],
   "outputs": [],
   "metadata": {}
  },
  {
   "cell_type": "markdown",
   "source": [
    "# Available Models"
   ],
   "metadata": {}
  },
  {
   "cell_type": "code",
   "execution_count": 4,
   "source": [
    "exp = TimeSeriesExperiment()\r\n",
    "exp.setup(data=y, fh=fh)\r\n",
    "exp.models()"
   ],
   "outputs": [
    {
     "output_type": "display_data",
     "data": {
      "text/html": [
       "<style type=\"text/css\">\n",
       "</style>\n",
       "<table id=\"T_662e8_\">\n",
       "  <thead>\n",
       "    <tr>\n",
       "      <th class=\"blank level0\" >&nbsp;</th>\n",
       "      <th class=\"col_heading level0 col0\" >Description</th>\n",
       "      <th class=\"col_heading level0 col1\" >Value</th>\n",
       "    </tr>\n",
       "  </thead>\n",
       "  <tbody>\n",
       "    <tr>\n",
       "      <th id=\"T_662e8_level0_row0\" class=\"row_heading level0 row0\" >0</th>\n",
       "      <td id=\"T_662e8_row0_col0\" class=\"data row0 col0\" >session_id</td>\n",
       "      <td id=\"T_662e8_row0_col1\" class=\"data row0 col1\" >3536</td>\n",
       "    </tr>\n",
       "    <tr>\n",
       "      <th id=\"T_662e8_level0_row1\" class=\"row_heading level0 row1\" >1</th>\n",
       "      <td id=\"T_662e8_row1_col0\" class=\"data row1 col0\" >Original Data</td>\n",
       "      <td id=\"T_662e8_row1_col1\" class=\"data row1 col1\" >(144, 1)</td>\n",
       "    </tr>\n",
       "    <tr>\n",
       "      <th id=\"T_662e8_level0_row2\" class=\"row_heading level0 row2\" >2</th>\n",
       "      <td id=\"T_662e8_row2_col0\" class=\"data row2 col0\" >Missing Values</td>\n",
       "      <td id=\"T_662e8_row2_col1\" class=\"data row2 col1\" >False</td>\n",
       "    </tr>\n",
       "    <tr>\n",
       "      <th id=\"T_662e8_level0_row3\" class=\"row_heading level0 row3\" >3</th>\n",
       "      <td id=\"T_662e8_row3_col0\" class=\"data row3 col0\" >Transformed Train Set</td>\n",
       "      <td id=\"T_662e8_row3_col1\" class=\"data row3 col1\" >(132,)</td>\n",
       "    </tr>\n",
       "    <tr>\n",
       "      <th id=\"T_662e8_level0_row4\" class=\"row_heading level0 row4\" >4</th>\n",
       "      <td id=\"T_662e8_row4_col0\" class=\"data row4 col0\" >Transformed Test Set</td>\n",
       "      <td id=\"T_662e8_row4_col1\" class=\"data row4 col1\" >(12,)</td>\n",
       "    </tr>\n",
       "    <tr>\n",
       "      <th id=\"T_662e8_level0_row5\" class=\"row_heading level0 row5\" >5</th>\n",
       "      <td id=\"T_662e8_row5_col0\" class=\"data row5 col0\" >Fold Generator</td>\n",
       "      <td id=\"T_662e8_row5_col1\" class=\"data row5 col1\" >ExpandingWindowSplitter</td>\n",
       "    </tr>\n",
       "    <tr>\n",
       "      <th id=\"T_662e8_level0_row6\" class=\"row_heading level0 row6\" >6</th>\n",
       "      <td id=\"T_662e8_row6_col0\" class=\"data row6 col0\" >Fold Number</td>\n",
       "      <td id=\"T_662e8_row6_col1\" class=\"data row6 col1\" >3</td>\n",
       "    </tr>\n",
       "    <tr>\n",
       "      <th id=\"T_662e8_level0_row7\" class=\"row_heading level0 row7\" >7</th>\n",
       "      <td id=\"T_662e8_row7_col0\" class=\"data row7 col0\" >CPU Jobs</td>\n",
       "      <td id=\"T_662e8_row7_col1\" class=\"data row7 col1\" >-1</td>\n",
       "    </tr>\n",
       "    <tr>\n",
       "      <th id=\"T_662e8_level0_row8\" class=\"row_heading level0 row8\" >8</th>\n",
       "      <td id=\"T_662e8_row8_col0\" class=\"data row8 col0\" >Use GPU</td>\n",
       "      <td id=\"T_662e8_row8_col1\" class=\"data row8 col1\" >False</td>\n",
       "    </tr>\n",
       "    <tr>\n",
       "      <th id=\"T_662e8_level0_row9\" class=\"row_heading level0 row9\" >9</th>\n",
       "      <td id=\"T_662e8_row9_col0\" class=\"data row9 col0\" >Log Experiment</td>\n",
       "      <td id=\"T_662e8_row9_col1\" class=\"data row9 col1\" >False</td>\n",
       "    </tr>\n",
       "    <tr>\n",
       "      <th id=\"T_662e8_level0_row10\" class=\"row_heading level0 row10\" >10</th>\n",
       "      <td id=\"T_662e8_row10_col0\" class=\"data row10 col0\" >Experiment Name</td>\n",
       "      <td id=\"T_662e8_row10_col1\" class=\"data row10 col1\" >ts-default-name</td>\n",
       "    </tr>\n",
       "    <tr>\n",
       "      <th id=\"T_662e8_level0_row11\" class=\"row_heading level0 row11\" >11</th>\n",
       "      <td id=\"T_662e8_row11_col0\" class=\"data row11 col0\" >USI</td>\n",
       "      <td id=\"T_662e8_row11_col1\" class=\"data row11 col1\" >7a91</td>\n",
       "    </tr>\n",
       "    <tr>\n",
       "      <th id=\"T_662e8_level0_row12\" class=\"row_heading level0 row12\" >12</th>\n",
       "      <td id=\"T_662e8_row12_col0\" class=\"data row12 col0\" >Imputation Type</td>\n",
       "      <td id=\"T_662e8_row12_col1\" class=\"data row12 col1\" >simple</td>\n",
       "    </tr>\n",
       "  </tbody>\n",
       "</table>\n"
      ],
      "text/plain": [
       "<pandas.io.formats.style.Styler at 0x1cb08642948>"
      ]
     },
     "metadata": {}
    },
    {
     "output_type": "execute_result",
     "data": {
      "text/html": [
       "<div>\n",
       "<style scoped>\n",
       "    .dataframe tbody tr th:only-of-type {\n",
       "        vertical-align: middle;\n",
       "    }\n",
       "\n",
       "    .dataframe tbody tr th {\n",
       "        vertical-align: top;\n",
       "    }\n",
       "\n",
       "    .dataframe thead th {\n",
       "        text-align: right;\n",
       "    }\n",
       "</style>\n",
       "<table border=\"1\" class=\"dataframe\">\n",
       "  <thead>\n",
       "    <tr style=\"text-align: right;\">\n",
       "      <th></th>\n",
       "      <th>Name</th>\n",
       "      <th>Reference</th>\n",
       "      <th>Turbo</th>\n",
       "    </tr>\n",
       "    <tr>\n",
       "      <th>ID</th>\n",
       "      <th></th>\n",
       "      <th></th>\n",
       "      <th></th>\n",
       "    </tr>\n",
       "  </thead>\n",
       "  <tbody>\n",
       "    <tr>\n",
       "      <th>naive</th>\n",
       "      <td>Naive Forecaster</td>\n",
       "      <td>sktime.forecasting.naive.NaiveForecaster</td>\n",
       "      <td>True</td>\n",
       "    </tr>\n",
       "    <tr>\n",
       "      <th>snaive</th>\n",
       "      <td>Seasonal Naive Forecaster</td>\n",
       "      <td>sktime.forecasting.naive.NaiveForecaster</td>\n",
       "      <td>True</td>\n",
       "    </tr>\n",
       "    <tr>\n",
       "      <th>polytrend</th>\n",
       "      <td>Polynomial Trend Forecaster</td>\n",
       "      <td>sktime.forecasting.trend.PolynomialTrendForeca...</td>\n",
       "      <td>True</td>\n",
       "    </tr>\n",
       "    <tr>\n",
       "      <th>arima</th>\n",
       "      <td>ARIMA</td>\n",
       "      <td>sktime.forecasting.arima.ARIMA</td>\n",
       "      <td>True</td>\n",
       "    </tr>\n",
       "    <tr>\n",
       "      <th>auto_arima</th>\n",
       "      <td>Auto ARIMA</td>\n",
       "      <td>sktime.forecasting.arima.AutoARIMA</td>\n",
       "      <td>True</td>\n",
       "    </tr>\n",
       "    <tr>\n",
       "      <th>exp_smooth</th>\n",
       "      <td>Exponential Smoothing</td>\n",
       "      <td>sktime.forecasting.exp_smoothing.ExponentialSm...</td>\n",
       "      <td>True</td>\n",
       "    </tr>\n",
       "    <tr>\n",
       "      <th>ets</th>\n",
       "      <td>ETS</td>\n",
       "      <td>sktime.forecasting.ets.AutoETS</td>\n",
       "      <td>True</td>\n",
       "    </tr>\n",
       "    <tr>\n",
       "      <th>theta</th>\n",
       "      <td>Theta Forecaster</td>\n",
       "      <td>sktime.forecasting.theta.ThetaForecaster</td>\n",
       "      <td>True</td>\n",
       "    </tr>\n",
       "    <tr>\n",
       "      <th>tbats</th>\n",
       "      <td>TBATS</td>\n",
       "      <td>sktime.forecasting.tbats.TBATS</td>\n",
       "      <td>False</td>\n",
       "    </tr>\n",
       "    <tr>\n",
       "      <th>bats</th>\n",
       "      <td>BATS</td>\n",
       "      <td>sktime.forecasting.bats.BATS</td>\n",
       "      <td>False</td>\n",
       "    </tr>\n",
       "    <tr>\n",
       "      <th>lr_cds_dt</th>\n",
       "      <td>Linear w/ Cond. Deseasonalize &amp; Detrending</td>\n",
       "      <td>pycaret.containers.models.time_series.BaseCdsDt</td>\n",
       "      <td>True</td>\n",
       "    </tr>\n",
       "    <tr>\n",
       "      <th>en_cds_dt</th>\n",
       "      <td>Elastic Net w/ Cond. Deseasonalize &amp; Detrending</td>\n",
       "      <td>pycaret.containers.models.time_series.BaseCdsDt</td>\n",
       "      <td>True</td>\n",
       "    </tr>\n",
       "    <tr>\n",
       "      <th>ridge_cds_dt</th>\n",
       "      <td>Ridge w/ Cond. Deseasonalize &amp; Detrending</td>\n",
       "      <td>pycaret.containers.models.time_series.BaseCdsDt</td>\n",
       "      <td>True</td>\n",
       "    </tr>\n",
       "    <tr>\n",
       "      <th>lasso_cds_dt</th>\n",
       "      <td>Lasso w/ Cond. Deseasonalize &amp; Detrending</td>\n",
       "      <td>pycaret.containers.models.time_series.BaseCdsDt</td>\n",
       "      <td>True</td>\n",
       "    </tr>\n",
       "    <tr>\n",
       "      <th>lar_cds_dt</th>\n",
       "      <td>Least Angular Regressor w/ Cond. Deseasonalize...</td>\n",
       "      <td>pycaret.containers.models.time_series.BaseCdsDt</td>\n",
       "      <td>True</td>\n",
       "    </tr>\n",
       "    <tr>\n",
       "      <th>llar_cds_dt</th>\n",
       "      <td>Lasso Least Angular Regressor w/ Cond. Deseaso...</td>\n",
       "      <td>pycaret.containers.models.time_series.BaseCdsDt</td>\n",
       "      <td>True</td>\n",
       "    </tr>\n",
       "    <tr>\n",
       "      <th>br_cds_dt</th>\n",
       "      <td>Bayesian Ridge w/ Cond. Deseasonalize &amp; Detren...</td>\n",
       "      <td>pycaret.containers.models.time_series.BaseCdsDt</td>\n",
       "      <td>True</td>\n",
       "    </tr>\n",
       "    <tr>\n",
       "      <th>huber_cds_dt</th>\n",
       "      <td>Huber w/ Cond. Deseasonalize &amp; Detrending</td>\n",
       "      <td>pycaret.containers.models.time_series.BaseCdsDt</td>\n",
       "      <td>True</td>\n",
       "    </tr>\n",
       "    <tr>\n",
       "      <th>par_cds_dt</th>\n",
       "      <td>Passive Aggressive w/ Cond. Deseasonalize &amp; De...</td>\n",
       "      <td>pycaret.containers.models.time_series.BaseCdsDt</td>\n",
       "      <td>True</td>\n",
       "    </tr>\n",
       "    <tr>\n",
       "      <th>omp_cds_dt</th>\n",
       "      <td>Orthogonal Matching Pursuit w/ Cond. Deseasona...</td>\n",
       "      <td>pycaret.containers.models.time_series.BaseCdsDt</td>\n",
       "      <td>True</td>\n",
       "    </tr>\n",
       "    <tr>\n",
       "      <th>knn_cds_dt</th>\n",
       "      <td>K Neighbors w/ Cond. Deseasonalize &amp; Detrending</td>\n",
       "      <td>pycaret.containers.models.time_series.BaseCdsDt</td>\n",
       "      <td>True</td>\n",
       "    </tr>\n",
       "    <tr>\n",
       "      <th>dt_cds_dt</th>\n",
       "      <td>Decision Tree w/ Cond. Deseasonalize &amp; Detrending</td>\n",
       "      <td>pycaret.containers.models.time_series.BaseCdsDt</td>\n",
       "      <td>True</td>\n",
       "    </tr>\n",
       "    <tr>\n",
       "      <th>rf_cds_dt</th>\n",
       "      <td>Random Forest w/ Cond. Deseasonalize &amp; Detrending</td>\n",
       "      <td>pycaret.containers.models.time_series.BaseCdsDt</td>\n",
       "      <td>True</td>\n",
       "    </tr>\n",
       "    <tr>\n",
       "      <th>et_cds_dt</th>\n",
       "      <td>Extra Trees w/ Cond. Deseasonalize &amp; Detrending</td>\n",
       "      <td>pycaret.containers.models.time_series.BaseCdsDt</td>\n",
       "      <td>True</td>\n",
       "    </tr>\n",
       "    <tr>\n",
       "      <th>gbr_cds_dt</th>\n",
       "      <td>Gradient Boosting w/ Cond. Deseasonalize &amp; Det...</td>\n",
       "      <td>pycaret.containers.models.time_series.BaseCdsDt</td>\n",
       "      <td>True</td>\n",
       "    </tr>\n",
       "    <tr>\n",
       "      <th>ada_cds_dt</th>\n",
       "      <td>AdaBoost w/ Cond. Deseasonalize &amp; Detrending</td>\n",
       "      <td>pycaret.containers.models.time_series.BaseCdsDt</td>\n",
       "      <td>True</td>\n",
       "    </tr>\n",
       "    <tr>\n",
       "      <th>xgboost_cds_dt</th>\n",
       "      <td>Extreme Gradient Boosting w/ Cond. Deseasonali...</td>\n",
       "      <td>pycaret.containers.models.time_series.BaseCdsDt</td>\n",
       "      <td>True</td>\n",
       "    </tr>\n",
       "    <tr>\n",
       "      <th>lightgbm_cds_dt</th>\n",
       "      <td>Light Gradient Boosting w/ Cond. Deseasonalize...</td>\n",
       "      <td>pycaret.containers.models.time_series.BaseCdsDt</td>\n",
       "      <td>True</td>\n",
       "    </tr>\n",
       "  </tbody>\n",
       "</table>\n",
       "</div>"
      ],
      "text/plain": [
       "                                                              Name  \\\n",
       "ID                                                                   \n",
       "naive                                             Naive Forecaster   \n",
       "snaive                                   Seasonal Naive Forecaster   \n",
       "polytrend                              Polynomial Trend Forecaster   \n",
       "arima                                                        ARIMA   \n",
       "auto_arima                                              Auto ARIMA   \n",
       "exp_smooth                                   Exponential Smoothing   \n",
       "ets                                                            ETS   \n",
       "theta                                             Theta Forecaster   \n",
       "tbats                                                        TBATS   \n",
       "bats                                                          BATS   \n",
       "lr_cds_dt               Linear w/ Cond. Deseasonalize & Detrending   \n",
       "en_cds_dt          Elastic Net w/ Cond. Deseasonalize & Detrending   \n",
       "ridge_cds_dt             Ridge w/ Cond. Deseasonalize & Detrending   \n",
       "lasso_cds_dt             Lasso w/ Cond. Deseasonalize & Detrending   \n",
       "lar_cds_dt       Least Angular Regressor w/ Cond. Deseasonalize...   \n",
       "llar_cds_dt      Lasso Least Angular Regressor w/ Cond. Deseaso...   \n",
       "br_cds_dt        Bayesian Ridge w/ Cond. Deseasonalize & Detren...   \n",
       "huber_cds_dt             Huber w/ Cond. Deseasonalize & Detrending   \n",
       "par_cds_dt       Passive Aggressive w/ Cond. Deseasonalize & De...   \n",
       "omp_cds_dt       Orthogonal Matching Pursuit w/ Cond. Deseasona...   \n",
       "knn_cds_dt         K Neighbors w/ Cond. Deseasonalize & Detrending   \n",
       "dt_cds_dt        Decision Tree w/ Cond. Deseasonalize & Detrending   \n",
       "rf_cds_dt        Random Forest w/ Cond. Deseasonalize & Detrending   \n",
       "et_cds_dt          Extra Trees w/ Cond. Deseasonalize & Detrending   \n",
       "gbr_cds_dt       Gradient Boosting w/ Cond. Deseasonalize & Det...   \n",
       "ada_cds_dt            AdaBoost w/ Cond. Deseasonalize & Detrending   \n",
       "xgboost_cds_dt   Extreme Gradient Boosting w/ Cond. Deseasonali...   \n",
       "lightgbm_cds_dt  Light Gradient Boosting w/ Cond. Deseasonalize...   \n",
       "\n",
       "                                                         Reference  Turbo  \n",
       "ID                                                                         \n",
       "naive                     sktime.forecasting.naive.NaiveForecaster   True  \n",
       "snaive                    sktime.forecasting.naive.NaiveForecaster   True  \n",
       "polytrend        sktime.forecasting.trend.PolynomialTrendForeca...   True  \n",
       "arima                               sktime.forecasting.arima.ARIMA   True  \n",
       "auto_arima                      sktime.forecasting.arima.AutoARIMA   True  \n",
       "exp_smooth       sktime.forecasting.exp_smoothing.ExponentialSm...   True  \n",
       "ets                                 sktime.forecasting.ets.AutoETS   True  \n",
       "theta                     sktime.forecasting.theta.ThetaForecaster   True  \n",
       "tbats                               sktime.forecasting.tbats.TBATS  False  \n",
       "bats                                  sktime.forecasting.bats.BATS  False  \n",
       "lr_cds_dt          pycaret.containers.models.time_series.BaseCdsDt   True  \n",
       "en_cds_dt          pycaret.containers.models.time_series.BaseCdsDt   True  \n",
       "ridge_cds_dt       pycaret.containers.models.time_series.BaseCdsDt   True  \n",
       "lasso_cds_dt       pycaret.containers.models.time_series.BaseCdsDt   True  \n",
       "lar_cds_dt         pycaret.containers.models.time_series.BaseCdsDt   True  \n",
       "llar_cds_dt        pycaret.containers.models.time_series.BaseCdsDt   True  \n",
       "br_cds_dt          pycaret.containers.models.time_series.BaseCdsDt   True  \n",
       "huber_cds_dt       pycaret.containers.models.time_series.BaseCdsDt   True  \n",
       "par_cds_dt         pycaret.containers.models.time_series.BaseCdsDt   True  \n",
       "omp_cds_dt         pycaret.containers.models.time_series.BaseCdsDt   True  \n",
       "knn_cds_dt         pycaret.containers.models.time_series.BaseCdsDt   True  \n",
       "dt_cds_dt          pycaret.containers.models.time_series.BaseCdsDt   True  \n",
       "rf_cds_dt          pycaret.containers.models.time_series.BaseCdsDt   True  \n",
       "et_cds_dt          pycaret.containers.models.time_series.BaseCdsDt   True  \n",
       "gbr_cds_dt         pycaret.containers.models.time_series.BaseCdsDt   True  \n",
       "ada_cds_dt         pycaret.containers.models.time_series.BaseCdsDt   True  \n",
       "xgboost_cds_dt     pycaret.containers.models.time_series.BaseCdsDt   True  \n",
       "lightgbm_cds_dt    pycaret.containers.models.time_series.BaseCdsDt   True  "
      ]
     },
     "metadata": {},
     "execution_count": 4
    }
   ],
   "metadata": {}
  },
  {
   "cell_type": "markdown",
   "source": [
    "# Plotting Data"
   ],
   "metadata": {}
  },
  {
   "cell_type": "code",
   "execution_count": 5,
   "source": [
    "# Without any argument, this will plot the original dataset\r\n",
    "exp.plot_model()"
   ],
   "outputs": [
    {
     "output_type": "display_data",
     "data": {
      "application/vnd.plotly.v1+json": {
       "config": {
        "plotlyServerURL": "https://plot.ly"
       },
       "data": [
        {
         "marker": {
          "color": "#3f3f3f",
          "size": 5
         },
         "mode": "lines+markers",
         "name": "Original",
         "showlegend": true,
         "type": "scatter",
         "x": [
          "1949-01-01T00:00:00",
          "1949-02-01T00:00:00",
          "1949-03-01T00:00:00",
          "1949-04-01T00:00:00",
          "1949-05-01T00:00:00",
          "1949-06-01T00:00:00",
          "1949-07-01T00:00:00",
          "1949-08-01T00:00:00",
          "1949-09-01T00:00:00",
          "1949-10-01T00:00:00",
          "1949-11-01T00:00:00",
          "1949-12-01T00:00:00",
          "1950-01-01T00:00:00",
          "1950-02-01T00:00:00",
          "1950-03-01T00:00:00",
          "1950-04-01T00:00:00",
          "1950-05-01T00:00:00",
          "1950-06-01T00:00:00",
          "1950-07-01T00:00:00",
          "1950-08-01T00:00:00",
          "1950-09-01T00:00:00",
          "1950-10-01T00:00:00",
          "1950-11-01T00:00:00",
          "1950-12-01T00:00:00",
          "1951-01-01T00:00:00",
          "1951-02-01T00:00:00",
          "1951-03-01T00:00:00",
          "1951-04-01T00:00:00",
          "1951-05-01T00:00:00",
          "1951-06-01T00:00:00",
          "1951-07-01T00:00:00",
          "1951-08-01T00:00:00",
          "1951-09-01T00:00:00",
          "1951-10-01T00:00:00",
          "1951-11-01T00:00:00",
          "1951-12-01T00:00:00",
          "1952-01-01T00:00:00",
          "1952-02-01T00:00:00",
          "1952-03-01T00:00:00",
          "1952-04-01T00:00:00",
          "1952-05-01T00:00:00",
          "1952-06-01T00:00:00",
          "1952-07-01T00:00:00",
          "1952-08-01T00:00:00",
          "1952-09-01T00:00:00",
          "1952-10-01T00:00:00",
          "1952-11-01T00:00:00",
          "1952-12-01T00:00:00",
          "1953-01-01T00:00:00",
          "1953-02-01T00:00:00",
          "1953-03-01T00:00:00",
          "1953-04-01T00:00:00",
          "1953-05-01T00:00:00",
          "1953-06-01T00:00:00",
          "1953-07-01T00:00:00",
          "1953-08-01T00:00:00",
          "1953-09-01T00:00:00",
          "1953-10-01T00:00:00",
          "1953-11-01T00:00:00",
          "1953-12-01T00:00:00",
          "1954-01-01T00:00:00",
          "1954-02-01T00:00:00",
          "1954-03-01T00:00:00",
          "1954-04-01T00:00:00",
          "1954-05-01T00:00:00",
          "1954-06-01T00:00:00",
          "1954-07-01T00:00:00",
          "1954-08-01T00:00:00",
          "1954-09-01T00:00:00",
          "1954-10-01T00:00:00",
          "1954-11-01T00:00:00",
          "1954-12-01T00:00:00",
          "1955-01-01T00:00:00",
          "1955-02-01T00:00:00",
          "1955-03-01T00:00:00",
          "1955-04-01T00:00:00",
          "1955-05-01T00:00:00",
          "1955-06-01T00:00:00",
          "1955-07-01T00:00:00",
          "1955-08-01T00:00:00",
          "1955-09-01T00:00:00",
          "1955-10-01T00:00:00",
          "1955-11-01T00:00:00",
          "1955-12-01T00:00:00",
          "1956-01-01T00:00:00",
          "1956-02-01T00:00:00",
          "1956-03-01T00:00:00",
          "1956-04-01T00:00:00",
          "1956-05-01T00:00:00",
          "1956-06-01T00:00:00",
          "1956-07-01T00:00:00",
          "1956-08-01T00:00:00",
          "1956-09-01T00:00:00",
          "1956-10-01T00:00:00",
          "1956-11-01T00:00:00",
          "1956-12-01T00:00:00",
          "1957-01-01T00:00:00",
          "1957-02-01T00:00:00",
          "1957-03-01T00:00:00",
          "1957-04-01T00:00:00",
          "1957-05-01T00:00:00",
          "1957-06-01T00:00:00",
          "1957-07-01T00:00:00",
          "1957-08-01T00:00:00",
          "1957-09-01T00:00:00",
          "1957-10-01T00:00:00",
          "1957-11-01T00:00:00",
          "1957-12-01T00:00:00",
          "1958-01-01T00:00:00",
          "1958-02-01T00:00:00",
          "1958-03-01T00:00:00",
          "1958-04-01T00:00:00",
          "1958-05-01T00:00:00",
          "1958-06-01T00:00:00",
          "1958-07-01T00:00:00",
          "1958-08-01T00:00:00",
          "1958-09-01T00:00:00",
          "1958-10-01T00:00:00",
          "1958-11-01T00:00:00",
          "1958-12-01T00:00:00",
          "1959-01-01T00:00:00",
          "1959-02-01T00:00:00",
          "1959-03-01T00:00:00",
          "1959-04-01T00:00:00",
          "1959-05-01T00:00:00",
          "1959-06-01T00:00:00",
          "1959-07-01T00:00:00",
          "1959-08-01T00:00:00",
          "1959-09-01T00:00:00",
          "1959-10-01T00:00:00",
          "1959-11-01T00:00:00",
          "1959-12-01T00:00:00",
          "1960-01-01T00:00:00",
          "1960-02-01T00:00:00",
          "1960-03-01T00:00:00",
          "1960-04-01T00:00:00",
          "1960-05-01T00:00:00",
          "1960-06-01T00:00:00",
          "1960-07-01T00:00:00",
          "1960-08-01T00:00:00",
          "1960-09-01T00:00:00",
          "1960-10-01T00:00:00",
          "1960-11-01T00:00:00",
          "1960-12-01T00:00:00"
         ],
         "y": [
          112,
          118,
          132,
          129,
          121,
          135,
          148,
          148,
          136,
          119,
          104,
          118,
          115,
          126,
          141,
          135,
          125,
          149,
          170,
          170,
          158,
          133,
          114,
          140,
          145,
          150,
          178,
          163,
          172,
          178,
          199,
          199,
          184,
          162,
          146,
          166,
          171,
          180,
          193,
          181,
          183,
          218,
          230,
          242,
          209,
          191,
          172,
          194,
          196,
          196,
          236,
          235,
          229,
          243,
          264,
          272,
          237,
          211,
          180,
          201,
          204,
          188,
          235,
          227,
          234,
          264,
          302,
          293,
          259,
          229,
          203,
          229,
          242,
          233,
          267,
          269,
          270,
          315,
          364,
          347,
          312,
          274,
          237,
          278,
          284,
          277,
          317,
          313,
          318,
          374,
          413,
          405,
          355,
          306,
          271,
          306,
          315,
          301,
          356,
          348,
          355,
          422,
          465,
          467,
          404,
          347,
          305,
          336,
          340,
          318,
          362,
          348,
          363,
          435,
          491,
          505,
          404,
          359,
          310,
          337,
          360,
          342,
          406,
          396,
          420,
          472,
          548,
          559,
          463,
          407,
          362,
          405,
          417,
          391,
          419,
          461,
          472,
          535,
          622,
          606,
          508,
          461,
          390,
          432
         ]
        }
       ],
       "layout": {
        "showlegend": true,
        "template": {
         "data": {
          "bar": [
           {
            "error_x": {
             "color": "rgb(36,36,36)"
            },
            "error_y": {
             "color": "rgb(36,36,36)"
            },
            "marker": {
             "line": {
              "color": "white",
              "width": 0.5
             },
             "pattern": {
              "fillmode": "overlay",
              "size": 10,
              "solidity": 0.2
             }
            },
            "type": "bar"
           }
          ],
          "barpolar": [
           {
            "marker": {
             "line": {
              "color": "white",
              "width": 0.5
             },
             "pattern": {
              "fillmode": "overlay",
              "size": 10,
              "solidity": 0.2
             }
            },
            "type": "barpolar"
           }
          ],
          "carpet": [
           {
            "aaxis": {
             "endlinecolor": "rgb(36,36,36)",
             "gridcolor": "white",
             "linecolor": "white",
             "minorgridcolor": "white",
             "startlinecolor": "rgb(36,36,36)"
            },
            "baxis": {
             "endlinecolor": "rgb(36,36,36)",
             "gridcolor": "white",
             "linecolor": "white",
             "minorgridcolor": "white",
             "startlinecolor": "rgb(36,36,36)"
            },
            "type": "carpet"
           }
          ],
          "choropleth": [
           {
            "colorbar": {
             "outlinewidth": 1,
             "tickcolor": "rgb(36,36,36)",
             "ticks": "outside"
            },
            "type": "choropleth"
           }
          ],
          "contour": [
           {
            "colorbar": {
             "outlinewidth": 1,
             "tickcolor": "rgb(36,36,36)",
             "ticks": "outside"
            },
            "colorscale": [
             [
              0,
              "#440154"
             ],
             [
              0.1111111111111111,
              "#482878"
             ],
             [
              0.2222222222222222,
              "#3e4989"
             ],
             [
              0.3333333333333333,
              "#31688e"
             ],
             [
              0.4444444444444444,
              "#26828e"
             ],
             [
              0.5555555555555556,
              "#1f9e89"
             ],
             [
              0.6666666666666666,
              "#35b779"
             ],
             [
              0.7777777777777778,
              "#6ece58"
             ],
             [
              0.8888888888888888,
              "#b5de2b"
             ],
             [
              1,
              "#fde725"
             ]
            ],
            "type": "contour"
           }
          ],
          "contourcarpet": [
           {
            "colorbar": {
             "outlinewidth": 1,
             "tickcolor": "rgb(36,36,36)",
             "ticks": "outside"
            },
            "type": "contourcarpet"
           }
          ],
          "heatmap": [
           {
            "colorbar": {
             "outlinewidth": 1,
             "tickcolor": "rgb(36,36,36)",
             "ticks": "outside"
            },
            "colorscale": [
             [
              0,
              "#440154"
             ],
             [
              0.1111111111111111,
              "#482878"
             ],
             [
              0.2222222222222222,
              "#3e4989"
             ],
             [
              0.3333333333333333,
              "#31688e"
             ],
             [
              0.4444444444444444,
              "#26828e"
             ],
             [
              0.5555555555555556,
              "#1f9e89"
             ],
             [
              0.6666666666666666,
              "#35b779"
             ],
             [
              0.7777777777777778,
              "#6ece58"
             ],
             [
              0.8888888888888888,
              "#b5de2b"
             ],
             [
              1,
              "#fde725"
             ]
            ],
            "type": "heatmap"
           }
          ],
          "heatmapgl": [
           {
            "colorbar": {
             "outlinewidth": 1,
             "tickcolor": "rgb(36,36,36)",
             "ticks": "outside"
            },
            "colorscale": [
             [
              0,
              "#440154"
             ],
             [
              0.1111111111111111,
              "#482878"
             ],
             [
              0.2222222222222222,
              "#3e4989"
             ],
             [
              0.3333333333333333,
              "#31688e"
             ],
             [
              0.4444444444444444,
              "#26828e"
             ],
             [
              0.5555555555555556,
              "#1f9e89"
             ],
             [
              0.6666666666666666,
              "#35b779"
             ],
             [
              0.7777777777777778,
              "#6ece58"
             ],
             [
              0.8888888888888888,
              "#b5de2b"
             ],
             [
              1,
              "#fde725"
             ]
            ],
            "type": "heatmapgl"
           }
          ],
          "histogram": [
           {
            "marker": {
             "line": {
              "color": "white",
              "width": 0.6
             }
            },
            "type": "histogram"
           }
          ],
          "histogram2d": [
           {
            "colorbar": {
             "outlinewidth": 1,
             "tickcolor": "rgb(36,36,36)",
             "ticks": "outside"
            },
            "colorscale": [
             [
              0,
              "#440154"
             ],
             [
              0.1111111111111111,
              "#482878"
             ],
             [
              0.2222222222222222,
              "#3e4989"
             ],
             [
              0.3333333333333333,
              "#31688e"
             ],
             [
              0.4444444444444444,
              "#26828e"
             ],
             [
              0.5555555555555556,
              "#1f9e89"
             ],
             [
              0.6666666666666666,
              "#35b779"
             ],
             [
              0.7777777777777778,
              "#6ece58"
             ],
             [
              0.8888888888888888,
              "#b5de2b"
             ],
             [
              1,
              "#fde725"
             ]
            ],
            "type": "histogram2d"
           }
          ],
          "histogram2dcontour": [
           {
            "colorbar": {
             "outlinewidth": 1,
             "tickcolor": "rgb(36,36,36)",
             "ticks": "outside"
            },
            "colorscale": [
             [
              0,
              "#440154"
             ],
             [
              0.1111111111111111,
              "#482878"
             ],
             [
              0.2222222222222222,
              "#3e4989"
             ],
             [
              0.3333333333333333,
              "#31688e"
             ],
             [
              0.4444444444444444,
              "#26828e"
             ],
             [
              0.5555555555555556,
              "#1f9e89"
             ],
             [
              0.6666666666666666,
              "#35b779"
             ],
             [
              0.7777777777777778,
              "#6ece58"
             ],
             [
              0.8888888888888888,
              "#b5de2b"
             ],
             [
              1,
              "#fde725"
             ]
            ],
            "type": "histogram2dcontour"
           }
          ],
          "mesh3d": [
           {
            "colorbar": {
             "outlinewidth": 1,
             "tickcolor": "rgb(36,36,36)",
             "ticks": "outside"
            },
            "type": "mesh3d"
           }
          ],
          "parcoords": [
           {
            "line": {
             "colorbar": {
              "outlinewidth": 1,
              "tickcolor": "rgb(36,36,36)",
              "ticks": "outside"
             }
            },
            "type": "parcoords"
           }
          ],
          "pie": [
           {
            "automargin": true,
            "type": "pie"
           }
          ],
          "scatter": [
           {
            "marker": {
             "colorbar": {
              "outlinewidth": 1,
              "tickcolor": "rgb(36,36,36)",
              "ticks": "outside"
             }
            },
            "type": "scatter"
           }
          ],
          "scatter3d": [
           {
            "line": {
             "colorbar": {
              "outlinewidth": 1,
              "tickcolor": "rgb(36,36,36)",
              "ticks": "outside"
             }
            },
            "marker": {
             "colorbar": {
              "outlinewidth": 1,
              "tickcolor": "rgb(36,36,36)",
              "ticks": "outside"
             }
            },
            "type": "scatter3d"
           }
          ],
          "scattercarpet": [
           {
            "marker": {
             "colorbar": {
              "outlinewidth": 1,
              "tickcolor": "rgb(36,36,36)",
              "ticks": "outside"
             }
            },
            "type": "scattercarpet"
           }
          ],
          "scattergeo": [
           {
            "marker": {
             "colorbar": {
              "outlinewidth": 1,
              "tickcolor": "rgb(36,36,36)",
              "ticks": "outside"
             }
            },
            "type": "scattergeo"
           }
          ],
          "scattergl": [
           {
            "marker": {
             "colorbar": {
              "outlinewidth": 1,
              "tickcolor": "rgb(36,36,36)",
              "ticks": "outside"
             }
            },
            "type": "scattergl"
           }
          ],
          "scattermapbox": [
           {
            "marker": {
             "colorbar": {
              "outlinewidth": 1,
              "tickcolor": "rgb(36,36,36)",
              "ticks": "outside"
             }
            },
            "type": "scattermapbox"
           }
          ],
          "scatterpolar": [
           {
            "marker": {
             "colorbar": {
              "outlinewidth": 1,
              "tickcolor": "rgb(36,36,36)",
              "ticks": "outside"
             }
            },
            "type": "scatterpolar"
           }
          ],
          "scatterpolargl": [
           {
            "marker": {
             "colorbar": {
              "outlinewidth": 1,
              "tickcolor": "rgb(36,36,36)",
              "ticks": "outside"
             }
            },
            "type": "scatterpolargl"
           }
          ],
          "scatterternary": [
           {
            "marker": {
             "colorbar": {
              "outlinewidth": 1,
              "tickcolor": "rgb(36,36,36)",
              "ticks": "outside"
             }
            },
            "type": "scatterternary"
           }
          ],
          "surface": [
           {
            "colorbar": {
             "outlinewidth": 1,
             "tickcolor": "rgb(36,36,36)",
             "ticks": "outside"
            },
            "colorscale": [
             [
              0,
              "#440154"
             ],
             [
              0.1111111111111111,
              "#482878"
             ],
             [
              0.2222222222222222,
              "#3e4989"
             ],
             [
              0.3333333333333333,
              "#31688e"
             ],
             [
              0.4444444444444444,
              "#26828e"
             ],
             [
              0.5555555555555556,
              "#1f9e89"
             ],
             [
              0.6666666666666666,
              "#35b779"
             ],
             [
              0.7777777777777778,
              "#6ece58"
             ],
             [
              0.8888888888888888,
              "#b5de2b"
             ],
             [
              1,
              "#fde725"
             ]
            ],
            "type": "surface"
           }
          ],
          "table": [
           {
            "cells": {
             "fill": {
              "color": "rgb(237,237,237)"
             },
             "line": {
              "color": "white"
             }
            },
            "header": {
             "fill": {
              "color": "rgb(217,217,217)"
             },
             "line": {
              "color": "white"
             }
            },
            "type": "table"
           }
          ]
         },
         "layout": {
          "annotationdefaults": {
           "arrowhead": 0,
           "arrowwidth": 1
          },
          "autotypenumbers": "strict",
          "coloraxis": {
           "colorbar": {
            "outlinewidth": 1,
            "tickcolor": "rgb(36,36,36)",
            "ticks": "outside"
           }
          },
          "colorscale": {
           "diverging": [
            [
             0,
             "rgb(103,0,31)"
            ],
            [
             0.1,
             "rgb(178,24,43)"
            ],
            [
             0.2,
             "rgb(214,96,77)"
            ],
            [
             0.3,
             "rgb(244,165,130)"
            ],
            [
             0.4,
             "rgb(253,219,199)"
            ],
            [
             0.5,
             "rgb(247,247,247)"
            ],
            [
             0.6,
             "rgb(209,229,240)"
            ],
            [
             0.7,
             "rgb(146,197,222)"
            ],
            [
             0.8,
             "rgb(67,147,195)"
            ],
            [
             0.9,
             "rgb(33,102,172)"
            ],
            [
             1,
             "rgb(5,48,97)"
            ]
           ],
           "sequential": [
            [
             0,
             "#440154"
            ],
            [
             0.1111111111111111,
             "#482878"
            ],
            [
             0.2222222222222222,
             "#3e4989"
            ],
            [
             0.3333333333333333,
             "#31688e"
            ],
            [
             0.4444444444444444,
             "#26828e"
            ],
            [
             0.5555555555555556,
             "#1f9e89"
            ],
            [
             0.6666666666666666,
             "#35b779"
            ],
            [
             0.7777777777777778,
             "#6ece58"
            ],
            [
             0.8888888888888888,
             "#b5de2b"
            ],
            [
             1,
             "#fde725"
            ]
           ],
           "sequentialminus": [
            [
             0,
             "#440154"
            ],
            [
             0.1111111111111111,
             "#482878"
            ],
            [
             0.2222222222222222,
             "#3e4989"
            ],
            [
             0.3333333333333333,
             "#31688e"
            ],
            [
             0.4444444444444444,
             "#26828e"
            ],
            [
             0.5555555555555556,
             "#1f9e89"
            ],
            [
             0.6666666666666666,
             "#35b779"
            ],
            [
             0.7777777777777778,
             "#6ece58"
            ],
            [
             0.8888888888888888,
             "#b5de2b"
            ],
            [
             1,
             "#fde725"
            ]
           ]
          },
          "colorway": [
           "#1F77B4",
           "#FF7F0E",
           "#2CA02C",
           "#D62728",
           "#9467BD",
           "#8C564B",
           "#E377C2",
           "#7F7F7F",
           "#BCBD22",
           "#17BECF"
          ],
          "font": {
           "color": "rgb(36,36,36)"
          },
          "geo": {
           "bgcolor": "white",
           "lakecolor": "white",
           "landcolor": "white",
           "showlakes": true,
           "showland": true,
           "subunitcolor": "white"
          },
          "hoverlabel": {
           "align": "left"
          },
          "hovermode": "closest",
          "mapbox": {
           "style": "light"
          },
          "paper_bgcolor": "white",
          "plot_bgcolor": "white",
          "polar": {
           "angularaxis": {
            "gridcolor": "rgb(232,232,232)",
            "linecolor": "rgb(36,36,36)",
            "showgrid": false,
            "showline": true,
            "ticks": "outside"
           },
           "bgcolor": "white",
           "radialaxis": {
            "gridcolor": "rgb(232,232,232)",
            "linecolor": "rgb(36,36,36)",
            "showgrid": false,
            "showline": true,
            "ticks": "outside"
           }
          },
          "scene": {
           "xaxis": {
            "backgroundcolor": "white",
            "gridcolor": "rgb(232,232,232)",
            "gridwidth": 2,
            "linecolor": "rgb(36,36,36)",
            "showbackground": true,
            "showgrid": false,
            "showline": true,
            "ticks": "outside",
            "zeroline": false,
            "zerolinecolor": "rgb(36,36,36)"
           },
           "yaxis": {
            "backgroundcolor": "white",
            "gridcolor": "rgb(232,232,232)",
            "gridwidth": 2,
            "linecolor": "rgb(36,36,36)",
            "showbackground": true,
            "showgrid": false,
            "showline": true,
            "ticks": "outside",
            "zeroline": false,
            "zerolinecolor": "rgb(36,36,36)"
           },
           "zaxis": {
            "backgroundcolor": "white",
            "gridcolor": "rgb(232,232,232)",
            "gridwidth": 2,
            "linecolor": "rgb(36,36,36)",
            "showbackground": true,
            "showgrid": false,
            "showline": true,
            "ticks": "outside",
            "zeroline": false,
            "zerolinecolor": "rgb(36,36,36)"
           }
          },
          "shapedefaults": {
           "fillcolor": "black",
           "line": {
            "width": 0
           },
           "opacity": 0.3
          },
          "ternary": {
           "aaxis": {
            "gridcolor": "rgb(232,232,232)",
            "linecolor": "rgb(36,36,36)",
            "showgrid": false,
            "showline": true,
            "ticks": "outside"
           },
           "baxis": {
            "gridcolor": "rgb(232,232,232)",
            "linecolor": "rgb(36,36,36)",
            "showgrid": false,
            "showline": true,
            "ticks": "outside"
           },
           "bgcolor": "white",
           "caxis": {
            "gridcolor": "rgb(232,232,232)",
            "linecolor": "rgb(36,36,36)",
            "showgrid": false,
            "showline": true,
            "ticks": "outside"
           }
          },
          "title": {
           "x": 0.05
          },
          "xaxis": {
           "automargin": true,
           "gridcolor": "rgb(232,232,232)",
           "linecolor": "rgb(36,36,36)",
           "showgrid": false,
           "showline": true,
           "ticks": "outside",
           "title": {
            "standoff": 15
           },
           "zeroline": false,
           "zerolinecolor": "rgb(36,36,36)"
          },
          "yaxis": {
           "automargin": true,
           "gridcolor": "rgb(232,232,232)",
           "linecolor": "rgb(36,36,36)",
           "showgrid": false,
           "showline": true,
           "ticks": "outside",
           "title": {
            "standoff": 15
           },
           "zeroline": false,
           "zerolinecolor": "rgb(36,36,36)"
          }
         }
        },
        "title": {
         "text": "Time Series"
        },
        "xaxis": {
         "title": {
          "text": "Time"
         }
        },
        "yaxis": {
         "title": {
          "text": "Values"
         }
        }
       }
      }
     },
     "metadata": {}
    }
   ],
   "metadata": {}
  },
  {
   "cell_type": "code",
   "execution_count": 6,
   "source": [
    "# Without an estimator argument, this will plot the original dataset\r\n",
    "exp.plot_model(plot=\"ts\")"
   ],
   "outputs": [
    {
     "output_type": "display_data",
     "data": {
      "application/vnd.plotly.v1+json": {
       "config": {
        "plotlyServerURL": "https://plot.ly"
       },
       "data": [
        {
         "marker": {
          "color": "#3f3f3f",
          "size": 5
         },
         "mode": "lines+markers",
         "name": "Original",
         "showlegend": true,
         "type": "scatter",
         "x": [
          "1949-01-01T00:00:00",
          "1949-02-01T00:00:00",
          "1949-03-01T00:00:00",
          "1949-04-01T00:00:00",
          "1949-05-01T00:00:00",
          "1949-06-01T00:00:00",
          "1949-07-01T00:00:00",
          "1949-08-01T00:00:00",
          "1949-09-01T00:00:00",
          "1949-10-01T00:00:00",
          "1949-11-01T00:00:00",
          "1949-12-01T00:00:00",
          "1950-01-01T00:00:00",
          "1950-02-01T00:00:00",
          "1950-03-01T00:00:00",
          "1950-04-01T00:00:00",
          "1950-05-01T00:00:00",
          "1950-06-01T00:00:00",
          "1950-07-01T00:00:00",
          "1950-08-01T00:00:00",
          "1950-09-01T00:00:00",
          "1950-10-01T00:00:00",
          "1950-11-01T00:00:00",
          "1950-12-01T00:00:00",
          "1951-01-01T00:00:00",
          "1951-02-01T00:00:00",
          "1951-03-01T00:00:00",
          "1951-04-01T00:00:00",
          "1951-05-01T00:00:00",
          "1951-06-01T00:00:00",
          "1951-07-01T00:00:00",
          "1951-08-01T00:00:00",
          "1951-09-01T00:00:00",
          "1951-10-01T00:00:00",
          "1951-11-01T00:00:00",
          "1951-12-01T00:00:00",
          "1952-01-01T00:00:00",
          "1952-02-01T00:00:00",
          "1952-03-01T00:00:00",
          "1952-04-01T00:00:00",
          "1952-05-01T00:00:00",
          "1952-06-01T00:00:00",
          "1952-07-01T00:00:00",
          "1952-08-01T00:00:00",
          "1952-09-01T00:00:00",
          "1952-10-01T00:00:00",
          "1952-11-01T00:00:00",
          "1952-12-01T00:00:00",
          "1953-01-01T00:00:00",
          "1953-02-01T00:00:00",
          "1953-03-01T00:00:00",
          "1953-04-01T00:00:00",
          "1953-05-01T00:00:00",
          "1953-06-01T00:00:00",
          "1953-07-01T00:00:00",
          "1953-08-01T00:00:00",
          "1953-09-01T00:00:00",
          "1953-10-01T00:00:00",
          "1953-11-01T00:00:00",
          "1953-12-01T00:00:00",
          "1954-01-01T00:00:00",
          "1954-02-01T00:00:00",
          "1954-03-01T00:00:00",
          "1954-04-01T00:00:00",
          "1954-05-01T00:00:00",
          "1954-06-01T00:00:00",
          "1954-07-01T00:00:00",
          "1954-08-01T00:00:00",
          "1954-09-01T00:00:00",
          "1954-10-01T00:00:00",
          "1954-11-01T00:00:00",
          "1954-12-01T00:00:00",
          "1955-01-01T00:00:00",
          "1955-02-01T00:00:00",
          "1955-03-01T00:00:00",
          "1955-04-01T00:00:00",
          "1955-05-01T00:00:00",
          "1955-06-01T00:00:00",
          "1955-07-01T00:00:00",
          "1955-08-01T00:00:00",
          "1955-09-01T00:00:00",
          "1955-10-01T00:00:00",
          "1955-11-01T00:00:00",
          "1955-12-01T00:00:00",
          "1956-01-01T00:00:00",
          "1956-02-01T00:00:00",
          "1956-03-01T00:00:00",
          "1956-04-01T00:00:00",
          "1956-05-01T00:00:00",
          "1956-06-01T00:00:00",
          "1956-07-01T00:00:00",
          "1956-08-01T00:00:00",
          "1956-09-01T00:00:00",
          "1956-10-01T00:00:00",
          "1956-11-01T00:00:00",
          "1956-12-01T00:00:00",
          "1957-01-01T00:00:00",
          "1957-02-01T00:00:00",
          "1957-03-01T00:00:00",
          "1957-04-01T00:00:00",
          "1957-05-01T00:00:00",
          "1957-06-01T00:00:00",
          "1957-07-01T00:00:00",
          "1957-08-01T00:00:00",
          "1957-09-01T00:00:00",
          "1957-10-01T00:00:00",
          "1957-11-01T00:00:00",
          "1957-12-01T00:00:00",
          "1958-01-01T00:00:00",
          "1958-02-01T00:00:00",
          "1958-03-01T00:00:00",
          "1958-04-01T00:00:00",
          "1958-05-01T00:00:00",
          "1958-06-01T00:00:00",
          "1958-07-01T00:00:00",
          "1958-08-01T00:00:00",
          "1958-09-01T00:00:00",
          "1958-10-01T00:00:00",
          "1958-11-01T00:00:00",
          "1958-12-01T00:00:00",
          "1959-01-01T00:00:00",
          "1959-02-01T00:00:00",
          "1959-03-01T00:00:00",
          "1959-04-01T00:00:00",
          "1959-05-01T00:00:00",
          "1959-06-01T00:00:00",
          "1959-07-01T00:00:00",
          "1959-08-01T00:00:00",
          "1959-09-01T00:00:00",
          "1959-10-01T00:00:00",
          "1959-11-01T00:00:00",
          "1959-12-01T00:00:00",
          "1960-01-01T00:00:00",
          "1960-02-01T00:00:00",
          "1960-03-01T00:00:00",
          "1960-04-01T00:00:00",
          "1960-05-01T00:00:00",
          "1960-06-01T00:00:00",
          "1960-07-01T00:00:00",
          "1960-08-01T00:00:00",
          "1960-09-01T00:00:00",
          "1960-10-01T00:00:00",
          "1960-11-01T00:00:00",
          "1960-12-01T00:00:00"
         ],
         "y": [
          112,
          118,
          132,
          129,
          121,
          135,
          148,
          148,
          136,
          119,
          104,
          118,
          115,
          126,
          141,
          135,
          125,
          149,
          170,
          170,
          158,
          133,
          114,
          140,
          145,
          150,
          178,
          163,
          172,
          178,
          199,
          199,
          184,
          162,
          146,
          166,
          171,
          180,
          193,
          181,
          183,
          218,
          230,
          242,
          209,
          191,
          172,
          194,
          196,
          196,
          236,
          235,
          229,
          243,
          264,
          272,
          237,
          211,
          180,
          201,
          204,
          188,
          235,
          227,
          234,
          264,
          302,
          293,
          259,
          229,
          203,
          229,
          242,
          233,
          267,
          269,
          270,
          315,
          364,
          347,
          312,
          274,
          237,
          278,
          284,
          277,
          317,
          313,
          318,
          374,
          413,
          405,
          355,
          306,
          271,
          306,
          315,
          301,
          356,
          348,
          355,
          422,
          465,
          467,
          404,
          347,
          305,
          336,
          340,
          318,
          362,
          348,
          363,
          435,
          491,
          505,
          404,
          359,
          310,
          337,
          360,
          342,
          406,
          396,
          420,
          472,
          548,
          559,
          463,
          407,
          362,
          405,
          417,
          391,
          419,
          461,
          472,
          535,
          622,
          606,
          508,
          461,
          390,
          432
         ]
        }
       ],
       "layout": {
        "showlegend": true,
        "template": {
         "data": {
          "bar": [
           {
            "error_x": {
             "color": "rgb(36,36,36)"
            },
            "error_y": {
             "color": "rgb(36,36,36)"
            },
            "marker": {
             "line": {
              "color": "white",
              "width": 0.5
             },
             "pattern": {
              "fillmode": "overlay",
              "size": 10,
              "solidity": 0.2
             }
            },
            "type": "bar"
           }
          ],
          "barpolar": [
           {
            "marker": {
             "line": {
              "color": "white",
              "width": 0.5
             },
             "pattern": {
              "fillmode": "overlay",
              "size": 10,
              "solidity": 0.2
             }
            },
            "type": "barpolar"
           }
          ],
          "carpet": [
           {
            "aaxis": {
             "endlinecolor": "rgb(36,36,36)",
             "gridcolor": "white",
             "linecolor": "white",
             "minorgridcolor": "white",
             "startlinecolor": "rgb(36,36,36)"
            },
            "baxis": {
             "endlinecolor": "rgb(36,36,36)",
             "gridcolor": "white",
             "linecolor": "white",
             "minorgridcolor": "white",
             "startlinecolor": "rgb(36,36,36)"
            },
            "type": "carpet"
           }
          ],
          "choropleth": [
           {
            "colorbar": {
             "outlinewidth": 1,
             "tickcolor": "rgb(36,36,36)",
             "ticks": "outside"
            },
            "type": "choropleth"
           }
          ],
          "contour": [
           {
            "colorbar": {
             "outlinewidth": 1,
             "tickcolor": "rgb(36,36,36)",
             "ticks": "outside"
            },
            "colorscale": [
             [
              0,
              "#440154"
             ],
             [
              0.1111111111111111,
              "#482878"
             ],
             [
              0.2222222222222222,
              "#3e4989"
             ],
             [
              0.3333333333333333,
              "#31688e"
             ],
             [
              0.4444444444444444,
              "#26828e"
             ],
             [
              0.5555555555555556,
              "#1f9e89"
             ],
             [
              0.6666666666666666,
              "#35b779"
             ],
             [
              0.7777777777777778,
              "#6ece58"
             ],
             [
              0.8888888888888888,
              "#b5de2b"
             ],
             [
              1,
              "#fde725"
             ]
            ],
            "type": "contour"
           }
          ],
          "contourcarpet": [
           {
            "colorbar": {
             "outlinewidth": 1,
             "tickcolor": "rgb(36,36,36)",
             "ticks": "outside"
            },
            "type": "contourcarpet"
           }
          ],
          "heatmap": [
           {
            "colorbar": {
             "outlinewidth": 1,
             "tickcolor": "rgb(36,36,36)",
             "ticks": "outside"
            },
            "colorscale": [
             [
              0,
              "#440154"
             ],
             [
              0.1111111111111111,
              "#482878"
             ],
             [
              0.2222222222222222,
              "#3e4989"
             ],
             [
              0.3333333333333333,
              "#31688e"
             ],
             [
              0.4444444444444444,
              "#26828e"
             ],
             [
              0.5555555555555556,
              "#1f9e89"
             ],
             [
              0.6666666666666666,
              "#35b779"
             ],
             [
              0.7777777777777778,
              "#6ece58"
             ],
             [
              0.8888888888888888,
              "#b5de2b"
             ],
             [
              1,
              "#fde725"
             ]
            ],
            "type": "heatmap"
           }
          ],
          "heatmapgl": [
           {
            "colorbar": {
             "outlinewidth": 1,
             "tickcolor": "rgb(36,36,36)",
             "ticks": "outside"
            },
            "colorscale": [
             [
              0,
              "#440154"
             ],
             [
              0.1111111111111111,
              "#482878"
             ],
             [
              0.2222222222222222,
              "#3e4989"
             ],
             [
              0.3333333333333333,
              "#31688e"
             ],
             [
              0.4444444444444444,
              "#26828e"
             ],
             [
              0.5555555555555556,
              "#1f9e89"
             ],
             [
              0.6666666666666666,
              "#35b779"
             ],
             [
              0.7777777777777778,
              "#6ece58"
             ],
             [
              0.8888888888888888,
              "#b5de2b"
             ],
             [
              1,
              "#fde725"
             ]
            ],
            "type": "heatmapgl"
           }
          ],
          "histogram": [
           {
            "marker": {
             "line": {
              "color": "white",
              "width": 0.6
             }
            },
            "type": "histogram"
           }
          ],
          "histogram2d": [
           {
            "colorbar": {
             "outlinewidth": 1,
             "tickcolor": "rgb(36,36,36)",
             "ticks": "outside"
            },
            "colorscale": [
             [
              0,
              "#440154"
             ],
             [
              0.1111111111111111,
              "#482878"
             ],
             [
              0.2222222222222222,
              "#3e4989"
             ],
             [
              0.3333333333333333,
              "#31688e"
             ],
             [
              0.4444444444444444,
              "#26828e"
             ],
             [
              0.5555555555555556,
              "#1f9e89"
             ],
             [
              0.6666666666666666,
              "#35b779"
             ],
             [
              0.7777777777777778,
              "#6ece58"
             ],
             [
              0.8888888888888888,
              "#b5de2b"
             ],
             [
              1,
              "#fde725"
             ]
            ],
            "type": "histogram2d"
           }
          ],
          "histogram2dcontour": [
           {
            "colorbar": {
             "outlinewidth": 1,
             "tickcolor": "rgb(36,36,36)",
             "ticks": "outside"
            },
            "colorscale": [
             [
              0,
              "#440154"
             ],
             [
              0.1111111111111111,
              "#482878"
             ],
             [
              0.2222222222222222,
              "#3e4989"
             ],
             [
              0.3333333333333333,
              "#31688e"
             ],
             [
              0.4444444444444444,
              "#26828e"
             ],
             [
              0.5555555555555556,
              "#1f9e89"
             ],
             [
              0.6666666666666666,
              "#35b779"
             ],
             [
              0.7777777777777778,
              "#6ece58"
             ],
             [
              0.8888888888888888,
              "#b5de2b"
             ],
             [
              1,
              "#fde725"
             ]
            ],
            "type": "histogram2dcontour"
           }
          ],
          "mesh3d": [
           {
            "colorbar": {
             "outlinewidth": 1,
             "tickcolor": "rgb(36,36,36)",
             "ticks": "outside"
            },
            "type": "mesh3d"
           }
          ],
          "parcoords": [
           {
            "line": {
             "colorbar": {
              "outlinewidth": 1,
              "tickcolor": "rgb(36,36,36)",
              "ticks": "outside"
             }
            },
            "type": "parcoords"
           }
          ],
          "pie": [
           {
            "automargin": true,
            "type": "pie"
           }
          ],
          "scatter": [
           {
            "marker": {
             "colorbar": {
              "outlinewidth": 1,
              "tickcolor": "rgb(36,36,36)",
              "ticks": "outside"
             }
            },
            "type": "scatter"
           }
          ],
          "scatter3d": [
           {
            "line": {
             "colorbar": {
              "outlinewidth": 1,
              "tickcolor": "rgb(36,36,36)",
              "ticks": "outside"
             }
            },
            "marker": {
             "colorbar": {
              "outlinewidth": 1,
              "tickcolor": "rgb(36,36,36)",
              "ticks": "outside"
             }
            },
            "type": "scatter3d"
           }
          ],
          "scattercarpet": [
           {
            "marker": {
             "colorbar": {
              "outlinewidth": 1,
              "tickcolor": "rgb(36,36,36)",
              "ticks": "outside"
             }
            },
            "type": "scattercarpet"
           }
          ],
          "scattergeo": [
           {
            "marker": {
             "colorbar": {
              "outlinewidth": 1,
              "tickcolor": "rgb(36,36,36)",
              "ticks": "outside"
             }
            },
            "type": "scattergeo"
           }
          ],
          "scattergl": [
           {
            "marker": {
             "colorbar": {
              "outlinewidth": 1,
              "tickcolor": "rgb(36,36,36)",
              "ticks": "outside"
             }
            },
            "type": "scattergl"
           }
          ],
          "scattermapbox": [
           {
            "marker": {
             "colorbar": {
              "outlinewidth": 1,
              "tickcolor": "rgb(36,36,36)",
              "ticks": "outside"
             }
            },
            "type": "scattermapbox"
           }
          ],
          "scatterpolar": [
           {
            "marker": {
             "colorbar": {
              "outlinewidth": 1,
              "tickcolor": "rgb(36,36,36)",
              "ticks": "outside"
             }
            },
            "type": "scatterpolar"
           }
          ],
          "scatterpolargl": [
           {
            "marker": {
             "colorbar": {
              "outlinewidth": 1,
              "tickcolor": "rgb(36,36,36)",
              "ticks": "outside"
             }
            },
            "type": "scatterpolargl"
           }
          ],
          "scatterternary": [
           {
            "marker": {
             "colorbar": {
              "outlinewidth": 1,
              "tickcolor": "rgb(36,36,36)",
              "ticks": "outside"
             }
            },
            "type": "scatterternary"
           }
          ],
          "surface": [
           {
            "colorbar": {
             "outlinewidth": 1,
             "tickcolor": "rgb(36,36,36)",
             "ticks": "outside"
            },
            "colorscale": [
             [
              0,
              "#440154"
             ],
             [
              0.1111111111111111,
              "#482878"
             ],
             [
              0.2222222222222222,
              "#3e4989"
             ],
             [
              0.3333333333333333,
              "#31688e"
             ],
             [
              0.4444444444444444,
              "#26828e"
             ],
             [
              0.5555555555555556,
              "#1f9e89"
             ],
             [
              0.6666666666666666,
              "#35b779"
             ],
             [
              0.7777777777777778,
              "#6ece58"
             ],
             [
              0.8888888888888888,
              "#b5de2b"
             ],
             [
              1,
              "#fde725"
             ]
            ],
            "type": "surface"
           }
          ],
          "table": [
           {
            "cells": {
             "fill": {
              "color": "rgb(237,237,237)"
             },
             "line": {
              "color": "white"
             }
            },
            "header": {
             "fill": {
              "color": "rgb(217,217,217)"
             },
             "line": {
              "color": "white"
             }
            },
            "type": "table"
           }
          ]
         },
         "layout": {
          "annotationdefaults": {
           "arrowhead": 0,
           "arrowwidth": 1
          },
          "autotypenumbers": "strict",
          "coloraxis": {
           "colorbar": {
            "outlinewidth": 1,
            "tickcolor": "rgb(36,36,36)",
            "ticks": "outside"
           }
          },
          "colorscale": {
           "diverging": [
            [
             0,
             "rgb(103,0,31)"
            ],
            [
             0.1,
             "rgb(178,24,43)"
            ],
            [
             0.2,
             "rgb(214,96,77)"
            ],
            [
             0.3,
             "rgb(244,165,130)"
            ],
            [
             0.4,
             "rgb(253,219,199)"
            ],
            [
             0.5,
             "rgb(247,247,247)"
            ],
            [
             0.6,
             "rgb(209,229,240)"
            ],
            [
             0.7,
             "rgb(146,197,222)"
            ],
            [
             0.8,
             "rgb(67,147,195)"
            ],
            [
             0.9,
             "rgb(33,102,172)"
            ],
            [
             1,
             "rgb(5,48,97)"
            ]
           ],
           "sequential": [
            [
             0,
             "#440154"
            ],
            [
             0.1111111111111111,
             "#482878"
            ],
            [
             0.2222222222222222,
             "#3e4989"
            ],
            [
             0.3333333333333333,
             "#31688e"
            ],
            [
             0.4444444444444444,
             "#26828e"
            ],
            [
             0.5555555555555556,
             "#1f9e89"
            ],
            [
             0.6666666666666666,
             "#35b779"
            ],
            [
             0.7777777777777778,
             "#6ece58"
            ],
            [
             0.8888888888888888,
             "#b5de2b"
            ],
            [
             1,
             "#fde725"
            ]
           ],
           "sequentialminus": [
            [
             0,
             "#440154"
            ],
            [
             0.1111111111111111,
             "#482878"
            ],
            [
             0.2222222222222222,
             "#3e4989"
            ],
            [
             0.3333333333333333,
             "#31688e"
            ],
            [
             0.4444444444444444,
             "#26828e"
            ],
            [
             0.5555555555555556,
             "#1f9e89"
            ],
            [
             0.6666666666666666,
             "#35b779"
            ],
            [
             0.7777777777777778,
             "#6ece58"
            ],
            [
             0.8888888888888888,
             "#b5de2b"
            ],
            [
             1,
             "#fde725"
            ]
           ]
          },
          "colorway": [
           "#1F77B4",
           "#FF7F0E",
           "#2CA02C",
           "#D62728",
           "#9467BD",
           "#8C564B",
           "#E377C2",
           "#7F7F7F",
           "#BCBD22",
           "#17BECF"
          ],
          "font": {
           "color": "rgb(36,36,36)"
          },
          "geo": {
           "bgcolor": "white",
           "lakecolor": "white",
           "landcolor": "white",
           "showlakes": true,
           "showland": true,
           "subunitcolor": "white"
          },
          "hoverlabel": {
           "align": "left"
          },
          "hovermode": "closest",
          "mapbox": {
           "style": "light"
          },
          "paper_bgcolor": "white",
          "plot_bgcolor": "white",
          "polar": {
           "angularaxis": {
            "gridcolor": "rgb(232,232,232)",
            "linecolor": "rgb(36,36,36)",
            "showgrid": false,
            "showline": true,
            "ticks": "outside"
           },
           "bgcolor": "white",
           "radialaxis": {
            "gridcolor": "rgb(232,232,232)",
            "linecolor": "rgb(36,36,36)",
            "showgrid": false,
            "showline": true,
            "ticks": "outside"
           }
          },
          "scene": {
           "xaxis": {
            "backgroundcolor": "white",
            "gridcolor": "rgb(232,232,232)",
            "gridwidth": 2,
            "linecolor": "rgb(36,36,36)",
            "showbackground": true,
            "showgrid": false,
            "showline": true,
            "ticks": "outside",
            "zeroline": false,
            "zerolinecolor": "rgb(36,36,36)"
           },
           "yaxis": {
            "backgroundcolor": "white",
            "gridcolor": "rgb(232,232,232)",
            "gridwidth": 2,
            "linecolor": "rgb(36,36,36)",
            "showbackground": true,
            "showgrid": false,
            "showline": true,
            "ticks": "outside",
            "zeroline": false,
            "zerolinecolor": "rgb(36,36,36)"
           },
           "zaxis": {
            "backgroundcolor": "white",
            "gridcolor": "rgb(232,232,232)",
            "gridwidth": 2,
            "linecolor": "rgb(36,36,36)",
            "showbackground": true,
            "showgrid": false,
            "showline": true,
            "ticks": "outside",
            "zeroline": false,
            "zerolinecolor": "rgb(36,36,36)"
           }
          },
          "shapedefaults": {
           "fillcolor": "black",
           "line": {
            "width": 0
           },
           "opacity": 0.3
          },
          "ternary": {
           "aaxis": {
            "gridcolor": "rgb(232,232,232)",
            "linecolor": "rgb(36,36,36)",
            "showgrid": false,
            "showline": true,
            "ticks": "outside"
           },
           "baxis": {
            "gridcolor": "rgb(232,232,232)",
            "linecolor": "rgb(36,36,36)",
            "showgrid": false,
            "showline": true,
            "ticks": "outside"
           },
           "bgcolor": "white",
           "caxis": {
            "gridcolor": "rgb(232,232,232)",
            "linecolor": "rgb(36,36,36)",
            "showgrid": false,
            "showline": true,
            "ticks": "outside"
           }
          },
          "title": {
           "x": 0.05
          },
          "xaxis": {
           "automargin": true,
           "gridcolor": "rgb(232,232,232)",
           "linecolor": "rgb(36,36,36)",
           "showgrid": false,
           "showline": true,
           "ticks": "outside",
           "title": {
            "standoff": 15
           },
           "zeroline": false,
           "zerolinecolor": "rgb(36,36,36)"
          },
          "yaxis": {
           "automargin": true,
           "gridcolor": "rgb(232,232,232)",
           "linecolor": "rgb(36,36,36)",
           "showgrid": false,
           "showline": true,
           "ticks": "outside",
           "title": {
            "standoff": 15
           },
           "zeroline": false,
           "zerolinecolor": "rgb(36,36,36)"
          }
         }
        },
        "title": {
         "text": "Time Series"
        },
        "xaxis": {
         "title": {
          "text": "Time"
         }
        },
        "yaxis": {
         "title": {
          "text": "Values"
         }
        }
       }
      }
     },
     "metadata": {}
    }
   ],
   "metadata": {}
  },
  {
   "cell_type": "code",
   "execution_count": 7,
   "source": [
    "# ACF and PACF for the original dataset\r\n",
    "exp.plot_model(plot=\"acf\")\r\n",
    "exp.plot_model(plot=\"pacf\")"
   ],
   "outputs": [
    {
     "output_type": "display_data",
     "data": {
      "application/vnd.plotly.v1+json": {
       "config": {
        "plotlyServerURL": "https://plot.ly"
       },
       "data": [
        {
         "marker": {
          "color": "#1f77b4",
          "size": 10
         },
         "mode": "markers",
         "name": "ACF",
         "showlegend": false,
         "type": "scatter",
         "x": [
          0,
          1,
          2,
          3,
          4,
          5,
          6,
          7,
          8,
          9,
          10,
          11,
          12,
          13,
          14,
          15,
          16,
          17,
          18,
          19,
          20,
          21,
          22,
          23,
          24,
          25,
          26,
          27,
          28,
          29,
          30,
          31,
          32,
          33,
          34,
          35,
          36,
          37,
          38,
          39,
          40
         ],
         "y": [
          1,
          0.9480473407524915,
          0.8755748351253506,
          0.8066811554965003,
          0.7526254173883077,
          0.7137699726519646,
          0.6817336033310039,
          0.6629043863684494,
          0.6556104843250864,
          0.6709483279245043,
          0.7027199209090715,
          0.7432401890069327,
          0.7603950422625556,
          0.7126608704038238,
          0.6463422792677533,
          0.5859234238634495,
          0.5379551907815616,
          0.4997475259851799,
          0.46873401291508704,
          0.4498706649766616,
          0.44162879574604624,
          0.4572237571141587,
          0.4824820295144395,
          0.5171269883891182,
          0.532189830465802,
          0.49397569377503386,
          0.43772133706806554,
          0.38760289974645185,
          0.3480250323299375,
          0.31498387947256934,
          0.2884968187844051,
          0.2708018671117992,
          0.26429010598992786,
          0.27679933695014597,
          0.2985214951556523,
          0.3255871166106631,
          0.33702359902053586,
          0.30333485855791975,
          0.25397708140719066,
          0.21065533781406404,
          0.17217092361106268
         ]
        },
        {
         "line": {
          "color": "#3f3f3f"
         },
         "mode": "lines",
         "name": "Lag1",
         "showlegend": false,
         "type": "scatter",
         "x": [
          0,
          0
         ],
         "y": [
          0,
          1
         ]
        },
        {
         "line": {
          "color": "#3f3f3f"
         },
         "mode": "lines",
         "name": "Lag2",
         "showlegend": false,
         "type": "scatter",
         "x": [
          1,
          1
         ],
         "y": [
          0,
          0.9480473407524915
         ]
        },
        {
         "line": {
          "color": "#3f3f3f"
         },
         "mode": "lines",
         "name": "Lag3",
         "showlegend": false,
         "type": "scatter",
         "x": [
          2,
          2
         ],
         "y": [
          0,
          0.8755748351253506
         ]
        },
        {
         "line": {
          "color": "#3f3f3f"
         },
         "mode": "lines",
         "name": "Lag4",
         "showlegend": false,
         "type": "scatter",
         "x": [
          3,
          3
         ],
         "y": [
          0,
          0.8066811554965003
         ]
        },
        {
         "line": {
          "color": "#3f3f3f"
         },
         "mode": "lines",
         "name": "Lag5",
         "showlegend": false,
         "type": "scatter",
         "x": [
          4,
          4
         ],
         "y": [
          0,
          0.7526254173883077
         ]
        },
        {
         "line": {
          "color": "#3f3f3f"
         },
         "mode": "lines",
         "name": "Lag6",
         "showlegend": false,
         "type": "scatter",
         "x": [
          5,
          5
         ],
         "y": [
          0,
          0.7137699726519646
         ]
        },
        {
         "line": {
          "color": "#3f3f3f"
         },
         "mode": "lines",
         "name": "Lag7",
         "showlegend": false,
         "type": "scatter",
         "x": [
          6,
          6
         ],
         "y": [
          0,
          0.6817336033310039
         ]
        },
        {
         "line": {
          "color": "#3f3f3f"
         },
         "mode": "lines",
         "name": "Lag8",
         "showlegend": false,
         "type": "scatter",
         "x": [
          7,
          7
         ],
         "y": [
          0,
          0.6629043863684494
         ]
        },
        {
         "line": {
          "color": "#3f3f3f"
         },
         "mode": "lines",
         "name": "Lag9",
         "showlegend": false,
         "type": "scatter",
         "x": [
          8,
          8
         ],
         "y": [
          0,
          0.6556104843250864
         ]
        },
        {
         "line": {
          "color": "#3f3f3f"
         },
         "mode": "lines",
         "name": "Lag10",
         "showlegend": false,
         "type": "scatter",
         "x": [
          9,
          9
         ],
         "y": [
          0,
          0.6709483279245043
         ]
        },
        {
         "line": {
          "color": "#3f3f3f"
         },
         "mode": "lines",
         "name": "Lag11",
         "showlegend": false,
         "type": "scatter",
         "x": [
          10,
          10
         ],
         "y": [
          0,
          0.7027199209090715
         ]
        },
        {
         "line": {
          "color": "#3f3f3f"
         },
         "mode": "lines",
         "name": "Lag12",
         "showlegend": false,
         "type": "scatter",
         "x": [
          11,
          11
         ],
         "y": [
          0,
          0.7432401890069327
         ]
        },
        {
         "line": {
          "color": "#3f3f3f"
         },
         "mode": "lines",
         "name": "Lag13",
         "showlegend": false,
         "type": "scatter",
         "x": [
          12,
          12
         ],
         "y": [
          0,
          0.7603950422625556
         ]
        },
        {
         "line": {
          "color": "#3f3f3f"
         },
         "mode": "lines",
         "name": "Lag14",
         "showlegend": false,
         "type": "scatter",
         "x": [
          13,
          13
         ],
         "y": [
          0,
          0.7126608704038238
         ]
        },
        {
         "line": {
          "color": "#3f3f3f"
         },
         "mode": "lines",
         "name": "Lag15",
         "showlegend": false,
         "type": "scatter",
         "x": [
          14,
          14
         ],
         "y": [
          0,
          0.6463422792677533
         ]
        },
        {
         "line": {
          "color": "#3f3f3f"
         },
         "mode": "lines",
         "name": "Lag16",
         "showlegend": false,
         "type": "scatter",
         "x": [
          15,
          15
         ],
         "y": [
          0,
          0.5859234238634495
         ]
        },
        {
         "line": {
          "color": "#3f3f3f"
         },
         "mode": "lines",
         "name": "Lag17",
         "showlegend": false,
         "type": "scatter",
         "x": [
          16,
          16
         ],
         "y": [
          0,
          0.5379551907815616
         ]
        },
        {
         "line": {
          "color": "#3f3f3f"
         },
         "mode": "lines",
         "name": "Lag18",
         "showlegend": false,
         "type": "scatter",
         "x": [
          17,
          17
         ],
         "y": [
          0,
          0.4997475259851799
         ]
        },
        {
         "line": {
          "color": "#3f3f3f"
         },
         "mode": "lines",
         "name": "Lag19",
         "showlegend": false,
         "type": "scatter",
         "x": [
          18,
          18
         ],
         "y": [
          0,
          0.46873401291508704
         ]
        },
        {
         "line": {
          "color": "#3f3f3f"
         },
         "mode": "lines",
         "name": "Lag20",
         "showlegend": false,
         "type": "scatter",
         "x": [
          19,
          19
         ],
         "y": [
          0,
          0.4498706649766616
         ]
        },
        {
         "line": {
          "color": "#3f3f3f"
         },
         "mode": "lines",
         "name": "Lag21",
         "showlegend": false,
         "type": "scatter",
         "x": [
          20,
          20
         ],
         "y": [
          0,
          0.44162879574604624
         ]
        },
        {
         "line": {
          "color": "#3f3f3f"
         },
         "mode": "lines",
         "name": "Lag22",
         "showlegend": false,
         "type": "scatter",
         "x": [
          21,
          21
         ],
         "y": [
          0,
          0.4572237571141587
         ]
        },
        {
         "line": {
          "color": "#3f3f3f"
         },
         "mode": "lines",
         "name": "Lag23",
         "showlegend": false,
         "type": "scatter",
         "x": [
          22,
          22
         ],
         "y": [
          0,
          0.4824820295144395
         ]
        },
        {
         "line": {
          "color": "#3f3f3f"
         },
         "mode": "lines",
         "name": "Lag24",
         "showlegend": false,
         "type": "scatter",
         "x": [
          23,
          23
         ],
         "y": [
          0,
          0.5171269883891182
         ]
        },
        {
         "line": {
          "color": "#3f3f3f"
         },
         "mode": "lines",
         "name": "Lag25",
         "showlegend": false,
         "type": "scatter",
         "x": [
          24,
          24
         ],
         "y": [
          0,
          0.532189830465802
         ]
        },
        {
         "line": {
          "color": "#3f3f3f"
         },
         "mode": "lines",
         "name": "Lag26",
         "showlegend": false,
         "type": "scatter",
         "x": [
          25,
          25
         ],
         "y": [
          0,
          0.49397569377503386
         ]
        },
        {
         "line": {
          "color": "#3f3f3f"
         },
         "mode": "lines",
         "name": "Lag27",
         "showlegend": false,
         "type": "scatter",
         "x": [
          26,
          26
         ],
         "y": [
          0,
          0.43772133706806554
         ]
        },
        {
         "line": {
          "color": "#3f3f3f"
         },
         "mode": "lines",
         "name": "Lag28",
         "showlegend": false,
         "type": "scatter",
         "x": [
          27,
          27
         ],
         "y": [
          0,
          0.38760289974645185
         ]
        },
        {
         "line": {
          "color": "#3f3f3f"
         },
         "mode": "lines",
         "name": "Lag29",
         "showlegend": false,
         "type": "scatter",
         "x": [
          28,
          28
         ],
         "y": [
          0,
          0.3480250323299375
         ]
        },
        {
         "line": {
          "color": "#3f3f3f"
         },
         "mode": "lines",
         "name": "Lag30",
         "showlegend": false,
         "type": "scatter",
         "x": [
          29,
          29
         ],
         "y": [
          0,
          0.31498387947256934
         ]
        },
        {
         "line": {
          "color": "#3f3f3f"
         },
         "mode": "lines",
         "name": "Lag31",
         "showlegend": false,
         "type": "scatter",
         "x": [
          30,
          30
         ],
         "y": [
          0,
          0.2884968187844051
         ]
        },
        {
         "line": {
          "color": "#3f3f3f"
         },
         "mode": "lines",
         "name": "Lag32",
         "showlegend": false,
         "type": "scatter",
         "x": [
          31,
          31
         ],
         "y": [
          0,
          0.2708018671117992
         ]
        },
        {
         "line": {
          "color": "#3f3f3f"
         },
         "mode": "lines",
         "name": "Lag33",
         "showlegend": false,
         "type": "scatter",
         "x": [
          32,
          32
         ],
         "y": [
          0,
          0.26429010598992786
         ]
        },
        {
         "line": {
          "color": "#3f3f3f"
         },
         "mode": "lines",
         "name": "Lag34",
         "showlegend": false,
         "type": "scatter",
         "x": [
          33,
          33
         ],
         "y": [
          0,
          0.27679933695014597
         ]
        },
        {
         "line": {
          "color": "#3f3f3f"
         },
         "mode": "lines",
         "name": "Lag35",
         "showlegend": false,
         "type": "scatter",
         "x": [
          34,
          34
         ],
         "y": [
          0,
          0.2985214951556523
         ]
        },
        {
         "line": {
          "color": "#3f3f3f"
         },
         "mode": "lines",
         "name": "Lag36",
         "showlegend": false,
         "type": "scatter",
         "x": [
          35,
          35
         ],
         "y": [
          0,
          0.3255871166106631
         ]
        },
        {
         "line": {
          "color": "#3f3f3f"
         },
         "mode": "lines",
         "name": "Lag37",
         "showlegend": false,
         "type": "scatter",
         "x": [
          36,
          36
         ],
         "y": [
          0,
          0.33702359902053586
         ]
        },
        {
         "line": {
          "color": "#3f3f3f"
         },
         "mode": "lines",
         "name": "Lag38",
         "showlegend": false,
         "type": "scatter",
         "x": [
          37,
          37
         ],
         "y": [
          0,
          0.30333485855791975
         ]
        },
        {
         "line": {
          "color": "#3f3f3f"
         },
         "mode": "lines",
         "name": "Lag39",
         "showlegend": false,
         "type": "scatter",
         "x": [
          38,
          38
         ],
         "y": [
          0,
          0.25397708140719066
         ]
        },
        {
         "line": {
          "color": "#3f3f3f"
         },
         "mode": "lines",
         "name": "Lag40",
         "showlegend": false,
         "type": "scatter",
         "x": [
          39,
          39
         ],
         "y": [
          0,
          0.21065533781406404
         ]
        },
        {
         "line": {
          "color": "#3f3f3f"
         },
         "mode": "lines",
         "name": "Lag41",
         "showlegend": false,
         "type": "scatter",
         "x": [
          40,
          40
         ],
         "y": [
          0,
          0.17217092361106268
         ]
        },
        {
         "line": {
          "color": "rgba(255,255,255,0)"
         },
         "mode": "lines",
         "name": "UC",
         "showlegend": false,
         "type": "scatter",
         "x": [
          0,
          1,
          2,
          3,
          4,
          5,
          6,
          7,
          8,
          9,
          10,
          11,
          12,
          13,
          14,
          15,
          16,
          17,
          18,
          19,
          20,
          21,
          22,
          23,
          24,
          25,
          26,
          27,
          28,
          29,
          30,
          31,
          32,
          33,
          34,
          35,
          36,
          37,
          38,
          39,
          40
         ],
         "y": [
          0,
          0.16333033204500447,
          0.2731861552145801,
          0.3399017661883752,
          0.38762383148595225,
          0.42482244845589956,
          0.45569292201744294,
          0.48213348102703657,
          0.5058641279364026,
          0.5280447239635009,
          0.5503176416817148,
          0.5737563310797158,
          0.5988899499585392,
          0.624113974952015,
          0.6454578001172306,
          0.6624988158521082,
          0.676181413525544,
          0.6875038978431461,
          0.6971273493682075,
          0.7054848995976514,
          0.7130966532991214,
          0.72035595943078,
          0.7280566375097884,
          0.7365368914864218,
          0.7461597871836548,
          0.7562179276283605,
          0.7647773994303542,
          0.7714317972264944,
          0.7766097146258821,
          0.780759189618813,
          0.7841418116449759,
          0.7869682474990506,
          0.7894502115268107,
          0.7918070128489081,
          0.7943841542594854,
          0.7973711774106017,
          0.8009098872583174,
          0.8046842924814329,
          0.807728904687554,
          0.8098564828638037,
          0.8113169075162115
         ]
        },
        {
         "fill": "tonexty",
         "fillcolor": "rgba(32, 146, 230,0.3)",
         "line": {
          "color": "rgba(255,255,255,0)"
         },
         "mode": "lines",
         "name": "LC",
         "showlegend": false,
         "type": "scatter",
         "x": [
          0,
          1,
          2,
          3,
          4,
          5,
          6,
          7,
          8,
          9,
          10,
          11,
          12,
          13,
          14,
          15,
          16,
          17,
          18,
          19,
          20,
          21,
          22,
          23,
          24,
          25,
          26,
          27,
          28,
          29,
          30,
          31,
          32,
          33,
          34,
          35,
          36,
          37,
          38,
          39,
          40
         ],
         "y": [
          0,
          -0.16333033204500447,
          -0.2731861552145801,
          -0.3399017661883753,
          -0.38762383148595225,
          -0.4248224484558996,
          -0.4556929220174429,
          -0.4821334810270366,
          -0.5058641279364026,
          -0.5280447239635008,
          -0.5503176416817148,
          -0.5737563310797159,
          -0.5988899499585391,
          -0.6241139749520151,
          -0.6454578001172306,
          -0.6624988158521083,
          -0.676181413525544,
          -0.687503897843146,
          -0.6971273493682074,
          -0.7054848995976514,
          -0.7130966532991215,
          -0.7203559594307799,
          -0.7280566375097886,
          -0.7365368914864217,
          -0.7461597871836547,
          -0.7562179276283605,
          -0.7647773994303542,
          -0.7714317972264942,
          -0.7766097146258821,
          -0.780759189618813,
          -0.7841418116449758,
          -0.7869682474990505,
          -0.7894502115268106,
          -0.7918070128489083,
          -0.7943841542594854,
          -0.7973711774106017,
          -0.8009098872583174,
          -0.8046842924814329,
          -0.807728904687554,
          -0.8098564828638037,
          -0.8113169075162115
         ]
        },
        {
         "line": {
          "color": "#3f3f3f"
         },
         "mode": "lines",
         "name": "",
         "showlegend": false,
         "type": "scatter",
         "x": [
          0,
          41
         ],
         "y": [
          0,
          0
         ]
        }
       ],
       "layout": {
        "template": {
         "data": {
          "bar": [
           {
            "error_x": {
             "color": "rgb(36,36,36)"
            },
            "error_y": {
             "color": "rgb(36,36,36)"
            },
            "marker": {
             "line": {
              "color": "white",
              "width": 0.5
             },
             "pattern": {
              "fillmode": "overlay",
              "size": 10,
              "solidity": 0.2
             }
            },
            "type": "bar"
           }
          ],
          "barpolar": [
           {
            "marker": {
             "line": {
              "color": "white",
              "width": 0.5
             },
             "pattern": {
              "fillmode": "overlay",
              "size": 10,
              "solidity": 0.2
             }
            },
            "type": "barpolar"
           }
          ],
          "carpet": [
           {
            "aaxis": {
             "endlinecolor": "rgb(36,36,36)",
             "gridcolor": "white",
             "linecolor": "white",
             "minorgridcolor": "white",
             "startlinecolor": "rgb(36,36,36)"
            },
            "baxis": {
             "endlinecolor": "rgb(36,36,36)",
             "gridcolor": "white",
             "linecolor": "white",
             "minorgridcolor": "white",
             "startlinecolor": "rgb(36,36,36)"
            },
            "type": "carpet"
           }
          ],
          "choropleth": [
           {
            "colorbar": {
             "outlinewidth": 1,
             "tickcolor": "rgb(36,36,36)",
             "ticks": "outside"
            },
            "type": "choropleth"
           }
          ],
          "contour": [
           {
            "colorbar": {
             "outlinewidth": 1,
             "tickcolor": "rgb(36,36,36)",
             "ticks": "outside"
            },
            "colorscale": [
             [
              0,
              "#440154"
             ],
             [
              0.1111111111111111,
              "#482878"
             ],
             [
              0.2222222222222222,
              "#3e4989"
             ],
             [
              0.3333333333333333,
              "#31688e"
             ],
             [
              0.4444444444444444,
              "#26828e"
             ],
             [
              0.5555555555555556,
              "#1f9e89"
             ],
             [
              0.6666666666666666,
              "#35b779"
             ],
             [
              0.7777777777777778,
              "#6ece58"
             ],
             [
              0.8888888888888888,
              "#b5de2b"
             ],
             [
              1,
              "#fde725"
             ]
            ],
            "type": "contour"
           }
          ],
          "contourcarpet": [
           {
            "colorbar": {
             "outlinewidth": 1,
             "tickcolor": "rgb(36,36,36)",
             "ticks": "outside"
            },
            "type": "contourcarpet"
           }
          ],
          "heatmap": [
           {
            "colorbar": {
             "outlinewidth": 1,
             "tickcolor": "rgb(36,36,36)",
             "ticks": "outside"
            },
            "colorscale": [
             [
              0,
              "#440154"
             ],
             [
              0.1111111111111111,
              "#482878"
             ],
             [
              0.2222222222222222,
              "#3e4989"
             ],
             [
              0.3333333333333333,
              "#31688e"
             ],
             [
              0.4444444444444444,
              "#26828e"
             ],
             [
              0.5555555555555556,
              "#1f9e89"
             ],
             [
              0.6666666666666666,
              "#35b779"
             ],
             [
              0.7777777777777778,
              "#6ece58"
             ],
             [
              0.8888888888888888,
              "#b5de2b"
             ],
             [
              1,
              "#fde725"
             ]
            ],
            "type": "heatmap"
           }
          ],
          "heatmapgl": [
           {
            "colorbar": {
             "outlinewidth": 1,
             "tickcolor": "rgb(36,36,36)",
             "ticks": "outside"
            },
            "colorscale": [
             [
              0,
              "#440154"
             ],
             [
              0.1111111111111111,
              "#482878"
             ],
             [
              0.2222222222222222,
              "#3e4989"
             ],
             [
              0.3333333333333333,
              "#31688e"
             ],
             [
              0.4444444444444444,
              "#26828e"
             ],
             [
              0.5555555555555556,
              "#1f9e89"
             ],
             [
              0.6666666666666666,
              "#35b779"
             ],
             [
              0.7777777777777778,
              "#6ece58"
             ],
             [
              0.8888888888888888,
              "#b5de2b"
             ],
             [
              1,
              "#fde725"
             ]
            ],
            "type": "heatmapgl"
           }
          ],
          "histogram": [
           {
            "marker": {
             "line": {
              "color": "white",
              "width": 0.6
             }
            },
            "type": "histogram"
           }
          ],
          "histogram2d": [
           {
            "colorbar": {
             "outlinewidth": 1,
             "tickcolor": "rgb(36,36,36)",
             "ticks": "outside"
            },
            "colorscale": [
             [
              0,
              "#440154"
             ],
             [
              0.1111111111111111,
              "#482878"
             ],
             [
              0.2222222222222222,
              "#3e4989"
             ],
             [
              0.3333333333333333,
              "#31688e"
             ],
             [
              0.4444444444444444,
              "#26828e"
             ],
             [
              0.5555555555555556,
              "#1f9e89"
             ],
             [
              0.6666666666666666,
              "#35b779"
             ],
             [
              0.7777777777777778,
              "#6ece58"
             ],
             [
              0.8888888888888888,
              "#b5de2b"
             ],
             [
              1,
              "#fde725"
             ]
            ],
            "type": "histogram2d"
           }
          ],
          "histogram2dcontour": [
           {
            "colorbar": {
             "outlinewidth": 1,
             "tickcolor": "rgb(36,36,36)",
             "ticks": "outside"
            },
            "colorscale": [
             [
              0,
              "#440154"
             ],
             [
              0.1111111111111111,
              "#482878"
             ],
             [
              0.2222222222222222,
              "#3e4989"
             ],
             [
              0.3333333333333333,
              "#31688e"
             ],
             [
              0.4444444444444444,
              "#26828e"
             ],
             [
              0.5555555555555556,
              "#1f9e89"
             ],
             [
              0.6666666666666666,
              "#35b779"
             ],
             [
              0.7777777777777778,
              "#6ece58"
             ],
             [
              0.8888888888888888,
              "#b5de2b"
             ],
             [
              1,
              "#fde725"
             ]
            ],
            "type": "histogram2dcontour"
           }
          ],
          "mesh3d": [
           {
            "colorbar": {
             "outlinewidth": 1,
             "tickcolor": "rgb(36,36,36)",
             "ticks": "outside"
            },
            "type": "mesh3d"
           }
          ],
          "parcoords": [
           {
            "line": {
             "colorbar": {
              "outlinewidth": 1,
              "tickcolor": "rgb(36,36,36)",
              "ticks": "outside"
             }
            },
            "type": "parcoords"
           }
          ],
          "pie": [
           {
            "automargin": true,
            "type": "pie"
           }
          ],
          "scatter": [
           {
            "marker": {
             "colorbar": {
              "outlinewidth": 1,
              "tickcolor": "rgb(36,36,36)",
              "ticks": "outside"
             }
            },
            "type": "scatter"
           }
          ],
          "scatter3d": [
           {
            "line": {
             "colorbar": {
              "outlinewidth": 1,
              "tickcolor": "rgb(36,36,36)",
              "ticks": "outside"
             }
            },
            "marker": {
             "colorbar": {
              "outlinewidth": 1,
              "tickcolor": "rgb(36,36,36)",
              "ticks": "outside"
             }
            },
            "type": "scatter3d"
           }
          ],
          "scattercarpet": [
           {
            "marker": {
             "colorbar": {
              "outlinewidth": 1,
              "tickcolor": "rgb(36,36,36)",
              "ticks": "outside"
             }
            },
            "type": "scattercarpet"
           }
          ],
          "scattergeo": [
           {
            "marker": {
             "colorbar": {
              "outlinewidth": 1,
              "tickcolor": "rgb(36,36,36)",
              "ticks": "outside"
             }
            },
            "type": "scattergeo"
           }
          ],
          "scattergl": [
           {
            "marker": {
             "colorbar": {
              "outlinewidth": 1,
              "tickcolor": "rgb(36,36,36)",
              "ticks": "outside"
             }
            },
            "type": "scattergl"
           }
          ],
          "scattermapbox": [
           {
            "marker": {
             "colorbar": {
              "outlinewidth": 1,
              "tickcolor": "rgb(36,36,36)",
              "ticks": "outside"
             }
            },
            "type": "scattermapbox"
           }
          ],
          "scatterpolar": [
           {
            "marker": {
             "colorbar": {
              "outlinewidth": 1,
              "tickcolor": "rgb(36,36,36)",
              "ticks": "outside"
             }
            },
            "type": "scatterpolar"
           }
          ],
          "scatterpolargl": [
           {
            "marker": {
             "colorbar": {
              "outlinewidth": 1,
              "tickcolor": "rgb(36,36,36)",
              "ticks": "outside"
             }
            },
            "type": "scatterpolargl"
           }
          ],
          "scatterternary": [
           {
            "marker": {
             "colorbar": {
              "outlinewidth": 1,
              "tickcolor": "rgb(36,36,36)",
              "ticks": "outside"
             }
            },
            "type": "scatterternary"
           }
          ],
          "surface": [
           {
            "colorbar": {
             "outlinewidth": 1,
             "tickcolor": "rgb(36,36,36)",
             "ticks": "outside"
            },
            "colorscale": [
             [
              0,
              "#440154"
             ],
             [
              0.1111111111111111,
              "#482878"
             ],
             [
              0.2222222222222222,
              "#3e4989"
             ],
             [
              0.3333333333333333,
              "#31688e"
             ],
             [
              0.4444444444444444,
              "#26828e"
             ],
             [
              0.5555555555555556,
              "#1f9e89"
             ],
             [
              0.6666666666666666,
              "#35b779"
             ],
             [
              0.7777777777777778,
              "#6ece58"
             ],
             [
              0.8888888888888888,
              "#b5de2b"
             ],
             [
              1,
              "#fde725"
             ]
            ],
            "type": "surface"
           }
          ],
          "table": [
           {
            "cells": {
             "fill": {
              "color": "rgb(237,237,237)"
             },
             "line": {
              "color": "white"
             }
            },
            "header": {
             "fill": {
              "color": "rgb(217,217,217)"
             },
             "line": {
              "color": "white"
             }
            },
            "type": "table"
           }
          ]
         },
         "layout": {
          "annotationdefaults": {
           "arrowhead": 0,
           "arrowwidth": 1
          },
          "autotypenumbers": "strict",
          "coloraxis": {
           "colorbar": {
            "outlinewidth": 1,
            "tickcolor": "rgb(36,36,36)",
            "ticks": "outside"
           }
          },
          "colorscale": {
           "diverging": [
            [
             0,
             "rgb(103,0,31)"
            ],
            [
             0.1,
             "rgb(178,24,43)"
            ],
            [
             0.2,
             "rgb(214,96,77)"
            ],
            [
             0.3,
             "rgb(244,165,130)"
            ],
            [
             0.4,
             "rgb(253,219,199)"
            ],
            [
             0.5,
             "rgb(247,247,247)"
            ],
            [
             0.6,
             "rgb(209,229,240)"
            ],
            [
             0.7,
             "rgb(146,197,222)"
            ],
            [
             0.8,
             "rgb(67,147,195)"
            ],
            [
             0.9,
             "rgb(33,102,172)"
            ],
            [
             1,
             "rgb(5,48,97)"
            ]
           ],
           "sequential": [
            [
             0,
             "#440154"
            ],
            [
             0.1111111111111111,
             "#482878"
            ],
            [
             0.2222222222222222,
             "#3e4989"
            ],
            [
             0.3333333333333333,
             "#31688e"
            ],
            [
             0.4444444444444444,
             "#26828e"
            ],
            [
             0.5555555555555556,
             "#1f9e89"
            ],
            [
             0.6666666666666666,
             "#35b779"
            ],
            [
             0.7777777777777778,
             "#6ece58"
            ],
            [
             0.8888888888888888,
             "#b5de2b"
            ],
            [
             1,
             "#fde725"
            ]
           ],
           "sequentialminus": [
            [
             0,
             "#440154"
            ],
            [
             0.1111111111111111,
             "#482878"
            ],
            [
             0.2222222222222222,
             "#3e4989"
            ],
            [
             0.3333333333333333,
             "#31688e"
            ],
            [
             0.4444444444444444,
             "#26828e"
            ],
            [
             0.5555555555555556,
             "#1f9e89"
            ],
            [
             0.6666666666666666,
             "#35b779"
            ],
            [
             0.7777777777777778,
             "#6ece58"
            ],
            [
             0.8888888888888888,
             "#b5de2b"
            ],
            [
             1,
             "#fde725"
            ]
           ]
          },
          "colorway": [
           "#1F77B4",
           "#FF7F0E",
           "#2CA02C",
           "#D62728",
           "#9467BD",
           "#8C564B",
           "#E377C2",
           "#7F7F7F",
           "#BCBD22",
           "#17BECF"
          ],
          "font": {
           "color": "rgb(36,36,36)"
          },
          "geo": {
           "bgcolor": "white",
           "lakecolor": "white",
           "landcolor": "white",
           "showlakes": true,
           "showland": true,
           "subunitcolor": "white"
          },
          "hoverlabel": {
           "align": "left"
          },
          "hovermode": "closest",
          "mapbox": {
           "style": "light"
          },
          "paper_bgcolor": "white",
          "plot_bgcolor": "white",
          "polar": {
           "angularaxis": {
            "gridcolor": "rgb(232,232,232)",
            "linecolor": "rgb(36,36,36)",
            "showgrid": false,
            "showline": true,
            "ticks": "outside"
           },
           "bgcolor": "white",
           "radialaxis": {
            "gridcolor": "rgb(232,232,232)",
            "linecolor": "rgb(36,36,36)",
            "showgrid": false,
            "showline": true,
            "ticks": "outside"
           }
          },
          "scene": {
           "xaxis": {
            "backgroundcolor": "white",
            "gridcolor": "rgb(232,232,232)",
            "gridwidth": 2,
            "linecolor": "rgb(36,36,36)",
            "showbackground": true,
            "showgrid": false,
            "showline": true,
            "ticks": "outside",
            "zeroline": false,
            "zerolinecolor": "rgb(36,36,36)"
           },
           "yaxis": {
            "backgroundcolor": "white",
            "gridcolor": "rgb(232,232,232)",
            "gridwidth": 2,
            "linecolor": "rgb(36,36,36)",
            "showbackground": true,
            "showgrid": false,
            "showline": true,
            "ticks": "outside",
            "zeroline": false,
            "zerolinecolor": "rgb(36,36,36)"
           },
           "zaxis": {
            "backgroundcolor": "white",
            "gridcolor": "rgb(232,232,232)",
            "gridwidth": 2,
            "linecolor": "rgb(36,36,36)",
            "showbackground": true,
            "showgrid": false,
            "showline": true,
            "ticks": "outside",
            "zeroline": false,
            "zerolinecolor": "rgb(36,36,36)"
           }
          },
          "shapedefaults": {
           "fillcolor": "black",
           "line": {
            "width": 0
           },
           "opacity": 0.3
          },
          "ternary": {
           "aaxis": {
            "gridcolor": "rgb(232,232,232)",
            "linecolor": "rgb(36,36,36)",
            "showgrid": false,
            "showline": true,
            "ticks": "outside"
           },
           "baxis": {
            "gridcolor": "rgb(232,232,232)",
            "linecolor": "rgb(36,36,36)",
            "showgrid": false,
            "showline": true,
            "ticks": "outside"
           },
           "bgcolor": "white",
           "caxis": {
            "gridcolor": "rgb(232,232,232)",
            "linecolor": "rgb(36,36,36)",
            "showgrid": false,
            "showline": true,
            "ticks": "outside"
           }
          },
          "title": {
           "x": 0.05
          },
          "xaxis": {
           "automargin": true,
           "gridcolor": "rgb(232,232,232)",
           "linecolor": "rgb(36,36,36)",
           "showgrid": false,
           "showline": true,
           "ticks": "outside",
           "title": {
            "standoff": 15
           },
           "zeroline": false,
           "zerolinecolor": "rgb(36,36,36)"
          },
          "yaxis": {
           "automargin": true,
           "gridcolor": "rgb(232,232,232)",
           "linecolor": "rgb(36,36,36)",
           "showgrid": false,
           "showline": true,
           "ticks": "outside",
           "title": {
            "standoff": 15
           },
           "zeroline": false,
           "zerolinecolor": "rgb(36,36,36)"
          }
         }
        },
        "title": {
         "text": "Autocorrelation (ACF)"
        },
        "xaxis": {
         "range": [
          -1,
          42
         ]
        },
        "yaxis": {
         "zerolinecolor": "#000000"
        }
       }
      }
     },
     "metadata": {}
    },
    {
     "output_type": "display_data",
     "data": {
      "application/vnd.plotly.v1+json": {
       "config": {
        "plotlyServerURL": "https://plot.ly"
       },
       "data": [
        {
         "marker": {
          "color": "#1f77b4",
          "size": 10
         },
         "mode": "markers",
         "name": "PACF",
         "showlegend": false,
         "type": "scatter",
         "x": [
          0,
          1,
          2,
          3,
          4,
          5,
          6,
          7,
          8,
          9,
          10,
          11,
          12,
          13,
          14,
          15,
          16,
          17,
          18,
          19,
          20,
          21,
          22,
          23,
          24,
          25,
          26,
          27,
          28,
          29,
          30,
          31,
          32,
          33,
          34,
          35,
          36,
          37,
          38,
          39,
          40
         ],
         "y": [
          1,
          0.9546770424360757,
          -0.2652773166601224,
          0.05546954724837973,
          0.10885621529097726,
          0.08112578525491188,
          0.004125405440938228,
          0.1561695525558904,
          0.1037083299722009,
          0.28878143883400087,
          0.20691804782878212,
          0.2411297040448707,
          -0.15800498356330364,
          -0.7183246035212641,
          -0.08948064101694601,
          0.22160591266031393,
          0.13462253307939748,
          0.11561571941287917,
          0.19482939629277324,
          0.09665618446079138,
          -0.20215867968038403,
          -0.0936381004996704,
          -0.3455945721823274,
          -0.10617020550385825,
          0.27780472264774125,
          0.05878159216554823,
          0.009866240447164935,
          0.23768736717970168,
          0.09405682179523556,
          -0.1475054222984244,
          -0.1886090508250151,
          -0.2528011577315711,
          -0.25715378931433414,
          -0.14034961338039045,
          0.18826308695732138,
          0.1306862577602064,
          0.523902189036901,
          0.6914264418571933,
          0.9911639210745623,
          37.10210653745223,
          -0.8853341191600398
         ]
        },
        {
         "line": {
          "color": "#3f3f3f"
         },
         "mode": "lines",
         "name": "Lag1",
         "showlegend": false,
         "type": "scatter",
         "x": [
          0,
          0
         ],
         "y": [
          0,
          1
         ]
        },
        {
         "line": {
          "color": "#3f3f3f"
         },
         "mode": "lines",
         "name": "Lag2",
         "showlegend": false,
         "type": "scatter",
         "x": [
          1,
          1
         ],
         "y": [
          0,
          0.9546770424360757
         ]
        },
        {
         "line": {
          "color": "#3f3f3f"
         },
         "mode": "lines",
         "name": "Lag3",
         "showlegend": false,
         "type": "scatter",
         "x": [
          2,
          2
         ],
         "y": [
          0,
          -0.2652773166601224
         ]
        },
        {
         "line": {
          "color": "#3f3f3f"
         },
         "mode": "lines",
         "name": "Lag4",
         "showlegend": false,
         "type": "scatter",
         "x": [
          3,
          3
         ],
         "y": [
          0,
          0.05546954724837973
         ]
        },
        {
         "line": {
          "color": "#3f3f3f"
         },
         "mode": "lines",
         "name": "Lag5",
         "showlegend": false,
         "type": "scatter",
         "x": [
          4,
          4
         ],
         "y": [
          0,
          0.10885621529097726
         ]
        },
        {
         "line": {
          "color": "#3f3f3f"
         },
         "mode": "lines",
         "name": "Lag6",
         "showlegend": false,
         "type": "scatter",
         "x": [
          5,
          5
         ],
         "y": [
          0,
          0.08112578525491188
         ]
        },
        {
         "line": {
          "color": "#3f3f3f"
         },
         "mode": "lines",
         "name": "Lag7",
         "showlegend": false,
         "type": "scatter",
         "x": [
          6,
          6
         ],
         "y": [
          0,
          0.004125405440938228
         ]
        },
        {
         "line": {
          "color": "#3f3f3f"
         },
         "mode": "lines",
         "name": "Lag8",
         "showlegend": false,
         "type": "scatter",
         "x": [
          7,
          7
         ],
         "y": [
          0,
          0.1561695525558904
         ]
        },
        {
         "line": {
          "color": "#3f3f3f"
         },
         "mode": "lines",
         "name": "Lag9",
         "showlegend": false,
         "type": "scatter",
         "x": [
          8,
          8
         ],
         "y": [
          0,
          0.1037083299722009
         ]
        },
        {
         "line": {
          "color": "#3f3f3f"
         },
         "mode": "lines",
         "name": "Lag10",
         "showlegend": false,
         "type": "scatter",
         "x": [
          9,
          9
         ],
         "y": [
          0,
          0.28878143883400087
         ]
        },
        {
         "line": {
          "color": "#3f3f3f"
         },
         "mode": "lines",
         "name": "Lag11",
         "showlegend": false,
         "type": "scatter",
         "x": [
          10,
          10
         ],
         "y": [
          0,
          0.20691804782878212
         ]
        },
        {
         "line": {
          "color": "#3f3f3f"
         },
         "mode": "lines",
         "name": "Lag12",
         "showlegend": false,
         "type": "scatter",
         "x": [
          11,
          11
         ],
         "y": [
          0,
          0.2411297040448707
         ]
        },
        {
         "line": {
          "color": "#3f3f3f"
         },
         "mode": "lines",
         "name": "Lag13",
         "showlegend": false,
         "type": "scatter",
         "x": [
          12,
          12
         ],
         "y": [
          0,
          -0.15800498356330364
         ]
        },
        {
         "line": {
          "color": "#3f3f3f"
         },
         "mode": "lines",
         "name": "Lag14",
         "showlegend": false,
         "type": "scatter",
         "x": [
          13,
          13
         ],
         "y": [
          0,
          -0.7183246035212641
         ]
        },
        {
         "line": {
          "color": "#3f3f3f"
         },
         "mode": "lines",
         "name": "Lag15",
         "showlegend": false,
         "type": "scatter",
         "x": [
          14,
          14
         ],
         "y": [
          0,
          -0.08948064101694601
         ]
        },
        {
         "line": {
          "color": "#3f3f3f"
         },
         "mode": "lines",
         "name": "Lag16",
         "showlegend": false,
         "type": "scatter",
         "x": [
          15,
          15
         ],
         "y": [
          0,
          0.22160591266031393
         ]
        },
        {
         "line": {
          "color": "#3f3f3f"
         },
         "mode": "lines",
         "name": "Lag17",
         "showlegend": false,
         "type": "scatter",
         "x": [
          16,
          16
         ],
         "y": [
          0,
          0.13462253307939748
         ]
        },
        {
         "line": {
          "color": "#3f3f3f"
         },
         "mode": "lines",
         "name": "Lag18",
         "showlegend": false,
         "type": "scatter",
         "x": [
          17,
          17
         ],
         "y": [
          0,
          0.11561571941287917
         ]
        },
        {
         "line": {
          "color": "#3f3f3f"
         },
         "mode": "lines",
         "name": "Lag19",
         "showlegend": false,
         "type": "scatter",
         "x": [
          18,
          18
         ],
         "y": [
          0,
          0.19482939629277324
         ]
        },
        {
         "line": {
          "color": "#3f3f3f"
         },
         "mode": "lines",
         "name": "Lag20",
         "showlegend": false,
         "type": "scatter",
         "x": [
          19,
          19
         ],
         "y": [
          0,
          0.09665618446079138
         ]
        },
        {
         "line": {
          "color": "#3f3f3f"
         },
         "mode": "lines",
         "name": "Lag21",
         "showlegend": false,
         "type": "scatter",
         "x": [
          20,
          20
         ],
         "y": [
          0,
          -0.20215867968038403
         ]
        },
        {
         "line": {
          "color": "#3f3f3f"
         },
         "mode": "lines",
         "name": "Lag22",
         "showlegend": false,
         "type": "scatter",
         "x": [
          21,
          21
         ],
         "y": [
          0,
          -0.0936381004996704
         ]
        },
        {
         "line": {
          "color": "#3f3f3f"
         },
         "mode": "lines",
         "name": "Lag23",
         "showlegend": false,
         "type": "scatter",
         "x": [
          22,
          22
         ],
         "y": [
          0,
          -0.3455945721823274
         ]
        },
        {
         "line": {
          "color": "#3f3f3f"
         },
         "mode": "lines",
         "name": "Lag24",
         "showlegend": false,
         "type": "scatter",
         "x": [
          23,
          23
         ],
         "y": [
          0,
          -0.10617020550385825
         ]
        },
        {
         "line": {
          "color": "#3f3f3f"
         },
         "mode": "lines",
         "name": "Lag25",
         "showlegend": false,
         "type": "scatter",
         "x": [
          24,
          24
         ],
         "y": [
          0,
          0.27780472264774125
         ]
        },
        {
         "line": {
          "color": "#3f3f3f"
         },
         "mode": "lines",
         "name": "Lag26",
         "showlegend": false,
         "type": "scatter",
         "x": [
          25,
          25
         ],
         "y": [
          0,
          0.05878159216554823
         ]
        },
        {
         "line": {
          "color": "#3f3f3f"
         },
         "mode": "lines",
         "name": "Lag27",
         "showlegend": false,
         "type": "scatter",
         "x": [
          26,
          26
         ],
         "y": [
          0,
          0.009866240447164935
         ]
        },
        {
         "line": {
          "color": "#3f3f3f"
         },
         "mode": "lines",
         "name": "Lag28",
         "showlegend": false,
         "type": "scatter",
         "x": [
          27,
          27
         ],
         "y": [
          0,
          0.23768736717970168
         ]
        },
        {
         "line": {
          "color": "#3f3f3f"
         },
         "mode": "lines",
         "name": "Lag29",
         "showlegend": false,
         "type": "scatter",
         "x": [
          28,
          28
         ],
         "y": [
          0,
          0.09405682179523556
         ]
        },
        {
         "line": {
          "color": "#3f3f3f"
         },
         "mode": "lines",
         "name": "Lag30",
         "showlegend": false,
         "type": "scatter",
         "x": [
          29,
          29
         ],
         "y": [
          0,
          -0.1475054222984244
         ]
        },
        {
         "line": {
          "color": "#3f3f3f"
         },
         "mode": "lines",
         "name": "Lag31",
         "showlegend": false,
         "type": "scatter",
         "x": [
          30,
          30
         ],
         "y": [
          0,
          -0.1886090508250151
         ]
        },
        {
         "line": {
          "color": "#3f3f3f"
         },
         "mode": "lines",
         "name": "Lag32",
         "showlegend": false,
         "type": "scatter",
         "x": [
          31,
          31
         ],
         "y": [
          0,
          -0.2528011577315711
         ]
        },
        {
         "line": {
          "color": "#3f3f3f"
         },
         "mode": "lines",
         "name": "Lag33",
         "showlegend": false,
         "type": "scatter",
         "x": [
          32,
          32
         ],
         "y": [
          0,
          -0.25715378931433414
         ]
        },
        {
         "line": {
          "color": "#3f3f3f"
         },
         "mode": "lines",
         "name": "Lag34",
         "showlegend": false,
         "type": "scatter",
         "x": [
          33,
          33
         ],
         "y": [
          0,
          -0.14034961338039045
         ]
        },
        {
         "line": {
          "color": "#3f3f3f"
         },
         "mode": "lines",
         "name": "Lag35",
         "showlegend": false,
         "type": "scatter",
         "x": [
          34,
          34
         ],
         "y": [
          0,
          0.18826308695732138
         ]
        },
        {
         "line": {
          "color": "#3f3f3f"
         },
         "mode": "lines",
         "name": "Lag36",
         "showlegend": false,
         "type": "scatter",
         "x": [
          35,
          35
         ],
         "y": [
          0,
          0.1306862577602064
         ]
        },
        {
         "line": {
          "color": "#3f3f3f"
         },
         "mode": "lines",
         "name": "Lag37",
         "showlegend": false,
         "type": "scatter",
         "x": [
          36,
          36
         ],
         "y": [
          0,
          0.523902189036901
         ]
        },
        {
         "line": {
          "color": "#3f3f3f"
         },
         "mode": "lines",
         "name": "Lag38",
         "showlegend": false,
         "type": "scatter",
         "x": [
          37,
          37
         ],
         "y": [
          0,
          0.6914264418571933
         ]
        },
        {
         "line": {
          "color": "#3f3f3f"
         },
         "mode": "lines",
         "name": "Lag39",
         "showlegend": false,
         "type": "scatter",
         "x": [
          38,
          38
         ],
         "y": [
          0,
          0.9911639210745623
         ]
        },
        {
         "line": {
          "color": "#3f3f3f"
         },
         "mode": "lines",
         "name": "Lag40",
         "showlegend": false,
         "type": "scatter",
         "x": [
          39,
          39
         ],
         "y": [
          0,
          37.10210653745223
         ]
        },
        {
         "line": {
          "color": "#3f3f3f"
         },
         "mode": "lines",
         "name": "Lag41",
         "showlegend": false,
         "type": "scatter",
         "x": [
          40,
          40
         ],
         "y": [
          0,
          -0.8853341191600398
         ]
        },
        {
         "line": {
          "color": "rgba(255,255,255,0)"
         },
         "mode": "lines",
         "name": "UC",
         "showlegend": false,
         "type": "scatter",
         "x": [
          0,
          1,
          2,
          3,
          4,
          5,
          6,
          7,
          8,
          9,
          10,
          11,
          12,
          13,
          14,
          15,
          16,
          17,
          18,
          19,
          20,
          21,
          22,
          23,
          24,
          25,
          26,
          27,
          28,
          29,
          30,
          31,
          32,
          33,
          34,
          35,
          36,
          37,
          38,
          39,
          40
         ],
         "y": [
          0,
          0.16333033204500447,
          0.1633303320450045,
          0.16333033204500452,
          0.16333033204500447,
          0.1633303320450045,
          0.1633303320450045,
          0.1633303320450045,
          0.16333033204500447,
          0.16333033204500447,
          0.1633303320450045,
          0.1633303320450045,
          0.1633303320450045,
          0.16333033204500447,
          0.1633303320450045,
          0.16333033204500447,
          0.16333033204500452,
          0.16333033204500447,
          0.16333033204500452,
          0.16333033204500447,
          0.1633303320450045,
          0.1633303320450045,
          0.1633303320450045,
          0.1633303320450045,
          0.16333033204500447,
          0.1633303320450045,
          0.1633303320450045,
          0.16333033204500452,
          0.16333033204500447,
          0.1633303320450045,
          0.1633303320450045,
          0.1633303320450045,
          0.1633303320450045,
          0.1633303320450045,
          0.1633303320450045,
          0.1633303320450045,
          0.16333033204500447,
          0.16333033204500447,
          0.16333033204500447,
          0.1633303320450068,
          0.16333033204500447
         ]
        },
        {
         "fill": "tonexty",
         "fillcolor": "rgba(32, 146, 230,0.3)",
         "line": {
          "color": "rgba(255,255,255,0)"
         },
         "mode": "lines",
         "name": "LC",
         "showlegend": false,
         "type": "scatter",
         "x": [
          0,
          1,
          2,
          3,
          4,
          5,
          6,
          7,
          8,
          9,
          10,
          11,
          12,
          13,
          14,
          15,
          16,
          17,
          18,
          19,
          20,
          21,
          22,
          23,
          24,
          25,
          26,
          27,
          28,
          29,
          30,
          31,
          32,
          33,
          34,
          35,
          36,
          37,
          38,
          39,
          40
         ],
         "y": [
          0,
          -0.16333033204500447,
          -0.16333033204500452,
          -0.1633303320450045,
          -0.1633303320450045,
          -0.1633303320450045,
          -0.1633303320450045,
          -0.1633303320450045,
          -0.1633303320450045,
          -0.1633303320450045,
          -0.1633303320450045,
          -0.1633303320450045,
          -0.1633303320450045,
          -0.16333033204500447,
          -0.16333033204500447,
          -0.1633303320450045,
          -0.1633303320450045,
          -0.1633303320450045,
          -0.1633303320450045,
          -0.1633303320450045,
          -0.16333033204500447,
          -0.16333033204500447,
          -0.16333033204500452,
          -0.16333033204500447,
          -0.1633303320450045,
          -0.1633303320450045,
          -0.1633303320450045,
          -0.1633303320450045,
          -0.1633303320450045,
          -0.16333033204500452,
          -0.16333033204500447,
          -0.16333033204500447,
          -0.16333033204500452,
          -0.1633303320450045,
          -0.1633303320450045,
          -0.1633303320450045,
          -0.16333033204500447,
          -0.16333033204500447,
          -0.16333033204500447,
          -0.1633303320450068,
          -0.16333033204500447
         ]
        },
        {
         "line": {
          "color": "#3f3f3f"
         },
         "mode": "lines",
         "name": "",
         "showlegend": false,
         "type": "scatter",
         "x": [
          0,
          41
         ],
         "y": [
          0,
          0
         ]
        }
       ],
       "layout": {
        "template": {
         "data": {
          "bar": [
           {
            "error_x": {
             "color": "rgb(36,36,36)"
            },
            "error_y": {
             "color": "rgb(36,36,36)"
            },
            "marker": {
             "line": {
              "color": "white",
              "width": 0.5
             },
             "pattern": {
              "fillmode": "overlay",
              "size": 10,
              "solidity": 0.2
             }
            },
            "type": "bar"
           }
          ],
          "barpolar": [
           {
            "marker": {
             "line": {
              "color": "white",
              "width": 0.5
             },
             "pattern": {
              "fillmode": "overlay",
              "size": 10,
              "solidity": 0.2
             }
            },
            "type": "barpolar"
           }
          ],
          "carpet": [
           {
            "aaxis": {
             "endlinecolor": "rgb(36,36,36)",
             "gridcolor": "white",
             "linecolor": "white",
             "minorgridcolor": "white",
             "startlinecolor": "rgb(36,36,36)"
            },
            "baxis": {
             "endlinecolor": "rgb(36,36,36)",
             "gridcolor": "white",
             "linecolor": "white",
             "minorgridcolor": "white",
             "startlinecolor": "rgb(36,36,36)"
            },
            "type": "carpet"
           }
          ],
          "choropleth": [
           {
            "colorbar": {
             "outlinewidth": 1,
             "tickcolor": "rgb(36,36,36)",
             "ticks": "outside"
            },
            "type": "choropleth"
           }
          ],
          "contour": [
           {
            "colorbar": {
             "outlinewidth": 1,
             "tickcolor": "rgb(36,36,36)",
             "ticks": "outside"
            },
            "colorscale": [
             [
              0,
              "#440154"
             ],
             [
              0.1111111111111111,
              "#482878"
             ],
             [
              0.2222222222222222,
              "#3e4989"
             ],
             [
              0.3333333333333333,
              "#31688e"
             ],
             [
              0.4444444444444444,
              "#26828e"
             ],
             [
              0.5555555555555556,
              "#1f9e89"
             ],
             [
              0.6666666666666666,
              "#35b779"
             ],
             [
              0.7777777777777778,
              "#6ece58"
             ],
             [
              0.8888888888888888,
              "#b5de2b"
             ],
             [
              1,
              "#fde725"
             ]
            ],
            "type": "contour"
           }
          ],
          "contourcarpet": [
           {
            "colorbar": {
             "outlinewidth": 1,
             "tickcolor": "rgb(36,36,36)",
             "ticks": "outside"
            },
            "type": "contourcarpet"
           }
          ],
          "heatmap": [
           {
            "colorbar": {
             "outlinewidth": 1,
             "tickcolor": "rgb(36,36,36)",
             "ticks": "outside"
            },
            "colorscale": [
             [
              0,
              "#440154"
             ],
             [
              0.1111111111111111,
              "#482878"
             ],
             [
              0.2222222222222222,
              "#3e4989"
             ],
             [
              0.3333333333333333,
              "#31688e"
             ],
             [
              0.4444444444444444,
              "#26828e"
             ],
             [
              0.5555555555555556,
              "#1f9e89"
             ],
             [
              0.6666666666666666,
              "#35b779"
             ],
             [
              0.7777777777777778,
              "#6ece58"
             ],
             [
              0.8888888888888888,
              "#b5de2b"
             ],
             [
              1,
              "#fde725"
             ]
            ],
            "type": "heatmap"
           }
          ],
          "heatmapgl": [
           {
            "colorbar": {
             "outlinewidth": 1,
             "tickcolor": "rgb(36,36,36)",
             "ticks": "outside"
            },
            "colorscale": [
             [
              0,
              "#440154"
             ],
             [
              0.1111111111111111,
              "#482878"
             ],
             [
              0.2222222222222222,
              "#3e4989"
             ],
             [
              0.3333333333333333,
              "#31688e"
             ],
             [
              0.4444444444444444,
              "#26828e"
             ],
             [
              0.5555555555555556,
              "#1f9e89"
             ],
             [
              0.6666666666666666,
              "#35b779"
             ],
             [
              0.7777777777777778,
              "#6ece58"
             ],
             [
              0.8888888888888888,
              "#b5de2b"
             ],
             [
              1,
              "#fde725"
             ]
            ],
            "type": "heatmapgl"
           }
          ],
          "histogram": [
           {
            "marker": {
             "line": {
              "color": "white",
              "width": 0.6
             }
            },
            "type": "histogram"
           }
          ],
          "histogram2d": [
           {
            "colorbar": {
             "outlinewidth": 1,
             "tickcolor": "rgb(36,36,36)",
             "ticks": "outside"
            },
            "colorscale": [
             [
              0,
              "#440154"
             ],
             [
              0.1111111111111111,
              "#482878"
             ],
             [
              0.2222222222222222,
              "#3e4989"
             ],
             [
              0.3333333333333333,
              "#31688e"
             ],
             [
              0.4444444444444444,
              "#26828e"
             ],
             [
              0.5555555555555556,
              "#1f9e89"
             ],
             [
              0.6666666666666666,
              "#35b779"
             ],
             [
              0.7777777777777778,
              "#6ece58"
             ],
             [
              0.8888888888888888,
              "#b5de2b"
             ],
             [
              1,
              "#fde725"
             ]
            ],
            "type": "histogram2d"
           }
          ],
          "histogram2dcontour": [
           {
            "colorbar": {
             "outlinewidth": 1,
             "tickcolor": "rgb(36,36,36)",
             "ticks": "outside"
            },
            "colorscale": [
             [
              0,
              "#440154"
             ],
             [
              0.1111111111111111,
              "#482878"
             ],
             [
              0.2222222222222222,
              "#3e4989"
             ],
             [
              0.3333333333333333,
              "#31688e"
             ],
             [
              0.4444444444444444,
              "#26828e"
             ],
             [
              0.5555555555555556,
              "#1f9e89"
             ],
             [
              0.6666666666666666,
              "#35b779"
             ],
             [
              0.7777777777777778,
              "#6ece58"
             ],
             [
              0.8888888888888888,
              "#b5de2b"
             ],
             [
              1,
              "#fde725"
             ]
            ],
            "type": "histogram2dcontour"
           }
          ],
          "mesh3d": [
           {
            "colorbar": {
             "outlinewidth": 1,
             "tickcolor": "rgb(36,36,36)",
             "ticks": "outside"
            },
            "type": "mesh3d"
           }
          ],
          "parcoords": [
           {
            "line": {
             "colorbar": {
              "outlinewidth": 1,
              "tickcolor": "rgb(36,36,36)",
              "ticks": "outside"
             }
            },
            "type": "parcoords"
           }
          ],
          "pie": [
           {
            "automargin": true,
            "type": "pie"
           }
          ],
          "scatter": [
           {
            "marker": {
             "colorbar": {
              "outlinewidth": 1,
              "tickcolor": "rgb(36,36,36)",
              "ticks": "outside"
             }
            },
            "type": "scatter"
           }
          ],
          "scatter3d": [
           {
            "line": {
             "colorbar": {
              "outlinewidth": 1,
              "tickcolor": "rgb(36,36,36)",
              "ticks": "outside"
             }
            },
            "marker": {
             "colorbar": {
              "outlinewidth": 1,
              "tickcolor": "rgb(36,36,36)",
              "ticks": "outside"
             }
            },
            "type": "scatter3d"
           }
          ],
          "scattercarpet": [
           {
            "marker": {
             "colorbar": {
              "outlinewidth": 1,
              "tickcolor": "rgb(36,36,36)",
              "ticks": "outside"
             }
            },
            "type": "scattercarpet"
           }
          ],
          "scattergeo": [
           {
            "marker": {
             "colorbar": {
              "outlinewidth": 1,
              "tickcolor": "rgb(36,36,36)",
              "ticks": "outside"
             }
            },
            "type": "scattergeo"
           }
          ],
          "scattergl": [
           {
            "marker": {
             "colorbar": {
              "outlinewidth": 1,
              "tickcolor": "rgb(36,36,36)",
              "ticks": "outside"
             }
            },
            "type": "scattergl"
           }
          ],
          "scattermapbox": [
           {
            "marker": {
             "colorbar": {
              "outlinewidth": 1,
              "tickcolor": "rgb(36,36,36)",
              "ticks": "outside"
             }
            },
            "type": "scattermapbox"
           }
          ],
          "scatterpolar": [
           {
            "marker": {
             "colorbar": {
              "outlinewidth": 1,
              "tickcolor": "rgb(36,36,36)",
              "ticks": "outside"
             }
            },
            "type": "scatterpolar"
           }
          ],
          "scatterpolargl": [
           {
            "marker": {
             "colorbar": {
              "outlinewidth": 1,
              "tickcolor": "rgb(36,36,36)",
              "ticks": "outside"
             }
            },
            "type": "scatterpolargl"
           }
          ],
          "scatterternary": [
           {
            "marker": {
             "colorbar": {
              "outlinewidth": 1,
              "tickcolor": "rgb(36,36,36)",
              "ticks": "outside"
             }
            },
            "type": "scatterternary"
           }
          ],
          "surface": [
           {
            "colorbar": {
             "outlinewidth": 1,
             "tickcolor": "rgb(36,36,36)",
             "ticks": "outside"
            },
            "colorscale": [
             [
              0,
              "#440154"
             ],
             [
              0.1111111111111111,
              "#482878"
             ],
             [
              0.2222222222222222,
              "#3e4989"
             ],
             [
              0.3333333333333333,
              "#31688e"
             ],
             [
              0.4444444444444444,
              "#26828e"
             ],
             [
              0.5555555555555556,
              "#1f9e89"
             ],
             [
              0.6666666666666666,
              "#35b779"
             ],
             [
              0.7777777777777778,
              "#6ece58"
             ],
             [
              0.8888888888888888,
              "#b5de2b"
             ],
             [
              1,
              "#fde725"
             ]
            ],
            "type": "surface"
           }
          ],
          "table": [
           {
            "cells": {
             "fill": {
              "color": "rgb(237,237,237)"
             },
             "line": {
              "color": "white"
             }
            },
            "header": {
             "fill": {
              "color": "rgb(217,217,217)"
             },
             "line": {
              "color": "white"
             }
            },
            "type": "table"
           }
          ]
         },
         "layout": {
          "annotationdefaults": {
           "arrowhead": 0,
           "arrowwidth": 1
          },
          "autotypenumbers": "strict",
          "coloraxis": {
           "colorbar": {
            "outlinewidth": 1,
            "tickcolor": "rgb(36,36,36)",
            "ticks": "outside"
           }
          },
          "colorscale": {
           "diverging": [
            [
             0,
             "rgb(103,0,31)"
            ],
            [
             0.1,
             "rgb(178,24,43)"
            ],
            [
             0.2,
             "rgb(214,96,77)"
            ],
            [
             0.3,
             "rgb(244,165,130)"
            ],
            [
             0.4,
             "rgb(253,219,199)"
            ],
            [
             0.5,
             "rgb(247,247,247)"
            ],
            [
             0.6,
             "rgb(209,229,240)"
            ],
            [
             0.7,
             "rgb(146,197,222)"
            ],
            [
             0.8,
             "rgb(67,147,195)"
            ],
            [
             0.9,
             "rgb(33,102,172)"
            ],
            [
             1,
             "rgb(5,48,97)"
            ]
           ],
           "sequential": [
            [
             0,
             "#440154"
            ],
            [
             0.1111111111111111,
             "#482878"
            ],
            [
             0.2222222222222222,
             "#3e4989"
            ],
            [
             0.3333333333333333,
             "#31688e"
            ],
            [
             0.4444444444444444,
             "#26828e"
            ],
            [
             0.5555555555555556,
             "#1f9e89"
            ],
            [
             0.6666666666666666,
             "#35b779"
            ],
            [
             0.7777777777777778,
             "#6ece58"
            ],
            [
             0.8888888888888888,
             "#b5de2b"
            ],
            [
             1,
             "#fde725"
            ]
           ],
           "sequentialminus": [
            [
             0,
             "#440154"
            ],
            [
             0.1111111111111111,
             "#482878"
            ],
            [
             0.2222222222222222,
             "#3e4989"
            ],
            [
             0.3333333333333333,
             "#31688e"
            ],
            [
             0.4444444444444444,
             "#26828e"
            ],
            [
             0.5555555555555556,
             "#1f9e89"
            ],
            [
             0.6666666666666666,
             "#35b779"
            ],
            [
             0.7777777777777778,
             "#6ece58"
            ],
            [
             0.8888888888888888,
             "#b5de2b"
            ],
            [
             1,
             "#fde725"
            ]
           ]
          },
          "colorway": [
           "#1F77B4",
           "#FF7F0E",
           "#2CA02C",
           "#D62728",
           "#9467BD",
           "#8C564B",
           "#E377C2",
           "#7F7F7F",
           "#BCBD22",
           "#17BECF"
          ],
          "font": {
           "color": "rgb(36,36,36)"
          },
          "geo": {
           "bgcolor": "white",
           "lakecolor": "white",
           "landcolor": "white",
           "showlakes": true,
           "showland": true,
           "subunitcolor": "white"
          },
          "hoverlabel": {
           "align": "left"
          },
          "hovermode": "closest",
          "mapbox": {
           "style": "light"
          },
          "paper_bgcolor": "white",
          "plot_bgcolor": "white",
          "polar": {
           "angularaxis": {
            "gridcolor": "rgb(232,232,232)",
            "linecolor": "rgb(36,36,36)",
            "showgrid": false,
            "showline": true,
            "ticks": "outside"
           },
           "bgcolor": "white",
           "radialaxis": {
            "gridcolor": "rgb(232,232,232)",
            "linecolor": "rgb(36,36,36)",
            "showgrid": false,
            "showline": true,
            "ticks": "outside"
           }
          },
          "scene": {
           "xaxis": {
            "backgroundcolor": "white",
            "gridcolor": "rgb(232,232,232)",
            "gridwidth": 2,
            "linecolor": "rgb(36,36,36)",
            "showbackground": true,
            "showgrid": false,
            "showline": true,
            "ticks": "outside",
            "zeroline": false,
            "zerolinecolor": "rgb(36,36,36)"
           },
           "yaxis": {
            "backgroundcolor": "white",
            "gridcolor": "rgb(232,232,232)",
            "gridwidth": 2,
            "linecolor": "rgb(36,36,36)",
            "showbackground": true,
            "showgrid": false,
            "showline": true,
            "ticks": "outside",
            "zeroline": false,
            "zerolinecolor": "rgb(36,36,36)"
           },
           "zaxis": {
            "backgroundcolor": "white",
            "gridcolor": "rgb(232,232,232)",
            "gridwidth": 2,
            "linecolor": "rgb(36,36,36)",
            "showbackground": true,
            "showgrid": false,
            "showline": true,
            "ticks": "outside",
            "zeroline": false,
            "zerolinecolor": "rgb(36,36,36)"
           }
          },
          "shapedefaults": {
           "fillcolor": "black",
           "line": {
            "width": 0
           },
           "opacity": 0.3
          },
          "ternary": {
           "aaxis": {
            "gridcolor": "rgb(232,232,232)",
            "linecolor": "rgb(36,36,36)",
            "showgrid": false,
            "showline": true,
            "ticks": "outside"
           },
           "baxis": {
            "gridcolor": "rgb(232,232,232)",
            "linecolor": "rgb(36,36,36)",
            "showgrid": false,
            "showline": true,
            "ticks": "outside"
           },
           "bgcolor": "white",
           "caxis": {
            "gridcolor": "rgb(232,232,232)",
            "linecolor": "rgb(36,36,36)",
            "showgrid": false,
            "showline": true,
            "ticks": "outside"
           }
          },
          "title": {
           "x": 0.05
          },
          "xaxis": {
           "automargin": true,
           "gridcolor": "rgb(232,232,232)",
           "linecolor": "rgb(36,36,36)",
           "showgrid": false,
           "showline": true,
           "ticks": "outside",
           "title": {
            "standoff": 15
           },
           "zeroline": false,
           "zerolinecolor": "rgb(36,36,36)"
          },
          "yaxis": {
           "automargin": true,
           "gridcolor": "rgb(232,232,232)",
           "linecolor": "rgb(36,36,36)",
           "showgrid": false,
           "showline": true,
           "ticks": "outside",
           "title": {
            "standoff": 15
           },
           "zeroline": false,
           "zerolinecolor": "rgb(36,36,36)"
          }
         }
        },
        "title": {
         "text": "Partial Autocorrelation (PACF)"
        },
        "xaxis": {
         "range": [
          -1,
          42
         ]
        },
        "yaxis": {
         "zerolinecolor": "#000000"
        }
       }
      }
     },
     "metadata": {}
    }
   ],
   "metadata": {}
  },
  {
   "cell_type": "code",
   "execution_count": 8,
   "source": [
    "# Show the train-test splits on the dataset\r\n",
    "# Internally split - len(fh) as test set, remaining used as test set\r\n",
    "exp.plot_model(plot=\"train_test_split\")\r\n",
    "\r\n",
    "# Show the Cross Validation splits inside the train set\r\n",
    "exp.plot_model(plot=\"cv\")"
   ],
   "outputs": [
    {
     "output_type": "display_data",
     "data": {
      "application/vnd.plotly.v1+json": {
       "config": {
        "plotlyServerURL": "https://plot.ly"
       },
       "data": [
        {
         "marker": {
          "color": "#1f77b4"
         },
         "mode": "lines+markers",
         "name": "Train",
         "type": "scatter",
         "x": [
          "1949-01-01T00:00:00",
          "1949-02-01T00:00:00",
          "1949-03-01T00:00:00",
          "1949-04-01T00:00:00",
          "1949-05-01T00:00:00",
          "1949-06-01T00:00:00",
          "1949-07-01T00:00:00",
          "1949-08-01T00:00:00",
          "1949-09-01T00:00:00",
          "1949-10-01T00:00:00",
          "1949-11-01T00:00:00",
          "1949-12-01T00:00:00",
          "1950-01-01T00:00:00",
          "1950-02-01T00:00:00",
          "1950-03-01T00:00:00",
          "1950-04-01T00:00:00",
          "1950-05-01T00:00:00",
          "1950-06-01T00:00:00",
          "1950-07-01T00:00:00",
          "1950-08-01T00:00:00",
          "1950-09-01T00:00:00",
          "1950-10-01T00:00:00",
          "1950-11-01T00:00:00",
          "1950-12-01T00:00:00",
          "1951-01-01T00:00:00",
          "1951-02-01T00:00:00",
          "1951-03-01T00:00:00",
          "1951-04-01T00:00:00",
          "1951-05-01T00:00:00",
          "1951-06-01T00:00:00",
          "1951-07-01T00:00:00",
          "1951-08-01T00:00:00",
          "1951-09-01T00:00:00",
          "1951-10-01T00:00:00",
          "1951-11-01T00:00:00",
          "1951-12-01T00:00:00",
          "1952-01-01T00:00:00",
          "1952-02-01T00:00:00",
          "1952-03-01T00:00:00",
          "1952-04-01T00:00:00",
          "1952-05-01T00:00:00",
          "1952-06-01T00:00:00",
          "1952-07-01T00:00:00",
          "1952-08-01T00:00:00",
          "1952-09-01T00:00:00",
          "1952-10-01T00:00:00",
          "1952-11-01T00:00:00",
          "1952-12-01T00:00:00",
          "1953-01-01T00:00:00",
          "1953-02-01T00:00:00",
          "1953-03-01T00:00:00",
          "1953-04-01T00:00:00",
          "1953-05-01T00:00:00",
          "1953-06-01T00:00:00",
          "1953-07-01T00:00:00",
          "1953-08-01T00:00:00",
          "1953-09-01T00:00:00",
          "1953-10-01T00:00:00",
          "1953-11-01T00:00:00",
          "1953-12-01T00:00:00",
          "1954-01-01T00:00:00",
          "1954-02-01T00:00:00",
          "1954-03-01T00:00:00",
          "1954-04-01T00:00:00",
          "1954-05-01T00:00:00",
          "1954-06-01T00:00:00",
          "1954-07-01T00:00:00",
          "1954-08-01T00:00:00",
          "1954-09-01T00:00:00",
          "1954-10-01T00:00:00",
          "1954-11-01T00:00:00",
          "1954-12-01T00:00:00",
          "1955-01-01T00:00:00",
          "1955-02-01T00:00:00",
          "1955-03-01T00:00:00",
          "1955-04-01T00:00:00",
          "1955-05-01T00:00:00",
          "1955-06-01T00:00:00",
          "1955-07-01T00:00:00",
          "1955-08-01T00:00:00",
          "1955-09-01T00:00:00",
          "1955-10-01T00:00:00",
          "1955-11-01T00:00:00",
          "1955-12-01T00:00:00",
          "1956-01-01T00:00:00",
          "1956-02-01T00:00:00",
          "1956-03-01T00:00:00",
          "1956-04-01T00:00:00",
          "1956-05-01T00:00:00",
          "1956-06-01T00:00:00",
          "1956-07-01T00:00:00",
          "1956-08-01T00:00:00",
          "1956-09-01T00:00:00",
          "1956-10-01T00:00:00",
          "1956-11-01T00:00:00",
          "1956-12-01T00:00:00",
          "1957-01-01T00:00:00",
          "1957-02-01T00:00:00",
          "1957-03-01T00:00:00",
          "1957-04-01T00:00:00",
          "1957-05-01T00:00:00",
          "1957-06-01T00:00:00",
          "1957-07-01T00:00:00",
          "1957-08-01T00:00:00",
          "1957-09-01T00:00:00",
          "1957-10-01T00:00:00",
          "1957-11-01T00:00:00",
          "1957-12-01T00:00:00",
          "1958-01-01T00:00:00",
          "1958-02-01T00:00:00",
          "1958-03-01T00:00:00",
          "1958-04-01T00:00:00",
          "1958-05-01T00:00:00",
          "1958-06-01T00:00:00",
          "1958-07-01T00:00:00",
          "1958-08-01T00:00:00",
          "1958-09-01T00:00:00",
          "1958-10-01T00:00:00",
          "1958-11-01T00:00:00",
          "1958-12-01T00:00:00",
          "1959-01-01T00:00:00",
          "1959-02-01T00:00:00",
          "1959-03-01T00:00:00",
          "1959-04-01T00:00:00",
          "1959-05-01T00:00:00",
          "1959-06-01T00:00:00",
          "1959-07-01T00:00:00",
          "1959-08-01T00:00:00",
          "1959-09-01T00:00:00",
          "1959-10-01T00:00:00",
          "1959-11-01T00:00:00",
          "1959-12-01T00:00:00"
         ],
         "y": [
          112,
          118,
          132,
          129,
          121,
          135,
          148,
          148,
          136,
          119,
          104,
          118,
          115,
          126,
          141,
          135,
          125,
          149,
          170,
          170,
          158,
          133,
          114,
          140,
          145,
          150,
          178,
          163,
          172,
          178,
          199,
          199,
          184,
          162,
          146,
          166,
          171,
          180,
          193,
          181,
          183,
          218,
          230,
          242,
          209,
          191,
          172,
          194,
          196,
          196,
          236,
          235,
          229,
          243,
          264,
          272,
          237,
          211,
          180,
          201,
          204,
          188,
          235,
          227,
          234,
          264,
          302,
          293,
          259,
          229,
          203,
          229,
          242,
          233,
          267,
          269,
          270,
          315,
          364,
          347,
          312,
          274,
          237,
          278,
          284,
          277,
          317,
          313,
          318,
          374,
          413,
          405,
          355,
          306,
          271,
          306,
          315,
          301,
          356,
          348,
          355,
          422,
          465,
          467,
          404,
          347,
          305,
          336,
          340,
          318,
          362,
          348,
          363,
          435,
          491,
          505,
          404,
          359,
          310,
          337,
          360,
          342,
          406,
          396,
          420,
          472,
          548,
          559,
          463,
          407,
          362,
          405
         ]
        },
        {
         "marker": {
          "color": "#FFA500"
         },
         "mode": "lines+markers",
         "name": "Test",
         "type": "scatter",
         "x": [
          "1960-01-01T00:00:00",
          "1960-02-01T00:00:00",
          "1960-03-01T00:00:00",
          "1960-04-01T00:00:00",
          "1960-05-01T00:00:00",
          "1960-06-01T00:00:00",
          "1960-07-01T00:00:00",
          "1960-08-01T00:00:00",
          "1960-09-01T00:00:00",
          "1960-10-01T00:00:00",
          "1960-11-01T00:00:00",
          "1960-12-01T00:00:00"
         ],
         "y": [
          417,
          391,
          419,
          461,
          472,
          535,
          622,
          606,
          508,
          461,
          390,
          432
         ]
        }
       ],
       "layout": {
        "showlegend": true,
        "template": {
         "data": {
          "bar": [
           {
            "error_x": {
             "color": "rgb(36,36,36)"
            },
            "error_y": {
             "color": "rgb(36,36,36)"
            },
            "marker": {
             "line": {
              "color": "white",
              "width": 0.5
             },
             "pattern": {
              "fillmode": "overlay",
              "size": 10,
              "solidity": 0.2
             }
            },
            "type": "bar"
           }
          ],
          "barpolar": [
           {
            "marker": {
             "line": {
              "color": "white",
              "width": 0.5
             },
             "pattern": {
              "fillmode": "overlay",
              "size": 10,
              "solidity": 0.2
             }
            },
            "type": "barpolar"
           }
          ],
          "carpet": [
           {
            "aaxis": {
             "endlinecolor": "rgb(36,36,36)",
             "gridcolor": "white",
             "linecolor": "white",
             "minorgridcolor": "white",
             "startlinecolor": "rgb(36,36,36)"
            },
            "baxis": {
             "endlinecolor": "rgb(36,36,36)",
             "gridcolor": "white",
             "linecolor": "white",
             "minorgridcolor": "white",
             "startlinecolor": "rgb(36,36,36)"
            },
            "type": "carpet"
           }
          ],
          "choropleth": [
           {
            "colorbar": {
             "outlinewidth": 1,
             "tickcolor": "rgb(36,36,36)",
             "ticks": "outside"
            },
            "type": "choropleth"
           }
          ],
          "contour": [
           {
            "colorbar": {
             "outlinewidth": 1,
             "tickcolor": "rgb(36,36,36)",
             "ticks": "outside"
            },
            "colorscale": [
             [
              0,
              "#440154"
             ],
             [
              0.1111111111111111,
              "#482878"
             ],
             [
              0.2222222222222222,
              "#3e4989"
             ],
             [
              0.3333333333333333,
              "#31688e"
             ],
             [
              0.4444444444444444,
              "#26828e"
             ],
             [
              0.5555555555555556,
              "#1f9e89"
             ],
             [
              0.6666666666666666,
              "#35b779"
             ],
             [
              0.7777777777777778,
              "#6ece58"
             ],
             [
              0.8888888888888888,
              "#b5de2b"
             ],
             [
              1,
              "#fde725"
             ]
            ],
            "type": "contour"
           }
          ],
          "contourcarpet": [
           {
            "colorbar": {
             "outlinewidth": 1,
             "tickcolor": "rgb(36,36,36)",
             "ticks": "outside"
            },
            "type": "contourcarpet"
           }
          ],
          "heatmap": [
           {
            "colorbar": {
             "outlinewidth": 1,
             "tickcolor": "rgb(36,36,36)",
             "ticks": "outside"
            },
            "colorscale": [
             [
              0,
              "#440154"
             ],
             [
              0.1111111111111111,
              "#482878"
             ],
             [
              0.2222222222222222,
              "#3e4989"
             ],
             [
              0.3333333333333333,
              "#31688e"
             ],
             [
              0.4444444444444444,
              "#26828e"
             ],
             [
              0.5555555555555556,
              "#1f9e89"
             ],
             [
              0.6666666666666666,
              "#35b779"
             ],
             [
              0.7777777777777778,
              "#6ece58"
             ],
             [
              0.8888888888888888,
              "#b5de2b"
             ],
             [
              1,
              "#fde725"
             ]
            ],
            "type": "heatmap"
           }
          ],
          "heatmapgl": [
           {
            "colorbar": {
             "outlinewidth": 1,
             "tickcolor": "rgb(36,36,36)",
             "ticks": "outside"
            },
            "colorscale": [
             [
              0,
              "#440154"
             ],
             [
              0.1111111111111111,
              "#482878"
             ],
             [
              0.2222222222222222,
              "#3e4989"
             ],
             [
              0.3333333333333333,
              "#31688e"
             ],
             [
              0.4444444444444444,
              "#26828e"
             ],
             [
              0.5555555555555556,
              "#1f9e89"
             ],
             [
              0.6666666666666666,
              "#35b779"
             ],
             [
              0.7777777777777778,
              "#6ece58"
             ],
             [
              0.8888888888888888,
              "#b5de2b"
             ],
             [
              1,
              "#fde725"
             ]
            ],
            "type": "heatmapgl"
           }
          ],
          "histogram": [
           {
            "marker": {
             "line": {
              "color": "white",
              "width": 0.6
             }
            },
            "type": "histogram"
           }
          ],
          "histogram2d": [
           {
            "colorbar": {
             "outlinewidth": 1,
             "tickcolor": "rgb(36,36,36)",
             "ticks": "outside"
            },
            "colorscale": [
             [
              0,
              "#440154"
             ],
             [
              0.1111111111111111,
              "#482878"
             ],
             [
              0.2222222222222222,
              "#3e4989"
             ],
             [
              0.3333333333333333,
              "#31688e"
             ],
             [
              0.4444444444444444,
              "#26828e"
             ],
             [
              0.5555555555555556,
              "#1f9e89"
             ],
             [
              0.6666666666666666,
              "#35b779"
             ],
             [
              0.7777777777777778,
              "#6ece58"
             ],
             [
              0.8888888888888888,
              "#b5de2b"
             ],
             [
              1,
              "#fde725"
             ]
            ],
            "type": "histogram2d"
           }
          ],
          "histogram2dcontour": [
           {
            "colorbar": {
             "outlinewidth": 1,
             "tickcolor": "rgb(36,36,36)",
             "ticks": "outside"
            },
            "colorscale": [
             [
              0,
              "#440154"
             ],
             [
              0.1111111111111111,
              "#482878"
             ],
             [
              0.2222222222222222,
              "#3e4989"
             ],
             [
              0.3333333333333333,
              "#31688e"
             ],
             [
              0.4444444444444444,
              "#26828e"
             ],
             [
              0.5555555555555556,
              "#1f9e89"
             ],
             [
              0.6666666666666666,
              "#35b779"
             ],
             [
              0.7777777777777778,
              "#6ece58"
             ],
             [
              0.8888888888888888,
              "#b5de2b"
             ],
             [
              1,
              "#fde725"
             ]
            ],
            "type": "histogram2dcontour"
           }
          ],
          "mesh3d": [
           {
            "colorbar": {
             "outlinewidth": 1,
             "tickcolor": "rgb(36,36,36)",
             "ticks": "outside"
            },
            "type": "mesh3d"
           }
          ],
          "parcoords": [
           {
            "line": {
             "colorbar": {
              "outlinewidth": 1,
              "tickcolor": "rgb(36,36,36)",
              "ticks": "outside"
             }
            },
            "type": "parcoords"
           }
          ],
          "pie": [
           {
            "automargin": true,
            "type": "pie"
           }
          ],
          "scatter": [
           {
            "marker": {
             "colorbar": {
              "outlinewidth": 1,
              "tickcolor": "rgb(36,36,36)",
              "ticks": "outside"
             }
            },
            "type": "scatter"
           }
          ],
          "scatter3d": [
           {
            "line": {
             "colorbar": {
              "outlinewidth": 1,
              "tickcolor": "rgb(36,36,36)",
              "ticks": "outside"
             }
            },
            "marker": {
             "colorbar": {
              "outlinewidth": 1,
              "tickcolor": "rgb(36,36,36)",
              "ticks": "outside"
             }
            },
            "type": "scatter3d"
           }
          ],
          "scattercarpet": [
           {
            "marker": {
             "colorbar": {
              "outlinewidth": 1,
              "tickcolor": "rgb(36,36,36)",
              "ticks": "outside"
             }
            },
            "type": "scattercarpet"
           }
          ],
          "scattergeo": [
           {
            "marker": {
             "colorbar": {
              "outlinewidth": 1,
              "tickcolor": "rgb(36,36,36)",
              "ticks": "outside"
             }
            },
            "type": "scattergeo"
           }
          ],
          "scattergl": [
           {
            "marker": {
             "colorbar": {
              "outlinewidth": 1,
              "tickcolor": "rgb(36,36,36)",
              "ticks": "outside"
             }
            },
            "type": "scattergl"
           }
          ],
          "scattermapbox": [
           {
            "marker": {
             "colorbar": {
              "outlinewidth": 1,
              "tickcolor": "rgb(36,36,36)",
              "ticks": "outside"
             }
            },
            "type": "scattermapbox"
           }
          ],
          "scatterpolar": [
           {
            "marker": {
             "colorbar": {
              "outlinewidth": 1,
              "tickcolor": "rgb(36,36,36)",
              "ticks": "outside"
             }
            },
            "type": "scatterpolar"
           }
          ],
          "scatterpolargl": [
           {
            "marker": {
             "colorbar": {
              "outlinewidth": 1,
              "tickcolor": "rgb(36,36,36)",
              "ticks": "outside"
             }
            },
            "type": "scatterpolargl"
           }
          ],
          "scatterternary": [
           {
            "marker": {
             "colorbar": {
              "outlinewidth": 1,
              "tickcolor": "rgb(36,36,36)",
              "ticks": "outside"
             }
            },
            "type": "scatterternary"
           }
          ],
          "surface": [
           {
            "colorbar": {
             "outlinewidth": 1,
             "tickcolor": "rgb(36,36,36)",
             "ticks": "outside"
            },
            "colorscale": [
             [
              0,
              "#440154"
             ],
             [
              0.1111111111111111,
              "#482878"
             ],
             [
              0.2222222222222222,
              "#3e4989"
             ],
             [
              0.3333333333333333,
              "#31688e"
             ],
             [
              0.4444444444444444,
              "#26828e"
             ],
             [
              0.5555555555555556,
              "#1f9e89"
             ],
             [
              0.6666666666666666,
              "#35b779"
             ],
             [
              0.7777777777777778,
              "#6ece58"
             ],
             [
              0.8888888888888888,
              "#b5de2b"
             ],
             [
              1,
              "#fde725"
             ]
            ],
            "type": "surface"
           }
          ],
          "table": [
           {
            "cells": {
             "fill": {
              "color": "rgb(237,237,237)"
             },
             "line": {
              "color": "white"
             }
            },
            "header": {
             "fill": {
              "color": "rgb(217,217,217)"
             },
             "line": {
              "color": "white"
             }
            },
            "type": "table"
           }
          ]
         },
         "layout": {
          "annotationdefaults": {
           "arrowhead": 0,
           "arrowwidth": 1
          },
          "autotypenumbers": "strict",
          "coloraxis": {
           "colorbar": {
            "outlinewidth": 1,
            "tickcolor": "rgb(36,36,36)",
            "ticks": "outside"
           }
          },
          "colorscale": {
           "diverging": [
            [
             0,
             "rgb(103,0,31)"
            ],
            [
             0.1,
             "rgb(178,24,43)"
            ],
            [
             0.2,
             "rgb(214,96,77)"
            ],
            [
             0.3,
             "rgb(244,165,130)"
            ],
            [
             0.4,
             "rgb(253,219,199)"
            ],
            [
             0.5,
             "rgb(247,247,247)"
            ],
            [
             0.6,
             "rgb(209,229,240)"
            ],
            [
             0.7,
             "rgb(146,197,222)"
            ],
            [
             0.8,
             "rgb(67,147,195)"
            ],
            [
             0.9,
             "rgb(33,102,172)"
            ],
            [
             1,
             "rgb(5,48,97)"
            ]
           ],
           "sequential": [
            [
             0,
             "#440154"
            ],
            [
             0.1111111111111111,
             "#482878"
            ],
            [
             0.2222222222222222,
             "#3e4989"
            ],
            [
             0.3333333333333333,
             "#31688e"
            ],
            [
             0.4444444444444444,
             "#26828e"
            ],
            [
             0.5555555555555556,
             "#1f9e89"
            ],
            [
             0.6666666666666666,
             "#35b779"
            ],
            [
             0.7777777777777778,
             "#6ece58"
            ],
            [
             0.8888888888888888,
             "#b5de2b"
            ],
            [
             1,
             "#fde725"
            ]
           ],
           "sequentialminus": [
            [
             0,
             "#440154"
            ],
            [
             0.1111111111111111,
             "#482878"
            ],
            [
             0.2222222222222222,
             "#3e4989"
            ],
            [
             0.3333333333333333,
             "#31688e"
            ],
            [
             0.4444444444444444,
             "#26828e"
            ],
            [
             0.5555555555555556,
             "#1f9e89"
            ],
            [
             0.6666666666666666,
             "#35b779"
            ],
            [
             0.7777777777777778,
             "#6ece58"
            ],
            [
             0.8888888888888888,
             "#b5de2b"
            ],
            [
             1,
             "#fde725"
            ]
           ]
          },
          "colorway": [
           "#1F77B4",
           "#FF7F0E",
           "#2CA02C",
           "#D62728",
           "#9467BD",
           "#8C564B",
           "#E377C2",
           "#7F7F7F",
           "#BCBD22",
           "#17BECF"
          ],
          "font": {
           "color": "rgb(36,36,36)"
          },
          "geo": {
           "bgcolor": "white",
           "lakecolor": "white",
           "landcolor": "white",
           "showlakes": true,
           "showland": true,
           "subunitcolor": "white"
          },
          "hoverlabel": {
           "align": "left"
          },
          "hovermode": "closest",
          "mapbox": {
           "style": "light"
          },
          "paper_bgcolor": "white",
          "plot_bgcolor": "white",
          "polar": {
           "angularaxis": {
            "gridcolor": "rgb(232,232,232)",
            "linecolor": "rgb(36,36,36)",
            "showgrid": false,
            "showline": true,
            "ticks": "outside"
           },
           "bgcolor": "white",
           "radialaxis": {
            "gridcolor": "rgb(232,232,232)",
            "linecolor": "rgb(36,36,36)",
            "showgrid": false,
            "showline": true,
            "ticks": "outside"
           }
          },
          "scene": {
           "xaxis": {
            "backgroundcolor": "white",
            "gridcolor": "rgb(232,232,232)",
            "gridwidth": 2,
            "linecolor": "rgb(36,36,36)",
            "showbackground": true,
            "showgrid": false,
            "showline": true,
            "ticks": "outside",
            "zeroline": false,
            "zerolinecolor": "rgb(36,36,36)"
           },
           "yaxis": {
            "backgroundcolor": "white",
            "gridcolor": "rgb(232,232,232)",
            "gridwidth": 2,
            "linecolor": "rgb(36,36,36)",
            "showbackground": true,
            "showgrid": false,
            "showline": true,
            "ticks": "outside",
            "zeroline": false,
            "zerolinecolor": "rgb(36,36,36)"
           },
           "zaxis": {
            "backgroundcolor": "white",
            "gridcolor": "rgb(232,232,232)",
            "gridwidth": 2,
            "linecolor": "rgb(36,36,36)",
            "showbackground": true,
            "showgrid": false,
            "showline": true,
            "ticks": "outside",
            "zeroline": false,
            "zerolinecolor": "rgb(36,36,36)"
           }
          },
          "shapedefaults": {
           "fillcolor": "black",
           "line": {
            "width": 0
           },
           "opacity": 0.3
          },
          "ternary": {
           "aaxis": {
            "gridcolor": "rgb(232,232,232)",
            "linecolor": "rgb(36,36,36)",
            "showgrid": false,
            "showline": true,
            "ticks": "outside"
           },
           "baxis": {
            "gridcolor": "rgb(232,232,232)",
            "linecolor": "rgb(36,36,36)",
            "showgrid": false,
            "showline": true,
            "ticks": "outside"
           },
           "bgcolor": "white",
           "caxis": {
            "gridcolor": "rgb(232,232,232)",
            "linecolor": "rgb(36,36,36)",
            "showgrid": false,
            "showline": true,
            "ticks": "outside"
           }
          },
          "title": {
           "x": 0.05
          },
          "xaxis": {
           "automargin": true,
           "gridcolor": "rgb(232,232,232)",
           "linecolor": "rgb(36,36,36)",
           "showgrid": false,
           "showline": true,
           "ticks": "outside",
           "title": {
            "standoff": 15
           },
           "zeroline": false,
           "zerolinecolor": "rgb(36,36,36)"
          },
          "yaxis": {
           "automargin": true,
           "gridcolor": "rgb(232,232,232)",
           "linecolor": "rgb(36,36,36)",
           "showgrid": false,
           "showline": true,
           "ticks": "outside",
           "title": {
            "standoff": 15
           },
           "zeroline": false,
           "zerolinecolor": "rgb(36,36,36)"
          }
         }
        },
        "title": {
         "text": "Train Test Split"
        },
        "xaxis": {
         "title": {
          "text": "Time"
         },
         "zeroline": false
        },
        "yaxis": {
         "title": {
          "text": "Values"
         }
        }
       }
      }
     },
     "metadata": {}
    },
    {
     "output_type": "display_data",
     "data": {
      "application/vnd.plotly.v1+json": {
       "config": {
        "plotlyServerURL": "https://plot.ly"
       },
       "data": [
        {
         "line": {
          "color": "#C0C0C0"
         },
         "mode": "lines+markers",
         "name": "Unchanged",
         "showlegend": false,
         "type": "scatter",
         "x": [
          "1949-01-01T00:00:00",
          "1949-02-01T00:00:00"
         ],
         "y": [
          2,
          2
         ]
        },
        {
         "line": {
          "color": "#C0C0C0"
         },
         "mode": "lines+markers",
         "name": "Unchanged",
         "showlegend": false,
         "type": "scatter",
         "x": [
          "1949-02-01T00:00:00",
          "1949-03-01T00:00:00"
         ],
         "y": [
          2,
          2
         ]
        },
        {
         "line": {
          "color": "#C0C0C0"
         },
         "mode": "lines+markers",
         "name": "Unchanged",
         "showlegend": false,
         "type": "scatter",
         "x": [
          "1949-03-01T00:00:00",
          "1949-04-01T00:00:00"
         ],
         "y": [
          2,
          2
         ]
        },
        {
         "line": {
          "color": "#C0C0C0"
         },
         "mode": "lines+markers",
         "name": "Unchanged",
         "showlegend": false,
         "type": "scatter",
         "x": [
          "1949-04-01T00:00:00",
          "1949-05-01T00:00:00"
         ],
         "y": [
          2,
          2
         ]
        },
        {
         "line": {
          "color": "#C0C0C0"
         },
         "mode": "lines+markers",
         "name": "Unchanged",
         "showlegend": false,
         "type": "scatter",
         "x": [
          "1949-05-01T00:00:00",
          "1949-06-01T00:00:00"
         ],
         "y": [
          2,
          2
         ]
        },
        {
         "line": {
          "color": "#C0C0C0"
         },
         "mode": "lines+markers",
         "name": "Unchanged",
         "showlegend": false,
         "type": "scatter",
         "x": [
          "1949-06-01T00:00:00",
          "1949-07-01T00:00:00"
         ],
         "y": [
          2,
          2
         ]
        },
        {
         "line": {
          "color": "#C0C0C0"
         },
         "mode": "lines+markers",
         "name": "Unchanged",
         "showlegend": false,
         "type": "scatter",
         "x": [
          "1949-07-01T00:00:00",
          "1949-08-01T00:00:00"
         ],
         "y": [
          2,
          2
         ]
        },
        {
         "line": {
          "color": "#C0C0C0"
         },
         "mode": "lines+markers",
         "name": "Unchanged",
         "showlegend": false,
         "type": "scatter",
         "x": [
          "1949-08-01T00:00:00",
          "1949-09-01T00:00:00"
         ],
         "y": [
          2,
          2
         ]
        },
        {
         "line": {
          "color": "#C0C0C0"
         },
         "mode": "lines+markers",
         "name": "Unchanged",
         "showlegend": false,
         "type": "scatter",
         "x": [
          "1949-09-01T00:00:00",
          "1949-10-01T00:00:00"
         ],
         "y": [
          2,
          2
         ]
        },
        {
         "line": {
          "color": "#C0C0C0"
         },
         "mode": "lines+markers",
         "name": "Unchanged",
         "showlegend": false,
         "type": "scatter",
         "x": [
          "1949-10-01T00:00:00",
          "1949-11-01T00:00:00"
         ],
         "y": [
          2,
          2
         ]
        },
        {
         "line": {
          "color": "#C0C0C0"
         },
         "mode": "lines+markers",
         "name": "Unchanged",
         "showlegend": false,
         "type": "scatter",
         "x": [
          "1949-11-01T00:00:00",
          "1949-12-01T00:00:00"
         ],
         "y": [
          2,
          2
         ]
        },
        {
         "line": {
          "color": "#C0C0C0"
         },
         "mode": "lines+markers",
         "name": "Unchanged",
         "showlegend": false,
         "type": "scatter",
         "x": [
          "1949-12-01T00:00:00",
          "1950-01-01T00:00:00"
         ],
         "y": [
          2,
          2
         ]
        },
        {
         "line": {
          "color": "#C0C0C0"
         },
         "mode": "lines+markers",
         "name": "Unchanged",
         "showlegend": false,
         "type": "scatter",
         "x": [
          "1950-01-01T00:00:00",
          "1950-02-01T00:00:00"
         ],
         "y": [
          2,
          2
         ]
        },
        {
         "line": {
          "color": "#C0C0C0"
         },
         "mode": "lines+markers",
         "name": "Unchanged",
         "showlegend": false,
         "type": "scatter",
         "x": [
          "1950-02-01T00:00:00",
          "1950-03-01T00:00:00"
         ],
         "y": [
          2,
          2
         ]
        },
        {
         "line": {
          "color": "#C0C0C0"
         },
         "mode": "lines+markers",
         "name": "Unchanged",
         "showlegend": false,
         "type": "scatter",
         "x": [
          "1950-03-01T00:00:00",
          "1950-04-01T00:00:00"
         ],
         "y": [
          2,
          2
         ]
        },
        {
         "line": {
          "color": "#C0C0C0"
         },
         "mode": "lines+markers",
         "name": "Unchanged",
         "showlegend": false,
         "type": "scatter",
         "x": [
          "1950-04-01T00:00:00",
          "1950-05-01T00:00:00"
         ],
         "y": [
          2,
          2
         ]
        },
        {
         "line": {
          "color": "#C0C0C0"
         },
         "mode": "lines+markers",
         "name": "Unchanged",
         "showlegend": false,
         "type": "scatter",
         "x": [
          "1950-05-01T00:00:00",
          "1950-06-01T00:00:00"
         ],
         "y": [
          2,
          2
         ]
        },
        {
         "line": {
          "color": "#C0C0C0"
         },
         "mode": "lines+markers",
         "name": "Unchanged",
         "showlegend": false,
         "type": "scatter",
         "x": [
          "1950-06-01T00:00:00",
          "1950-07-01T00:00:00"
         ],
         "y": [
          2,
          2
         ]
        },
        {
         "line": {
          "color": "#C0C0C0"
         },
         "mode": "lines+markers",
         "name": "Unchanged",
         "showlegend": false,
         "type": "scatter",
         "x": [
          "1950-07-01T00:00:00",
          "1950-08-01T00:00:00"
         ],
         "y": [
          2,
          2
         ]
        },
        {
         "line": {
          "color": "#C0C0C0"
         },
         "mode": "lines+markers",
         "name": "Unchanged",
         "showlegend": false,
         "type": "scatter",
         "x": [
          "1950-08-01T00:00:00",
          "1950-09-01T00:00:00"
         ],
         "y": [
          2,
          2
         ]
        },
        {
         "line": {
          "color": "#C0C0C0"
         },
         "mode": "lines+markers",
         "name": "Unchanged",
         "showlegend": false,
         "type": "scatter",
         "x": [
          "1950-09-01T00:00:00",
          "1950-10-01T00:00:00"
         ],
         "y": [
          2,
          2
         ]
        },
        {
         "line": {
          "color": "#C0C0C0"
         },
         "mode": "lines+markers",
         "name": "Unchanged",
         "showlegend": false,
         "type": "scatter",
         "x": [
          "1950-10-01T00:00:00",
          "1950-11-01T00:00:00"
         ],
         "y": [
          2,
          2
         ]
        },
        {
         "line": {
          "color": "#C0C0C0"
         },
         "mode": "lines+markers",
         "name": "Unchanged",
         "showlegend": false,
         "type": "scatter",
         "x": [
          "1950-11-01T00:00:00",
          "1950-12-01T00:00:00"
         ],
         "y": [
          2,
          2
         ]
        },
        {
         "line": {
          "color": "#C0C0C0"
         },
         "mode": "lines+markers",
         "name": "Unchanged",
         "showlegend": false,
         "type": "scatter",
         "x": [
          "1950-12-01T00:00:00",
          "1951-01-01T00:00:00"
         ],
         "y": [
          2,
          2
         ]
        },
        {
         "line": {
          "color": "#C0C0C0"
         },
         "mode": "lines+markers",
         "name": "Unchanged",
         "showlegend": false,
         "type": "scatter",
         "x": [
          "1951-01-01T00:00:00",
          "1951-02-01T00:00:00"
         ],
         "y": [
          2,
          2
         ]
        },
        {
         "line": {
          "color": "#C0C0C0"
         },
         "mode": "lines+markers",
         "name": "Unchanged",
         "showlegend": false,
         "type": "scatter",
         "x": [
          "1951-02-01T00:00:00",
          "1951-03-01T00:00:00"
         ],
         "y": [
          2,
          2
         ]
        },
        {
         "line": {
          "color": "#C0C0C0"
         },
         "mode": "lines+markers",
         "name": "Unchanged",
         "showlegend": false,
         "type": "scatter",
         "x": [
          "1951-03-01T00:00:00",
          "1951-04-01T00:00:00"
         ],
         "y": [
          2,
          2
         ]
        },
        {
         "line": {
          "color": "#C0C0C0"
         },
         "mode": "lines+markers",
         "name": "Unchanged",
         "showlegend": false,
         "type": "scatter",
         "x": [
          "1951-04-01T00:00:00",
          "1951-05-01T00:00:00"
         ],
         "y": [
          2,
          2
         ]
        },
        {
         "line": {
          "color": "#C0C0C0"
         },
         "mode": "lines+markers",
         "name": "Unchanged",
         "showlegend": false,
         "type": "scatter",
         "x": [
          "1951-05-01T00:00:00",
          "1951-06-01T00:00:00"
         ],
         "y": [
          2,
          2
         ]
        },
        {
         "line": {
          "color": "#C0C0C0"
         },
         "mode": "lines+markers",
         "name": "Unchanged",
         "showlegend": false,
         "type": "scatter",
         "x": [
          "1951-06-01T00:00:00",
          "1951-07-01T00:00:00"
         ],
         "y": [
          2,
          2
         ]
        },
        {
         "line": {
          "color": "#C0C0C0"
         },
         "mode": "lines+markers",
         "name": "Unchanged",
         "showlegend": false,
         "type": "scatter",
         "x": [
          "1951-07-01T00:00:00",
          "1951-08-01T00:00:00"
         ],
         "y": [
          2,
          2
         ]
        },
        {
         "line": {
          "color": "#C0C0C0"
         },
         "mode": "lines+markers",
         "name": "Unchanged",
         "showlegend": false,
         "type": "scatter",
         "x": [
          "1951-08-01T00:00:00",
          "1951-09-01T00:00:00"
         ],
         "y": [
          2,
          2
         ]
        },
        {
         "line": {
          "color": "#C0C0C0"
         },
         "mode": "lines+markers",
         "name": "Unchanged",
         "showlegend": false,
         "type": "scatter",
         "x": [
          "1951-09-01T00:00:00",
          "1951-10-01T00:00:00"
         ],
         "y": [
          2,
          2
         ]
        },
        {
         "line": {
          "color": "#C0C0C0"
         },
         "mode": "lines+markers",
         "name": "Unchanged",
         "showlegend": false,
         "type": "scatter",
         "x": [
          "1951-10-01T00:00:00",
          "1951-11-01T00:00:00"
         ],
         "y": [
          2,
          2
         ]
        },
        {
         "line": {
          "color": "#C0C0C0"
         },
         "mode": "lines+markers",
         "name": "Unchanged",
         "showlegend": false,
         "type": "scatter",
         "x": [
          "1951-11-01T00:00:00",
          "1951-12-01T00:00:00"
         ],
         "y": [
          2,
          2
         ]
        },
        {
         "line": {
          "color": "#C0C0C0"
         },
         "mode": "lines+markers",
         "name": "Unchanged",
         "showlegend": false,
         "type": "scatter",
         "x": [
          "1951-12-01T00:00:00",
          "1952-01-01T00:00:00"
         ],
         "y": [
          2,
          2
         ]
        },
        {
         "line": {
          "color": "#C0C0C0"
         },
         "mode": "lines+markers",
         "name": "Unchanged",
         "showlegend": false,
         "type": "scatter",
         "x": [
          "1952-01-01T00:00:00",
          "1952-02-01T00:00:00"
         ],
         "y": [
          2,
          2
         ]
        },
        {
         "line": {
          "color": "#C0C0C0"
         },
         "mode": "lines+markers",
         "name": "Unchanged",
         "showlegend": false,
         "type": "scatter",
         "x": [
          "1952-02-01T00:00:00",
          "1952-03-01T00:00:00"
         ],
         "y": [
          2,
          2
         ]
        },
        {
         "line": {
          "color": "#C0C0C0"
         },
         "mode": "lines+markers",
         "name": "Unchanged",
         "showlegend": false,
         "type": "scatter",
         "x": [
          "1952-03-01T00:00:00",
          "1952-04-01T00:00:00"
         ],
         "y": [
          2,
          2
         ]
        },
        {
         "line": {
          "color": "#C0C0C0"
         },
         "mode": "lines+markers",
         "name": "Unchanged",
         "showlegend": false,
         "type": "scatter",
         "x": [
          "1952-04-01T00:00:00",
          "1952-05-01T00:00:00"
         ],
         "y": [
          2,
          2
         ]
        },
        {
         "line": {
          "color": "#C0C0C0"
         },
         "mode": "lines+markers",
         "name": "Unchanged",
         "showlegend": false,
         "type": "scatter",
         "x": [
          "1952-05-01T00:00:00",
          "1952-06-01T00:00:00"
         ],
         "y": [
          2,
          2
         ]
        },
        {
         "line": {
          "color": "#C0C0C0"
         },
         "mode": "lines+markers",
         "name": "Unchanged",
         "showlegend": false,
         "type": "scatter",
         "x": [
          "1952-06-01T00:00:00",
          "1952-07-01T00:00:00"
         ],
         "y": [
          2,
          2
         ]
        },
        {
         "line": {
          "color": "#C0C0C0"
         },
         "mode": "lines+markers",
         "name": "Unchanged",
         "showlegend": false,
         "type": "scatter",
         "x": [
          "1952-07-01T00:00:00",
          "1952-08-01T00:00:00"
         ],
         "y": [
          2,
          2
         ]
        },
        {
         "line": {
          "color": "#C0C0C0"
         },
         "mode": "lines+markers",
         "name": "Unchanged",
         "showlegend": false,
         "type": "scatter",
         "x": [
          "1952-08-01T00:00:00",
          "1952-09-01T00:00:00"
         ],
         "y": [
          2,
          2
         ]
        },
        {
         "line": {
          "color": "#C0C0C0"
         },
         "mode": "lines+markers",
         "name": "Unchanged",
         "showlegend": false,
         "type": "scatter",
         "x": [
          "1952-09-01T00:00:00",
          "1952-10-01T00:00:00"
         ],
         "y": [
          2,
          2
         ]
        },
        {
         "line": {
          "color": "#C0C0C0"
         },
         "mode": "lines+markers",
         "name": "Unchanged",
         "showlegend": false,
         "type": "scatter",
         "x": [
          "1952-10-01T00:00:00",
          "1952-11-01T00:00:00"
         ],
         "y": [
          2,
          2
         ]
        },
        {
         "line": {
          "color": "#C0C0C0"
         },
         "mode": "lines+markers",
         "name": "Unchanged",
         "showlegend": false,
         "type": "scatter",
         "x": [
          "1952-11-01T00:00:00",
          "1952-12-01T00:00:00"
         ],
         "y": [
          2,
          2
         ]
        },
        {
         "line": {
          "color": "#C0C0C0"
         },
         "mode": "lines+markers",
         "name": "Unchanged",
         "showlegend": false,
         "type": "scatter",
         "x": [
          "1952-12-01T00:00:00",
          "1953-01-01T00:00:00"
         ],
         "y": [
          2,
          2
         ]
        },
        {
         "line": {
          "color": "#C0C0C0"
         },
         "mode": "lines+markers",
         "name": "Unchanged",
         "showlegend": false,
         "type": "scatter",
         "x": [
          "1953-01-01T00:00:00",
          "1953-02-01T00:00:00"
         ],
         "y": [
          2,
          2
         ]
        },
        {
         "line": {
          "color": "#C0C0C0"
         },
         "mode": "lines+markers",
         "name": "Unchanged",
         "showlegend": false,
         "type": "scatter",
         "x": [
          "1953-02-01T00:00:00",
          "1953-03-01T00:00:00"
         ],
         "y": [
          2,
          2
         ]
        },
        {
         "line": {
          "color": "#C0C0C0"
         },
         "mode": "lines+markers",
         "name": "Unchanged",
         "showlegend": false,
         "type": "scatter",
         "x": [
          "1953-03-01T00:00:00",
          "1953-04-01T00:00:00"
         ],
         "y": [
          2,
          2
         ]
        },
        {
         "line": {
          "color": "#C0C0C0"
         },
         "mode": "lines+markers",
         "name": "Unchanged",
         "showlegend": false,
         "type": "scatter",
         "x": [
          "1953-04-01T00:00:00",
          "1953-05-01T00:00:00"
         ],
         "y": [
          2,
          2
         ]
        },
        {
         "line": {
          "color": "#C0C0C0"
         },
         "mode": "lines+markers",
         "name": "Unchanged",
         "showlegend": false,
         "type": "scatter",
         "x": [
          "1953-05-01T00:00:00",
          "1953-06-01T00:00:00"
         ],
         "y": [
          2,
          2
         ]
        },
        {
         "line": {
          "color": "#C0C0C0"
         },
         "mode": "lines+markers",
         "name": "Unchanged",
         "showlegend": false,
         "type": "scatter",
         "x": [
          "1953-06-01T00:00:00",
          "1953-07-01T00:00:00"
         ],
         "y": [
          2,
          2
         ]
        },
        {
         "line": {
          "color": "#C0C0C0"
         },
         "mode": "lines+markers",
         "name": "Unchanged",
         "showlegend": false,
         "type": "scatter",
         "x": [
          "1953-07-01T00:00:00",
          "1953-08-01T00:00:00"
         ],
         "y": [
          2,
          2
         ]
        },
        {
         "line": {
          "color": "#C0C0C0"
         },
         "mode": "lines+markers",
         "name": "Unchanged",
         "showlegend": false,
         "type": "scatter",
         "x": [
          "1953-08-01T00:00:00",
          "1953-09-01T00:00:00"
         ],
         "y": [
          2,
          2
         ]
        },
        {
         "line": {
          "color": "#C0C0C0"
         },
         "mode": "lines+markers",
         "name": "Unchanged",
         "showlegend": false,
         "type": "scatter",
         "x": [
          "1953-09-01T00:00:00",
          "1953-10-01T00:00:00"
         ],
         "y": [
          2,
          2
         ]
        },
        {
         "line": {
          "color": "#C0C0C0"
         },
         "mode": "lines+markers",
         "name": "Unchanged",
         "showlegend": false,
         "type": "scatter",
         "x": [
          "1953-10-01T00:00:00",
          "1953-11-01T00:00:00"
         ],
         "y": [
          2,
          2
         ]
        },
        {
         "line": {
          "color": "#C0C0C0"
         },
         "mode": "lines+markers",
         "name": "Unchanged",
         "showlegend": false,
         "type": "scatter",
         "x": [
          "1953-11-01T00:00:00",
          "1953-12-01T00:00:00"
         ],
         "y": [
          2,
          2
         ]
        },
        {
         "line": {
          "color": "#C0C0C0"
         },
         "mode": "lines+markers",
         "name": "Unchanged",
         "showlegend": false,
         "type": "scatter",
         "x": [
          "1953-12-01T00:00:00",
          "1954-01-01T00:00:00"
         ],
         "y": [
          2,
          2
         ]
        },
        {
         "line": {
          "color": "#C0C0C0"
         },
         "mode": "lines+markers",
         "name": "Unchanged",
         "showlegend": false,
         "type": "scatter",
         "x": [
          "1954-01-01T00:00:00",
          "1954-02-01T00:00:00"
         ],
         "y": [
          2,
          2
         ]
        },
        {
         "line": {
          "color": "#C0C0C0"
         },
         "mode": "lines+markers",
         "name": "Unchanged",
         "showlegend": false,
         "type": "scatter",
         "x": [
          "1954-02-01T00:00:00",
          "1954-03-01T00:00:00"
         ],
         "y": [
          2,
          2
         ]
        },
        {
         "line": {
          "color": "#C0C0C0"
         },
         "mode": "lines+markers",
         "name": "Unchanged",
         "showlegend": false,
         "type": "scatter",
         "x": [
          "1954-03-01T00:00:00",
          "1954-04-01T00:00:00"
         ],
         "y": [
          2,
          2
         ]
        },
        {
         "line": {
          "color": "#C0C0C0"
         },
         "mode": "lines+markers",
         "name": "Unchanged",
         "showlegend": false,
         "type": "scatter",
         "x": [
          "1954-04-01T00:00:00",
          "1954-05-01T00:00:00"
         ],
         "y": [
          2,
          2
         ]
        },
        {
         "line": {
          "color": "#C0C0C0"
         },
         "mode": "lines+markers",
         "name": "Unchanged",
         "showlegend": false,
         "type": "scatter",
         "x": [
          "1954-05-01T00:00:00",
          "1954-06-01T00:00:00"
         ],
         "y": [
          2,
          2
         ]
        },
        {
         "line": {
          "color": "#C0C0C0"
         },
         "mode": "lines+markers",
         "name": "Unchanged",
         "showlegend": false,
         "type": "scatter",
         "x": [
          "1954-06-01T00:00:00",
          "1954-07-01T00:00:00"
         ],
         "y": [
          2,
          2
         ]
        },
        {
         "line": {
          "color": "#C0C0C0"
         },
         "mode": "lines+markers",
         "name": "Unchanged",
         "showlegend": false,
         "type": "scatter",
         "x": [
          "1954-07-01T00:00:00",
          "1954-08-01T00:00:00"
         ],
         "y": [
          2,
          2
         ]
        },
        {
         "line": {
          "color": "#C0C0C0"
         },
         "mode": "lines+markers",
         "name": "Unchanged",
         "showlegend": false,
         "type": "scatter",
         "x": [
          "1954-08-01T00:00:00",
          "1954-09-01T00:00:00"
         ],
         "y": [
          2,
          2
         ]
        },
        {
         "line": {
          "color": "#C0C0C0"
         },
         "mode": "lines+markers",
         "name": "Unchanged",
         "showlegend": false,
         "type": "scatter",
         "x": [
          "1954-09-01T00:00:00",
          "1954-10-01T00:00:00"
         ],
         "y": [
          2,
          2
         ]
        },
        {
         "line": {
          "color": "#C0C0C0"
         },
         "mode": "lines+markers",
         "name": "Unchanged",
         "showlegend": false,
         "type": "scatter",
         "x": [
          "1954-10-01T00:00:00",
          "1954-11-01T00:00:00"
         ],
         "y": [
          2,
          2
         ]
        },
        {
         "line": {
          "color": "#C0C0C0"
         },
         "mode": "lines+markers",
         "name": "Unchanged",
         "showlegend": false,
         "type": "scatter",
         "x": [
          "1954-11-01T00:00:00",
          "1954-12-01T00:00:00"
         ],
         "y": [
          2,
          2
         ]
        },
        {
         "line": {
          "color": "#C0C0C0"
         },
         "mode": "lines+markers",
         "name": "Unchanged",
         "showlegend": false,
         "type": "scatter",
         "x": [
          "1954-12-01T00:00:00",
          "1955-01-01T00:00:00"
         ],
         "y": [
          2,
          2
         ]
        },
        {
         "line": {
          "color": "#C0C0C0"
         },
         "mode": "lines+markers",
         "name": "Unchanged",
         "showlegend": false,
         "type": "scatter",
         "x": [
          "1955-01-01T00:00:00",
          "1955-02-01T00:00:00"
         ],
         "y": [
          2,
          2
         ]
        },
        {
         "line": {
          "color": "#C0C0C0"
         },
         "mode": "lines+markers",
         "name": "Unchanged",
         "showlegend": false,
         "type": "scatter",
         "x": [
          "1955-02-01T00:00:00",
          "1955-03-01T00:00:00"
         ],
         "y": [
          2,
          2
         ]
        },
        {
         "line": {
          "color": "#C0C0C0"
         },
         "mode": "lines+markers",
         "name": "Unchanged",
         "showlegend": false,
         "type": "scatter",
         "x": [
          "1955-03-01T00:00:00",
          "1955-04-01T00:00:00"
         ],
         "y": [
          2,
          2
         ]
        },
        {
         "line": {
          "color": "#C0C0C0"
         },
         "mode": "lines+markers",
         "name": "Unchanged",
         "showlegend": false,
         "type": "scatter",
         "x": [
          "1955-04-01T00:00:00",
          "1955-05-01T00:00:00"
         ],
         "y": [
          2,
          2
         ]
        },
        {
         "line": {
          "color": "#C0C0C0"
         },
         "mode": "lines+markers",
         "name": "Unchanged",
         "showlegend": false,
         "type": "scatter",
         "x": [
          "1955-05-01T00:00:00",
          "1955-06-01T00:00:00"
         ],
         "y": [
          2,
          2
         ]
        },
        {
         "line": {
          "color": "#C0C0C0"
         },
         "mode": "lines+markers",
         "name": "Unchanged",
         "showlegend": false,
         "type": "scatter",
         "x": [
          "1955-06-01T00:00:00",
          "1955-07-01T00:00:00"
         ],
         "y": [
          2,
          2
         ]
        },
        {
         "line": {
          "color": "#C0C0C0"
         },
         "mode": "lines+markers",
         "name": "Unchanged",
         "showlegend": false,
         "type": "scatter",
         "x": [
          "1955-07-01T00:00:00",
          "1955-08-01T00:00:00"
         ],
         "y": [
          2,
          2
         ]
        },
        {
         "line": {
          "color": "#C0C0C0"
         },
         "mode": "lines+markers",
         "name": "Unchanged",
         "showlegend": false,
         "type": "scatter",
         "x": [
          "1955-08-01T00:00:00",
          "1955-09-01T00:00:00"
         ],
         "y": [
          2,
          2
         ]
        },
        {
         "line": {
          "color": "#C0C0C0"
         },
         "mode": "lines+markers",
         "name": "Unchanged",
         "showlegend": false,
         "type": "scatter",
         "x": [
          "1955-09-01T00:00:00",
          "1955-10-01T00:00:00"
         ],
         "y": [
          2,
          2
         ]
        },
        {
         "line": {
          "color": "#C0C0C0"
         },
         "mode": "lines+markers",
         "name": "Unchanged",
         "showlegend": false,
         "type": "scatter",
         "x": [
          "1955-10-01T00:00:00",
          "1955-11-01T00:00:00"
         ],
         "y": [
          2,
          2
         ]
        },
        {
         "line": {
          "color": "#C0C0C0"
         },
         "mode": "lines+markers",
         "name": "Unchanged",
         "showlegend": false,
         "type": "scatter",
         "x": [
          "1955-11-01T00:00:00",
          "1955-12-01T00:00:00"
         ],
         "y": [
          2,
          2
         ]
        },
        {
         "line": {
          "color": "#C0C0C0"
         },
         "mode": "lines+markers",
         "name": "Unchanged",
         "showlegend": false,
         "type": "scatter",
         "x": [
          "1955-12-01T00:00:00",
          "1956-01-01T00:00:00"
         ],
         "y": [
          2,
          2
         ]
        },
        {
         "line": {
          "color": "#C0C0C0"
         },
         "mode": "lines+markers",
         "name": "Unchanged",
         "showlegend": false,
         "type": "scatter",
         "x": [
          "1956-01-01T00:00:00",
          "1956-02-01T00:00:00"
         ],
         "y": [
          2,
          2
         ]
        },
        {
         "line": {
          "color": "#C0C0C0"
         },
         "mode": "lines+markers",
         "name": "Unchanged",
         "showlegend": false,
         "type": "scatter",
         "x": [
          "1956-02-01T00:00:00",
          "1956-03-01T00:00:00"
         ],
         "y": [
          2,
          2
         ]
        },
        {
         "line": {
          "color": "#C0C0C0"
         },
         "mode": "lines+markers",
         "name": "Unchanged",
         "showlegend": false,
         "type": "scatter",
         "x": [
          "1956-03-01T00:00:00",
          "1956-04-01T00:00:00"
         ],
         "y": [
          2,
          2
         ]
        },
        {
         "line": {
          "color": "#C0C0C0"
         },
         "mode": "lines+markers",
         "name": "Unchanged",
         "showlegend": false,
         "type": "scatter",
         "x": [
          "1956-04-01T00:00:00",
          "1956-05-01T00:00:00"
         ],
         "y": [
          2,
          2
         ]
        },
        {
         "line": {
          "color": "#C0C0C0"
         },
         "mode": "lines+markers",
         "name": "Unchanged",
         "showlegend": false,
         "type": "scatter",
         "x": [
          "1956-05-01T00:00:00",
          "1956-06-01T00:00:00"
         ],
         "y": [
          2,
          2
         ]
        },
        {
         "line": {
          "color": "#C0C0C0"
         },
         "mode": "lines+markers",
         "name": "Unchanged",
         "showlegend": false,
         "type": "scatter",
         "x": [
          "1956-06-01T00:00:00",
          "1956-07-01T00:00:00"
         ],
         "y": [
          2,
          2
         ]
        },
        {
         "line": {
          "color": "#C0C0C0"
         },
         "mode": "lines+markers",
         "name": "Unchanged",
         "showlegend": false,
         "type": "scatter",
         "x": [
          "1956-07-01T00:00:00",
          "1956-08-01T00:00:00"
         ],
         "y": [
          2,
          2
         ]
        },
        {
         "line": {
          "color": "#C0C0C0"
         },
         "mode": "lines+markers",
         "name": "Unchanged",
         "showlegend": false,
         "type": "scatter",
         "x": [
          "1956-08-01T00:00:00",
          "1956-09-01T00:00:00"
         ],
         "y": [
          2,
          2
         ]
        },
        {
         "line": {
          "color": "#C0C0C0"
         },
         "mode": "lines+markers",
         "name": "Unchanged",
         "showlegend": false,
         "type": "scatter",
         "x": [
          "1956-09-01T00:00:00",
          "1956-10-01T00:00:00"
         ],
         "y": [
          2,
          2
         ]
        },
        {
         "line": {
          "color": "#C0C0C0"
         },
         "mode": "lines+markers",
         "name": "Unchanged",
         "showlegend": false,
         "type": "scatter",
         "x": [
          "1956-10-01T00:00:00",
          "1956-11-01T00:00:00"
         ],
         "y": [
          2,
          2
         ]
        },
        {
         "line": {
          "color": "#C0C0C0"
         },
         "mode": "lines+markers",
         "name": "Unchanged",
         "showlegend": false,
         "type": "scatter",
         "x": [
          "1956-11-01T00:00:00",
          "1956-12-01T00:00:00"
         ],
         "y": [
          2,
          2
         ]
        },
        {
         "line": {
          "color": "#C0C0C0"
         },
         "mode": "lines+markers",
         "name": "Unchanged",
         "showlegend": false,
         "type": "scatter",
         "x": [
          "1956-12-01T00:00:00",
          "1957-01-01T00:00:00"
         ],
         "y": [
          2,
          2
         ]
        },
        {
         "line": {
          "color": "#C0C0C0"
         },
         "mode": "lines+markers",
         "name": "Unchanged",
         "showlegend": false,
         "type": "scatter",
         "x": [
          "1957-01-01T00:00:00",
          "1957-02-01T00:00:00"
         ],
         "y": [
          2,
          2
         ]
        },
        {
         "line": {
          "color": "#C0C0C0"
         },
         "mode": "lines+markers",
         "name": "Unchanged",
         "showlegend": false,
         "type": "scatter",
         "x": [
          "1957-02-01T00:00:00",
          "1957-03-01T00:00:00"
         ],
         "y": [
          2,
          2
         ]
        },
        {
         "line": {
          "color": "#C0C0C0"
         },
         "mode": "lines+markers",
         "name": "Unchanged",
         "showlegend": false,
         "type": "scatter",
         "x": [
          "1957-03-01T00:00:00",
          "1957-04-01T00:00:00"
         ],
         "y": [
          2,
          2
         ]
        },
        {
         "line": {
          "color": "#C0C0C0"
         },
         "mode": "lines+markers",
         "name": "Unchanged",
         "showlegend": false,
         "type": "scatter",
         "x": [
          "1957-04-01T00:00:00",
          "1957-05-01T00:00:00"
         ],
         "y": [
          2,
          2
         ]
        },
        {
         "line": {
          "color": "#C0C0C0"
         },
         "mode": "lines+markers",
         "name": "Unchanged",
         "showlegend": false,
         "type": "scatter",
         "x": [
          "1957-05-01T00:00:00",
          "1957-06-01T00:00:00"
         ],
         "y": [
          2,
          2
         ]
        },
        {
         "line": {
          "color": "#C0C0C0"
         },
         "mode": "lines+markers",
         "name": "Unchanged",
         "showlegend": false,
         "type": "scatter",
         "x": [
          "1957-06-01T00:00:00",
          "1957-07-01T00:00:00"
         ],
         "y": [
          2,
          2
         ]
        },
        {
         "line": {
          "color": "#C0C0C0"
         },
         "mode": "lines+markers",
         "name": "Unchanged",
         "showlegend": false,
         "type": "scatter",
         "x": [
          "1957-07-01T00:00:00",
          "1957-08-01T00:00:00"
         ],
         "y": [
          2,
          2
         ]
        },
        {
         "line": {
          "color": "#C0C0C0"
         },
         "mode": "lines+markers",
         "name": "Unchanged",
         "showlegend": false,
         "type": "scatter",
         "x": [
          "1957-08-01T00:00:00",
          "1957-09-01T00:00:00"
         ],
         "y": [
          2,
          2
         ]
        },
        {
         "line": {
          "color": "#C0C0C0"
         },
         "mode": "lines+markers",
         "name": "Unchanged",
         "showlegend": false,
         "type": "scatter",
         "x": [
          "1957-09-01T00:00:00",
          "1957-10-01T00:00:00"
         ],
         "y": [
          2,
          2
         ]
        },
        {
         "line": {
          "color": "#C0C0C0"
         },
         "mode": "lines+markers",
         "name": "Unchanged",
         "showlegend": false,
         "type": "scatter",
         "x": [
          "1957-10-01T00:00:00",
          "1957-11-01T00:00:00"
         ],
         "y": [
          2,
          2
         ]
        },
        {
         "line": {
          "color": "#C0C0C0"
         },
         "mode": "lines+markers",
         "name": "Unchanged",
         "showlegend": false,
         "type": "scatter",
         "x": [
          "1957-11-01T00:00:00",
          "1957-12-01T00:00:00"
         ],
         "y": [
          2,
          2
         ]
        },
        {
         "line": {
          "color": "#C0C0C0"
         },
         "mode": "lines+markers",
         "name": "Unchanged",
         "showlegend": false,
         "type": "scatter",
         "x": [
          "1957-12-01T00:00:00",
          "1958-01-01T00:00:00"
         ],
         "y": [
          2,
          2
         ]
        },
        {
         "line": {
          "color": "#C0C0C0"
         },
         "mode": "lines+markers",
         "name": "Unchanged",
         "showlegend": false,
         "type": "scatter",
         "x": [
          "1958-01-01T00:00:00",
          "1958-02-01T00:00:00"
         ],
         "y": [
          2,
          2
         ]
        },
        {
         "line": {
          "color": "#C0C0C0"
         },
         "mode": "lines+markers",
         "name": "Unchanged",
         "showlegend": false,
         "type": "scatter",
         "x": [
          "1958-02-01T00:00:00",
          "1958-03-01T00:00:00"
         ],
         "y": [
          2,
          2
         ]
        },
        {
         "line": {
          "color": "#C0C0C0"
         },
         "mode": "lines+markers",
         "name": "Unchanged",
         "showlegend": false,
         "type": "scatter",
         "x": [
          "1958-03-01T00:00:00",
          "1958-04-01T00:00:00"
         ],
         "y": [
          2,
          2
         ]
        },
        {
         "line": {
          "color": "#C0C0C0"
         },
         "mode": "lines+markers",
         "name": "Unchanged",
         "showlegend": false,
         "type": "scatter",
         "x": [
          "1958-04-01T00:00:00",
          "1958-05-01T00:00:00"
         ],
         "y": [
          2,
          2
         ]
        },
        {
         "line": {
          "color": "#C0C0C0"
         },
         "mode": "lines+markers",
         "name": "Unchanged",
         "showlegend": false,
         "type": "scatter",
         "x": [
          "1958-05-01T00:00:00",
          "1958-06-01T00:00:00"
         ],
         "y": [
          2,
          2
         ]
        },
        {
         "line": {
          "color": "#C0C0C0"
         },
         "mode": "lines+markers",
         "name": "Unchanged",
         "showlegend": false,
         "type": "scatter",
         "x": [
          "1958-06-01T00:00:00",
          "1958-07-01T00:00:00"
         ],
         "y": [
          2,
          2
         ]
        },
        {
         "line": {
          "color": "#C0C0C0"
         },
         "mode": "lines+markers",
         "name": "Unchanged",
         "showlegend": false,
         "type": "scatter",
         "x": [
          "1958-07-01T00:00:00",
          "1958-08-01T00:00:00"
         ],
         "y": [
          2,
          2
         ]
        },
        {
         "line": {
          "color": "#C0C0C0"
         },
         "mode": "lines+markers",
         "name": "Unchanged",
         "showlegend": false,
         "type": "scatter",
         "x": [
          "1958-08-01T00:00:00",
          "1958-09-01T00:00:00"
         ],
         "y": [
          2,
          2
         ]
        },
        {
         "line": {
          "color": "#C0C0C0"
         },
         "mode": "lines+markers",
         "name": "Unchanged",
         "showlegend": false,
         "type": "scatter",
         "x": [
          "1958-09-01T00:00:00",
          "1958-10-01T00:00:00"
         ],
         "y": [
          2,
          2
         ]
        },
        {
         "line": {
          "color": "#C0C0C0"
         },
         "mode": "lines+markers",
         "name": "Unchanged",
         "showlegend": false,
         "type": "scatter",
         "x": [
          "1958-10-01T00:00:00",
          "1958-11-01T00:00:00"
         ],
         "y": [
          2,
          2
         ]
        },
        {
         "line": {
          "color": "#C0C0C0"
         },
         "mode": "lines+markers",
         "name": "Unchanged",
         "showlegend": false,
         "type": "scatter",
         "x": [
          "1958-11-01T00:00:00",
          "1958-12-01T00:00:00"
         ],
         "y": [
          2,
          2
         ]
        },
        {
         "line": {
          "color": "#C0C0C0"
         },
         "mode": "lines+markers",
         "name": "Unchanged",
         "showlegend": false,
         "type": "scatter",
         "x": [
          "1958-12-01T00:00:00",
          "1959-01-01T00:00:00"
         ],
         "y": [
          2,
          2
         ]
        },
        {
         "line": {
          "color": "#C0C0C0"
         },
         "mode": "lines+markers",
         "name": "Unchanged",
         "showlegend": false,
         "type": "scatter",
         "x": [
          "1959-01-01T00:00:00",
          "1959-02-01T00:00:00"
         ],
         "y": [
          2,
          2
         ]
        },
        {
         "line": {
          "color": "#C0C0C0"
         },
         "mode": "lines+markers",
         "name": "Unchanged",
         "showlegend": false,
         "type": "scatter",
         "x": [
          "1959-02-01T00:00:00",
          "1959-03-01T00:00:00"
         ],
         "y": [
          2,
          2
         ]
        },
        {
         "line": {
          "color": "#C0C0C0"
         },
         "mode": "lines+markers",
         "name": "Unchanged",
         "showlegend": false,
         "type": "scatter",
         "x": [
          "1959-03-01T00:00:00",
          "1959-04-01T00:00:00"
         ],
         "y": [
          2,
          2
         ]
        },
        {
         "line": {
          "color": "#C0C0C0"
         },
         "mode": "lines+markers",
         "name": "Unchanged",
         "showlegend": false,
         "type": "scatter",
         "x": [
          "1959-04-01T00:00:00",
          "1959-05-01T00:00:00"
         ],
         "y": [
          2,
          2
         ]
        },
        {
         "line": {
          "color": "#C0C0C0"
         },
         "mode": "lines+markers",
         "name": "Unchanged",
         "showlegend": false,
         "type": "scatter",
         "x": [
          "1959-05-01T00:00:00",
          "1959-06-01T00:00:00"
         ],
         "y": [
          2,
          2
         ]
        },
        {
         "line": {
          "color": "#C0C0C0"
         },
         "mode": "lines+markers",
         "name": "Unchanged",
         "showlegend": false,
         "type": "scatter",
         "x": [
          "1959-06-01T00:00:00",
          "1959-07-01T00:00:00"
         ],
         "y": [
          2,
          2
         ]
        },
        {
         "line": {
          "color": "#C0C0C0"
         },
         "mode": "lines+markers",
         "name": "Unchanged",
         "showlegend": false,
         "type": "scatter",
         "x": [
          "1959-07-01T00:00:00",
          "1959-08-01T00:00:00"
         ],
         "y": [
          2,
          2
         ]
        },
        {
         "line": {
          "color": "#C0C0C0"
         },
         "mode": "lines+markers",
         "name": "Unchanged",
         "showlegend": false,
         "type": "scatter",
         "x": [
          "1959-08-01T00:00:00",
          "1959-09-01T00:00:00"
         ],
         "y": [
          2,
          2
         ]
        },
        {
         "line": {
          "color": "#C0C0C0"
         },
         "mode": "lines+markers",
         "name": "Unchanged",
         "showlegend": false,
         "type": "scatter",
         "x": [
          "1959-09-01T00:00:00",
          "1959-10-01T00:00:00"
         ],
         "y": [
          2,
          2
         ]
        },
        {
         "line": {
          "color": "#C0C0C0"
         },
         "mode": "lines+markers",
         "name": "Unchanged",
         "showlegend": false,
         "type": "scatter",
         "x": [
          "1959-10-01T00:00:00",
          "1959-11-01T00:00:00"
         ],
         "y": [
          2,
          2
         ]
        },
        {
         "line": {
          "color": "#C0C0C0"
         },
         "mode": "lines+markers",
         "name": "Unchanged",
         "showlegend": false,
         "type": "scatter",
         "x": [
          "1959-11-01T00:00:00",
          "1959-12-01T00:00:00"
         ],
         "y": [
          2,
          2
         ]
        },
        {
         "line": {
          "color": "#1f77b4"
         },
         "mode": "lines+markers",
         "name": "Train",
         "showlegend": false,
         "type": "scatter",
         "x": [
          "1949-01-01T00:00:00",
          "1949-02-01T00:00:00"
         ],
         "y": [
          2,
          2
         ]
        },
        {
         "line": {
          "color": "#1f77b4"
         },
         "mode": "lines+markers",
         "name": "Train",
         "showlegend": false,
         "type": "scatter",
         "x": [
          "1949-02-01T00:00:00",
          "1949-03-01T00:00:00"
         ],
         "y": [
          2,
          2
         ]
        },
        {
         "line": {
          "color": "#1f77b4"
         },
         "mode": "lines+markers",
         "name": "Train",
         "showlegend": false,
         "type": "scatter",
         "x": [
          "1949-03-01T00:00:00",
          "1949-04-01T00:00:00"
         ],
         "y": [
          2,
          2
         ]
        },
        {
         "line": {
          "color": "#1f77b4"
         },
         "mode": "lines+markers",
         "name": "Train",
         "showlegend": false,
         "type": "scatter",
         "x": [
          "1949-04-01T00:00:00",
          "1949-05-01T00:00:00"
         ],
         "y": [
          2,
          2
         ]
        },
        {
         "line": {
          "color": "#1f77b4"
         },
         "mode": "lines+markers",
         "name": "Train",
         "showlegend": false,
         "type": "scatter",
         "x": [
          "1949-05-01T00:00:00",
          "1949-06-01T00:00:00"
         ],
         "y": [
          2,
          2
         ]
        },
        {
         "line": {
          "color": "#1f77b4"
         },
         "mode": "lines+markers",
         "name": "Train",
         "showlegend": false,
         "type": "scatter",
         "x": [
          "1949-06-01T00:00:00",
          "1949-07-01T00:00:00"
         ],
         "y": [
          2,
          2
         ]
        },
        {
         "line": {
          "color": "#1f77b4"
         },
         "mode": "lines+markers",
         "name": "Train",
         "showlegend": false,
         "type": "scatter",
         "x": [
          "1949-07-01T00:00:00",
          "1949-08-01T00:00:00"
         ],
         "y": [
          2,
          2
         ]
        },
        {
         "line": {
          "color": "#1f77b4"
         },
         "mode": "lines+markers",
         "name": "Train",
         "showlegend": false,
         "type": "scatter",
         "x": [
          "1949-08-01T00:00:00",
          "1949-09-01T00:00:00"
         ],
         "y": [
          2,
          2
         ]
        },
        {
         "line": {
          "color": "#1f77b4"
         },
         "mode": "lines+markers",
         "name": "Train",
         "showlegend": false,
         "type": "scatter",
         "x": [
          "1949-09-01T00:00:00",
          "1949-10-01T00:00:00"
         ],
         "y": [
          2,
          2
         ]
        },
        {
         "line": {
          "color": "#1f77b4"
         },
         "mode": "lines+markers",
         "name": "Train",
         "showlegend": false,
         "type": "scatter",
         "x": [
          "1949-10-01T00:00:00",
          "1949-11-01T00:00:00"
         ],
         "y": [
          2,
          2
         ]
        },
        {
         "line": {
          "color": "#1f77b4"
         },
         "mode": "lines+markers",
         "name": "Train",
         "showlegend": false,
         "type": "scatter",
         "x": [
          "1949-11-01T00:00:00",
          "1949-12-01T00:00:00"
         ],
         "y": [
          2,
          2
         ]
        },
        {
         "line": {
          "color": "#1f77b4"
         },
         "mode": "lines+markers",
         "name": "Train",
         "showlegend": false,
         "type": "scatter",
         "x": [
          "1949-12-01T00:00:00",
          "1950-01-01T00:00:00"
         ],
         "y": [
          2,
          2
         ]
        },
        {
         "line": {
          "color": "#1f77b4"
         },
         "mode": "lines+markers",
         "name": "Train",
         "showlegend": false,
         "type": "scatter",
         "x": [
          "1950-01-01T00:00:00",
          "1950-02-01T00:00:00"
         ],
         "y": [
          2,
          2
         ]
        },
        {
         "line": {
          "color": "#1f77b4"
         },
         "mode": "lines+markers",
         "name": "Train",
         "showlegend": false,
         "type": "scatter",
         "x": [
          "1950-02-01T00:00:00",
          "1950-03-01T00:00:00"
         ],
         "y": [
          2,
          2
         ]
        },
        {
         "line": {
          "color": "#1f77b4"
         },
         "mode": "lines+markers",
         "name": "Train",
         "showlegend": false,
         "type": "scatter",
         "x": [
          "1950-03-01T00:00:00",
          "1950-04-01T00:00:00"
         ],
         "y": [
          2,
          2
         ]
        },
        {
         "line": {
          "color": "#1f77b4"
         },
         "mode": "lines+markers",
         "name": "Train",
         "showlegend": false,
         "type": "scatter",
         "x": [
          "1950-04-01T00:00:00",
          "1950-05-01T00:00:00"
         ],
         "y": [
          2,
          2
         ]
        },
        {
         "line": {
          "color": "#1f77b4"
         },
         "mode": "lines+markers",
         "name": "Train",
         "showlegend": false,
         "type": "scatter",
         "x": [
          "1950-05-01T00:00:00",
          "1950-06-01T00:00:00"
         ],
         "y": [
          2,
          2
         ]
        },
        {
         "line": {
          "color": "#1f77b4"
         },
         "mode": "lines+markers",
         "name": "Train",
         "showlegend": false,
         "type": "scatter",
         "x": [
          "1950-06-01T00:00:00",
          "1950-07-01T00:00:00"
         ],
         "y": [
          2,
          2
         ]
        },
        {
         "line": {
          "color": "#1f77b4"
         },
         "mode": "lines+markers",
         "name": "Train",
         "showlegend": false,
         "type": "scatter",
         "x": [
          "1950-07-01T00:00:00",
          "1950-08-01T00:00:00"
         ],
         "y": [
          2,
          2
         ]
        },
        {
         "line": {
          "color": "#1f77b4"
         },
         "mode": "lines+markers",
         "name": "Train",
         "showlegend": false,
         "type": "scatter",
         "x": [
          "1950-08-01T00:00:00",
          "1950-09-01T00:00:00"
         ],
         "y": [
          2,
          2
         ]
        },
        {
         "line": {
          "color": "#1f77b4"
         },
         "mode": "lines+markers",
         "name": "Train",
         "showlegend": false,
         "type": "scatter",
         "x": [
          "1950-09-01T00:00:00",
          "1950-10-01T00:00:00"
         ],
         "y": [
          2,
          2
         ]
        },
        {
         "line": {
          "color": "#1f77b4"
         },
         "mode": "lines+markers",
         "name": "Train",
         "showlegend": false,
         "type": "scatter",
         "x": [
          "1950-10-01T00:00:00",
          "1950-11-01T00:00:00"
         ],
         "y": [
          2,
          2
         ]
        },
        {
         "line": {
          "color": "#1f77b4"
         },
         "mode": "lines+markers",
         "name": "Train",
         "showlegend": false,
         "type": "scatter",
         "x": [
          "1950-11-01T00:00:00",
          "1950-12-01T00:00:00"
         ],
         "y": [
          2,
          2
         ]
        },
        {
         "line": {
          "color": "#1f77b4"
         },
         "mode": "lines+markers",
         "name": "Train",
         "showlegend": false,
         "type": "scatter",
         "x": [
          "1950-12-01T00:00:00",
          "1951-01-01T00:00:00"
         ],
         "y": [
          2,
          2
         ]
        },
        {
         "line": {
          "color": "#1f77b4"
         },
         "mode": "lines+markers",
         "name": "Train",
         "showlegend": false,
         "type": "scatter",
         "x": [
          "1951-01-01T00:00:00",
          "1951-02-01T00:00:00"
         ],
         "y": [
          2,
          2
         ]
        },
        {
         "line": {
          "color": "#1f77b4"
         },
         "mode": "lines+markers",
         "name": "Train",
         "showlegend": false,
         "type": "scatter",
         "x": [
          "1951-02-01T00:00:00",
          "1951-03-01T00:00:00"
         ],
         "y": [
          2,
          2
         ]
        },
        {
         "line": {
          "color": "#1f77b4"
         },
         "mode": "lines+markers",
         "name": "Train",
         "showlegend": false,
         "type": "scatter",
         "x": [
          "1951-03-01T00:00:00",
          "1951-04-01T00:00:00"
         ],
         "y": [
          2,
          2
         ]
        },
        {
         "line": {
          "color": "#1f77b4"
         },
         "mode": "lines+markers",
         "name": "Train",
         "showlegend": false,
         "type": "scatter",
         "x": [
          "1951-04-01T00:00:00",
          "1951-05-01T00:00:00"
         ],
         "y": [
          2,
          2
         ]
        },
        {
         "line": {
          "color": "#1f77b4"
         },
         "mode": "lines+markers",
         "name": "Train",
         "showlegend": false,
         "type": "scatter",
         "x": [
          "1951-05-01T00:00:00",
          "1951-06-01T00:00:00"
         ],
         "y": [
          2,
          2
         ]
        },
        {
         "line": {
          "color": "#1f77b4"
         },
         "mode": "lines+markers",
         "name": "Train",
         "showlegend": false,
         "type": "scatter",
         "x": [
          "1951-06-01T00:00:00",
          "1951-07-01T00:00:00"
         ],
         "y": [
          2,
          2
         ]
        },
        {
         "line": {
          "color": "#1f77b4"
         },
         "mode": "lines+markers",
         "name": "Train",
         "showlegend": false,
         "type": "scatter",
         "x": [
          "1951-07-01T00:00:00",
          "1951-08-01T00:00:00"
         ],
         "y": [
          2,
          2
         ]
        },
        {
         "line": {
          "color": "#1f77b4"
         },
         "mode": "lines+markers",
         "name": "Train",
         "showlegend": false,
         "type": "scatter",
         "x": [
          "1951-08-01T00:00:00",
          "1951-09-01T00:00:00"
         ],
         "y": [
          2,
          2
         ]
        },
        {
         "line": {
          "color": "#1f77b4"
         },
         "mode": "lines+markers",
         "name": "Train",
         "showlegend": false,
         "type": "scatter",
         "x": [
          "1951-09-01T00:00:00",
          "1951-10-01T00:00:00"
         ],
         "y": [
          2,
          2
         ]
        },
        {
         "line": {
          "color": "#1f77b4"
         },
         "mode": "lines+markers",
         "name": "Train",
         "showlegend": false,
         "type": "scatter",
         "x": [
          "1951-10-01T00:00:00",
          "1951-11-01T00:00:00"
         ],
         "y": [
          2,
          2
         ]
        },
        {
         "line": {
          "color": "#1f77b4"
         },
         "mode": "lines+markers",
         "name": "Train",
         "showlegend": false,
         "type": "scatter",
         "x": [
          "1951-11-01T00:00:00",
          "1951-12-01T00:00:00"
         ],
         "y": [
          2,
          2
         ]
        },
        {
         "line": {
          "color": "#1f77b4"
         },
         "mode": "lines+markers",
         "name": "Train",
         "showlegend": false,
         "type": "scatter",
         "x": [
          "1951-12-01T00:00:00",
          "1952-01-01T00:00:00"
         ],
         "y": [
          2,
          2
         ]
        },
        {
         "line": {
          "color": "#1f77b4"
         },
         "mode": "lines+markers",
         "name": "Train",
         "showlegend": false,
         "type": "scatter",
         "x": [
          "1952-01-01T00:00:00",
          "1952-02-01T00:00:00"
         ],
         "y": [
          2,
          2
         ]
        },
        {
         "line": {
          "color": "#1f77b4"
         },
         "mode": "lines+markers",
         "name": "Train",
         "showlegend": false,
         "type": "scatter",
         "x": [
          "1952-02-01T00:00:00",
          "1952-03-01T00:00:00"
         ],
         "y": [
          2,
          2
         ]
        },
        {
         "line": {
          "color": "#1f77b4"
         },
         "mode": "lines+markers",
         "name": "Train",
         "showlegend": false,
         "type": "scatter",
         "x": [
          "1952-03-01T00:00:00",
          "1952-04-01T00:00:00"
         ],
         "y": [
          2,
          2
         ]
        },
        {
         "line": {
          "color": "#1f77b4"
         },
         "mode": "lines+markers",
         "name": "Train",
         "showlegend": false,
         "type": "scatter",
         "x": [
          "1952-04-01T00:00:00",
          "1952-05-01T00:00:00"
         ],
         "y": [
          2,
          2
         ]
        },
        {
         "line": {
          "color": "#1f77b4"
         },
         "mode": "lines+markers",
         "name": "Train",
         "showlegend": false,
         "type": "scatter",
         "x": [
          "1952-05-01T00:00:00",
          "1952-06-01T00:00:00"
         ],
         "y": [
          2,
          2
         ]
        },
        {
         "line": {
          "color": "#1f77b4"
         },
         "mode": "lines+markers",
         "name": "Train",
         "showlegend": false,
         "type": "scatter",
         "x": [
          "1952-06-01T00:00:00",
          "1952-07-01T00:00:00"
         ],
         "y": [
          2,
          2
         ]
        },
        {
         "line": {
          "color": "#1f77b4"
         },
         "mode": "lines+markers",
         "name": "Train",
         "showlegend": false,
         "type": "scatter",
         "x": [
          "1952-07-01T00:00:00",
          "1952-08-01T00:00:00"
         ],
         "y": [
          2,
          2
         ]
        },
        {
         "line": {
          "color": "#1f77b4"
         },
         "mode": "lines+markers",
         "name": "Train",
         "showlegend": false,
         "type": "scatter",
         "x": [
          "1952-08-01T00:00:00",
          "1952-09-01T00:00:00"
         ],
         "y": [
          2,
          2
         ]
        },
        {
         "line": {
          "color": "#1f77b4"
         },
         "mode": "lines+markers",
         "name": "Train",
         "showlegend": false,
         "type": "scatter",
         "x": [
          "1952-09-01T00:00:00",
          "1952-10-01T00:00:00"
         ],
         "y": [
          2,
          2
         ]
        },
        {
         "line": {
          "color": "#1f77b4"
         },
         "mode": "lines+markers",
         "name": "Train",
         "showlegend": false,
         "type": "scatter",
         "x": [
          "1952-10-01T00:00:00",
          "1952-11-01T00:00:00"
         ],
         "y": [
          2,
          2
         ]
        },
        {
         "line": {
          "color": "#1f77b4"
         },
         "mode": "lines+markers",
         "name": "Train",
         "showlegend": false,
         "type": "scatter",
         "x": [
          "1952-11-01T00:00:00",
          "1952-12-01T00:00:00"
         ],
         "y": [
          2,
          2
         ]
        },
        {
         "line": {
          "color": "#1f77b4"
         },
         "mode": "lines+markers",
         "name": "Train",
         "showlegend": false,
         "type": "scatter",
         "x": [
          "1952-12-01T00:00:00",
          "1953-01-01T00:00:00"
         ],
         "y": [
          2,
          2
         ]
        },
        {
         "line": {
          "color": "#1f77b4"
         },
         "mode": "lines+markers",
         "name": "Train",
         "showlegend": false,
         "type": "scatter",
         "x": [
          "1953-01-01T00:00:00",
          "1953-02-01T00:00:00"
         ],
         "y": [
          2,
          2
         ]
        },
        {
         "line": {
          "color": "#1f77b4"
         },
         "mode": "lines+markers",
         "name": "Train",
         "showlegend": false,
         "type": "scatter",
         "x": [
          "1953-02-01T00:00:00",
          "1953-03-01T00:00:00"
         ],
         "y": [
          2,
          2
         ]
        },
        {
         "line": {
          "color": "#1f77b4"
         },
         "mode": "lines+markers",
         "name": "Train",
         "showlegend": false,
         "type": "scatter",
         "x": [
          "1953-03-01T00:00:00",
          "1953-04-01T00:00:00"
         ],
         "y": [
          2,
          2
         ]
        },
        {
         "line": {
          "color": "#1f77b4"
         },
         "mode": "lines+markers",
         "name": "Train",
         "showlegend": false,
         "type": "scatter",
         "x": [
          "1953-04-01T00:00:00",
          "1953-05-01T00:00:00"
         ],
         "y": [
          2,
          2
         ]
        },
        {
         "line": {
          "color": "#1f77b4"
         },
         "mode": "lines+markers",
         "name": "Train",
         "showlegend": false,
         "type": "scatter",
         "x": [
          "1953-05-01T00:00:00",
          "1953-06-01T00:00:00"
         ],
         "y": [
          2,
          2
         ]
        },
        {
         "line": {
          "color": "#1f77b4"
         },
         "mode": "lines+markers",
         "name": "Train",
         "showlegend": false,
         "type": "scatter",
         "x": [
          "1953-06-01T00:00:00",
          "1953-07-01T00:00:00"
         ],
         "y": [
          2,
          2
         ]
        },
        {
         "line": {
          "color": "#1f77b4"
         },
         "mode": "lines+markers",
         "name": "Train",
         "showlegend": false,
         "type": "scatter",
         "x": [
          "1953-07-01T00:00:00",
          "1953-08-01T00:00:00"
         ],
         "y": [
          2,
          2
         ]
        },
        {
         "line": {
          "color": "#1f77b4"
         },
         "mode": "lines+markers",
         "name": "Train",
         "showlegend": false,
         "type": "scatter",
         "x": [
          "1953-08-01T00:00:00",
          "1953-09-01T00:00:00"
         ],
         "y": [
          2,
          2
         ]
        },
        {
         "line": {
          "color": "#1f77b4"
         },
         "mode": "lines+markers",
         "name": "Train",
         "showlegend": false,
         "type": "scatter",
         "x": [
          "1953-09-01T00:00:00",
          "1953-10-01T00:00:00"
         ],
         "y": [
          2,
          2
         ]
        },
        {
         "line": {
          "color": "#1f77b4"
         },
         "mode": "lines+markers",
         "name": "Train",
         "showlegend": false,
         "type": "scatter",
         "x": [
          "1953-10-01T00:00:00",
          "1953-11-01T00:00:00"
         ],
         "y": [
          2,
          2
         ]
        },
        {
         "line": {
          "color": "#1f77b4"
         },
         "mode": "lines+markers",
         "name": "Train",
         "showlegend": false,
         "type": "scatter",
         "x": [
          "1953-11-01T00:00:00",
          "1953-12-01T00:00:00"
         ],
         "y": [
          2,
          2
         ]
        },
        {
         "line": {
          "color": "#1f77b4"
         },
         "mode": "lines+markers",
         "name": "Train",
         "showlegend": false,
         "type": "scatter",
         "x": [
          "1953-12-01T00:00:00",
          "1954-01-01T00:00:00"
         ],
         "y": [
          2,
          2
         ]
        },
        {
         "line": {
          "color": "#1f77b4"
         },
         "mode": "lines+markers",
         "name": "Train",
         "showlegend": false,
         "type": "scatter",
         "x": [
          "1954-01-01T00:00:00",
          "1954-02-01T00:00:00"
         ],
         "y": [
          2,
          2
         ]
        },
        {
         "line": {
          "color": "#1f77b4"
         },
         "mode": "lines+markers",
         "name": "Train",
         "showlegend": false,
         "type": "scatter",
         "x": [
          "1954-02-01T00:00:00",
          "1954-03-01T00:00:00"
         ],
         "y": [
          2,
          2
         ]
        },
        {
         "line": {
          "color": "#1f77b4"
         },
         "mode": "lines+markers",
         "name": "Train",
         "showlegend": false,
         "type": "scatter",
         "x": [
          "1954-03-01T00:00:00",
          "1954-04-01T00:00:00"
         ],
         "y": [
          2,
          2
         ]
        },
        {
         "line": {
          "color": "#1f77b4"
         },
         "mode": "lines+markers",
         "name": "Train",
         "showlegend": false,
         "type": "scatter",
         "x": [
          "1954-04-01T00:00:00",
          "1954-05-01T00:00:00"
         ],
         "y": [
          2,
          2
         ]
        },
        {
         "line": {
          "color": "#1f77b4"
         },
         "mode": "lines+markers",
         "name": "Train",
         "showlegend": false,
         "type": "scatter",
         "x": [
          "1954-05-01T00:00:00",
          "1954-06-01T00:00:00"
         ],
         "y": [
          2,
          2
         ]
        },
        {
         "line": {
          "color": "#1f77b4"
         },
         "mode": "lines+markers",
         "name": "Train",
         "showlegend": false,
         "type": "scatter",
         "x": [
          "1954-06-01T00:00:00",
          "1954-07-01T00:00:00"
         ],
         "y": [
          2,
          2
         ]
        },
        {
         "line": {
          "color": "#1f77b4"
         },
         "mode": "lines+markers",
         "name": "Train",
         "showlegend": false,
         "type": "scatter",
         "x": [
          "1954-07-01T00:00:00",
          "1954-08-01T00:00:00"
         ],
         "y": [
          2,
          2
         ]
        },
        {
         "line": {
          "color": "#1f77b4"
         },
         "mode": "lines+markers",
         "name": "Train",
         "showlegend": false,
         "type": "scatter",
         "x": [
          "1954-08-01T00:00:00",
          "1954-09-01T00:00:00"
         ],
         "y": [
          2,
          2
         ]
        },
        {
         "line": {
          "color": "#1f77b4"
         },
         "mode": "lines+markers",
         "name": "Train",
         "showlegend": false,
         "type": "scatter",
         "x": [
          "1954-09-01T00:00:00",
          "1954-10-01T00:00:00"
         ],
         "y": [
          2,
          2
         ]
        },
        {
         "line": {
          "color": "#1f77b4"
         },
         "mode": "lines+markers",
         "name": "Train",
         "showlegend": false,
         "type": "scatter",
         "x": [
          "1954-10-01T00:00:00",
          "1954-11-01T00:00:00"
         ],
         "y": [
          2,
          2
         ]
        },
        {
         "line": {
          "color": "#1f77b4"
         },
         "mode": "lines+markers",
         "name": "Train",
         "showlegend": false,
         "type": "scatter",
         "x": [
          "1954-11-01T00:00:00",
          "1954-12-01T00:00:00"
         ],
         "y": [
          2,
          2
         ]
        },
        {
         "line": {
          "color": "#1f77b4"
         },
         "mode": "lines+markers",
         "name": "Train",
         "showlegend": false,
         "type": "scatter",
         "x": [
          "1954-12-01T00:00:00",
          "1955-01-01T00:00:00"
         ],
         "y": [
          2,
          2
         ]
        },
        {
         "line": {
          "color": "#1f77b4"
         },
         "mode": "lines+markers",
         "name": "Train",
         "showlegend": false,
         "type": "scatter",
         "x": [
          "1955-01-01T00:00:00",
          "1955-02-01T00:00:00"
         ],
         "y": [
          2,
          2
         ]
        },
        {
         "line": {
          "color": "#1f77b4"
         },
         "mode": "lines+markers",
         "name": "Train",
         "showlegend": false,
         "type": "scatter",
         "x": [
          "1955-02-01T00:00:00",
          "1955-03-01T00:00:00"
         ],
         "y": [
          2,
          2
         ]
        },
        {
         "line": {
          "color": "#1f77b4"
         },
         "mode": "lines+markers",
         "name": "Train",
         "showlegend": false,
         "type": "scatter",
         "x": [
          "1955-03-01T00:00:00",
          "1955-04-01T00:00:00"
         ],
         "y": [
          2,
          2
         ]
        },
        {
         "line": {
          "color": "#1f77b4"
         },
         "mode": "lines+markers",
         "name": "Train",
         "showlegend": false,
         "type": "scatter",
         "x": [
          "1955-04-01T00:00:00",
          "1955-05-01T00:00:00"
         ],
         "y": [
          2,
          2
         ]
        },
        {
         "line": {
          "color": "#1f77b4"
         },
         "mode": "lines+markers",
         "name": "Train",
         "showlegend": false,
         "type": "scatter",
         "x": [
          "1955-05-01T00:00:00",
          "1955-06-01T00:00:00"
         ],
         "y": [
          2,
          2
         ]
        },
        {
         "line": {
          "color": "#1f77b4"
         },
         "mode": "lines+markers",
         "name": "Train",
         "showlegend": false,
         "type": "scatter",
         "x": [
          "1955-06-01T00:00:00",
          "1955-07-01T00:00:00"
         ],
         "y": [
          2,
          2
         ]
        },
        {
         "line": {
          "color": "#1f77b4"
         },
         "mode": "lines+markers",
         "name": "Train",
         "showlegend": false,
         "type": "scatter",
         "x": [
          "1955-07-01T00:00:00",
          "1955-08-01T00:00:00"
         ],
         "y": [
          2,
          2
         ]
        },
        {
         "line": {
          "color": "#1f77b4"
         },
         "mode": "lines+markers",
         "name": "Train",
         "showlegend": false,
         "type": "scatter",
         "x": [
          "1955-08-01T00:00:00",
          "1955-09-01T00:00:00"
         ],
         "y": [
          2,
          2
         ]
        },
        {
         "line": {
          "color": "#1f77b4"
         },
         "mode": "lines+markers",
         "name": "Train",
         "showlegend": false,
         "type": "scatter",
         "x": [
          "1955-09-01T00:00:00",
          "1955-10-01T00:00:00"
         ],
         "y": [
          2,
          2
         ]
        },
        {
         "line": {
          "color": "#1f77b4"
         },
         "mode": "lines+markers",
         "name": "Train",
         "showlegend": false,
         "type": "scatter",
         "x": [
          "1955-10-01T00:00:00",
          "1955-11-01T00:00:00"
         ],
         "y": [
          2,
          2
         ]
        },
        {
         "line": {
          "color": "#1f77b4"
         },
         "mode": "lines+markers",
         "name": "Train",
         "showlegend": false,
         "type": "scatter",
         "x": [
          "1955-11-01T00:00:00",
          "1955-12-01T00:00:00"
         ],
         "y": [
          2,
          2
         ]
        },
        {
         "line": {
          "color": "#1f77b4"
         },
         "mode": "lines+markers",
         "name": "Train",
         "showlegend": false,
         "type": "scatter",
         "x": [
          "1955-12-01T00:00:00",
          "1956-01-01T00:00:00"
         ],
         "y": [
          2,
          2
         ]
        },
        {
         "line": {
          "color": "#1f77b4"
         },
         "mode": "lines+markers",
         "name": "Train",
         "showlegend": false,
         "type": "scatter",
         "x": [
          "1956-01-01T00:00:00",
          "1956-02-01T00:00:00"
         ],
         "y": [
          2,
          2
         ]
        },
        {
         "line": {
          "color": "#1f77b4"
         },
         "mode": "lines+markers",
         "name": "Train",
         "showlegend": false,
         "type": "scatter",
         "x": [
          "1956-02-01T00:00:00",
          "1956-03-01T00:00:00"
         ],
         "y": [
          2,
          2
         ]
        },
        {
         "line": {
          "color": "#1f77b4"
         },
         "mode": "lines+markers",
         "name": "Train",
         "showlegend": false,
         "type": "scatter",
         "x": [
          "1956-03-01T00:00:00",
          "1956-04-01T00:00:00"
         ],
         "y": [
          2,
          2
         ]
        },
        {
         "line": {
          "color": "#1f77b4"
         },
         "mode": "lines+markers",
         "name": "Train",
         "showlegend": false,
         "type": "scatter",
         "x": [
          "1956-04-01T00:00:00",
          "1956-05-01T00:00:00"
         ],
         "y": [
          2,
          2
         ]
        },
        {
         "line": {
          "color": "#1f77b4"
         },
         "mode": "lines+markers",
         "name": "Train",
         "showlegend": false,
         "type": "scatter",
         "x": [
          "1956-05-01T00:00:00",
          "1956-06-01T00:00:00"
         ],
         "y": [
          2,
          2
         ]
        },
        {
         "line": {
          "color": "#1f77b4"
         },
         "mode": "lines+markers",
         "name": "Train",
         "showlegend": false,
         "type": "scatter",
         "x": [
          "1956-06-01T00:00:00",
          "1956-07-01T00:00:00"
         ],
         "y": [
          2,
          2
         ]
        },
        {
         "line": {
          "color": "#1f77b4"
         },
         "mode": "lines+markers",
         "name": "Train",
         "showlegend": false,
         "type": "scatter",
         "x": [
          "1956-07-01T00:00:00",
          "1956-08-01T00:00:00"
         ],
         "y": [
          2,
          2
         ]
        },
        {
         "line": {
          "color": "#1f77b4"
         },
         "mode": "lines+markers",
         "name": "Train",
         "showlegend": false,
         "type": "scatter",
         "x": [
          "1956-08-01T00:00:00",
          "1956-09-01T00:00:00"
         ],
         "y": [
          2,
          2
         ]
        },
        {
         "line": {
          "color": "#1f77b4"
         },
         "mode": "lines+markers",
         "name": "Train",
         "showlegend": false,
         "type": "scatter",
         "x": [
          "1956-09-01T00:00:00",
          "1956-10-01T00:00:00"
         ],
         "y": [
          2,
          2
         ]
        },
        {
         "line": {
          "color": "#1f77b4"
         },
         "mode": "lines+markers",
         "name": "Train",
         "showlegend": false,
         "type": "scatter",
         "x": [
          "1956-10-01T00:00:00",
          "1956-11-01T00:00:00"
         ],
         "y": [
          2,
          2
         ]
        },
        {
         "line": {
          "color": "#1f77b4"
         },
         "mode": "lines+markers",
         "name": "Train",
         "showlegend": false,
         "type": "scatter",
         "x": [
          "1956-11-01T00:00:00",
          "1956-12-01T00:00:00"
         ],
         "y": [
          2,
          2
         ]
        },
        {
         "line": {
          "color": "#1f77b4"
         },
         "mode": "lines+markers",
         "name": "Train",
         "showlegend": false,
         "type": "scatter",
         "x": [
          "1956-12-01T00:00:00",
          "1957-01-01T00:00:00"
         ],
         "y": [
          2,
          2
         ]
        },
        {
         "line": {
          "color": "#1f77b4"
         },
         "mode": "lines+markers",
         "name": "Train",
         "showlegend": false,
         "type": "scatter",
         "x": [
          "1957-01-01T00:00:00",
          "1957-02-01T00:00:00"
         ],
         "y": [
          2,
          2
         ]
        },
        {
         "line": {
          "color": "#1f77b4"
         },
         "mode": "lines+markers",
         "name": "Train",
         "showlegend": false,
         "type": "scatter",
         "x": [
          "1957-02-01T00:00:00",
          "1957-03-01T00:00:00"
         ],
         "y": [
          2,
          2
         ]
        },
        {
         "line": {
          "color": "#1f77b4"
         },
         "mode": "lines+markers",
         "name": "Train",
         "showlegend": false,
         "type": "scatter",
         "x": [
          "1957-03-01T00:00:00",
          "1957-04-01T00:00:00"
         ],
         "y": [
          2,
          2
         ]
        },
        {
         "line": {
          "color": "#1f77b4"
         },
         "mode": "lines+markers",
         "name": "Train",
         "showlegend": false,
         "type": "scatter",
         "x": [
          "1957-04-01T00:00:00",
          "1957-05-01T00:00:00"
         ],
         "y": [
          2,
          2
         ]
        },
        {
         "line": {
          "color": "#1f77b4"
         },
         "mode": "lines+markers",
         "name": "Train",
         "showlegend": false,
         "type": "scatter",
         "x": [
          "1957-05-01T00:00:00",
          "1957-06-01T00:00:00"
         ],
         "y": [
          2,
          2
         ]
        },
        {
         "line": {
          "color": "#1f77b4"
         },
         "mode": "lines+markers",
         "name": "Train",
         "showlegend": false,
         "type": "scatter",
         "x": [
          "1957-06-01T00:00:00",
          "1957-07-01T00:00:00"
         ],
         "y": [
          2,
          2
         ]
        },
        {
         "line": {
          "color": "#1f77b4"
         },
         "mode": "lines+markers",
         "name": "Train",
         "showlegend": false,
         "type": "scatter",
         "x": [
          "1957-07-01T00:00:00",
          "1957-08-01T00:00:00"
         ],
         "y": [
          2,
          2
         ]
        },
        {
         "line": {
          "color": "#1f77b4"
         },
         "mode": "lines+markers",
         "name": "Train",
         "showlegend": false,
         "type": "scatter",
         "x": [
          "1957-08-01T00:00:00",
          "1957-09-01T00:00:00"
         ],
         "y": [
          2,
          2
         ]
        },
        {
         "line": {
          "color": "#1f77b4"
         },
         "mode": "lines+markers",
         "name": "Train",
         "showlegend": false,
         "type": "scatter",
         "x": [
          "1957-09-01T00:00:00",
          "1957-10-01T00:00:00"
         ],
         "y": [
          2,
          2
         ]
        },
        {
         "line": {
          "color": "#1f77b4"
         },
         "mode": "lines+markers",
         "name": "Train",
         "showlegend": false,
         "type": "scatter",
         "x": [
          "1957-10-01T00:00:00",
          "1957-11-01T00:00:00"
         ],
         "y": [
          2,
          2
         ]
        },
        {
         "line": {
          "color": "#1f77b4"
         },
         "mode": "lines+markers",
         "name": "Train",
         "showlegend": false,
         "type": "scatter",
         "x": [
          "1957-11-01T00:00:00",
          "1957-12-01T00:00:00"
         ],
         "y": [
          2,
          2
         ]
        },
        {
         "line": {
          "color": "#1f77b4"
         },
         "mode": "lines+markers",
         "name": "Train",
         "showlegend": false,
         "type": "scatter",
         "x": [
          "1957-12-01T00:00:00",
          "1958-01-01T00:00:00"
         ],
         "y": [
          2,
          2
         ]
        },
        {
         "line": {
          "color": "#1f77b4"
         },
         "mode": "lines+markers",
         "name": "Train",
         "showlegend": false,
         "type": "scatter",
         "x": [
          "1958-01-01T00:00:00",
          "1958-02-01T00:00:00"
         ],
         "y": [
          2,
          2
         ]
        },
        {
         "line": {
          "color": "#1f77b4"
         },
         "mode": "lines+markers",
         "name": "Train",
         "showlegend": false,
         "type": "scatter",
         "x": [
          "1958-02-01T00:00:00",
          "1958-03-01T00:00:00"
         ],
         "y": [
          2,
          2
         ]
        },
        {
         "line": {
          "color": "#1f77b4"
         },
         "mode": "lines+markers",
         "name": "Train",
         "showlegend": false,
         "type": "scatter",
         "x": [
          "1958-03-01T00:00:00",
          "1958-04-01T00:00:00"
         ],
         "y": [
          2,
          2
         ]
        },
        {
         "line": {
          "color": "#1f77b4"
         },
         "mode": "lines+markers",
         "name": "Train",
         "showlegend": false,
         "type": "scatter",
         "x": [
          "1958-04-01T00:00:00",
          "1958-05-01T00:00:00"
         ],
         "y": [
          2,
          2
         ]
        },
        {
         "line": {
          "color": "#1f77b4"
         },
         "mode": "lines+markers",
         "name": "Train",
         "showlegend": false,
         "type": "scatter",
         "x": [
          "1958-05-01T00:00:00",
          "1958-06-01T00:00:00"
         ],
         "y": [
          2,
          2
         ]
        },
        {
         "line": {
          "color": "#1f77b4"
         },
         "mode": "lines+markers",
         "name": "Train",
         "showlegend": false,
         "type": "scatter",
         "x": [
          "1958-06-01T00:00:00",
          "1958-07-01T00:00:00"
         ],
         "y": [
          2,
          2
         ]
        },
        {
         "line": {
          "color": "#1f77b4"
         },
         "mode": "lines+markers",
         "name": "Train",
         "showlegend": false,
         "type": "scatter",
         "x": [
          "1958-07-01T00:00:00",
          "1958-08-01T00:00:00"
         ],
         "y": [
          2,
          2
         ]
        },
        {
         "line": {
          "color": "#1f77b4"
         },
         "mode": "lines+markers",
         "name": "Train",
         "showlegend": false,
         "type": "scatter",
         "x": [
          "1958-08-01T00:00:00",
          "1958-09-01T00:00:00"
         ],
         "y": [
          2,
          2
         ]
        },
        {
         "line": {
          "color": "#1f77b4"
         },
         "mode": "lines+markers",
         "name": "Train",
         "showlegend": false,
         "type": "scatter",
         "x": [
          "1958-09-01T00:00:00",
          "1958-10-01T00:00:00"
         ],
         "y": [
          2,
          2
         ]
        },
        {
         "line": {
          "color": "#1f77b4"
         },
         "mode": "lines+markers",
         "name": "Train",
         "showlegend": false,
         "type": "scatter",
         "x": [
          "1958-10-01T00:00:00",
          "1958-11-01T00:00:00"
         ],
         "y": [
          2,
          2
         ]
        },
        {
         "line": {
          "color": "#1f77b4"
         },
         "mode": "lines+markers",
         "name": "Train",
         "showlegend": false,
         "type": "scatter",
         "x": [
          "1958-11-01T00:00:00",
          "1958-12-01T00:00:00"
         ],
         "y": [
          2,
          2
         ]
        },
        {
         "line": {
          "color": "#DE970B"
         },
         "mode": "lines+markers",
         "name": "ForecastHorizon",
         "showlegend": false,
         "type": "scatter",
         "x": [
          "1959-01-01T00:00:00",
          "1959-02-01T00:00:00"
         ],
         "y": [
          2,
          2
         ]
        },
        {
         "line": {
          "color": "#DE970B"
         },
         "mode": "lines+markers",
         "name": "ForecastHorizon",
         "showlegend": false,
         "type": "scatter",
         "x": [
          "1959-02-01T00:00:00",
          "1959-03-01T00:00:00"
         ],
         "y": [
          2,
          2
         ]
        },
        {
         "line": {
          "color": "#DE970B"
         },
         "mode": "lines+markers",
         "name": "ForecastHorizon",
         "showlegend": false,
         "type": "scatter",
         "x": [
          "1959-03-01T00:00:00",
          "1959-04-01T00:00:00"
         ],
         "y": [
          2,
          2
         ]
        },
        {
         "line": {
          "color": "#DE970B"
         },
         "mode": "lines+markers",
         "name": "ForecastHorizon",
         "showlegend": false,
         "type": "scatter",
         "x": [
          "1959-04-01T00:00:00",
          "1959-05-01T00:00:00"
         ],
         "y": [
          2,
          2
         ]
        },
        {
         "line": {
          "color": "#DE970B"
         },
         "mode": "lines+markers",
         "name": "ForecastHorizon",
         "showlegend": false,
         "type": "scatter",
         "x": [
          "1959-05-01T00:00:00",
          "1959-06-01T00:00:00"
         ],
         "y": [
          2,
          2
         ]
        },
        {
         "line": {
          "color": "#DE970B"
         },
         "mode": "lines+markers",
         "name": "ForecastHorizon",
         "showlegend": false,
         "type": "scatter",
         "x": [
          "1959-06-01T00:00:00",
          "1959-07-01T00:00:00"
         ],
         "y": [
          2,
          2
         ]
        },
        {
         "line": {
          "color": "#DE970B"
         },
         "mode": "lines+markers",
         "name": "ForecastHorizon",
         "showlegend": false,
         "type": "scatter",
         "x": [
          "1959-07-01T00:00:00",
          "1959-08-01T00:00:00"
         ],
         "y": [
          2,
          2
         ]
        },
        {
         "line": {
          "color": "#DE970B"
         },
         "mode": "lines+markers",
         "name": "ForecastHorizon",
         "showlegend": false,
         "type": "scatter",
         "x": [
          "1959-08-01T00:00:00",
          "1959-09-01T00:00:00"
         ],
         "y": [
          2,
          2
         ]
        },
        {
         "line": {
          "color": "#DE970B"
         },
         "mode": "lines+markers",
         "name": "ForecastHorizon",
         "showlegend": false,
         "type": "scatter",
         "x": [
          "1959-09-01T00:00:00",
          "1959-10-01T00:00:00"
         ],
         "y": [
          2,
          2
         ]
        },
        {
         "line": {
          "color": "#DE970B"
         },
         "mode": "lines+markers",
         "name": "ForecastHorizon",
         "showlegend": false,
         "type": "scatter",
         "x": [
          "1959-10-01T00:00:00",
          "1959-11-01T00:00:00"
         ],
         "y": [
          2,
          2
         ]
        },
        {
         "line": {
          "color": "#DE970B"
         },
         "mode": "lines+markers",
         "name": "ForecastHorizon",
         "showlegend": false,
         "type": "scatter",
         "x": [
          "1959-11-01T00:00:00",
          "1959-12-01T00:00:00"
         ],
         "y": [
          2,
          2
         ]
        },
        {
         "line": {
          "color": "#C0C0C0"
         },
         "mode": "lines+markers",
         "name": "Unchanged",
         "showlegend": false,
         "type": "scatter",
         "x": [
          "1949-01-01T00:00:00",
          "1949-02-01T00:00:00"
         ],
         "y": [
          1,
          1
         ]
        },
        {
         "line": {
          "color": "#C0C0C0"
         },
         "mode": "lines+markers",
         "name": "Unchanged",
         "showlegend": false,
         "type": "scatter",
         "x": [
          "1949-02-01T00:00:00",
          "1949-03-01T00:00:00"
         ],
         "y": [
          1,
          1
         ]
        },
        {
         "line": {
          "color": "#C0C0C0"
         },
         "mode": "lines+markers",
         "name": "Unchanged",
         "showlegend": false,
         "type": "scatter",
         "x": [
          "1949-03-01T00:00:00",
          "1949-04-01T00:00:00"
         ],
         "y": [
          1,
          1
         ]
        },
        {
         "line": {
          "color": "#C0C0C0"
         },
         "mode": "lines+markers",
         "name": "Unchanged",
         "showlegend": false,
         "type": "scatter",
         "x": [
          "1949-04-01T00:00:00",
          "1949-05-01T00:00:00"
         ],
         "y": [
          1,
          1
         ]
        },
        {
         "line": {
          "color": "#C0C0C0"
         },
         "mode": "lines+markers",
         "name": "Unchanged",
         "showlegend": false,
         "type": "scatter",
         "x": [
          "1949-05-01T00:00:00",
          "1949-06-01T00:00:00"
         ],
         "y": [
          1,
          1
         ]
        },
        {
         "line": {
          "color": "#C0C0C0"
         },
         "mode": "lines+markers",
         "name": "Unchanged",
         "showlegend": false,
         "type": "scatter",
         "x": [
          "1949-06-01T00:00:00",
          "1949-07-01T00:00:00"
         ],
         "y": [
          1,
          1
         ]
        },
        {
         "line": {
          "color": "#C0C0C0"
         },
         "mode": "lines+markers",
         "name": "Unchanged",
         "showlegend": false,
         "type": "scatter",
         "x": [
          "1949-07-01T00:00:00",
          "1949-08-01T00:00:00"
         ],
         "y": [
          1,
          1
         ]
        },
        {
         "line": {
          "color": "#C0C0C0"
         },
         "mode": "lines+markers",
         "name": "Unchanged",
         "showlegend": false,
         "type": "scatter",
         "x": [
          "1949-08-01T00:00:00",
          "1949-09-01T00:00:00"
         ],
         "y": [
          1,
          1
         ]
        },
        {
         "line": {
          "color": "#C0C0C0"
         },
         "mode": "lines+markers",
         "name": "Unchanged",
         "showlegend": false,
         "type": "scatter",
         "x": [
          "1949-09-01T00:00:00",
          "1949-10-01T00:00:00"
         ],
         "y": [
          1,
          1
         ]
        },
        {
         "line": {
          "color": "#C0C0C0"
         },
         "mode": "lines+markers",
         "name": "Unchanged",
         "showlegend": false,
         "type": "scatter",
         "x": [
          "1949-10-01T00:00:00",
          "1949-11-01T00:00:00"
         ],
         "y": [
          1,
          1
         ]
        },
        {
         "line": {
          "color": "#C0C0C0"
         },
         "mode": "lines+markers",
         "name": "Unchanged",
         "showlegend": false,
         "type": "scatter",
         "x": [
          "1949-11-01T00:00:00",
          "1949-12-01T00:00:00"
         ],
         "y": [
          1,
          1
         ]
        },
        {
         "line": {
          "color": "#C0C0C0"
         },
         "mode": "lines+markers",
         "name": "Unchanged",
         "showlegend": false,
         "type": "scatter",
         "x": [
          "1949-12-01T00:00:00",
          "1950-01-01T00:00:00"
         ],
         "y": [
          1,
          1
         ]
        },
        {
         "line": {
          "color": "#C0C0C0"
         },
         "mode": "lines+markers",
         "name": "Unchanged",
         "showlegend": false,
         "type": "scatter",
         "x": [
          "1950-01-01T00:00:00",
          "1950-02-01T00:00:00"
         ],
         "y": [
          1,
          1
         ]
        },
        {
         "line": {
          "color": "#C0C0C0"
         },
         "mode": "lines+markers",
         "name": "Unchanged",
         "showlegend": false,
         "type": "scatter",
         "x": [
          "1950-02-01T00:00:00",
          "1950-03-01T00:00:00"
         ],
         "y": [
          1,
          1
         ]
        },
        {
         "line": {
          "color": "#C0C0C0"
         },
         "mode": "lines+markers",
         "name": "Unchanged",
         "showlegend": false,
         "type": "scatter",
         "x": [
          "1950-03-01T00:00:00",
          "1950-04-01T00:00:00"
         ],
         "y": [
          1,
          1
         ]
        },
        {
         "line": {
          "color": "#C0C0C0"
         },
         "mode": "lines+markers",
         "name": "Unchanged",
         "showlegend": false,
         "type": "scatter",
         "x": [
          "1950-04-01T00:00:00",
          "1950-05-01T00:00:00"
         ],
         "y": [
          1,
          1
         ]
        },
        {
         "line": {
          "color": "#C0C0C0"
         },
         "mode": "lines+markers",
         "name": "Unchanged",
         "showlegend": false,
         "type": "scatter",
         "x": [
          "1950-05-01T00:00:00",
          "1950-06-01T00:00:00"
         ],
         "y": [
          1,
          1
         ]
        },
        {
         "line": {
          "color": "#C0C0C0"
         },
         "mode": "lines+markers",
         "name": "Unchanged",
         "showlegend": false,
         "type": "scatter",
         "x": [
          "1950-06-01T00:00:00",
          "1950-07-01T00:00:00"
         ],
         "y": [
          1,
          1
         ]
        },
        {
         "line": {
          "color": "#C0C0C0"
         },
         "mode": "lines+markers",
         "name": "Unchanged",
         "showlegend": false,
         "type": "scatter",
         "x": [
          "1950-07-01T00:00:00",
          "1950-08-01T00:00:00"
         ],
         "y": [
          1,
          1
         ]
        },
        {
         "line": {
          "color": "#C0C0C0"
         },
         "mode": "lines+markers",
         "name": "Unchanged",
         "showlegend": false,
         "type": "scatter",
         "x": [
          "1950-08-01T00:00:00",
          "1950-09-01T00:00:00"
         ],
         "y": [
          1,
          1
         ]
        },
        {
         "line": {
          "color": "#C0C0C0"
         },
         "mode": "lines+markers",
         "name": "Unchanged",
         "showlegend": false,
         "type": "scatter",
         "x": [
          "1950-09-01T00:00:00",
          "1950-10-01T00:00:00"
         ],
         "y": [
          1,
          1
         ]
        },
        {
         "line": {
          "color": "#C0C0C0"
         },
         "mode": "lines+markers",
         "name": "Unchanged",
         "showlegend": false,
         "type": "scatter",
         "x": [
          "1950-10-01T00:00:00",
          "1950-11-01T00:00:00"
         ],
         "y": [
          1,
          1
         ]
        },
        {
         "line": {
          "color": "#C0C0C0"
         },
         "mode": "lines+markers",
         "name": "Unchanged",
         "showlegend": false,
         "type": "scatter",
         "x": [
          "1950-11-01T00:00:00",
          "1950-12-01T00:00:00"
         ],
         "y": [
          1,
          1
         ]
        },
        {
         "line": {
          "color": "#C0C0C0"
         },
         "mode": "lines+markers",
         "name": "Unchanged",
         "showlegend": false,
         "type": "scatter",
         "x": [
          "1950-12-01T00:00:00",
          "1951-01-01T00:00:00"
         ],
         "y": [
          1,
          1
         ]
        },
        {
         "line": {
          "color": "#C0C0C0"
         },
         "mode": "lines+markers",
         "name": "Unchanged",
         "showlegend": false,
         "type": "scatter",
         "x": [
          "1951-01-01T00:00:00",
          "1951-02-01T00:00:00"
         ],
         "y": [
          1,
          1
         ]
        },
        {
         "line": {
          "color": "#C0C0C0"
         },
         "mode": "lines+markers",
         "name": "Unchanged",
         "showlegend": false,
         "type": "scatter",
         "x": [
          "1951-02-01T00:00:00",
          "1951-03-01T00:00:00"
         ],
         "y": [
          1,
          1
         ]
        },
        {
         "line": {
          "color": "#C0C0C0"
         },
         "mode": "lines+markers",
         "name": "Unchanged",
         "showlegend": false,
         "type": "scatter",
         "x": [
          "1951-03-01T00:00:00",
          "1951-04-01T00:00:00"
         ],
         "y": [
          1,
          1
         ]
        },
        {
         "line": {
          "color": "#C0C0C0"
         },
         "mode": "lines+markers",
         "name": "Unchanged",
         "showlegend": false,
         "type": "scatter",
         "x": [
          "1951-04-01T00:00:00",
          "1951-05-01T00:00:00"
         ],
         "y": [
          1,
          1
         ]
        },
        {
         "line": {
          "color": "#C0C0C0"
         },
         "mode": "lines+markers",
         "name": "Unchanged",
         "showlegend": false,
         "type": "scatter",
         "x": [
          "1951-05-01T00:00:00",
          "1951-06-01T00:00:00"
         ],
         "y": [
          1,
          1
         ]
        },
        {
         "line": {
          "color": "#C0C0C0"
         },
         "mode": "lines+markers",
         "name": "Unchanged",
         "showlegend": false,
         "type": "scatter",
         "x": [
          "1951-06-01T00:00:00",
          "1951-07-01T00:00:00"
         ],
         "y": [
          1,
          1
         ]
        },
        {
         "line": {
          "color": "#C0C0C0"
         },
         "mode": "lines+markers",
         "name": "Unchanged",
         "showlegend": false,
         "type": "scatter",
         "x": [
          "1951-07-01T00:00:00",
          "1951-08-01T00:00:00"
         ],
         "y": [
          1,
          1
         ]
        },
        {
         "line": {
          "color": "#C0C0C0"
         },
         "mode": "lines+markers",
         "name": "Unchanged",
         "showlegend": false,
         "type": "scatter",
         "x": [
          "1951-08-01T00:00:00",
          "1951-09-01T00:00:00"
         ],
         "y": [
          1,
          1
         ]
        },
        {
         "line": {
          "color": "#C0C0C0"
         },
         "mode": "lines+markers",
         "name": "Unchanged",
         "showlegend": false,
         "type": "scatter",
         "x": [
          "1951-09-01T00:00:00",
          "1951-10-01T00:00:00"
         ],
         "y": [
          1,
          1
         ]
        },
        {
         "line": {
          "color": "#C0C0C0"
         },
         "mode": "lines+markers",
         "name": "Unchanged",
         "showlegend": false,
         "type": "scatter",
         "x": [
          "1951-10-01T00:00:00",
          "1951-11-01T00:00:00"
         ],
         "y": [
          1,
          1
         ]
        },
        {
         "line": {
          "color": "#C0C0C0"
         },
         "mode": "lines+markers",
         "name": "Unchanged",
         "showlegend": false,
         "type": "scatter",
         "x": [
          "1951-11-01T00:00:00",
          "1951-12-01T00:00:00"
         ],
         "y": [
          1,
          1
         ]
        },
        {
         "line": {
          "color": "#C0C0C0"
         },
         "mode": "lines+markers",
         "name": "Unchanged",
         "showlegend": false,
         "type": "scatter",
         "x": [
          "1951-12-01T00:00:00",
          "1952-01-01T00:00:00"
         ],
         "y": [
          1,
          1
         ]
        },
        {
         "line": {
          "color": "#C0C0C0"
         },
         "mode": "lines+markers",
         "name": "Unchanged",
         "showlegend": false,
         "type": "scatter",
         "x": [
          "1952-01-01T00:00:00",
          "1952-02-01T00:00:00"
         ],
         "y": [
          1,
          1
         ]
        },
        {
         "line": {
          "color": "#C0C0C0"
         },
         "mode": "lines+markers",
         "name": "Unchanged",
         "showlegend": false,
         "type": "scatter",
         "x": [
          "1952-02-01T00:00:00",
          "1952-03-01T00:00:00"
         ],
         "y": [
          1,
          1
         ]
        },
        {
         "line": {
          "color": "#C0C0C0"
         },
         "mode": "lines+markers",
         "name": "Unchanged",
         "showlegend": false,
         "type": "scatter",
         "x": [
          "1952-03-01T00:00:00",
          "1952-04-01T00:00:00"
         ],
         "y": [
          1,
          1
         ]
        },
        {
         "line": {
          "color": "#C0C0C0"
         },
         "mode": "lines+markers",
         "name": "Unchanged",
         "showlegend": false,
         "type": "scatter",
         "x": [
          "1952-04-01T00:00:00",
          "1952-05-01T00:00:00"
         ],
         "y": [
          1,
          1
         ]
        },
        {
         "line": {
          "color": "#C0C0C0"
         },
         "mode": "lines+markers",
         "name": "Unchanged",
         "showlegend": false,
         "type": "scatter",
         "x": [
          "1952-05-01T00:00:00",
          "1952-06-01T00:00:00"
         ],
         "y": [
          1,
          1
         ]
        },
        {
         "line": {
          "color": "#C0C0C0"
         },
         "mode": "lines+markers",
         "name": "Unchanged",
         "showlegend": false,
         "type": "scatter",
         "x": [
          "1952-06-01T00:00:00",
          "1952-07-01T00:00:00"
         ],
         "y": [
          1,
          1
         ]
        },
        {
         "line": {
          "color": "#C0C0C0"
         },
         "mode": "lines+markers",
         "name": "Unchanged",
         "showlegend": false,
         "type": "scatter",
         "x": [
          "1952-07-01T00:00:00",
          "1952-08-01T00:00:00"
         ],
         "y": [
          1,
          1
         ]
        },
        {
         "line": {
          "color": "#C0C0C0"
         },
         "mode": "lines+markers",
         "name": "Unchanged",
         "showlegend": false,
         "type": "scatter",
         "x": [
          "1952-08-01T00:00:00",
          "1952-09-01T00:00:00"
         ],
         "y": [
          1,
          1
         ]
        },
        {
         "line": {
          "color": "#C0C0C0"
         },
         "mode": "lines+markers",
         "name": "Unchanged",
         "showlegend": false,
         "type": "scatter",
         "x": [
          "1952-09-01T00:00:00",
          "1952-10-01T00:00:00"
         ],
         "y": [
          1,
          1
         ]
        },
        {
         "line": {
          "color": "#C0C0C0"
         },
         "mode": "lines+markers",
         "name": "Unchanged",
         "showlegend": false,
         "type": "scatter",
         "x": [
          "1952-10-01T00:00:00",
          "1952-11-01T00:00:00"
         ],
         "y": [
          1,
          1
         ]
        },
        {
         "line": {
          "color": "#C0C0C0"
         },
         "mode": "lines+markers",
         "name": "Unchanged",
         "showlegend": false,
         "type": "scatter",
         "x": [
          "1952-11-01T00:00:00",
          "1952-12-01T00:00:00"
         ],
         "y": [
          1,
          1
         ]
        },
        {
         "line": {
          "color": "#C0C0C0"
         },
         "mode": "lines+markers",
         "name": "Unchanged",
         "showlegend": false,
         "type": "scatter",
         "x": [
          "1952-12-01T00:00:00",
          "1953-01-01T00:00:00"
         ],
         "y": [
          1,
          1
         ]
        },
        {
         "line": {
          "color": "#C0C0C0"
         },
         "mode": "lines+markers",
         "name": "Unchanged",
         "showlegend": false,
         "type": "scatter",
         "x": [
          "1953-01-01T00:00:00",
          "1953-02-01T00:00:00"
         ],
         "y": [
          1,
          1
         ]
        },
        {
         "line": {
          "color": "#C0C0C0"
         },
         "mode": "lines+markers",
         "name": "Unchanged",
         "showlegend": false,
         "type": "scatter",
         "x": [
          "1953-02-01T00:00:00",
          "1953-03-01T00:00:00"
         ],
         "y": [
          1,
          1
         ]
        },
        {
         "line": {
          "color": "#C0C0C0"
         },
         "mode": "lines+markers",
         "name": "Unchanged",
         "showlegend": false,
         "type": "scatter",
         "x": [
          "1953-03-01T00:00:00",
          "1953-04-01T00:00:00"
         ],
         "y": [
          1,
          1
         ]
        },
        {
         "line": {
          "color": "#C0C0C0"
         },
         "mode": "lines+markers",
         "name": "Unchanged",
         "showlegend": false,
         "type": "scatter",
         "x": [
          "1953-04-01T00:00:00",
          "1953-05-01T00:00:00"
         ],
         "y": [
          1,
          1
         ]
        },
        {
         "line": {
          "color": "#C0C0C0"
         },
         "mode": "lines+markers",
         "name": "Unchanged",
         "showlegend": false,
         "type": "scatter",
         "x": [
          "1953-05-01T00:00:00",
          "1953-06-01T00:00:00"
         ],
         "y": [
          1,
          1
         ]
        },
        {
         "line": {
          "color": "#C0C0C0"
         },
         "mode": "lines+markers",
         "name": "Unchanged",
         "showlegend": false,
         "type": "scatter",
         "x": [
          "1953-06-01T00:00:00",
          "1953-07-01T00:00:00"
         ],
         "y": [
          1,
          1
         ]
        },
        {
         "line": {
          "color": "#C0C0C0"
         },
         "mode": "lines+markers",
         "name": "Unchanged",
         "showlegend": false,
         "type": "scatter",
         "x": [
          "1953-07-01T00:00:00",
          "1953-08-01T00:00:00"
         ],
         "y": [
          1,
          1
         ]
        },
        {
         "line": {
          "color": "#C0C0C0"
         },
         "mode": "lines+markers",
         "name": "Unchanged",
         "showlegend": false,
         "type": "scatter",
         "x": [
          "1953-08-01T00:00:00",
          "1953-09-01T00:00:00"
         ],
         "y": [
          1,
          1
         ]
        },
        {
         "line": {
          "color": "#C0C0C0"
         },
         "mode": "lines+markers",
         "name": "Unchanged",
         "showlegend": false,
         "type": "scatter",
         "x": [
          "1953-09-01T00:00:00",
          "1953-10-01T00:00:00"
         ],
         "y": [
          1,
          1
         ]
        },
        {
         "line": {
          "color": "#C0C0C0"
         },
         "mode": "lines+markers",
         "name": "Unchanged",
         "showlegend": false,
         "type": "scatter",
         "x": [
          "1953-10-01T00:00:00",
          "1953-11-01T00:00:00"
         ],
         "y": [
          1,
          1
         ]
        },
        {
         "line": {
          "color": "#C0C0C0"
         },
         "mode": "lines+markers",
         "name": "Unchanged",
         "showlegend": false,
         "type": "scatter",
         "x": [
          "1953-11-01T00:00:00",
          "1953-12-01T00:00:00"
         ],
         "y": [
          1,
          1
         ]
        },
        {
         "line": {
          "color": "#C0C0C0"
         },
         "mode": "lines+markers",
         "name": "Unchanged",
         "showlegend": false,
         "type": "scatter",
         "x": [
          "1953-12-01T00:00:00",
          "1954-01-01T00:00:00"
         ],
         "y": [
          1,
          1
         ]
        },
        {
         "line": {
          "color": "#C0C0C0"
         },
         "mode": "lines+markers",
         "name": "Unchanged",
         "showlegend": false,
         "type": "scatter",
         "x": [
          "1954-01-01T00:00:00",
          "1954-02-01T00:00:00"
         ],
         "y": [
          1,
          1
         ]
        },
        {
         "line": {
          "color": "#C0C0C0"
         },
         "mode": "lines+markers",
         "name": "Unchanged",
         "showlegend": false,
         "type": "scatter",
         "x": [
          "1954-02-01T00:00:00",
          "1954-03-01T00:00:00"
         ],
         "y": [
          1,
          1
         ]
        },
        {
         "line": {
          "color": "#C0C0C0"
         },
         "mode": "lines+markers",
         "name": "Unchanged",
         "showlegend": false,
         "type": "scatter",
         "x": [
          "1954-03-01T00:00:00",
          "1954-04-01T00:00:00"
         ],
         "y": [
          1,
          1
         ]
        },
        {
         "line": {
          "color": "#C0C0C0"
         },
         "mode": "lines+markers",
         "name": "Unchanged",
         "showlegend": false,
         "type": "scatter",
         "x": [
          "1954-04-01T00:00:00",
          "1954-05-01T00:00:00"
         ],
         "y": [
          1,
          1
         ]
        },
        {
         "line": {
          "color": "#C0C0C0"
         },
         "mode": "lines+markers",
         "name": "Unchanged",
         "showlegend": false,
         "type": "scatter",
         "x": [
          "1954-05-01T00:00:00",
          "1954-06-01T00:00:00"
         ],
         "y": [
          1,
          1
         ]
        },
        {
         "line": {
          "color": "#C0C0C0"
         },
         "mode": "lines+markers",
         "name": "Unchanged",
         "showlegend": false,
         "type": "scatter",
         "x": [
          "1954-06-01T00:00:00",
          "1954-07-01T00:00:00"
         ],
         "y": [
          1,
          1
         ]
        },
        {
         "line": {
          "color": "#C0C0C0"
         },
         "mode": "lines+markers",
         "name": "Unchanged",
         "showlegend": false,
         "type": "scatter",
         "x": [
          "1954-07-01T00:00:00",
          "1954-08-01T00:00:00"
         ],
         "y": [
          1,
          1
         ]
        },
        {
         "line": {
          "color": "#C0C0C0"
         },
         "mode": "lines+markers",
         "name": "Unchanged",
         "showlegend": false,
         "type": "scatter",
         "x": [
          "1954-08-01T00:00:00",
          "1954-09-01T00:00:00"
         ],
         "y": [
          1,
          1
         ]
        },
        {
         "line": {
          "color": "#C0C0C0"
         },
         "mode": "lines+markers",
         "name": "Unchanged",
         "showlegend": false,
         "type": "scatter",
         "x": [
          "1954-09-01T00:00:00",
          "1954-10-01T00:00:00"
         ],
         "y": [
          1,
          1
         ]
        },
        {
         "line": {
          "color": "#C0C0C0"
         },
         "mode": "lines+markers",
         "name": "Unchanged",
         "showlegend": false,
         "type": "scatter",
         "x": [
          "1954-10-01T00:00:00",
          "1954-11-01T00:00:00"
         ],
         "y": [
          1,
          1
         ]
        },
        {
         "line": {
          "color": "#C0C0C0"
         },
         "mode": "lines+markers",
         "name": "Unchanged",
         "showlegend": false,
         "type": "scatter",
         "x": [
          "1954-11-01T00:00:00",
          "1954-12-01T00:00:00"
         ],
         "y": [
          1,
          1
         ]
        },
        {
         "line": {
          "color": "#C0C0C0"
         },
         "mode": "lines+markers",
         "name": "Unchanged",
         "showlegend": false,
         "type": "scatter",
         "x": [
          "1954-12-01T00:00:00",
          "1955-01-01T00:00:00"
         ],
         "y": [
          1,
          1
         ]
        },
        {
         "line": {
          "color": "#C0C0C0"
         },
         "mode": "lines+markers",
         "name": "Unchanged",
         "showlegend": false,
         "type": "scatter",
         "x": [
          "1955-01-01T00:00:00",
          "1955-02-01T00:00:00"
         ],
         "y": [
          1,
          1
         ]
        },
        {
         "line": {
          "color": "#C0C0C0"
         },
         "mode": "lines+markers",
         "name": "Unchanged",
         "showlegend": false,
         "type": "scatter",
         "x": [
          "1955-02-01T00:00:00",
          "1955-03-01T00:00:00"
         ],
         "y": [
          1,
          1
         ]
        },
        {
         "line": {
          "color": "#C0C0C0"
         },
         "mode": "lines+markers",
         "name": "Unchanged",
         "showlegend": false,
         "type": "scatter",
         "x": [
          "1955-03-01T00:00:00",
          "1955-04-01T00:00:00"
         ],
         "y": [
          1,
          1
         ]
        },
        {
         "line": {
          "color": "#C0C0C0"
         },
         "mode": "lines+markers",
         "name": "Unchanged",
         "showlegend": false,
         "type": "scatter",
         "x": [
          "1955-04-01T00:00:00",
          "1955-05-01T00:00:00"
         ],
         "y": [
          1,
          1
         ]
        },
        {
         "line": {
          "color": "#C0C0C0"
         },
         "mode": "lines+markers",
         "name": "Unchanged",
         "showlegend": false,
         "type": "scatter",
         "x": [
          "1955-05-01T00:00:00",
          "1955-06-01T00:00:00"
         ],
         "y": [
          1,
          1
         ]
        },
        {
         "line": {
          "color": "#C0C0C0"
         },
         "mode": "lines+markers",
         "name": "Unchanged",
         "showlegend": false,
         "type": "scatter",
         "x": [
          "1955-06-01T00:00:00",
          "1955-07-01T00:00:00"
         ],
         "y": [
          1,
          1
         ]
        },
        {
         "line": {
          "color": "#C0C0C0"
         },
         "mode": "lines+markers",
         "name": "Unchanged",
         "showlegend": false,
         "type": "scatter",
         "x": [
          "1955-07-01T00:00:00",
          "1955-08-01T00:00:00"
         ],
         "y": [
          1,
          1
         ]
        },
        {
         "line": {
          "color": "#C0C0C0"
         },
         "mode": "lines+markers",
         "name": "Unchanged",
         "showlegend": false,
         "type": "scatter",
         "x": [
          "1955-08-01T00:00:00",
          "1955-09-01T00:00:00"
         ],
         "y": [
          1,
          1
         ]
        },
        {
         "line": {
          "color": "#C0C0C0"
         },
         "mode": "lines+markers",
         "name": "Unchanged",
         "showlegend": false,
         "type": "scatter",
         "x": [
          "1955-09-01T00:00:00",
          "1955-10-01T00:00:00"
         ],
         "y": [
          1,
          1
         ]
        },
        {
         "line": {
          "color": "#C0C0C0"
         },
         "mode": "lines+markers",
         "name": "Unchanged",
         "showlegend": false,
         "type": "scatter",
         "x": [
          "1955-10-01T00:00:00",
          "1955-11-01T00:00:00"
         ],
         "y": [
          1,
          1
         ]
        },
        {
         "line": {
          "color": "#C0C0C0"
         },
         "mode": "lines+markers",
         "name": "Unchanged",
         "showlegend": false,
         "type": "scatter",
         "x": [
          "1955-11-01T00:00:00",
          "1955-12-01T00:00:00"
         ],
         "y": [
          1,
          1
         ]
        },
        {
         "line": {
          "color": "#C0C0C0"
         },
         "mode": "lines+markers",
         "name": "Unchanged",
         "showlegend": false,
         "type": "scatter",
         "x": [
          "1955-12-01T00:00:00",
          "1956-01-01T00:00:00"
         ],
         "y": [
          1,
          1
         ]
        },
        {
         "line": {
          "color": "#C0C0C0"
         },
         "mode": "lines+markers",
         "name": "Unchanged",
         "showlegend": false,
         "type": "scatter",
         "x": [
          "1956-01-01T00:00:00",
          "1956-02-01T00:00:00"
         ],
         "y": [
          1,
          1
         ]
        },
        {
         "line": {
          "color": "#C0C0C0"
         },
         "mode": "lines+markers",
         "name": "Unchanged",
         "showlegend": false,
         "type": "scatter",
         "x": [
          "1956-02-01T00:00:00",
          "1956-03-01T00:00:00"
         ],
         "y": [
          1,
          1
         ]
        },
        {
         "line": {
          "color": "#C0C0C0"
         },
         "mode": "lines+markers",
         "name": "Unchanged",
         "showlegend": false,
         "type": "scatter",
         "x": [
          "1956-03-01T00:00:00",
          "1956-04-01T00:00:00"
         ],
         "y": [
          1,
          1
         ]
        },
        {
         "line": {
          "color": "#C0C0C0"
         },
         "mode": "lines+markers",
         "name": "Unchanged",
         "showlegend": false,
         "type": "scatter",
         "x": [
          "1956-04-01T00:00:00",
          "1956-05-01T00:00:00"
         ],
         "y": [
          1,
          1
         ]
        },
        {
         "line": {
          "color": "#C0C0C0"
         },
         "mode": "lines+markers",
         "name": "Unchanged",
         "showlegend": false,
         "type": "scatter",
         "x": [
          "1956-05-01T00:00:00",
          "1956-06-01T00:00:00"
         ],
         "y": [
          1,
          1
         ]
        },
        {
         "line": {
          "color": "#C0C0C0"
         },
         "mode": "lines+markers",
         "name": "Unchanged",
         "showlegend": false,
         "type": "scatter",
         "x": [
          "1956-06-01T00:00:00",
          "1956-07-01T00:00:00"
         ],
         "y": [
          1,
          1
         ]
        },
        {
         "line": {
          "color": "#C0C0C0"
         },
         "mode": "lines+markers",
         "name": "Unchanged",
         "showlegend": false,
         "type": "scatter",
         "x": [
          "1956-07-01T00:00:00",
          "1956-08-01T00:00:00"
         ],
         "y": [
          1,
          1
         ]
        },
        {
         "line": {
          "color": "#C0C0C0"
         },
         "mode": "lines+markers",
         "name": "Unchanged",
         "showlegend": false,
         "type": "scatter",
         "x": [
          "1956-08-01T00:00:00",
          "1956-09-01T00:00:00"
         ],
         "y": [
          1,
          1
         ]
        },
        {
         "line": {
          "color": "#C0C0C0"
         },
         "mode": "lines+markers",
         "name": "Unchanged",
         "showlegend": false,
         "type": "scatter",
         "x": [
          "1956-09-01T00:00:00",
          "1956-10-01T00:00:00"
         ],
         "y": [
          1,
          1
         ]
        },
        {
         "line": {
          "color": "#C0C0C0"
         },
         "mode": "lines+markers",
         "name": "Unchanged",
         "showlegend": false,
         "type": "scatter",
         "x": [
          "1956-10-01T00:00:00",
          "1956-11-01T00:00:00"
         ],
         "y": [
          1,
          1
         ]
        },
        {
         "line": {
          "color": "#C0C0C0"
         },
         "mode": "lines+markers",
         "name": "Unchanged",
         "showlegend": false,
         "type": "scatter",
         "x": [
          "1956-11-01T00:00:00",
          "1956-12-01T00:00:00"
         ],
         "y": [
          1,
          1
         ]
        },
        {
         "line": {
          "color": "#C0C0C0"
         },
         "mode": "lines+markers",
         "name": "Unchanged",
         "showlegend": false,
         "type": "scatter",
         "x": [
          "1956-12-01T00:00:00",
          "1957-01-01T00:00:00"
         ],
         "y": [
          1,
          1
         ]
        },
        {
         "line": {
          "color": "#C0C0C0"
         },
         "mode": "lines+markers",
         "name": "Unchanged",
         "showlegend": false,
         "type": "scatter",
         "x": [
          "1957-01-01T00:00:00",
          "1957-02-01T00:00:00"
         ],
         "y": [
          1,
          1
         ]
        },
        {
         "line": {
          "color": "#C0C0C0"
         },
         "mode": "lines+markers",
         "name": "Unchanged",
         "showlegend": false,
         "type": "scatter",
         "x": [
          "1957-02-01T00:00:00",
          "1957-03-01T00:00:00"
         ],
         "y": [
          1,
          1
         ]
        },
        {
         "line": {
          "color": "#C0C0C0"
         },
         "mode": "lines+markers",
         "name": "Unchanged",
         "showlegend": false,
         "type": "scatter",
         "x": [
          "1957-03-01T00:00:00",
          "1957-04-01T00:00:00"
         ],
         "y": [
          1,
          1
         ]
        },
        {
         "line": {
          "color": "#C0C0C0"
         },
         "mode": "lines+markers",
         "name": "Unchanged",
         "showlegend": false,
         "type": "scatter",
         "x": [
          "1957-04-01T00:00:00",
          "1957-05-01T00:00:00"
         ],
         "y": [
          1,
          1
         ]
        },
        {
         "line": {
          "color": "#C0C0C0"
         },
         "mode": "lines+markers",
         "name": "Unchanged",
         "showlegend": false,
         "type": "scatter",
         "x": [
          "1957-05-01T00:00:00",
          "1957-06-01T00:00:00"
         ],
         "y": [
          1,
          1
         ]
        },
        {
         "line": {
          "color": "#C0C0C0"
         },
         "mode": "lines+markers",
         "name": "Unchanged",
         "showlegend": false,
         "type": "scatter",
         "x": [
          "1957-06-01T00:00:00",
          "1957-07-01T00:00:00"
         ],
         "y": [
          1,
          1
         ]
        },
        {
         "line": {
          "color": "#C0C0C0"
         },
         "mode": "lines+markers",
         "name": "Unchanged",
         "showlegend": false,
         "type": "scatter",
         "x": [
          "1957-07-01T00:00:00",
          "1957-08-01T00:00:00"
         ],
         "y": [
          1,
          1
         ]
        },
        {
         "line": {
          "color": "#C0C0C0"
         },
         "mode": "lines+markers",
         "name": "Unchanged",
         "showlegend": false,
         "type": "scatter",
         "x": [
          "1957-08-01T00:00:00",
          "1957-09-01T00:00:00"
         ],
         "y": [
          1,
          1
         ]
        },
        {
         "line": {
          "color": "#C0C0C0"
         },
         "mode": "lines+markers",
         "name": "Unchanged",
         "showlegend": false,
         "type": "scatter",
         "x": [
          "1957-09-01T00:00:00",
          "1957-10-01T00:00:00"
         ],
         "y": [
          1,
          1
         ]
        },
        {
         "line": {
          "color": "#C0C0C0"
         },
         "mode": "lines+markers",
         "name": "Unchanged",
         "showlegend": false,
         "type": "scatter",
         "x": [
          "1957-10-01T00:00:00",
          "1957-11-01T00:00:00"
         ],
         "y": [
          1,
          1
         ]
        },
        {
         "line": {
          "color": "#C0C0C0"
         },
         "mode": "lines+markers",
         "name": "Unchanged",
         "showlegend": false,
         "type": "scatter",
         "x": [
          "1957-11-01T00:00:00",
          "1957-12-01T00:00:00"
         ],
         "y": [
          1,
          1
         ]
        },
        {
         "line": {
          "color": "#C0C0C0"
         },
         "mode": "lines+markers",
         "name": "Unchanged",
         "showlegend": false,
         "type": "scatter",
         "x": [
          "1957-12-01T00:00:00",
          "1958-01-01T00:00:00"
         ],
         "y": [
          1,
          1
         ]
        },
        {
         "line": {
          "color": "#C0C0C0"
         },
         "mode": "lines+markers",
         "name": "Unchanged",
         "showlegend": false,
         "type": "scatter",
         "x": [
          "1958-01-01T00:00:00",
          "1958-02-01T00:00:00"
         ],
         "y": [
          1,
          1
         ]
        },
        {
         "line": {
          "color": "#C0C0C0"
         },
         "mode": "lines+markers",
         "name": "Unchanged",
         "showlegend": false,
         "type": "scatter",
         "x": [
          "1958-02-01T00:00:00",
          "1958-03-01T00:00:00"
         ],
         "y": [
          1,
          1
         ]
        },
        {
         "line": {
          "color": "#C0C0C0"
         },
         "mode": "lines+markers",
         "name": "Unchanged",
         "showlegend": false,
         "type": "scatter",
         "x": [
          "1958-03-01T00:00:00",
          "1958-04-01T00:00:00"
         ],
         "y": [
          1,
          1
         ]
        },
        {
         "line": {
          "color": "#C0C0C0"
         },
         "mode": "lines+markers",
         "name": "Unchanged",
         "showlegend": false,
         "type": "scatter",
         "x": [
          "1958-04-01T00:00:00",
          "1958-05-01T00:00:00"
         ],
         "y": [
          1,
          1
         ]
        },
        {
         "line": {
          "color": "#C0C0C0"
         },
         "mode": "lines+markers",
         "name": "Unchanged",
         "showlegend": false,
         "type": "scatter",
         "x": [
          "1958-05-01T00:00:00",
          "1958-06-01T00:00:00"
         ],
         "y": [
          1,
          1
         ]
        },
        {
         "line": {
          "color": "#C0C0C0"
         },
         "mode": "lines+markers",
         "name": "Unchanged",
         "showlegend": false,
         "type": "scatter",
         "x": [
          "1958-06-01T00:00:00",
          "1958-07-01T00:00:00"
         ],
         "y": [
          1,
          1
         ]
        },
        {
         "line": {
          "color": "#C0C0C0"
         },
         "mode": "lines+markers",
         "name": "Unchanged",
         "showlegend": false,
         "type": "scatter",
         "x": [
          "1958-07-01T00:00:00",
          "1958-08-01T00:00:00"
         ],
         "y": [
          1,
          1
         ]
        },
        {
         "line": {
          "color": "#C0C0C0"
         },
         "mode": "lines+markers",
         "name": "Unchanged",
         "showlegend": false,
         "type": "scatter",
         "x": [
          "1958-08-01T00:00:00",
          "1958-09-01T00:00:00"
         ],
         "y": [
          1,
          1
         ]
        },
        {
         "line": {
          "color": "#C0C0C0"
         },
         "mode": "lines+markers",
         "name": "Unchanged",
         "showlegend": false,
         "type": "scatter",
         "x": [
          "1958-09-01T00:00:00",
          "1958-10-01T00:00:00"
         ],
         "y": [
          1,
          1
         ]
        },
        {
         "line": {
          "color": "#C0C0C0"
         },
         "mode": "lines+markers",
         "name": "Unchanged",
         "showlegend": false,
         "type": "scatter",
         "x": [
          "1958-10-01T00:00:00",
          "1958-11-01T00:00:00"
         ],
         "y": [
          1,
          1
         ]
        },
        {
         "line": {
          "color": "#C0C0C0"
         },
         "mode": "lines+markers",
         "name": "Unchanged",
         "showlegend": false,
         "type": "scatter",
         "x": [
          "1958-11-01T00:00:00",
          "1958-12-01T00:00:00"
         ],
         "y": [
          1,
          1
         ]
        },
        {
         "line": {
          "color": "#C0C0C0"
         },
         "mode": "lines+markers",
         "name": "Unchanged",
         "showlegend": false,
         "type": "scatter",
         "x": [
          "1958-12-01T00:00:00",
          "1959-01-01T00:00:00"
         ],
         "y": [
          1,
          1
         ]
        },
        {
         "line": {
          "color": "#C0C0C0"
         },
         "mode": "lines+markers",
         "name": "Unchanged",
         "showlegend": false,
         "type": "scatter",
         "x": [
          "1959-01-01T00:00:00",
          "1959-02-01T00:00:00"
         ],
         "y": [
          1,
          1
         ]
        },
        {
         "line": {
          "color": "#C0C0C0"
         },
         "mode": "lines+markers",
         "name": "Unchanged",
         "showlegend": false,
         "type": "scatter",
         "x": [
          "1959-02-01T00:00:00",
          "1959-03-01T00:00:00"
         ],
         "y": [
          1,
          1
         ]
        },
        {
         "line": {
          "color": "#C0C0C0"
         },
         "mode": "lines+markers",
         "name": "Unchanged",
         "showlegend": false,
         "type": "scatter",
         "x": [
          "1959-03-01T00:00:00",
          "1959-04-01T00:00:00"
         ],
         "y": [
          1,
          1
         ]
        },
        {
         "line": {
          "color": "#C0C0C0"
         },
         "mode": "lines+markers",
         "name": "Unchanged",
         "showlegend": false,
         "type": "scatter",
         "x": [
          "1959-04-01T00:00:00",
          "1959-05-01T00:00:00"
         ],
         "y": [
          1,
          1
         ]
        },
        {
         "line": {
          "color": "#C0C0C0"
         },
         "mode": "lines+markers",
         "name": "Unchanged",
         "showlegend": false,
         "type": "scatter",
         "x": [
          "1959-05-01T00:00:00",
          "1959-06-01T00:00:00"
         ],
         "y": [
          1,
          1
         ]
        },
        {
         "line": {
          "color": "#C0C0C0"
         },
         "mode": "lines+markers",
         "name": "Unchanged",
         "showlegend": false,
         "type": "scatter",
         "x": [
          "1959-06-01T00:00:00",
          "1959-07-01T00:00:00"
         ],
         "y": [
          1,
          1
         ]
        },
        {
         "line": {
          "color": "#C0C0C0"
         },
         "mode": "lines+markers",
         "name": "Unchanged",
         "showlegend": false,
         "type": "scatter",
         "x": [
          "1959-07-01T00:00:00",
          "1959-08-01T00:00:00"
         ],
         "y": [
          1,
          1
         ]
        },
        {
         "line": {
          "color": "#C0C0C0"
         },
         "mode": "lines+markers",
         "name": "Unchanged",
         "showlegend": false,
         "type": "scatter",
         "x": [
          "1959-08-01T00:00:00",
          "1959-09-01T00:00:00"
         ],
         "y": [
          1,
          1
         ]
        },
        {
         "line": {
          "color": "#C0C0C0"
         },
         "mode": "lines+markers",
         "name": "Unchanged",
         "showlegend": false,
         "type": "scatter",
         "x": [
          "1959-09-01T00:00:00",
          "1959-10-01T00:00:00"
         ],
         "y": [
          1,
          1
         ]
        },
        {
         "line": {
          "color": "#C0C0C0"
         },
         "mode": "lines+markers",
         "name": "Unchanged",
         "showlegend": false,
         "type": "scatter",
         "x": [
          "1959-10-01T00:00:00",
          "1959-11-01T00:00:00"
         ],
         "y": [
          1,
          1
         ]
        },
        {
         "line": {
          "color": "#C0C0C0"
         },
         "mode": "lines+markers",
         "name": "Unchanged",
         "showlegend": false,
         "type": "scatter",
         "x": [
          "1959-11-01T00:00:00",
          "1959-12-01T00:00:00"
         ],
         "y": [
          1,
          1
         ]
        },
        {
         "line": {
          "color": "#1f77b4"
         },
         "mode": "lines+markers",
         "name": "Train",
         "showlegend": false,
         "type": "scatter",
         "x": [
          "1949-01-01T00:00:00",
          "1949-02-01T00:00:00"
         ],
         "y": [
          1,
          1
         ]
        },
        {
         "line": {
          "color": "#1f77b4"
         },
         "mode": "lines+markers",
         "name": "Train",
         "showlegend": false,
         "type": "scatter",
         "x": [
          "1949-02-01T00:00:00",
          "1949-03-01T00:00:00"
         ],
         "y": [
          1,
          1
         ]
        },
        {
         "line": {
          "color": "#1f77b4"
         },
         "mode": "lines+markers",
         "name": "Train",
         "showlegend": false,
         "type": "scatter",
         "x": [
          "1949-03-01T00:00:00",
          "1949-04-01T00:00:00"
         ],
         "y": [
          1,
          1
         ]
        },
        {
         "line": {
          "color": "#1f77b4"
         },
         "mode": "lines+markers",
         "name": "Train",
         "showlegend": false,
         "type": "scatter",
         "x": [
          "1949-04-01T00:00:00",
          "1949-05-01T00:00:00"
         ],
         "y": [
          1,
          1
         ]
        },
        {
         "line": {
          "color": "#1f77b4"
         },
         "mode": "lines+markers",
         "name": "Train",
         "showlegend": false,
         "type": "scatter",
         "x": [
          "1949-05-01T00:00:00",
          "1949-06-01T00:00:00"
         ],
         "y": [
          1,
          1
         ]
        },
        {
         "line": {
          "color": "#1f77b4"
         },
         "mode": "lines+markers",
         "name": "Train",
         "showlegend": false,
         "type": "scatter",
         "x": [
          "1949-06-01T00:00:00",
          "1949-07-01T00:00:00"
         ],
         "y": [
          1,
          1
         ]
        },
        {
         "line": {
          "color": "#1f77b4"
         },
         "mode": "lines+markers",
         "name": "Train",
         "showlegend": false,
         "type": "scatter",
         "x": [
          "1949-07-01T00:00:00",
          "1949-08-01T00:00:00"
         ],
         "y": [
          1,
          1
         ]
        },
        {
         "line": {
          "color": "#1f77b4"
         },
         "mode": "lines+markers",
         "name": "Train",
         "showlegend": false,
         "type": "scatter",
         "x": [
          "1949-08-01T00:00:00",
          "1949-09-01T00:00:00"
         ],
         "y": [
          1,
          1
         ]
        },
        {
         "line": {
          "color": "#1f77b4"
         },
         "mode": "lines+markers",
         "name": "Train",
         "showlegend": false,
         "type": "scatter",
         "x": [
          "1949-09-01T00:00:00",
          "1949-10-01T00:00:00"
         ],
         "y": [
          1,
          1
         ]
        },
        {
         "line": {
          "color": "#1f77b4"
         },
         "mode": "lines+markers",
         "name": "Train",
         "showlegend": false,
         "type": "scatter",
         "x": [
          "1949-10-01T00:00:00",
          "1949-11-01T00:00:00"
         ],
         "y": [
          1,
          1
         ]
        },
        {
         "line": {
          "color": "#1f77b4"
         },
         "mode": "lines+markers",
         "name": "Train",
         "showlegend": false,
         "type": "scatter",
         "x": [
          "1949-11-01T00:00:00",
          "1949-12-01T00:00:00"
         ],
         "y": [
          1,
          1
         ]
        },
        {
         "line": {
          "color": "#1f77b4"
         },
         "mode": "lines+markers",
         "name": "Train",
         "showlegend": false,
         "type": "scatter",
         "x": [
          "1949-12-01T00:00:00",
          "1950-01-01T00:00:00"
         ],
         "y": [
          1,
          1
         ]
        },
        {
         "line": {
          "color": "#1f77b4"
         },
         "mode": "lines+markers",
         "name": "Train",
         "showlegend": false,
         "type": "scatter",
         "x": [
          "1950-01-01T00:00:00",
          "1950-02-01T00:00:00"
         ],
         "y": [
          1,
          1
         ]
        },
        {
         "line": {
          "color": "#1f77b4"
         },
         "mode": "lines+markers",
         "name": "Train",
         "showlegend": false,
         "type": "scatter",
         "x": [
          "1950-02-01T00:00:00",
          "1950-03-01T00:00:00"
         ],
         "y": [
          1,
          1
         ]
        },
        {
         "line": {
          "color": "#1f77b4"
         },
         "mode": "lines+markers",
         "name": "Train",
         "showlegend": false,
         "type": "scatter",
         "x": [
          "1950-03-01T00:00:00",
          "1950-04-01T00:00:00"
         ],
         "y": [
          1,
          1
         ]
        },
        {
         "line": {
          "color": "#1f77b4"
         },
         "mode": "lines+markers",
         "name": "Train",
         "showlegend": false,
         "type": "scatter",
         "x": [
          "1950-04-01T00:00:00",
          "1950-05-01T00:00:00"
         ],
         "y": [
          1,
          1
         ]
        },
        {
         "line": {
          "color": "#1f77b4"
         },
         "mode": "lines+markers",
         "name": "Train",
         "showlegend": false,
         "type": "scatter",
         "x": [
          "1950-05-01T00:00:00",
          "1950-06-01T00:00:00"
         ],
         "y": [
          1,
          1
         ]
        },
        {
         "line": {
          "color": "#1f77b4"
         },
         "mode": "lines+markers",
         "name": "Train",
         "showlegend": false,
         "type": "scatter",
         "x": [
          "1950-06-01T00:00:00",
          "1950-07-01T00:00:00"
         ],
         "y": [
          1,
          1
         ]
        },
        {
         "line": {
          "color": "#1f77b4"
         },
         "mode": "lines+markers",
         "name": "Train",
         "showlegend": false,
         "type": "scatter",
         "x": [
          "1950-07-01T00:00:00",
          "1950-08-01T00:00:00"
         ],
         "y": [
          1,
          1
         ]
        },
        {
         "line": {
          "color": "#1f77b4"
         },
         "mode": "lines+markers",
         "name": "Train",
         "showlegend": false,
         "type": "scatter",
         "x": [
          "1950-08-01T00:00:00",
          "1950-09-01T00:00:00"
         ],
         "y": [
          1,
          1
         ]
        },
        {
         "line": {
          "color": "#1f77b4"
         },
         "mode": "lines+markers",
         "name": "Train",
         "showlegend": false,
         "type": "scatter",
         "x": [
          "1950-09-01T00:00:00",
          "1950-10-01T00:00:00"
         ],
         "y": [
          1,
          1
         ]
        },
        {
         "line": {
          "color": "#1f77b4"
         },
         "mode": "lines+markers",
         "name": "Train",
         "showlegend": false,
         "type": "scatter",
         "x": [
          "1950-10-01T00:00:00",
          "1950-11-01T00:00:00"
         ],
         "y": [
          1,
          1
         ]
        },
        {
         "line": {
          "color": "#1f77b4"
         },
         "mode": "lines+markers",
         "name": "Train",
         "showlegend": false,
         "type": "scatter",
         "x": [
          "1950-11-01T00:00:00",
          "1950-12-01T00:00:00"
         ],
         "y": [
          1,
          1
         ]
        },
        {
         "line": {
          "color": "#1f77b4"
         },
         "mode": "lines+markers",
         "name": "Train",
         "showlegend": false,
         "type": "scatter",
         "x": [
          "1950-12-01T00:00:00",
          "1951-01-01T00:00:00"
         ],
         "y": [
          1,
          1
         ]
        },
        {
         "line": {
          "color": "#1f77b4"
         },
         "mode": "lines+markers",
         "name": "Train",
         "showlegend": false,
         "type": "scatter",
         "x": [
          "1951-01-01T00:00:00",
          "1951-02-01T00:00:00"
         ],
         "y": [
          1,
          1
         ]
        },
        {
         "line": {
          "color": "#1f77b4"
         },
         "mode": "lines+markers",
         "name": "Train",
         "showlegend": false,
         "type": "scatter",
         "x": [
          "1951-02-01T00:00:00",
          "1951-03-01T00:00:00"
         ],
         "y": [
          1,
          1
         ]
        },
        {
         "line": {
          "color": "#1f77b4"
         },
         "mode": "lines+markers",
         "name": "Train",
         "showlegend": false,
         "type": "scatter",
         "x": [
          "1951-03-01T00:00:00",
          "1951-04-01T00:00:00"
         ],
         "y": [
          1,
          1
         ]
        },
        {
         "line": {
          "color": "#1f77b4"
         },
         "mode": "lines+markers",
         "name": "Train",
         "showlegend": false,
         "type": "scatter",
         "x": [
          "1951-04-01T00:00:00",
          "1951-05-01T00:00:00"
         ],
         "y": [
          1,
          1
         ]
        },
        {
         "line": {
          "color": "#1f77b4"
         },
         "mode": "lines+markers",
         "name": "Train",
         "showlegend": false,
         "type": "scatter",
         "x": [
          "1951-05-01T00:00:00",
          "1951-06-01T00:00:00"
         ],
         "y": [
          1,
          1
         ]
        },
        {
         "line": {
          "color": "#1f77b4"
         },
         "mode": "lines+markers",
         "name": "Train",
         "showlegend": false,
         "type": "scatter",
         "x": [
          "1951-06-01T00:00:00",
          "1951-07-01T00:00:00"
         ],
         "y": [
          1,
          1
         ]
        },
        {
         "line": {
          "color": "#1f77b4"
         },
         "mode": "lines+markers",
         "name": "Train",
         "showlegend": false,
         "type": "scatter",
         "x": [
          "1951-07-01T00:00:00",
          "1951-08-01T00:00:00"
         ],
         "y": [
          1,
          1
         ]
        },
        {
         "line": {
          "color": "#1f77b4"
         },
         "mode": "lines+markers",
         "name": "Train",
         "showlegend": false,
         "type": "scatter",
         "x": [
          "1951-08-01T00:00:00",
          "1951-09-01T00:00:00"
         ],
         "y": [
          1,
          1
         ]
        },
        {
         "line": {
          "color": "#1f77b4"
         },
         "mode": "lines+markers",
         "name": "Train",
         "showlegend": false,
         "type": "scatter",
         "x": [
          "1951-09-01T00:00:00",
          "1951-10-01T00:00:00"
         ],
         "y": [
          1,
          1
         ]
        },
        {
         "line": {
          "color": "#1f77b4"
         },
         "mode": "lines+markers",
         "name": "Train",
         "showlegend": false,
         "type": "scatter",
         "x": [
          "1951-10-01T00:00:00",
          "1951-11-01T00:00:00"
         ],
         "y": [
          1,
          1
         ]
        },
        {
         "line": {
          "color": "#1f77b4"
         },
         "mode": "lines+markers",
         "name": "Train",
         "showlegend": false,
         "type": "scatter",
         "x": [
          "1951-11-01T00:00:00",
          "1951-12-01T00:00:00"
         ],
         "y": [
          1,
          1
         ]
        },
        {
         "line": {
          "color": "#1f77b4"
         },
         "mode": "lines+markers",
         "name": "Train",
         "showlegend": false,
         "type": "scatter",
         "x": [
          "1951-12-01T00:00:00",
          "1952-01-01T00:00:00"
         ],
         "y": [
          1,
          1
         ]
        },
        {
         "line": {
          "color": "#1f77b4"
         },
         "mode": "lines+markers",
         "name": "Train",
         "showlegend": false,
         "type": "scatter",
         "x": [
          "1952-01-01T00:00:00",
          "1952-02-01T00:00:00"
         ],
         "y": [
          1,
          1
         ]
        },
        {
         "line": {
          "color": "#1f77b4"
         },
         "mode": "lines+markers",
         "name": "Train",
         "showlegend": false,
         "type": "scatter",
         "x": [
          "1952-02-01T00:00:00",
          "1952-03-01T00:00:00"
         ],
         "y": [
          1,
          1
         ]
        },
        {
         "line": {
          "color": "#1f77b4"
         },
         "mode": "lines+markers",
         "name": "Train",
         "showlegend": false,
         "type": "scatter",
         "x": [
          "1952-03-01T00:00:00",
          "1952-04-01T00:00:00"
         ],
         "y": [
          1,
          1
         ]
        },
        {
         "line": {
          "color": "#1f77b4"
         },
         "mode": "lines+markers",
         "name": "Train",
         "showlegend": false,
         "type": "scatter",
         "x": [
          "1952-04-01T00:00:00",
          "1952-05-01T00:00:00"
         ],
         "y": [
          1,
          1
         ]
        },
        {
         "line": {
          "color": "#1f77b4"
         },
         "mode": "lines+markers",
         "name": "Train",
         "showlegend": false,
         "type": "scatter",
         "x": [
          "1952-05-01T00:00:00",
          "1952-06-01T00:00:00"
         ],
         "y": [
          1,
          1
         ]
        },
        {
         "line": {
          "color": "#1f77b4"
         },
         "mode": "lines+markers",
         "name": "Train",
         "showlegend": false,
         "type": "scatter",
         "x": [
          "1952-06-01T00:00:00",
          "1952-07-01T00:00:00"
         ],
         "y": [
          1,
          1
         ]
        },
        {
         "line": {
          "color": "#1f77b4"
         },
         "mode": "lines+markers",
         "name": "Train",
         "showlegend": false,
         "type": "scatter",
         "x": [
          "1952-07-01T00:00:00",
          "1952-08-01T00:00:00"
         ],
         "y": [
          1,
          1
         ]
        },
        {
         "line": {
          "color": "#1f77b4"
         },
         "mode": "lines+markers",
         "name": "Train",
         "showlegend": false,
         "type": "scatter",
         "x": [
          "1952-08-01T00:00:00",
          "1952-09-01T00:00:00"
         ],
         "y": [
          1,
          1
         ]
        },
        {
         "line": {
          "color": "#1f77b4"
         },
         "mode": "lines+markers",
         "name": "Train",
         "showlegend": false,
         "type": "scatter",
         "x": [
          "1952-09-01T00:00:00",
          "1952-10-01T00:00:00"
         ],
         "y": [
          1,
          1
         ]
        },
        {
         "line": {
          "color": "#1f77b4"
         },
         "mode": "lines+markers",
         "name": "Train",
         "showlegend": false,
         "type": "scatter",
         "x": [
          "1952-10-01T00:00:00",
          "1952-11-01T00:00:00"
         ],
         "y": [
          1,
          1
         ]
        },
        {
         "line": {
          "color": "#1f77b4"
         },
         "mode": "lines+markers",
         "name": "Train",
         "showlegend": false,
         "type": "scatter",
         "x": [
          "1952-11-01T00:00:00",
          "1952-12-01T00:00:00"
         ],
         "y": [
          1,
          1
         ]
        },
        {
         "line": {
          "color": "#1f77b4"
         },
         "mode": "lines+markers",
         "name": "Train",
         "showlegend": false,
         "type": "scatter",
         "x": [
          "1952-12-01T00:00:00",
          "1953-01-01T00:00:00"
         ],
         "y": [
          1,
          1
         ]
        },
        {
         "line": {
          "color": "#1f77b4"
         },
         "mode": "lines+markers",
         "name": "Train",
         "showlegend": false,
         "type": "scatter",
         "x": [
          "1953-01-01T00:00:00",
          "1953-02-01T00:00:00"
         ],
         "y": [
          1,
          1
         ]
        },
        {
         "line": {
          "color": "#1f77b4"
         },
         "mode": "lines+markers",
         "name": "Train",
         "showlegend": false,
         "type": "scatter",
         "x": [
          "1953-02-01T00:00:00",
          "1953-03-01T00:00:00"
         ],
         "y": [
          1,
          1
         ]
        },
        {
         "line": {
          "color": "#1f77b4"
         },
         "mode": "lines+markers",
         "name": "Train",
         "showlegend": false,
         "type": "scatter",
         "x": [
          "1953-03-01T00:00:00",
          "1953-04-01T00:00:00"
         ],
         "y": [
          1,
          1
         ]
        },
        {
         "line": {
          "color": "#1f77b4"
         },
         "mode": "lines+markers",
         "name": "Train",
         "showlegend": false,
         "type": "scatter",
         "x": [
          "1953-04-01T00:00:00",
          "1953-05-01T00:00:00"
         ],
         "y": [
          1,
          1
         ]
        },
        {
         "line": {
          "color": "#1f77b4"
         },
         "mode": "lines+markers",
         "name": "Train",
         "showlegend": false,
         "type": "scatter",
         "x": [
          "1953-05-01T00:00:00",
          "1953-06-01T00:00:00"
         ],
         "y": [
          1,
          1
         ]
        },
        {
         "line": {
          "color": "#1f77b4"
         },
         "mode": "lines+markers",
         "name": "Train",
         "showlegend": false,
         "type": "scatter",
         "x": [
          "1953-06-01T00:00:00",
          "1953-07-01T00:00:00"
         ],
         "y": [
          1,
          1
         ]
        },
        {
         "line": {
          "color": "#1f77b4"
         },
         "mode": "lines+markers",
         "name": "Train",
         "showlegend": false,
         "type": "scatter",
         "x": [
          "1953-07-01T00:00:00",
          "1953-08-01T00:00:00"
         ],
         "y": [
          1,
          1
         ]
        },
        {
         "line": {
          "color": "#1f77b4"
         },
         "mode": "lines+markers",
         "name": "Train",
         "showlegend": false,
         "type": "scatter",
         "x": [
          "1953-08-01T00:00:00",
          "1953-09-01T00:00:00"
         ],
         "y": [
          1,
          1
         ]
        },
        {
         "line": {
          "color": "#1f77b4"
         },
         "mode": "lines+markers",
         "name": "Train",
         "showlegend": false,
         "type": "scatter",
         "x": [
          "1953-09-01T00:00:00",
          "1953-10-01T00:00:00"
         ],
         "y": [
          1,
          1
         ]
        },
        {
         "line": {
          "color": "#1f77b4"
         },
         "mode": "lines+markers",
         "name": "Train",
         "showlegend": false,
         "type": "scatter",
         "x": [
          "1953-10-01T00:00:00",
          "1953-11-01T00:00:00"
         ],
         "y": [
          1,
          1
         ]
        },
        {
         "line": {
          "color": "#1f77b4"
         },
         "mode": "lines+markers",
         "name": "Train",
         "showlegend": false,
         "type": "scatter",
         "x": [
          "1953-11-01T00:00:00",
          "1953-12-01T00:00:00"
         ],
         "y": [
          1,
          1
         ]
        },
        {
         "line": {
          "color": "#1f77b4"
         },
         "mode": "lines+markers",
         "name": "Train",
         "showlegend": false,
         "type": "scatter",
         "x": [
          "1953-12-01T00:00:00",
          "1954-01-01T00:00:00"
         ],
         "y": [
          1,
          1
         ]
        },
        {
         "line": {
          "color": "#1f77b4"
         },
         "mode": "lines+markers",
         "name": "Train",
         "showlegend": false,
         "type": "scatter",
         "x": [
          "1954-01-01T00:00:00",
          "1954-02-01T00:00:00"
         ],
         "y": [
          1,
          1
         ]
        },
        {
         "line": {
          "color": "#1f77b4"
         },
         "mode": "lines+markers",
         "name": "Train",
         "showlegend": false,
         "type": "scatter",
         "x": [
          "1954-02-01T00:00:00",
          "1954-03-01T00:00:00"
         ],
         "y": [
          1,
          1
         ]
        },
        {
         "line": {
          "color": "#1f77b4"
         },
         "mode": "lines+markers",
         "name": "Train",
         "showlegend": false,
         "type": "scatter",
         "x": [
          "1954-03-01T00:00:00",
          "1954-04-01T00:00:00"
         ],
         "y": [
          1,
          1
         ]
        },
        {
         "line": {
          "color": "#1f77b4"
         },
         "mode": "lines+markers",
         "name": "Train",
         "showlegend": false,
         "type": "scatter",
         "x": [
          "1954-04-01T00:00:00",
          "1954-05-01T00:00:00"
         ],
         "y": [
          1,
          1
         ]
        },
        {
         "line": {
          "color": "#1f77b4"
         },
         "mode": "lines+markers",
         "name": "Train",
         "showlegend": false,
         "type": "scatter",
         "x": [
          "1954-05-01T00:00:00",
          "1954-06-01T00:00:00"
         ],
         "y": [
          1,
          1
         ]
        },
        {
         "line": {
          "color": "#1f77b4"
         },
         "mode": "lines+markers",
         "name": "Train",
         "showlegend": false,
         "type": "scatter",
         "x": [
          "1954-06-01T00:00:00",
          "1954-07-01T00:00:00"
         ],
         "y": [
          1,
          1
         ]
        },
        {
         "line": {
          "color": "#1f77b4"
         },
         "mode": "lines+markers",
         "name": "Train",
         "showlegend": false,
         "type": "scatter",
         "x": [
          "1954-07-01T00:00:00",
          "1954-08-01T00:00:00"
         ],
         "y": [
          1,
          1
         ]
        },
        {
         "line": {
          "color": "#1f77b4"
         },
         "mode": "lines+markers",
         "name": "Train",
         "showlegend": false,
         "type": "scatter",
         "x": [
          "1954-08-01T00:00:00",
          "1954-09-01T00:00:00"
         ],
         "y": [
          1,
          1
         ]
        },
        {
         "line": {
          "color": "#1f77b4"
         },
         "mode": "lines+markers",
         "name": "Train",
         "showlegend": false,
         "type": "scatter",
         "x": [
          "1954-09-01T00:00:00",
          "1954-10-01T00:00:00"
         ],
         "y": [
          1,
          1
         ]
        },
        {
         "line": {
          "color": "#1f77b4"
         },
         "mode": "lines+markers",
         "name": "Train",
         "showlegend": false,
         "type": "scatter",
         "x": [
          "1954-10-01T00:00:00",
          "1954-11-01T00:00:00"
         ],
         "y": [
          1,
          1
         ]
        },
        {
         "line": {
          "color": "#1f77b4"
         },
         "mode": "lines+markers",
         "name": "Train",
         "showlegend": false,
         "type": "scatter",
         "x": [
          "1954-11-01T00:00:00",
          "1954-12-01T00:00:00"
         ],
         "y": [
          1,
          1
         ]
        },
        {
         "line": {
          "color": "#1f77b4"
         },
         "mode": "lines+markers",
         "name": "Train",
         "showlegend": false,
         "type": "scatter",
         "x": [
          "1954-12-01T00:00:00",
          "1955-01-01T00:00:00"
         ],
         "y": [
          1,
          1
         ]
        },
        {
         "line": {
          "color": "#1f77b4"
         },
         "mode": "lines+markers",
         "name": "Train",
         "showlegend": false,
         "type": "scatter",
         "x": [
          "1955-01-01T00:00:00",
          "1955-02-01T00:00:00"
         ],
         "y": [
          1,
          1
         ]
        },
        {
         "line": {
          "color": "#1f77b4"
         },
         "mode": "lines+markers",
         "name": "Train",
         "showlegend": false,
         "type": "scatter",
         "x": [
          "1955-02-01T00:00:00",
          "1955-03-01T00:00:00"
         ],
         "y": [
          1,
          1
         ]
        },
        {
         "line": {
          "color": "#1f77b4"
         },
         "mode": "lines+markers",
         "name": "Train",
         "showlegend": false,
         "type": "scatter",
         "x": [
          "1955-03-01T00:00:00",
          "1955-04-01T00:00:00"
         ],
         "y": [
          1,
          1
         ]
        },
        {
         "line": {
          "color": "#1f77b4"
         },
         "mode": "lines+markers",
         "name": "Train",
         "showlegend": false,
         "type": "scatter",
         "x": [
          "1955-04-01T00:00:00",
          "1955-05-01T00:00:00"
         ],
         "y": [
          1,
          1
         ]
        },
        {
         "line": {
          "color": "#1f77b4"
         },
         "mode": "lines+markers",
         "name": "Train",
         "showlegend": false,
         "type": "scatter",
         "x": [
          "1955-05-01T00:00:00",
          "1955-06-01T00:00:00"
         ],
         "y": [
          1,
          1
         ]
        },
        {
         "line": {
          "color": "#1f77b4"
         },
         "mode": "lines+markers",
         "name": "Train",
         "showlegend": false,
         "type": "scatter",
         "x": [
          "1955-06-01T00:00:00",
          "1955-07-01T00:00:00"
         ],
         "y": [
          1,
          1
         ]
        },
        {
         "line": {
          "color": "#1f77b4"
         },
         "mode": "lines+markers",
         "name": "Train",
         "showlegend": false,
         "type": "scatter",
         "x": [
          "1955-07-01T00:00:00",
          "1955-08-01T00:00:00"
         ],
         "y": [
          1,
          1
         ]
        },
        {
         "line": {
          "color": "#1f77b4"
         },
         "mode": "lines+markers",
         "name": "Train",
         "showlegend": false,
         "type": "scatter",
         "x": [
          "1955-08-01T00:00:00",
          "1955-09-01T00:00:00"
         ],
         "y": [
          1,
          1
         ]
        },
        {
         "line": {
          "color": "#1f77b4"
         },
         "mode": "lines+markers",
         "name": "Train",
         "showlegend": false,
         "type": "scatter",
         "x": [
          "1955-09-01T00:00:00",
          "1955-10-01T00:00:00"
         ],
         "y": [
          1,
          1
         ]
        },
        {
         "line": {
          "color": "#1f77b4"
         },
         "mode": "lines+markers",
         "name": "Train",
         "showlegend": false,
         "type": "scatter",
         "x": [
          "1955-10-01T00:00:00",
          "1955-11-01T00:00:00"
         ],
         "y": [
          1,
          1
         ]
        },
        {
         "line": {
          "color": "#1f77b4"
         },
         "mode": "lines+markers",
         "name": "Train",
         "showlegend": false,
         "type": "scatter",
         "x": [
          "1955-11-01T00:00:00",
          "1955-12-01T00:00:00"
         ],
         "y": [
          1,
          1
         ]
        },
        {
         "line": {
          "color": "#1f77b4"
         },
         "mode": "lines+markers",
         "name": "Train",
         "showlegend": false,
         "type": "scatter",
         "x": [
          "1955-12-01T00:00:00",
          "1956-01-01T00:00:00"
         ],
         "y": [
          1,
          1
         ]
        },
        {
         "line": {
          "color": "#1f77b4"
         },
         "mode": "lines+markers",
         "name": "Train",
         "showlegend": false,
         "type": "scatter",
         "x": [
          "1956-01-01T00:00:00",
          "1956-02-01T00:00:00"
         ],
         "y": [
          1,
          1
         ]
        },
        {
         "line": {
          "color": "#1f77b4"
         },
         "mode": "lines+markers",
         "name": "Train",
         "showlegend": false,
         "type": "scatter",
         "x": [
          "1956-02-01T00:00:00",
          "1956-03-01T00:00:00"
         ],
         "y": [
          1,
          1
         ]
        },
        {
         "line": {
          "color": "#1f77b4"
         },
         "mode": "lines+markers",
         "name": "Train",
         "showlegend": false,
         "type": "scatter",
         "x": [
          "1956-03-01T00:00:00",
          "1956-04-01T00:00:00"
         ],
         "y": [
          1,
          1
         ]
        },
        {
         "line": {
          "color": "#1f77b4"
         },
         "mode": "lines+markers",
         "name": "Train",
         "showlegend": false,
         "type": "scatter",
         "x": [
          "1956-04-01T00:00:00",
          "1956-05-01T00:00:00"
         ],
         "y": [
          1,
          1
         ]
        },
        {
         "line": {
          "color": "#1f77b4"
         },
         "mode": "lines+markers",
         "name": "Train",
         "showlegend": false,
         "type": "scatter",
         "x": [
          "1956-05-01T00:00:00",
          "1956-06-01T00:00:00"
         ],
         "y": [
          1,
          1
         ]
        },
        {
         "line": {
          "color": "#1f77b4"
         },
         "mode": "lines+markers",
         "name": "Train",
         "showlegend": false,
         "type": "scatter",
         "x": [
          "1956-06-01T00:00:00",
          "1956-07-01T00:00:00"
         ],
         "y": [
          1,
          1
         ]
        },
        {
         "line": {
          "color": "#1f77b4"
         },
         "mode": "lines+markers",
         "name": "Train",
         "showlegend": false,
         "type": "scatter",
         "x": [
          "1956-07-01T00:00:00",
          "1956-08-01T00:00:00"
         ],
         "y": [
          1,
          1
         ]
        },
        {
         "line": {
          "color": "#1f77b4"
         },
         "mode": "lines+markers",
         "name": "Train",
         "showlegend": false,
         "type": "scatter",
         "x": [
          "1956-08-01T00:00:00",
          "1956-09-01T00:00:00"
         ],
         "y": [
          1,
          1
         ]
        },
        {
         "line": {
          "color": "#1f77b4"
         },
         "mode": "lines+markers",
         "name": "Train",
         "showlegend": false,
         "type": "scatter",
         "x": [
          "1956-09-01T00:00:00",
          "1956-10-01T00:00:00"
         ],
         "y": [
          1,
          1
         ]
        },
        {
         "line": {
          "color": "#1f77b4"
         },
         "mode": "lines+markers",
         "name": "Train",
         "showlegend": false,
         "type": "scatter",
         "x": [
          "1956-10-01T00:00:00",
          "1956-11-01T00:00:00"
         ],
         "y": [
          1,
          1
         ]
        },
        {
         "line": {
          "color": "#1f77b4"
         },
         "mode": "lines+markers",
         "name": "Train",
         "showlegend": false,
         "type": "scatter",
         "x": [
          "1956-11-01T00:00:00",
          "1956-12-01T00:00:00"
         ],
         "y": [
          1,
          1
         ]
        },
        {
         "line": {
          "color": "#1f77b4"
         },
         "mode": "lines+markers",
         "name": "Train",
         "showlegend": false,
         "type": "scatter",
         "x": [
          "1956-12-01T00:00:00",
          "1957-01-01T00:00:00"
         ],
         "y": [
          1,
          1
         ]
        },
        {
         "line": {
          "color": "#1f77b4"
         },
         "mode": "lines+markers",
         "name": "Train",
         "showlegend": false,
         "type": "scatter",
         "x": [
          "1957-01-01T00:00:00",
          "1957-02-01T00:00:00"
         ],
         "y": [
          1,
          1
         ]
        },
        {
         "line": {
          "color": "#1f77b4"
         },
         "mode": "lines+markers",
         "name": "Train",
         "showlegend": false,
         "type": "scatter",
         "x": [
          "1957-02-01T00:00:00",
          "1957-03-01T00:00:00"
         ],
         "y": [
          1,
          1
         ]
        },
        {
         "line": {
          "color": "#1f77b4"
         },
         "mode": "lines+markers",
         "name": "Train",
         "showlegend": false,
         "type": "scatter",
         "x": [
          "1957-03-01T00:00:00",
          "1957-04-01T00:00:00"
         ],
         "y": [
          1,
          1
         ]
        },
        {
         "line": {
          "color": "#1f77b4"
         },
         "mode": "lines+markers",
         "name": "Train",
         "showlegend": false,
         "type": "scatter",
         "x": [
          "1957-04-01T00:00:00",
          "1957-05-01T00:00:00"
         ],
         "y": [
          1,
          1
         ]
        },
        {
         "line": {
          "color": "#1f77b4"
         },
         "mode": "lines+markers",
         "name": "Train",
         "showlegend": false,
         "type": "scatter",
         "x": [
          "1957-05-01T00:00:00",
          "1957-06-01T00:00:00"
         ],
         "y": [
          1,
          1
         ]
        },
        {
         "line": {
          "color": "#1f77b4"
         },
         "mode": "lines+markers",
         "name": "Train",
         "showlegend": false,
         "type": "scatter",
         "x": [
          "1957-06-01T00:00:00",
          "1957-07-01T00:00:00"
         ],
         "y": [
          1,
          1
         ]
        },
        {
         "line": {
          "color": "#1f77b4"
         },
         "mode": "lines+markers",
         "name": "Train",
         "showlegend": false,
         "type": "scatter",
         "x": [
          "1957-07-01T00:00:00",
          "1957-08-01T00:00:00"
         ],
         "y": [
          1,
          1
         ]
        },
        {
         "line": {
          "color": "#1f77b4"
         },
         "mode": "lines+markers",
         "name": "Train",
         "showlegend": false,
         "type": "scatter",
         "x": [
          "1957-08-01T00:00:00",
          "1957-09-01T00:00:00"
         ],
         "y": [
          1,
          1
         ]
        },
        {
         "line": {
          "color": "#1f77b4"
         },
         "mode": "lines+markers",
         "name": "Train",
         "showlegend": false,
         "type": "scatter",
         "x": [
          "1957-09-01T00:00:00",
          "1957-10-01T00:00:00"
         ],
         "y": [
          1,
          1
         ]
        },
        {
         "line": {
          "color": "#1f77b4"
         },
         "mode": "lines+markers",
         "name": "Train",
         "showlegend": false,
         "type": "scatter",
         "x": [
          "1957-10-01T00:00:00",
          "1957-11-01T00:00:00"
         ],
         "y": [
          1,
          1
         ]
        },
        {
         "line": {
          "color": "#1f77b4"
         },
         "mode": "lines+markers",
         "name": "Train",
         "showlegend": false,
         "type": "scatter",
         "x": [
          "1957-11-01T00:00:00",
          "1957-12-01T00:00:00"
         ],
         "y": [
          1,
          1
         ]
        },
        {
         "line": {
          "color": "#DE970B"
         },
         "mode": "lines+markers",
         "name": "ForecastHorizon",
         "showlegend": false,
         "type": "scatter",
         "x": [
          "1958-01-01T00:00:00",
          "1958-02-01T00:00:00"
         ],
         "y": [
          1,
          1
         ]
        },
        {
         "line": {
          "color": "#DE970B"
         },
         "mode": "lines+markers",
         "name": "ForecastHorizon",
         "showlegend": false,
         "type": "scatter",
         "x": [
          "1958-02-01T00:00:00",
          "1958-03-01T00:00:00"
         ],
         "y": [
          1,
          1
         ]
        },
        {
         "line": {
          "color": "#DE970B"
         },
         "mode": "lines+markers",
         "name": "ForecastHorizon",
         "showlegend": false,
         "type": "scatter",
         "x": [
          "1958-03-01T00:00:00",
          "1958-04-01T00:00:00"
         ],
         "y": [
          1,
          1
         ]
        },
        {
         "line": {
          "color": "#DE970B"
         },
         "mode": "lines+markers",
         "name": "ForecastHorizon",
         "showlegend": false,
         "type": "scatter",
         "x": [
          "1958-04-01T00:00:00",
          "1958-05-01T00:00:00"
         ],
         "y": [
          1,
          1
         ]
        },
        {
         "line": {
          "color": "#DE970B"
         },
         "mode": "lines+markers",
         "name": "ForecastHorizon",
         "showlegend": false,
         "type": "scatter",
         "x": [
          "1958-05-01T00:00:00",
          "1958-06-01T00:00:00"
         ],
         "y": [
          1,
          1
         ]
        },
        {
         "line": {
          "color": "#DE970B"
         },
         "mode": "lines+markers",
         "name": "ForecastHorizon",
         "showlegend": false,
         "type": "scatter",
         "x": [
          "1958-06-01T00:00:00",
          "1958-07-01T00:00:00"
         ],
         "y": [
          1,
          1
         ]
        },
        {
         "line": {
          "color": "#DE970B"
         },
         "mode": "lines+markers",
         "name": "ForecastHorizon",
         "showlegend": false,
         "type": "scatter",
         "x": [
          "1958-07-01T00:00:00",
          "1958-08-01T00:00:00"
         ],
         "y": [
          1,
          1
         ]
        },
        {
         "line": {
          "color": "#DE970B"
         },
         "mode": "lines+markers",
         "name": "ForecastHorizon",
         "showlegend": false,
         "type": "scatter",
         "x": [
          "1958-08-01T00:00:00",
          "1958-09-01T00:00:00"
         ],
         "y": [
          1,
          1
         ]
        },
        {
         "line": {
          "color": "#DE970B"
         },
         "mode": "lines+markers",
         "name": "ForecastHorizon",
         "showlegend": false,
         "type": "scatter",
         "x": [
          "1958-09-01T00:00:00",
          "1958-10-01T00:00:00"
         ],
         "y": [
          1,
          1
         ]
        },
        {
         "line": {
          "color": "#DE970B"
         },
         "mode": "lines+markers",
         "name": "ForecastHorizon",
         "showlegend": false,
         "type": "scatter",
         "x": [
          "1958-10-01T00:00:00",
          "1958-11-01T00:00:00"
         ],
         "y": [
          1,
          1
         ]
        },
        {
         "line": {
          "color": "#DE970B"
         },
         "mode": "lines+markers",
         "name": "ForecastHorizon",
         "showlegend": false,
         "type": "scatter",
         "x": [
          "1958-11-01T00:00:00",
          "1958-12-01T00:00:00"
         ],
         "y": [
          1,
          1
         ]
        },
        {
         "line": {
          "color": "#C0C0C0"
         },
         "mode": "lines+markers",
         "name": "Unchanged",
         "showlegend": false,
         "type": "scatter",
         "x": [
          "1949-01-01T00:00:00",
          "1949-02-01T00:00:00"
         ],
         "y": [
          0,
          0
         ]
        },
        {
         "line": {
          "color": "#C0C0C0"
         },
         "mode": "lines+markers",
         "name": "Unchanged",
         "showlegend": false,
         "type": "scatter",
         "x": [
          "1949-02-01T00:00:00",
          "1949-03-01T00:00:00"
         ],
         "y": [
          0,
          0
         ]
        },
        {
         "line": {
          "color": "#C0C0C0"
         },
         "mode": "lines+markers",
         "name": "Unchanged",
         "showlegend": false,
         "type": "scatter",
         "x": [
          "1949-03-01T00:00:00",
          "1949-04-01T00:00:00"
         ],
         "y": [
          0,
          0
         ]
        },
        {
         "line": {
          "color": "#C0C0C0"
         },
         "mode": "lines+markers",
         "name": "Unchanged",
         "showlegend": false,
         "type": "scatter",
         "x": [
          "1949-04-01T00:00:00",
          "1949-05-01T00:00:00"
         ],
         "y": [
          0,
          0
         ]
        },
        {
         "line": {
          "color": "#C0C0C0"
         },
         "mode": "lines+markers",
         "name": "Unchanged",
         "showlegend": false,
         "type": "scatter",
         "x": [
          "1949-05-01T00:00:00",
          "1949-06-01T00:00:00"
         ],
         "y": [
          0,
          0
         ]
        },
        {
         "line": {
          "color": "#C0C0C0"
         },
         "mode": "lines+markers",
         "name": "Unchanged",
         "showlegend": false,
         "type": "scatter",
         "x": [
          "1949-06-01T00:00:00",
          "1949-07-01T00:00:00"
         ],
         "y": [
          0,
          0
         ]
        },
        {
         "line": {
          "color": "#C0C0C0"
         },
         "mode": "lines+markers",
         "name": "Unchanged",
         "showlegend": false,
         "type": "scatter",
         "x": [
          "1949-07-01T00:00:00",
          "1949-08-01T00:00:00"
         ],
         "y": [
          0,
          0
         ]
        },
        {
         "line": {
          "color": "#C0C0C0"
         },
         "mode": "lines+markers",
         "name": "Unchanged",
         "showlegend": false,
         "type": "scatter",
         "x": [
          "1949-08-01T00:00:00",
          "1949-09-01T00:00:00"
         ],
         "y": [
          0,
          0
         ]
        },
        {
         "line": {
          "color": "#C0C0C0"
         },
         "mode": "lines+markers",
         "name": "Unchanged",
         "showlegend": false,
         "type": "scatter",
         "x": [
          "1949-09-01T00:00:00",
          "1949-10-01T00:00:00"
         ],
         "y": [
          0,
          0
         ]
        },
        {
         "line": {
          "color": "#C0C0C0"
         },
         "mode": "lines+markers",
         "name": "Unchanged",
         "showlegend": false,
         "type": "scatter",
         "x": [
          "1949-10-01T00:00:00",
          "1949-11-01T00:00:00"
         ],
         "y": [
          0,
          0
         ]
        },
        {
         "line": {
          "color": "#C0C0C0"
         },
         "mode": "lines+markers",
         "name": "Unchanged",
         "showlegend": false,
         "type": "scatter",
         "x": [
          "1949-11-01T00:00:00",
          "1949-12-01T00:00:00"
         ],
         "y": [
          0,
          0
         ]
        },
        {
         "line": {
          "color": "#C0C0C0"
         },
         "mode": "lines+markers",
         "name": "Unchanged",
         "showlegend": false,
         "type": "scatter",
         "x": [
          "1949-12-01T00:00:00",
          "1950-01-01T00:00:00"
         ],
         "y": [
          0,
          0
         ]
        },
        {
         "line": {
          "color": "#C0C0C0"
         },
         "mode": "lines+markers",
         "name": "Unchanged",
         "showlegend": false,
         "type": "scatter",
         "x": [
          "1950-01-01T00:00:00",
          "1950-02-01T00:00:00"
         ],
         "y": [
          0,
          0
         ]
        },
        {
         "line": {
          "color": "#C0C0C0"
         },
         "mode": "lines+markers",
         "name": "Unchanged",
         "showlegend": false,
         "type": "scatter",
         "x": [
          "1950-02-01T00:00:00",
          "1950-03-01T00:00:00"
         ],
         "y": [
          0,
          0
         ]
        },
        {
         "line": {
          "color": "#C0C0C0"
         },
         "mode": "lines+markers",
         "name": "Unchanged",
         "showlegend": false,
         "type": "scatter",
         "x": [
          "1950-03-01T00:00:00",
          "1950-04-01T00:00:00"
         ],
         "y": [
          0,
          0
         ]
        },
        {
         "line": {
          "color": "#C0C0C0"
         },
         "mode": "lines+markers",
         "name": "Unchanged",
         "showlegend": false,
         "type": "scatter",
         "x": [
          "1950-04-01T00:00:00",
          "1950-05-01T00:00:00"
         ],
         "y": [
          0,
          0
         ]
        },
        {
         "line": {
          "color": "#C0C0C0"
         },
         "mode": "lines+markers",
         "name": "Unchanged",
         "showlegend": false,
         "type": "scatter",
         "x": [
          "1950-05-01T00:00:00",
          "1950-06-01T00:00:00"
         ],
         "y": [
          0,
          0
         ]
        },
        {
         "line": {
          "color": "#C0C0C0"
         },
         "mode": "lines+markers",
         "name": "Unchanged",
         "showlegend": false,
         "type": "scatter",
         "x": [
          "1950-06-01T00:00:00",
          "1950-07-01T00:00:00"
         ],
         "y": [
          0,
          0
         ]
        },
        {
         "line": {
          "color": "#C0C0C0"
         },
         "mode": "lines+markers",
         "name": "Unchanged",
         "showlegend": false,
         "type": "scatter",
         "x": [
          "1950-07-01T00:00:00",
          "1950-08-01T00:00:00"
         ],
         "y": [
          0,
          0
         ]
        },
        {
         "line": {
          "color": "#C0C0C0"
         },
         "mode": "lines+markers",
         "name": "Unchanged",
         "showlegend": false,
         "type": "scatter",
         "x": [
          "1950-08-01T00:00:00",
          "1950-09-01T00:00:00"
         ],
         "y": [
          0,
          0
         ]
        },
        {
         "line": {
          "color": "#C0C0C0"
         },
         "mode": "lines+markers",
         "name": "Unchanged",
         "showlegend": false,
         "type": "scatter",
         "x": [
          "1950-09-01T00:00:00",
          "1950-10-01T00:00:00"
         ],
         "y": [
          0,
          0
         ]
        },
        {
         "line": {
          "color": "#C0C0C0"
         },
         "mode": "lines+markers",
         "name": "Unchanged",
         "showlegend": false,
         "type": "scatter",
         "x": [
          "1950-10-01T00:00:00",
          "1950-11-01T00:00:00"
         ],
         "y": [
          0,
          0
         ]
        },
        {
         "line": {
          "color": "#C0C0C0"
         },
         "mode": "lines+markers",
         "name": "Unchanged",
         "showlegend": false,
         "type": "scatter",
         "x": [
          "1950-11-01T00:00:00",
          "1950-12-01T00:00:00"
         ],
         "y": [
          0,
          0
         ]
        },
        {
         "line": {
          "color": "#C0C0C0"
         },
         "mode": "lines+markers",
         "name": "Unchanged",
         "showlegend": false,
         "type": "scatter",
         "x": [
          "1950-12-01T00:00:00",
          "1951-01-01T00:00:00"
         ],
         "y": [
          0,
          0
         ]
        },
        {
         "line": {
          "color": "#C0C0C0"
         },
         "mode": "lines+markers",
         "name": "Unchanged",
         "showlegend": false,
         "type": "scatter",
         "x": [
          "1951-01-01T00:00:00",
          "1951-02-01T00:00:00"
         ],
         "y": [
          0,
          0
         ]
        },
        {
         "line": {
          "color": "#C0C0C0"
         },
         "mode": "lines+markers",
         "name": "Unchanged",
         "showlegend": false,
         "type": "scatter",
         "x": [
          "1951-02-01T00:00:00",
          "1951-03-01T00:00:00"
         ],
         "y": [
          0,
          0
         ]
        },
        {
         "line": {
          "color": "#C0C0C0"
         },
         "mode": "lines+markers",
         "name": "Unchanged",
         "showlegend": false,
         "type": "scatter",
         "x": [
          "1951-03-01T00:00:00",
          "1951-04-01T00:00:00"
         ],
         "y": [
          0,
          0
         ]
        },
        {
         "line": {
          "color": "#C0C0C0"
         },
         "mode": "lines+markers",
         "name": "Unchanged",
         "showlegend": false,
         "type": "scatter",
         "x": [
          "1951-04-01T00:00:00",
          "1951-05-01T00:00:00"
         ],
         "y": [
          0,
          0
         ]
        },
        {
         "line": {
          "color": "#C0C0C0"
         },
         "mode": "lines+markers",
         "name": "Unchanged",
         "showlegend": false,
         "type": "scatter",
         "x": [
          "1951-05-01T00:00:00",
          "1951-06-01T00:00:00"
         ],
         "y": [
          0,
          0
         ]
        },
        {
         "line": {
          "color": "#C0C0C0"
         },
         "mode": "lines+markers",
         "name": "Unchanged",
         "showlegend": false,
         "type": "scatter",
         "x": [
          "1951-06-01T00:00:00",
          "1951-07-01T00:00:00"
         ],
         "y": [
          0,
          0
         ]
        },
        {
         "line": {
          "color": "#C0C0C0"
         },
         "mode": "lines+markers",
         "name": "Unchanged",
         "showlegend": false,
         "type": "scatter",
         "x": [
          "1951-07-01T00:00:00",
          "1951-08-01T00:00:00"
         ],
         "y": [
          0,
          0
         ]
        },
        {
         "line": {
          "color": "#C0C0C0"
         },
         "mode": "lines+markers",
         "name": "Unchanged",
         "showlegend": false,
         "type": "scatter",
         "x": [
          "1951-08-01T00:00:00",
          "1951-09-01T00:00:00"
         ],
         "y": [
          0,
          0
         ]
        },
        {
         "line": {
          "color": "#C0C0C0"
         },
         "mode": "lines+markers",
         "name": "Unchanged",
         "showlegend": false,
         "type": "scatter",
         "x": [
          "1951-09-01T00:00:00",
          "1951-10-01T00:00:00"
         ],
         "y": [
          0,
          0
         ]
        },
        {
         "line": {
          "color": "#C0C0C0"
         },
         "mode": "lines+markers",
         "name": "Unchanged",
         "showlegend": false,
         "type": "scatter",
         "x": [
          "1951-10-01T00:00:00",
          "1951-11-01T00:00:00"
         ],
         "y": [
          0,
          0
         ]
        },
        {
         "line": {
          "color": "#C0C0C0"
         },
         "mode": "lines+markers",
         "name": "Unchanged",
         "showlegend": false,
         "type": "scatter",
         "x": [
          "1951-11-01T00:00:00",
          "1951-12-01T00:00:00"
         ],
         "y": [
          0,
          0
         ]
        },
        {
         "line": {
          "color": "#C0C0C0"
         },
         "mode": "lines+markers",
         "name": "Unchanged",
         "showlegend": false,
         "type": "scatter",
         "x": [
          "1951-12-01T00:00:00",
          "1952-01-01T00:00:00"
         ],
         "y": [
          0,
          0
         ]
        },
        {
         "line": {
          "color": "#C0C0C0"
         },
         "mode": "lines+markers",
         "name": "Unchanged",
         "showlegend": false,
         "type": "scatter",
         "x": [
          "1952-01-01T00:00:00",
          "1952-02-01T00:00:00"
         ],
         "y": [
          0,
          0
         ]
        },
        {
         "line": {
          "color": "#C0C0C0"
         },
         "mode": "lines+markers",
         "name": "Unchanged",
         "showlegend": false,
         "type": "scatter",
         "x": [
          "1952-02-01T00:00:00",
          "1952-03-01T00:00:00"
         ],
         "y": [
          0,
          0
         ]
        },
        {
         "line": {
          "color": "#C0C0C0"
         },
         "mode": "lines+markers",
         "name": "Unchanged",
         "showlegend": false,
         "type": "scatter",
         "x": [
          "1952-03-01T00:00:00",
          "1952-04-01T00:00:00"
         ],
         "y": [
          0,
          0
         ]
        },
        {
         "line": {
          "color": "#C0C0C0"
         },
         "mode": "lines+markers",
         "name": "Unchanged",
         "showlegend": false,
         "type": "scatter",
         "x": [
          "1952-04-01T00:00:00",
          "1952-05-01T00:00:00"
         ],
         "y": [
          0,
          0
         ]
        },
        {
         "line": {
          "color": "#C0C0C0"
         },
         "mode": "lines+markers",
         "name": "Unchanged",
         "showlegend": false,
         "type": "scatter",
         "x": [
          "1952-05-01T00:00:00",
          "1952-06-01T00:00:00"
         ],
         "y": [
          0,
          0
         ]
        },
        {
         "line": {
          "color": "#C0C0C0"
         },
         "mode": "lines+markers",
         "name": "Unchanged",
         "showlegend": false,
         "type": "scatter",
         "x": [
          "1952-06-01T00:00:00",
          "1952-07-01T00:00:00"
         ],
         "y": [
          0,
          0
         ]
        },
        {
         "line": {
          "color": "#C0C0C0"
         },
         "mode": "lines+markers",
         "name": "Unchanged",
         "showlegend": false,
         "type": "scatter",
         "x": [
          "1952-07-01T00:00:00",
          "1952-08-01T00:00:00"
         ],
         "y": [
          0,
          0
         ]
        },
        {
         "line": {
          "color": "#C0C0C0"
         },
         "mode": "lines+markers",
         "name": "Unchanged",
         "showlegend": false,
         "type": "scatter",
         "x": [
          "1952-08-01T00:00:00",
          "1952-09-01T00:00:00"
         ],
         "y": [
          0,
          0
         ]
        },
        {
         "line": {
          "color": "#C0C0C0"
         },
         "mode": "lines+markers",
         "name": "Unchanged",
         "showlegend": false,
         "type": "scatter",
         "x": [
          "1952-09-01T00:00:00",
          "1952-10-01T00:00:00"
         ],
         "y": [
          0,
          0
         ]
        },
        {
         "line": {
          "color": "#C0C0C0"
         },
         "mode": "lines+markers",
         "name": "Unchanged",
         "showlegend": false,
         "type": "scatter",
         "x": [
          "1952-10-01T00:00:00",
          "1952-11-01T00:00:00"
         ],
         "y": [
          0,
          0
         ]
        },
        {
         "line": {
          "color": "#C0C0C0"
         },
         "mode": "lines+markers",
         "name": "Unchanged",
         "showlegend": false,
         "type": "scatter",
         "x": [
          "1952-11-01T00:00:00",
          "1952-12-01T00:00:00"
         ],
         "y": [
          0,
          0
         ]
        },
        {
         "line": {
          "color": "#C0C0C0"
         },
         "mode": "lines+markers",
         "name": "Unchanged",
         "showlegend": false,
         "type": "scatter",
         "x": [
          "1952-12-01T00:00:00",
          "1953-01-01T00:00:00"
         ],
         "y": [
          0,
          0
         ]
        },
        {
         "line": {
          "color": "#C0C0C0"
         },
         "mode": "lines+markers",
         "name": "Unchanged",
         "showlegend": false,
         "type": "scatter",
         "x": [
          "1953-01-01T00:00:00",
          "1953-02-01T00:00:00"
         ],
         "y": [
          0,
          0
         ]
        },
        {
         "line": {
          "color": "#C0C0C0"
         },
         "mode": "lines+markers",
         "name": "Unchanged",
         "showlegend": false,
         "type": "scatter",
         "x": [
          "1953-02-01T00:00:00",
          "1953-03-01T00:00:00"
         ],
         "y": [
          0,
          0
         ]
        },
        {
         "line": {
          "color": "#C0C0C0"
         },
         "mode": "lines+markers",
         "name": "Unchanged",
         "showlegend": false,
         "type": "scatter",
         "x": [
          "1953-03-01T00:00:00",
          "1953-04-01T00:00:00"
         ],
         "y": [
          0,
          0
         ]
        },
        {
         "line": {
          "color": "#C0C0C0"
         },
         "mode": "lines+markers",
         "name": "Unchanged",
         "showlegend": false,
         "type": "scatter",
         "x": [
          "1953-04-01T00:00:00",
          "1953-05-01T00:00:00"
         ],
         "y": [
          0,
          0
         ]
        },
        {
         "line": {
          "color": "#C0C0C0"
         },
         "mode": "lines+markers",
         "name": "Unchanged",
         "showlegend": false,
         "type": "scatter",
         "x": [
          "1953-05-01T00:00:00",
          "1953-06-01T00:00:00"
         ],
         "y": [
          0,
          0
         ]
        },
        {
         "line": {
          "color": "#C0C0C0"
         },
         "mode": "lines+markers",
         "name": "Unchanged",
         "showlegend": false,
         "type": "scatter",
         "x": [
          "1953-06-01T00:00:00",
          "1953-07-01T00:00:00"
         ],
         "y": [
          0,
          0
         ]
        },
        {
         "line": {
          "color": "#C0C0C0"
         },
         "mode": "lines+markers",
         "name": "Unchanged",
         "showlegend": false,
         "type": "scatter",
         "x": [
          "1953-07-01T00:00:00",
          "1953-08-01T00:00:00"
         ],
         "y": [
          0,
          0
         ]
        },
        {
         "line": {
          "color": "#C0C0C0"
         },
         "mode": "lines+markers",
         "name": "Unchanged",
         "showlegend": false,
         "type": "scatter",
         "x": [
          "1953-08-01T00:00:00",
          "1953-09-01T00:00:00"
         ],
         "y": [
          0,
          0
         ]
        },
        {
         "line": {
          "color": "#C0C0C0"
         },
         "mode": "lines+markers",
         "name": "Unchanged",
         "showlegend": false,
         "type": "scatter",
         "x": [
          "1953-09-01T00:00:00",
          "1953-10-01T00:00:00"
         ],
         "y": [
          0,
          0
         ]
        },
        {
         "line": {
          "color": "#C0C0C0"
         },
         "mode": "lines+markers",
         "name": "Unchanged",
         "showlegend": false,
         "type": "scatter",
         "x": [
          "1953-10-01T00:00:00",
          "1953-11-01T00:00:00"
         ],
         "y": [
          0,
          0
         ]
        },
        {
         "line": {
          "color": "#C0C0C0"
         },
         "mode": "lines+markers",
         "name": "Unchanged",
         "showlegend": false,
         "type": "scatter",
         "x": [
          "1953-11-01T00:00:00",
          "1953-12-01T00:00:00"
         ],
         "y": [
          0,
          0
         ]
        },
        {
         "line": {
          "color": "#C0C0C0"
         },
         "mode": "lines+markers",
         "name": "Unchanged",
         "showlegend": false,
         "type": "scatter",
         "x": [
          "1953-12-01T00:00:00",
          "1954-01-01T00:00:00"
         ],
         "y": [
          0,
          0
         ]
        },
        {
         "line": {
          "color": "#C0C0C0"
         },
         "mode": "lines+markers",
         "name": "Unchanged",
         "showlegend": false,
         "type": "scatter",
         "x": [
          "1954-01-01T00:00:00",
          "1954-02-01T00:00:00"
         ],
         "y": [
          0,
          0
         ]
        },
        {
         "line": {
          "color": "#C0C0C0"
         },
         "mode": "lines+markers",
         "name": "Unchanged",
         "showlegend": false,
         "type": "scatter",
         "x": [
          "1954-02-01T00:00:00",
          "1954-03-01T00:00:00"
         ],
         "y": [
          0,
          0
         ]
        },
        {
         "line": {
          "color": "#C0C0C0"
         },
         "mode": "lines+markers",
         "name": "Unchanged",
         "showlegend": false,
         "type": "scatter",
         "x": [
          "1954-03-01T00:00:00",
          "1954-04-01T00:00:00"
         ],
         "y": [
          0,
          0
         ]
        },
        {
         "line": {
          "color": "#C0C0C0"
         },
         "mode": "lines+markers",
         "name": "Unchanged",
         "showlegend": false,
         "type": "scatter",
         "x": [
          "1954-04-01T00:00:00",
          "1954-05-01T00:00:00"
         ],
         "y": [
          0,
          0
         ]
        },
        {
         "line": {
          "color": "#C0C0C0"
         },
         "mode": "lines+markers",
         "name": "Unchanged",
         "showlegend": false,
         "type": "scatter",
         "x": [
          "1954-05-01T00:00:00",
          "1954-06-01T00:00:00"
         ],
         "y": [
          0,
          0
         ]
        },
        {
         "line": {
          "color": "#C0C0C0"
         },
         "mode": "lines+markers",
         "name": "Unchanged",
         "showlegend": false,
         "type": "scatter",
         "x": [
          "1954-06-01T00:00:00",
          "1954-07-01T00:00:00"
         ],
         "y": [
          0,
          0
         ]
        },
        {
         "line": {
          "color": "#C0C0C0"
         },
         "mode": "lines+markers",
         "name": "Unchanged",
         "showlegend": false,
         "type": "scatter",
         "x": [
          "1954-07-01T00:00:00",
          "1954-08-01T00:00:00"
         ],
         "y": [
          0,
          0
         ]
        },
        {
         "line": {
          "color": "#C0C0C0"
         },
         "mode": "lines+markers",
         "name": "Unchanged",
         "showlegend": false,
         "type": "scatter",
         "x": [
          "1954-08-01T00:00:00",
          "1954-09-01T00:00:00"
         ],
         "y": [
          0,
          0
         ]
        },
        {
         "line": {
          "color": "#C0C0C0"
         },
         "mode": "lines+markers",
         "name": "Unchanged",
         "showlegend": false,
         "type": "scatter",
         "x": [
          "1954-09-01T00:00:00",
          "1954-10-01T00:00:00"
         ],
         "y": [
          0,
          0
         ]
        },
        {
         "line": {
          "color": "#C0C0C0"
         },
         "mode": "lines+markers",
         "name": "Unchanged",
         "showlegend": false,
         "type": "scatter",
         "x": [
          "1954-10-01T00:00:00",
          "1954-11-01T00:00:00"
         ],
         "y": [
          0,
          0
         ]
        },
        {
         "line": {
          "color": "#C0C0C0"
         },
         "mode": "lines+markers",
         "name": "Unchanged",
         "showlegend": false,
         "type": "scatter",
         "x": [
          "1954-11-01T00:00:00",
          "1954-12-01T00:00:00"
         ],
         "y": [
          0,
          0
         ]
        },
        {
         "line": {
          "color": "#C0C0C0"
         },
         "mode": "lines+markers",
         "name": "Unchanged",
         "showlegend": false,
         "type": "scatter",
         "x": [
          "1954-12-01T00:00:00",
          "1955-01-01T00:00:00"
         ],
         "y": [
          0,
          0
         ]
        },
        {
         "line": {
          "color": "#C0C0C0"
         },
         "mode": "lines+markers",
         "name": "Unchanged",
         "showlegend": false,
         "type": "scatter",
         "x": [
          "1955-01-01T00:00:00",
          "1955-02-01T00:00:00"
         ],
         "y": [
          0,
          0
         ]
        },
        {
         "line": {
          "color": "#C0C0C0"
         },
         "mode": "lines+markers",
         "name": "Unchanged",
         "showlegend": false,
         "type": "scatter",
         "x": [
          "1955-02-01T00:00:00",
          "1955-03-01T00:00:00"
         ],
         "y": [
          0,
          0
         ]
        },
        {
         "line": {
          "color": "#C0C0C0"
         },
         "mode": "lines+markers",
         "name": "Unchanged",
         "showlegend": false,
         "type": "scatter",
         "x": [
          "1955-03-01T00:00:00",
          "1955-04-01T00:00:00"
         ],
         "y": [
          0,
          0
         ]
        },
        {
         "line": {
          "color": "#C0C0C0"
         },
         "mode": "lines+markers",
         "name": "Unchanged",
         "showlegend": false,
         "type": "scatter",
         "x": [
          "1955-04-01T00:00:00",
          "1955-05-01T00:00:00"
         ],
         "y": [
          0,
          0
         ]
        },
        {
         "line": {
          "color": "#C0C0C0"
         },
         "mode": "lines+markers",
         "name": "Unchanged",
         "showlegend": false,
         "type": "scatter",
         "x": [
          "1955-05-01T00:00:00",
          "1955-06-01T00:00:00"
         ],
         "y": [
          0,
          0
         ]
        },
        {
         "line": {
          "color": "#C0C0C0"
         },
         "mode": "lines+markers",
         "name": "Unchanged",
         "showlegend": false,
         "type": "scatter",
         "x": [
          "1955-06-01T00:00:00",
          "1955-07-01T00:00:00"
         ],
         "y": [
          0,
          0
         ]
        },
        {
         "line": {
          "color": "#C0C0C0"
         },
         "mode": "lines+markers",
         "name": "Unchanged",
         "showlegend": false,
         "type": "scatter",
         "x": [
          "1955-07-01T00:00:00",
          "1955-08-01T00:00:00"
         ],
         "y": [
          0,
          0
         ]
        },
        {
         "line": {
          "color": "#C0C0C0"
         },
         "mode": "lines+markers",
         "name": "Unchanged",
         "showlegend": false,
         "type": "scatter",
         "x": [
          "1955-08-01T00:00:00",
          "1955-09-01T00:00:00"
         ],
         "y": [
          0,
          0
         ]
        },
        {
         "line": {
          "color": "#C0C0C0"
         },
         "mode": "lines+markers",
         "name": "Unchanged",
         "showlegend": false,
         "type": "scatter",
         "x": [
          "1955-09-01T00:00:00",
          "1955-10-01T00:00:00"
         ],
         "y": [
          0,
          0
         ]
        },
        {
         "line": {
          "color": "#C0C0C0"
         },
         "mode": "lines+markers",
         "name": "Unchanged",
         "showlegend": false,
         "type": "scatter",
         "x": [
          "1955-10-01T00:00:00",
          "1955-11-01T00:00:00"
         ],
         "y": [
          0,
          0
         ]
        },
        {
         "line": {
          "color": "#C0C0C0"
         },
         "mode": "lines+markers",
         "name": "Unchanged",
         "showlegend": false,
         "type": "scatter",
         "x": [
          "1955-11-01T00:00:00",
          "1955-12-01T00:00:00"
         ],
         "y": [
          0,
          0
         ]
        },
        {
         "line": {
          "color": "#C0C0C0"
         },
         "mode": "lines+markers",
         "name": "Unchanged",
         "showlegend": false,
         "type": "scatter",
         "x": [
          "1955-12-01T00:00:00",
          "1956-01-01T00:00:00"
         ],
         "y": [
          0,
          0
         ]
        },
        {
         "line": {
          "color": "#C0C0C0"
         },
         "mode": "lines+markers",
         "name": "Unchanged",
         "showlegend": false,
         "type": "scatter",
         "x": [
          "1956-01-01T00:00:00",
          "1956-02-01T00:00:00"
         ],
         "y": [
          0,
          0
         ]
        },
        {
         "line": {
          "color": "#C0C0C0"
         },
         "mode": "lines+markers",
         "name": "Unchanged",
         "showlegend": false,
         "type": "scatter",
         "x": [
          "1956-02-01T00:00:00",
          "1956-03-01T00:00:00"
         ],
         "y": [
          0,
          0
         ]
        },
        {
         "line": {
          "color": "#C0C0C0"
         },
         "mode": "lines+markers",
         "name": "Unchanged",
         "showlegend": false,
         "type": "scatter",
         "x": [
          "1956-03-01T00:00:00",
          "1956-04-01T00:00:00"
         ],
         "y": [
          0,
          0
         ]
        },
        {
         "line": {
          "color": "#C0C0C0"
         },
         "mode": "lines+markers",
         "name": "Unchanged",
         "showlegend": false,
         "type": "scatter",
         "x": [
          "1956-04-01T00:00:00",
          "1956-05-01T00:00:00"
         ],
         "y": [
          0,
          0
         ]
        },
        {
         "line": {
          "color": "#C0C0C0"
         },
         "mode": "lines+markers",
         "name": "Unchanged",
         "showlegend": false,
         "type": "scatter",
         "x": [
          "1956-05-01T00:00:00",
          "1956-06-01T00:00:00"
         ],
         "y": [
          0,
          0
         ]
        },
        {
         "line": {
          "color": "#C0C0C0"
         },
         "mode": "lines+markers",
         "name": "Unchanged",
         "showlegend": false,
         "type": "scatter",
         "x": [
          "1956-06-01T00:00:00",
          "1956-07-01T00:00:00"
         ],
         "y": [
          0,
          0
         ]
        },
        {
         "line": {
          "color": "#C0C0C0"
         },
         "mode": "lines+markers",
         "name": "Unchanged",
         "showlegend": false,
         "type": "scatter",
         "x": [
          "1956-07-01T00:00:00",
          "1956-08-01T00:00:00"
         ],
         "y": [
          0,
          0
         ]
        },
        {
         "line": {
          "color": "#C0C0C0"
         },
         "mode": "lines+markers",
         "name": "Unchanged",
         "showlegend": false,
         "type": "scatter",
         "x": [
          "1956-08-01T00:00:00",
          "1956-09-01T00:00:00"
         ],
         "y": [
          0,
          0
         ]
        },
        {
         "line": {
          "color": "#C0C0C0"
         },
         "mode": "lines+markers",
         "name": "Unchanged",
         "showlegend": false,
         "type": "scatter",
         "x": [
          "1956-09-01T00:00:00",
          "1956-10-01T00:00:00"
         ],
         "y": [
          0,
          0
         ]
        },
        {
         "line": {
          "color": "#C0C0C0"
         },
         "mode": "lines+markers",
         "name": "Unchanged",
         "showlegend": false,
         "type": "scatter",
         "x": [
          "1956-10-01T00:00:00",
          "1956-11-01T00:00:00"
         ],
         "y": [
          0,
          0
         ]
        },
        {
         "line": {
          "color": "#C0C0C0"
         },
         "mode": "lines+markers",
         "name": "Unchanged",
         "showlegend": false,
         "type": "scatter",
         "x": [
          "1956-11-01T00:00:00",
          "1956-12-01T00:00:00"
         ],
         "y": [
          0,
          0
         ]
        },
        {
         "line": {
          "color": "#C0C0C0"
         },
         "mode": "lines+markers",
         "name": "Unchanged",
         "showlegend": false,
         "type": "scatter",
         "x": [
          "1956-12-01T00:00:00",
          "1957-01-01T00:00:00"
         ],
         "y": [
          0,
          0
         ]
        },
        {
         "line": {
          "color": "#C0C0C0"
         },
         "mode": "lines+markers",
         "name": "Unchanged",
         "showlegend": false,
         "type": "scatter",
         "x": [
          "1957-01-01T00:00:00",
          "1957-02-01T00:00:00"
         ],
         "y": [
          0,
          0
         ]
        },
        {
         "line": {
          "color": "#C0C0C0"
         },
         "mode": "lines+markers",
         "name": "Unchanged",
         "showlegend": false,
         "type": "scatter",
         "x": [
          "1957-02-01T00:00:00",
          "1957-03-01T00:00:00"
         ],
         "y": [
          0,
          0
         ]
        },
        {
         "line": {
          "color": "#C0C0C0"
         },
         "mode": "lines+markers",
         "name": "Unchanged",
         "showlegend": false,
         "type": "scatter",
         "x": [
          "1957-03-01T00:00:00",
          "1957-04-01T00:00:00"
         ],
         "y": [
          0,
          0
         ]
        },
        {
         "line": {
          "color": "#C0C0C0"
         },
         "mode": "lines+markers",
         "name": "Unchanged",
         "showlegend": false,
         "type": "scatter",
         "x": [
          "1957-04-01T00:00:00",
          "1957-05-01T00:00:00"
         ],
         "y": [
          0,
          0
         ]
        },
        {
         "line": {
          "color": "#C0C0C0"
         },
         "mode": "lines+markers",
         "name": "Unchanged",
         "showlegend": false,
         "type": "scatter",
         "x": [
          "1957-05-01T00:00:00",
          "1957-06-01T00:00:00"
         ],
         "y": [
          0,
          0
         ]
        },
        {
         "line": {
          "color": "#C0C0C0"
         },
         "mode": "lines+markers",
         "name": "Unchanged",
         "showlegend": false,
         "type": "scatter",
         "x": [
          "1957-06-01T00:00:00",
          "1957-07-01T00:00:00"
         ],
         "y": [
          0,
          0
         ]
        },
        {
         "line": {
          "color": "#C0C0C0"
         },
         "mode": "lines+markers",
         "name": "Unchanged",
         "showlegend": false,
         "type": "scatter",
         "x": [
          "1957-07-01T00:00:00",
          "1957-08-01T00:00:00"
         ],
         "y": [
          0,
          0
         ]
        },
        {
         "line": {
          "color": "#C0C0C0"
         },
         "mode": "lines+markers",
         "name": "Unchanged",
         "showlegend": false,
         "type": "scatter",
         "x": [
          "1957-08-01T00:00:00",
          "1957-09-01T00:00:00"
         ],
         "y": [
          0,
          0
         ]
        },
        {
         "line": {
          "color": "#C0C0C0"
         },
         "mode": "lines+markers",
         "name": "Unchanged",
         "showlegend": false,
         "type": "scatter",
         "x": [
          "1957-09-01T00:00:00",
          "1957-10-01T00:00:00"
         ],
         "y": [
          0,
          0
         ]
        },
        {
         "line": {
          "color": "#C0C0C0"
         },
         "mode": "lines+markers",
         "name": "Unchanged",
         "showlegend": false,
         "type": "scatter",
         "x": [
          "1957-10-01T00:00:00",
          "1957-11-01T00:00:00"
         ],
         "y": [
          0,
          0
         ]
        },
        {
         "line": {
          "color": "#C0C0C0"
         },
         "mode": "lines+markers",
         "name": "Unchanged",
         "showlegend": false,
         "type": "scatter",
         "x": [
          "1957-11-01T00:00:00",
          "1957-12-01T00:00:00"
         ],
         "y": [
          0,
          0
         ]
        },
        {
         "line": {
          "color": "#C0C0C0"
         },
         "mode": "lines+markers",
         "name": "Unchanged",
         "showlegend": false,
         "type": "scatter",
         "x": [
          "1957-12-01T00:00:00",
          "1958-01-01T00:00:00"
         ],
         "y": [
          0,
          0
         ]
        },
        {
         "line": {
          "color": "#C0C0C0"
         },
         "mode": "lines+markers",
         "name": "Unchanged",
         "showlegend": false,
         "type": "scatter",
         "x": [
          "1958-01-01T00:00:00",
          "1958-02-01T00:00:00"
         ],
         "y": [
          0,
          0
         ]
        },
        {
         "line": {
          "color": "#C0C0C0"
         },
         "mode": "lines+markers",
         "name": "Unchanged",
         "showlegend": false,
         "type": "scatter",
         "x": [
          "1958-02-01T00:00:00",
          "1958-03-01T00:00:00"
         ],
         "y": [
          0,
          0
         ]
        },
        {
         "line": {
          "color": "#C0C0C0"
         },
         "mode": "lines+markers",
         "name": "Unchanged",
         "showlegend": false,
         "type": "scatter",
         "x": [
          "1958-03-01T00:00:00",
          "1958-04-01T00:00:00"
         ],
         "y": [
          0,
          0
         ]
        },
        {
         "line": {
          "color": "#C0C0C0"
         },
         "mode": "lines+markers",
         "name": "Unchanged",
         "showlegend": false,
         "type": "scatter",
         "x": [
          "1958-04-01T00:00:00",
          "1958-05-01T00:00:00"
         ],
         "y": [
          0,
          0
         ]
        },
        {
         "line": {
          "color": "#C0C0C0"
         },
         "mode": "lines+markers",
         "name": "Unchanged",
         "showlegend": false,
         "type": "scatter",
         "x": [
          "1958-05-01T00:00:00",
          "1958-06-01T00:00:00"
         ],
         "y": [
          0,
          0
         ]
        },
        {
         "line": {
          "color": "#C0C0C0"
         },
         "mode": "lines+markers",
         "name": "Unchanged",
         "showlegend": false,
         "type": "scatter",
         "x": [
          "1958-06-01T00:00:00",
          "1958-07-01T00:00:00"
         ],
         "y": [
          0,
          0
         ]
        },
        {
         "line": {
          "color": "#C0C0C0"
         },
         "mode": "lines+markers",
         "name": "Unchanged",
         "showlegend": false,
         "type": "scatter",
         "x": [
          "1958-07-01T00:00:00",
          "1958-08-01T00:00:00"
         ],
         "y": [
          0,
          0
         ]
        },
        {
         "line": {
          "color": "#C0C0C0"
         },
         "mode": "lines+markers",
         "name": "Unchanged",
         "showlegend": false,
         "type": "scatter",
         "x": [
          "1958-08-01T00:00:00",
          "1958-09-01T00:00:00"
         ],
         "y": [
          0,
          0
         ]
        },
        {
         "line": {
          "color": "#C0C0C0"
         },
         "mode": "lines+markers",
         "name": "Unchanged",
         "showlegend": false,
         "type": "scatter",
         "x": [
          "1958-09-01T00:00:00",
          "1958-10-01T00:00:00"
         ],
         "y": [
          0,
          0
         ]
        },
        {
         "line": {
          "color": "#C0C0C0"
         },
         "mode": "lines+markers",
         "name": "Unchanged",
         "showlegend": false,
         "type": "scatter",
         "x": [
          "1958-10-01T00:00:00",
          "1958-11-01T00:00:00"
         ],
         "y": [
          0,
          0
         ]
        },
        {
         "line": {
          "color": "#C0C0C0"
         },
         "mode": "lines+markers",
         "name": "Unchanged",
         "showlegend": false,
         "type": "scatter",
         "x": [
          "1958-11-01T00:00:00",
          "1958-12-01T00:00:00"
         ],
         "y": [
          0,
          0
         ]
        },
        {
         "line": {
          "color": "#C0C0C0"
         },
         "mode": "lines+markers",
         "name": "Unchanged",
         "showlegend": false,
         "type": "scatter",
         "x": [
          "1958-12-01T00:00:00",
          "1959-01-01T00:00:00"
         ],
         "y": [
          0,
          0
         ]
        },
        {
         "line": {
          "color": "#C0C0C0"
         },
         "mode": "lines+markers",
         "name": "Unchanged",
         "showlegend": false,
         "type": "scatter",
         "x": [
          "1959-01-01T00:00:00",
          "1959-02-01T00:00:00"
         ],
         "y": [
          0,
          0
         ]
        },
        {
         "line": {
          "color": "#C0C0C0"
         },
         "mode": "lines+markers",
         "name": "Unchanged",
         "showlegend": false,
         "type": "scatter",
         "x": [
          "1959-02-01T00:00:00",
          "1959-03-01T00:00:00"
         ],
         "y": [
          0,
          0
         ]
        },
        {
         "line": {
          "color": "#C0C0C0"
         },
         "mode": "lines+markers",
         "name": "Unchanged",
         "showlegend": false,
         "type": "scatter",
         "x": [
          "1959-03-01T00:00:00",
          "1959-04-01T00:00:00"
         ],
         "y": [
          0,
          0
         ]
        },
        {
         "line": {
          "color": "#C0C0C0"
         },
         "mode": "lines+markers",
         "name": "Unchanged",
         "showlegend": false,
         "type": "scatter",
         "x": [
          "1959-04-01T00:00:00",
          "1959-05-01T00:00:00"
         ],
         "y": [
          0,
          0
         ]
        },
        {
         "line": {
          "color": "#C0C0C0"
         },
         "mode": "lines+markers",
         "name": "Unchanged",
         "showlegend": false,
         "type": "scatter",
         "x": [
          "1959-05-01T00:00:00",
          "1959-06-01T00:00:00"
         ],
         "y": [
          0,
          0
         ]
        },
        {
         "line": {
          "color": "#C0C0C0"
         },
         "mode": "lines+markers",
         "name": "Unchanged",
         "showlegend": false,
         "type": "scatter",
         "x": [
          "1959-06-01T00:00:00",
          "1959-07-01T00:00:00"
         ],
         "y": [
          0,
          0
         ]
        },
        {
         "line": {
          "color": "#C0C0C0"
         },
         "mode": "lines+markers",
         "name": "Unchanged",
         "showlegend": false,
         "type": "scatter",
         "x": [
          "1959-07-01T00:00:00",
          "1959-08-01T00:00:00"
         ],
         "y": [
          0,
          0
         ]
        },
        {
         "line": {
          "color": "#C0C0C0"
         },
         "mode": "lines+markers",
         "name": "Unchanged",
         "showlegend": false,
         "type": "scatter",
         "x": [
          "1959-08-01T00:00:00",
          "1959-09-01T00:00:00"
         ],
         "y": [
          0,
          0
         ]
        },
        {
         "line": {
          "color": "#C0C0C0"
         },
         "mode": "lines+markers",
         "name": "Unchanged",
         "showlegend": false,
         "type": "scatter",
         "x": [
          "1959-09-01T00:00:00",
          "1959-10-01T00:00:00"
         ],
         "y": [
          0,
          0
         ]
        },
        {
         "line": {
          "color": "#C0C0C0"
         },
         "mode": "lines+markers",
         "name": "Unchanged",
         "showlegend": false,
         "type": "scatter",
         "x": [
          "1959-10-01T00:00:00",
          "1959-11-01T00:00:00"
         ],
         "y": [
          0,
          0
         ]
        },
        {
         "line": {
          "color": "#C0C0C0"
         },
         "mode": "lines+markers",
         "name": "Unchanged",
         "showlegend": false,
         "type": "scatter",
         "x": [
          "1959-11-01T00:00:00",
          "1959-12-01T00:00:00"
         ],
         "y": [
          0,
          0
         ]
        },
        {
         "line": {
          "color": "#1f77b4"
         },
         "mode": "lines+markers",
         "name": "Train",
         "showlegend": false,
         "type": "scatter",
         "x": [
          "1949-01-01T00:00:00",
          "1949-02-01T00:00:00"
         ],
         "y": [
          0,
          0
         ]
        },
        {
         "line": {
          "color": "#1f77b4"
         },
         "mode": "lines+markers",
         "name": "Train",
         "showlegend": false,
         "type": "scatter",
         "x": [
          "1949-02-01T00:00:00",
          "1949-03-01T00:00:00"
         ],
         "y": [
          0,
          0
         ]
        },
        {
         "line": {
          "color": "#1f77b4"
         },
         "mode": "lines+markers",
         "name": "Train",
         "showlegend": false,
         "type": "scatter",
         "x": [
          "1949-03-01T00:00:00",
          "1949-04-01T00:00:00"
         ],
         "y": [
          0,
          0
         ]
        },
        {
         "line": {
          "color": "#1f77b4"
         },
         "mode": "lines+markers",
         "name": "Train",
         "showlegend": false,
         "type": "scatter",
         "x": [
          "1949-04-01T00:00:00",
          "1949-05-01T00:00:00"
         ],
         "y": [
          0,
          0
         ]
        },
        {
         "line": {
          "color": "#1f77b4"
         },
         "mode": "lines+markers",
         "name": "Train",
         "showlegend": false,
         "type": "scatter",
         "x": [
          "1949-05-01T00:00:00",
          "1949-06-01T00:00:00"
         ],
         "y": [
          0,
          0
         ]
        },
        {
         "line": {
          "color": "#1f77b4"
         },
         "mode": "lines+markers",
         "name": "Train",
         "showlegend": false,
         "type": "scatter",
         "x": [
          "1949-06-01T00:00:00",
          "1949-07-01T00:00:00"
         ],
         "y": [
          0,
          0
         ]
        },
        {
         "line": {
          "color": "#1f77b4"
         },
         "mode": "lines+markers",
         "name": "Train",
         "showlegend": false,
         "type": "scatter",
         "x": [
          "1949-07-01T00:00:00",
          "1949-08-01T00:00:00"
         ],
         "y": [
          0,
          0
         ]
        },
        {
         "line": {
          "color": "#1f77b4"
         },
         "mode": "lines+markers",
         "name": "Train",
         "showlegend": false,
         "type": "scatter",
         "x": [
          "1949-08-01T00:00:00",
          "1949-09-01T00:00:00"
         ],
         "y": [
          0,
          0
         ]
        },
        {
         "line": {
          "color": "#1f77b4"
         },
         "mode": "lines+markers",
         "name": "Train",
         "showlegend": false,
         "type": "scatter",
         "x": [
          "1949-09-01T00:00:00",
          "1949-10-01T00:00:00"
         ],
         "y": [
          0,
          0
         ]
        },
        {
         "line": {
          "color": "#1f77b4"
         },
         "mode": "lines+markers",
         "name": "Train",
         "showlegend": false,
         "type": "scatter",
         "x": [
          "1949-10-01T00:00:00",
          "1949-11-01T00:00:00"
         ],
         "y": [
          0,
          0
         ]
        },
        {
         "line": {
          "color": "#1f77b4"
         },
         "mode": "lines+markers",
         "name": "Train",
         "showlegend": false,
         "type": "scatter",
         "x": [
          "1949-11-01T00:00:00",
          "1949-12-01T00:00:00"
         ],
         "y": [
          0,
          0
         ]
        },
        {
         "line": {
          "color": "#1f77b4"
         },
         "mode": "lines+markers",
         "name": "Train",
         "showlegend": false,
         "type": "scatter",
         "x": [
          "1949-12-01T00:00:00",
          "1950-01-01T00:00:00"
         ],
         "y": [
          0,
          0
         ]
        },
        {
         "line": {
          "color": "#1f77b4"
         },
         "mode": "lines+markers",
         "name": "Train",
         "showlegend": false,
         "type": "scatter",
         "x": [
          "1950-01-01T00:00:00",
          "1950-02-01T00:00:00"
         ],
         "y": [
          0,
          0
         ]
        },
        {
         "line": {
          "color": "#1f77b4"
         },
         "mode": "lines+markers",
         "name": "Train",
         "showlegend": false,
         "type": "scatter",
         "x": [
          "1950-02-01T00:00:00",
          "1950-03-01T00:00:00"
         ],
         "y": [
          0,
          0
         ]
        },
        {
         "line": {
          "color": "#1f77b4"
         },
         "mode": "lines+markers",
         "name": "Train",
         "showlegend": false,
         "type": "scatter",
         "x": [
          "1950-03-01T00:00:00",
          "1950-04-01T00:00:00"
         ],
         "y": [
          0,
          0
         ]
        },
        {
         "line": {
          "color": "#1f77b4"
         },
         "mode": "lines+markers",
         "name": "Train",
         "showlegend": false,
         "type": "scatter",
         "x": [
          "1950-04-01T00:00:00",
          "1950-05-01T00:00:00"
         ],
         "y": [
          0,
          0
         ]
        },
        {
         "line": {
          "color": "#1f77b4"
         },
         "mode": "lines+markers",
         "name": "Train",
         "showlegend": false,
         "type": "scatter",
         "x": [
          "1950-05-01T00:00:00",
          "1950-06-01T00:00:00"
         ],
         "y": [
          0,
          0
         ]
        },
        {
         "line": {
          "color": "#1f77b4"
         },
         "mode": "lines+markers",
         "name": "Train",
         "showlegend": false,
         "type": "scatter",
         "x": [
          "1950-06-01T00:00:00",
          "1950-07-01T00:00:00"
         ],
         "y": [
          0,
          0
         ]
        },
        {
         "line": {
          "color": "#1f77b4"
         },
         "mode": "lines+markers",
         "name": "Train",
         "showlegend": false,
         "type": "scatter",
         "x": [
          "1950-07-01T00:00:00",
          "1950-08-01T00:00:00"
         ],
         "y": [
          0,
          0
         ]
        },
        {
         "line": {
          "color": "#1f77b4"
         },
         "mode": "lines+markers",
         "name": "Train",
         "showlegend": false,
         "type": "scatter",
         "x": [
          "1950-08-01T00:00:00",
          "1950-09-01T00:00:00"
         ],
         "y": [
          0,
          0
         ]
        },
        {
         "line": {
          "color": "#1f77b4"
         },
         "mode": "lines+markers",
         "name": "Train",
         "showlegend": false,
         "type": "scatter",
         "x": [
          "1950-09-01T00:00:00",
          "1950-10-01T00:00:00"
         ],
         "y": [
          0,
          0
         ]
        },
        {
         "line": {
          "color": "#1f77b4"
         },
         "mode": "lines+markers",
         "name": "Train",
         "showlegend": false,
         "type": "scatter",
         "x": [
          "1950-10-01T00:00:00",
          "1950-11-01T00:00:00"
         ],
         "y": [
          0,
          0
         ]
        },
        {
         "line": {
          "color": "#1f77b4"
         },
         "mode": "lines+markers",
         "name": "Train",
         "showlegend": false,
         "type": "scatter",
         "x": [
          "1950-11-01T00:00:00",
          "1950-12-01T00:00:00"
         ],
         "y": [
          0,
          0
         ]
        },
        {
         "line": {
          "color": "#1f77b4"
         },
         "mode": "lines+markers",
         "name": "Train",
         "showlegend": false,
         "type": "scatter",
         "x": [
          "1950-12-01T00:00:00",
          "1951-01-01T00:00:00"
         ],
         "y": [
          0,
          0
         ]
        },
        {
         "line": {
          "color": "#1f77b4"
         },
         "mode": "lines+markers",
         "name": "Train",
         "showlegend": false,
         "type": "scatter",
         "x": [
          "1951-01-01T00:00:00",
          "1951-02-01T00:00:00"
         ],
         "y": [
          0,
          0
         ]
        },
        {
         "line": {
          "color": "#1f77b4"
         },
         "mode": "lines+markers",
         "name": "Train",
         "showlegend": false,
         "type": "scatter",
         "x": [
          "1951-02-01T00:00:00",
          "1951-03-01T00:00:00"
         ],
         "y": [
          0,
          0
         ]
        },
        {
         "line": {
          "color": "#1f77b4"
         },
         "mode": "lines+markers",
         "name": "Train",
         "showlegend": false,
         "type": "scatter",
         "x": [
          "1951-03-01T00:00:00",
          "1951-04-01T00:00:00"
         ],
         "y": [
          0,
          0
         ]
        },
        {
         "line": {
          "color": "#1f77b4"
         },
         "mode": "lines+markers",
         "name": "Train",
         "showlegend": false,
         "type": "scatter",
         "x": [
          "1951-04-01T00:00:00",
          "1951-05-01T00:00:00"
         ],
         "y": [
          0,
          0
         ]
        },
        {
         "line": {
          "color": "#1f77b4"
         },
         "mode": "lines+markers",
         "name": "Train",
         "showlegend": false,
         "type": "scatter",
         "x": [
          "1951-05-01T00:00:00",
          "1951-06-01T00:00:00"
         ],
         "y": [
          0,
          0
         ]
        },
        {
         "line": {
          "color": "#1f77b4"
         },
         "mode": "lines+markers",
         "name": "Train",
         "showlegend": false,
         "type": "scatter",
         "x": [
          "1951-06-01T00:00:00",
          "1951-07-01T00:00:00"
         ],
         "y": [
          0,
          0
         ]
        },
        {
         "line": {
          "color": "#1f77b4"
         },
         "mode": "lines+markers",
         "name": "Train",
         "showlegend": false,
         "type": "scatter",
         "x": [
          "1951-07-01T00:00:00",
          "1951-08-01T00:00:00"
         ],
         "y": [
          0,
          0
         ]
        },
        {
         "line": {
          "color": "#1f77b4"
         },
         "mode": "lines+markers",
         "name": "Train",
         "showlegend": false,
         "type": "scatter",
         "x": [
          "1951-08-01T00:00:00",
          "1951-09-01T00:00:00"
         ],
         "y": [
          0,
          0
         ]
        },
        {
         "line": {
          "color": "#1f77b4"
         },
         "mode": "lines+markers",
         "name": "Train",
         "showlegend": false,
         "type": "scatter",
         "x": [
          "1951-09-01T00:00:00",
          "1951-10-01T00:00:00"
         ],
         "y": [
          0,
          0
         ]
        },
        {
         "line": {
          "color": "#1f77b4"
         },
         "mode": "lines+markers",
         "name": "Train",
         "showlegend": false,
         "type": "scatter",
         "x": [
          "1951-10-01T00:00:00",
          "1951-11-01T00:00:00"
         ],
         "y": [
          0,
          0
         ]
        },
        {
         "line": {
          "color": "#1f77b4"
         },
         "mode": "lines+markers",
         "name": "Train",
         "showlegend": false,
         "type": "scatter",
         "x": [
          "1951-11-01T00:00:00",
          "1951-12-01T00:00:00"
         ],
         "y": [
          0,
          0
         ]
        },
        {
         "line": {
          "color": "#1f77b4"
         },
         "mode": "lines+markers",
         "name": "Train",
         "showlegend": false,
         "type": "scatter",
         "x": [
          "1951-12-01T00:00:00",
          "1952-01-01T00:00:00"
         ],
         "y": [
          0,
          0
         ]
        },
        {
         "line": {
          "color": "#1f77b4"
         },
         "mode": "lines+markers",
         "name": "Train",
         "showlegend": false,
         "type": "scatter",
         "x": [
          "1952-01-01T00:00:00",
          "1952-02-01T00:00:00"
         ],
         "y": [
          0,
          0
         ]
        },
        {
         "line": {
          "color": "#1f77b4"
         },
         "mode": "lines+markers",
         "name": "Train",
         "showlegend": false,
         "type": "scatter",
         "x": [
          "1952-02-01T00:00:00",
          "1952-03-01T00:00:00"
         ],
         "y": [
          0,
          0
         ]
        },
        {
         "line": {
          "color": "#1f77b4"
         },
         "mode": "lines+markers",
         "name": "Train",
         "showlegend": false,
         "type": "scatter",
         "x": [
          "1952-03-01T00:00:00",
          "1952-04-01T00:00:00"
         ],
         "y": [
          0,
          0
         ]
        },
        {
         "line": {
          "color": "#1f77b4"
         },
         "mode": "lines+markers",
         "name": "Train",
         "showlegend": false,
         "type": "scatter",
         "x": [
          "1952-04-01T00:00:00",
          "1952-05-01T00:00:00"
         ],
         "y": [
          0,
          0
         ]
        },
        {
         "line": {
          "color": "#1f77b4"
         },
         "mode": "lines+markers",
         "name": "Train",
         "showlegend": false,
         "type": "scatter",
         "x": [
          "1952-05-01T00:00:00",
          "1952-06-01T00:00:00"
         ],
         "y": [
          0,
          0
         ]
        },
        {
         "line": {
          "color": "#1f77b4"
         },
         "mode": "lines+markers",
         "name": "Train",
         "showlegend": false,
         "type": "scatter",
         "x": [
          "1952-06-01T00:00:00",
          "1952-07-01T00:00:00"
         ],
         "y": [
          0,
          0
         ]
        },
        {
         "line": {
          "color": "#1f77b4"
         },
         "mode": "lines+markers",
         "name": "Train",
         "showlegend": false,
         "type": "scatter",
         "x": [
          "1952-07-01T00:00:00",
          "1952-08-01T00:00:00"
         ],
         "y": [
          0,
          0
         ]
        },
        {
         "line": {
          "color": "#1f77b4"
         },
         "mode": "lines+markers",
         "name": "Train",
         "showlegend": false,
         "type": "scatter",
         "x": [
          "1952-08-01T00:00:00",
          "1952-09-01T00:00:00"
         ],
         "y": [
          0,
          0
         ]
        },
        {
         "line": {
          "color": "#1f77b4"
         },
         "mode": "lines+markers",
         "name": "Train",
         "showlegend": false,
         "type": "scatter",
         "x": [
          "1952-09-01T00:00:00",
          "1952-10-01T00:00:00"
         ],
         "y": [
          0,
          0
         ]
        },
        {
         "line": {
          "color": "#1f77b4"
         },
         "mode": "lines+markers",
         "name": "Train",
         "showlegend": false,
         "type": "scatter",
         "x": [
          "1952-10-01T00:00:00",
          "1952-11-01T00:00:00"
         ],
         "y": [
          0,
          0
         ]
        },
        {
         "line": {
          "color": "#1f77b4"
         },
         "mode": "lines+markers",
         "name": "Train",
         "showlegend": false,
         "type": "scatter",
         "x": [
          "1952-11-01T00:00:00",
          "1952-12-01T00:00:00"
         ],
         "y": [
          0,
          0
         ]
        },
        {
         "line": {
          "color": "#1f77b4"
         },
         "mode": "lines+markers",
         "name": "Train",
         "showlegend": false,
         "type": "scatter",
         "x": [
          "1952-12-01T00:00:00",
          "1953-01-01T00:00:00"
         ],
         "y": [
          0,
          0
         ]
        },
        {
         "line": {
          "color": "#1f77b4"
         },
         "mode": "lines+markers",
         "name": "Train",
         "showlegend": false,
         "type": "scatter",
         "x": [
          "1953-01-01T00:00:00",
          "1953-02-01T00:00:00"
         ],
         "y": [
          0,
          0
         ]
        },
        {
         "line": {
          "color": "#1f77b4"
         },
         "mode": "lines+markers",
         "name": "Train",
         "showlegend": false,
         "type": "scatter",
         "x": [
          "1953-02-01T00:00:00",
          "1953-03-01T00:00:00"
         ],
         "y": [
          0,
          0
         ]
        },
        {
         "line": {
          "color": "#1f77b4"
         },
         "mode": "lines+markers",
         "name": "Train",
         "showlegend": false,
         "type": "scatter",
         "x": [
          "1953-03-01T00:00:00",
          "1953-04-01T00:00:00"
         ],
         "y": [
          0,
          0
         ]
        },
        {
         "line": {
          "color": "#1f77b4"
         },
         "mode": "lines+markers",
         "name": "Train",
         "showlegend": false,
         "type": "scatter",
         "x": [
          "1953-04-01T00:00:00",
          "1953-05-01T00:00:00"
         ],
         "y": [
          0,
          0
         ]
        },
        {
         "line": {
          "color": "#1f77b4"
         },
         "mode": "lines+markers",
         "name": "Train",
         "showlegend": false,
         "type": "scatter",
         "x": [
          "1953-05-01T00:00:00",
          "1953-06-01T00:00:00"
         ],
         "y": [
          0,
          0
         ]
        },
        {
         "line": {
          "color": "#1f77b4"
         },
         "mode": "lines+markers",
         "name": "Train",
         "showlegend": false,
         "type": "scatter",
         "x": [
          "1953-06-01T00:00:00",
          "1953-07-01T00:00:00"
         ],
         "y": [
          0,
          0
         ]
        },
        {
         "line": {
          "color": "#1f77b4"
         },
         "mode": "lines+markers",
         "name": "Train",
         "showlegend": false,
         "type": "scatter",
         "x": [
          "1953-07-01T00:00:00",
          "1953-08-01T00:00:00"
         ],
         "y": [
          0,
          0
         ]
        },
        {
         "line": {
          "color": "#1f77b4"
         },
         "mode": "lines+markers",
         "name": "Train",
         "showlegend": false,
         "type": "scatter",
         "x": [
          "1953-08-01T00:00:00",
          "1953-09-01T00:00:00"
         ],
         "y": [
          0,
          0
         ]
        },
        {
         "line": {
          "color": "#1f77b4"
         },
         "mode": "lines+markers",
         "name": "Train",
         "showlegend": false,
         "type": "scatter",
         "x": [
          "1953-09-01T00:00:00",
          "1953-10-01T00:00:00"
         ],
         "y": [
          0,
          0
         ]
        },
        {
         "line": {
          "color": "#1f77b4"
         },
         "mode": "lines+markers",
         "name": "Train",
         "showlegend": false,
         "type": "scatter",
         "x": [
          "1953-10-01T00:00:00",
          "1953-11-01T00:00:00"
         ],
         "y": [
          0,
          0
         ]
        },
        {
         "line": {
          "color": "#1f77b4"
         },
         "mode": "lines+markers",
         "name": "Train",
         "showlegend": false,
         "type": "scatter",
         "x": [
          "1953-11-01T00:00:00",
          "1953-12-01T00:00:00"
         ],
         "y": [
          0,
          0
         ]
        },
        {
         "line": {
          "color": "#1f77b4"
         },
         "mode": "lines+markers",
         "name": "Train",
         "showlegend": false,
         "type": "scatter",
         "x": [
          "1953-12-01T00:00:00",
          "1954-01-01T00:00:00"
         ],
         "y": [
          0,
          0
         ]
        },
        {
         "line": {
          "color": "#1f77b4"
         },
         "mode": "lines+markers",
         "name": "Train",
         "showlegend": false,
         "type": "scatter",
         "x": [
          "1954-01-01T00:00:00",
          "1954-02-01T00:00:00"
         ],
         "y": [
          0,
          0
         ]
        },
        {
         "line": {
          "color": "#1f77b4"
         },
         "mode": "lines+markers",
         "name": "Train",
         "showlegend": false,
         "type": "scatter",
         "x": [
          "1954-02-01T00:00:00",
          "1954-03-01T00:00:00"
         ],
         "y": [
          0,
          0
         ]
        },
        {
         "line": {
          "color": "#1f77b4"
         },
         "mode": "lines+markers",
         "name": "Train",
         "showlegend": false,
         "type": "scatter",
         "x": [
          "1954-03-01T00:00:00",
          "1954-04-01T00:00:00"
         ],
         "y": [
          0,
          0
         ]
        },
        {
         "line": {
          "color": "#1f77b4"
         },
         "mode": "lines+markers",
         "name": "Train",
         "showlegend": false,
         "type": "scatter",
         "x": [
          "1954-04-01T00:00:00",
          "1954-05-01T00:00:00"
         ],
         "y": [
          0,
          0
         ]
        },
        {
         "line": {
          "color": "#1f77b4"
         },
         "mode": "lines+markers",
         "name": "Train",
         "showlegend": false,
         "type": "scatter",
         "x": [
          "1954-05-01T00:00:00",
          "1954-06-01T00:00:00"
         ],
         "y": [
          0,
          0
         ]
        },
        {
         "line": {
          "color": "#1f77b4"
         },
         "mode": "lines+markers",
         "name": "Train",
         "showlegend": false,
         "type": "scatter",
         "x": [
          "1954-06-01T00:00:00",
          "1954-07-01T00:00:00"
         ],
         "y": [
          0,
          0
         ]
        },
        {
         "line": {
          "color": "#1f77b4"
         },
         "mode": "lines+markers",
         "name": "Train",
         "showlegend": false,
         "type": "scatter",
         "x": [
          "1954-07-01T00:00:00",
          "1954-08-01T00:00:00"
         ],
         "y": [
          0,
          0
         ]
        },
        {
         "line": {
          "color": "#1f77b4"
         },
         "mode": "lines+markers",
         "name": "Train",
         "showlegend": false,
         "type": "scatter",
         "x": [
          "1954-08-01T00:00:00",
          "1954-09-01T00:00:00"
         ],
         "y": [
          0,
          0
         ]
        },
        {
         "line": {
          "color": "#1f77b4"
         },
         "mode": "lines+markers",
         "name": "Train",
         "showlegend": false,
         "type": "scatter",
         "x": [
          "1954-09-01T00:00:00",
          "1954-10-01T00:00:00"
         ],
         "y": [
          0,
          0
         ]
        },
        {
         "line": {
          "color": "#1f77b4"
         },
         "mode": "lines+markers",
         "name": "Train",
         "showlegend": false,
         "type": "scatter",
         "x": [
          "1954-10-01T00:00:00",
          "1954-11-01T00:00:00"
         ],
         "y": [
          0,
          0
         ]
        },
        {
         "line": {
          "color": "#1f77b4"
         },
         "mode": "lines+markers",
         "name": "Train",
         "showlegend": false,
         "type": "scatter",
         "x": [
          "1954-11-01T00:00:00",
          "1954-12-01T00:00:00"
         ],
         "y": [
          0,
          0
         ]
        },
        {
         "line": {
          "color": "#1f77b4"
         },
         "mode": "lines+markers",
         "name": "Train",
         "showlegend": false,
         "type": "scatter",
         "x": [
          "1954-12-01T00:00:00",
          "1955-01-01T00:00:00"
         ],
         "y": [
          0,
          0
         ]
        },
        {
         "line": {
          "color": "#1f77b4"
         },
         "mode": "lines+markers",
         "name": "Train",
         "showlegend": false,
         "type": "scatter",
         "x": [
          "1955-01-01T00:00:00",
          "1955-02-01T00:00:00"
         ],
         "y": [
          0,
          0
         ]
        },
        {
         "line": {
          "color": "#1f77b4"
         },
         "mode": "lines+markers",
         "name": "Train",
         "showlegend": false,
         "type": "scatter",
         "x": [
          "1955-02-01T00:00:00",
          "1955-03-01T00:00:00"
         ],
         "y": [
          0,
          0
         ]
        },
        {
         "line": {
          "color": "#1f77b4"
         },
         "mode": "lines+markers",
         "name": "Train",
         "showlegend": false,
         "type": "scatter",
         "x": [
          "1955-03-01T00:00:00",
          "1955-04-01T00:00:00"
         ],
         "y": [
          0,
          0
         ]
        },
        {
         "line": {
          "color": "#1f77b4"
         },
         "mode": "lines+markers",
         "name": "Train",
         "showlegend": false,
         "type": "scatter",
         "x": [
          "1955-04-01T00:00:00",
          "1955-05-01T00:00:00"
         ],
         "y": [
          0,
          0
         ]
        },
        {
         "line": {
          "color": "#1f77b4"
         },
         "mode": "lines+markers",
         "name": "Train",
         "showlegend": false,
         "type": "scatter",
         "x": [
          "1955-05-01T00:00:00",
          "1955-06-01T00:00:00"
         ],
         "y": [
          0,
          0
         ]
        },
        {
         "line": {
          "color": "#1f77b4"
         },
         "mode": "lines+markers",
         "name": "Train",
         "showlegend": false,
         "type": "scatter",
         "x": [
          "1955-06-01T00:00:00",
          "1955-07-01T00:00:00"
         ],
         "y": [
          0,
          0
         ]
        },
        {
         "line": {
          "color": "#1f77b4"
         },
         "mode": "lines+markers",
         "name": "Train",
         "showlegend": false,
         "type": "scatter",
         "x": [
          "1955-07-01T00:00:00",
          "1955-08-01T00:00:00"
         ],
         "y": [
          0,
          0
         ]
        },
        {
         "line": {
          "color": "#1f77b4"
         },
         "mode": "lines+markers",
         "name": "Train",
         "showlegend": false,
         "type": "scatter",
         "x": [
          "1955-08-01T00:00:00",
          "1955-09-01T00:00:00"
         ],
         "y": [
          0,
          0
         ]
        },
        {
         "line": {
          "color": "#1f77b4"
         },
         "mode": "lines+markers",
         "name": "Train",
         "showlegend": false,
         "type": "scatter",
         "x": [
          "1955-09-01T00:00:00",
          "1955-10-01T00:00:00"
         ],
         "y": [
          0,
          0
         ]
        },
        {
         "line": {
          "color": "#1f77b4"
         },
         "mode": "lines+markers",
         "name": "Train",
         "showlegend": false,
         "type": "scatter",
         "x": [
          "1955-10-01T00:00:00",
          "1955-11-01T00:00:00"
         ],
         "y": [
          0,
          0
         ]
        },
        {
         "line": {
          "color": "#1f77b4"
         },
         "mode": "lines+markers",
         "name": "Train",
         "showlegend": false,
         "type": "scatter",
         "x": [
          "1955-11-01T00:00:00",
          "1955-12-01T00:00:00"
         ],
         "y": [
          0,
          0
         ]
        },
        {
         "line": {
          "color": "#1f77b4"
         },
         "mode": "lines+markers",
         "name": "Train",
         "showlegend": false,
         "type": "scatter",
         "x": [
          "1955-12-01T00:00:00",
          "1956-01-01T00:00:00"
         ],
         "y": [
          0,
          0
         ]
        },
        {
         "line": {
          "color": "#1f77b4"
         },
         "mode": "lines+markers",
         "name": "Train",
         "showlegend": false,
         "type": "scatter",
         "x": [
          "1956-01-01T00:00:00",
          "1956-02-01T00:00:00"
         ],
         "y": [
          0,
          0
         ]
        },
        {
         "line": {
          "color": "#1f77b4"
         },
         "mode": "lines+markers",
         "name": "Train",
         "showlegend": false,
         "type": "scatter",
         "x": [
          "1956-02-01T00:00:00",
          "1956-03-01T00:00:00"
         ],
         "y": [
          0,
          0
         ]
        },
        {
         "line": {
          "color": "#1f77b4"
         },
         "mode": "lines+markers",
         "name": "Train",
         "showlegend": false,
         "type": "scatter",
         "x": [
          "1956-03-01T00:00:00",
          "1956-04-01T00:00:00"
         ],
         "y": [
          0,
          0
         ]
        },
        {
         "line": {
          "color": "#1f77b4"
         },
         "mode": "lines+markers",
         "name": "Train",
         "showlegend": false,
         "type": "scatter",
         "x": [
          "1956-04-01T00:00:00",
          "1956-05-01T00:00:00"
         ],
         "y": [
          0,
          0
         ]
        },
        {
         "line": {
          "color": "#1f77b4"
         },
         "mode": "lines+markers",
         "name": "Train",
         "showlegend": false,
         "type": "scatter",
         "x": [
          "1956-05-01T00:00:00",
          "1956-06-01T00:00:00"
         ],
         "y": [
          0,
          0
         ]
        },
        {
         "line": {
          "color": "#1f77b4"
         },
         "mode": "lines+markers",
         "name": "Train",
         "showlegend": false,
         "type": "scatter",
         "x": [
          "1956-06-01T00:00:00",
          "1956-07-01T00:00:00"
         ],
         "y": [
          0,
          0
         ]
        },
        {
         "line": {
          "color": "#1f77b4"
         },
         "mode": "lines+markers",
         "name": "Train",
         "showlegend": false,
         "type": "scatter",
         "x": [
          "1956-07-01T00:00:00",
          "1956-08-01T00:00:00"
         ],
         "y": [
          0,
          0
         ]
        },
        {
         "line": {
          "color": "#1f77b4"
         },
         "mode": "lines+markers",
         "name": "Train",
         "showlegend": false,
         "type": "scatter",
         "x": [
          "1956-08-01T00:00:00",
          "1956-09-01T00:00:00"
         ],
         "y": [
          0,
          0
         ]
        },
        {
         "line": {
          "color": "#1f77b4"
         },
         "mode": "lines+markers",
         "name": "Train",
         "showlegend": false,
         "type": "scatter",
         "x": [
          "1956-09-01T00:00:00",
          "1956-10-01T00:00:00"
         ],
         "y": [
          0,
          0
         ]
        },
        {
         "line": {
          "color": "#1f77b4"
         },
         "mode": "lines+markers",
         "name": "Train",
         "showlegend": false,
         "type": "scatter",
         "x": [
          "1956-10-01T00:00:00",
          "1956-11-01T00:00:00"
         ],
         "y": [
          0,
          0
         ]
        },
        {
         "line": {
          "color": "#1f77b4"
         },
         "mode": "lines+markers",
         "name": "Train",
         "showlegend": false,
         "type": "scatter",
         "x": [
          "1956-11-01T00:00:00",
          "1956-12-01T00:00:00"
         ],
         "y": [
          0,
          0
         ]
        },
        {
         "line": {
          "color": "#DE970B"
         },
         "mode": "lines+markers",
         "name": "ForecastHorizon",
         "showlegend": false,
         "type": "scatter",
         "x": [
          "1957-01-01T00:00:00",
          "1957-02-01T00:00:00"
         ],
         "y": [
          0,
          0
         ]
        },
        {
         "line": {
          "color": "#DE970B"
         },
         "mode": "lines+markers",
         "name": "ForecastHorizon",
         "showlegend": false,
         "type": "scatter",
         "x": [
          "1957-02-01T00:00:00",
          "1957-03-01T00:00:00"
         ],
         "y": [
          0,
          0
         ]
        },
        {
         "line": {
          "color": "#DE970B"
         },
         "mode": "lines+markers",
         "name": "ForecastHorizon",
         "showlegend": false,
         "type": "scatter",
         "x": [
          "1957-03-01T00:00:00",
          "1957-04-01T00:00:00"
         ],
         "y": [
          0,
          0
         ]
        },
        {
         "line": {
          "color": "#DE970B"
         },
         "mode": "lines+markers",
         "name": "ForecastHorizon",
         "showlegend": false,
         "type": "scatter",
         "x": [
          "1957-04-01T00:00:00",
          "1957-05-01T00:00:00"
         ],
         "y": [
          0,
          0
         ]
        },
        {
         "line": {
          "color": "#DE970B"
         },
         "mode": "lines+markers",
         "name": "ForecastHorizon",
         "showlegend": false,
         "type": "scatter",
         "x": [
          "1957-05-01T00:00:00",
          "1957-06-01T00:00:00"
         ],
         "y": [
          0,
          0
         ]
        },
        {
         "line": {
          "color": "#DE970B"
         },
         "mode": "lines+markers",
         "name": "ForecastHorizon",
         "showlegend": false,
         "type": "scatter",
         "x": [
          "1957-06-01T00:00:00",
          "1957-07-01T00:00:00"
         ],
         "y": [
          0,
          0
         ]
        },
        {
         "line": {
          "color": "#DE970B"
         },
         "mode": "lines+markers",
         "name": "ForecastHorizon",
         "showlegend": false,
         "type": "scatter",
         "x": [
          "1957-07-01T00:00:00",
          "1957-08-01T00:00:00"
         ],
         "y": [
          0,
          0
         ]
        },
        {
         "line": {
          "color": "#DE970B"
         },
         "mode": "lines+markers",
         "name": "ForecastHorizon",
         "showlegend": false,
         "type": "scatter",
         "x": [
          "1957-08-01T00:00:00",
          "1957-09-01T00:00:00"
         ],
         "y": [
          0,
          0
         ]
        },
        {
         "line": {
          "color": "#DE970B"
         },
         "mode": "lines+markers",
         "name": "ForecastHorizon",
         "showlegend": false,
         "type": "scatter",
         "x": [
          "1957-09-01T00:00:00",
          "1957-10-01T00:00:00"
         ],
         "y": [
          0,
          0
         ]
        },
        {
         "line": {
          "color": "#DE970B"
         },
         "mode": "lines+markers",
         "name": "ForecastHorizon",
         "showlegend": false,
         "type": "scatter",
         "x": [
          "1957-10-01T00:00:00",
          "1957-11-01T00:00:00"
         ],
         "y": [
          0,
          0
         ]
        },
        {
         "line": {
          "color": "#DE970B"
         },
         "mode": "lines+markers",
         "name": "ForecastHorizon",
         "showlegend": false,
         "type": "scatter",
         "x": [
          "1957-11-01T00:00:00",
          "1957-12-01T00:00:00"
         ],
         "y": [
          0,
          0
         ]
        }
       ],
       "layout": {
        "showlegend": true,
        "template": {
         "data": {
          "bar": [
           {
            "error_x": {
             "color": "rgb(36,36,36)"
            },
            "error_y": {
             "color": "rgb(36,36,36)"
            },
            "marker": {
             "line": {
              "color": "white",
              "width": 0.5
             },
             "pattern": {
              "fillmode": "overlay",
              "size": 10,
              "solidity": 0.2
             }
            },
            "type": "bar"
           }
          ],
          "barpolar": [
           {
            "marker": {
             "line": {
              "color": "white",
              "width": 0.5
             },
             "pattern": {
              "fillmode": "overlay",
              "size": 10,
              "solidity": 0.2
             }
            },
            "type": "barpolar"
           }
          ],
          "carpet": [
           {
            "aaxis": {
             "endlinecolor": "rgb(36,36,36)",
             "gridcolor": "white",
             "linecolor": "white",
             "minorgridcolor": "white",
             "startlinecolor": "rgb(36,36,36)"
            },
            "baxis": {
             "endlinecolor": "rgb(36,36,36)",
             "gridcolor": "white",
             "linecolor": "white",
             "minorgridcolor": "white",
             "startlinecolor": "rgb(36,36,36)"
            },
            "type": "carpet"
           }
          ],
          "choropleth": [
           {
            "colorbar": {
             "outlinewidth": 1,
             "tickcolor": "rgb(36,36,36)",
             "ticks": "outside"
            },
            "type": "choropleth"
           }
          ],
          "contour": [
           {
            "colorbar": {
             "outlinewidth": 1,
             "tickcolor": "rgb(36,36,36)",
             "ticks": "outside"
            },
            "colorscale": [
             [
              0,
              "#440154"
             ],
             [
              0.1111111111111111,
              "#482878"
             ],
             [
              0.2222222222222222,
              "#3e4989"
             ],
             [
              0.3333333333333333,
              "#31688e"
             ],
             [
              0.4444444444444444,
              "#26828e"
             ],
             [
              0.5555555555555556,
              "#1f9e89"
             ],
             [
              0.6666666666666666,
              "#35b779"
             ],
             [
              0.7777777777777778,
              "#6ece58"
             ],
             [
              0.8888888888888888,
              "#b5de2b"
             ],
             [
              1,
              "#fde725"
             ]
            ],
            "type": "contour"
           }
          ],
          "contourcarpet": [
           {
            "colorbar": {
             "outlinewidth": 1,
             "tickcolor": "rgb(36,36,36)",
             "ticks": "outside"
            },
            "type": "contourcarpet"
           }
          ],
          "heatmap": [
           {
            "colorbar": {
             "outlinewidth": 1,
             "tickcolor": "rgb(36,36,36)",
             "ticks": "outside"
            },
            "colorscale": [
             [
              0,
              "#440154"
             ],
             [
              0.1111111111111111,
              "#482878"
             ],
             [
              0.2222222222222222,
              "#3e4989"
             ],
             [
              0.3333333333333333,
              "#31688e"
             ],
             [
              0.4444444444444444,
              "#26828e"
             ],
             [
              0.5555555555555556,
              "#1f9e89"
             ],
             [
              0.6666666666666666,
              "#35b779"
             ],
             [
              0.7777777777777778,
              "#6ece58"
             ],
             [
              0.8888888888888888,
              "#b5de2b"
             ],
             [
              1,
              "#fde725"
             ]
            ],
            "type": "heatmap"
           }
          ],
          "heatmapgl": [
           {
            "colorbar": {
             "outlinewidth": 1,
             "tickcolor": "rgb(36,36,36)",
             "ticks": "outside"
            },
            "colorscale": [
             [
              0,
              "#440154"
             ],
             [
              0.1111111111111111,
              "#482878"
             ],
             [
              0.2222222222222222,
              "#3e4989"
             ],
             [
              0.3333333333333333,
              "#31688e"
             ],
             [
              0.4444444444444444,
              "#26828e"
             ],
             [
              0.5555555555555556,
              "#1f9e89"
             ],
             [
              0.6666666666666666,
              "#35b779"
             ],
             [
              0.7777777777777778,
              "#6ece58"
             ],
             [
              0.8888888888888888,
              "#b5de2b"
             ],
             [
              1,
              "#fde725"
             ]
            ],
            "type": "heatmapgl"
           }
          ],
          "histogram": [
           {
            "marker": {
             "line": {
              "color": "white",
              "width": 0.6
             }
            },
            "type": "histogram"
           }
          ],
          "histogram2d": [
           {
            "colorbar": {
             "outlinewidth": 1,
             "tickcolor": "rgb(36,36,36)",
             "ticks": "outside"
            },
            "colorscale": [
             [
              0,
              "#440154"
             ],
             [
              0.1111111111111111,
              "#482878"
             ],
             [
              0.2222222222222222,
              "#3e4989"
             ],
             [
              0.3333333333333333,
              "#31688e"
             ],
             [
              0.4444444444444444,
              "#26828e"
             ],
             [
              0.5555555555555556,
              "#1f9e89"
             ],
             [
              0.6666666666666666,
              "#35b779"
             ],
             [
              0.7777777777777778,
              "#6ece58"
             ],
             [
              0.8888888888888888,
              "#b5de2b"
             ],
             [
              1,
              "#fde725"
             ]
            ],
            "type": "histogram2d"
           }
          ],
          "histogram2dcontour": [
           {
            "colorbar": {
             "outlinewidth": 1,
             "tickcolor": "rgb(36,36,36)",
             "ticks": "outside"
            },
            "colorscale": [
             [
              0,
              "#440154"
             ],
             [
              0.1111111111111111,
              "#482878"
             ],
             [
              0.2222222222222222,
              "#3e4989"
             ],
             [
              0.3333333333333333,
              "#31688e"
             ],
             [
              0.4444444444444444,
              "#26828e"
             ],
             [
              0.5555555555555556,
              "#1f9e89"
             ],
             [
              0.6666666666666666,
              "#35b779"
             ],
             [
              0.7777777777777778,
              "#6ece58"
             ],
             [
              0.8888888888888888,
              "#b5de2b"
             ],
             [
              1,
              "#fde725"
             ]
            ],
            "type": "histogram2dcontour"
           }
          ],
          "mesh3d": [
           {
            "colorbar": {
             "outlinewidth": 1,
             "tickcolor": "rgb(36,36,36)",
             "ticks": "outside"
            },
            "type": "mesh3d"
           }
          ],
          "parcoords": [
           {
            "line": {
             "colorbar": {
              "outlinewidth": 1,
              "tickcolor": "rgb(36,36,36)",
              "ticks": "outside"
             }
            },
            "type": "parcoords"
           }
          ],
          "pie": [
           {
            "automargin": true,
            "type": "pie"
           }
          ],
          "scatter": [
           {
            "marker": {
             "colorbar": {
              "outlinewidth": 1,
              "tickcolor": "rgb(36,36,36)",
              "ticks": "outside"
             }
            },
            "type": "scatter"
           }
          ],
          "scatter3d": [
           {
            "line": {
             "colorbar": {
              "outlinewidth": 1,
              "tickcolor": "rgb(36,36,36)",
              "ticks": "outside"
             }
            },
            "marker": {
             "colorbar": {
              "outlinewidth": 1,
              "tickcolor": "rgb(36,36,36)",
              "ticks": "outside"
             }
            },
            "type": "scatter3d"
           }
          ],
          "scattercarpet": [
           {
            "marker": {
             "colorbar": {
              "outlinewidth": 1,
              "tickcolor": "rgb(36,36,36)",
              "ticks": "outside"
             }
            },
            "type": "scattercarpet"
           }
          ],
          "scattergeo": [
           {
            "marker": {
             "colorbar": {
              "outlinewidth": 1,
              "tickcolor": "rgb(36,36,36)",
              "ticks": "outside"
             }
            },
            "type": "scattergeo"
           }
          ],
          "scattergl": [
           {
            "marker": {
             "colorbar": {
              "outlinewidth": 1,
              "tickcolor": "rgb(36,36,36)",
              "ticks": "outside"
             }
            },
            "type": "scattergl"
           }
          ],
          "scattermapbox": [
           {
            "marker": {
             "colorbar": {
              "outlinewidth": 1,
              "tickcolor": "rgb(36,36,36)",
              "ticks": "outside"
             }
            },
            "type": "scattermapbox"
           }
          ],
          "scatterpolar": [
           {
            "marker": {
             "colorbar": {
              "outlinewidth": 1,
              "tickcolor": "rgb(36,36,36)",
              "ticks": "outside"
             }
            },
            "type": "scatterpolar"
           }
          ],
          "scatterpolargl": [
           {
            "marker": {
             "colorbar": {
              "outlinewidth": 1,
              "tickcolor": "rgb(36,36,36)",
              "ticks": "outside"
             }
            },
            "type": "scatterpolargl"
           }
          ],
          "scatterternary": [
           {
            "marker": {
             "colorbar": {
              "outlinewidth": 1,
              "tickcolor": "rgb(36,36,36)",
              "ticks": "outside"
             }
            },
            "type": "scatterternary"
           }
          ],
          "surface": [
           {
            "colorbar": {
             "outlinewidth": 1,
             "tickcolor": "rgb(36,36,36)",
             "ticks": "outside"
            },
            "colorscale": [
             [
              0,
              "#440154"
             ],
             [
              0.1111111111111111,
              "#482878"
             ],
             [
              0.2222222222222222,
              "#3e4989"
             ],
             [
              0.3333333333333333,
              "#31688e"
             ],
             [
              0.4444444444444444,
              "#26828e"
             ],
             [
              0.5555555555555556,
              "#1f9e89"
             ],
             [
              0.6666666666666666,
              "#35b779"
             ],
             [
              0.7777777777777778,
              "#6ece58"
             ],
             [
              0.8888888888888888,
              "#b5de2b"
             ],
             [
              1,
              "#fde725"
             ]
            ],
            "type": "surface"
           }
          ],
          "table": [
           {
            "cells": {
             "fill": {
              "color": "rgb(237,237,237)"
             },
             "line": {
              "color": "white"
             }
            },
            "header": {
             "fill": {
              "color": "rgb(217,217,217)"
             },
             "line": {
              "color": "white"
             }
            },
            "type": "table"
           }
          ]
         },
         "layout": {
          "annotationdefaults": {
           "arrowhead": 0,
           "arrowwidth": 1
          },
          "autotypenumbers": "strict",
          "coloraxis": {
           "colorbar": {
            "outlinewidth": 1,
            "tickcolor": "rgb(36,36,36)",
            "ticks": "outside"
           }
          },
          "colorscale": {
           "diverging": [
            [
             0,
             "rgb(103,0,31)"
            ],
            [
             0.1,
             "rgb(178,24,43)"
            ],
            [
             0.2,
             "rgb(214,96,77)"
            ],
            [
             0.3,
             "rgb(244,165,130)"
            ],
            [
             0.4,
             "rgb(253,219,199)"
            ],
            [
             0.5,
             "rgb(247,247,247)"
            ],
            [
             0.6,
             "rgb(209,229,240)"
            ],
            [
             0.7,
             "rgb(146,197,222)"
            ],
            [
             0.8,
             "rgb(67,147,195)"
            ],
            [
             0.9,
             "rgb(33,102,172)"
            ],
            [
             1,
             "rgb(5,48,97)"
            ]
           ],
           "sequential": [
            [
             0,
             "#440154"
            ],
            [
             0.1111111111111111,
             "#482878"
            ],
            [
             0.2222222222222222,
             "#3e4989"
            ],
            [
             0.3333333333333333,
             "#31688e"
            ],
            [
             0.4444444444444444,
             "#26828e"
            ],
            [
             0.5555555555555556,
             "#1f9e89"
            ],
            [
             0.6666666666666666,
             "#35b779"
            ],
            [
             0.7777777777777778,
             "#6ece58"
            ],
            [
             0.8888888888888888,
             "#b5de2b"
            ],
            [
             1,
             "#fde725"
            ]
           ],
           "sequentialminus": [
            [
             0,
             "#440154"
            ],
            [
             0.1111111111111111,
             "#482878"
            ],
            [
             0.2222222222222222,
             "#3e4989"
            ],
            [
             0.3333333333333333,
             "#31688e"
            ],
            [
             0.4444444444444444,
             "#26828e"
            ],
            [
             0.5555555555555556,
             "#1f9e89"
            ],
            [
             0.6666666666666666,
             "#35b779"
            ],
            [
             0.7777777777777778,
             "#6ece58"
            ],
            [
             0.8888888888888888,
             "#b5de2b"
            ],
            [
             1,
             "#fde725"
            ]
           ]
          },
          "colorway": [
           "#1F77B4",
           "#FF7F0E",
           "#2CA02C",
           "#D62728",
           "#9467BD",
           "#8C564B",
           "#E377C2",
           "#7F7F7F",
           "#BCBD22",
           "#17BECF"
          ],
          "font": {
           "color": "rgb(36,36,36)"
          },
          "geo": {
           "bgcolor": "white",
           "lakecolor": "white",
           "landcolor": "white",
           "showlakes": true,
           "showland": true,
           "subunitcolor": "white"
          },
          "hoverlabel": {
           "align": "left"
          },
          "hovermode": "closest",
          "mapbox": {
           "style": "light"
          },
          "paper_bgcolor": "white",
          "plot_bgcolor": "white",
          "polar": {
           "angularaxis": {
            "gridcolor": "rgb(232,232,232)",
            "linecolor": "rgb(36,36,36)",
            "showgrid": false,
            "showline": true,
            "ticks": "outside"
           },
           "bgcolor": "white",
           "radialaxis": {
            "gridcolor": "rgb(232,232,232)",
            "linecolor": "rgb(36,36,36)",
            "showgrid": false,
            "showline": true,
            "ticks": "outside"
           }
          },
          "scene": {
           "xaxis": {
            "backgroundcolor": "white",
            "gridcolor": "rgb(232,232,232)",
            "gridwidth": 2,
            "linecolor": "rgb(36,36,36)",
            "showbackground": true,
            "showgrid": false,
            "showline": true,
            "ticks": "outside",
            "zeroline": false,
            "zerolinecolor": "rgb(36,36,36)"
           },
           "yaxis": {
            "backgroundcolor": "white",
            "gridcolor": "rgb(232,232,232)",
            "gridwidth": 2,
            "linecolor": "rgb(36,36,36)",
            "showbackground": true,
            "showgrid": false,
            "showline": true,
            "ticks": "outside",
            "zeroline": false,
            "zerolinecolor": "rgb(36,36,36)"
           },
           "zaxis": {
            "backgroundcolor": "white",
            "gridcolor": "rgb(232,232,232)",
            "gridwidth": 2,
            "linecolor": "rgb(36,36,36)",
            "showbackground": true,
            "showgrid": false,
            "showline": true,
            "ticks": "outside",
            "zeroline": false,
            "zerolinecolor": "rgb(36,36,36)"
           }
          },
          "shapedefaults": {
           "fillcolor": "black",
           "line": {
            "width": 0
           },
           "opacity": 0.3
          },
          "ternary": {
           "aaxis": {
            "gridcolor": "rgb(232,232,232)",
            "linecolor": "rgb(36,36,36)",
            "showgrid": false,
            "showline": true,
            "ticks": "outside"
           },
           "baxis": {
            "gridcolor": "rgb(232,232,232)",
            "linecolor": "rgb(36,36,36)",
            "showgrid": false,
            "showline": true,
            "ticks": "outside"
           },
           "bgcolor": "white",
           "caxis": {
            "gridcolor": "rgb(232,232,232)",
            "linecolor": "rgb(36,36,36)",
            "showgrid": false,
            "showline": true,
            "ticks": "outside"
           }
          },
          "title": {
           "x": 0.05
          },
          "xaxis": {
           "automargin": true,
           "gridcolor": "rgb(232,232,232)",
           "linecolor": "rgb(36,36,36)",
           "showgrid": false,
           "showline": true,
           "ticks": "outside",
           "title": {
            "standoff": 15
           },
           "zeroline": false,
           "zerolinecolor": "rgb(36,36,36)"
          },
          "yaxis": {
           "automargin": true,
           "gridcolor": "rgb(232,232,232)",
           "linecolor": "rgb(36,36,36)",
           "showgrid": false,
           "showline": true,
           "ticks": "outside",
           "title": {
            "standoff": 15
           },
           "zeroline": false,
           "zerolinecolor": "rgb(36,36,36)"
          }
         }
        },
        "title": {
         "text": "Train Cross-Validation Splits"
        },
        "xaxis": {
         "title": {
          "text": "Time"
         },
         "zeroline": false
        },
        "yaxis": {
         "autorange": "reversed",
         "title": {
          "text": "Windows"
         }
        }
       }
      }
     },
     "metadata": {}
    }
   ],
   "metadata": {}
  },
  {
   "cell_type": "code",
   "execution_count": 9,
   "source": [
    "# Plot diagnostics\r\n",
    "exp.plot_model(plot=\"diagnostics\")"
   ],
   "outputs": [
    {
     "output_type": "display_data",
     "data": {
      "application/vnd.plotly.v1+json": {
       "config": {
        "plotlyServerURL": "https://plot.ly"
       },
       "data": [
        {
         "marker": {
          "color": "#1f77b4"
         },
         "mode": "markers",
         "name": "Number of airline passengers",
         "showlegend": false,
         "type": "scatter",
         "x": [
          -2.4626069362500904,
          -2.2031212063800023,
          -2.0397090766872172,
          -1.9175159723265773,
          -1.8186455928500607,
          -1.7348994269516758,
          -1.66180577410579,
          -1.5966451543943727,
          -1.537634810648647,
          -1.4835398594012967,
          -1.433467998517102,
          -1.386752514329788,
          -1.3428815089087203,
          -1.30145298240007,
          -1.2621451766228078,
          -1.224696335968185,
          -1.1888905008342245,
          -1.1545472907446928,
          -1.1215143999210206,
          -1.089661981946107,
          -1.0588783783298643,
          -1.0290668213307226,
          -1.0001428550721199,
          -0.9720322943361202,
          -0.9446695913944757,
          -0.9179965163814972,
          -0.8919610813560996,
          -0.8665166557497274,
          -0.8416212335729142,
          -0.8172368220294002,
          -0.7933289280569344,
          -0.7698661244591363,
          -0.7468196811860968,
          -0.7241632502958759,
          -0.7018725954219602,
          -0.6799253583541528,
          -0.6583008567368558,
          -0.6369799079909213,
          -0.6159446754412703,
          -0.5951785333332777,
          -0.574665947985039,
          -0.5543923727793479,
          -0.5343441550710668,
          -0.5145084533898684,
          -0.49487316356862376,
          -0.4754268526345242,
          -0.4561586994717063,
          -0.4370584414072415,
          -0.4181163259921305,
          -0.3993230673495512,
          -0.3806698065474641,
          -0.3621480755244548,
          -0.3437497641586319,
          -0.32546709012126585,
          -0.3072925712011558,
          -0.28921899982361715,
          -0.27123941952052316,
          -0.2533471031357997,
          -0.23553553257487875,
          -0.21779837992739867,
          -0.20012948981040773,
          -0.1825228627948347,
          -0.16497263979141957,
          -0.14747308728387867,
          -0.13001858330708427,
          -0.11260360407663714,
          -0.09522271118359023,
          -0.07787053927435988,
          -0.06054178414117301,
          -0.04323119115281719,
          -0.02593354395909071,
          -0.008643653405227754,
          0.008643653405227754,
          0.02593354395909071,
          0.04323119115281733,
          0.06054178414117315,
          0.07787053927435975,
          0.09522271118359009,
          0.11260360407663714,
          0.13001858330708427,
          0.14747308728387867,
          0.16497263979141957,
          0.18252286279483484,
          0.20012948981040787,
          0.21779837992739853,
          0.2355355325748786,
          0.2533471031357997,
          0.27123941952052316,
          0.28921899982361715,
          0.3072925712011558,
          0.325467090121266,
          0.34374976415863207,
          0.36214807552445466,
          0.3806698065474639,
          0.3993230673495512,
          0.4181163259921305,
          0.4370584414072415,
          0.4561586994717063,
          0.4754268526345244,
          0.49487316356862393,
          0.5145084533898683,
          0.5343441550710666,
          0.5543923727793479,
          0.574665947985039,
          0.5951785333332777,
          0.6159446754412703,
          0.6369799079909214,
          0.6583008567368559,
          0.6799253583541527,
          0.7018725954219602,
          0.7241632502958759,
          0.7468196811860968,
          0.7698661244591363,
          0.7933289280569344,
          0.8172368220294002,
          0.8416212335729143,
          0.8665166557497271,
          0.8919610813560996,
          0.9179965163814972,
          0.9446695913944757,
          0.9720322943361202,
          1.0001428550721199,
          1.0290668213307226,
          1.0588783783298645,
          1.0896619819461069,
          1.1215143999210206,
          1.1545472907446928,
          1.1888905008342237,
          1.224696335968185,
          1.2621451766228082,
          1.30145298240007,
          1.3428815089087207,
          1.3867525143297876,
          1.4334679985171017,
          1.4835398594012967,
          1.5376348106486466,
          1.5966451543943727,
          1.66180577410579,
          1.7348994269516764,
          1.8186455928500607,
          1.9175159723265764,
          2.039709076687217,
          2.2031212063800014,
          2.46260693625009
         ],
         "xaxis": "x4",
         "y": [
          104,
          112,
          114,
          115,
          118,
          118,
          119,
          121,
          125,
          126,
          129,
          132,
          133,
          135,
          135,
          136,
          140,
          141,
          145,
          146,
          148,
          148,
          149,
          150,
          158,
          162,
          163,
          166,
          170,
          170,
          171,
          172,
          172,
          178,
          178,
          180,
          180,
          181,
          183,
          184,
          188,
          191,
          193,
          194,
          196,
          196,
          199,
          199,
          201,
          203,
          204,
          209,
          211,
          218,
          227,
          229,
          229,
          229,
          230,
          233,
          234,
          235,
          235,
          236,
          237,
          237,
          242,
          242,
          243,
          259,
          264,
          264,
          267,
          269,
          270,
          271,
          272,
          274,
          277,
          278,
          284,
          293,
          301,
          302,
          305,
          306,
          306,
          310,
          312,
          313,
          315,
          315,
          317,
          318,
          318,
          336,
          337,
          340,
          342,
          347,
          347,
          348,
          348,
          355,
          355,
          356,
          359,
          360,
          362,
          362,
          363,
          364,
          374,
          390,
          391,
          396,
          404,
          404,
          405,
          405,
          406,
          407,
          413,
          417,
          419,
          420,
          422,
          432,
          435,
          461,
          461,
          463,
          465,
          467,
          472,
          472,
          491,
          505,
          508,
          535,
          548,
          559,
          606,
          622
         ],
         "yaxis": "y4"
        },
        {
         "line": {
          "color": "#3f3f3f"
         },
         "mode": "lines",
         "name": "Number of airline passengers",
         "showlegend": false,
         "type": "scatter",
         "x": [
          -2.4626069362500904,
          -2.2031212063800023,
          -2.0397090766872172,
          -1.9175159723265773,
          -1.8186455928500607,
          -1.7348994269516758,
          -1.66180577410579,
          -1.5966451543943727,
          -1.537634810648647,
          -1.4835398594012967,
          -1.433467998517102,
          -1.386752514329788,
          -1.3428815089087203,
          -1.30145298240007,
          -1.2621451766228078,
          -1.224696335968185,
          -1.1888905008342245,
          -1.1545472907446928,
          -1.1215143999210206,
          -1.089661981946107,
          -1.0588783783298643,
          -1.0290668213307226,
          -1.0001428550721199,
          -0.9720322943361202,
          -0.9446695913944757,
          -0.9179965163814972,
          -0.8919610813560996,
          -0.8665166557497274,
          -0.8416212335729142,
          -0.8172368220294002,
          -0.7933289280569344,
          -0.7698661244591363,
          -0.7468196811860968,
          -0.7241632502958759,
          -0.7018725954219602,
          -0.6799253583541528,
          -0.6583008567368558,
          -0.6369799079909213,
          -0.6159446754412703,
          -0.5951785333332777,
          -0.574665947985039,
          -0.5543923727793479,
          -0.5343441550710668,
          -0.5145084533898684,
          -0.49487316356862376,
          -0.4754268526345242,
          -0.4561586994717063,
          -0.4370584414072415,
          -0.4181163259921305,
          -0.3993230673495512,
          -0.3806698065474641,
          -0.3621480755244548,
          -0.3437497641586319,
          -0.32546709012126585,
          -0.3072925712011558,
          -0.28921899982361715,
          -0.27123941952052316,
          -0.2533471031357997,
          -0.23553553257487875,
          -0.21779837992739867,
          -0.20012948981040773,
          -0.1825228627948347,
          -0.16497263979141957,
          -0.14747308728387867,
          -0.13001858330708427,
          -0.11260360407663714,
          -0.09522271118359023,
          -0.07787053927435988,
          -0.06054178414117301,
          -0.04323119115281719,
          -0.02593354395909071,
          -0.008643653405227754,
          0.008643653405227754,
          0.02593354395909071,
          0.04323119115281733,
          0.06054178414117315,
          0.07787053927435975,
          0.09522271118359009,
          0.11260360407663714,
          0.13001858330708427,
          0.14747308728387867,
          0.16497263979141957,
          0.18252286279483484,
          0.20012948981040787,
          0.21779837992739853,
          0.2355355325748786,
          0.2533471031357997,
          0.27123941952052316,
          0.28921899982361715,
          0.3072925712011558,
          0.325467090121266,
          0.34374976415863207,
          0.36214807552445466,
          0.3806698065474639,
          0.3993230673495512,
          0.4181163259921305,
          0.4370584414072415,
          0.4561586994717063,
          0.4754268526345244,
          0.49487316356862393,
          0.5145084533898683,
          0.5343441550710666,
          0.5543923727793479,
          0.574665947985039,
          0.5951785333332777,
          0.6159446754412703,
          0.6369799079909214,
          0.6583008567368559,
          0.6799253583541527,
          0.7018725954219602,
          0.7241632502958759,
          0.7468196811860968,
          0.7698661244591363,
          0.7933289280569344,
          0.8172368220294002,
          0.8416212335729143,
          0.8665166557497271,
          0.8919610813560996,
          0.9179965163814972,
          0.9446695913944757,
          0.9720322943361202,
          1.0001428550721199,
          1.0290668213307226,
          1.0588783783298645,
          1.0896619819461069,
          1.1215143999210206,
          1.1545472907446928,
          1.1888905008342237,
          1.224696335968185,
          1.2621451766228082,
          1.30145298240007,
          1.3428815089087207,
          1.3867525143297876,
          1.4334679985171017,
          1.4835398594012967,
          1.5376348106486466,
          1.5966451543943727,
          1.66180577410579,
          1.7348994269516764,
          1.8186455928500607,
          1.9175159723265764,
          2.039709076687217,
          2.2031212063800014,
          2.46260693625009
         ],
         "xaxis": "x4",
         "y": [
          -14.103687789542107,
          16.917582507858583,
          36.45334598745998,
          51.06141449568841,
          62.881273598087375,
          72.89304746328375,
          81.63132360313855,
          89.4212132353199,
          96.47584327064075,
          102.94284284402349,
          108.92888582049125,
          114.51367717982396,
          119.75841382899165,
          124.7111544652158,
          129.41036497064383,
          133.88733797741747,
          138.1678912489629,
          142.27358909832503,
          146.2226395353517,
          150.03056557475384,
          153.71071588200044,
          157.2746589478474,
          160.73249139138957,
          164.0930819843271,
          167.36426689474666,
          170.55300744727995,
          173.66551875045496,
          176.7073754440487,
          179.6835993038404,
          182.59873233220816,
          185.45689814168355,
          188.261853823472,
          191.01703402750326,
          193.7255886249826,
          196.39041505029707,
          199.01418620604593,
          201.59937464801766,
          204.1482736351635,
          206.6630155248932,
          209.14558791023705,
          211.59784782797817,
          214.02153431226108,
          216.41827952372643,
          218.7896186478437,
          221.13699872619168,
          223.46178655971153,
          225.76527580243305,
          228.0486933470684,
          230.31320508954806,
          232.55992114754588,
          234.78990059789624,
          237.00415578922477,
          239.2036562788304,
          241.3893324366536,
          243.562078753872,
          245.72275688913084,
          247.87219848152722,
          250.01120775612202,
          252.14056394487346,
          254.26102354340017,
          256.3733224218343,
          258.47817780617106,
          260.57629014491573,
          262.66834487444464,
          264.75501409530034,
          266.83695817061346,
          268.91482725696096,
          270.9892627772213,
          273.06089884434994,
          275.13036364447174,
          277.1982807872538,
          279.26527063117464,
          281.3319515910475,
          283.3989414349684,
          285.46685857775043,
          287.5363233778723,
          289.60795944500086,
          291.6823949652612,
          293.7602640516087,
          295.84220812692183,
          297.92887734777753,
          300.02093207730644,
          302.11904441605117,
          304.2238998003879,
          306.336198678822,
          308.4566582773487,
          310.58601446610015,
          312.72502374069495,
          314.87446533309134,
          317.0351434683502,
          319.20788978556857,
          321.39356594339176,
          323.5930664329974,
          325.80732162432594,
          328.0373010746763,
          330.28401713267414,
          332.54852887515375,
          334.8319464197891,
          337.13543566251064,
          339.4602234960305,
          341.80760357437845,
          344.1789426984957,
          346.57568790996106,
          348.999374394244,
          351.4516343119851,
          353.93420669732893,
          356.4489485870587,
          358.9978475742045,
          361.5830360161762,
          364.2068071719251,
          366.87163359723957,
          369.5801881947189,
          372.3353683987502,
          375.1403240805386,
          377.998489890014,
          380.9136229183818,
          383.8898467781735,
          386.9317034717672,
          390.04421477494225,
          393.2329553274755,
          396.50414023789506,
          399.8647308308326,
          403.3225632743748,
          406.8865063402218,
          410.56665664746833,
          414.37458268687044,
          418.32363312389714,
          422.4293309732592,
          426.7098842448047,
          431.1868572515784,
          435.88606775700634,
          440.8388083932306,
          446.08354504239816,
          451.6683364017309,
          457.65437937819866,
          464.1213789515814,
          471.1760089869023,
          478.96589861908365,
          487.7041747589385,
          497.7159486241348,
          509.5358077265337,
          524.1438762347622,
          543.6796397143635,
          574.7009100117642
         ],
         "yaxis": "y4"
        },
        {
         "alignmentgroup": "True",
         "bingroup": "x",
         "hovertemplate": "variable=Number of airline passengers<br>value=%{x}<br>count=%{y}<extra></extra>",
         "legendgroup": "Number of airline passengers",
         "marker": {
          "color": "#1f77b4",
          "pattern": {
           "shape": ""
          }
         },
         "name": "Number of airline passengers",
         "offsetgroup": "Number of airline passengers",
         "orientation": "v",
         "showlegend": false,
         "type": "histogram",
         "x": [
          112,
          118,
          132,
          129,
          121,
          135,
          148,
          148,
          136,
          119,
          104,
          118,
          115,
          126,
          141,
          135,
          125,
          149,
          170,
          170,
          158,
          133,
          114,
          140,
          145,
          150,
          178,
          163,
          172,
          178,
          199,
          199,
          184,
          162,
          146,
          166,
          171,
          180,
          193,
          181,
          183,
          218,
          230,
          242,
          209,
          191,
          172,
          194,
          196,
          196,
          236,
          235,
          229,
          243,
          264,
          272,
          237,
          211,
          180,
          201,
          204,
          188,
          235,
          227,
          234,
          264,
          302,
          293,
          259,
          229,
          203,
          229,
          242,
          233,
          267,
          269,
          270,
          315,
          364,
          347,
          312,
          274,
          237,
          278,
          284,
          277,
          317,
          313,
          318,
          374,
          413,
          405,
          355,
          306,
          271,
          306,
          315,
          301,
          356,
          348,
          355,
          422,
          465,
          467,
          404,
          347,
          305,
          336,
          340,
          318,
          362,
          348,
          363,
          435,
          491,
          505,
          404,
          359,
          310,
          337,
          360,
          342,
          406,
          396,
          420,
          472,
          548,
          559,
          463,
          407,
          362,
          405,
          417,
          391,
          419,
          461,
          472,
          535,
          622,
          606,
          508,
          461,
          390,
          432
         ],
         "xaxis": "x2",
         "yaxis": "y2"
        },
        {
         "line": {
          "color": "#3f3f3f"
         },
         "mode": "lines",
         "name": "ACF",
         "showlegend": false,
         "type": "scatter",
         "x": [
          0,
          0
         ],
         "xaxis": "x3",
         "y": [
          0,
          1
         ],
         "yaxis": "y3"
        },
        {
         "line": {
          "color": "#3f3f3f"
         },
         "mode": "lines",
         "name": "ACF",
         "showlegend": false,
         "type": "scatter",
         "x": [
          1,
          1
         ],
         "xaxis": "x3",
         "y": [
          0,
          0.9480473407524915
         ],
         "yaxis": "y3"
        },
        {
         "line": {
          "color": "#3f3f3f"
         },
         "mode": "lines",
         "name": "ACF",
         "showlegend": false,
         "type": "scatter",
         "x": [
          2,
          2
         ],
         "xaxis": "x3",
         "y": [
          0,
          0.8755748351253506
         ],
         "yaxis": "y3"
        },
        {
         "line": {
          "color": "#3f3f3f"
         },
         "mode": "lines",
         "name": "ACF",
         "showlegend": false,
         "type": "scatter",
         "x": [
          3,
          3
         ],
         "xaxis": "x3",
         "y": [
          0,
          0.8066811554965003
         ],
         "yaxis": "y3"
        },
        {
         "line": {
          "color": "#3f3f3f"
         },
         "mode": "lines",
         "name": "ACF",
         "showlegend": false,
         "type": "scatter",
         "x": [
          4,
          4
         ],
         "xaxis": "x3",
         "y": [
          0,
          0.7526254173883077
         ],
         "yaxis": "y3"
        },
        {
         "line": {
          "color": "#3f3f3f"
         },
         "mode": "lines",
         "name": "ACF",
         "showlegend": false,
         "type": "scatter",
         "x": [
          5,
          5
         ],
         "xaxis": "x3",
         "y": [
          0,
          0.7137699726519646
         ],
         "yaxis": "y3"
        },
        {
         "line": {
          "color": "#3f3f3f"
         },
         "mode": "lines",
         "name": "ACF",
         "showlegend": false,
         "type": "scatter",
         "x": [
          6,
          6
         ],
         "xaxis": "x3",
         "y": [
          0,
          0.6817336033310039
         ],
         "yaxis": "y3"
        },
        {
         "line": {
          "color": "#3f3f3f"
         },
         "mode": "lines",
         "name": "ACF",
         "showlegend": false,
         "type": "scatter",
         "x": [
          7,
          7
         ],
         "xaxis": "x3",
         "y": [
          0,
          0.6629043863684494
         ],
         "yaxis": "y3"
        },
        {
         "line": {
          "color": "#3f3f3f"
         },
         "mode": "lines",
         "name": "ACF",
         "showlegend": false,
         "type": "scatter",
         "x": [
          8,
          8
         ],
         "xaxis": "x3",
         "y": [
          0,
          0.6556104843250864
         ],
         "yaxis": "y3"
        },
        {
         "line": {
          "color": "#3f3f3f"
         },
         "mode": "lines",
         "name": "ACF",
         "showlegend": false,
         "type": "scatter",
         "x": [
          9,
          9
         ],
         "xaxis": "x3",
         "y": [
          0,
          0.6709483279245043
         ],
         "yaxis": "y3"
        },
        {
         "line": {
          "color": "#3f3f3f"
         },
         "mode": "lines",
         "name": "ACF",
         "showlegend": false,
         "type": "scatter",
         "x": [
          10,
          10
         ],
         "xaxis": "x3",
         "y": [
          0,
          0.7027199209090715
         ],
         "yaxis": "y3"
        },
        {
         "line": {
          "color": "#3f3f3f"
         },
         "mode": "lines",
         "name": "ACF",
         "showlegend": false,
         "type": "scatter",
         "x": [
          11,
          11
         ],
         "xaxis": "x3",
         "y": [
          0,
          0.7432401890069327
         ],
         "yaxis": "y3"
        },
        {
         "line": {
          "color": "#3f3f3f"
         },
         "mode": "lines",
         "name": "ACF",
         "showlegend": false,
         "type": "scatter",
         "x": [
          12,
          12
         ],
         "xaxis": "x3",
         "y": [
          0,
          0.7603950422625556
         ],
         "yaxis": "y3"
        },
        {
         "line": {
          "color": "#3f3f3f"
         },
         "mode": "lines",
         "name": "ACF",
         "showlegend": false,
         "type": "scatter",
         "x": [
          13,
          13
         ],
         "xaxis": "x3",
         "y": [
          0,
          0.7126608704038238
         ],
         "yaxis": "y3"
        },
        {
         "line": {
          "color": "#3f3f3f"
         },
         "mode": "lines",
         "name": "ACF",
         "showlegend": false,
         "type": "scatter",
         "x": [
          14,
          14
         ],
         "xaxis": "x3",
         "y": [
          0,
          0.6463422792677533
         ],
         "yaxis": "y3"
        },
        {
         "line": {
          "color": "#3f3f3f"
         },
         "mode": "lines",
         "name": "ACF",
         "showlegend": false,
         "type": "scatter",
         "x": [
          15,
          15
         ],
         "xaxis": "x3",
         "y": [
          0,
          0.5859234238634495
         ],
         "yaxis": "y3"
        },
        {
         "line": {
          "color": "#3f3f3f"
         },
         "mode": "lines",
         "name": "ACF",
         "showlegend": false,
         "type": "scatter",
         "x": [
          16,
          16
         ],
         "xaxis": "x3",
         "y": [
          0,
          0.5379551907815616
         ],
         "yaxis": "y3"
        },
        {
         "line": {
          "color": "#3f3f3f"
         },
         "mode": "lines",
         "name": "ACF",
         "showlegend": false,
         "type": "scatter",
         "x": [
          17,
          17
         ],
         "xaxis": "x3",
         "y": [
          0,
          0.4997475259851799
         ],
         "yaxis": "y3"
        },
        {
         "line": {
          "color": "#3f3f3f"
         },
         "mode": "lines",
         "name": "ACF",
         "showlegend": false,
         "type": "scatter",
         "x": [
          18,
          18
         ],
         "xaxis": "x3",
         "y": [
          0,
          0.46873401291508704
         ],
         "yaxis": "y3"
        },
        {
         "line": {
          "color": "#3f3f3f"
         },
         "mode": "lines",
         "name": "ACF",
         "showlegend": false,
         "type": "scatter",
         "x": [
          19,
          19
         ],
         "xaxis": "x3",
         "y": [
          0,
          0.4498706649766616
         ],
         "yaxis": "y3"
        },
        {
         "line": {
          "color": "#3f3f3f"
         },
         "mode": "lines",
         "name": "ACF",
         "showlegend": false,
         "type": "scatter",
         "x": [
          20,
          20
         ],
         "xaxis": "x3",
         "y": [
          0,
          0.44162879574604624
         ],
         "yaxis": "y3"
        },
        {
         "line": {
          "color": "#3f3f3f"
         },
         "mode": "lines",
         "name": "ACF",
         "showlegend": false,
         "type": "scatter",
         "x": [
          21,
          21
         ],
         "xaxis": "x3",
         "y": [
          0,
          0.4572237571141587
         ],
         "yaxis": "y3"
        },
        {
         "line": {
          "color": "#3f3f3f"
         },
         "mode": "lines",
         "name": "ACF",
         "showlegend": false,
         "type": "scatter",
         "x": [
          22,
          22
         ],
         "xaxis": "x3",
         "y": [
          0,
          0.4824820295144395
         ],
         "yaxis": "y3"
        },
        {
         "line": {
          "color": "#3f3f3f"
         },
         "mode": "lines",
         "name": "ACF",
         "showlegend": false,
         "type": "scatter",
         "x": [
          23,
          23
         ],
         "xaxis": "x3",
         "y": [
          0,
          0.5171269883891182
         ],
         "yaxis": "y3"
        },
        {
         "line": {
          "color": "#3f3f3f"
         },
         "mode": "lines",
         "name": "ACF",
         "showlegend": false,
         "type": "scatter",
         "x": [
          24,
          24
         ],
         "xaxis": "x3",
         "y": [
          0,
          0.532189830465802
         ],
         "yaxis": "y3"
        },
        {
         "line": {
          "color": "#3f3f3f"
         },
         "mode": "lines",
         "name": "ACF",
         "showlegend": false,
         "type": "scatter",
         "x": [
          25,
          25
         ],
         "xaxis": "x3",
         "y": [
          0,
          0.49397569377503386
         ],
         "yaxis": "y3"
        },
        {
         "line": {
          "color": "#3f3f3f"
         },
         "mode": "lines",
         "name": "ACF",
         "showlegend": false,
         "type": "scatter",
         "x": [
          26,
          26
         ],
         "xaxis": "x3",
         "y": [
          0,
          0.43772133706806554
         ],
         "yaxis": "y3"
        },
        {
         "line": {
          "color": "#3f3f3f"
         },
         "mode": "lines",
         "name": "ACF",
         "showlegend": false,
         "type": "scatter",
         "x": [
          27,
          27
         ],
         "xaxis": "x3",
         "y": [
          0,
          0.38760289974645185
         ],
         "yaxis": "y3"
        },
        {
         "line": {
          "color": "#3f3f3f"
         },
         "mode": "lines",
         "name": "ACF",
         "showlegend": false,
         "type": "scatter",
         "x": [
          28,
          28
         ],
         "xaxis": "x3",
         "y": [
          0,
          0.3480250323299375
         ],
         "yaxis": "y3"
        },
        {
         "line": {
          "color": "#3f3f3f"
         },
         "mode": "lines",
         "name": "ACF",
         "showlegend": false,
         "type": "scatter",
         "x": [
          29,
          29
         ],
         "xaxis": "x3",
         "y": [
          0,
          0.31498387947256934
         ],
         "yaxis": "y3"
        },
        {
         "line": {
          "color": "#3f3f3f"
         },
         "mode": "lines",
         "name": "ACF",
         "showlegend": false,
         "type": "scatter",
         "x": [
          30,
          30
         ],
         "xaxis": "x3",
         "y": [
          0,
          0.2884968187844051
         ],
         "yaxis": "y3"
        },
        {
         "line": {
          "color": "#3f3f3f"
         },
         "mode": "lines",
         "name": "ACF",
         "showlegend": false,
         "type": "scatter",
         "x": [
          31,
          31
         ],
         "xaxis": "x3",
         "y": [
          0,
          0.2708018671117992
         ],
         "yaxis": "y3"
        },
        {
         "line": {
          "color": "#3f3f3f"
         },
         "mode": "lines",
         "name": "ACF",
         "showlegend": false,
         "type": "scatter",
         "x": [
          32,
          32
         ],
         "xaxis": "x3",
         "y": [
          0,
          0.26429010598992786
         ],
         "yaxis": "y3"
        },
        {
         "line": {
          "color": "#3f3f3f"
         },
         "mode": "lines",
         "name": "ACF",
         "showlegend": false,
         "type": "scatter",
         "x": [
          33,
          33
         ],
         "xaxis": "x3",
         "y": [
          0,
          0.27679933695014597
         ],
         "yaxis": "y3"
        },
        {
         "line": {
          "color": "#3f3f3f"
         },
         "mode": "lines",
         "name": "ACF",
         "showlegend": false,
         "type": "scatter",
         "x": [
          34,
          34
         ],
         "xaxis": "x3",
         "y": [
          0,
          0.2985214951556523
         ],
         "yaxis": "y3"
        },
        {
         "line": {
          "color": "#3f3f3f"
         },
         "mode": "lines",
         "name": "ACF",
         "showlegend": false,
         "type": "scatter",
         "x": [
          35,
          35
         ],
         "xaxis": "x3",
         "y": [
          0,
          0.3255871166106631
         ],
         "yaxis": "y3"
        },
        {
         "line": {
          "color": "#3f3f3f"
         },
         "mode": "lines",
         "name": "ACF",
         "showlegend": false,
         "type": "scatter",
         "x": [
          36,
          36
         ],
         "xaxis": "x3",
         "y": [
          0,
          0.33702359902053586
         ],
         "yaxis": "y3"
        },
        {
         "line": {
          "color": "#3f3f3f"
         },
         "mode": "lines",
         "name": "ACF",
         "showlegend": false,
         "type": "scatter",
         "x": [
          37,
          37
         ],
         "xaxis": "x3",
         "y": [
          0,
          0.30333485855791975
         ],
         "yaxis": "y3"
        },
        {
         "line": {
          "color": "#3f3f3f"
         },
         "mode": "lines",
         "name": "ACF",
         "showlegend": false,
         "type": "scatter",
         "x": [
          38,
          38
         ],
         "xaxis": "x3",
         "y": [
          0,
          0.25397708140719066
         ],
         "yaxis": "y3"
        },
        {
         "line": {
          "color": "#3f3f3f"
         },
         "mode": "lines",
         "name": "ACF",
         "showlegend": false,
         "type": "scatter",
         "x": [
          39,
          39
         ],
         "xaxis": "x3",
         "y": [
          0,
          0.21065533781406404
         ],
         "yaxis": "y3"
        },
        {
         "line": {
          "color": "#3f3f3f"
         },
         "mode": "lines",
         "name": "ACF",
         "showlegend": false,
         "type": "scatter",
         "x": [
          40,
          40
         ],
         "xaxis": "x3",
         "y": [
          0,
          0.17217092361106268
         ],
         "yaxis": "y3"
        },
        {
         "marker": {
          "color": "#1f77b4",
          "size": 6
         },
         "mode": "markers",
         "showlegend": false,
         "type": "scatter",
         "x": [
          0,
          1,
          2,
          3,
          4,
          5,
          6,
          7,
          8,
          9,
          10,
          11,
          12,
          13,
          14,
          15,
          16,
          17,
          18,
          19,
          20,
          21,
          22,
          23,
          24,
          25,
          26,
          27,
          28,
          29,
          30,
          31,
          32,
          33,
          34,
          35,
          36,
          37,
          38,
          39,
          40
         ],
         "xaxis": "x3",
         "y": [
          1,
          0.9480473407524915,
          0.8755748351253506,
          0.8066811554965003,
          0.7526254173883077,
          0.7137699726519646,
          0.6817336033310039,
          0.6629043863684494,
          0.6556104843250864,
          0.6709483279245043,
          0.7027199209090715,
          0.7432401890069327,
          0.7603950422625556,
          0.7126608704038238,
          0.6463422792677533,
          0.5859234238634495,
          0.5379551907815616,
          0.4997475259851799,
          0.46873401291508704,
          0.4498706649766616,
          0.44162879574604624,
          0.4572237571141587,
          0.4824820295144395,
          0.5171269883891182,
          0.532189830465802,
          0.49397569377503386,
          0.43772133706806554,
          0.38760289974645185,
          0.3480250323299375,
          0.31498387947256934,
          0.2884968187844051,
          0.2708018671117992,
          0.26429010598992786,
          0.27679933695014597,
          0.2985214951556523,
          0.3255871166106631,
          0.33702359902053586,
          0.30333485855791975,
          0.25397708140719066,
          0.21065533781406404,
          0.17217092361106268
         ],
         "yaxis": "y3"
        },
        {
         "line": {
          "color": "rgba(255,255,255,0)"
         },
         "mode": "lines",
         "name": "UC",
         "showlegend": false,
         "type": "scatter",
         "x": [
          0,
          1,
          2,
          3,
          4,
          5,
          6,
          7,
          8,
          9,
          10,
          11,
          12,
          13,
          14,
          15,
          16,
          17,
          18,
          19,
          20,
          21,
          22,
          23,
          24,
          25,
          26,
          27,
          28,
          29,
          30,
          31,
          32,
          33,
          34,
          35,
          36,
          37,
          38,
          39,
          40
         ],
         "xaxis": "x3",
         "y": [
          0,
          0.16333033204500447,
          0.2731861552145801,
          0.3399017661883752,
          0.38762383148595225,
          0.42482244845589956,
          0.45569292201744294,
          0.48213348102703657,
          0.5058641279364026,
          0.5280447239635009,
          0.5503176416817148,
          0.5737563310797158,
          0.5988899499585392,
          0.624113974952015,
          0.6454578001172306,
          0.6624988158521082,
          0.676181413525544,
          0.6875038978431461,
          0.6971273493682075,
          0.7054848995976514,
          0.7130966532991214,
          0.72035595943078,
          0.7280566375097884,
          0.7365368914864218,
          0.7461597871836548,
          0.7562179276283605,
          0.7647773994303542,
          0.7714317972264944,
          0.7766097146258821,
          0.780759189618813,
          0.7841418116449759,
          0.7869682474990506,
          0.7894502115268107,
          0.7918070128489081,
          0.7943841542594854,
          0.7973711774106017,
          0.8009098872583174,
          0.8046842924814329,
          0.807728904687554,
          0.8098564828638037,
          0.8113169075162115
         ],
         "yaxis": "y3"
        },
        {
         "fill": "tonexty",
         "fillcolor": "rgba(32, 146, 230,0.3)",
         "line": {
          "color": "rgba(255,255,255,0)"
         },
         "mode": "lines",
         "name": "LC",
         "showlegend": false,
         "type": "scatter",
         "x": [
          0,
          1,
          2,
          3,
          4,
          5,
          6,
          7,
          8,
          9,
          10,
          11,
          12,
          13,
          14,
          15,
          16,
          17,
          18,
          19,
          20,
          21,
          22,
          23,
          24,
          25,
          26,
          27,
          28,
          29,
          30,
          31,
          32,
          33,
          34,
          35,
          36,
          37,
          38,
          39,
          40
         ],
         "xaxis": "x3",
         "y": [
          0,
          -0.16333033204500447,
          -0.2731861552145801,
          -0.3399017661883753,
          -0.38762383148595225,
          -0.4248224484558996,
          -0.4556929220174429,
          -0.4821334810270366,
          -0.5058641279364026,
          -0.5280447239635008,
          -0.5503176416817148,
          -0.5737563310797159,
          -0.5988899499585391,
          -0.6241139749520151,
          -0.6454578001172306,
          -0.6624988158521083,
          -0.676181413525544,
          -0.687503897843146,
          -0.6971273493682074,
          -0.7054848995976514,
          -0.7130966532991215,
          -0.7203559594307799,
          -0.7280566375097886,
          -0.7365368914864217,
          -0.7461597871836547,
          -0.7562179276283605,
          -0.7647773994303542,
          -0.7714317972264942,
          -0.7766097146258821,
          -0.780759189618813,
          -0.7841418116449758,
          -0.7869682474990505,
          -0.7894502115268106,
          -0.7918070128489083,
          -0.7943841542594854,
          -0.7973711774106017,
          -0.8009098872583174,
          -0.8046842924814329,
          -0.807728904687554,
          -0.8098564828638037,
          -0.8113169075162115
         ],
         "yaxis": "y3"
        },
        {
         "marker": {
          "color": "#1f77b4",
          "size": 2
         },
         "mode": "lines+markers",
         "name": "Time Plot",
         "type": "scatter",
         "x": [
          "1949-01-01T00:00:00",
          "1949-02-01T00:00:00",
          "1949-03-01T00:00:00",
          "1949-04-01T00:00:00",
          "1949-05-01T00:00:00",
          "1949-06-01T00:00:00",
          "1949-07-01T00:00:00",
          "1949-08-01T00:00:00",
          "1949-09-01T00:00:00",
          "1949-10-01T00:00:00",
          "1949-11-01T00:00:00",
          "1949-12-01T00:00:00",
          "1950-01-01T00:00:00",
          "1950-02-01T00:00:00",
          "1950-03-01T00:00:00",
          "1950-04-01T00:00:00",
          "1950-05-01T00:00:00",
          "1950-06-01T00:00:00",
          "1950-07-01T00:00:00",
          "1950-08-01T00:00:00",
          "1950-09-01T00:00:00",
          "1950-10-01T00:00:00",
          "1950-11-01T00:00:00",
          "1950-12-01T00:00:00",
          "1951-01-01T00:00:00",
          "1951-02-01T00:00:00",
          "1951-03-01T00:00:00",
          "1951-04-01T00:00:00",
          "1951-05-01T00:00:00",
          "1951-06-01T00:00:00",
          "1951-07-01T00:00:00",
          "1951-08-01T00:00:00",
          "1951-09-01T00:00:00",
          "1951-10-01T00:00:00",
          "1951-11-01T00:00:00",
          "1951-12-01T00:00:00",
          "1952-01-01T00:00:00",
          "1952-02-01T00:00:00",
          "1952-03-01T00:00:00",
          "1952-04-01T00:00:00",
          "1952-05-01T00:00:00",
          "1952-06-01T00:00:00",
          "1952-07-01T00:00:00",
          "1952-08-01T00:00:00",
          "1952-09-01T00:00:00",
          "1952-10-01T00:00:00",
          "1952-11-01T00:00:00",
          "1952-12-01T00:00:00",
          "1953-01-01T00:00:00",
          "1953-02-01T00:00:00",
          "1953-03-01T00:00:00",
          "1953-04-01T00:00:00",
          "1953-05-01T00:00:00",
          "1953-06-01T00:00:00",
          "1953-07-01T00:00:00",
          "1953-08-01T00:00:00",
          "1953-09-01T00:00:00",
          "1953-10-01T00:00:00",
          "1953-11-01T00:00:00",
          "1953-12-01T00:00:00",
          "1954-01-01T00:00:00",
          "1954-02-01T00:00:00",
          "1954-03-01T00:00:00",
          "1954-04-01T00:00:00",
          "1954-05-01T00:00:00",
          "1954-06-01T00:00:00",
          "1954-07-01T00:00:00",
          "1954-08-01T00:00:00",
          "1954-09-01T00:00:00",
          "1954-10-01T00:00:00",
          "1954-11-01T00:00:00",
          "1954-12-01T00:00:00",
          "1955-01-01T00:00:00",
          "1955-02-01T00:00:00",
          "1955-03-01T00:00:00",
          "1955-04-01T00:00:00",
          "1955-05-01T00:00:00",
          "1955-06-01T00:00:00",
          "1955-07-01T00:00:00",
          "1955-08-01T00:00:00",
          "1955-09-01T00:00:00",
          "1955-10-01T00:00:00",
          "1955-11-01T00:00:00",
          "1955-12-01T00:00:00",
          "1956-01-01T00:00:00",
          "1956-02-01T00:00:00",
          "1956-03-01T00:00:00",
          "1956-04-01T00:00:00",
          "1956-05-01T00:00:00",
          "1956-06-01T00:00:00",
          "1956-07-01T00:00:00",
          "1956-08-01T00:00:00",
          "1956-09-01T00:00:00",
          "1956-10-01T00:00:00",
          "1956-11-01T00:00:00",
          "1956-12-01T00:00:00",
          "1957-01-01T00:00:00",
          "1957-02-01T00:00:00",
          "1957-03-01T00:00:00",
          "1957-04-01T00:00:00",
          "1957-05-01T00:00:00",
          "1957-06-01T00:00:00",
          "1957-07-01T00:00:00",
          "1957-08-01T00:00:00",
          "1957-09-01T00:00:00",
          "1957-10-01T00:00:00",
          "1957-11-01T00:00:00",
          "1957-12-01T00:00:00",
          "1958-01-01T00:00:00",
          "1958-02-01T00:00:00",
          "1958-03-01T00:00:00",
          "1958-04-01T00:00:00",
          "1958-05-01T00:00:00",
          "1958-06-01T00:00:00",
          "1958-07-01T00:00:00",
          "1958-08-01T00:00:00",
          "1958-09-01T00:00:00",
          "1958-10-01T00:00:00",
          "1958-11-01T00:00:00",
          "1958-12-01T00:00:00",
          "1959-01-01T00:00:00",
          "1959-02-01T00:00:00",
          "1959-03-01T00:00:00",
          "1959-04-01T00:00:00",
          "1959-05-01T00:00:00",
          "1959-06-01T00:00:00",
          "1959-07-01T00:00:00",
          "1959-08-01T00:00:00",
          "1959-09-01T00:00:00",
          "1959-10-01T00:00:00",
          "1959-11-01T00:00:00",
          "1959-12-01T00:00:00",
          "1960-01-01T00:00:00",
          "1960-02-01T00:00:00",
          "1960-03-01T00:00:00",
          "1960-04-01T00:00:00",
          "1960-05-01T00:00:00",
          "1960-06-01T00:00:00",
          "1960-07-01T00:00:00",
          "1960-08-01T00:00:00",
          "1960-09-01T00:00:00",
          "1960-10-01T00:00:00",
          "1960-11-01T00:00:00",
          "1960-12-01T00:00:00"
         ],
         "xaxis": "x",
         "y": [
          112,
          118,
          132,
          129,
          121,
          135,
          148,
          148,
          136,
          119,
          104,
          118,
          115,
          126,
          141,
          135,
          125,
          149,
          170,
          170,
          158,
          133,
          114,
          140,
          145,
          150,
          178,
          163,
          172,
          178,
          199,
          199,
          184,
          162,
          146,
          166,
          171,
          180,
          193,
          181,
          183,
          218,
          230,
          242,
          209,
          191,
          172,
          194,
          196,
          196,
          236,
          235,
          229,
          243,
          264,
          272,
          237,
          211,
          180,
          201,
          204,
          188,
          235,
          227,
          234,
          264,
          302,
          293,
          259,
          229,
          203,
          229,
          242,
          233,
          267,
          269,
          270,
          315,
          364,
          347,
          312,
          274,
          237,
          278,
          284,
          277,
          317,
          313,
          318,
          374,
          413,
          405,
          355,
          306,
          271,
          306,
          315,
          301,
          356,
          348,
          355,
          422,
          465,
          467,
          404,
          347,
          305,
          336,
          340,
          318,
          362,
          348,
          363,
          435,
          491,
          505,
          404,
          359,
          310,
          337,
          360,
          342,
          406,
          396,
          420,
          472,
          548,
          559,
          463,
          407,
          362,
          405,
          417,
          391,
          419,
          461,
          472,
          535,
          622,
          606,
          508,
          461,
          390,
          432
         ],
         "yaxis": "y"
        }
       ],
       "layout": {
        "annotations": [
         {
          "font": {
           "size": 16
          },
          "showarrow": false,
          "text": "Time Plot",
          "x": 0.225,
          "xanchor": "center",
          "xref": "paper",
          "y": 1,
          "yanchor": "bottom",
          "yref": "paper"
         },
         {
          "font": {
           "size": 16
          },
          "showarrow": false,
          "text": "Histogram Plot",
          "x": 0.775,
          "xanchor": "center",
          "xref": "paper",
          "y": 1,
          "yanchor": "bottom",
          "yref": "paper"
         },
         {
          "font": {
           "size": 16
          },
          "showarrow": false,
          "text": "ACF Plot",
          "x": 0.225,
          "xanchor": "center",
          "xref": "paper",
          "y": 0.375,
          "yanchor": "bottom",
          "yref": "paper"
         },
         {
          "font": {
           "size": 16
          },
          "showarrow": false,
          "text": "Quantile-Quantile Plot",
          "x": 0.775,
          "xanchor": "center",
          "xref": "paper",
          "y": 0.375,
          "yanchor": "bottom",
          "yref": "paper"
         },
         {
          "font": {
           "size": 16
          },
          "showarrow": false,
          "text": "Diagnostics | Number of airline passengers",
          "x": 0.5,
          "xanchor": "center",
          "xref": "paper",
          "y": 0,
          "yanchor": "top",
          "yref": "paper",
          "yshift": -30
         }
        ],
        "showlegend": false,
        "template": {
         "data": {
          "bar": [
           {
            "error_x": {
             "color": "rgb(36,36,36)"
            },
            "error_y": {
             "color": "rgb(36,36,36)"
            },
            "marker": {
             "line": {
              "color": "white",
              "width": 0.5
             },
             "pattern": {
              "fillmode": "overlay",
              "size": 10,
              "solidity": 0.2
             }
            },
            "type": "bar"
           }
          ],
          "barpolar": [
           {
            "marker": {
             "line": {
              "color": "white",
              "width": 0.5
             },
             "pattern": {
              "fillmode": "overlay",
              "size": 10,
              "solidity": 0.2
             }
            },
            "type": "barpolar"
           }
          ],
          "carpet": [
           {
            "aaxis": {
             "endlinecolor": "rgb(36,36,36)",
             "gridcolor": "white",
             "linecolor": "white",
             "minorgridcolor": "white",
             "startlinecolor": "rgb(36,36,36)"
            },
            "baxis": {
             "endlinecolor": "rgb(36,36,36)",
             "gridcolor": "white",
             "linecolor": "white",
             "minorgridcolor": "white",
             "startlinecolor": "rgb(36,36,36)"
            },
            "type": "carpet"
           }
          ],
          "choropleth": [
           {
            "colorbar": {
             "outlinewidth": 1,
             "tickcolor": "rgb(36,36,36)",
             "ticks": "outside"
            },
            "type": "choropleth"
           }
          ],
          "contour": [
           {
            "colorbar": {
             "outlinewidth": 1,
             "tickcolor": "rgb(36,36,36)",
             "ticks": "outside"
            },
            "colorscale": [
             [
              0,
              "#440154"
             ],
             [
              0.1111111111111111,
              "#482878"
             ],
             [
              0.2222222222222222,
              "#3e4989"
             ],
             [
              0.3333333333333333,
              "#31688e"
             ],
             [
              0.4444444444444444,
              "#26828e"
             ],
             [
              0.5555555555555556,
              "#1f9e89"
             ],
             [
              0.6666666666666666,
              "#35b779"
             ],
             [
              0.7777777777777778,
              "#6ece58"
             ],
             [
              0.8888888888888888,
              "#b5de2b"
             ],
             [
              1,
              "#fde725"
             ]
            ],
            "type": "contour"
           }
          ],
          "contourcarpet": [
           {
            "colorbar": {
             "outlinewidth": 1,
             "tickcolor": "rgb(36,36,36)",
             "ticks": "outside"
            },
            "type": "contourcarpet"
           }
          ],
          "heatmap": [
           {
            "colorbar": {
             "outlinewidth": 1,
             "tickcolor": "rgb(36,36,36)",
             "ticks": "outside"
            },
            "colorscale": [
             [
              0,
              "#440154"
             ],
             [
              0.1111111111111111,
              "#482878"
             ],
             [
              0.2222222222222222,
              "#3e4989"
             ],
             [
              0.3333333333333333,
              "#31688e"
             ],
             [
              0.4444444444444444,
              "#26828e"
             ],
             [
              0.5555555555555556,
              "#1f9e89"
             ],
             [
              0.6666666666666666,
              "#35b779"
             ],
             [
              0.7777777777777778,
              "#6ece58"
             ],
             [
              0.8888888888888888,
              "#b5de2b"
             ],
             [
              1,
              "#fde725"
             ]
            ],
            "type": "heatmap"
           }
          ],
          "heatmapgl": [
           {
            "colorbar": {
             "outlinewidth": 1,
             "tickcolor": "rgb(36,36,36)",
             "ticks": "outside"
            },
            "colorscale": [
             [
              0,
              "#440154"
             ],
             [
              0.1111111111111111,
              "#482878"
             ],
             [
              0.2222222222222222,
              "#3e4989"
             ],
             [
              0.3333333333333333,
              "#31688e"
             ],
             [
              0.4444444444444444,
              "#26828e"
             ],
             [
              0.5555555555555556,
              "#1f9e89"
             ],
             [
              0.6666666666666666,
              "#35b779"
             ],
             [
              0.7777777777777778,
              "#6ece58"
             ],
             [
              0.8888888888888888,
              "#b5de2b"
             ],
             [
              1,
              "#fde725"
             ]
            ],
            "type": "heatmapgl"
           }
          ],
          "histogram": [
           {
            "marker": {
             "line": {
              "color": "white",
              "width": 0.6
             }
            },
            "type": "histogram"
           }
          ],
          "histogram2d": [
           {
            "colorbar": {
             "outlinewidth": 1,
             "tickcolor": "rgb(36,36,36)",
             "ticks": "outside"
            },
            "colorscale": [
             [
              0,
              "#440154"
             ],
             [
              0.1111111111111111,
              "#482878"
             ],
             [
              0.2222222222222222,
              "#3e4989"
             ],
             [
              0.3333333333333333,
              "#31688e"
             ],
             [
              0.4444444444444444,
              "#26828e"
             ],
             [
              0.5555555555555556,
              "#1f9e89"
             ],
             [
              0.6666666666666666,
              "#35b779"
             ],
             [
              0.7777777777777778,
              "#6ece58"
             ],
             [
              0.8888888888888888,
              "#b5de2b"
             ],
             [
              1,
              "#fde725"
             ]
            ],
            "type": "histogram2d"
           }
          ],
          "histogram2dcontour": [
           {
            "colorbar": {
             "outlinewidth": 1,
             "tickcolor": "rgb(36,36,36)",
             "ticks": "outside"
            },
            "colorscale": [
             [
              0,
              "#440154"
             ],
             [
              0.1111111111111111,
              "#482878"
             ],
             [
              0.2222222222222222,
              "#3e4989"
             ],
             [
              0.3333333333333333,
              "#31688e"
             ],
             [
              0.4444444444444444,
              "#26828e"
             ],
             [
              0.5555555555555556,
              "#1f9e89"
             ],
             [
              0.6666666666666666,
              "#35b779"
             ],
             [
              0.7777777777777778,
              "#6ece58"
             ],
             [
              0.8888888888888888,
              "#b5de2b"
             ],
             [
              1,
              "#fde725"
             ]
            ],
            "type": "histogram2dcontour"
           }
          ],
          "mesh3d": [
           {
            "colorbar": {
             "outlinewidth": 1,
             "tickcolor": "rgb(36,36,36)",
             "ticks": "outside"
            },
            "type": "mesh3d"
           }
          ],
          "parcoords": [
           {
            "line": {
             "colorbar": {
              "outlinewidth": 1,
              "tickcolor": "rgb(36,36,36)",
              "ticks": "outside"
             }
            },
            "type": "parcoords"
           }
          ],
          "pie": [
           {
            "automargin": true,
            "type": "pie"
           }
          ],
          "scatter": [
           {
            "marker": {
             "colorbar": {
              "outlinewidth": 1,
              "tickcolor": "rgb(36,36,36)",
              "ticks": "outside"
             }
            },
            "type": "scatter"
           }
          ],
          "scatter3d": [
           {
            "line": {
             "colorbar": {
              "outlinewidth": 1,
              "tickcolor": "rgb(36,36,36)",
              "ticks": "outside"
             }
            },
            "marker": {
             "colorbar": {
              "outlinewidth": 1,
              "tickcolor": "rgb(36,36,36)",
              "ticks": "outside"
             }
            },
            "type": "scatter3d"
           }
          ],
          "scattercarpet": [
           {
            "marker": {
             "colorbar": {
              "outlinewidth": 1,
              "tickcolor": "rgb(36,36,36)",
              "ticks": "outside"
             }
            },
            "type": "scattercarpet"
           }
          ],
          "scattergeo": [
           {
            "marker": {
             "colorbar": {
              "outlinewidth": 1,
              "tickcolor": "rgb(36,36,36)",
              "ticks": "outside"
             }
            },
            "type": "scattergeo"
           }
          ],
          "scattergl": [
           {
            "marker": {
             "colorbar": {
              "outlinewidth": 1,
              "tickcolor": "rgb(36,36,36)",
              "ticks": "outside"
             }
            },
            "type": "scattergl"
           }
          ],
          "scattermapbox": [
           {
            "marker": {
             "colorbar": {
              "outlinewidth": 1,
              "tickcolor": "rgb(36,36,36)",
              "ticks": "outside"
             }
            },
            "type": "scattermapbox"
           }
          ],
          "scatterpolar": [
           {
            "marker": {
             "colorbar": {
              "outlinewidth": 1,
              "tickcolor": "rgb(36,36,36)",
              "ticks": "outside"
             }
            },
            "type": "scatterpolar"
           }
          ],
          "scatterpolargl": [
           {
            "marker": {
             "colorbar": {
              "outlinewidth": 1,
              "tickcolor": "rgb(36,36,36)",
              "ticks": "outside"
             }
            },
            "type": "scatterpolargl"
           }
          ],
          "scatterternary": [
           {
            "marker": {
             "colorbar": {
              "outlinewidth": 1,
              "tickcolor": "rgb(36,36,36)",
              "ticks": "outside"
             }
            },
            "type": "scatterternary"
           }
          ],
          "surface": [
           {
            "colorbar": {
             "outlinewidth": 1,
             "tickcolor": "rgb(36,36,36)",
             "ticks": "outside"
            },
            "colorscale": [
             [
              0,
              "#440154"
             ],
             [
              0.1111111111111111,
              "#482878"
             ],
             [
              0.2222222222222222,
              "#3e4989"
             ],
             [
              0.3333333333333333,
              "#31688e"
             ],
             [
              0.4444444444444444,
              "#26828e"
             ],
             [
              0.5555555555555556,
              "#1f9e89"
             ],
             [
              0.6666666666666666,
              "#35b779"
             ],
             [
              0.7777777777777778,
              "#6ece58"
             ],
             [
              0.8888888888888888,
              "#b5de2b"
             ],
             [
              1,
              "#fde725"
             ]
            ],
            "type": "surface"
           }
          ],
          "table": [
           {
            "cells": {
             "fill": {
              "color": "rgb(237,237,237)"
             },
             "line": {
              "color": "white"
             }
            },
            "header": {
             "fill": {
              "color": "rgb(217,217,217)"
             },
             "line": {
              "color": "white"
             }
            },
            "type": "table"
           }
          ]
         },
         "layout": {
          "annotationdefaults": {
           "arrowhead": 0,
           "arrowwidth": 1
          },
          "autotypenumbers": "strict",
          "coloraxis": {
           "colorbar": {
            "outlinewidth": 1,
            "tickcolor": "rgb(36,36,36)",
            "ticks": "outside"
           }
          },
          "colorscale": {
           "diverging": [
            [
             0,
             "rgb(103,0,31)"
            ],
            [
             0.1,
             "rgb(178,24,43)"
            ],
            [
             0.2,
             "rgb(214,96,77)"
            ],
            [
             0.3,
             "rgb(244,165,130)"
            ],
            [
             0.4,
             "rgb(253,219,199)"
            ],
            [
             0.5,
             "rgb(247,247,247)"
            ],
            [
             0.6,
             "rgb(209,229,240)"
            ],
            [
             0.7,
             "rgb(146,197,222)"
            ],
            [
             0.8,
             "rgb(67,147,195)"
            ],
            [
             0.9,
             "rgb(33,102,172)"
            ],
            [
             1,
             "rgb(5,48,97)"
            ]
           ],
           "sequential": [
            [
             0,
             "#440154"
            ],
            [
             0.1111111111111111,
             "#482878"
            ],
            [
             0.2222222222222222,
             "#3e4989"
            ],
            [
             0.3333333333333333,
             "#31688e"
            ],
            [
             0.4444444444444444,
             "#26828e"
            ],
            [
             0.5555555555555556,
             "#1f9e89"
            ],
            [
             0.6666666666666666,
             "#35b779"
            ],
            [
             0.7777777777777778,
             "#6ece58"
            ],
            [
             0.8888888888888888,
             "#b5de2b"
            ],
            [
             1,
             "#fde725"
            ]
           ],
           "sequentialminus": [
            [
             0,
             "#440154"
            ],
            [
             0.1111111111111111,
             "#482878"
            ],
            [
             0.2222222222222222,
             "#3e4989"
            ],
            [
             0.3333333333333333,
             "#31688e"
            ],
            [
             0.4444444444444444,
             "#26828e"
            ],
            [
             0.5555555555555556,
             "#1f9e89"
            ],
            [
             0.6666666666666666,
             "#35b779"
            ],
            [
             0.7777777777777778,
             "#6ece58"
            ],
            [
             0.8888888888888888,
             "#b5de2b"
            ],
            [
             1,
             "#fde725"
            ]
           ]
          },
          "colorway": [
           "#1F77B4",
           "#FF7F0E",
           "#2CA02C",
           "#D62728",
           "#9467BD",
           "#8C564B",
           "#E377C2",
           "#7F7F7F",
           "#BCBD22",
           "#17BECF"
          ],
          "font": {
           "color": "rgb(36,36,36)"
          },
          "geo": {
           "bgcolor": "white",
           "lakecolor": "white",
           "landcolor": "white",
           "showlakes": true,
           "showland": true,
           "subunitcolor": "white"
          },
          "hoverlabel": {
           "align": "left"
          },
          "hovermode": "closest",
          "mapbox": {
           "style": "light"
          },
          "paper_bgcolor": "white",
          "plot_bgcolor": "white",
          "polar": {
           "angularaxis": {
            "gridcolor": "rgb(232,232,232)",
            "linecolor": "rgb(36,36,36)",
            "showgrid": false,
            "showline": true,
            "ticks": "outside"
           },
           "bgcolor": "white",
           "radialaxis": {
            "gridcolor": "rgb(232,232,232)",
            "linecolor": "rgb(36,36,36)",
            "showgrid": false,
            "showline": true,
            "ticks": "outside"
           }
          },
          "scene": {
           "xaxis": {
            "backgroundcolor": "white",
            "gridcolor": "rgb(232,232,232)",
            "gridwidth": 2,
            "linecolor": "rgb(36,36,36)",
            "showbackground": true,
            "showgrid": false,
            "showline": true,
            "ticks": "outside",
            "zeroline": false,
            "zerolinecolor": "rgb(36,36,36)"
           },
           "yaxis": {
            "backgroundcolor": "white",
            "gridcolor": "rgb(232,232,232)",
            "gridwidth": 2,
            "linecolor": "rgb(36,36,36)",
            "showbackground": true,
            "showgrid": false,
            "showline": true,
            "ticks": "outside",
            "zeroline": false,
            "zerolinecolor": "rgb(36,36,36)"
           },
           "zaxis": {
            "backgroundcolor": "white",
            "gridcolor": "rgb(232,232,232)",
            "gridwidth": 2,
            "linecolor": "rgb(36,36,36)",
            "showbackground": true,
            "showgrid": false,
            "showline": true,
            "ticks": "outside",
            "zeroline": false,
            "zerolinecolor": "rgb(36,36,36)"
           }
          },
          "shapedefaults": {
           "fillcolor": "black",
           "line": {
            "width": 0
           },
           "opacity": 0.3
          },
          "ternary": {
           "aaxis": {
            "gridcolor": "rgb(232,232,232)",
            "linecolor": "rgb(36,36,36)",
            "showgrid": false,
            "showline": true,
            "ticks": "outside"
           },
           "baxis": {
            "gridcolor": "rgb(232,232,232)",
            "linecolor": "rgb(36,36,36)",
            "showgrid": false,
            "showline": true,
            "ticks": "outside"
           },
           "bgcolor": "white",
           "caxis": {
            "gridcolor": "rgb(232,232,232)",
            "linecolor": "rgb(36,36,36)",
            "showgrid": false,
            "showline": true,
            "ticks": "outside"
           }
          },
          "title": {
           "x": 0.05
          },
          "xaxis": {
           "automargin": true,
           "gridcolor": "rgb(232,232,232)",
           "linecolor": "rgb(36,36,36)",
           "showgrid": false,
           "showline": true,
           "ticks": "outside",
           "title": {
            "standoff": 15
           },
           "zeroline": false,
           "zerolinecolor": "rgb(36,36,36)"
          },
          "yaxis": {
           "automargin": true,
           "gridcolor": "rgb(232,232,232)",
           "linecolor": "rgb(36,36,36)",
           "showgrid": false,
           "showline": true,
           "ticks": "outside",
           "title": {
            "standoff": 15
           },
           "zeroline": false,
           "zerolinecolor": "rgb(36,36,36)"
          }
         }
        },
        "xaxis": {
         "anchor": "y",
         "domain": [
          0,
          0.45
         ],
         "title": {
          "text": "Time"
         }
        },
        "xaxis2": {
         "anchor": "y2",
         "domain": [
          0.55,
          1
         ],
         "title": {
          "text": "Range of Values"
         }
        },
        "xaxis3": {
         "anchor": "y3",
         "domain": [
          0,
          0.45
         ],
         "range": [
          -1,
          42
         ],
         "title": {
          "text": "Lags"
         }
        },
        "xaxis4": {
         "anchor": "y4",
         "domain": [
          0.55,
          1
         ],
         "title": {
          "text": "Theoretical Quantities"
         }
        },
        "yaxis": {
         "anchor": "x",
         "domain": [
          0.625,
          1
         ],
         "title": {
          "text": "Value"
         }
        },
        "yaxis2": {
         "anchor": "x2",
         "domain": [
          0.625,
          1
         ],
         "title": {
          "text": "PDF"
         }
        },
        "yaxis3": {
         "anchor": "x3",
         "domain": [
          0,
          0.375
         ],
         "title": {
          "text": "ACF"
         },
         "zerolinecolor": "#000000"
        },
        "yaxis4": {
         "anchor": "x4",
         "domain": [
          0,
          0.375
         ],
         "title": {
          "text": "Sample Quantities"
         }
        }
       }
      }
     },
     "metadata": {}
    }
   ],
   "metadata": {}
  },
  {
   "cell_type": "markdown",
   "source": [
    "# Tests"
   ],
   "metadata": {}
  },
  {
   "cell_type": "code",
   "execution_count": 10,
   "source": [
    "exp.check_stats()"
   ],
   "outputs": [
    {
     "output_type": "execute_result",
     "data": {
      "text/html": [
       "<div>\n",
       "<style scoped>\n",
       "    .dataframe tbody tr th:only-of-type {\n",
       "        vertical-align: middle;\n",
       "    }\n",
       "\n",
       "    .dataframe tbody tr th {\n",
       "        vertical-align: top;\n",
       "    }\n",
       "\n",
       "    .dataframe thead th {\n",
       "        text-align: right;\n",
       "    }\n",
       "</style>\n",
       "<table border=\"1\" class=\"dataframe\">\n",
       "  <thead>\n",
       "    <tr style=\"text-align: right;\">\n",
       "      <th></th>\n",
       "      <th></th>\n",
       "      <th></th>\n",
       "      <th></th>\n",
       "      <th>Value</th>\n",
       "    </tr>\n",
       "    <tr>\n",
       "      <th>Test</th>\n",
       "      <th>Test Name</th>\n",
       "      <th>Property</th>\n",
       "      <th>Setting</th>\n",
       "      <th></th>\n",
       "    </tr>\n",
       "  </thead>\n",
       "  <tbody>\n",
       "    <tr>\n",
       "      <th rowspan=\"8\" valign=\"top\">Summary</th>\n",
       "      <th rowspan=\"8\" valign=\"top\">Statistics</th>\n",
       "      <th>Length</th>\n",
       "      <th></th>\n",
       "      <td>144.0</td>\n",
       "    </tr>\n",
       "    <tr>\n",
       "      <th>Mean</th>\n",
       "      <th></th>\n",
       "      <td>280.298611</td>\n",
       "    </tr>\n",
       "    <tr>\n",
       "      <th>Median</th>\n",
       "      <th></th>\n",
       "      <td>265.5</td>\n",
       "    </tr>\n",
       "    <tr>\n",
       "      <th>Standard Deviation</th>\n",
       "      <th></th>\n",
       "      <td>119.966317</td>\n",
       "    </tr>\n",
       "    <tr>\n",
       "      <th>Variance</th>\n",
       "      <th></th>\n",
       "      <td>14391.917201</td>\n",
       "    </tr>\n",
       "    <tr>\n",
       "      <th>Kurtosis</th>\n",
       "      <th></th>\n",
       "      <td>-0.364942</td>\n",
       "    </tr>\n",
       "    <tr>\n",
       "      <th>Skewness</th>\n",
       "      <th></th>\n",
       "      <td>0.58316</td>\n",
       "    </tr>\n",
       "    <tr>\n",
       "      <th># Distinct Values</th>\n",
       "      <th></th>\n",
       "      <td>118.0</td>\n",
       "    </tr>\n",
       "    <tr>\n",
       "      <th rowspan=\"6\" valign=\"top\">White Noise</th>\n",
       "      <th rowspan=\"6\" valign=\"top\">Ljung-Box</th>\n",
       "      <th rowspan=\"2\" valign=\"top\">Test Statictic</th>\n",
       "      <th>24</th>\n",
       "      <td>1606.083817</td>\n",
       "    </tr>\n",
       "    <tr>\n",
       "      <th>48</th>\n",
       "      <td>1933.155822</td>\n",
       "    </tr>\n",
       "    <tr>\n",
       "      <th rowspan=\"2\" valign=\"top\">p-value</th>\n",
       "      <th>24</th>\n",
       "      <td>0.0</td>\n",
       "    </tr>\n",
       "    <tr>\n",
       "      <th>48</th>\n",
       "      <td>0.0</td>\n",
       "    </tr>\n",
       "    <tr>\n",
       "      <th rowspan=\"2\" valign=\"top\">White Noise</th>\n",
       "      <th>24</th>\n",
       "      <td>False</td>\n",
       "    </tr>\n",
       "    <tr>\n",
       "      <th>48</th>\n",
       "      <td>False</td>\n",
       "    </tr>\n",
       "    <tr>\n",
       "      <th rowspan=\"13\" valign=\"top\">Stationarity</th>\n",
       "      <th rowspan=\"6\" valign=\"top\">ADF</th>\n",
       "      <th>Stationarity</th>\n",
       "      <th>0.05</th>\n",
       "      <td>False</td>\n",
       "    </tr>\n",
       "    <tr>\n",
       "      <th>p-value</th>\n",
       "      <th>0.05</th>\n",
       "      <td>0.99188</td>\n",
       "    </tr>\n",
       "    <tr>\n",
       "      <th>Test Statistic</th>\n",
       "      <th>0.05</th>\n",
       "      <td>0.815369</td>\n",
       "    </tr>\n",
       "    <tr>\n",
       "      <th>Critical Value 1%</th>\n",
       "      <th>0.05</th>\n",
       "      <td>-3.481682</td>\n",
       "    </tr>\n",
       "    <tr>\n",
       "      <th>Critical Value 5%</th>\n",
       "      <th>0.05</th>\n",
       "      <td>-2.884042</td>\n",
       "    </tr>\n",
       "    <tr>\n",
       "      <th>Critical Value 10%</th>\n",
       "      <th>0.05</th>\n",
       "      <td>-2.57877</td>\n",
       "    </tr>\n",
       "    <tr>\n",
       "      <th rowspan=\"7\" valign=\"top\">KPSS</th>\n",
       "      <th>Trend Stationarity</th>\n",
       "      <th>0.05</th>\n",
       "      <td>True</td>\n",
       "    </tr>\n",
       "    <tr>\n",
       "      <th>p-value</th>\n",
       "      <th>0.05</th>\n",
       "      <td>0.1</td>\n",
       "    </tr>\n",
       "    <tr>\n",
       "      <th>Test Statistic</th>\n",
       "      <th>0.05</th>\n",
       "      <td>0.09615</td>\n",
       "    </tr>\n",
       "    <tr>\n",
       "      <th>Critical Value 10%</th>\n",
       "      <th>0.05</th>\n",
       "      <td>0.119</td>\n",
       "    </tr>\n",
       "    <tr>\n",
       "      <th>Critical Value 5%</th>\n",
       "      <th>0.05</th>\n",
       "      <td>0.146</td>\n",
       "    </tr>\n",
       "    <tr>\n",
       "      <th>Critical Value 2.5%</th>\n",
       "      <th>0.05</th>\n",
       "      <td>0.176</td>\n",
       "    </tr>\n",
       "    <tr>\n",
       "      <th>Critical Value 1%</th>\n",
       "      <th>0.05</th>\n",
       "      <td>0.216</td>\n",
       "    </tr>\n",
       "    <tr>\n",
       "      <th rowspan=\"2\" valign=\"top\">Normality</th>\n",
       "      <th rowspan=\"2\" valign=\"top\">Shapiro</th>\n",
       "      <th>Normality</th>\n",
       "      <th>0.05</th>\n",
       "      <td>False</td>\n",
       "    </tr>\n",
       "    <tr>\n",
       "      <th>p-value</th>\n",
       "      <th>0.05</th>\n",
       "      <td>0.000068</td>\n",
       "    </tr>\n",
       "  </tbody>\n",
       "</table>\n",
       "</div>"
      ],
      "text/plain": [
       "                                                            Value\n",
       "Test         Test Name  Property            Setting              \n",
       "Summary      Statistics Length                              144.0\n",
       "                        Mean                           280.298611\n",
       "                        Median                              265.5\n",
       "                        Standard Deviation             119.966317\n",
       "                        Variance                     14391.917201\n",
       "                        Kurtosis                        -0.364942\n",
       "                        Skewness                          0.58316\n",
       "                        # Distinct Values                   118.0\n",
       "White Noise  Ljung-Box  Test Statictic      24        1606.083817\n",
       "                                            48        1933.155822\n",
       "                        p-value             24                0.0\n",
       "                                            48                0.0\n",
       "                        White Noise         24              False\n",
       "                                            48              False\n",
       "Stationarity ADF        Stationarity        0.05            False\n",
       "                        p-value             0.05          0.99188\n",
       "                        Test Statistic      0.05         0.815369\n",
       "                        Critical Value 1%   0.05        -3.481682\n",
       "                        Critical Value 5%   0.05        -2.884042\n",
       "                        Critical Value 10%  0.05         -2.57877\n",
       "             KPSS       Trend Stationarity  0.05             True\n",
       "                        p-value             0.05              0.1\n",
       "                        Test Statistic      0.05          0.09615\n",
       "                        Critical Value 10%  0.05            0.119\n",
       "                        Critical Value 5%   0.05            0.146\n",
       "                        Critical Value 2.5% 0.05            0.176\n",
       "                        Critical Value 1%   0.05            0.216\n",
       "Normality    Shapiro    Normality           0.05            False\n",
       "                        p-value             0.05         0.000068"
      ]
     },
     "metadata": {},
     "execution_count": 10
    }
   ],
   "metadata": {}
  },
  {
   "cell_type": "code",
   "execution_count": 11,
   "source": [
    "# Options are: 'all', 'summary', 'white_noise' 'stationarity', 'adf', 'kpss', 'normality'\r\n",
    "exp.check_stats(test=\"summary\")"
   ],
   "outputs": [
    {
     "output_type": "execute_result",
     "data": {
      "text/html": [
       "<div>\n",
       "<style scoped>\n",
       "    .dataframe tbody tr th:only-of-type {\n",
       "        vertical-align: middle;\n",
       "    }\n",
       "\n",
       "    .dataframe tbody tr th {\n",
       "        vertical-align: top;\n",
       "    }\n",
       "\n",
       "    .dataframe thead th {\n",
       "        text-align: right;\n",
       "    }\n",
       "</style>\n",
       "<table border=\"1\" class=\"dataframe\">\n",
       "  <thead>\n",
       "    <tr style=\"text-align: right;\">\n",
       "      <th></th>\n",
       "      <th></th>\n",
       "      <th></th>\n",
       "      <th>Value</th>\n",
       "    </tr>\n",
       "    <tr>\n",
       "      <th>Test</th>\n",
       "      <th>Test Name</th>\n",
       "      <th>Property</th>\n",
       "      <th></th>\n",
       "    </tr>\n",
       "  </thead>\n",
       "  <tbody>\n",
       "    <tr>\n",
       "      <th rowspan=\"8\" valign=\"top\">Summary</th>\n",
       "      <th rowspan=\"8\" valign=\"top\">Statistics</th>\n",
       "      <th>Length</th>\n",
       "      <td>144.000000</td>\n",
       "    </tr>\n",
       "    <tr>\n",
       "      <th>Mean</th>\n",
       "      <td>280.298611</td>\n",
       "    </tr>\n",
       "    <tr>\n",
       "      <th>Median</th>\n",
       "      <td>265.500000</td>\n",
       "    </tr>\n",
       "    <tr>\n",
       "      <th>Standard Deviation</th>\n",
       "      <td>119.966317</td>\n",
       "    </tr>\n",
       "    <tr>\n",
       "      <th>Variance</th>\n",
       "      <td>14391.917201</td>\n",
       "    </tr>\n",
       "    <tr>\n",
       "      <th>Kurtosis</th>\n",
       "      <td>-0.364942</td>\n",
       "    </tr>\n",
       "    <tr>\n",
       "      <th>Skewness</th>\n",
       "      <td>0.583160</td>\n",
       "    </tr>\n",
       "    <tr>\n",
       "      <th># Distinct Values</th>\n",
       "      <td>118.000000</td>\n",
       "    </tr>\n",
       "  </tbody>\n",
       "</table>\n",
       "</div>"
      ],
      "text/plain": [
       "                                              Value\n",
       "Test    Test Name  Property                        \n",
       "Summary Statistics Length                144.000000\n",
       "                   Mean                  280.298611\n",
       "                   Median                265.500000\n",
       "                   Standard Deviation    119.966317\n",
       "                   Variance            14391.917201\n",
       "                   Kurtosis               -0.364942\n",
       "                   Skewness                0.583160\n",
       "                   # Distinct Values     118.000000"
      ]
     },
     "metadata": {},
     "execution_count": 11
    }
   ],
   "metadata": {}
  },
  {
   "cell_type": "code",
   "execution_count": 12,
   "source": [
    "# Setting denotes alpha value used (for most tests). For white noise, it denotes the lags used to test\r\n",
    "exp.check_stats(test='stationarity')"
   ],
   "outputs": [
    {
     "output_type": "execute_result",
     "data": {
      "text/html": [
       "<div>\n",
       "<style scoped>\n",
       "    .dataframe tbody tr th:only-of-type {\n",
       "        vertical-align: middle;\n",
       "    }\n",
       "\n",
       "    .dataframe tbody tr th {\n",
       "        vertical-align: top;\n",
       "    }\n",
       "\n",
       "    .dataframe thead th {\n",
       "        text-align: right;\n",
       "    }\n",
       "</style>\n",
       "<table border=\"1\" class=\"dataframe\">\n",
       "  <thead>\n",
       "    <tr style=\"text-align: right;\">\n",
       "      <th></th>\n",
       "      <th></th>\n",
       "      <th></th>\n",
       "      <th></th>\n",
       "      <th>Value</th>\n",
       "    </tr>\n",
       "    <tr>\n",
       "      <th>Test</th>\n",
       "      <th>Test Name</th>\n",
       "      <th>Property</th>\n",
       "      <th>Setting</th>\n",
       "      <th></th>\n",
       "    </tr>\n",
       "  </thead>\n",
       "  <tbody>\n",
       "    <tr>\n",
       "      <th rowspan=\"13\" valign=\"top\">Stationarity</th>\n",
       "      <th rowspan=\"6\" valign=\"top\">ADF</th>\n",
       "      <th>Stationarity</th>\n",
       "      <th>0.05</th>\n",
       "      <td>False</td>\n",
       "    </tr>\n",
       "    <tr>\n",
       "      <th>p-value</th>\n",
       "      <th>0.05</th>\n",
       "      <td>0.99188</td>\n",
       "    </tr>\n",
       "    <tr>\n",
       "      <th>Test Statistic</th>\n",
       "      <th>0.05</th>\n",
       "      <td>0.815369</td>\n",
       "    </tr>\n",
       "    <tr>\n",
       "      <th>Critical Value 1%</th>\n",
       "      <th>0.05</th>\n",
       "      <td>-3.481682</td>\n",
       "    </tr>\n",
       "    <tr>\n",
       "      <th>Critical Value 5%</th>\n",
       "      <th>0.05</th>\n",
       "      <td>-2.884042</td>\n",
       "    </tr>\n",
       "    <tr>\n",
       "      <th>Critical Value 10%</th>\n",
       "      <th>0.05</th>\n",
       "      <td>-2.57877</td>\n",
       "    </tr>\n",
       "    <tr>\n",
       "      <th rowspan=\"7\" valign=\"top\">KPSS</th>\n",
       "      <th>Trend Stationarity</th>\n",
       "      <th>0.05</th>\n",
       "      <td>True</td>\n",
       "    </tr>\n",
       "    <tr>\n",
       "      <th>p-value</th>\n",
       "      <th>0.05</th>\n",
       "      <td>0.1</td>\n",
       "    </tr>\n",
       "    <tr>\n",
       "      <th>Test Statistic</th>\n",
       "      <th>0.05</th>\n",
       "      <td>0.09615</td>\n",
       "    </tr>\n",
       "    <tr>\n",
       "      <th>Critical Value 10%</th>\n",
       "      <th>0.05</th>\n",
       "      <td>0.119</td>\n",
       "    </tr>\n",
       "    <tr>\n",
       "      <th>Critical Value 5%</th>\n",
       "      <th>0.05</th>\n",
       "      <td>0.146</td>\n",
       "    </tr>\n",
       "    <tr>\n",
       "      <th>Critical Value 2.5%</th>\n",
       "      <th>0.05</th>\n",
       "      <td>0.176</td>\n",
       "    </tr>\n",
       "    <tr>\n",
       "      <th>Critical Value 1%</th>\n",
       "      <th>0.05</th>\n",
       "      <td>0.216</td>\n",
       "    </tr>\n",
       "  </tbody>\n",
       "</table>\n",
       "</div>"
      ],
      "text/plain": [
       "                                                       Value\n",
       "Test         Test Name Property            Setting          \n",
       "Stationarity ADF       Stationarity        0.05        False\n",
       "                       p-value             0.05      0.99188\n",
       "                       Test Statistic      0.05     0.815369\n",
       "                       Critical Value 1%   0.05    -3.481682\n",
       "                       Critical Value 5%   0.05    -2.884042\n",
       "                       Critical Value 10%  0.05     -2.57877\n",
       "             KPSS      Trend Stationarity  0.05         True\n",
       "                       p-value             0.05          0.1\n",
       "                       Test Statistic      0.05      0.09615\n",
       "                       Critical Value 10%  0.05        0.119\n",
       "                       Critical Value 5%   0.05        0.146\n",
       "                       Critical Value 2.5% 0.05        0.176\n",
       "                       Critical Value 1%   0.05        0.216"
      ]
     },
     "metadata": {},
     "execution_count": 12
    }
   ],
   "metadata": {}
  },
  {
   "cell_type": "code",
   "execution_count": 13,
   "source": [
    "# For white noise, Setting it denotes the lags used to test\r\n",
    "exp.check_stats(test='white_noise')"
   ],
   "outputs": [
    {
     "output_type": "execute_result",
     "data": {
      "text/html": [
       "<div>\n",
       "<style scoped>\n",
       "    .dataframe tbody tr th:only-of-type {\n",
       "        vertical-align: middle;\n",
       "    }\n",
       "\n",
       "    .dataframe tbody tr th {\n",
       "        vertical-align: top;\n",
       "    }\n",
       "\n",
       "    .dataframe thead th {\n",
       "        text-align: right;\n",
       "    }\n",
       "</style>\n",
       "<table border=\"1\" class=\"dataframe\">\n",
       "  <thead>\n",
       "    <tr style=\"text-align: right;\">\n",
       "      <th></th>\n",
       "      <th></th>\n",
       "      <th></th>\n",
       "      <th></th>\n",
       "      <th>Value</th>\n",
       "    </tr>\n",
       "    <tr>\n",
       "      <th>Test</th>\n",
       "      <th>Test Name</th>\n",
       "      <th>Property</th>\n",
       "      <th>Setting</th>\n",
       "      <th></th>\n",
       "    </tr>\n",
       "  </thead>\n",
       "  <tbody>\n",
       "    <tr>\n",
       "      <th rowspan=\"6\" valign=\"top\">White Noise</th>\n",
       "      <th rowspan=\"6\" valign=\"top\">Ljung-Box</th>\n",
       "      <th rowspan=\"2\" valign=\"top\">Test Statictic</th>\n",
       "      <th>24</th>\n",
       "      <td>1606.083817</td>\n",
       "    </tr>\n",
       "    <tr>\n",
       "      <th>48</th>\n",
       "      <td>1933.155822</td>\n",
       "    </tr>\n",
       "    <tr>\n",
       "      <th rowspan=\"2\" valign=\"top\">p-value</th>\n",
       "      <th>24</th>\n",
       "      <td>0.0</td>\n",
       "    </tr>\n",
       "    <tr>\n",
       "      <th>48</th>\n",
       "      <td>0.0</td>\n",
       "    </tr>\n",
       "    <tr>\n",
       "      <th rowspan=\"2\" valign=\"top\">White Noise</th>\n",
       "      <th>24</th>\n",
       "      <td>False</td>\n",
       "    </tr>\n",
       "    <tr>\n",
       "      <th>48</th>\n",
       "      <td>False</td>\n",
       "    </tr>\n",
       "  </tbody>\n",
       "</table>\n",
       "</div>"
      ],
      "text/plain": [
       "                                                    Value\n",
       "Test        Test Name Property       Setting             \n",
       "White Noise Ljung-Box Test Statictic 24       1606.083817\n",
       "                                     48       1933.155822\n",
       "                      p-value        24               0.0\n",
       "                                     48               0.0\n",
       "                      White Noise    24             False\n",
       "                                     48             False"
      ]
     },
     "metadata": {},
     "execution_count": 13
    }
   ],
   "metadata": {}
  },
  {
   "cell_type": "code",
   "execution_count": 14,
   "source": [
    "# You can change alpha if needed (would not recommend though)\r\n",
    "exp.check_stats(test='stationarity', alpha = 0.2)"
   ],
   "outputs": [
    {
     "output_type": "execute_result",
     "data": {
      "text/html": [
       "<div>\n",
       "<style scoped>\n",
       "    .dataframe tbody tr th:only-of-type {\n",
       "        vertical-align: middle;\n",
       "    }\n",
       "\n",
       "    .dataframe tbody tr th {\n",
       "        vertical-align: top;\n",
       "    }\n",
       "\n",
       "    .dataframe thead th {\n",
       "        text-align: right;\n",
       "    }\n",
       "</style>\n",
       "<table border=\"1\" class=\"dataframe\">\n",
       "  <thead>\n",
       "    <tr style=\"text-align: right;\">\n",
       "      <th></th>\n",
       "      <th></th>\n",
       "      <th></th>\n",
       "      <th></th>\n",
       "      <th>Value</th>\n",
       "    </tr>\n",
       "    <tr>\n",
       "      <th>Test</th>\n",
       "      <th>Test Name</th>\n",
       "      <th>Property</th>\n",
       "      <th>Setting</th>\n",
       "      <th></th>\n",
       "    </tr>\n",
       "  </thead>\n",
       "  <tbody>\n",
       "    <tr>\n",
       "      <th rowspan=\"13\" valign=\"top\">Stationarity</th>\n",
       "      <th rowspan=\"6\" valign=\"top\">ADF</th>\n",
       "      <th>Stationarity</th>\n",
       "      <th>0.2</th>\n",
       "      <td>False</td>\n",
       "    </tr>\n",
       "    <tr>\n",
       "      <th>p-value</th>\n",
       "      <th>0.2</th>\n",
       "      <td>0.99188</td>\n",
       "    </tr>\n",
       "    <tr>\n",
       "      <th>Test Statistic</th>\n",
       "      <th>0.2</th>\n",
       "      <td>0.815369</td>\n",
       "    </tr>\n",
       "    <tr>\n",
       "      <th>Critical Value 1%</th>\n",
       "      <th>0.2</th>\n",
       "      <td>-3.481682</td>\n",
       "    </tr>\n",
       "    <tr>\n",
       "      <th>Critical Value 5%</th>\n",
       "      <th>0.2</th>\n",
       "      <td>-2.884042</td>\n",
       "    </tr>\n",
       "    <tr>\n",
       "      <th>Critical Value 10%</th>\n",
       "      <th>0.2</th>\n",
       "      <td>-2.57877</td>\n",
       "    </tr>\n",
       "    <tr>\n",
       "      <th rowspan=\"7\" valign=\"top\">KPSS</th>\n",
       "      <th>Trend Stationarity</th>\n",
       "      <th>0.2</th>\n",
       "      <td>False</td>\n",
       "    </tr>\n",
       "    <tr>\n",
       "      <th>p-value</th>\n",
       "      <th>0.2</th>\n",
       "      <td>0.1</td>\n",
       "    </tr>\n",
       "    <tr>\n",
       "      <th>Test Statistic</th>\n",
       "      <th>0.2</th>\n",
       "      <td>0.09615</td>\n",
       "    </tr>\n",
       "    <tr>\n",
       "      <th>Critical Value 10%</th>\n",
       "      <th>0.2</th>\n",
       "      <td>0.119</td>\n",
       "    </tr>\n",
       "    <tr>\n",
       "      <th>Critical Value 5%</th>\n",
       "      <th>0.2</th>\n",
       "      <td>0.146</td>\n",
       "    </tr>\n",
       "    <tr>\n",
       "      <th>Critical Value 2.5%</th>\n",
       "      <th>0.2</th>\n",
       "      <td>0.176</td>\n",
       "    </tr>\n",
       "    <tr>\n",
       "      <th>Critical Value 1%</th>\n",
       "      <th>0.2</th>\n",
       "      <td>0.216</td>\n",
       "    </tr>\n",
       "  </tbody>\n",
       "</table>\n",
       "</div>"
      ],
      "text/plain": [
       "                                                       Value\n",
       "Test         Test Name Property            Setting          \n",
       "Stationarity ADF       Stationarity        0.2         False\n",
       "                       p-value             0.2       0.99188\n",
       "                       Test Statistic      0.2      0.815369\n",
       "                       Critical Value 1%   0.2     -3.481682\n",
       "                       Critical Value 5%   0.2     -2.884042\n",
       "                       Critical Value 10%  0.2      -2.57877\n",
       "             KPSS      Trend Stationarity  0.2         False\n",
       "                       p-value             0.2           0.1\n",
       "                       Test Statistic      0.2       0.09615\n",
       "                       Critical Value 10%  0.2         0.119\n",
       "                       Critical Value 5%   0.2         0.146\n",
       "                       Critical Value 2.5% 0.2         0.176\n",
       "                       Critical Value 1%   0.2         0.216"
      ]
     },
     "metadata": {},
     "execution_count": 14
    }
   ],
   "metadata": {}
  },
  {
   "cell_type": "markdown",
   "source": [
    "# Flow example\n",
    "\n",
    "## Common Setup"
   ],
   "metadata": {}
  },
  {
   "cell_type": "code",
   "execution_count": 15,
   "source": [
    "exp = TimeSeriesExperiment()\r\n",
    "exp.setup(data=y, fh=fh, fold=fold, session_id=42)"
   ],
   "outputs": [
    {
     "output_type": "display_data",
     "data": {
      "text/html": [
       "<style type=\"text/css\">\n",
       "</style>\n",
       "<table id=\"T_e9487_\">\n",
       "  <thead>\n",
       "    <tr>\n",
       "      <th class=\"blank level0\" >&nbsp;</th>\n",
       "      <th class=\"col_heading level0 col0\" >Description</th>\n",
       "      <th class=\"col_heading level0 col1\" >Value</th>\n",
       "    </tr>\n",
       "  </thead>\n",
       "  <tbody>\n",
       "    <tr>\n",
       "      <th id=\"T_e9487_level0_row0\" class=\"row_heading level0 row0\" >0</th>\n",
       "      <td id=\"T_e9487_row0_col0\" class=\"data row0 col0\" >session_id</td>\n",
       "      <td id=\"T_e9487_row0_col1\" class=\"data row0 col1\" >42</td>\n",
       "    </tr>\n",
       "    <tr>\n",
       "      <th id=\"T_e9487_level0_row1\" class=\"row_heading level0 row1\" >1</th>\n",
       "      <td id=\"T_e9487_row1_col0\" class=\"data row1 col0\" >Original Data</td>\n",
       "      <td id=\"T_e9487_row1_col1\" class=\"data row1 col1\" >(144, 1)</td>\n",
       "    </tr>\n",
       "    <tr>\n",
       "      <th id=\"T_e9487_level0_row2\" class=\"row_heading level0 row2\" >2</th>\n",
       "      <td id=\"T_e9487_row2_col0\" class=\"data row2 col0\" >Missing Values</td>\n",
       "      <td id=\"T_e9487_row2_col1\" class=\"data row2 col1\" >False</td>\n",
       "    </tr>\n",
       "    <tr>\n",
       "      <th id=\"T_e9487_level0_row3\" class=\"row_heading level0 row3\" >3</th>\n",
       "      <td id=\"T_e9487_row3_col0\" class=\"data row3 col0\" >Transformed Train Set</td>\n",
       "      <td id=\"T_e9487_row3_col1\" class=\"data row3 col1\" >(132,)</td>\n",
       "    </tr>\n",
       "    <tr>\n",
       "      <th id=\"T_e9487_level0_row4\" class=\"row_heading level0 row4\" >4</th>\n",
       "      <td id=\"T_e9487_row4_col0\" class=\"data row4 col0\" >Transformed Test Set</td>\n",
       "      <td id=\"T_e9487_row4_col1\" class=\"data row4 col1\" >(12,)</td>\n",
       "    </tr>\n",
       "    <tr>\n",
       "      <th id=\"T_e9487_level0_row5\" class=\"row_heading level0 row5\" >5</th>\n",
       "      <td id=\"T_e9487_row5_col0\" class=\"data row5 col0\" >Fold Generator</td>\n",
       "      <td id=\"T_e9487_row5_col1\" class=\"data row5 col1\" >ExpandingWindowSplitter</td>\n",
       "    </tr>\n",
       "    <tr>\n",
       "      <th id=\"T_e9487_level0_row6\" class=\"row_heading level0 row6\" >6</th>\n",
       "      <td id=\"T_e9487_row6_col0\" class=\"data row6 col0\" >Fold Number</td>\n",
       "      <td id=\"T_e9487_row6_col1\" class=\"data row6 col1\" >3</td>\n",
       "    </tr>\n",
       "    <tr>\n",
       "      <th id=\"T_e9487_level0_row7\" class=\"row_heading level0 row7\" >7</th>\n",
       "      <td id=\"T_e9487_row7_col0\" class=\"data row7 col0\" >CPU Jobs</td>\n",
       "      <td id=\"T_e9487_row7_col1\" class=\"data row7 col1\" >-1</td>\n",
       "    </tr>\n",
       "    <tr>\n",
       "      <th id=\"T_e9487_level0_row8\" class=\"row_heading level0 row8\" >8</th>\n",
       "      <td id=\"T_e9487_row8_col0\" class=\"data row8 col0\" >Use GPU</td>\n",
       "      <td id=\"T_e9487_row8_col1\" class=\"data row8 col1\" >False</td>\n",
       "    </tr>\n",
       "    <tr>\n",
       "      <th id=\"T_e9487_level0_row9\" class=\"row_heading level0 row9\" >9</th>\n",
       "      <td id=\"T_e9487_row9_col0\" class=\"data row9 col0\" >Log Experiment</td>\n",
       "      <td id=\"T_e9487_row9_col1\" class=\"data row9 col1\" >False</td>\n",
       "    </tr>\n",
       "    <tr>\n",
       "      <th id=\"T_e9487_level0_row10\" class=\"row_heading level0 row10\" >10</th>\n",
       "      <td id=\"T_e9487_row10_col0\" class=\"data row10 col0\" >Experiment Name</td>\n",
       "      <td id=\"T_e9487_row10_col1\" class=\"data row10 col1\" >ts-default-name</td>\n",
       "    </tr>\n",
       "    <tr>\n",
       "      <th id=\"T_e9487_level0_row11\" class=\"row_heading level0 row11\" >11</th>\n",
       "      <td id=\"T_e9487_row11_col0\" class=\"data row11 col0\" >USI</td>\n",
       "      <td id=\"T_e9487_row11_col1\" class=\"data row11 col1\" >9c8a</td>\n",
       "    </tr>\n",
       "    <tr>\n",
       "      <th id=\"T_e9487_level0_row12\" class=\"row_heading level0 row12\" >12</th>\n",
       "      <td id=\"T_e9487_row12_col0\" class=\"data row12 col0\" >Imputation Type</td>\n",
       "      <td id=\"T_e9487_row12_col1\" class=\"data row12 col1\" >simple</td>\n",
       "    </tr>\n",
       "  </tbody>\n",
       "</table>\n"
      ],
      "text/plain": [
       "<pandas.io.formats.style.Styler at 0x1cb08659c88>"
      ]
     },
     "metadata": {}
    },
    {
     "output_type": "execute_result",
     "data": {
      "text/plain": [
       "<pycaret.internal.pycaret_experiment.time_series_experiment.TimeSeriesExperiment at 0x1cb0a2fa3c8>"
      ]
     },
     "metadata": {},
     "execution_count": 15
    }
   ],
   "metadata": {}
  },
  {
   "cell_type": "code",
   "execution_count": 16,
   "source": [
    "y_train = exp.get_config(\"y_train\")\r\n",
    "y_test = exp.get_config(\"y_test\")"
   ],
   "outputs": [],
   "metadata": {}
  },
  {
   "cell_type": "markdown",
   "source": [
    "## Manual Create\n",
    "\n",
    "### Classical Statistical Models"
   ],
   "metadata": {}
  },
  {
   "cell_type": "code",
   "execution_count": 17,
   "source": [
    "model = exp.create_model(\"exp_smooth\")\r\n",
    "y_predict = exp.predict_model(model)\r\n",
    "exp.plot_model(estimator=model)\r\n",
    "round(mean_absolute_percentage_error(y_predict, y_test), 4)"
   ],
   "outputs": [
    {
     "output_type": "display_data",
     "data": {
      "text/html": [
       "<style type=\"text/css\">\n",
       "#T_217a6_row3_col0, #T_217a6_row3_col1, #T_217a6_row3_col2, #T_217a6_row3_col3, #T_217a6_row3_col4, #T_217a6_row3_col5 {\n",
       "  background: yellow;\n",
       "}\n",
       "</style>\n",
       "<table id=\"T_217a6_\">\n",
       "  <thead>\n",
       "    <tr>\n",
       "      <th class=\"blank level0\" >&nbsp;</th>\n",
       "      <th class=\"col_heading level0 col0\" >cutoff</th>\n",
       "      <th class=\"col_heading level0 col1\" >MAE</th>\n",
       "      <th class=\"col_heading level0 col2\" >RMSE</th>\n",
       "      <th class=\"col_heading level0 col3\" >MAPE</th>\n",
       "      <th class=\"col_heading level0 col4\" >SMAPE</th>\n",
       "      <th class=\"col_heading level0 col5\" >R2</th>\n",
       "    </tr>\n",
       "  </thead>\n",
       "  <tbody>\n",
       "    <tr>\n",
       "      <th id=\"T_217a6_level0_row0\" class=\"row_heading level0 row0\" >0</th>\n",
       "      <td id=\"T_217a6_row0_col0\" class=\"data row0 col0\" >1956-12</td>\n",
       "      <td id=\"T_217a6_row0_col1\" class=\"data row0 col1\" >13.7395</td>\n",
       "      <td id=\"T_217a6_row0_col2\" class=\"data row0 col2\" >17.8049</td>\n",
       "      <td id=\"T_217a6_row0_col3\" class=\"data row0 col3\" >0.0347</td>\n",
       "      <td id=\"T_217a6_row0_col4\" class=\"data row0 col4\" >0.0355</td>\n",
       "      <td id=\"T_217a6_row0_col5\" class=\"data row0 col5\" >0.8968</td>\n",
       "    </tr>\n",
       "    <tr>\n",
       "      <th id=\"T_217a6_level0_row1\" class=\"row_heading level0 row1\" >1</th>\n",
       "      <td id=\"T_217a6_row1_col0\" class=\"data row1 col0\" >1957-12</td>\n",
       "      <td id=\"T_217a6_row1_col1\" class=\"data row1 col1\" >24.6241</td>\n",
       "      <td id=\"T_217a6_row1_col2\" class=\"data row1 col2\" >27.0346</td>\n",
       "      <td id=\"T_217a6_row1_col3\" class=\"data row1 col3\" >0.0684</td>\n",
       "      <td id=\"T_217a6_row1_col4\" class=\"data row1 col4\" >0.0656</td>\n",
       "      <td id=\"T_217a6_row1_col5\" class=\"data row1 col5\" >0.8085</td>\n",
       "    </tr>\n",
       "    <tr>\n",
       "      <th id=\"T_217a6_level0_row2\" class=\"row_heading level0 row2\" >2</th>\n",
       "      <td id=\"T_217a6_row2_col0\" class=\"data row2 col0\" >1958-12</td>\n",
       "      <td id=\"T_217a6_row2_col1\" class=\"data row2 col1\" >20.8190</td>\n",
       "      <td id=\"T_217a6_row2_col2\" class=\"data row2 col2\" >23.4547</td>\n",
       "      <td id=\"T_217a6_row2_col3\" class=\"data row2 col3\" >0.0480</td>\n",
       "      <td id=\"T_217a6_row2_col4\" class=\"data row2 col4\" >0.0494</td>\n",
       "      <td id=\"T_217a6_row2_col5\" class=\"data row2 col5\" >0.8769</td>\n",
       "    </tr>\n",
       "    <tr>\n",
       "      <th id=\"T_217a6_level0_row3\" class=\"row_heading level0 row3\" >Mean</th>\n",
       "      <td id=\"T_217a6_row3_col0\" class=\"data row3 col0\" >NaT</td>\n",
       "      <td id=\"T_217a6_row3_col1\" class=\"data row3 col1\" >19.7275</td>\n",
       "      <td id=\"T_217a6_row3_col2\" class=\"data row3 col2\" >22.7648</td>\n",
       "      <td id=\"T_217a6_row3_col3\" class=\"data row3 col3\" >0.0503</td>\n",
       "      <td id=\"T_217a6_row3_col4\" class=\"data row3 col4\" >0.0502</td>\n",
       "      <td id=\"T_217a6_row3_col5\" class=\"data row3 col5\" >0.8608</td>\n",
       "    </tr>\n",
       "    <tr>\n",
       "      <th id=\"T_217a6_level0_row4\" class=\"row_heading level0 row4\" >SD</th>\n",
       "      <td id=\"T_217a6_row4_col0\" class=\"data row4 col0\" >NaT</td>\n",
       "      <td id=\"T_217a6_row4_col1\" class=\"data row4 col1\" >4.5101</td>\n",
       "      <td id=\"T_217a6_row4_col2\" class=\"data row4 col2\" >3.7994</td>\n",
       "      <td id=\"T_217a6_row4_col3\" class=\"data row4 col3\" >0.0138</td>\n",
       "      <td id=\"T_217a6_row4_col4\" class=\"data row4 col4\" >0.0123</td>\n",
       "      <td id=\"T_217a6_row4_col5\" class=\"data row4 col5\" >0.0378</td>\n",
       "    </tr>\n",
       "  </tbody>\n",
       "</table>\n"
      ],
      "text/plain": [
       "<pandas.io.formats.style.Styler at 0x1cb0863eb48>"
      ]
     },
     "metadata": {}
    },
    {
     "output_type": "display_data",
     "data": {
      "text/html": [
       "<style type=\"text/css\">\n",
       "</style>\n",
       "<table id=\"T_fa273_\">\n",
       "  <thead>\n",
       "    <tr>\n",
       "      <th class=\"blank level0\" >&nbsp;</th>\n",
       "      <th class=\"col_heading level0 col0\" >Model</th>\n",
       "      <th class=\"col_heading level0 col1\" >MAE</th>\n",
       "      <th class=\"col_heading level0 col2\" >RMSE</th>\n",
       "      <th class=\"col_heading level0 col3\" >MAPE</th>\n",
       "      <th class=\"col_heading level0 col4\" >SMAPE</th>\n",
       "      <th class=\"col_heading level0 col5\" >R2</th>\n",
       "    </tr>\n",
       "  </thead>\n",
       "  <tbody>\n",
       "    <tr>\n",
       "      <th id=\"T_fa273_level0_row0\" class=\"row_heading level0 row0\" >0</th>\n",
       "      <td id=\"T_fa273_row0_col0\" class=\"data row0 col0\" >Exponential Smoothing</td>\n",
       "      <td id=\"T_fa273_row0_col1\" class=\"data row0 col1\" >13.3808</td>\n",
       "      <td id=\"T_fa273_row0_col2\" class=\"data row0 col2\" >16.9801</td>\n",
       "      <td id=\"T_fa273_row0_col3\" class=\"data row0 col3\" >0.0280</td>\n",
       "      <td id=\"T_fa273_row0_col4\" class=\"data row0 col4\" >0.0280</td>\n",
       "      <td id=\"T_fa273_row0_col5\" class=\"data row0 col5\" >0.9480</td>\n",
       "    </tr>\n",
       "  </tbody>\n",
       "</table>\n"
      ],
      "text/plain": [
       "<pandas.io.formats.style.Styler at 0x1cb05287108>"
      ]
     },
     "metadata": {}
    },
    {
     "output_type": "display_data",
     "data": {
      "application/vnd.plotly.v1+json": {
       "config": {
        "plotlyServerURL": "https://plot.ly"
       },
       "data": [
        {
         "line": {
          "color": "#1f77b4"
         },
         "marker": {
          "size": 5
         },
         "mode": "lines+markers",
         "name": "Forecast | Exponential Smoothing",
         "showlegend": true,
         "type": "scatter",
         "x": [
          "1960-01-01T00:00:00",
          "1960-02-01T00:00:00",
          "1960-03-01T00:00:00",
          "1960-04-01T00:00:00",
          "1960-05-01T00:00:00",
          "1960-06-01T00:00:00",
          "1960-07-01T00:00:00",
          "1960-08-01T00:00:00",
          "1960-09-01T00:00:00",
          "1960-10-01T00:00:00",
          "1960-11-01T00:00:00",
          "1960-12-01T00:00:00"
         ],
         "y": [
          415.4539464780454,
          397.08728660453005,
          457.4693936338017,
          445.36712607663986,
          466.1857099593835,
          520.7294971094267,
          592.4219514972725,
          598.8424750195711,
          498.8281684444834,
          442.3821932464351,
          396.5147273606932,
          424.29047634062516
         ]
        },
        {
         "marker": {
          "color": "#3f3f3f",
          "size": 5
         },
         "mode": "lines+markers",
         "name": "Original",
         "showlegend": true,
         "type": "scatter",
         "x": [
          "1949-01-01T00:00:00",
          "1949-02-01T00:00:00",
          "1949-03-01T00:00:00",
          "1949-04-01T00:00:00",
          "1949-05-01T00:00:00",
          "1949-06-01T00:00:00",
          "1949-07-01T00:00:00",
          "1949-08-01T00:00:00",
          "1949-09-01T00:00:00",
          "1949-10-01T00:00:00",
          "1949-11-01T00:00:00",
          "1949-12-01T00:00:00",
          "1950-01-01T00:00:00",
          "1950-02-01T00:00:00",
          "1950-03-01T00:00:00",
          "1950-04-01T00:00:00",
          "1950-05-01T00:00:00",
          "1950-06-01T00:00:00",
          "1950-07-01T00:00:00",
          "1950-08-01T00:00:00",
          "1950-09-01T00:00:00",
          "1950-10-01T00:00:00",
          "1950-11-01T00:00:00",
          "1950-12-01T00:00:00",
          "1951-01-01T00:00:00",
          "1951-02-01T00:00:00",
          "1951-03-01T00:00:00",
          "1951-04-01T00:00:00",
          "1951-05-01T00:00:00",
          "1951-06-01T00:00:00",
          "1951-07-01T00:00:00",
          "1951-08-01T00:00:00",
          "1951-09-01T00:00:00",
          "1951-10-01T00:00:00",
          "1951-11-01T00:00:00",
          "1951-12-01T00:00:00",
          "1952-01-01T00:00:00",
          "1952-02-01T00:00:00",
          "1952-03-01T00:00:00",
          "1952-04-01T00:00:00",
          "1952-05-01T00:00:00",
          "1952-06-01T00:00:00",
          "1952-07-01T00:00:00",
          "1952-08-01T00:00:00",
          "1952-09-01T00:00:00",
          "1952-10-01T00:00:00",
          "1952-11-01T00:00:00",
          "1952-12-01T00:00:00",
          "1953-01-01T00:00:00",
          "1953-02-01T00:00:00",
          "1953-03-01T00:00:00",
          "1953-04-01T00:00:00",
          "1953-05-01T00:00:00",
          "1953-06-01T00:00:00",
          "1953-07-01T00:00:00",
          "1953-08-01T00:00:00",
          "1953-09-01T00:00:00",
          "1953-10-01T00:00:00",
          "1953-11-01T00:00:00",
          "1953-12-01T00:00:00",
          "1954-01-01T00:00:00",
          "1954-02-01T00:00:00",
          "1954-03-01T00:00:00",
          "1954-04-01T00:00:00",
          "1954-05-01T00:00:00",
          "1954-06-01T00:00:00",
          "1954-07-01T00:00:00",
          "1954-08-01T00:00:00",
          "1954-09-01T00:00:00",
          "1954-10-01T00:00:00",
          "1954-11-01T00:00:00",
          "1954-12-01T00:00:00",
          "1955-01-01T00:00:00",
          "1955-02-01T00:00:00",
          "1955-03-01T00:00:00",
          "1955-04-01T00:00:00",
          "1955-05-01T00:00:00",
          "1955-06-01T00:00:00",
          "1955-07-01T00:00:00",
          "1955-08-01T00:00:00",
          "1955-09-01T00:00:00",
          "1955-10-01T00:00:00",
          "1955-11-01T00:00:00",
          "1955-12-01T00:00:00",
          "1956-01-01T00:00:00",
          "1956-02-01T00:00:00",
          "1956-03-01T00:00:00",
          "1956-04-01T00:00:00",
          "1956-05-01T00:00:00",
          "1956-06-01T00:00:00",
          "1956-07-01T00:00:00",
          "1956-08-01T00:00:00",
          "1956-09-01T00:00:00",
          "1956-10-01T00:00:00",
          "1956-11-01T00:00:00",
          "1956-12-01T00:00:00",
          "1957-01-01T00:00:00",
          "1957-02-01T00:00:00",
          "1957-03-01T00:00:00",
          "1957-04-01T00:00:00",
          "1957-05-01T00:00:00",
          "1957-06-01T00:00:00",
          "1957-07-01T00:00:00",
          "1957-08-01T00:00:00",
          "1957-09-01T00:00:00",
          "1957-10-01T00:00:00",
          "1957-11-01T00:00:00",
          "1957-12-01T00:00:00",
          "1958-01-01T00:00:00",
          "1958-02-01T00:00:00",
          "1958-03-01T00:00:00",
          "1958-04-01T00:00:00",
          "1958-05-01T00:00:00",
          "1958-06-01T00:00:00",
          "1958-07-01T00:00:00",
          "1958-08-01T00:00:00",
          "1958-09-01T00:00:00",
          "1958-10-01T00:00:00",
          "1958-11-01T00:00:00",
          "1958-12-01T00:00:00",
          "1959-01-01T00:00:00",
          "1959-02-01T00:00:00",
          "1959-03-01T00:00:00",
          "1959-04-01T00:00:00",
          "1959-05-01T00:00:00",
          "1959-06-01T00:00:00",
          "1959-07-01T00:00:00",
          "1959-08-01T00:00:00",
          "1959-09-01T00:00:00",
          "1959-10-01T00:00:00",
          "1959-11-01T00:00:00",
          "1959-12-01T00:00:00",
          "1960-01-01T00:00:00",
          "1960-02-01T00:00:00",
          "1960-03-01T00:00:00",
          "1960-04-01T00:00:00",
          "1960-05-01T00:00:00",
          "1960-06-01T00:00:00",
          "1960-07-01T00:00:00",
          "1960-08-01T00:00:00",
          "1960-09-01T00:00:00",
          "1960-10-01T00:00:00",
          "1960-11-01T00:00:00",
          "1960-12-01T00:00:00"
         ],
         "y": [
          112,
          118,
          132,
          129,
          121,
          135,
          148,
          148,
          136,
          119,
          104,
          118,
          115,
          126,
          141,
          135,
          125,
          149,
          170,
          170,
          158,
          133,
          114,
          140,
          145,
          150,
          178,
          163,
          172,
          178,
          199,
          199,
          184,
          162,
          146,
          166,
          171,
          180,
          193,
          181,
          183,
          218,
          230,
          242,
          209,
          191,
          172,
          194,
          196,
          196,
          236,
          235,
          229,
          243,
          264,
          272,
          237,
          211,
          180,
          201,
          204,
          188,
          235,
          227,
          234,
          264,
          302,
          293,
          259,
          229,
          203,
          229,
          242,
          233,
          267,
          269,
          270,
          315,
          364,
          347,
          312,
          274,
          237,
          278,
          284,
          277,
          317,
          313,
          318,
          374,
          413,
          405,
          355,
          306,
          271,
          306,
          315,
          301,
          356,
          348,
          355,
          422,
          465,
          467,
          404,
          347,
          305,
          336,
          340,
          318,
          362,
          348,
          363,
          435,
          491,
          505,
          404,
          359,
          310,
          337,
          360,
          342,
          406,
          396,
          420,
          472,
          548,
          559,
          463,
          407,
          362,
          405,
          417,
          391,
          419,
          461,
          472,
          535,
          622,
          606,
          508,
          461,
          390,
          432
         ]
        }
       ],
       "layout": {
        "showlegend": true,
        "template": {
         "data": {
          "bar": [
           {
            "error_x": {
             "color": "rgb(36,36,36)"
            },
            "error_y": {
             "color": "rgb(36,36,36)"
            },
            "marker": {
             "line": {
              "color": "white",
              "width": 0.5
             },
             "pattern": {
              "fillmode": "overlay",
              "size": 10,
              "solidity": 0.2
             }
            },
            "type": "bar"
           }
          ],
          "barpolar": [
           {
            "marker": {
             "line": {
              "color": "white",
              "width": 0.5
             },
             "pattern": {
              "fillmode": "overlay",
              "size": 10,
              "solidity": 0.2
             }
            },
            "type": "barpolar"
           }
          ],
          "carpet": [
           {
            "aaxis": {
             "endlinecolor": "rgb(36,36,36)",
             "gridcolor": "white",
             "linecolor": "white",
             "minorgridcolor": "white",
             "startlinecolor": "rgb(36,36,36)"
            },
            "baxis": {
             "endlinecolor": "rgb(36,36,36)",
             "gridcolor": "white",
             "linecolor": "white",
             "minorgridcolor": "white",
             "startlinecolor": "rgb(36,36,36)"
            },
            "type": "carpet"
           }
          ],
          "choropleth": [
           {
            "colorbar": {
             "outlinewidth": 1,
             "tickcolor": "rgb(36,36,36)",
             "ticks": "outside"
            },
            "type": "choropleth"
           }
          ],
          "contour": [
           {
            "colorbar": {
             "outlinewidth": 1,
             "tickcolor": "rgb(36,36,36)",
             "ticks": "outside"
            },
            "colorscale": [
             [
              0,
              "#440154"
             ],
             [
              0.1111111111111111,
              "#482878"
             ],
             [
              0.2222222222222222,
              "#3e4989"
             ],
             [
              0.3333333333333333,
              "#31688e"
             ],
             [
              0.4444444444444444,
              "#26828e"
             ],
             [
              0.5555555555555556,
              "#1f9e89"
             ],
             [
              0.6666666666666666,
              "#35b779"
             ],
             [
              0.7777777777777778,
              "#6ece58"
             ],
             [
              0.8888888888888888,
              "#b5de2b"
             ],
             [
              1,
              "#fde725"
             ]
            ],
            "type": "contour"
           }
          ],
          "contourcarpet": [
           {
            "colorbar": {
             "outlinewidth": 1,
             "tickcolor": "rgb(36,36,36)",
             "ticks": "outside"
            },
            "type": "contourcarpet"
           }
          ],
          "heatmap": [
           {
            "colorbar": {
             "outlinewidth": 1,
             "tickcolor": "rgb(36,36,36)",
             "ticks": "outside"
            },
            "colorscale": [
             [
              0,
              "#440154"
             ],
             [
              0.1111111111111111,
              "#482878"
             ],
             [
              0.2222222222222222,
              "#3e4989"
             ],
             [
              0.3333333333333333,
              "#31688e"
             ],
             [
              0.4444444444444444,
              "#26828e"
             ],
             [
              0.5555555555555556,
              "#1f9e89"
             ],
             [
              0.6666666666666666,
              "#35b779"
             ],
             [
              0.7777777777777778,
              "#6ece58"
             ],
             [
              0.8888888888888888,
              "#b5de2b"
             ],
             [
              1,
              "#fde725"
             ]
            ],
            "type": "heatmap"
           }
          ],
          "heatmapgl": [
           {
            "colorbar": {
             "outlinewidth": 1,
             "tickcolor": "rgb(36,36,36)",
             "ticks": "outside"
            },
            "colorscale": [
             [
              0,
              "#440154"
             ],
             [
              0.1111111111111111,
              "#482878"
             ],
             [
              0.2222222222222222,
              "#3e4989"
             ],
             [
              0.3333333333333333,
              "#31688e"
             ],
             [
              0.4444444444444444,
              "#26828e"
             ],
             [
              0.5555555555555556,
              "#1f9e89"
             ],
             [
              0.6666666666666666,
              "#35b779"
             ],
             [
              0.7777777777777778,
              "#6ece58"
             ],
             [
              0.8888888888888888,
              "#b5de2b"
             ],
             [
              1,
              "#fde725"
             ]
            ],
            "type": "heatmapgl"
           }
          ],
          "histogram": [
           {
            "marker": {
             "line": {
              "color": "white",
              "width": 0.6
             }
            },
            "type": "histogram"
           }
          ],
          "histogram2d": [
           {
            "colorbar": {
             "outlinewidth": 1,
             "tickcolor": "rgb(36,36,36)",
             "ticks": "outside"
            },
            "colorscale": [
             [
              0,
              "#440154"
             ],
             [
              0.1111111111111111,
              "#482878"
             ],
             [
              0.2222222222222222,
              "#3e4989"
             ],
             [
              0.3333333333333333,
              "#31688e"
             ],
             [
              0.4444444444444444,
              "#26828e"
             ],
             [
              0.5555555555555556,
              "#1f9e89"
             ],
             [
              0.6666666666666666,
              "#35b779"
             ],
             [
              0.7777777777777778,
              "#6ece58"
             ],
             [
              0.8888888888888888,
              "#b5de2b"
             ],
             [
              1,
              "#fde725"
             ]
            ],
            "type": "histogram2d"
           }
          ],
          "histogram2dcontour": [
           {
            "colorbar": {
             "outlinewidth": 1,
             "tickcolor": "rgb(36,36,36)",
             "ticks": "outside"
            },
            "colorscale": [
             [
              0,
              "#440154"
             ],
             [
              0.1111111111111111,
              "#482878"
             ],
             [
              0.2222222222222222,
              "#3e4989"
             ],
             [
              0.3333333333333333,
              "#31688e"
             ],
             [
              0.4444444444444444,
              "#26828e"
             ],
             [
              0.5555555555555556,
              "#1f9e89"
             ],
             [
              0.6666666666666666,
              "#35b779"
             ],
             [
              0.7777777777777778,
              "#6ece58"
             ],
             [
              0.8888888888888888,
              "#b5de2b"
             ],
             [
              1,
              "#fde725"
             ]
            ],
            "type": "histogram2dcontour"
           }
          ],
          "mesh3d": [
           {
            "colorbar": {
             "outlinewidth": 1,
             "tickcolor": "rgb(36,36,36)",
             "ticks": "outside"
            },
            "type": "mesh3d"
           }
          ],
          "parcoords": [
           {
            "line": {
             "colorbar": {
              "outlinewidth": 1,
              "tickcolor": "rgb(36,36,36)",
              "ticks": "outside"
             }
            },
            "type": "parcoords"
           }
          ],
          "pie": [
           {
            "automargin": true,
            "type": "pie"
           }
          ],
          "scatter": [
           {
            "marker": {
             "colorbar": {
              "outlinewidth": 1,
              "tickcolor": "rgb(36,36,36)",
              "ticks": "outside"
             }
            },
            "type": "scatter"
           }
          ],
          "scatter3d": [
           {
            "line": {
             "colorbar": {
              "outlinewidth": 1,
              "tickcolor": "rgb(36,36,36)",
              "ticks": "outside"
             }
            },
            "marker": {
             "colorbar": {
              "outlinewidth": 1,
              "tickcolor": "rgb(36,36,36)",
              "ticks": "outside"
             }
            },
            "type": "scatter3d"
           }
          ],
          "scattercarpet": [
           {
            "marker": {
             "colorbar": {
              "outlinewidth": 1,
              "tickcolor": "rgb(36,36,36)",
              "ticks": "outside"
             }
            },
            "type": "scattercarpet"
           }
          ],
          "scattergeo": [
           {
            "marker": {
             "colorbar": {
              "outlinewidth": 1,
              "tickcolor": "rgb(36,36,36)",
              "ticks": "outside"
             }
            },
            "type": "scattergeo"
           }
          ],
          "scattergl": [
           {
            "marker": {
             "colorbar": {
              "outlinewidth": 1,
              "tickcolor": "rgb(36,36,36)",
              "ticks": "outside"
             }
            },
            "type": "scattergl"
           }
          ],
          "scattermapbox": [
           {
            "marker": {
             "colorbar": {
              "outlinewidth": 1,
              "tickcolor": "rgb(36,36,36)",
              "ticks": "outside"
             }
            },
            "type": "scattermapbox"
           }
          ],
          "scatterpolar": [
           {
            "marker": {
             "colorbar": {
              "outlinewidth": 1,
              "tickcolor": "rgb(36,36,36)",
              "ticks": "outside"
             }
            },
            "type": "scatterpolar"
           }
          ],
          "scatterpolargl": [
           {
            "marker": {
             "colorbar": {
              "outlinewidth": 1,
              "tickcolor": "rgb(36,36,36)",
              "ticks": "outside"
             }
            },
            "type": "scatterpolargl"
           }
          ],
          "scatterternary": [
           {
            "marker": {
             "colorbar": {
              "outlinewidth": 1,
              "tickcolor": "rgb(36,36,36)",
              "ticks": "outside"
             }
            },
            "type": "scatterternary"
           }
          ],
          "surface": [
           {
            "colorbar": {
             "outlinewidth": 1,
             "tickcolor": "rgb(36,36,36)",
             "ticks": "outside"
            },
            "colorscale": [
             [
              0,
              "#440154"
             ],
             [
              0.1111111111111111,
              "#482878"
             ],
             [
              0.2222222222222222,
              "#3e4989"
             ],
             [
              0.3333333333333333,
              "#31688e"
             ],
             [
              0.4444444444444444,
              "#26828e"
             ],
             [
              0.5555555555555556,
              "#1f9e89"
             ],
             [
              0.6666666666666666,
              "#35b779"
             ],
             [
              0.7777777777777778,
              "#6ece58"
             ],
             [
              0.8888888888888888,
              "#b5de2b"
             ],
             [
              1,
              "#fde725"
             ]
            ],
            "type": "surface"
           }
          ],
          "table": [
           {
            "cells": {
             "fill": {
              "color": "rgb(237,237,237)"
             },
             "line": {
              "color": "white"
             }
            },
            "header": {
             "fill": {
              "color": "rgb(217,217,217)"
             },
             "line": {
              "color": "white"
             }
            },
            "type": "table"
           }
          ]
         },
         "layout": {
          "annotationdefaults": {
           "arrowhead": 0,
           "arrowwidth": 1
          },
          "autotypenumbers": "strict",
          "coloraxis": {
           "colorbar": {
            "outlinewidth": 1,
            "tickcolor": "rgb(36,36,36)",
            "ticks": "outside"
           }
          },
          "colorscale": {
           "diverging": [
            [
             0,
             "rgb(103,0,31)"
            ],
            [
             0.1,
             "rgb(178,24,43)"
            ],
            [
             0.2,
             "rgb(214,96,77)"
            ],
            [
             0.3,
             "rgb(244,165,130)"
            ],
            [
             0.4,
             "rgb(253,219,199)"
            ],
            [
             0.5,
             "rgb(247,247,247)"
            ],
            [
             0.6,
             "rgb(209,229,240)"
            ],
            [
             0.7,
             "rgb(146,197,222)"
            ],
            [
             0.8,
             "rgb(67,147,195)"
            ],
            [
             0.9,
             "rgb(33,102,172)"
            ],
            [
             1,
             "rgb(5,48,97)"
            ]
           ],
           "sequential": [
            [
             0,
             "#440154"
            ],
            [
             0.1111111111111111,
             "#482878"
            ],
            [
             0.2222222222222222,
             "#3e4989"
            ],
            [
             0.3333333333333333,
             "#31688e"
            ],
            [
             0.4444444444444444,
             "#26828e"
            ],
            [
             0.5555555555555556,
             "#1f9e89"
            ],
            [
             0.6666666666666666,
             "#35b779"
            ],
            [
             0.7777777777777778,
             "#6ece58"
            ],
            [
             0.8888888888888888,
             "#b5de2b"
            ],
            [
             1,
             "#fde725"
            ]
           ],
           "sequentialminus": [
            [
             0,
             "#440154"
            ],
            [
             0.1111111111111111,
             "#482878"
            ],
            [
             0.2222222222222222,
             "#3e4989"
            ],
            [
             0.3333333333333333,
             "#31688e"
            ],
            [
             0.4444444444444444,
             "#26828e"
            ],
            [
             0.5555555555555556,
             "#1f9e89"
            ],
            [
             0.6666666666666666,
             "#35b779"
            ],
            [
             0.7777777777777778,
             "#6ece58"
            ],
            [
             0.8888888888888888,
             "#b5de2b"
            ],
            [
             1,
             "#fde725"
            ]
           ]
          },
          "colorway": [
           "#1F77B4",
           "#FF7F0E",
           "#2CA02C",
           "#D62728",
           "#9467BD",
           "#8C564B",
           "#E377C2",
           "#7F7F7F",
           "#BCBD22",
           "#17BECF"
          ],
          "font": {
           "color": "rgb(36,36,36)"
          },
          "geo": {
           "bgcolor": "white",
           "lakecolor": "white",
           "landcolor": "white",
           "showlakes": true,
           "showland": true,
           "subunitcolor": "white"
          },
          "hoverlabel": {
           "align": "left"
          },
          "hovermode": "closest",
          "mapbox": {
           "style": "light"
          },
          "paper_bgcolor": "white",
          "plot_bgcolor": "white",
          "polar": {
           "angularaxis": {
            "gridcolor": "rgb(232,232,232)",
            "linecolor": "rgb(36,36,36)",
            "showgrid": false,
            "showline": true,
            "ticks": "outside"
           },
           "bgcolor": "white",
           "radialaxis": {
            "gridcolor": "rgb(232,232,232)",
            "linecolor": "rgb(36,36,36)",
            "showgrid": false,
            "showline": true,
            "ticks": "outside"
           }
          },
          "scene": {
           "xaxis": {
            "backgroundcolor": "white",
            "gridcolor": "rgb(232,232,232)",
            "gridwidth": 2,
            "linecolor": "rgb(36,36,36)",
            "showbackground": true,
            "showgrid": false,
            "showline": true,
            "ticks": "outside",
            "zeroline": false,
            "zerolinecolor": "rgb(36,36,36)"
           },
           "yaxis": {
            "backgroundcolor": "white",
            "gridcolor": "rgb(232,232,232)",
            "gridwidth": 2,
            "linecolor": "rgb(36,36,36)",
            "showbackground": true,
            "showgrid": false,
            "showline": true,
            "ticks": "outside",
            "zeroline": false,
            "zerolinecolor": "rgb(36,36,36)"
           },
           "zaxis": {
            "backgroundcolor": "white",
            "gridcolor": "rgb(232,232,232)",
            "gridwidth": 2,
            "linecolor": "rgb(36,36,36)",
            "showbackground": true,
            "showgrid": false,
            "showline": true,
            "ticks": "outside",
            "zeroline": false,
            "zerolinecolor": "rgb(36,36,36)"
           }
          },
          "shapedefaults": {
           "fillcolor": "black",
           "line": {
            "width": 0
           },
           "opacity": 0.3
          },
          "ternary": {
           "aaxis": {
            "gridcolor": "rgb(232,232,232)",
            "linecolor": "rgb(36,36,36)",
            "showgrid": false,
            "showline": true,
            "ticks": "outside"
           },
           "baxis": {
            "gridcolor": "rgb(232,232,232)",
            "linecolor": "rgb(36,36,36)",
            "showgrid": false,
            "showline": true,
            "ticks": "outside"
           },
           "bgcolor": "white",
           "caxis": {
            "gridcolor": "rgb(232,232,232)",
            "linecolor": "rgb(36,36,36)",
            "showgrid": false,
            "showline": true,
            "ticks": "outside"
           }
          },
          "title": {
           "x": 0.05
          },
          "xaxis": {
           "automargin": true,
           "gridcolor": "rgb(232,232,232)",
           "linecolor": "rgb(36,36,36)",
           "showgrid": false,
           "showline": true,
           "ticks": "outside",
           "title": {
            "standoff": 15
           },
           "zeroline": false,
           "zerolinecolor": "rgb(36,36,36)"
          },
          "yaxis": {
           "automargin": true,
           "gridcolor": "rgb(232,232,232)",
           "linecolor": "rgb(36,36,36)",
           "showgrid": false,
           "showline": true,
           "ticks": "outside",
           "title": {
            "standoff": 15
           },
           "zeroline": false,
           "zerolinecolor": "rgb(36,36,36)"
          }
         }
        },
        "title": {
         "text": "Forecast(s)"
        },
        "xaxis": {
         "title": {
          "text": "Time"
         }
        },
        "yaxis": {
         "title": {
          "text": "Values"
         }
        }
       }
      }
     },
     "metadata": {}
    },
    {
     "output_type": "execute_result",
     "data": {
      "text/plain": [
       "0.028"
      ]
     },
     "metadata": {},
     "execution_count": 17
    }
   ],
   "metadata": {}
  },
  {
   "cell_type": "code",
   "execution_count": 18,
   "source": [
    "# Fixed Grid Search\r\n",
    "tuned_model = exp.tune_model(model)\r\n",
    "print(model)\r\n",
    "print(tuned_model)"
   ],
   "outputs": [
    {
     "output_type": "display_data",
     "data": {
      "text/html": [
       "<style type=\"text/css\">\n",
       "#T_c916e_row3_col0, #T_c916e_row3_col1, #T_c916e_row3_col2, #T_c916e_row3_col3, #T_c916e_row3_col4, #T_c916e_row3_col5 {\n",
       "  background: yellow;\n",
       "}\n",
       "</style>\n",
       "<table id=\"T_c916e_\">\n",
       "  <thead>\n",
       "    <tr>\n",
       "      <th class=\"blank level0\" >&nbsp;</th>\n",
       "      <th class=\"col_heading level0 col0\" >cutoff</th>\n",
       "      <th class=\"col_heading level0 col1\" >MAE</th>\n",
       "      <th class=\"col_heading level0 col2\" >RMSE</th>\n",
       "      <th class=\"col_heading level0 col3\" >MAPE</th>\n",
       "      <th class=\"col_heading level0 col4\" >SMAPE</th>\n",
       "      <th class=\"col_heading level0 col5\" >R2</th>\n",
       "    </tr>\n",
       "  </thead>\n",
       "  <tbody>\n",
       "    <tr>\n",
       "      <th id=\"T_c916e_level0_row0\" class=\"row_heading level0 row0\" >0</th>\n",
       "      <td id=\"T_c916e_row0_col0\" class=\"data row0 col0\" >1956-12</td>\n",
       "      <td id=\"T_c916e_row0_col1\" class=\"data row0 col1\" >13.7395</td>\n",
       "      <td id=\"T_c916e_row0_col2\" class=\"data row0 col2\" >17.8049</td>\n",
       "      <td id=\"T_c916e_row0_col3\" class=\"data row0 col3\" >0.0347</td>\n",
       "      <td id=\"T_c916e_row0_col4\" class=\"data row0 col4\" >0.0355</td>\n",
       "      <td id=\"T_c916e_row0_col5\" class=\"data row0 col5\" >0.8968</td>\n",
       "    </tr>\n",
       "    <tr>\n",
       "      <th id=\"T_c916e_level0_row1\" class=\"row_heading level0 row1\" >1</th>\n",
       "      <td id=\"T_c916e_row1_col0\" class=\"data row1 col0\" >1957-12</td>\n",
       "      <td id=\"T_c916e_row1_col1\" class=\"data row1 col1\" >24.6241</td>\n",
       "      <td id=\"T_c916e_row1_col2\" class=\"data row1 col2\" >27.0346</td>\n",
       "      <td id=\"T_c916e_row1_col3\" class=\"data row1 col3\" >0.0684</td>\n",
       "      <td id=\"T_c916e_row1_col4\" class=\"data row1 col4\" >0.0656</td>\n",
       "      <td id=\"T_c916e_row1_col5\" class=\"data row1 col5\" >0.8085</td>\n",
       "    </tr>\n",
       "    <tr>\n",
       "      <th id=\"T_c916e_level0_row2\" class=\"row_heading level0 row2\" >2</th>\n",
       "      <td id=\"T_c916e_row2_col0\" class=\"data row2 col0\" >1958-12</td>\n",
       "      <td id=\"T_c916e_row2_col1\" class=\"data row2 col1\" >20.8190</td>\n",
       "      <td id=\"T_c916e_row2_col2\" class=\"data row2 col2\" >23.4547</td>\n",
       "      <td id=\"T_c916e_row2_col3\" class=\"data row2 col3\" >0.0480</td>\n",
       "      <td id=\"T_c916e_row2_col4\" class=\"data row2 col4\" >0.0494</td>\n",
       "      <td id=\"T_c916e_row2_col5\" class=\"data row2 col5\" >0.8769</td>\n",
       "    </tr>\n",
       "    <tr>\n",
       "      <th id=\"T_c916e_level0_row3\" class=\"row_heading level0 row3\" >Mean</th>\n",
       "      <td id=\"T_c916e_row3_col0\" class=\"data row3 col0\" >NaT</td>\n",
       "      <td id=\"T_c916e_row3_col1\" class=\"data row3 col1\" >19.7275</td>\n",
       "      <td id=\"T_c916e_row3_col2\" class=\"data row3 col2\" >22.7648</td>\n",
       "      <td id=\"T_c916e_row3_col3\" class=\"data row3 col3\" >0.0503</td>\n",
       "      <td id=\"T_c916e_row3_col4\" class=\"data row3 col4\" >0.0502</td>\n",
       "      <td id=\"T_c916e_row3_col5\" class=\"data row3 col5\" >0.8608</td>\n",
       "    </tr>\n",
       "    <tr>\n",
       "      <th id=\"T_c916e_level0_row4\" class=\"row_heading level0 row4\" >SD</th>\n",
       "      <td id=\"T_c916e_row4_col0\" class=\"data row4 col0\" >NaT</td>\n",
       "      <td id=\"T_c916e_row4_col1\" class=\"data row4 col1\" >4.5101</td>\n",
       "      <td id=\"T_c916e_row4_col2\" class=\"data row4 col2\" >3.7994</td>\n",
       "      <td id=\"T_c916e_row4_col3\" class=\"data row4 col3\" >0.0138</td>\n",
       "      <td id=\"T_c916e_row4_col4\" class=\"data row4 col4\" >0.0123</td>\n",
       "      <td id=\"T_c916e_row4_col5\" class=\"data row4 col5\" >0.0378</td>\n",
       "    </tr>\n",
       "  </tbody>\n",
       "</table>\n"
      ],
      "text/plain": [
       "<pandas.io.formats.style.Styler at 0x1cb05287108>"
      ]
     },
     "metadata": {}
    },
    {
     "output_type": "stream",
     "name": "stdout",
     "text": [
      "ExponentialSmoothing(damped_trend=False, initial_level=None,\n",
      "                     initial_seasonal=None, initial_trend=None,\n",
      "                     initialization_method='estimated', seasonal='add', sp=12,\n",
      "                     trend='add', use_boxcox=None)\n",
      "ExponentialSmoothing(damped_trend=False, initial_level=None,\n",
      "                     initial_seasonal=None, initial_trend=None,\n",
      "                     initialization_method='estimated', seasonal='add', sp=12,\n",
      "                     trend='add', use_boxcox=False)\n"
     ]
    }
   ],
   "metadata": {}
  },
  {
   "cell_type": "code",
   "execution_count": 19,
   "source": [
    "# Random Grid Search\r\n",
    "tuned_model = exp.tune_model(model, search_algorithm=\"random\")\r\n",
    "print(model)\r\n",
    "print(tuned_model)"
   ],
   "outputs": [
    {
     "output_type": "display_data",
     "data": {
      "text/html": [
       "<style type=\"text/css\">\n",
       "#T_a26db_row3_col0, #T_a26db_row3_col1, #T_a26db_row3_col2, #T_a26db_row3_col3, #T_a26db_row3_col4, #T_a26db_row3_col5 {\n",
       "  background: yellow;\n",
       "}\n",
       "</style>\n",
       "<table id=\"T_a26db_\">\n",
       "  <thead>\n",
       "    <tr>\n",
       "      <th class=\"blank level0\" >&nbsp;</th>\n",
       "      <th class=\"col_heading level0 col0\" >cutoff</th>\n",
       "      <th class=\"col_heading level0 col1\" >MAE</th>\n",
       "      <th class=\"col_heading level0 col2\" >RMSE</th>\n",
       "      <th class=\"col_heading level0 col3\" >MAPE</th>\n",
       "      <th class=\"col_heading level0 col4\" >SMAPE</th>\n",
       "      <th class=\"col_heading level0 col5\" >R2</th>\n",
       "    </tr>\n",
       "  </thead>\n",
       "  <tbody>\n",
       "    <tr>\n",
       "      <th id=\"T_a26db_level0_row0\" class=\"row_heading level0 row0\" >0</th>\n",
       "      <td id=\"T_a26db_row0_col0\" class=\"data row0 col0\" >1956-12</td>\n",
       "      <td id=\"T_a26db_row0_col1\" class=\"data row0 col1\" >13.7395</td>\n",
       "      <td id=\"T_a26db_row0_col2\" class=\"data row0 col2\" >17.8049</td>\n",
       "      <td id=\"T_a26db_row0_col3\" class=\"data row0 col3\" >0.0347</td>\n",
       "      <td id=\"T_a26db_row0_col4\" class=\"data row0 col4\" >0.0355</td>\n",
       "      <td id=\"T_a26db_row0_col5\" class=\"data row0 col5\" >0.8968</td>\n",
       "    </tr>\n",
       "    <tr>\n",
       "      <th id=\"T_a26db_level0_row1\" class=\"row_heading level0 row1\" >1</th>\n",
       "      <td id=\"T_a26db_row1_col0\" class=\"data row1 col0\" >1957-12</td>\n",
       "      <td id=\"T_a26db_row1_col1\" class=\"data row1 col1\" >24.6241</td>\n",
       "      <td id=\"T_a26db_row1_col2\" class=\"data row1 col2\" >27.0346</td>\n",
       "      <td id=\"T_a26db_row1_col3\" class=\"data row1 col3\" >0.0684</td>\n",
       "      <td id=\"T_a26db_row1_col4\" class=\"data row1 col4\" >0.0656</td>\n",
       "      <td id=\"T_a26db_row1_col5\" class=\"data row1 col5\" >0.8085</td>\n",
       "    </tr>\n",
       "    <tr>\n",
       "      <th id=\"T_a26db_level0_row2\" class=\"row_heading level0 row2\" >2</th>\n",
       "      <td id=\"T_a26db_row2_col0\" class=\"data row2 col0\" >1958-12</td>\n",
       "      <td id=\"T_a26db_row2_col1\" class=\"data row2 col1\" >20.8190</td>\n",
       "      <td id=\"T_a26db_row2_col2\" class=\"data row2 col2\" >23.4547</td>\n",
       "      <td id=\"T_a26db_row2_col3\" class=\"data row2 col3\" >0.0480</td>\n",
       "      <td id=\"T_a26db_row2_col4\" class=\"data row2 col4\" >0.0494</td>\n",
       "      <td id=\"T_a26db_row2_col5\" class=\"data row2 col5\" >0.8769</td>\n",
       "    </tr>\n",
       "    <tr>\n",
       "      <th id=\"T_a26db_level0_row3\" class=\"row_heading level0 row3\" >Mean</th>\n",
       "      <td id=\"T_a26db_row3_col0\" class=\"data row3 col0\" >NaT</td>\n",
       "      <td id=\"T_a26db_row3_col1\" class=\"data row3 col1\" >19.7275</td>\n",
       "      <td id=\"T_a26db_row3_col2\" class=\"data row3 col2\" >22.7648</td>\n",
       "      <td id=\"T_a26db_row3_col3\" class=\"data row3 col3\" >0.0503</td>\n",
       "      <td id=\"T_a26db_row3_col4\" class=\"data row3 col4\" >0.0502</td>\n",
       "      <td id=\"T_a26db_row3_col5\" class=\"data row3 col5\" >0.8608</td>\n",
       "    </tr>\n",
       "    <tr>\n",
       "      <th id=\"T_a26db_level0_row4\" class=\"row_heading level0 row4\" >SD</th>\n",
       "      <td id=\"T_a26db_row4_col0\" class=\"data row4 col0\" >NaT</td>\n",
       "      <td id=\"T_a26db_row4_col1\" class=\"data row4 col1\" >4.5101</td>\n",
       "      <td id=\"T_a26db_row4_col2\" class=\"data row4 col2\" >3.7994</td>\n",
       "      <td id=\"T_a26db_row4_col3\" class=\"data row4 col3\" >0.0138</td>\n",
       "      <td id=\"T_a26db_row4_col4\" class=\"data row4 col4\" >0.0123</td>\n",
       "      <td id=\"T_a26db_row4_col5\" class=\"data row4 col5\" >0.0378</td>\n",
       "    </tr>\n",
       "  </tbody>\n",
       "</table>\n"
      ],
      "text/plain": [
       "<pandas.io.formats.style.Styler at 0x1cb0a9e2f48>"
      ]
     },
     "metadata": {}
    },
    {
     "output_type": "stream",
     "name": "stdout",
     "text": [
      "ExponentialSmoothing(damped_trend=False, initial_level=None,\n",
      "                     initial_seasonal=None, initial_trend=None,\n",
      "                     initialization_method='estimated', seasonal='add', sp=12,\n",
      "                     trend='add', use_boxcox=None)\n",
      "ExponentialSmoothing(damped_trend=False, initial_level=None,\n",
      "                     initial_seasonal=None, initial_trend=None,\n",
      "                     initialization_method='estimated', seasonal='add', sp=12,\n",
      "                     trend='add', use_boxcox=False)\n"
     ]
    }
   ],
   "metadata": {}
  },
  {
   "cell_type": "code",
   "execution_count": 20,
   "source": [
    "y_predict = exp.predict_model(tuned_model)\r\n",
    "exp.plot_model(estimator=tuned_model)\r\n",
    "round(mean_absolute_percentage_error(y_predict, y_test), 4)"
   ],
   "outputs": [
    {
     "output_type": "display_data",
     "data": {
      "text/html": [
       "<style type=\"text/css\">\n",
       "</style>\n",
       "<table id=\"T_5b054_\">\n",
       "  <thead>\n",
       "    <tr>\n",
       "      <th class=\"blank level0\" >&nbsp;</th>\n",
       "      <th class=\"col_heading level0 col0\" >Model</th>\n",
       "      <th class=\"col_heading level0 col1\" >MAE</th>\n",
       "      <th class=\"col_heading level0 col2\" >RMSE</th>\n",
       "      <th class=\"col_heading level0 col3\" >MAPE</th>\n",
       "      <th class=\"col_heading level0 col4\" >SMAPE</th>\n",
       "      <th class=\"col_heading level0 col5\" >R2</th>\n",
       "    </tr>\n",
       "  </thead>\n",
       "  <tbody>\n",
       "    <tr>\n",
       "      <th id=\"T_5b054_level0_row0\" class=\"row_heading level0 row0\" >0</th>\n",
       "      <td id=\"T_5b054_row0_col0\" class=\"data row0 col0\" >Exponential Smoothing</td>\n",
       "      <td id=\"T_5b054_row0_col1\" class=\"data row0 col1\" >13.3808</td>\n",
       "      <td id=\"T_5b054_row0_col2\" class=\"data row0 col2\" >16.9801</td>\n",
       "      <td id=\"T_5b054_row0_col3\" class=\"data row0 col3\" >0.0280</td>\n",
       "      <td id=\"T_5b054_row0_col4\" class=\"data row0 col4\" >0.0280</td>\n",
       "      <td id=\"T_5b054_row0_col5\" class=\"data row0 col5\" >0.9480</td>\n",
       "    </tr>\n",
       "  </tbody>\n",
       "</table>\n"
      ],
      "text/plain": [
       "<pandas.io.formats.style.Styler at 0x1cb0855cbc8>"
      ]
     },
     "metadata": {}
    },
    {
     "output_type": "display_data",
     "data": {
      "application/vnd.plotly.v1+json": {
       "config": {
        "plotlyServerURL": "https://plot.ly"
       },
       "data": [
        {
         "line": {
          "color": "#1f77b4"
         },
         "marker": {
          "size": 5
         },
         "mode": "lines+markers",
         "name": "Forecast | Exponential Smoothing",
         "showlegend": true,
         "type": "scatter",
         "x": [
          "1960-01-01T00:00:00",
          "1960-02-01T00:00:00",
          "1960-03-01T00:00:00",
          "1960-04-01T00:00:00",
          "1960-05-01T00:00:00",
          "1960-06-01T00:00:00",
          "1960-07-01T00:00:00",
          "1960-08-01T00:00:00",
          "1960-09-01T00:00:00",
          "1960-10-01T00:00:00",
          "1960-11-01T00:00:00",
          "1960-12-01T00:00:00"
         ],
         "y": [
          415.4539464780454,
          397.08728660453005,
          457.4693936338017,
          445.36712607663986,
          466.1857099593835,
          520.7294971094267,
          592.4219514972725,
          598.8424750195711,
          498.8281684444834,
          442.3821932464351,
          396.5147273606932,
          424.29047634062516
         ]
        },
        {
         "marker": {
          "color": "#3f3f3f",
          "size": 5
         },
         "mode": "lines+markers",
         "name": "Original",
         "showlegend": true,
         "type": "scatter",
         "x": [
          "1949-01-01T00:00:00",
          "1949-02-01T00:00:00",
          "1949-03-01T00:00:00",
          "1949-04-01T00:00:00",
          "1949-05-01T00:00:00",
          "1949-06-01T00:00:00",
          "1949-07-01T00:00:00",
          "1949-08-01T00:00:00",
          "1949-09-01T00:00:00",
          "1949-10-01T00:00:00",
          "1949-11-01T00:00:00",
          "1949-12-01T00:00:00",
          "1950-01-01T00:00:00",
          "1950-02-01T00:00:00",
          "1950-03-01T00:00:00",
          "1950-04-01T00:00:00",
          "1950-05-01T00:00:00",
          "1950-06-01T00:00:00",
          "1950-07-01T00:00:00",
          "1950-08-01T00:00:00",
          "1950-09-01T00:00:00",
          "1950-10-01T00:00:00",
          "1950-11-01T00:00:00",
          "1950-12-01T00:00:00",
          "1951-01-01T00:00:00",
          "1951-02-01T00:00:00",
          "1951-03-01T00:00:00",
          "1951-04-01T00:00:00",
          "1951-05-01T00:00:00",
          "1951-06-01T00:00:00",
          "1951-07-01T00:00:00",
          "1951-08-01T00:00:00",
          "1951-09-01T00:00:00",
          "1951-10-01T00:00:00",
          "1951-11-01T00:00:00",
          "1951-12-01T00:00:00",
          "1952-01-01T00:00:00",
          "1952-02-01T00:00:00",
          "1952-03-01T00:00:00",
          "1952-04-01T00:00:00",
          "1952-05-01T00:00:00",
          "1952-06-01T00:00:00",
          "1952-07-01T00:00:00",
          "1952-08-01T00:00:00",
          "1952-09-01T00:00:00",
          "1952-10-01T00:00:00",
          "1952-11-01T00:00:00",
          "1952-12-01T00:00:00",
          "1953-01-01T00:00:00",
          "1953-02-01T00:00:00",
          "1953-03-01T00:00:00",
          "1953-04-01T00:00:00",
          "1953-05-01T00:00:00",
          "1953-06-01T00:00:00",
          "1953-07-01T00:00:00",
          "1953-08-01T00:00:00",
          "1953-09-01T00:00:00",
          "1953-10-01T00:00:00",
          "1953-11-01T00:00:00",
          "1953-12-01T00:00:00",
          "1954-01-01T00:00:00",
          "1954-02-01T00:00:00",
          "1954-03-01T00:00:00",
          "1954-04-01T00:00:00",
          "1954-05-01T00:00:00",
          "1954-06-01T00:00:00",
          "1954-07-01T00:00:00",
          "1954-08-01T00:00:00",
          "1954-09-01T00:00:00",
          "1954-10-01T00:00:00",
          "1954-11-01T00:00:00",
          "1954-12-01T00:00:00",
          "1955-01-01T00:00:00",
          "1955-02-01T00:00:00",
          "1955-03-01T00:00:00",
          "1955-04-01T00:00:00",
          "1955-05-01T00:00:00",
          "1955-06-01T00:00:00",
          "1955-07-01T00:00:00",
          "1955-08-01T00:00:00",
          "1955-09-01T00:00:00",
          "1955-10-01T00:00:00",
          "1955-11-01T00:00:00",
          "1955-12-01T00:00:00",
          "1956-01-01T00:00:00",
          "1956-02-01T00:00:00",
          "1956-03-01T00:00:00",
          "1956-04-01T00:00:00",
          "1956-05-01T00:00:00",
          "1956-06-01T00:00:00",
          "1956-07-01T00:00:00",
          "1956-08-01T00:00:00",
          "1956-09-01T00:00:00",
          "1956-10-01T00:00:00",
          "1956-11-01T00:00:00",
          "1956-12-01T00:00:00",
          "1957-01-01T00:00:00",
          "1957-02-01T00:00:00",
          "1957-03-01T00:00:00",
          "1957-04-01T00:00:00",
          "1957-05-01T00:00:00",
          "1957-06-01T00:00:00",
          "1957-07-01T00:00:00",
          "1957-08-01T00:00:00",
          "1957-09-01T00:00:00",
          "1957-10-01T00:00:00",
          "1957-11-01T00:00:00",
          "1957-12-01T00:00:00",
          "1958-01-01T00:00:00",
          "1958-02-01T00:00:00",
          "1958-03-01T00:00:00",
          "1958-04-01T00:00:00",
          "1958-05-01T00:00:00",
          "1958-06-01T00:00:00",
          "1958-07-01T00:00:00",
          "1958-08-01T00:00:00",
          "1958-09-01T00:00:00",
          "1958-10-01T00:00:00",
          "1958-11-01T00:00:00",
          "1958-12-01T00:00:00",
          "1959-01-01T00:00:00",
          "1959-02-01T00:00:00",
          "1959-03-01T00:00:00",
          "1959-04-01T00:00:00",
          "1959-05-01T00:00:00",
          "1959-06-01T00:00:00",
          "1959-07-01T00:00:00",
          "1959-08-01T00:00:00",
          "1959-09-01T00:00:00",
          "1959-10-01T00:00:00",
          "1959-11-01T00:00:00",
          "1959-12-01T00:00:00",
          "1960-01-01T00:00:00",
          "1960-02-01T00:00:00",
          "1960-03-01T00:00:00",
          "1960-04-01T00:00:00",
          "1960-05-01T00:00:00",
          "1960-06-01T00:00:00",
          "1960-07-01T00:00:00",
          "1960-08-01T00:00:00",
          "1960-09-01T00:00:00",
          "1960-10-01T00:00:00",
          "1960-11-01T00:00:00",
          "1960-12-01T00:00:00"
         ],
         "y": [
          112,
          118,
          132,
          129,
          121,
          135,
          148,
          148,
          136,
          119,
          104,
          118,
          115,
          126,
          141,
          135,
          125,
          149,
          170,
          170,
          158,
          133,
          114,
          140,
          145,
          150,
          178,
          163,
          172,
          178,
          199,
          199,
          184,
          162,
          146,
          166,
          171,
          180,
          193,
          181,
          183,
          218,
          230,
          242,
          209,
          191,
          172,
          194,
          196,
          196,
          236,
          235,
          229,
          243,
          264,
          272,
          237,
          211,
          180,
          201,
          204,
          188,
          235,
          227,
          234,
          264,
          302,
          293,
          259,
          229,
          203,
          229,
          242,
          233,
          267,
          269,
          270,
          315,
          364,
          347,
          312,
          274,
          237,
          278,
          284,
          277,
          317,
          313,
          318,
          374,
          413,
          405,
          355,
          306,
          271,
          306,
          315,
          301,
          356,
          348,
          355,
          422,
          465,
          467,
          404,
          347,
          305,
          336,
          340,
          318,
          362,
          348,
          363,
          435,
          491,
          505,
          404,
          359,
          310,
          337,
          360,
          342,
          406,
          396,
          420,
          472,
          548,
          559,
          463,
          407,
          362,
          405,
          417,
          391,
          419,
          461,
          472,
          535,
          622,
          606,
          508,
          461,
          390,
          432
         ]
        }
       ],
       "layout": {
        "showlegend": true,
        "template": {
         "data": {
          "bar": [
           {
            "error_x": {
             "color": "rgb(36,36,36)"
            },
            "error_y": {
             "color": "rgb(36,36,36)"
            },
            "marker": {
             "line": {
              "color": "white",
              "width": 0.5
             },
             "pattern": {
              "fillmode": "overlay",
              "size": 10,
              "solidity": 0.2
             }
            },
            "type": "bar"
           }
          ],
          "barpolar": [
           {
            "marker": {
             "line": {
              "color": "white",
              "width": 0.5
             },
             "pattern": {
              "fillmode": "overlay",
              "size": 10,
              "solidity": 0.2
             }
            },
            "type": "barpolar"
           }
          ],
          "carpet": [
           {
            "aaxis": {
             "endlinecolor": "rgb(36,36,36)",
             "gridcolor": "white",
             "linecolor": "white",
             "minorgridcolor": "white",
             "startlinecolor": "rgb(36,36,36)"
            },
            "baxis": {
             "endlinecolor": "rgb(36,36,36)",
             "gridcolor": "white",
             "linecolor": "white",
             "minorgridcolor": "white",
             "startlinecolor": "rgb(36,36,36)"
            },
            "type": "carpet"
           }
          ],
          "choropleth": [
           {
            "colorbar": {
             "outlinewidth": 1,
             "tickcolor": "rgb(36,36,36)",
             "ticks": "outside"
            },
            "type": "choropleth"
           }
          ],
          "contour": [
           {
            "colorbar": {
             "outlinewidth": 1,
             "tickcolor": "rgb(36,36,36)",
             "ticks": "outside"
            },
            "colorscale": [
             [
              0,
              "#440154"
             ],
             [
              0.1111111111111111,
              "#482878"
             ],
             [
              0.2222222222222222,
              "#3e4989"
             ],
             [
              0.3333333333333333,
              "#31688e"
             ],
             [
              0.4444444444444444,
              "#26828e"
             ],
             [
              0.5555555555555556,
              "#1f9e89"
             ],
             [
              0.6666666666666666,
              "#35b779"
             ],
             [
              0.7777777777777778,
              "#6ece58"
             ],
             [
              0.8888888888888888,
              "#b5de2b"
             ],
             [
              1,
              "#fde725"
             ]
            ],
            "type": "contour"
           }
          ],
          "contourcarpet": [
           {
            "colorbar": {
             "outlinewidth": 1,
             "tickcolor": "rgb(36,36,36)",
             "ticks": "outside"
            },
            "type": "contourcarpet"
           }
          ],
          "heatmap": [
           {
            "colorbar": {
             "outlinewidth": 1,
             "tickcolor": "rgb(36,36,36)",
             "ticks": "outside"
            },
            "colorscale": [
             [
              0,
              "#440154"
             ],
             [
              0.1111111111111111,
              "#482878"
             ],
             [
              0.2222222222222222,
              "#3e4989"
             ],
             [
              0.3333333333333333,
              "#31688e"
             ],
             [
              0.4444444444444444,
              "#26828e"
             ],
             [
              0.5555555555555556,
              "#1f9e89"
             ],
             [
              0.6666666666666666,
              "#35b779"
             ],
             [
              0.7777777777777778,
              "#6ece58"
             ],
             [
              0.8888888888888888,
              "#b5de2b"
             ],
             [
              1,
              "#fde725"
             ]
            ],
            "type": "heatmap"
           }
          ],
          "heatmapgl": [
           {
            "colorbar": {
             "outlinewidth": 1,
             "tickcolor": "rgb(36,36,36)",
             "ticks": "outside"
            },
            "colorscale": [
             [
              0,
              "#440154"
             ],
             [
              0.1111111111111111,
              "#482878"
             ],
             [
              0.2222222222222222,
              "#3e4989"
             ],
             [
              0.3333333333333333,
              "#31688e"
             ],
             [
              0.4444444444444444,
              "#26828e"
             ],
             [
              0.5555555555555556,
              "#1f9e89"
             ],
             [
              0.6666666666666666,
              "#35b779"
             ],
             [
              0.7777777777777778,
              "#6ece58"
             ],
             [
              0.8888888888888888,
              "#b5de2b"
             ],
             [
              1,
              "#fde725"
             ]
            ],
            "type": "heatmapgl"
           }
          ],
          "histogram": [
           {
            "marker": {
             "line": {
              "color": "white",
              "width": 0.6
             }
            },
            "type": "histogram"
           }
          ],
          "histogram2d": [
           {
            "colorbar": {
             "outlinewidth": 1,
             "tickcolor": "rgb(36,36,36)",
             "ticks": "outside"
            },
            "colorscale": [
             [
              0,
              "#440154"
             ],
             [
              0.1111111111111111,
              "#482878"
             ],
             [
              0.2222222222222222,
              "#3e4989"
             ],
             [
              0.3333333333333333,
              "#31688e"
             ],
             [
              0.4444444444444444,
              "#26828e"
             ],
             [
              0.5555555555555556,
              "#1f9e89"
             ],
             [
              0.6666666666666666,
              "#35b779"
             ],
             [
              0.7777777777777778,
              "#6ece58"
             ],
             [
              0.8888888888888888,
              "#b5de2b"
             ],
             [
              1,
              "#fde725"
             ]
            ],
            "type": "histogram2d"
           }
          ],
          "histogram2dcontour": [
           {
            "colorbar": {
             "outlinewidth": 1,
             "tickcolor": "rgb(36,36,36)",
             "ticks": "outside"
            },
            "colorscale": [
             [
              0,
              "#440154"
             ],
             [
              0.1111111111111111,
              "#482878"
             ],
             [
              0.2222222222222222,
              "#3e4989"
             ],
             [
              0.3333333333333333,
              "#31688e"
             ],
             [
              0.4444444444444444,
              "#26828e"
             ],
             [
              0.5555555555555556,
              "#1f9e89"
             ],
             [
              0.6666666666666666,
              "#35b779"
             ],
             [
              0.7777777777777778,
              "#6ece58"
             ],
             [
              0.8888888888888888,
              "#b5de2b"
             ],
             [
              1,
              "#fde725"
             ]
            ],
            "type": "histogram2dcontour"
           }
          ],
          "mesh3d": [
           {
            "colorbar": {
             "outlinewidth": 1,
             "tickcolor": "rgb(36,36,36)",
             "ticks": "outside"
            },
            "type": "mesh3d"
           }
          ],
          "parcoords": [
           {
            "line": {
             "colorbar": {
              "outlinewidth": 1,
              "tickcolor": "rgb(36,36,36)",
              "ticks": "outside"
             }
            },
            "type": "parcoords"
           }
          ],
          "pie": [
           {
            "automargin": true,
            "type": "pie"
           }
          ],
          "scatter": [
           {
            "marker": {
             "colorbar": {
              "outlinewidth": 1,
              "tickcolor": "rgb(36,36,36)",
              "ticks": "outside"
             }
            },
            "type": "scatter"
           }
          ],
          "scatter3d": [
           {
            "line": {
             "colorbar": {
              "outlinewidth": 1,
              "tickcolor": "rgb(36,36,36)",
              "ticks": "outside"
             }
            },
            "marker": {
             "colorbar": {
              "outlinewidth": 1,
              "tickcolor": "rgb(36,36,36)",
              "ticks": "outside"
             }
            },
            "type": "scatter3d"
           }
          ],
          "scattercarpet": [
           {
            "marker": {
             "colorbar": {
              "outlinewidth": 1,
              "tickcolor": "rgb(36,36,36)",
              "ticks": "outside"
             }
            },
            "type": "scattercarpet"
           }
          ],
          "scattergeo": [
           {
            "marker": {
             "colorbar": {
              "outlinewidth": 1,
              "tickcolor": "rgb(36,36,36)",
              "ticks": "outside"
             }
            },
            "type": "scattergeo"
           }
          ],
          "scattergl": [
           {
            "marker": {
             "colorbar": {
              "outlinewidth": 1,
              "tickcolor": "rgb(36,36,36)",
              "ticks": "outside"
             }
            },
            "type": "scattergl"
           }
          ],
          "scattermapbox": [
           {
            "marker": {
             "colorbar": {
              "outlinewidth": 1,
              "tickcolor": "rgb(36,36,36)",
              "ticks": "outside"
             }
            },
            "type": "scattermapbox"
           }
          ],
          "scatterpolar": [
           {
            "marker": {
             "colorbar": {
              "outlinewidth": 1,
              "tickcolor": "rgb(36,36,36)",
              "ticks": "outside"
             }
            },
            "type": "scatterpolar"
           }
          ],
          "scatterpolargl": [
           {
            "marker": {
             "colorbar": {
              "outlinewidth": 1,
              "tickcolor": "rgb(36,36,36)",
              "ticks": "outside"
             }
            },
            "type": "scatterpolargl"
           }
          ],
          "scatterternary": [
           {
            "marker": {
             "colorbar": {
              "outlinewidth": 1,
              "tickcolor": "rgb(36,36,36)",
              "ticks": "outside"
             }
            },
            "type": "scatterternary"
           }
          ],
          "surface": [
           {
            "colorbar": {
             "outlinewidth": 1,
             "tickcolor": "rgb(36,36,36)",
             "ticks": "outside"
            },
            "colorscale": [
             [
              0,
              "#440154"
             ],
             [
              0.1111111111111111,
              "#482878"
             ],
             [
              0.2222222222222222,
              "#3e4989"
             ],
             [
              0.3333333333333333,
              "#31688e"
             ],
             [
              0.4444444444444444,
              "#26828e"
             ],
             [
              0.5555555555555556,
              "#1f9e89"
             ],
             [
              0.6666666666666666,
              "#35b779"
             ],
             [
              0.7777777777777778,
              "#6ece58"
             ],
             [
              0.8888888888888888,
              "#b5de2b"
             ],
             [
              1,
              "#fde725"
             ]
            ],
            "type": "surface"
           }
          ],
          "table": [
           {
            "cells": {
             "fill": {
              "color": "rgb(237,237,237)"
             },
             "line": {
              "color": "white"
             }
            },
            "header": {
             "fill": {
              "color": "rgb(217,217,217)"
             },
             "line": {
              "color": "white"
             }
            },
            "type": "table"
           }
          ]
         },
         "layout": {
          "annotationdefaults": {
           "arrowhead": 0,
           "arrowwidth": 1
          },
          "autotypenumbers": "strict",
          "coloraxis": {
           "colorbar": {
            "outlinewidth": 1,
            "tickcolor": "rgb(36,36,36)",
            "ticks": "outside"
           }
          },
          "colorscale": {
           "diverging": [
            [
             0,
             "rgb(103,0,31)"
            ],
            [
             0.1,
             "rgb(178,24,43)"
            ],
            [
             0.2,
             "rgb(214,96,77)"
            ],
            [
             0.3,
             "rgb(244,165,130)"
            ],
            [
             0.4,
             "rgb(253,219,199)"
            ],
            [
             0.5,
             "rgb(247,247,247)"
            ],
            [
             0.6,
             "rgb(209,229,240)"
            ],
            [
             0.7,
             "rgb(146,197,222)"
            ],
            [
             0.8,
             "rgb(67,147,195)"
            ],
            [
             0.9,
             "rgb(33,102,172)"
            ],
            [
             1,
             "rgb(5,48,97)"
            ]
           ],
           "sequential": [
            [
             0,
             "#440154"
            ],
            [
             0.1111111111111111,
             "#482878"
            ],
            [
             0.2222222222222222,
             "#3e4989"
            ],
            [
             0.3333333333333333,
             "#31688e"
            ],
            [
             0.4444444444444444,
             "#26828e"
            ],
            [
             0.5555555555555556,
             "#1f9e89"
            ],
            [
             0.6666666666666666,
             "#35b779"
            ],
            [
             0.7777777777777778,
             "#6ece58"
            ],
            [
             0.8888888888888888,
             "#b5de2b"
            ],
            [
             1,
             "#fde725"
            ]
           ],
           "sequentialminus": [
            [
             0,
             "#440154"
            ],
            [
             0.1111111111111111,
             "#482878"
            ],
            [
             0.2222222222222222,
             "#3e4989"
            ],
            [
             0.3333333333333333,
             "#31688e"
            ],
            [
             0.4444444444444444,
             "#26828e"
            ],
            [
             0.5555555555555556,
             "#1f9e89"
            ],
            [
             0.6666666666666666,
             "#35b779"
            ],
            [
             0.7777777777777778,
             "#6ece58"
            ],
            [
             0.8888888888888888,
             "#b5de2b"
            ],
            [
             1,
             "#fde725"
            ]
           ]
          },
          "colorway": [
           "#1F77B4",
           "#FF7F0E",
           "#2CA02C",
           "#D62728",
           "#9467BD",
           "#8C564B",
           "#E377C2",
           "#7F7F7F",
           "#BCBD22",
           "#17BECF"
          ],
          "font": {
           "color": "rgb(36,36,36)"
          },
          "geo": {
           "bgcolor": "white",
           "lakecolor": "white",
           "landcolor": "white",
           "showlakes": true,
           "showland": true,
           "subunitcolor": "white"
          },
          "hoverlabel": {
           "align": "left"
          },
          "hovermode": "closest",
          "mapbox": {
           "style": "light"
          },
          "paper_bgcolor": "white",
          "plot_bgcolor": "white",
          "polar": {
           "angularaxis": {
            "gridcolor": "rgb(232,232,232)",
            "linecolor": "rgb(36,36,36)",
            "showgrid": false,
            "showline": true,
            "ticks": "outside"
           },
           "bgcolor": "white",
           "radialaxis": {
            "gridcolor": "rgb(232,232,232)",
            "linecolor": "rgb(36,36,36)",
            "showgrid": false,
            "showline": true,
            "ticks": "outside"
           }
          },
          "scene": {
           "xaxis": {
            "backgroundcolor": "white",
            "gridcolor": "rgb(232,232,232)",
            "gridwidth": 2,
            "linecolor": "rgb(36,36,36)",
            "showbackground": true,
            "showgrid": false,
            "showline": true,
            "ticks": "outside",
            "zeroline": false,
            "zerolinecolor": "rgb(36,36,36)"
           },
           "yaxis": {
            "backgroundcolor": "white",
            "gridcolor": "rgb(232,232,232)",
            "gridwidth": 2,
            "linecolor": "rgb(36,36,36)",
            "showbackground": true,
            "showgrid": false,
            "showline": true,
            "ticks": "outside",
            "zeroline": false,
            "zerolinecolor": "rgb(36,36,36)"
           },
           "zaxis": {
            "backgroundcolor": "white",
            "gridcolor": "rgb(232,232,232)",
            "gridwidth": 2,
            "linecolor": "rgb(36,36,36)",
            "showbackground": true,
            "showgrid": false,
            "showline": true,
            "ticks": "outside",
            "zeroline": false,
            "zerolinecolor": "rgb(36,36,36)"
           }
          },
          "shapedefaults": {
           "fillcolor": "black",
           "line": {
            "width": 0
           },
           "opacity": 0.3
          },
          "ternary": {
           "aaxis": {
            "gridcolor": "rgb(232,232,232)",
            "linecolor": "rgb(36,36,36)",
            "showgrid": false,
            "showline": true,
            "ticks": "outside"
           },
           "baxis": {
            "gridcolor": "rgb(232,232,232)",
            "linecolor": "rgb(36,36,36)",
            "showgrid": false,
            "showline": true,
            "ticks": "outside"
           },
           "bgcolor": "white",
           "caxis": {
            "gridcolor": "rgb(232,232,232)",
            "linecolor": "rgb(36,36,36)",
            "showgrid": false,
            "showline": true,
            "ticks": "outside"
           }
          },
          "title": {
           "x": 0.05
          },
          "xaxis": {
           "automargin": true,
           "gridcolor": "rgb(232,232,232)",
           "linecolor": "rgb(36,36,36)",
           "showgrid": false,
           "showline": true,
           "ticks": "outside",
           "title": {
            "standoff": 15
           },
           "zeroline": false,
           "zerolinecolor": "rgb(36,36,36)"
          },
          "yaxis": {
           "automargin": true,
           "gridcolor": "rgb(232,232,232)",
           "linecolor": "rgb(36,36,36)",
           "showgrid": false,
           "showline": true,
           "ticks": "outside",
           "title": {
            "standoff": 15
           },
           "zeroline": false,
           "zerolinecolor": "rgb(36,36,36)"
          }
         }
        },
        "title": {
         "text": "Forecast(s)"
        },
        "xaxis": {
         "title": {
          "text": "Time"
         }
        },
        "yaxis": {
         "title": {
          "text": "Values"
         }
        }
       }
      }
     },
     "metadata": {}
    },
    {
     "output_type": "execute_result",
     "data": {
      "text/plain": [
       "0.028"
      ]
     },
     "metadata": {},
     "execution_count": 20
    }
   ],
   "metadata": {}
  },
  {
   "cell_type": "code",
   "execution_count": 21,
   "source": [
    "# Random Grid Search with different number of iterations\r\n",
    "tuned_model = exp.tune_model(model, search_algorithm=\"random\", n_iter=5)\r\n",
    "print(model)\r\n",
    "print(tuned_model)"
   ],
   "outputs": [
    {
     "output_type": "display_data",
     "data": {
      "text/html": [
       "<style type=\"text/css\">\n",
       "#T_851db_row3_col0, #T_851db_row3_col1, #T_851db_row3_col2, #T_851db_row3_col3, #T_851db_row3_col4, #T_851db_row3_col5 {\n",
       "  background: yellow;\n",
       "}\n",
       "</style>\n",
       "<table id=\"T_851db_\">\n",
       "  <thead>\n",
       "    <tr>\n",
       "      <th class=\"blank level0\" >&nbsp;</th>\n",
       "      <th class=\"col_heading level0 col0\" >cutoff</th>\n",
       "      <th class=\"col_heading level0 col1\" >MAE</th>\n",
       "      <th class=\"col_heading level0 col2\" >RMSE</th>\n",
       "      <th class=\"col_heading level0 col3\" >MAPE</th>\n",
       "      <th class=\"col_heading level0 col4\" >SMAPE</th>\n",
       "      <th class=\"col_heading level0 col5\" >R2</th>\n",
       "    </tr>\n",
       "  </thead>\n",
       "  <tbody>\n",
       "    <tr>\n",
       "      <th id=\"T_851db_level0_row0\" class=\"row_heading level0 row0\" >0</th>\n",
       "      <td id=\"T_851db_row0_col0\" class=\"data row0 col0\" >1956-12</td>\n",
       "      <td id=\"T_851db_row0_col1\" class=\"data row0 col1\" >13.7395</td>\n",
       "      <td id=\"T_851db_row0_col2\" class=\"data row0 col2\" >17.8049</td>\n",
       "      <td id=\"T_851db_row0_col3\" class=\"data row0 col3\" >0.0347</td>\n",
       "      <td id=\"T_851db_row0_col4\" class=\"data row0 col4\" >0.0355</td>\n",
       "      <td id=\"T_851db_row0_col5\" class=\"data row0 col5\" >0.8968</td>\n",
       "    </tr>\n",
       "    <tr>\n",
       "      <th id=\"T_851db_level0_row1\" class=\"row_heading level0 row1\" >1</th>\n",
       "      <td id=\"T_851db_row1_col0\" class=\"data row1 col0\" >1957-12</td>\n",
       "      <td id=\"T_851db_row1_col1\" class=\"data row1 col1\" >24.6241</td>\n",
       "      <td id=\"T_851db_row1_col2\" class=\"data row1 col2\" >27.0346</td>\n",
       "      <td id=\"T_851db_row1_col3\" class=\"data row1 col3\" >0.0684</td>\n",
       "      <td id=\"T_851db_row1_col4\" class=\"data row1 col4\" >0.0656</td>\n",
       "      <td id=\"T_851db_row1_col5\" class=\"data row1 col5\" >0.8085</td>\n",
       "    </tr>\n",
       "    <tr>\n",
       "      <th id=\"T_851db_level0_row2\" class=\"row_heading level0 row2\" >2</th>\n",
       "      <td id=\"T_851db_row2_col0\" class=\"data row2 col0\" >1958-12</td>\n",
       "      <td id=\"T_851db_row2_col1\" class=\"data row2 col1\" >20.8190</td>\n",
       "      <td id=\"T_851db_row2_col2\" class=\"data row2 col2\" >23.4547</td>\n",
       "      <td id=\"T_851db_row2_col3\" class=\"data row2 col3\" >0.0480</td>\n",
       "      <td id=\"T_851db_row2_col4\" class=\"data row2 col4\" >0.0494</td>\n",
       "      <td id=\"T_851db_row2_col5\" class=\"data row2 col5\" >0.8769</td>\n",
       "    </tr>\n",
       "    <tr>\n",
       "      <th id=\"T_851db_level0_row3\" class=\"row_heading level0 row3\" >Mean</th>\n",
       "      <td id=\"T_851db_row3_col0\" class=\"data row3 col0\" >NaT</td>\n",
       "      <td id=\"T_851db_row3_col1\" class=\"data row3 col1\" >19.7275</td>\n",
       "      <td id=\"T_851db_row3_col2\" class=\"data row3 col2\" >22.7648</td>\n",
       "      <td id=\"T_851db_row3_col3\" class=\"data row3 col3\" >0.0503</td>\n",
       "      <td id=\"T_851db_row3_col4\" class=\"data row3 col4\" >0.0502</td>\n",
       "      <td id=\"T_851db_row3_col5\" class=\"data row3 col5\" >0.8608</td>\n",
       "    </tr>\n",
       "    <tr>\n",
       "      <th id=\"T_851db_level0_row4\" class=\"row_heading level0 row4\" >SD</th>\n",
       "      <td id=\"T_851db_row4_col0\" class=\"data row4 col0\" >NaT</td>\n",
       "      <td id=\"T_851db_row4_col1\" class=\"data row4 col1\" >4.5101</td>\n",
       "      <td id=\"T_851db_row4_col2\" class=\"data row4 col2\" >3.7994</td>\n",
       "      <td id=\"T_851db_row4_col3\" class=\"data row4 col3\" >0.0138</td>\n",
       "      <td id=\"T_851db_row4_col4\" class=\"data row4 col4\" >0.0123</td>\n",
       "      <td id=\"T_851db_row4_col5\" class=\"data row4 col5\" >0.0378</td>\n",
       "    </tr>\n",
       "  </tbody>\n",
       "</table>\n"
      ],
      "text/plain": [
       "<pandas.io.formats.style.Styler at 0x1cb0863e7c8>"
      ]
     },
     "metadata": {}
    },
    {
     "output_type": "stream",
     "name": "stdout",
     "text": [
      "ExponentialSmoothing(damped_trend=False, initial_level=None,\n",
      "                     initial_seasonal=None, initial_trend=None,\n",
      "                     initialization_method='estimated', seasonal='add', sp=12,\n",
      "                     trend='add', use_boxcox=None)\n",
      "ExponentialSmoothing(damped_trend=False, initial_level=None,\n",
      "                     initial_seasonal=None, initial_trend=None,\n",
      "                     initialization_method='estimated', seasonal='add', sp=12,\n",
      "                     trend='add', use_boxcox=False)\n"
     ]
    }
   ],
   "metadata": {}
  },
  {
   "cell_type": "markdown",
   "source": [
    "### Reduced Regressors: Random Forest (with internal conditional deseasonalize and detrending)"
   ],
   "metadata": {}
  },
  {
   "cell_type": "code",
   "execution_count": 22,
   "source": [
    "model = exp.create_model(\"rf_cds_dt\")\r\n",
    "y_predict = exp.predict_model(model)\r\n",
    "exp.plot_model(estimator=model)\r\n",
    "round(mean_absolute_percentage_error(y_predict, y_test), 4)"
   ],
   "outputs": [
    {
     "output_type": "display_data",
     "data": {
      "text/html": [
       "<style type=\"text/css\">\n",
       "#T_ead03_row3_col0, #T_ead03_row3_col1, #T_ead03_row3_col2, #T_ead03_row3_col3, #T_ead03_row3_col4, #T_ead03_row3_col5 {\n",
       "  background: yellow;\n",
       "}\n",
       "</style>\n",
       "<table id=\"T_ead03_\">\n",
       "  <thead>\n",
       "    <tr>\n",
       "      <th class=\"blank level0\" >&nbsp;</th>\n",
       "      <th class=\"col_heading level0 col0\" >cutoff</th>\n",
       "      <th class=\"col_heading level0 col1\" >MAE</th>\n",
       "      <th class=\"col_heading level0 col2\" >RMSE</th>\n",
       "      <th class=\"col_heading level0 col3\" >MAPE</th>\n",
       "      <th class=\"col_heading level0 col4\" >SMAPE</th>\n",
       "      <th class=\"col_heading level0 col5\" >R2</th>\n",
       "    </tr>\n",
       "  </thead>\n",
       "  <tbody>\n",
       "    <tr>\n",
       "      <th id=\"T_ead03_level0_row0\" class=\"row_heading level0 row0\" >0</th>\n",
       "      <td id=\"T_ead03_row0_col0\" class=\"data row0 col0\" >1956-12</td>\n",
       "      <td id=\"T_ead03_row0_col1\" class=\"data row0 col1\" >28.0638</td>\n",
       "      <td id=\"T_ead03_row0_col2\" class=\"data row0 col2\" >40.1439</td>\n",
       "      <td id=\"T_ead03_row0_col3\" class=\"data row0 col3\" >0.0678</td>\n",
       "      <td id=\"T_ead03_row0_col4\" class=\"data row0 col4\" >0.0721</td>\n",
       "      <td id=\"T_ead03_row0_col5\" class=\"data row0 col5\" >0.4754</td>\n",
       "    </tr>\n",
       "    <tr>\n",
       "      <th id=\"T_ead03_level0_row1\" class=\"row_heading level0 row1\" >1</th>\n",
       "      <td id=\"T_ead03_row1_col0\" class=\"data row1 col0\" >1957-12</td>\n",
       "      <td id=\"T_ead03_row1_col1\" class=\"data row1 col1\" >29.7063</td>\n",
       "      <td id=\"T_ead03_row1_col2\" class=\"data row1 col2\" >38.0812</td>\n",
       "      <td id=\"T_ead03_row1_col3\" class=\"data row1 col3\" >0.0738</td>\n",
       "      <td id=\"T_ead03_row1_col4\" class=\"data row1 col4\" >0.0748</td>\n",
       "      <td id=\"T_ead03_row1_col5\" class=\"data row1 col5\" >0.6201</td>\n",
       "    </tr>\n",
       "    <tr>\n",
       "      <th id=\"T_ead03_level0_row2\" class=\"row_heading level0 row2\" >2</th>\n",
       "      <td id=\"T_ead03_row2_col0\" class=\"data row2 col0\" >1958-12</td>\n",
       "      <td id=\"T_ead03_row2_col1\" class=\"data row2 col1\" >22.8056</td>\n",
       "      <td id=\"T_ead03_row2_col2\" class=\"data row2 col2\" >35.9245</td>\n",
       "      <td id=\"T_ead03_row2_col3\" class=\"data row2 col3\" >0.0470</td>\n",
       "      <td id=\"T_ead03_row2_col4\" class=\"data row2 col4\" >0.0493</td>\n",
       "      <td id=\"T_ead03_row2_col5\" class=\"data row2 col5\" >0.7113</td>\n",
       "    </tr>\n",
       "    <tr>\n",
       "      <th id=\"T_ead03_level0_row3\" class=\"row_heading level0 row3\" >Mean</th>\n",
       "      <td id=\"T_ead03_row3_col0\" class=\"data row3 col0\" >NaT</td>\n",
       "      <td id=\"T_ead03_row3_col1\" class=\"data row3 col1\" >26.8586</td>\n",
       "      <td id=\"T_ead03_row3_col2\" class=\"data row3 col2\" >38.0499</td>\n",
       "      <td id=\"T_ead03_row3_col3\" class=\"data row3 col3\" >0.0629</td>\n",
       "      <td id=\"T_ead03_row3_col4\" class=\"data row3 col4\" >0.0654</td>\n",
       "      <td id=\"T_ead03_row3_col5\" class=\"data row3 col5\" >0.6023</td>\n",
       "    </tr>\n",
       "    <tr>\n",
       "      <th id=\"T_ead03_level0_row4\" class=\"row_heading level0 row4\" >SD</th>\n",
       "      <td id=\"T_ead03_row4_col0\" class=\"data row4 col0\" >NaT</td>\n",
       "      <td id=\"T_ead03_row4_col1\" class=\"data row4 col1\" >2.9433</td>\n",
       "      <td id=\"T_ead03_row4_col2\" class=\"data row4 col2\" >1.7227</td>\n",
       "      <td id=\"T_ead03_row4_col3\" class=\"data row4 col3\" >0.0115</td>\n",
       "      <td id=\"T_ead03_row4_col4\" class=\"data row4 col4\" >0.0115</td>\n",
       "      <td id=\"T_ead03_row4_col5\" class=\"data row4 col5\" >0.0971</td>\n",
       "    </tr>\n",
       "  </tbody>\n",
       "</table>\n"
      ],
      "text/plain": [
       "<pandas.io.formats.style.Styler at 0x1cb0857d448>"
      ]
     },
     "metadata": {}
    },
    {
     "output_type": "display_data",
     "data": {
      "text/html": [
       "<style type=\"text/css\">\n",
       "</style>\n",
       "<table id=\"T_b3fef_\">\n",
       "  <thead>\n",
       "    <tr>\n",
       "      <th class=\"blank level0\" >&nbsp;</th>\n",
       "      <th class=\"col_heading level0 col0\" >Model</th>\n",
       "      <th class=\"col_heading level0 col1\" >MAE</th>\n",
       "      <th class=\"col_heading level0 col2\" >RMSE</th>\n",
       "      <th class=\"col_heading level0 col3\" >MAPE</th>\n",
       "      <th class=\"col_heading level0 col4\" >SMAPE</th>\n",
       "      <th class=\"col_heading level0 col5\" >R2</th>\n",
       "    </tr>\n",
       "  </thead>\n",
       "  <tbody>\n",
       "    <tr>\n",
       "      <th id=\"T_b3fef_level0_row0\" class=\"row_heading level0 row0\" >0</th>\n",
       "      <td id=\"T_b3fef_row0_col0\" class=\"data row0 col0\" >RandomForestRegressor</td>\n",
       "      <td id=\"T_b3fef_row0_col1\" class=\"data row0 col1\" >32.1796</td>\n",
       "      <td id=\"T_b3fef_row0_col2\" class=\"data row0 col2\" >46.0571</td>\n",
       "      <td id=\"T_b3fef_row0_col3\" class=\"data row0 col3\" >0.0606</td>\n",
       "      <td id=\"T_b3fef_row0_col4\" class=\"data row0 col4\" >0.0637</td>\n",
       "      <td id=\"T_b3fef_row0_col5\" class=\"data row0 col5\" >0.6171</td>\n",
       "    </tr>\n",
       "  </tbody>\n",
       "</table>\n"
      ],
      "text/plain": [
       "<pandas.io.formats.style.Styler at 0x1cb0a9e2488>"
      ]
     },
     "metadata": {}
    },
    {
     "output_type": "display_data",
     "data": {
      "application/vnd.plotly.v1+json": {
       "config": {
        "plotlyServerURL": "https://plot.ly"
       },
       "data": [
        {
         "line": {
          "color": "#1f77b4"
         },
         "marker": {
          "size": 5
         },
         "mode": "lines+markers",
         "name": "Forecast | RandomForestRegressor",
         "showlegend": true,
         "type": "scatter",
         "x": [
          "1960-01-01T00:00:00",
          "1960-02-01T00:00:00",
          "1960-03-01T00:00:00",
          "1960-04-01T00:00:00",
          "1960-05-01T00:00:00",
          "1960-06-01T00:00:00",
          "1960-07-01T00:00:00",
          "1960-08-01T00:00:00",
          "1960-09-01T00:00:00",
          "1960-10-01T00:00:00",
          "1960-11-01T00:00:00",
          "1960-12-01T00:00:00"
         ],
         "y": [
          402.72463274772645,
          395.19411227583186,
          437.55532057938046,
          434.5196370002035,
          445.2933205324206,
          492.80683187844704,
          498.83830524437394,
          531.441731071259,
          493.8148697646267,
          436.6559851919876,
          401.906198989841,
          426.4053169008573
         ]
        },
        {
         "marker": {
          "color": "#3f3f3f",
          "size": 5
         },
         "mode": "lines+markers",
         "name": "Original",
         "showlegend": true,
         "type": "scatter",
         "x": [
          "1949-01-01T00:00:00",
          "1949-02-01T00:00:00",
          "1949-03-01T00:00:00",
          "1949-04-01T00:00:00",
          "1949-05-01T00:00:00",
          "1949-06-01T00:00:00",
          "1949-07-01T00:00:00",
          "1949-08-01T00:00:00",
          "1949-09-01T00:00:00",
          "1949-10-01T00:00:00",
          "1949-11-01T00:00:00",
          "1949-12-01T00:00:00",
          "1950-01-01T00:00:00",
          "1950-02-01T00:00:00",
          "1950-03-01T00:00:00",
          "1950-04-01T00:00:00",
          "1950-05-01T00:00:00",
          "1950-06-01T00:00:00",
          "1950-07-01T00:00:00",
          "1950-08-01T00:00:00",
          "1950-09-01T00:00:00",
          "1950-10-01T00:00:00",
          "1950-11-01T00:00:00",
          "1950-12-01T00:00:00",
          "1951-01-01T00:00:00",
          "1951-02-01T00:00:00",
          "1951-03-01T00:00:00",
          "1951-04-01T00:00:00",
          "1951-05-01T00:00:00",
          "1951-06-01T00:00:00",
          "1951-07-01T00:00:00",
          "1951-08-01T00:00:00",
          "1951-09-01T00:00:00",
          "1951-10-01T00:00:00",
          "1951-11-01T00:00:00",
          "1951-12-01T00:00:00",
          "1952-01-01T00:00:00",
          "1952-02-01T00:00:00",
          "1952-03-01T00:00:00",
          "1952-04-01T00:00:00",
          "1952-05-01T00:00:00",
          "1952-06-01T00:00:00",
          "1952-07-01T00:00:00",
          "1952-08-01T00:00:00",
          "1952-09-01T00:00:00",
          "1952-10-01T00:00:00",
          "1952-11-01T00:00:00",
          "1952-12-01T00:00:00",
          "1953-01-01T00:00:00",
          "1953-02-01T00:00:00",
          "1953-03-01T00:00:00",
          "1953-04-01T00:00:00",
          "1953-05-01T00:00:00",
          "1953-06-01T00:00:00",
          "1953-07-01T00:00:00",
          "1953-08-01T00:00:00",
          "1953-09-01T00:00:00",
          "1953-10-01T00:00:00",
          "1953-11-01T00:00:00",
          "1953-12-01T00:00:00",
          "1954-01-01T00:00:00",
          "1954-02-01T00:00:00",
          "1954-03-01T00:00:00",
          "1954-04-01T00:00:00",
          "1954-05-01T00:00:00",
          "1954-06-01T00:00:00",
          "1954-07-01T00:00:00",
          "1954-08-01T00:00:00",
          "1954-09-01T00:00:00",
          "1954-10-01T00:00:00",
          "1954-11-01T00:00:00",
          "1954-12-01T00:00:00",
          "1955-01-01T00:00:00",
          "1955-02-01T00:00:00",
          "1955-03-01T00:00:00",
          "1955-04-01T00:00:00",
          "1955-05-01T00:00:00",
          "1955-06-01T00:00:00",
          "1955-07-01T00:00:00",
          "1955-08-01T00:00:00",
          "1955-09-01T00:00:00",
          "1955-10-01T00:00:00",
          "1955-11-01T00:00:00",
          "1955-12-01T00:00:00",
          "1956-01-01T00:00:00",
          "1956-02-01T00:00:00",
          "1956-03-01T00:00:00",
          "1956-04-01T00:00:00",
          "1956-05-01T00:00:00",
          "1956-06-01T00:00:00",
          "1956-07-01T00:00:00",
          "1956-08-01T00:00:00",
          "1956-09-01T00:00:00",
          "1956-10-01T00:00:00",
          "1956-11-01T00:00:00",
          "1956-12-01T00:00:00",
          "1957-01-01T00:00:00",
          "1957-02-01T00:00:00",
          "1957-03-01T00:00:00",
          "1957-04-01T00:00:00",
          "1957-05-01T00:00:00",
          "1957-06-01T00:00:00",
          "1957-07-01T00:00:00",
          "1957-08-01T00:00:00",
          "1957-09-01T00:00:00",
          "1957-10-01T00:00:00",
          "1957-11-01T00:00:00",
          "1957-12-01T00:00:00",
          "1958-01-01T00:00:00",
          "1958-02-01T00:00:00",
          "1958-03-01T00:00:00",
          "1958-04-01T00:00:00",
          "1958-05-01T00:00:00",
          "1958-06-01T00:00:00",
          "1958-07-01T00:00:00",
          "1958-08-01T00:00:00",
          "1958-09-01T00:00:00",
          "1958-10-01T00:00:00",
          "1958-11-01T00:00:00",
          "1958-12-01T00:00:00",
          "1959-01-01T00:00:00",
          "1959-02-01T00:00:00",
          "1959-03-01T00:00:00",
          "1959-04-01T00:00:00",
          "1959-05-01T00:00:00",
          "1959-06-01T00:00:00",
          "1959-07-01T00:00:00",
          "1959-08-01T00:00:00",
          "1959-09-01T00:00:00",
          "1959-10-01T00:00:00",
          "1959-11-01T00:00:00",
          "1959-12-01T00:00:00",
          "1960-01-01T00:00:00",
          "1960-02-01T00:00:00",
          "1960-03-01T00:00:00",
          "1960-04-01T00:00:00",
          "1960-05-01T00:00:00",
          "1960-06-01T00:00:00",
          "1960-07-01T00:00:00",
          "1960-08-01T00:00:00",
          "1960-09-01T00:00:00",
          "1960-10-01T00:00:00",
          "1960-11-01T00:00:00",
          "1960-12-01T00:00:00"
         ],
         "y": [
          112,
          118,
          132,
          129,
          121,
          135,
          148,
          148,
          136,
          119,
          104,
          118,
          115,
          126,
          141,
          135,
          125,
          149,
          170,
          170,
          158,
          133,
          114,
          140,
          145,
          150,
          178,
          163,
          172,
          178,
          199,
          199,
          184,
          162,
          146,
          166,
          171,
          180,
          193,
          181,
          183,
          218,
          230,
          242,
          209,
          191,
          172,
          194,
          196,
          196,
          236,
          235,
          229,
          243,
          264,
          272,
          237,
          211,
          180,
          201,
          204,
          188,
          235,
          227,
          234,
          264,
          302,
          293,
          259,
          229,
          203,
          229,
          242,
          233,
          267,
          269,
          270,
          315,
          364,
          347,
          312,
          274,
          237,
          278,
          284,
          277,
          317,
          313,
          318,
          374,
          413,
          405,
          355,
          306,
          271,
          306,
          315,
          301,
          356,
          348,
          355,
          422,
          465,
          467,
          404,
          347,
          305,
          336,
          340,
          318,
          362,
          348,
          363,
          435,
          491,
          505,
          404,
          359,
          310,
          337,
          360,
          342,
          406,
          396,
          420,
          472,
          548,
          559,
          463,
          407,
          362,
          405,
          417,
          391,
          419,
          461,
          472,
          535,
          622,
          606,
          508,
          461,
          390,
          432
         ]
        }
       ],
       "layout": {
        "showlegend": true,
        "template": {
         "data": {
          "bar": [
           {
            "error_x": {
             "color": "rgb(36,36,36)"
            },
            "error_y": {
             "color": "rgb(36,36,36)"
            },
            "marker": {
             "line": {
              "color": "white",
              "width": 0.5
             },
             "pattern": {
              "fillmode": "overlay",
              "size": 10,
              "solidity": 0.2
             }
            },
            "type": "bar"
           }
          ],
          "barpolar": [
           {
            "marker": {
             "line": {
              "color": "white",
              "width": 0.5
             },
             "pattern": {
              "fillmode": "overlay",
              "size": 10,
              "solidity": 0.2
             }
            },
            "type": "barpolar"
           }
          ],
          "carpet": [
           {
            "aaxis": {
             "endlinecolor": "rgb(36,36,36)",
             "gridcolor": "white",
             "linecolor": "white",
             "minorgridcolor": "white",
             "startlinecolor": "rgb(36,36,36)"
            },
            "baxis": {
             "endlinecolor": "rgb(36,36,36)",
             "gridcolor": "white",
             "linecolor": "white",
             "minorgridcolor": "white",
             "startlinecolor": "rgb(36,36,36)"
            },
            "type": "carpet"
           }
          ],
          "choropleth": [
           {
            "colorbar": {
             "outlinewidth": 1,
             "tickcolor": "rgb(36,36,36)",
             "ticks": "outside"
            },
            "type": "choropleth"
           }
          ],
          "contour": [
           {
            "colorbar": {
             "outlinewidth": 1,
             "tickcolor": "rgb(36,36,36)",
             "ticks": "outside"
            },
            "colorscale": [
             [
              0,
              "#440154"
             ],
             [
              0.1111111111111111,
              "#482878"
             ],
             [
              0.2222222222222222,
              "#3e4989"
             ],
             [
              0.3333333333333333,
              "#31688e"
             ],
             [
              0.4444444444444444,
              "#26828e"
             ],
             [
              0.5555555555555556,
              "#1f9e89"
             ],
             [
              0.6666666666666666,
              "#35b779"
             ],
             [
              0.7777777777777778,
              "#6ece58"
             ],
             [
              0.8888888888888888,
              "#b5de2b"
             ],
             [
              1,
              "#fde725"
             ]
            ],
            "type": "contour"
           }
          ],
          "contourcarpet": [
           {
            "colorbar": {
             "outlinewidth": 1,
             "tickcolor": "rgb(36,36,36)",
             "ticks": "outside"
            },
            "type": "contourcarpet"
           }
          ],
          "heatmap": [
           {
            "colorbar": {
             "outlinewidth": 1,
             "tickcolor": "rgb(36,36,36)",
             "ticks": "outside"
            },
            "colorscale": [
             [
              0,
              "#440154"
             ],
             [
              0.1111111111111111,
              "#482878"
             ],
             [
              0.2222222222222222,
              "#3e4989"
             ],
             [
              0.3333333333333333,
              "#31688e"
             ],
             [
              0.4444444444444444,
              "#26828e"
             ],
             [
              0.5555555555555556,
              "#1f9e89"
             ],
             [
              0.6666666666666666,
              "#35b779"
             ],
             [
              0.7777777777777778,
              "#6ece58"
             ],
             [
              0.8888888888888888,
              "#b5de2b"
             ],
             [
              1,
              "#fde725"
             ]
            ],
            "type": "heatmap"
           }
          ],
          "heatmapgl": [
           {
            "colorbar": {
             "outlinewidth": 1,
             "tickcolor": "rgb(36,36,36)",
             "ticks": "outside"
            },
            "colorscale": [
             [
              0,
              "#440154"
             ],
             [
              0.1111111111111111,
              "#482878"
             ],
             [
              0.2222222222222222,
              "#3e4989"
             ],
             [
              0.3333333333333333,
              "#31688e"
             ],
             [
              0.4444444444444444,
              "#26828e"
             ],
             [
              0.5555555555555556,
              "#1f9e89"
             ],
             [
              0.6666666666666666,
              "#35b779"
             ],
             [
              0.7777777777777778,
              "#6ece58"
             ],
             [
              0.8888888888888888,
              "#b5de2b"
             ],
             [
              1,
              "#fde725"
             ]
            ],
            "type": "heatmapgl"
           }
          ],
          "histogram": [
           {
            "marker": {
             "line": {
              "color": "white",
              "width": 0.6
             }
            },
            "type": "histogram"
           }
          ],
          "histogram2d": [
           {
            "colorbar": {
             "outlinewidth": 1,
             "tickcolor": "rgb(36,36,36)",
             "ticks": "outside"
            },
            "colorscale": [
             [
              0,
              "#440154"
             ],
             [
              0.1111111111111111,
              "#482878"
             ],
             [
              0.2222222222222222,
              "#3e4989"
             ],
             [
              0.3333333333333333,
              "#31688e"
             ],
             [
              0.4444444444444444,
              "#26828e"
             ],
             [
              0.5555555555555556,
              "#1f9e89"
             ],
             [
              0.6666666666666666,
              "#35b779"
             ],
             [
              0.7777777777777778,
              "#6ece58"
             ],
             [
              0.8888888888888888,
              "#b5de2b"
             ],
             [
              1,
              "#fde725"
             ]
            ],
            "type": "histogram2d"
           }
          ],
          "histogram2dcontour": [
           {
            "colorbar": {
             "outlinewidth": 1,
             "tickcolor": "rgb(36,36,36)",
             "ticks": "outside"
            },
            "colorscale": [
             [
              0,
              "#440154"
             ],
             [
              0.1111111111111111,
              "#482878"
             ],
             [
              0.2222222222222222,
              "#3e4989"
             ],
             [
              0.3333333333333333,
              "#31688e"
             ],
             [
              0.4444444444444444,
              "#26828e"
             ],
             [
              0.5555555555555556,
              "#1f9e89"
             ],
             [
              0.6666666666666666,
              "#35b779"
             ],
             [
              0.7777777777777778,
              "#6ece58"
             ],
             [
              0.8888888888888888,
              "#b5de2b"
             ],
             [
              1,
              "#fde725"
             ]
            ],
            "type": "histogram2dcontour"
           }
          ],
          "mesh3d": [
           {
            "colorbar": {
             "outlinewidth": 1,
             "tickcolor": "rgb(36,36,36)",
             "ticks": "outside"
            },
            "type": "mesh3d"
           }
          ],
          "parcoords": [
           {
            "line": {
             "colorbar": {
              "outlinewidth": 1,
              "tickcolor": "rgb(36,36,36)",
              "ticks": "outside"
             }
            },
            "type": "parcoords"
           }
          ],
          "pie": [
           {
            "automargin": true,
            "type": "pie"
           }
          ],
          "scatter": [
           {
            "marker": {
             "colorbar": {
              "outlinewidth": 1,
              "tickcolor": "rgb(36,36,36)",
              "ticks": "outside"
             }
            },
            "type": "scatter"
           }
          ],
          "scatter3d": [
           {
            "line": {
             "colorbar": {
              "outlinewidth": 1,
              "tickcolor": "rgb(36,36,36)",
              "ticks": "outside"
             }
            },
            "marker": {
             "colorbar": {
              "outlinewidth": 1,
              "tickcolor": "rgb(36,36,36)",
              "ticks": "outside"
             }
            },
            "type": "scatter3d"
           }
          ],
          "scattercarpet": [
           {
            "marker": {
             "colorbar": {
              "outlinewidth": 1,
              "tickcolor": "rgb(36,36,36)",
              "ticks": "outside"
             }
            },
            "type": "scattercarpet"
           }
          ],
          "scattergeo": [
           {
            "marker": {
             "colorbar": {
              "outlinewidth": 1,
              "tickcolor": "rgb(36,36,36)",
              "ticks": "outside"
             }
            },
            "type": "scattergeo"
           }
          ],
          "scattergl": [
           {
            "marker": {
             "colorbar": {
              "outlinewidth": 1,
              "tickcolor": "rgb(36,36,36)",
              "ticks": "outside"
             }
            },
            "type": "scattergl"
           }
          ],
          "scattermapbox": [
           {
            "marker": {
             "colorbar": {
              "outlinewidth": 1,
              "tickcolor": "rgb(36,36,36)",
              "ticks": "outside"
             }
            },
            "type": "scattermapbox"
           }
          ],
          "scatterpolar": [
           {
            "marker": {
             "colorbar": {
              "outlinewidth": 1,
              "tickcolor": "rgb(36,36,36)",
              "ticks": "outside"
             }
            },
            "type": "scatterpolar"
           }
          ],
          "scatterpolargl": [
           {
            "marker": {
             "colorbar": {
              "outlinewidth": 1,
              "tickcolor": "rgb(36,36,36)",
              "ticks": "outside"
             }
            },
            "type": "scatterpolargl"
           }
          ],
          "scatterternary": [
           {
            "marker": {
             "colorbar": {
              "outlinewidth": 1,
              "tickcolor": "rgb(36,36,36)",
              "ticks": "outside"
             }
            },
            "type": "scatterternary"
           }
          ],
          "surface": [
           {
            "colorbar": {
             "outlinewidth": 1,
             "tickcolor": "rgb(36,36,36)",
             "ticks": "outside"
            },
            "colorscale": [
             [
              0,
              "#440154"
             ],
             [
              0.1111111111111111,
              "#482878"
             ],
             [
              0.2222222222222222,
              "#3e4989"
             ],
             [
              0.3333333333333333,
              "#31688e"
             ],
             [
              0.4444444444444444,
              "#26828e"
             ],
             [
              0.5555555555555556,
              "#1f9e89"
             ],
             [
              0.6666666666666666,
              "#35b779"
             ],
             [
              0.7777777777777778,
              "#6ece58"
             ],
             [
              0.8888888888888888,
              "#b5de2b"
             ],
             [
              1,
              "#fde725"
             ]
            ],
            "type": "surface"
           }
          ],
          "table": [
           {
            "cells": {
             "fill": {
              "color": "rgb(237,237,237)"
             },
             "line": {
              "color": "white"
             }
            },
            "header": {
             "fill": {
              "color": "rgb(217,217,217)"
             },
             "line": {
              "color": "white"
             }
            },
            "type": "table"
           }
          ]
         },
         "layout": {
          "annotationdefaults": {
           "arrowhead": 0,
           "arrowwidth": 1
          },
          "autotypenumbers": "strict",
          "coloraxis": {
           "colorbar": {
            "outlinewidth": 1,
            "tickcolor": "rgb(36,36,36)",
            "ticks": "outside"
           }
          },
          "colorscale": {
           "diverging": [
            [
             0,
             "rgb(103,0,31)"
            ],
            [
             0.1,
             "rgb(178,24,43)"
            ],
            [
             0.2,
             "rgb(214,96,77)"
            ],
            [
             0.3,
             "rgb(244,165,130)"
            ],
            [
             0.4,
             "rgb(253,219,199)"
            ],
            [
             0.5,
             "rgb(247,247,247)"
            ],
            [
             0.6,
             "rgb(209,229,240)"
            ],
            [
             0.7,
             "rgb(146,197,222)"
            ],
            [
             0.8,
             "rgb(67,147,195)"
            ],
            [
             0.9,
             "rgb(33,102,172)"
            ],
            [
             1,
             "rgb(5,48,97)"
            ]
           ],
           "sequential": [
            [
             0,
             "#440154"
            ],
            [
             0.1111111111111111,
             "#482878"
            ],
            [
             0.2222222222222222,
             "#3e4989"
            ],
            [
             0.3333333333333333,
             "#31688e"
            ],
            [
             0.4444444444444444,
             "#26828e"
            ],
            [
             0.5555555555555556,
             "#1f9e89"
            ],
            [
             0.6666666666666666,
             "#35b779"
            ],
            [
             0.7777777777777778,
             "#6ece58"
            ],
            [
             0.8888888888888888,
             "#b5de2b"
            ],
            [
             1,
             "#fde725"
            ]
           ],
           "sequentialminus": [
            [
             0,
             "#440154"
            ],
            [
             0.1111111111111111,
             "#482878"
            ],
            [
             0.2222222222222222,
             "#3e4989"
            ],
            [
             0.3333333333333333,
             "#31688e"
            ],
            [
             0.4444444444444444,
             "#26828e"
            ],
            [
             0.5555555555555556,
             "#1f9e89"
            ],
            [
             0.6666666666666666,
             "#35b779"
            ],
            [
             0.7777777777777778,
             "#6ece58"
            ],
            [
             0.8888888888888888,
             "#b5de2b"
            ],
            [
             1,
             "#fde725"
            ]
           ]
          },
          "colorway": [
           "#1F77B4",
           "#FF7F0E",
           "#2CA02C",
           "#D62728",
           "#9467BD",
           "#8C564B",
           "#E377C2",
           "#7F7F7F",
           "#BCBD22",
           "#17BECF"
          ],
          "font": {
           "color": "rgb(36,36,36)"
          },
          "geo": {
           "bgcolor": "white",
           "lakecolor": "white",
           "landcolor": "white",
           "showlakes": true,
           "showland": true,
           "subunitcolor": "white"
          },
          "hoverlabel": {
           "align": "left"
          },
          "hovermode": "closest",
          "mapbox": {
           "style": "light"
          },
          "paper_bgcolor": "white",
          "plot_bgcolor": "white",
          "polar": {
           "angularaxis": {
            "gridcolor": "rgb(232,232,232)",
            "linecolor": "rgb(36,36,36)",
            "showgrid": false,
            "showline": true,
            "ticks": "outside"
           },
           "bgcolor": "white",
           "radialaxis": {
            "gridcolor": "rgb(232,232,232)",
            "linecolor": "rgb(36,36,36)",
            "showgrid": false,
            "showline": true,
            "ticks": "outside"
           }
          },
          "scene": {
           "xaxis": {
            "backgroundcolor": "white",
            "gridcolor": "rgb(232,232,232)",
            "gridwidth": 2,
            "linecolor": "rgb(36,36,36)",
            "showbackground": true,
            "showgrid": false,
            "showline": true,
            "ticks": "outside",
            "zeroline": false,
            "zerolinecolor": "rgb(36,36,36)"
           },
           "yaxis": {
            "backgroundcolor": "white",
            "gridcolor": "rgb(232,232,232)",
            "gridwidth": 2,
            "linecolor": "rgb(36,36,36)",
            "showbackground": true,
            "showgrid": false,
            "showline": true,
            "ticks": "outside",
            "zeroline": false,
            "zerolinecolor": "rgb(36,36,36)"
           },
           "zaxis": {
            "backgroundcolor": "white",
            "gridcolor": "rgb(232,232,232)",
            "gridwidth": 2,
            "linecolor": "rgb(36,36,36)",
            "showbackground": true,
            "showgrid": false,
            "showline": true,
            "ticks": "outside",
            "zeroline": false,
            "zerolinecolor": "rgb(36,36,36)"
           }
          },
          "shapedefaults": {
           "fillcolor": "black",
           "line": {
            "width": 0
           },
           "opacity": 0.3
          },
          "ternary": {
           "aaxis": {
            "gridcolor": "rgb(232,232,232)",
            "linecolor": "rgb(36,36,36)",
            "showgrid": false,
            "showline": true,
            "ticks": "outside"
           },
           "baxis": {
            "gridcolor": "rgb(232,232,232)",
            "linecolor": "rgb(36,36,36)",
            "showgrid": false,
            "showline": true,
            "ticks": "outside"
           },
           "bgcolor": "white",
           "caxis": {
            "gridcolor": "rgb(232,232,232)",
            "linecolor": "rgb(36,36,36)",
            "showgrid": false,
            "showline": true,
            "ticks": "outside"
           }
          },
          "title": {
           "x": 0.05
          },
          "xaxis": {
           "automargin": true,
           "gridcolor": "rgb(232,232,232)",
           "linecolor": "rgb(36,36,36)",
           "showgrid": false,
           "showline": true,
           "ticks": "outside",
           "title": {
            "standoff": 15
           },
           "zeroline": false,
           "zerolinecolor": "rgb(36,36,36)"
          },
          "yaxis": {
           "automargin": true,
           "gridcolor": "rgb(232,232,232)",
           "linecolor": "rgb(36,36,36)",
           "showgrid": false,
           "showline": true,
           "ticks": "outside",
           "title": {
            "standoff": 15
           },
           "zeroline": false,
           "zerolinecolor": "rgb(36,36,36)"
          }
         }
        },
        "title": {
         "text": "Forecast(s)"
        },
        "xaxis": {
         "title": {
          "text": "Time"
         }
        },
        "yaxis": {
         "title": {
          "text": "Values"
         }
        }
       }
      }
     },
     "metadata": {}
    },
    {
     "output_type": "execute_result",
     "data": {
      "text/plain": [
       "0.0637"
      ]
     },
     "metadata": {},
     "execution_count": 22
    }
   ],
   "metadata": {}
  },
  {
   "cell_type": "code",
   "execution_count": 23,
   "source": [
    "# Fixed Grid Search\r\n",
    "tuned_model = exp.tune_model(model)\r\n",
    "print(model)\r\n",
    "print(tuned_model)"
   ],
   "outputs": [
    {
     "output_type": "display_data",
     "data": {
      "text/html": [
       "<style type=\"text/css\">\n",
       "#T_2bb25_row3_col0, #T_2bb25_row3_col1, #T_2bb25_row3_col2, #T_2bb25_row3_col3, #T_2bb25_row3_col4, #T_2bb25_row3_col5 {\n",
       "  background: yellow;\n",
       "}\n",
       "</style>\n",
       "<table id=\"T_2bb25_\">\n",
       "  <thead>\n",
       "    <tr>\n",
       "      <th class=\"blank level0\" >&nbsp;</th>\n",
       "      <th class=\"col_heading level0 col0\" >cutoff</th>\n",
       "      <th class=\"col_heading level0 col1\" >MAE</th>\n",
       "      <th class=\"col_heading level0 col2\" >RMSE</th>\n",
       "      <th class=\"col_heading level0 col3\" >MAPE</th>\n",
       "      <th class=\"col_heading level0 col4\" >SMAPE</th>\n",
       "      <th class=\"col_heading level0 col5\" >R2</th>\n",
       "    </tr>\n",
       "  </thead>\n",
       "  <tbody>\n",
       "    <tr>\n",
       "      <th id=\"T_2bb25_level0_row0\" class=\"row_heading level0 row0\" >0</th>\n",
       "      <td id=\"T_2bb25_row0_col0\" class=\"data row0 col0\" >1956-12</td>\n",
       "      <td id=\"T_2bb25_row0_col1\" class=\"data row0 col1\" >28.7546</td>\n",
       "      <td id=\"T_2bb25_row0_col2\" class=\"data row0 col2\" >37.5161</td>\n",
       "      <td id=\"T_2bb25_row0_col3\" class=\"data row0 col3\" >0.0714</td>\n",
       "      <td id=\"T_2bb25_row0_col4\" class=\"data row0 col4\" >0.0750</td>\n",
       "      <td id=\"T_2bb25_row0_col5\" class=\"data row0 col5\" >0.5419</td>\n",
       "    </tr>\n",
       "    <tr>\n",
       "      <th id=\"T_2bb25_level0_row1\" class=\"row_heading level0 row1\" >1</th>\n",
       "      <td id=\"T_2bb25_row1_col0\" class=\"data row1 col0\" >1957-12</td>\n",
       "      <td id=\"T_2bb25_row1_col1\" class=\"data row1 col1\" >26.7678</td>\n",
       "      <td id=\"T_2bb25_row1_col2\" class=\"data row1 col2\" >32.3833</td>\n",
       "      <td id=\"T_2bb25_row1_col3\" class=\"data row1 col3\" >0.0690</td>\n",
       "      <td id=\"T_2bb25_row1_col4\" class=\"data row1 col4\" >0.0682</td>\n",
       "      <td id=\"T_2bb25_row1_col5\" class=\"data row1 col5\" >0.7253</td>\n",
       "    </tr>\n",
       "    <tr>\n",
       "      <th id=\"T_2bb25_level0_row2\" class=\"row_heading level0 row2\" >2</th>\n",
       "      <td id=\"T_2bb25_row2_col0\" class=\"data row2 col0\" >1958-12</td>\n",
       "      <td id=\"T_2bb25_row2_col1\" class=\"data row2 col1\" >29.3616</td>\n",
       "      <td id=\"T_2bb25_row2_col2\" class=\"data row2 col2\" >39.1808</td>\n",
       "      <td id=\"T_2bb25_row2_col3\" class=\"data row2 col3\" >0.0637</td>\n",
       "      <td id=\"T_2bb25_row2_col4\" class=\"data row2 col4\" >0.0657</td>\n",
       "      <td id=\"T_2bb25_row2_col5\" class=\"data row2 col5\" >0.6566</td>\n",
       "    </tr>\n",
       "    <tr>\n",
       "      <th id=\"T_2bb25_level0_row3\" class=\"row_heading level0 row3\" >Mean</th>\n",
       "      <td id=\"T_2bb25_row3_col0\" class=\"data row3 col0\" >NaT</td>\n",
       "      <td id=\"T_2bb25_row3_col1\" class=\"data row3 col1\" >28.2947</td>\n",
       "      <td id=\"T_2bb25_row3_col2\" class=\"data row3 col2\" >36.3601</td>\n",
       "      <td id=\"T_2bb25_row3_col3\" class=\"data row3 col3\" >0.0681</td>\n",
       "      <td id=\"T_2bb25_row3_col4\" class=\"data row3 col4\" >0.0696</td>\n",
       "      <td id=\"T_2bb25_row3_col5\" class=\"data row3 col5\" >0.6412</td>\n",
       "    </tr>\n",
       "    <tr>\n",
       "      <th id=\"T_2bb25_level0_row4\" class=\"row_heading level0 row4\" >SD</th>\n",
       "      <td id=\"T_2bb25_row4_col0\" class=\"data row4 col0\" >NaT</td>\n",
       "      <td id=\"T_2bb25_row4_col1\" class=\"data row4 col1\" >1.1077</td>\n",
       "      <td id=\"T_2bb25_row4_col2\" class=\"data row4 col2\" >2.8929</td>\n",
       "      <td id=\"T_2bb25_row4_col3\" class=\"data row4 col3\" >0.0032</td>\n",
       "      <td id=\"T_2bb25_row4_col4\" class=\"data row4 col4\" >0.0039</td>\n",
       "      <td id=\"T_2bb25_row4_col5\" class=\"data row4 col5\" >0.0757</td>\n",
       "    </tr>\n",
       "  </tbody>\n",
       "</table>\n"
      ],
      "text/plain": [
       "<pandas.io.formats.style.Styler at 0x1cb0a1cecc8>"
      ]
     },
     "metadata": {}
    },
    {
     "output_type": "stream",
     "name": "stdout",
     "text": [
      "BaseCdsDt(degree=1, deseasonal_model='additive',\n",
      "          regressor=RandomForestRegressor(bootstrap=True, ccp_alpha=0.0,\n",
      "                                          criterion='mse', max_depth=None,\n",
      "                                          max_features='auto',\n",
      "                                          max_leaf_nodes=None, max_samples=None,\n",
      "                                          min_impurity_decrease=0.0,\n",
      "                                          min_impurity_split=None,\n",
      "                                          min_samples_leaf=1,\n",
      "                                          min_samples_split=2,\n",
      "                                          min_weight_fraction_leaf=0.0,\n",
      "                                          n_estimators=100, n_jobs=-1,\n",
      "                                          oob_score=False, random_state=42,\n",
      "                                          verbose=0, warm_start=False),\n",
      "          sp=1, window_length=10)\n",
      "BaseCdsDt(degree=1, deseasonal_model='additive',\n",
      "          regressor=RandomForestRegressor(bootstrap=False, ccp_alpha=0.0,\n",
      "                                          criterion='mse', max_depth=2,\n",
      "                                          max_features='sqrt',\n",
      "                                          max_leaf_nodes=None, max_samples=None,\n",
      "                                          min_impurity_decrease=0.21257793724562235,\n",
      "                                          min_impurity_split=None,\n",
      "                                          min_samples_leaf=1,\n",
      "                                          min_samples_split=2,\n",
      "                                          min_weight_fraction_leaf=0.0,\n",
      "                                          n_estimators=63, n_jobs=-1,\n",
      "                                          oob_score=False, random_state=42,\n",
      "                                          verbose=0, warm_start=False),\n",
      "          sp=24, window_length=15)\n"
     ]
    }
   ],
   "metadata": {
    "tags": []
   }
  },
  {
   "cell_type": "code",
   "execution_count": 24,
   "source": [
    "# Random Grid Search\r\n",
    "tuned_model = exp.tune_model(model, search_algorithm=\"random\")\r\n",
    "print(model)\r\n",
    "print(tuned_model)"
   ],
   "outputs": [
    {
     "output_type": "display_data",
     "data": {
      "text/html": [
       "<style type=\"text/css\">\n",
       "#T_5db93_row3_col0, #T_5db93_row3_col1, #T_5db93_row3_col2, #T_5db93_row3_col3, #T_5db93_row3_col4, #T_5db93_row3_col5 {\n",
       "  background: yellow;\n",
       "}\n",
       "</style>\n",
       "<table id=\"T_5db93_\">\n",
       "  <thead>\n",
       "    <tr>\n",
       "      <th class=\"blank level0\" >&nbsp;</th>\n",
       "      <th class=\"col_heading level0 col0\" >cutoff</th>\n",
       "      <th class=\"col_heading level0 col1\" >MAE</th>\n",
       "      <th class=\"col_heading level0 col2\" >RMSE</th>\n",
       "      <th class=\"col_heading level0 col3\" >MAPE</th>\n",
       "      <th class=\"col_heading level0 col4\" >SMAPE</th>\n",
       "      <th class=\"col_heading level0 col5\" >R2</th>\n",
       "    </tr>\n",
       "  </thead>\n",
       "  <tbody>\n",
       "    <tr>\n",
       "      <th id=\"T_5db93_level0_row0\" class=\"row_heading level0 row0\" >0</th>\n",
       "      <td id=\"T_5db93_row0_col0\" class=\"data row0 col0\" >1956-12</td>\n",
       "      <td id=\"T_5db93_row0_col1\" class=\"data row0 col1\" >28.7546</td>\n",
       "      <td id=\"T_5db93_row0_col2\" class=\"data row0 col2\" >37.5161</td>\n",
       "      <td id=\"T_5db93_row0_col3\" class=\"data row0 col3\" >0.0714</td>\n",
       "      <td id=\"T_5db93_row0_col4\" class=\"data row0 col4\" >0.0750</td>\n",
       "      <td id=\"T_5db93_row0_col5\" class=\"data row0 col5\" >0.5419</td>\n",
       "    </tr>\n",
       "    <tr>\n",
       "      <th id=\"T_5db93_level0_row1\" class=\"row_heading level0 row1\" >1</th>\n",
       "      <td id=\"T_5db93_row1_col0\" class=\"data row1 col0\" >1957-12</td>\n",
       "      <td id=\"T_5db93_row1_col1\" class=\"data row1 col1\" >26.7678</td>\n",
       "      <td id=\"T_5db93_row1_col2\" class=\"data row1 col2\" >32.3833</td>\n",
       "      <td id=\"T_5db93_row1_col3\" class=\"data row1 col3\" >0.0690</td>\n",
       "      <td id=\"T_5db93_row1_col4\" class=\"data row1 col4\" >0.0682</td>\n",
       "      <td id=\"T_5db93_row1_col5\" class=\"data row1 col5\" >0.7253</td>\n",
       "    </tr>\n",
       "    <tr>\n",
       "      <th id=\"T_5db93_level0_row2\" class=\"row_heading level0 row2\" >2</th>\n",
       "      <td id=\"T_5db93_row2_col0\" class=\"data row2 col0\" >1958-12</td>\n",
       "      <td id=\"T_5db93_row2_col1\" class=\"data row2 col1\" >29.3616</td>\n",
       "      <td id=\"T_5db93_row2_col2\" class=\"data row2 col2\" >39.1808</td>\n",
       "      <td id=\"T_5db93_row2_col3\" class=\"data row2 col3\" >0.0637</td>\n",
       "      <td id=\"T_5db93_row2_col4\" class=\"data row2 col4\" >0.0657</td>\n",
       "      <td id=\"T_5db93_row2_col5\" class=\"data row2 col5\" >0.6566</td>\n",
       "    </tr>\n",
       "    <tr>\n",
       "      <th id=\"T_5db93_level0_row3\" class=\"row_heading level0 row3\" >Mean</th>\n",
       "      <td id=\"T_5db93_row3_col0\" class=\"data row3 col0\" >NaT</td>\n",
       "      <td id=\"T_5db93_row3_col1\" class=\"data row3 col1\" >28.2947</td>\n",
       "      <td id=\"T_5db93_row3_col2\" class=\"data row3 col2\" >36.3601</td>\n",
       "      <td id=\"T_5db93_row3_col3\" class=\"data row3 col3\" >0.0681</td>\n",
       "      <td id=\"T_5db93_row3_col4\" class=\"data row3 col4\" >0.0696</td>\n",
       "      <td id=\"T_5db93_row3_col5\" class=\"data row3 col5\" >0.6412</td>\n",
       "    </tr>\n",
       "    <tr>\n",
       "      <th id=\"T_5db93_level0_row4\" class=\"row_heading level0 row4\" >SD</th>\n",
       "      <td id=\"T_5db93_row4_col0\" class=\"data row4 col0\" >NaT</td>\n",
       "      <td id=\"T_5db93_row4_col1\" class=\"data row4 col1\" >1.1077</td>\n",
       "      <td id=\"T_5db93_row4_col2\" class=\"data row4 col2\" >2.8929</td>\n",
       "      <td id=\"T_5db93_row4_col3\" class=\"data row4 col3\" >0.0032</td>\n",
       "      <td id=\"T_5db93_row4_col4\" class=\"data row4 col4\" >0.0039</td>\n",
       "      <td id=\"T_5db93_row4_col5\" class=\"data row4 col5\" >0.0757</td>\n",
       "    </tr>\n",
       "  </tbody>\n",
       "</table>\n"
      ],
      "text/plain": [
       "<pandas.io.formats.style.Styler at 0x1cb0a301bc8>"
      ]
     },
     "metadata": {}
    },
    {
     "output_type": "stream",
     "name": "stdout",
     "text": [
      "BaseCdsDt(degree=1, deseasonal_model='additive',\n",
      "          regressor=RandomForestRegressor(bootstrap=True, ccp_alpha=0.0,\n",
      "                                          criterion='mse', max_depth=None,\n",
      "                                          max_features='auto',\n",
      "                                          max_leaf_nodes=None, max_samples=None,\n",
      "                                          min_impurity_decrease=0.0,\n",
      "                                          min_impurity_split=None,\n",
      "                                          min_samples_leaf=1,\n",
      "                                          min_samples_split=2,\n",
      "                                          min_weight_fraction_leaf=0.0,\n",
      "                                          n_estimators=100, n_jobs=-1,\n",
      "                                          oob_score=False, random_state=42,\n",
      "                                          verbose=0, warm_start=False),\n",
      "          sp=1, window_length=10)\n",
      "BaseCdsDt(degree=1, deseasonal_model='additive',\n",
      "          regressor=RandomForestRegressor(bootstrap=False, ccp_alpha=0.0,\n",
      "                                          criterion='mse', max_depth=2,\n",
      "                                          max_features='sqrt',\n",
      "                                          max_leaf_nodes=None, max_samples=None,\n",
      "                                          min_impurity_decrease=0.21257793724562235,\n",
      "                                          min_impurity_split=None,\n",
      "                                          min_samples_leaf=1,\n",
      "                                          min_samples_split=2,\n",
      "                                          min_weight_fraction_leaf=0.0,\n",
      "                                          n_estimators=63, n_jobs=-1,\n",
      "                                          oob_score=False, random_state=42,\n",
      "                                          verbose=0, warm_start=False),\n",
      "          sp=24, window_length=15)\n"
     ]
    }
   ],
   "metadata": {}
  },
  {
   "cell_type": "code",
   "execution_count": 25,
   "source": [
    "y_predict = exp.predict_model(tuned_model)\r\n",
    "exp.plot_model(estimator=tuned_model)\r\n",
    "round(mean_absolute_percentage_error(y_predict, y_test), 4)"
   ],
   "outputs": [
    {
     "output_type": "display_data",
     "data": {
      "text/html": [
       "<style type=\"text/css\">\n",
       "</style>\n",
       "<table id=\"T_0e307_\">\n",
       "  <thead>\n",
       "    <tr>\n",
       "      <th class=\"blank level0\" >&nbsp;</th>\n",
       "      <th class=\"col_heading level0 col0\" >Model</th>\n",
       "      <th class=\"col_heading level0 col1\" >MAE</th>\n",
       "      <th class=\"col_heading level0 col2\" >RMSE</th>\n",
       "      <th class=\"col_heading level0 col3\" >MAPE</th>\n",
       "      <th class=\"col_heading level0 col4\" >SMAPE</th>\n",
       "      <th class=\"col_heading level0 col5\" >R2</th>\n",
       "    </tr>\n",
       "  </thead>\n",
       "  <tbody>\n",
       "    <tr>\n",
       "      <th id=\"T_0e307_level0_row0\" class=\"row_heading level0 row0\" >0</th>\n",
       "      <td id=\"T_0e307_row0_col0\" class=\"data row0 col0\" >RandomForestRegressor</td>\n",
       "      <td id=\"T_0e307_row0_col1\" class=\"data row0 col1\" >34.5229</td>\n",
       "      <td id=\"T_0e307_row0_col2\" class=\"data row0 col2\" >46.0020</td>\n",
       "      <td id=\"T_0e307_row0_col3\" class=\"data row0 col3\" >0.0668</td>\n",
       "      <td id=\"T_0e307_row0_col4\" class=\"data row0 col4\" >0.0696</td>\n",
       "      <td id=\"T_0e307_row0_col5\" class=\"data row0 col5\" >0.6180</td>\n",
       "    </tr>\n",
       "  </tbody>\n",
       "</table>\n"
      ],
      "text/plain": [
       "<pandas.io.formats.style.Styler at 0x1cb0a7d6208>"
      ]
     },
     "metadata": {}
    },
    {
     "output_type": "display_data",
     "data": {
      "application/vnd.plotly.v1+json": {
       "config": {
        "plotlyServerURL": "https://plot.ly"
       },
       "data": [
        {
         "line": {
          "color": "#1f77b4"
         },
         "marker": {
          "size": 5
         },
         "mode": "lines+markers",
         "name": "Forecast | RandomForestRegressor",
         "showlegend": true,
         "type": "scatter",
         "x": [
          "1960-01-01T00:00:00",
          "1960-02-01T00:00:00",
          "1960-03-01T00:00:00",
          "1960-04-01T00:00:00",
          "1960-05-01T00:00:00",
          "1960-06-01T00:00:00",
          "1960-07-01T00:00:00",
          "1960-08-01T00:00:00",
          "1960-09-01T00:00:00",
          "1960-10-01T00:00:00",
          "1960-11-01T00:00:00",
          "1960-12-01T00:00:00"
         ],
         "y": [
          400.90729433251863,
          409.10112540053285,
          425.63697147151976,
          435.35471919595153,
          446.3214372956786,
          472.82933142980977,
          505.71136956567904,
          542.0795773100645,
          487.44105530785987,
          440.6056486384255,
          423.2055172190461,
          426.41836713348926
         ]
        },
        {
         "marker": {
          "color": "#3f3f3f",
          "size": 5
         },
         "mode": "lines+markers",
         "name": "Original",
         "showlegend": true,
         "type": "scatter",
         "x": [
          "1949-01-01T00:00:00",
          "1949-02-01T00:00:00",
          "1949-03-01T00:00:00",
          "1949-04-01T00:00:00",
          "1949-05-01T00:00:00",
          "1949-06-01T00:00:00",
          "1949-07-01T00:00:00",
          "1949-08-01T00:00:00",
          "1949-09-01T00:00:00",
          "1949-10-01T00:00:00",
          "1949-11-01T00:00:00",
          "1949-12-01T00:00:00",
          "1950-01-01T00:00:00",
          "1950-02-01T00:00:00",
          "1950-03-01T00:00:00",
          "1950-04-01T00:00:00",
          "1950-05-01T00:00:00",
          "1950-06-01T00:00:00",
          "1950-07-01T00:00:00",
          "1950-08-01T00:00:00",
          "1950-09-01T00:00:00",
          "1950-10-01T00:00:00",
          "1950-11-01T00:00:00",
          "1950-12-01T00:00:00",
          "1951-01-01T00:00:00",
          "1951-02-01T00:00:00",
          "1951-03-01T00:00:00",
          "1951-04-01T00:00:00",
          "1951-05-01T00:00:00",
          "1951-06-01T00:00:00",
          "1951-07-01T00:00:00",
          "1951-08-01T00:00:00",
          "1951-09-01T00:00:00",
          "1951-10-01T00:00:00",
          "1951-11-01T00:00:00",
          "1951-12-01T00:00:00",
          "1952-01-01T00:00:00",
          "1952-02-01T00:00:00",
          "1952-03-01T00:00:00",
          "1952-04-01T00:00:00",
          "1952-05-01T00:00:00",
          "1952-06-01T00:00:00",
          "1952-07-01T00:00:00",
          "1952-08-01T00:00:00",
          "1952-09-01T00:00:00",
          "1952-10-01T00:00:00",
          "1952-11-01T00:00:00",
          "1952-12-01T00:00:00",
          "1953-01-01T00:00:00",
          "1953-02-01T00:00:00",
          "1953-03-01T00:00:00",
          "1953-04-01T00:00:00",
          "1953-05-01T00:00:00",
          "1953-06-01T00:00:00",
          "1953-07-01T00:00:00",
          "1953-08-01T00:00:00",
          "1953-09-01T00:00:00",
          "1953-10-01T00:00:00",
          "1953-11-01T00:00:00",
          "1953-12-01T00:00:00",
          "1954-01-01T00:00:00",
          "1954-02-01T00:00:00",
          "1954-03-01T00:00:00",
          "1954-04-01T00:00:00",
          "1954-05-01T00:00:00",
          "1954-06-01T00:00:00",
          "1954-07-01T00:00:00",
          "1954-08-01T00:00:00",
          "1954-09-01T00:00:00",
          "1954-10-01T00:00:00",
          "1954-11-01T00:00:00",
          "1954-12-01T00:00:00",
          "1955-01-01T00:00:00",
          "1955-02-01T00:00:00",
          "1955-03-01T00:00:00",
          "1955-04-01T00:00:00",
          "1955-05-01T00:00:00",
          "1955-06-01T00:00:00",
          "1955-07-01T00:00:00",
          "1955-08-01T00:00:00",
          "1955-09-01T00:00:00",
          "1955-10-01T00:00:00",
          "1955-11-01T00:00:00",
          "1955-12-01T00:00:00",
          "1956-01-01T00:00:00",
          "1956-02-01T00:00:00",
          "1956-03-01T00:00:00",
          "1956-04-01T00:00:00",
          "1956-05-01T00:00:00",
          "1956-06-01T00:00:00",
          "1956-07-01T00:00:00",
          "1956-08-01T00:00:00",
          "1956-09-01T00:00:00",
          "1956-10-01T00:00:00",
          "1956-11-01T00:00:00",
          "1956-12-01T00:00:00",
          "1957-01-01T00:00:00",
          "1957-02-01T00:00:00",
          "1957-03-01T00:00:00",
          "1957-04-01T00:00:00",
          "1957-05-01T00:00:00",
          "1957-06-01T00:00:00",
          "1957-07-01T00:00:00",
          "1957-08-01T00:00:00",
          "1957-09-01T00:00:00",
          "1957-10-01T00:00:00",
          "1957-11-01T00:00:00",
          "1957-12-01T00:00:00",
          "1958-01-01T00:00:00",
          "1958-02-01T00:00:00",
          "1958-03-01T00:00:00",
          "1958-04-01T00:00:00",
          "1958-05-01T00:00:00",
          "1958-06-01T00:00:00",
          "1958-07-01T00:00:00",
          "1958-08-01T00:00:00",
          "1958-09-01T00:00:00",
          "1958-10-01T00:00:00",
          "1958-11-01T00:00:00",
          "1958-12-01T00:00:00",
          "1959-01-01T00:00:00",
          "1959-02-01T00:00:00",
          "1959-03-01T00:00:00",
          "1959-04-01T00:00:00",
          "1959-05-01T00:00:00",
          "1959-06-01T00:00:00",
          "1959-07-01T00:00:00",
          "1959-08-01T00:00:00",
          "1959-09-01T00:00:00",
          "1959-10-01T00:00:00",
          "1959-11-01T00:00:00",
          "1959-12-01T00:00:00",
          "1960-01-01T00:00:00",
          "1960-02-01T00:00:00",
          "1960-03-01T00:00:00",
          "1960-04-01T00:00:00",
          "1960-05-01T00:00:00",
          "1960-06-01T00:00:00",
          "1960-07-01T00:00:00",
          "1960-08-01T00:00:00",
          "1960-09-01T00:00:00",
          "1960-10-01T00:00:00",
          "1960-11-01T00:00:00",
          "1960-12-01T00:00:00"
         ],
         "y": [
          112,
          118,
          132,
          129,
          121,
          135,
          148,
          148,
          136,
          119,
          104,
          118,
          115,
          126,
          141,
          135,
          125,
          149,
          170,
          170,
          158,
          133,
          114,
          140,
          145,
          150,
          178,
          163,
          172,
          178,
          199,
          199,
          184,
          162,
          146,
          166,
          171,
          180,
          193,
          181,
          183,
          218,
          230,
          242,
          209,
          191,
          172,
          194,
          196,
          196,
          236,
          235,
          229,
          243,
          264,
          272,
          237,
          211,
          180,
          201,
          204,
          188,
          235,
          227,
          234,
          264,
          302,
          293,
          259,
          229,
          203,
          229,
          242,
          233,
          267,
          269,
          270,
          315,
          364,
          347,
          312,
          274,
          237,
          278,
          284,
          277,
          317,
          313,
          318,
          374,
          413,
          405,
          355,
          306,
          271,
          306,
          315,
          301,
          356,
          348,
          355,
          422,
          465,
          467,
          404,
          347,
          305,
          336,
          340,
          318,
          362,
          348,
          363,
          435,
          491,
          505,
          404,
          359,
          310,
          337,
          360,
          342,
          406,
          396,
          420,
          472,
          548,
          559,
          463,
          407,
          362,
          405,
          417,
          391,
          419,
          461,
          472,
          535,
          622,
          606,
          508,
          461,
          390,
          432
         ]
        }
       ],
       "layout": {
        "showlegend": true,
        "template": {
         "data": {
          "bar": [
           {
            "error_x": {
             "color": "rgb(36,36,36)"
            },
            "error_y": {
             "color": "rgb(36,36,36)"
            },
            "marker": {
             "line": {
              "color": "white",
              "width": 0.5
             },
             "pattern": {
              "fillmode": "overlay",
              "size": 10,
              "solidity": 0.2
             }
            },
            "type": "bar"
           }
          ],
          "barpolar": [
           {
            "marker": {
             "line": {
              "color": "white",
              "width": 0.5
             },
             "pattern": {
              "fillmode": "overlay",
              "size": 10,
              "solidity": 0.2
             }
            },
            "type": "barpolar"
           }
          ],
          "carpet": [
           {
            "aaxis": {
             "endlinecolor": "rgb(36,36,36)",
             "gridcolor": "white",
             "linecolor": "white",
             "minorgridcolor": "white",
             "startlinecolor": "rgb(36,36,36)"
            },
            "baxis": {
             "endlinecolor": "rgb(36,36,36)",
             "gridcolor": "white",
             "linecolor": "white",
             "minorgridcolor": "white",
             "startlinecolor": "rgb(36,36,36)"
            },
            "type": "carpet"
           }
          ],
          "choropleth": [
           {
            "colorbar": {
             "outlinewidth": 1,
             "tickcolor": "rgb(36,36,36)",
             "ticks": "outside"
            },
            "type": "choropleth"
           }
          ],
          "contour": [
           {
            "colorbar": {
             "outlinewidth": 1,
             "tickcolor": "rgb(36,36,36)",
             "ticks": "outside"
            },
            "colorscale": [
             [
              0,
              "#440154"
             ],
             [
              0.1111111111111111,
              "#482878"
             ],
             [
              0.2222222222222222,
              "#3e4989"
             ],
             [
              0.3333333333333333,
              "#31688e"
             ],
             [
              0.4444444444444444,
              "#26828e"
             ],
             [
              0.5555555555555556,
              "#1f9e89"
             ],
             [
              0.6666666666666666,
              "#35b779"
             ],
             [
              0.7777777777777778,
              "#6ece58"
             ],
             [
              0.8888888888888888,
              "#b5de2b"
             ],
             [
              1,
              "#fde725"
             ]
            ],
            "type": "contour"
           }
          ],
          "contourcarpet": [
           {
            "colorbar": {
             "outlinewidth": 1,
             "tickcolor": "rgb(36,36,36)",
             "ticks": "outside"
            },
            "type": "contourcarpet"
           }
          ],
          "heatmap": [
           {
            "colorbar": {
             "outlinewidth": 1,
             "tickcolor": "rgb(36,36,36)",
             "ticks": "outside"
            },
            "colorscale": [
             [
              0,
              "#440154"
             ],
             [
              0.1111111111111111,
              "#482878"
             ],
             [
              0.2222222222222222,
              "#3e4989"
             ],
             [
              0.3333333333333333,
              "#31688e"
             ],
             [
              0.4444444444444444,
              "#26828e"
             ],
             [
              0.5555555555555556,
              "#1f9e89"
             ],
             [
              0.6666666666666666,
              "#35b779"
             ],
             [
              0.7777777777777778,
              "#6ece58"
             ],
             [
              0.8888888888888888,
              "#b5de2b"
             ],
             [
              1,
              "#fde725"
             ]
            ],
            "type": "heatmap"
           }
          ],
          "heatmapgl": [
           {
            "colorbar": {
             "outlinewidth": 1,
             "tickcolor": "rgb(36,36,36)",
             "ticks": "outside"
            },
            "colorscale": [
             [
              0,
              "#440154"
             ],
             [
              0.1111111111111111,
              "#482878"
             ],
             [
              0.2222222222222222,
              "#3e4989"
             ],
             [
              0.3333333333333333,
              "#31688e"
             ],
             [
              0.4444444444444444,
              "#26828e"
             ],
             [
              0.5555555555555556,
              "#1f9e89"
             ],
             [
              0.6666666666666666,
              "#35b779"
             ],
             [
              0.7777777777777778,
              "#6ece58"
             ],
             [
              0.8888888888888888,
              "#b5de2b"
             ],
             [
              1,
              "#fde725"
             ]
            ],
            "type": "heatmapgl"
           }
          ],
          "histogram": [
           {
            "marker": {
             "line": {
              "color": "white",
              "width": 0.6
             }
            },
            "type": "histogram"
           }
          ],
          "histogram2d": [
           {
            "colorbar": {
             "outlinewidth": 1,
             "tickcolor": "rgb(36,36,36)",
             "ticks": "outside"
            },
            "colorscale": [
             [
              0,
              "#440154"
             ],
             [
              0.1111111111111111,
              "#482878"
             ],
             [
              0.2222222222222222,
              "#3e4989"
             ],
             [
              0.3333333333333333,
              "#31688e"
             ],
             [
              0.4444444444444444,
              "#26828e"
             ],
             [
              0.5555555555555556,
              "#1f9e89"
             ],
             [
              0.6666666666666666,
              "#35b779"
             ],
             [
              0.7777777777777778,
              "#6ece58"
             ],
             [
              0.8888888888888888,
              "#b5de2b"
             ],
             [
              1,
              "#fde725"
             ]
            ],
            "type": "histogram2d"
           }
          ],
          "histogram2dcontour": [
           {
            "colorbar": {
             "outlinewidth": 1,
             "tickcolor": "rgb(36,36,36)",
             "ticks": "outside"
            },
            "colorscale": [
             [
              0,
              "#440154"
             ],
             [
              0.1111111111111111,
              "#482878"
             ],
             [
              0.2222222222222222,
              "#3e4989"
             ],
             [
              0.3333333333333333,
              "#31688e"
             ],
             [
              0.4444444444444444,
              "#26828e"
             ],
             [
              0.5555555555555556,
              "#1f9e89"
             ],
             [
              0.6666666666666666,
              "#35b779"
             ],
             [
              0.7777777777777778,
              "#6ece58"
             ],
             [
              0.8888888888888888,
              "#b5de2b"
             ],
             [
              1,
              "#fde725"
             ]
            ],
            "type": "histogram2dcontour"
           }
          ],
          "mesh3d": [
           {
            "colorbar": {
             "outlinewidth": 1,
             "tickcolor": "rgb(36,36,36)",
             "ticks": "outside"
            },
            "type": "mesh3d"
           }
          ],
          "parcoords": [
           {
            "line": {
             "colorbar": {
              "outlinewidth": 1,
              "tickcolor": "rgb(36,36,36)",
              "ticks": "outside"
             }
            },
            "type": "parcoords"
           }
          ],
          "pie": [
           {
            "automargin": true,
            "type": "pie"
           }
          ],
          "scatter": [
           {
            "marker": {
             "colorbar": {
              "outlinewidth": 1,
              "tickcolor": "rgb(36,36,36)",
              "ticks": "outside"
             }
            },
            "type": "scatter"
           }
          ],
          "scatter3d": [
           {
            "line": {
             "colorbar": {
              "outlinewidth": 1,
              "tickcolor": "rgb(36,36,36)",
              "ticks": "outside"
             }
            },
            "marker": {
             "colorbar": {
              "outlinewidth": 1,
              "tickcolor": "rgb(36,36,36)",
              "ticks": "outside"
             }
            },
            "type": "scatter3d"
           }
          ],
          "scattercarpet": [
           {
            "marker": {
             "colorbar": {
              "outlinewidth": 1,
              "tickcolor": "rgb(36,36,36)",
              "ticks": "outside"
             }
            },
            "type": "scattercarpet"
           }
          ],
          "scattergeo": [
           {
            "marker": {
             "colorbar": {
              "outlinewidth": 1,
              "tickcolor": "rgb(36,36,36)",
              "ticks": "outside"
             }
            },
            "type": "scattergeo"
           }
          ],
          "scattergl": [
           {
            "marker": {
             "colorbar": {
              "outlinewidth": 1,
              "tickcolor": "rgb(36,36,36)",
              "ticks": "outside"
             }
            },
            "type": "scattergl"
           }
          ],
          "scattermapbox": [
           {
            "marker": {
             "colorbar": {
              "outlinewidth": 1,
              "tickcolor": "rgb(36,36,36)",
              "ticks": "outside"
             }
            },
            "type": "scattermapbox"
           }
          ],
          "scatterpolar": [
           {
            "marker": {
             "colorbar": {
              "outlinewidth": 1,
              "tickcolor": "rgb(36,36,36)",
              "ticks": "outside"
             }
            },
            "type": "scatterpolar"
           }
          ],
          "scatterpolargl": [
           {
            "marker": {
             "colorbar": {
              "outlinewidth": 1,
              "tickcolor": "rgb(36,36,36)",
              "ticks": "outside"
             }
            },
            "type": "scatterpolargl"
           }
          ],
          "scatterternary": [
           {
            "marker": {
             "colorbar": {
              "outlinewidth": 1,
              "tickcolor": "rgb(36,36,36)",
              "ticks": "outside"
             }
            },
            "type": "scatterternary"
           }
          ],
          "surface": [
           {
            "colorbar": {
             "outlinewidth": 1,
             "tickcolor": "rgb(36,36,36)",
             "ticks": "outside"
            },
            "colorscale": [
             [
              0,
              "#440154"
             ],
             [
              0.1111111111111111,
              "#482878"
             ],
             [
              0.2222222222222222,
              "#3e4989"
             ],
             [
              0.3333333333333333,
              "#31688e"
             ],
             [
              0.4444444444444444,
              "#26828e"
             ],
             [
              0.5555555555555556,
              "#1f9e89"
             ],
             [
              0.6666666666666666,
              "#35b779"
             ],
             [
              0.7777777777777778,
              "#6ece58"
             ],
             [
              0.8888888888888888,
              "#b5de2b"
             ],
             [
              1,
              "#fde725"
             ]
            ],
            "type": "surface"
           }
          ],
          "table": [
           {
            "cells": {
             "fill": {
              "color": "rgb(237,237,237)"
             },
             "line": {
              "color": "white"
             }
            },
            "header": {
             "fill": {
              "color": "rgb(217,217,217)"
             },
             "line": {
              "color": "white"
             }
            },
            "type": "table"
           }
          ]
         },
         "layout": {
          "annotationdefaults": {
           "arrowhead": 0,
           "arrowwidth": 1
          },
          "autotypenumbers": "strict",
          "coloraxis": {
           "colorbar": {
            "outlinewidth": 1,
            "tickcolor": "rgb(36,36,36)",
            "ticks": "outside"
           }
          },
          "colorscale": {
           "diverging": [
            [
             0,
             "rgb(103,0,31)"
            ],
            [
             0.1,
             "rgb(178,24,43)"
            ],
            [
             0.2,
             "rgb(214,96,77)"
            ],
            [
             0.3,
             "rgb(244,165,130)"
            ],
            [
             0.4,
             "rgb(253,219,199)"
            ],
            [
             0.5,
             "rgb(247,247,247)"
            ],
            [
             0.6,
             "rgb(209,229,240)"
            ],
            [
             0.7,
             "rgb(146,197,222)"
            ],
            [
             0.8,
             "rgb(67,147,195)"
            ],
            [
             0.9,
             "rgb(33,102,172)"
            ],
            [
             1,
             "rgb(5,48,97)"
            ]
           ],
           "sequential": [
            [
             0,
             "#440154"
            ],
            [
             0.1111111111111111,
             "#482878"
            ],
            [
             0.2222222222222222,
             "#3e4989"
            ],
            [
             0.3333333333333333,
             "#31688e"
            ],
            [
             0.4444444444444444,
             "#26828e"
            ],
            [
             0.5555555555555556,
             "#1f9e89"
            ],
            [
             0.6666666666666666,
             "#35b779"
            ],
            [
             0.7777777777777778,
             "#6ece58"
            ],
            [
             0.8888888888888888,
             "#b5de2b"
            ],
            [
             1,
             "#fde725"
            ]
           ],
           "sequentialminus": [
            [
             0,
             "#440154"
            ],
            [
             0.1111111111111111,
             "#482878"
            ],
            [
             0.2222222222222222,
             "#3e4989"
            ],
            [
             0.3333333333333333,
             "#31688e"
            ],
            [
             0.4444444444444444,
             "#26828e"
            ],
            [
             0.5555555555555556,
             "#1f9e89"
            ],
            [
             0.6666666666666666,
             "#35b779"
            ],
            [
             0.7777777777777778,
             "#6ece58"
            ],
            [
             0.8888888888888888,
             "#b5de2b"
            ],
            [
             1,
             "#fde725"
            ]
           ]
          },
          "colorway": [
           "#1F77B4",
           "#FF7F0E",
           "#2CA02C",
           "#D62728",
           "#9467BD",
           "#8C564B",
           "#E377C2",
           "#7F7F7F",
           "#BCBD22",
           "#17BECF"
          ],
          "font": {
           "color": "rgb(36,36,36)"
          },
          "geo": {
           "bgcolor": "white",
           "lakecolor": "white",
           "landcolor": "white",
           "showlakes": true,
           "showland": true,
           "subunitcolor": "white"
          },
          "hoverlabel": {
           "align": "left"
          },
          "hovermode": "closest",
          "mapbox": {
           "style": "light"
          },
          "paper_bgcolor": "white",
          "plot_bgcolor": "white",
          "polar": {
           "angularaxis": {
            "gridcolor": "rgb(232,232,232)",
            "linecolor": "rgb(36,36,36)",
            "showgrid": false,
            "showline": true,
            "ticks": "outside"
           },
           "bgcolor": "white",
           "radialaxis": {
            "gridcolor": "rgb(232,232,232)",
            "linecolor": "rgb(36,36,36)",
            "showgrid": false,
            "showline": true,
            "ticks": "outside"
           }
          },
          "scene": {
           "xaxis": {
            "backgroundcolor": "white",
            "gridcolor": "rgb(232,232,232)",
            "gridwidth": 2,
            "linecolor": "rgb(36,36,36)",
            "showbackground": true,
            "showgrid": false,
            "showline": true,
            "ticks": "outside",
            "zeroline": false,
            "zerolinecolor": "rgb(36,36,36)"
           },
           "yaxis": {
            "backgroundcolor": "white",
            "gridcolor": "rgb(232,232,232)",
            "gridwidth": 2,
            "linecolor": "rgb(36,36,36)",
            "showbackground": true,
            "showgrid": false,
            "showline": true,
            "ticks": "outside",
            "zeroline": false,
            "zerolinecolor": "rgb(36,36,36)"
           },
           "zaxis": {
            "backgroundcolor": "white",
            "gridcolor": "rgb(232,232,232)",
            "gridwidth": 2,
            "linecolor": "rgb(36,36,36)",
            "showbackground": true,
            "showgrid": false,
            "showline": true,
            "ticks": "outside",
            "zeroline": false,
            "zerolinecolor": "rgb(36,36,36)"
           }
          },
          "shapedefaults": {
           "fillcolor": "black",
           "line": {
            "width": 0
           },
           "opacity": 0.3
          },
          "ternary": {
           "aaxis": {
            "gridcolor": "rgb(232,232,232)",
            "linecolor": "rgb(36,36,36)",
            "showgrid": false,
            "showline": true,
            "ticks": "outside"
           },
           "baxis": {
            "gridcolor": "rgb(232,232,232)",
            "linecolor": "rgb(36,36,36)",
            "showgrid": false,
            "showline": true,
            "ticks": "outside"
           },
           "bgcolor": "white",
           "caxis": {
            "gridcolor": "rgb(232,232,232)",
            "linecolor": "rgb(36,36,36)",
            "showgrid": false,
            "showline": true,
            "ticks": "outside"
           }
          },
          "title": {
           "x": 0.05
          },
          "xaxis": {
           "automargin": true,
           "gridcolor": "rgb(232,232,232)",
           "linecolor": "rgb(36,36,36)",
           "showgrid": false,
           "showline": true,
           "ticks": "outside",
           "title": {
            "standoff": 15
           },
           "zeroline": false,
           "zerolinecolor": "rgb(36,36,36)"
          },
          "yaxis": {
           "automargin": true,
           "gridcolor": "rgb(232,232,232)",
           "linecolor": "rgb(36,36,36)",
           "showgrid": false,
           "showline": true,
           "ticks": "outside",
           "title": {
            "standoff": 15
           },
           "zeroline": false,
           "zerolinecolor": "rgb(36,36,36)"
          }
         }
        },
        "title": {
         "text": "Forecast(s)"
        },
        "xaxis": {
         "title": {
          "text": "Time"
         }
        },
        "yaxis": {
         "title": {
          "text": "Values"
         }
        }
       }
      }
     },
     "metadata": {}
    },
    {
     "output_type": "execute_result",
     "data": {
      "text/plain": [
       "0.0696"
      ]
     },
     "metadata": {},
     "execution_count": 25
    }
   ],
   "metadata": {}
  },
  {
   "cell_type": "markdown",
   "source": [
    "## Auto Create\n",
    "\n",
    "### Compare Models"
   ],
   "metadata": {}
  },
  {
   "cell_type": "code",
   "execution_count": 26,
   "source": [
    "best_baseline_models = exp.compare_models(fold=fold, sort='smape', n_select=3)\r\n",
    "best_baseline_models"
   ],
   "outputs": [
    {
     "output_type": "display_data",
     "data": {
      "text/html": [
       "<style type=\"text/css\">\n",
       "#T_8240f_ th {\n",
       "  text-align: left;\n",
       "}\n",
       "#T_8240f_row0_col0, #T_8240f_row0_col2, #T_8240f_row0_col5, #T_8240f_row1_col0, #T_8240f_row1_col1, #T_8240f_row1_col2, #T_8240f_row1_col3, #T_8240f_row1_col4, #T_8240f_row1_col5, #T_8240f_row2_col0, #T_8240f_row2_col1, #T_8240f_row2_col3, #T_8240f_row2_col4, #T_8240f_row3_col0, #T_8240f_row3_col1, #T_8240f_row3_col2, #T_8240f_row3_col3, #T_8240f_row3_col4, #T_8240f_row3_col5, #T_8240f_row4_col0, #T_8240f_row4_col1, #T_8240f_row4_col2, #T_8240f_row4_col3, #T_8240f_row4_col4, #T_8240f_row4_col5, #T_8240f_row5_col0, #T_8240f_row5_col1, #T_8240f_row5_col2, #T_8240f_row5_col3, #T_8240f_row5_col4, #T_8240f_row5_col5, #T_8240f_row6_col0, #T_8240f_row6_col1, #T_8240f_row6_col2, #T_8240f_row6_col3, #T_8240f_row6_col4, #T_8240f_row6_col5, #T_8240f_row7_col0, #T_8240f_row7_col1, #T_8240f_row7_col2, #T_8240f_row7_col3, #T_8240f_row7_col4, #T_8240f_row7_col5, #T_8240f_row8_col0, #T_8240f_row8_col1, #T_8240f_row8_col2, #T_8240f_row8_col3, #T_8240f_row8_col4, #T_8240f_row8_col5, #T_8240f_row9_col0, #T_8240f_row9_col1, #T_8240f_row9_col2, #T_8240f_row9_col3, #T_8240f_row9_col4, #T_8240f_row9_col5, #T_8240f_row10_col0, #T_8240f_row10_col1, #T_8240f_row10_col2, #T_8240f_row10_col3, #T_8240f_row10_col4, #T_8240f_row10_col5, #T_8240f_row11_col0, #T_8240f_row11_col1, #T_8240f_row11_col2, #T_8240f_row11_col3, #T_8240f_row11_col4, #T_8240f_row11_col5, #T_8240f_row12_col0, #T_8240f_row12_col1, #T_8240f_row12_col2, #T_8240f_row12_col3, #T_8240f_row12_col4, #T_8240f_row12_col5, #T_8240f_row13_col0, #T_8240f_row13_col1, #T_8240f_row13_col2, #T_8240f_row13_col3, #T_8240f_row13_col4, #T_8240f_row13_col5, #T_8240f_row14_col0, #T_8240f_row14_col1, #T_8240f_row14_col2, #T_8240f_row14_col3, #T_8240f_row14_col4, #T_8240f_row14_col5, #T_8240f_row15_col0, #T_8240f_row15_col1, #T_8240f_row15_col2, #T_8240f_row15_col3, #T_8240f_row15_col4, #T_8240f_row15_col5, #T_8240f_row16_col0, #T_8240f_row16_col1, #T_8240f_row16_col2, #T_8240f_row16_col3, #T_8240f_row16_col4, #T_8240f_row16_col5, #T_8240f_row17_col0, #T_8240f_row17_col1, #T_8240f_row17_col2, #T_8240f_row17_col3, #T_8240f_row17_col4, #T_8240f_row17_col5, #T_8240f_row18_col0, #T_8240f_row18_col1, #T_8240f_row18_col2, #T_8240f_row18_col3, #T_8240f_row18_col4, #T_8240f_row18_col5, #T_8240f_row19_col0, #T_8240f_row19_col1, #T_8240f_row19_col2, #T_8240f_row19_col3, #T_8240f_row19_col4, #T_8240f_row19_col5, #T_8240f_row20_col0, #T_8240f_row20_col1, #T_8240f_row20_col2, #T_8240f_row20_col3, #T_8240f_row20_col4, #T_8240f_row20_col5, #T_8240f_row21_col0, #T_8240f_row21_col1, #T_8240f_row21_col2, #T_8240f_row21_col3, #T_8240f_row21_col4, #T_8240f_row21_col5, #T_8240f_row22_col0, #T_8240f_row22_col1, #T_8240f_row22_col2, #T_8240f_row22_col3, #T_8240f_row22_col4, #T_8240f_row22_col5, #T_8240f_row23_col0, #T_8240f_row23_col1, #T_8240f_row23_col2, #T_8240f_row23_col3, #T_8240f_row23_col4, #T_8240f_row23_col5, #T_8240f_row24_col0, #T_8240f_row24_col1, #T_8240f_row24_col2, #T_8240f_row24_col3, #T_8240f_row24_col4, #T_8240f_row24_col5, #T_8240f_row25_col0, #T_8240f_row25_col1, #T_8240f_row25_col2, #T_8240f_row25_col3, #T_8240f_row25_col4, #T_8240f_row25_col5 {\n",
       "  text-align: left;\n",
       "}\n",
       "#T_8240f_row0_col1, #T_8240f_row0_col3, #T_8240f_row0_col4, #T_8240f_row2_col2, #T_8240f_row2_col5 {\n",
       "  text-align: left;\n",
       "  background-color: yellow;\n",
       "}\n",
       "#T_8240f_row0_col6, #T_8240f_row1_col6, #T_8240f_row2_col6, #T_8240f_row3_col6, #T_8240f_row4_col6, #T_8240f_row5_col6, #T_8240f_row6_col6, #T_8240f_row7_col6, #T_8240f_row8_col6, #T_8240f_row9_col6, #T_8240f_row10_col6, #T_8240f_row11_col6, #T_8240f_row12_col6, #T_8240f_row13_col6, #T_8240f_row14_col6, #T_8240f_row15_col6, #T_8240f_row16_col6, #T_8240f_row18_col6, #T_8240f_row19_col6, #T_8240f_row20_col6, #T_8240f_row21_col6, #T_8240f_row23_col6, #T_8240f_row25_col6 {\n",
       "  text-align: left;\n",
       "  background-color: lightgrey;\n",
       "}\n",
       "#T_8240f_row17_col6, #T_8240f_row22_col6, #T_8240f_row24_col6 {\n",
       "  text-align: left;\n",
       "  background-color: yellow;\n",
       "  background-color: lightgrey;\n",
       "}\n",
       "</style>\n",
       "<table id=\"T_8240f_\">\n",
       "  <thead>\n",
       "    <tr>\n",
       "      <th class=\"blank level0\" >&nbsp;</th>\n",
       "      <th class=\"col_heading level0 col0\" >Model</th>\n",
       "      <th class=\"col_heading level0 col1\" >MAE</th>\n",
       "      <th class=\"col_heading level0 col2\" >RMSE</th>\n",
       "      <th class=\"col_heading level0 col3\" >MAPE</th>\n",
       "      <th class=\"col_heading level0 col4\" >SMAPE</th>\n",
       "      <th class=\"col_heading level0 col5\" >R2</th>\n",
       "      <th class=\"col_heading level0 col6\" >TT (Sec)</th>\n",
       "    </tr>\n",
       "  </thead>\n",
       "  <tbody>\n",
       "    <tr>\n",
       "      <th id=\"T_8240f_level0_row0\" class=\"row_heading level0 row0\" >ets</th>\n",
       "      <td id=\"T_8240f_row0_col0\" class=\"data row0 col0\" >ETS</td>\n",
       "      <td id=\"T_8240f_row0_col1\" class=\"data row0 col1\" >19.5889</td>\n",
       "      <td id=\"T_8240f_row0_col2\" class=\"data row0 col2\" >22.7315</td>\n",
       "      <td id=\"T_8240f_row0_col3\" class=\"data row0 col3\" >0.0498</td>\n",
       "      <td id=\"T_8240f_row0_col4\" class=\"data row0 col4\" >0.0498</td>\n",
       "      <td id=\"T_8240f_row0_col5\" class=\"data row0 col5\" >0.8624</td>\n",
       "      <td id=\"T_8240f_row0_col6\" class=\"data row0 col6\" >0.1367</td>\n",
       "    </tr>\n",
       "    <tr>\n",
       "      <th id=\"T_8240f_level0_row1\" class=\"row_heading level0 row1\" >exp_smooth</th>\n",
       "      <td id=\"T_8240f_row1_col0\" class=\"data row1 col0\" >Exponential Smoothing</td>\n",
       "      <td id=\"T_8240f_row1_col1\" class=\"data row1 col1\" >19.7275</td>\n",
       "      <td id=\"T_8240f_row1_col2\" class=\"data row1 col2\" >22.7648</td>\n",
       "      <td id=\"T_8240f_row1_col3\" class=\"data row1 col3\" >0.0503</td>\n",
       "      <td id=\"T_8240f_row1_col4\" class=\"data row1 col4\" >0.0502</td>\n",
       "      <td id=\"T_8240f_row1_col5\" class=\"data row1 col5\" >0.8608</td>\n",
       "      <td id=\"T_8240f_row1_col6\" class=\"data row1 col6\" >0.1400</td>\n",
       "    </tr>\n",
       "    <tr>\n",
       "      <th id=\"T_8240f_level0_row2\" class=\"row_heading level0 row2\" >arima</th>\n",
       "      <td id=\"T_8240f_row2_col0\" class=\"data row2 col0\" >ARIMA</td>\n",
       "      <td id=\"T_8240f_row2_col1\" class=\"data row2 col1\" >20.0069</td>\n",
       "      <td id=\"T_8240f_row2_col2\" class=\"data row2 col2\" >22.2199</td>\n",
       "      <td id=\"T_8240f_row2_col3\" class=\"data row2 col3\" >0.0501</td>\n",
       "      <td id=\"T_8240f_row2_col4\" class=\"data row2 col4\" >0.0507</td>\n",
       "      <td id=\"T_8240f_row2_col5\" class=\"data row2 col5\" >0.8677</td>\n",
       "      <td id=\"T_8240f_row2_col6\" class=\"data row2 col6\" >0.0467</td>\n",
       "    </tr>\n",
       "    <tr>\n",
       "      <th id=\"T_8240f_level0_row3\" class=\"row_heading level0 row3\" >auto_arima</th>\n",
       "      <td id=\"T_8240f_row3_col0\" class=\"data row3 col0\" >Auto ARIMA</td>\n",
       "      <td id=\"T_8240f_row3_col1\" class=\"data row3 col1\" >21.0297</td>\n",
       "      <td id=\"T_8240f_row3_col2\" class=\"data row3 col2\" >23.4661</td>\n",
       "      <td id=\"T_8240f_row3_col3\" class=\"data row3 col3\" >0.0525</td>\n",
       "      <td id=\"T_8240f_row3_col4\" class=\"data row3 col4\" >0.0531</td>\n",
       "      <td id=\"T_8240f_row3_col5\" class=\"data row3 col5\" >0.8509</td>\n",
       "      <td id=\"T_8240f_row3_col6\" class=\"data row3 col6\" >2.9233</td>\n",
       "    </tr>\n",
       "    <tr>\n",
       "      <th id=\"T_8240f_level0_row4\" class=\"row_heading level0 row4\" >et_cds_dt</th>\n",
       "      <td id=\"T_8240f_row4_col0\" class=\"data row4 col0\" >Extra Trees w/ Cond. Deseasonalize & Detrending</td>\n",
       "      <td id=\"T_8240f_row4_col1\" class=\"data row4 col1\" >24.4233</td>\n",
       "      <td id=\"T_8240f_row4_col2\" class=\"data row4 col2\" >31.4395</td>\n",
       "      <td id=\"T_8240f_row4_col3\" class=\"data row4 col3\" >0.0584</td>\n",
       "      <td id=\"T_8240f_row4_col4\" class=\"data row4 col4\" >0.0601</td>\n",
       "      <td id=\"T_8240f_row4_col5\" class=\"data row4 col5\" >0.7169</td>\n",
       "      <td id=\"T_8240f_row4_col6\" class=\"data row4 col6\" >0.5533</td>\n",
       "    </tr>\n",
       "    <tr>\n",
       "      <th id=\"T_8240f_level0_row5\" class=\"row_heading level0 row5\" >xgboost_cds_dt</th>\n",
       "      <td id=\"T_8240f_row5_col0\" class=\"data row5 col0\" >Extreme Gradient Boosting w/ Cond. Deseasonalize & Detrending</td>\n",
       "      <td id=\"T_8240f_row5_col1\" class=\"data row5 col1\" >24.8102</td>\n",
       "      <td id=\"T_8240f_row5_col2\" class=\"data row5 col2\" >31.3995</td>\n",
       "      <td id=\"T_8240f_row5_col3\" class=\"data row5 col3\" >0.0613</td>\n",
       "      <td id=\"T_8240f_row5_col4\" class=\"data row5 col4\" >0.0631</td>\n",
       "      <td id=\"T_8240f_row5_col5\" class=\"data row5 col5\" >0.6888</td>\n",
       "      <td id=\"T_8240f_row5_col6\" class=\"data row5 col6\" >0.3033</td>\n",
       "    </tr>\n",
       "    <tr>\n",
       "      <th id=\"T_8240f_level0_row6\" class=\"row_heading level0 row6\" >knn_cds_dt</th>\n",
       "      <td id=\"T_8240f_row6_col0\" class=\"data row6 col0\" >K Neighbors w/ Cond. Deseasonalize & Detrending</td>\n",
       "      <td id=\"T_8240f_row6_col1\" class=\"data row6 col1\" >25.8293</td>\n",
       "      <td id=\"T_8240f_row6_col2\" class=\"data row6 col2\" >34.9633</td>\n",
       "      <td id=\"T_8240f_row6_col3\" class=\"data row6 col3\" >0.0617</td>\n",
       "      <td id=\"T_8240f_row6_col4\" class=\"data row6 col4\" >0.0641</td>\n",
       "      <td id=\"T_8240f_row6_col5\" class=\"data row6 col5\" >0.6260</td>\n",
       "      <td id=\"T_8240f_row6_col6\" class=\"data row6 col6\" >0.4567</td>\n",
       "    </tr>\n",
       "    <tr>\n",
       "      <th id=\"T_8240f_level0_row7\" class=\"row_heading level0 row7\" >rf_cds_dt</th>\n",
       "      <td id=\"T_8240f_row7_col0\" class=\"data row7 col0\" >Random Forest w/ Cond. Deseasonalize & Detrending</td>\n",
       "      <td id=\"T_8240f_row7_col1\" class=\"data row7 col1\" >26.8586</td>\n",
       "      <td id=\"T_8240f_row7_col2\" class=\"data row7 col2\" >38.0499</td>\n",
       "      <td id=\"T_8240f_row7_col3\" class=\"data row7 col3\" >0.0629</td>\n",
       "      <td id=\"T_8240f_row7_col4\" class=\"data row7 col4\" >0.0654</td>\n",
       "      <td id=\"T_8240f_row7_col5\" class=\"data row7 col5\" >0.6023</td>\n",
       "      <td id=\"T_8240f_row7_col6\" class=\"data row7 col6\" >0.5967</td>\n",
       "    </tr>\n",
       "    <tr>\n",
       "      <th id=\"T_8240f_level0_row8\" class=\"row_heading level0 row8\" >ada_cds_dt</th>\n",
       "      <td id=\"T_8240f_row8_col0\" class=\"data row8 col0\" >AdaBoost w/ Cond. Deseasonalize & Detrending</td>\n",
       "      <td id=\"T_8240f_row8_col1\" class=\"data row8 col1\" >27.8200</td>\n",
       "      <td id=\"T_8240f_row8_col2\" class=\"data row8 col2\" >37.7910</td>\n",
       "      <td id=\"T_8240f_row8_col3\" class=\"data row8 col3\" >0.0661</td>\n",
       "      <td id=\"T_8240f_row8_col4\" class=\"data row8 col4\" >0.0686</td>\n",
       "      <td id=\"T_8240f_row8_col5\" class=\"data row8 col5\" >0.6015</td>\n",
       "      <td id=\"T_8240f_row8_col6\" class=\"data row8 col6\" >0.0800</td>\n",
       "    </tr>\n",
       "    <tr>\n",
       "      <th id=\"T_8240f_level0_row9\" class=\"row_heading level0 row9\" >gbr_cds_dt</th>\n",
       "      <td id=\"T_8240f_row9_col0\" class=\"data row9 col0\" >Gradient Boosting w/ Cond. Deseasonalize & Detrending</td>\n",
       "      <td id=\"T_8240f_row9_col1\" class=\"data row9 col1\" >29.1314</td>\n",
       "      <td id=\"T_8240f_row9_col2\" class=\"data row9 col2\" >38.3080</td>\n",
       "      <td id=\"T_8240f_row9_col3\" class=\"data row9 col3\" >0.0685</td>\n",
       "      <td id=\"T_8240f_row9_col4\" class=\"data row9 col4\" >0.0715</td>\n",
       "      <td id=\"T_8240f_row9_col5\" class=\"data row9 col5\" >0.5855</td>\n",
       "      <td id=\"T_8240f_row9_col6\" class=\"data row9 col6\" >0.0400</td>\n",
       "    </tr>\n",
       "    <tr>\n",
       "      <th id=\"T_8240f_level0_row10\" class=\"row_heading level0 row10\" >lightgbm_cds_dt</th>\n",
       "      <td id=\"T_8240f_row10_col0\" class=\"data row10 col0\" >Light Gradient Boosting w/ Cond. Deseasonalize & Detrending</td>\n",
       "      <td id=\"T_8240f_row10_col1\" class=\"data row10 col1\" >28.7738</td>\n",
       "      <td id=\"T_8240f_row10_col2\" class=\"data row10 col2\" >36.2392</td>\n",
       "      <td id=\"T_8240f_row10_col3\" class=\"data row10 col3\" >0.0698</td>\n",
       "      <td id=\"T_8240f_row10_col4\" class=\"data row10 col4\" >0.0722</td>\n",
       "      <td id=\"T_8240f_row10_col5\" class=\"data row10 col5\" >0.6255</td>\n",
       "      <td id=\"T_8240f_row10_col6\" class=\"data row10 col6\" >0.0400</td>\n",
       "    </tr>\n",
       "    <tr>\n",
       "      <th id=\"T_8240f_level0_row11\" class=\"row_heading level0 row11\" >br_cds_dt</th>\n",
       "      <td id=\"T_8240f_row11_col0\" class=\"data row11 col0\" >Bayesian Ridge w/ Cond. Deseasonalize & Detrending</td>\n",
       "      <td id=\"T_8240f_row11_col1\" class=\"data row11 col1\" >32.0341</td>\n",
       "      <td id=\"T_8240f_row11_col2\" class=\"data row11 col2\" >39.2191</td>\n",
       "      <td id=\"T_8240f_row11_col3\" class=\"data row11 col3\" >0.0799</td>\n",
       "      <td id=\"T_8240f_row11_col4\" class=\"data row11 col4\" >0.0818</td>\n",
       "      <td id=\"T_8240f_row11_col5\" class=\"data row11 col5\" >0.5658</td>\n",
       "      <td id=\"T_8240f_row11_col6\" class=\"data row11 col6\" >0.0167</td>\n",
       "    </tr>\n",
       "    <tr>\n",
       "      <th id=\"T_8240f_level0_row12\" class=\"row_heading level0 row12\" >lasso_cds_dt</th>\n",
       "      <td id=\"T_8240f_row12_col0\" class=\"data row12 col0\" >Lasso w/ Cond. Deseasonalize & Detrending</td>\n",
       "      <td id=\"T_8240f_row12_col1\" class=\"data row12 col1\" >32.8026</td>\n",
       "      <td id=\"T_8240f_row12_col2\" class=\"data row12 col2\" >39.2084</td>\n",
       "      <td id=\"T_8240f_row12_col3\" class=\"data row12 col3\" >0.0823</td>\n",
       "      <td id=\"T_8240f_row12_col4\" class=\"data row12 col4\" >0.0841</td>\n",
       "      <td id=\"T_8240f_row12_col5\" class=\"data row12 col5\" >0.5678</td>\n",
       "      <td id=\"T_8240f_row12_col6\" class=\"data row12 col6\" >0.0167</td>\n",
       "    </tr>\n",
       "    <tr>\n",
       "      <th id=\"T_8240f_level0_row13\" class=\"row_heading level0 row13\" >en_cds_dt</th>\n",
       "      <td id=\"T_8240f_row13_col0\" class=\"data row13 col0\" >Elastic Net w/ Cond. Deseasonalize & Detrending</td>\n",
       "      <td id=\"T_8240f_row13_col1\" class=\"data row13 col1\" >32.8556</td>\n",
       "      <td id=\"T_8240f_row13_col2\" class=\"data row13 col2\" >39.2557</td>\n",
       "      <td id=\"T_8240f_row13_col3\" class=\"data row13 col3\" >0.0825</td>\n",
       "      <td id=\"T_8240f_row13_col4\" class=\"data row13 col4\" >0.0843</td>\n",
       "      <td id=\"T_8240f_row13_col5\" class=\"data row13 col5\" >0.5669</td>\n",
       "      <td id=\"T_8240f_row13_col6\" class=\"data row13 col6\" >0.0133</td>\n",
       "    </tr>\n",
       "    <tr>\n",
       "      <th id=\"T_8240f_level0_row14\" class=\"row_heading level0 row14\" >ridge_cds_dt</th>\n",
       "      <td id=\"T_8240f_row14_col0\" class=\"data row14 col0\" >Ridge w/ Cond. Deseasonalize & Detrending</td>\n",
       "      <td id=\"T_8240f_row14_col1\" class=\"data row14 col1\" >32.9702</td>\n",
       "      <td id=\"T_8240f_row14_col2\" class=\"data row14 col2\" >39.3452</td>\n",
       "      <td id=\"T_8240f_row14_col3\" class=\"data row14 col3\" >0.0828</td>\n",
       "      <td id=\"T_8240f_row14_col4\" class=\"data row14 col4\" >0.0846</td>\n",
       "      <td id=\"T_8240f_row14_col5\" class=\"data row14 col5\" >0.5652</td>\n",
       "      <td id=\"T_8240f_row14_col6\" class=\"data row14 col6\" >0.0167</td>\n",
       "    </tr>\n",
       "    <tr>\n",
       "      <th id=\"T_8240f_level0_row15\" class=\"row_heading level0 row15\" >lr_cds_dt</th>\n",
       "      <td id=\"T_8240f_row15_col0\" class=\"data row15 col0\" >Linear w/ Cond. Deseasonalize & Detrending</td>\n",
       "      <td id=\"T_8240f_row15_col1\" class=\"data row15 col1\" >32.9708</td>\n",
       "      <td id=\"T_8240f_row15_col2\" class=\"data row15 col2\" >39.3456</td>\n",
       "      <td id=\"T_8240f_row15_col3\" class=\"data row15 col3\" >0.0828</td>\n",
       "      <td id=\"T_8240f_row15_col4\" class=\"data row15 col4\" >0.0846</td>\n",
       "      <td id=\"T_8240f_row15_col5\" class=\"data row15 col5\" >0.5652</td>\n",
       "      <td id=\"T_8240f_row15_col6\" class=\"data row15 col6\" >0.0167</td>\n",
       "    </tr>\n",
       "    <tr>\n",
       "      <th id=\"T_8240f_level0_row16\" class=\"row_heading level0 row16\" >dt_cds_dt</th>\n",
       "      <td id=\"T_8240f_row16_col0\" class=\"data row16 col0\" >Decision Tree w/ Cond. Deseasonalize & Detrending</td>\n",
       "      <td id=\"T_8240f_row16_col1\" class=\"data row16 col1\" >35.1446</td>\n",
       "      <td id=\"T_8240f_row16_col2\" class=\"data row16 col2\" >45.8861</td>\n",
       "      <td id=\"T_8240f_row16_col3\" class=\"data row16 col3\" >0.0826</td>\n",
       "      <td id=\"T_8240f_row16_col4\" class=\"data row16 col4\" >0.0869</td>\n",
       "      <td id=\"T_8240f_row16_col5\" class=\"data row16 col5\" >0.4284</td>\n",
       "      <td id=\"T_8240f_row16_col6\" class=\"data row16 col6\" >0.0133</td>\n",
       "    </tr>\n",
       "    <tr>\n",
       "      <th id=\"T_8240f_level0_row17\" class=\"row_heading level0 row17\" >snaive</th>\n",
       "      <td id=\"T_8240f_row17_col0\" class=\"data row17 col0\" >Seasonal Naive Forecaster</td>\n",
       "      <td id=\"T_8240f_row17_col1\" class=\"data row17 col1\" >33.3611</td>\n",
       "      <td id=\"T_8240f_row17_col2\" class=\"data row17 col2\" >35.9139</td>\n",
       "      <td id=\"T_8240f_row17_col3\" class=\"data row17 col3\" >0.0832</td>\n",
       "      <td id=\"T_8240f_row17_col4\" class=\"data row17 col4\" >0.0879</td>\n",
       "      <td id=\"T_8240f_row17_col5\" class=\"data row17 col5\" >0.6072</td>\n",
       "      <td id=\"T_8240f_row17_col6\" class=\"data row17 col6\" >0.0067</td>\n",
       "    </tr>\n",
       "    <tr>\n",
       "      <th id=\"T_8240f_level0_row18\" class=\"row_heading level0 row18\" >huber_cds_dt</th>\n",
       "      <td id=\"T_8240f_row18_col0\" class=\"data row18 col0\" >Huber w/ Cond. Deseasonalize & Detrending</td>\n",
       "      <td id=\"T_8240f_row18_col1\" class=\"data row18 col1\" >35.4709</td>\n",
       "      <td id=\"T_8240f_row18_col2\" class=\"data row18 col2\" >41.1489</td>\n",
       "      <td id=\"T_8240f_row18_col3\" class=\"data row18 col3\" >0.0910</td>\n",
       "      <td id=\"T_8240f_row18_col4\" class=\"data row18 col4\" >0.0936</td>\n",
       "      <td id=\"T_8240f_row18_col5\" class=\"data row18 col5\" >0.5226</td>\n",
       "      <td id=\"T_8240f_row18_col6\" class=\"data row18 col6\" >0.0267</td>\n",
       "    </tr>\n",
       "    <tr>\n",
       "      <th id=\"T_8240f_level0_row19\" class=\"row_heading level0 row19\" >lar_cds_dt</th>\n",
       "      <td id=\"T_8240f_row19_col0\" class=\"data row19 col0\" >Least Angular Regressor w/ Cond. Deseasonalize & Detrending</td>\n",
       "      <td id=\"T_8240f_row19_col1\" class=\"data row19 col1\" >36.5285</td>\n",
       "      <td id=\"T_8240f_row19_col2\" class=\"data row19 col2\" >42.4001</td>\n",
       "      <td id=\"T_8240f_row19_col3\" class=\"data row19 col3\" >0.0936</td>\n",
       "      <td id=\"T_8240f_row19_col4\" class=\"data row19 col4\" >0.0945</td>\n",
       "      <td id=\"T_8240f_row19_col5\" class=\"data row19 col5\" >0.5058</td>\n",
       "      <td id=\"T_8240f_row19_col6\" class=\"data row19 col6\" >0.0133</td>\n",
       "    </tr>\n",
       "    <tr>\n",
       "      <th id=\"T_8240f_level0_row20\" class=\"row_heading level0 row20\" >llar_cds_dt</th>\n",
       "      <td id=\"T_8240f_row20_col0\" class=\"data row20 col0\" >Lasso Least Angular Regressor w/ Cond. Deseasonalize & Detrending</td>\n",
       "      <td id=\"T_8240f_row20_col1\" class=\"data row20 col1\" >46.7239</td>\n",
       "      <td id=\"T_8240f_row20_col2\" class=\"data row20 col2\" >63.1706</td>\n",
       "      <td id=\"T_8240f_row20_col3\" class=\"data row20 col3\" >0.1109</td>\n",
       "      <td id=\"T_8240f_row20_col4\" class=\"data row20 col4\" >0.1165</td>\n",
       "      <td id=\"T_8240f_row20_col5\" class=\"data row20 col5\" >-0.0733</td>\n",
       "      <td id=\"T_8240f_row20_col6\" class=\"data row20 col6\" >0.0133</td>\n",
       "    </tr>\n",
       "    <tr>\n",
       "      <th id=\"T_8240f_level0_row21\" class=\"row_heading level0 row21\" >omp_cds_dt</th>\n",
       "      <td id=\"T_8240f_row21_col0\" class=\"data row21 col0\" >Orthogonal Matching Pursuit w/ Cond. Deseasonalize & Detrending</td>\n",
       "      <td id=\"T_8240f_row21_col1\" class=\"data row21 col1\" >47.2799</td>\n",
       "      <td id=\"T_8240f_row21_col2\" class=\"data row21 col2\" >64.5891</td>\n",
       "      <td id=\"T_8240f_row21_col3\" class=\"data row21 col3\" >0.1110</td>\n",
       "      <td id=\"T_8240f_row21_col4\" class=\"data row21 col4\" >0.1177</td>\n",
       "      <td id=\"T_8240f_row21_col5\" class=\"data row21 col5\" >-0.1201</td>\n",
       "      <td id=\"T_8240f_row21_col6\" class=\"data row21 col6\" >0.0167</td>\n",
       "    </tr>\n",
       "    <tr>\n",
       "      <th id=\"T_8240f_level0_row22\" class=\"row_heading level0 row22\" >polytrend</th>\n",
       "      <td id=\"T_8240f_row22_col0\" class=\"data row22 col0\" >Polynomial Trend Forecaster</td>\n",
       "      <td id=\"T_8240f_row22_col1\" class=\"data row22 col1\" >48.6301</td>\n",
       "      <td id=\"T_8240f_row22_col2\" class=\"data row22 col2\" >63.4299</td>\n",
       "      <td id=\"T_8240f_row22_col3\" class=\"data row22 col3\" >0.1170</td>\n",
       "      <td id=\"T_8240f_row22_col4\" class=\"data row22 col4\" >0.1216</td>\n",
       "      <td id=\"T_8240f_row22_col5\" class=\"data row22 col5\" >-0.0784</td>\n",
       "      <td id=\"T_8240f_row22_col6\" class=\"data row22 col6\" >0.0067</td>\n",
       "    </tr>\n",
       "    <tr>\n",
       "      <th id=\"T_8240f_level0_row23\" class=\"row_heading level0 row23\" >theta</th>\n",
       "      <td id=\"T_8240f_row23_col0\" class=\"data row23 col0\" >Theta Forecaster</td>\n",
       "      <td id=\"T_8240f_row23_col1\" class=\"data row23 col1\" >62.7733</td>\n",
       "      <td id=\"T_8240f_row23_col2\" class=\"data row23 col2\" >84.3104</td>\n",
       "      <td id=\"T_8240f_row23_col3\" class=\"data row23 col3\" >0.1425</td>\n",
       "      <td id=\"T_8240f_row23_col4\" class=\"data row23 col4\" >0.1607</td>\n",
       "      <td id=\"T_8240f_row23_col5\" class=\"data row23 col5\" >-0.9043</td>\n",
       "      <td id=\"T_8240f_row23_col6\" class=\"data row23 col6\" >0.0133</td>\n",
       "    </tr>\n",
       "    <tr>\n",
       "      <th id=\"T_8240f_level0_row24\" class=\"row_heading level0 row24\" >naive</th>\n",
       "      <td id=\"T_8240f_row24_col0\" class=\"data row24 col0\" >Naive Forecaster</td>\n",
       "      <td id=\"T_8240f_row24_col1\" class=\"data row24 col1\" >69.0278</td>\n",
       "      <td id=\"T_8240f_row24_col2\" class=\"data row24 col2\" >91.0322</td>\n",
       "      <td id=\"T_8240f_row24_col3\" class=\"data row24 col3\" >0.1569</td>\n",
       "      <td id=\"T_8240f_row24_col4\" class=\"data row24 col4\" >0.1792</td>\n",
       "      <td id=\"T_8240f_row24_col5\" class=\"data row24 col5\" >-1.2216</td>\n",
       "      <td id=\"T_8240f_row24_col6\" class=\"data row24 col6\" >0.0067</td>\n",
       "    </tr>\n",
       "    <tr>\n",
       "      <th id=\"T_8240f_level0_row25\" class=\"row_heading level0 row25\" >par_cds_dt</th>\n",
       "      <td id=\"T_8240f_row25_col0\" class=\"data row25 col0\" >Passive Aggressive w/ Cond. Deseasonalize & Detrending</td>\n",
       "      <td id=\"T_8240f_row25_col1\" class=\"data row25 col1\" >78.0396</td>\n",
       "      <td id=\"T_8240f_row25_col2\" class=\"data row25 col2\" >95.4251</td>\n",
       "      <td id=\"T_8240f_row25_col3\" class=\"data row25 col3\" >0.2137</td>\n",
       "      <td id=\"T_8240f_row25_col4\" class=\"data row25 col4\" >0.2531</td>\n",
       "      <td id=\"T_8240f_row25_col5\" class=\"data row25 col5\" >-3.0784</td>\n",
       "      <td id=\"T_8240f_row25_col6\" class=\"data row25 col6\" >0.0133</td>\n",
       "    </tr>\n",
       "  </tbody>\n",
       "</table>\n"
      ],
      "text/plain": [
       "<pandas.io.formats.style.Styler at 0x1cb08c87108>"
      ]
     },
     "metadata": {}
    },
    {
     "output_type": "execute_result",
     "data": {
      "text/plain": [
       "[AutoETS(additive_only=False, allow_multiplicative_trend=False, auto=False,\n",
       "         bounds=None, callback=None, damped_trend=False, dates=None, disp=False,\n",
       "         error='add', freq=None, full_output=True, ignore_inf_ic=True,\n",
       "         information_criterion='aic', initial_level=None, initial_seasonal=None,\n",
       "         initial_trend=None, initialization_method='estimated', maxiter=1000,\n",
       "         missing='none', n_jobs=None, restrict=True, return_params=False,\n",
       "         seasonal='add', sp=12, start_params=None, trend='add'),\n",
       " ExponentialSmoothing(damped_trend=False, initial_level=None,\n",
       "                      initial_seasonal=None, initial_trend=None,\n",
       "                      initialization_method='estimated', seasonal='add', sp=12,\n",
       "                      trend='add', use_boxcox=None),\n",
       " ARIMA(maxiter=50, method='lbfgs', order=(1, 0, 0), out_of_sample_size=0,\n",
       "       scoring='mse', scoring_args=None, seasonal_order=(0, 1, 0, 12),\n",
       "       start_params=None, suppress_warnings=False, trend=None,\n",
       "       with_intercept=True)]"
      ]
     },
     "metadata": {},
     "execution_count": 26
    }
   ],
   "metadata": {}
  },
  {
   "cell_type": "code",
   "execution_count": 27,
   "source": [
    "compare_metrics = exp.pull()\r\n",
    "compare_metrics"
   ],
   "outputs": [
    {
     "output_type": "execute_result",
     "data": {
      "text/html": [
       "<div>\n",
       "<style scoped>\n",
       "    .dataframe tbody tr th:only-of-type {\n",
       "        vertical-align: middle;\n",
       "    }\n",
       "\n",
       "    .dataframe tbody tr th {\n",
       "        vertical-align: top;\n",
       "    }\n",
       "\n",
       "    .dataframe thead th {\n",
       "        text-align: right;\n",
       "    }\n",
       "</style>\n",
       "<table border=\"1\" class=\"dataframe\">\n",
       "  <thead>\n",
       "    <tr style=\"text-align: right;\">\n",
       "      <th></th>\n",
       "      <th>Model</th>\n",
       "      <th>MAE</th>\n",
       "      <th>RMSE</th>\n",
       "      <th>MAPE</th>\n",
       "      <th>SMAPE</th>\n",
       "      <th>R2</th>\n",
       "      <th>TT (Sec)</th>\n",
       "    </tr>\n",
       "  </thead>\n",
       "  <tbody>\n",
       "    <tr>\n",
       "      <th>ets</th>\n",
       "      <td>ETS</td>\n",
       "      <td>19.5889</td>\n",
       "      <td>22.7315</td>\n",
       "      <td>0.0498</td>\n",
       "      <td>0.0498</td>\n",
       "      <td>0.8624</td>\n",
       "      <td>0.1367</td>\n",
       "    </tr>\n",
       "    <tr>\n",
       "      <th>exp_smooth</th>\n",
       "      <td>Exponential Smoothing</td>\n",
       "      <td>19.7275</td>\n",
       "      <td>22.7648</td>\n",
       "      <td>0.0503</td>\n",
       "      <td>0.0502</td>\n",
       "      <td>0.8608</td>\n",
       "      <td>0.1400</td>\n",
       "    </tr>\n",
       "    <tr>\n",
       "      <th>arima</th>\n",
       "      <td>ARIMA</td>\n",
       "      <td>20.0069</td>\n",
       "      <td>22.2199</td>\n",
       "      <td>0.0501</td>\n",
       "      <td>0.0507</td>\n",
       "      <td>0.8677</td>\n",
       "      <td>0.0467</td>\n",
       "    </tr>\n",
       "    <tr>\n",
       "      <th>auto_arima</th>\n",
       "      <td>Auto ARIMA</td>\n",
       "      <td>21.0297</td>\n",
       "      <td>23.4661</td>\n",
       "      <td>0.0525</td>\n",
       "      <td>0.0531</td>\n",
       "      <td>0.8509</td>\n",
       "      <td>2.9233</td>\n",
       "    </tr>\n",
       "    <tr>\n",
       "      <th>et_cds_dt</th>\n",
       "      <td>Extra Trees w/ Cond. Deseasonalize &amp; Detrending</td>\n",
       "      <td>24.4233</td>\n",
       "      <td>31.4395</td>\n",
       "      <td>0.0584</td>\n",
       "      <td>0.0601</td>\n",
       "      <td>0.7169</td>\n",
       "      <td>0.5533</td>\n",
       "    </tr>\n",
       "    <tr>\n",
       "      <th>xgboost_cds_dt</th>\n",
       "      <td>Extreme Gradient Boosting w/ Cond. Deseasonali...</td>\n",
       "      <td>24.8102</td>\n",
       "      <td>31.3995</td>\n",
       "      <td>0.0613</td>\n",
       "      <td>0.0631</td>\n",
       "      <td>0.6888</td>\n",
       "      <td>0.3033</td>\n",
       "    </tr>\n",
       "    <tr>\n",
       "      <th>knn_cds_dt</th>\n",
       "      <td>K Neighbors w/ Cond. Deseasonalize &amp; Detrending</td>\n",
       "      <td>25.8293</td>\n",
       "      <td>34.9633</td>\n",
       "      <td>0.0617</td>\n",
       "      <td>0.0641</td>\n",
       "      <td>0.626</td>\n",
       "      <td>0.4567</td>\n",
       "    </tr>\n",
       "    <tr>\n",
       "      <th>rf_cds_dt</th>\n",
       "      <td>Random Forest w/ Cond. Deseasonalize &amp; Detrending</td>\n",
       "      <td>26.8586</td>\n",
       "      <td>38.0499</td>\n",
       "      <td>0.0629</td>\n",
       "      <td>0.0654</td>\n",
       "      <td>0.6023</td>\n",
       "      <td>0.5967</td>\n",
       "    </tr>\n",
       "    <tr>\n",
       "      <th>ada_cds_dt</th>\n",
       "      <td>AdaBoost w/ Cond. Deseasonalize &amp; Detrending</td>\n",
       "      <td>27.82</td>\n",
       "      <td>37.791</td>\n",
       "      <td>0.0661</td>\n",
       "      <td>0.0686</td>\n",
       "      <td>0.6015</td>\n",
       "      <td>0.0800</td>\n",
       "    </tr>\n",
       "    <tr>\n",
       "      <th>gbr_cds_dt</th>\n",
       "      <td>Gradient Boosting w/ Cond. Deseasonalize &amp; Det...</td>\n",
       "      <td>29.1314</td>\n",
       "      <td>38.308</td>\n",
       "      <td>0.0685</td>\n",
       "      <td>0.0715</td>\n",
       "      <td>0.5855</td>\n",
       "      <td>0.0400</td>\n",
       "    </tr>\n",
       "    <tr>\n",
       "      <th>lightgbm_cds_dt</th>\n",
       "      <td>Light Gradient Boosting w/ Cond. Deseasonalize...</td>\n",
       "      <td>28.7738</td>\n",
       "      <td>36.2392</td>\n",
       "      <td>0.0698</td>\n",
       "      <td>0.0722</td>\n",
       "      <td>0.6255</td>\n",
       "      <td>0.0400</td>\n",
       "    </tr>\n",
       "    <tr>\n",
       "      <th>br_cds_dt</th>\n",
       "      <td>Bayesian Ridge w/ Cond. Deseasonalize &amp; Detren...</td>\n",
       "      <td>32.0341</td>\n",
       "      <td>39.2191</td>\n",
       "      <td>0.0799</td>\n",
       "      <td>0.0818</td>\n",
       "      <td>0.5658</td>\n",
       "      <td>0.0167</td>\n",
       "    </tr>\n",
       "    <tr>\n",
       "      <th>lasso_cds_dt</th>\n",
       "      <td>Lasso w/ Cond. Deseasonalize &amp; Detrending</td>\n",
       "      <td>32.8026</td>\n",
       "      <td>39.2084</td>\n",
       "      <td>0.0823</td>\n",
       "      <td>0.0841</td>\n",
       "      <td>0.5678</td>\n",
       "      <td>0.0167</td>\n",
       "    </tr>\n",
       "    <tr>\n",
       "      <th>en_cds_dt</th>\n",
       "      <td>Elastic Net w/ Cond. Deseasonalize &amp; Detrending</td>\n",
       "      <td>32.8556</td>\n",
       "      <td>39.2557</td>\n",
       "      <td>0.0825</td>\n",
       "      <td>0.0843</td>\n",
       "      <td>0.5669</td>\n",
       "      <td>0.0133</td>\n",
       "    </tr>\n",
       "    <tr>\n",
       "      <th>ridge_cds_dt</th>\n",
       "      <td>Ridge w/ Cond. Deseasonalize &amp; Detrending</td>\n",
       "      <td>32.9702</td>\n",
       "      <td>39.3452</td>\n",
       "      <td>0.0828</td>\n",
       "      <td>0.0846</td>\n",
       "      <td>0.5652</td>\n",
       "      <td>0.0167</td>\n",
       "    </tr>\n",
       "    <tr>\n",
       "      <th>lr_cds_dt</th>\n",
       "      <td>Linear w/ Cond. Deseasonalize &amp; Detrending</td>\n",
       "      <td>32.9708</td>\n",
       "      <td>39.3456</td>\n",
       "      <td>0.0828</td>\n",
       "      <td>0.0846</td>\n",
       "      <td>0.5652</td>\n",
       "      <td>0.0167</td>\n",
       "    </tr>\n",
       "    <tr>\n",
       "      <th>dt_cds_dt</th>\n",
       "      <td>Decision Tree w/ Cond. Deseasonalize &amp; Detrending</td>\n",
       "      <td>35.1446</td>\n",
       "      <td>45.8861</td>\n",
       "      <td>0.0826</td>\n",
       "      <td>0.0869</td>\n",
       "      <td>0.4284</td>\n",
       "      <td>0.0133</td>\n",
       "    </tr>\n",
       "    <tr>\n",
       "      <th>snaive</th>\n",
       "      <td>Seasonal Naive Forecaster</td>\n",
       "      <td>33.3611</td>\n",
       "      <td>35.9139</td>\n",
       "      <td>0.0832</td>\n",
       "      <td>0.0879</td>\n",
       "      <td>0.6072</td>\n",
       "      <td>0.0067</td>\n",
       "    </tr>\n",
       "    <tr>\n",
       "      <th>huber_cds_dt</th>\n",
       "      <td>Huber w/ Cond. Deseasonalize &amp; Detrending</td>\n",
       "      <td>35.4709</td>\n",
       "      <td>41.1489</td>\n",
       "      <td>0.091</td>\n",
       "      <td>0.0936</td>\n",
       "      <td>0.5226</td>\n",
       "      <td>0.0267</td>\n",
       "    </tr>\n",
       "    <tr>\n",
       "      <th>lar_cds_dt</th>\n",
       "      <td>Least Angular Regressor w/ Cond. Deseasonalize...</td>\n",
       "      <td>36.5285</td>\n",
       "      <td>42.4001</td>\n",
       "      <td>0.0936</td>\n",
       "      <td>0.0945</td>\n",
       "      <td>0.5058</td>\n",
       "      <td>0.0133</td>\n",
       "    </tr>\n",
       "    <tr>\n",
       "      <th>llar_cds_dt</th>\n",
       "      <td>Lasso Least Angular Regressor w/ Cond. Deseaso...</td>\n",
       "      <td>46.7239</td>\n",
       "      <td>63.1706</td>\n",
       "      <td>0.1109</td>\n",
       "      <td>0.1165</td>\n",
       "      <td>-0.0733</td>\n",
       "      <td>0.0133</td>\n",
       "    </tr>\n",
       "    <tr>\n",
       "      <th>omp_cds_dt</th>\n",
       "      <td>Orthogonal Matching Pursuit w/ Cond. Deseasona...</td>\n",
       "      <td>47.2799</td>\n",
       "      <td>64.5891</td>\n",
       "      <td>0.111</td>\n",
       "      <td>0.1177</td>\n",
       "      <td>-0.1201</td>\n",
       "      <td>0.0167</td>\n",
       "    </tr>\n",
       "    <tr>\n",
       "      <th>polytrend</th>\n",
       "      <td>Polynomial Trend Forecaster</td>\n",
       "      <td>48.6301</td>\n",
       "      <td>63.4299</td>\n",
       "      <td>0.117</td>\n",
       "      <td>0.1216</td>\n",
       "      <td>-0.0784</td>\n",
       "      <td>0.0067</td>\n",
       "    </tr>\n",
       "    <tr>\n",
       "      <th>theta</th>\n",
       "      <td>Theta Forecaster</td>\n",
       "      <td>62.7733</td>\n",
       "      <td>84.3104</td>\n",
       "      <td>0.1425</td>\n",
       "      <td>0.1607</td>\n",
       "      <td>-0.9043</td>\n",
       "      <td>0.0133</td>\n",
       "    </tr>\n",
       "    <tr>\n",
       "      <th>naive</th>\n",
       "      <td>Naive Forecaster</td>\n",
       "      <td>69.0278</td>\n",
       "      <td>91.0322</td>\n",
       "      <td>0.1569</td>\n",
       "      <td>0.1792</td>\n",
       "      <td>-1.2216</td>\n",
       "      <td>0.0067</td>\n",
       "    </tr>\n",
       "    <tr>\n",
       "      <th>par_cds_dt</th>\n",
       "      <td>Passive Aggressive w/ Cond. Deseasonalize &amp; De...</td>\n",
       "      <td>78.0396</td>\n",
       "      <td>95.4251</td>\n",
       "      <td>0.2137</td>\n",
       "      <td>0.2531</td>\n",
       "      <td>-3.0784</td>\n",
       "      <td>0.0133</td>\n",
       "    </tr>\n",
       "  </tbody>\n",
       "</table>\n",
       "</div>"
      ],
      "text/plain": [
       "                                                             Model      MAE  \\\n",
       "ets                                                            ETS  19.5889   \n",
       "exp_smooth                                   Exponential Smoothing  19.7275   \n",
       "arima                                                        ARIMA  20.0069   \n",
       "auto_arima                                              Auto ARIMA  21.0297   \n",
       "et_cds_dt          Extra Trees w/ Cond. Deseasonalize & Detrending  24.4233   \n",
       "xgboost_cds_dt   Extreme Gradient Boosting w/ Cond. Deseasonali...  24.8102   \n",
       "knn_cds_dt         K Neighbors w/ Cond. Deseasonalize & Detrending  25.8293   \n",
       "rf_cds_dt        Random Forest w/ Cond. Deseasonalize & Detrending  26.8586   \n",
       "ada_cds_dt            AdaBoost w/ Cond. Deseasonalize & Detrending    27.82   \n",
       "gbr_cds_dt       Gradient Boosting w/ Cond. Deseasonalize & Det...  29.1314   \n",
       "lightgbm_cds_dt  Light Gradient Boosting w/ Cond. Deseasonalize...  28.7738   \n",
       "br_cds_dt        Bayesian Ridge w/ Cond. Deseasonalize & Detren...  32.0341   \n",
       "lasso_cds_dt             Lasso w/ Cond. Deseasonalize & Detrending  32.8026   \n",
       "en_cds_dt          Elastic Net w/ Cond. Deseasonalize & Detrending  32.8556   \n",
       "ridge_cds_dt             Ridge w/ Cond. Deseasonalize & Detrending  32.9702   \n",
       "lr_cds_dt               Linear w/ Cond. Deseasonalize & Detrending  32.9708   \n",
       "dt_cds_dt        Decision Tree w/ Cond. Deseasonalize & Detrending  35.1446   \n",
       "snaive                                   Seasonal Naive Forecaster  33.3611   \n",
       "huber_cds_dt             Huber w/ Cond. Deseasonalize & Detrending  35.4709   \n",
       "lar_cds_dt       Least Angular Regressor w/ Cond. Deseasonalize...  36.5285   \n",
       "llar_cds_dt      Lasso Least Angular Regressor w/ Cond. Deseaso...  46.7239   \n",
       "omp_cds_dt       Orthogonal Matching Pursuit w/ Cond. Deseasona...  47.2799   \n",
       "polytrend                              Polynomial Trend Forecaster  48.6301   \n",
       "theta                                             Theta Forecaster  62.7733   \n",
       "naive                                             Naive Forecaster  69.0278   \n",
       "par_cds_dt       Passive Aggressive w/ Cond. Deseasonalize & De...  78.0396   \n",
       "\n",
       "                    RMSE    MAPE   SMAPE      R2  TT (Sec)  \n",
       "ets              22.7315  0.0498  0.0498  0.8624    0.1367  \n",
       "exp_smooth       22.7648  0.0503  0.0502  0.8608    0.1400  \n",
       "arima            22.2199  0.0501  0.0507  0.8677    0.0467  \n",
       "auto_arima       23.4661  0.0525  0.0531  0.8509    2.9233  \n",
       "et_cds_dt        31.4395  0.0584  0.0601  0.7169    0.5533  \n",
       "xgboost_cds_dt   31.3995  0.0613  0.0631  0.6888    0.3033  \n",
       "knn_cds_dt       34.9633  0.0617  0.0641   0.626    0.4567  \n",
       "rf_cds_dt        38.0499  0.0629  0.0654  0.6023    0.5967  \n",
       "ada_cds_dt        37.791  0.0661  0.0686  0.6015    0.0800  \n",
       "gbr_cds_dt        38.308  0.0685  0.0715  0.5855    0.0400  \n",
       "lightgbm_cds_dt  36.2392  0.0698  0.0722  0.6255    0.0400  \n",
       "br_cds_dt        39.2191  0.0799  0.0818  0.5658    0.0167  \n",
       "lasso_cds_dt     39.2084  0.0823  0.0841  0.5678    0.0167  \n",
       "en_cds_dt        39.2557  0.0825  0.0843  0.5669    0.0133  \n",
       "ridge_cds_dt     39.3452  0.0828  0.0846  0.5652    0.0167  \n",
       "lr_cds_dt        39.3456  0.0828  0.0846  0.5652    0.0167  \n",
       "dt_cds_dt        45.8861  0.0826  0.0869  0.4284    0.0133  \n",
       "snaive           35.9139  0.0832  0.0879  0.6072    0.0067  \n",
       "huber_cds_dt     41.1489   0.091  0.0936  0.5226    0.0267  \n",
       "lar_cds_dt       42.4001  0.0936  0.0945  0.5058    0.0133  \n",
       "llar_cds_dt      63.1706  0.1109  0.1165 -0.0733    0.0133  \n",
       "omp_cds_dt       64.5891   0.111  0.1177 -0.1201    0.0167  \n",
       "polytrend        63.4299   0.117  0.1216 -0.0784    0.0067  \n",
       "theta            84.3104  0.1425  0.1607 -0.9043    0.0133  \n",
       "naive            91.0322  0.1569  0.1792 -1.2216    0.0067  \n",
       "par_cds_dt       95.4251  0.2137  0.2531 -3.0784    0.0133  "
      ]
     },
     "metadata": {},
     "execution_count": 27
    }
   ],
   "metadata": {}
  },
  {
   "cell_type": "markdown",
   "source": [
    "* Note that some models like BATS and TBATS are disabled by default. \n",
    "* You can enable them by setting `turbo = False`"
   ],
   "metadata": {}
  },
  {
   "cell_type": "code",
   "execution_count": 28,
   "source": [
    "# _ = exp.compare_models(fold=fold, sort='smape', n_select=3, turbo=False)"
   ],
   "outputs": [],
   "metadata": {}
  },
  {
   "cell_type": "markdown",
   "source": [
    "### Tune Best Models"
   ],
   "metadata": {}
  },
  {
   "cell_type": "code",
   "execution_count": 29,
   "source": [
    "best_tuned_models = [exp.tune_model(model) for model in best_baseline_models]\r\n",
    "best_tuned_models"
   ],
   "outputs": [
    {
     "output_type": "display_data",
     "data": {
      "text/html": [
       "<style type=\"text/css\">\n",
       "#T_08128_row3_col0, #T_08128_row3_col1, #T_08128_row3_col2, #T_08128_row3_col3, #T_08128_row3_col4, #T_08128_row3_col5 {\n",
       "  background: yellow;\n",
       "}\n",
       "</style>\n",
       "<table id=\"T_08128_\">\n",
       "  <thead>\n",
       "    <tr>\n",
       "      <th class=\"blank level0\" >&nbsp;</th>\n",
       "      <th class=\"col_heading level0 col0\" >cutoff</th>\n",
       "      <th class=\"col_heading level0 col1\" >MAE</th>\n",
       "      <th class=\"col_heading level0 col2\" >RMSE</th>\n",
       "      <th class=\"col_heading level0 col3\" >MAPE</th>\n",
       "      <th class=\"col_heading level0 col4\" >SMAPE</th>\n",
       "      <th class=\"col_heading level0 col5\" >R2</th>\n",
       "    </tr>\n",
       "  </thead>\n",
       "  <tbody>\n",
       "    <tr>\n",
       "      <th id=\"T_08128_level0_row0\" class=\"row_heading level0 row0\" >0</th>\n",
       "      <td id=\"T_08128_row0_col0\" class=\"data row0 col0\" >1956-12</td>\n",
       "      <td id=\"T_08128_row0_col1\" class=\"data row0 col1\" >13.2626</td>\n",
       "      <td id=\"T_08128_row0_col2\" class=\"data row0 col2\" >16.6689</td>\n",
       "      <td id=\"T_08128_row0_col3\" class=\"data row0 col3\" >0.0331</td>\n",
       "      <td id=\"T_08128_row0_col4\" class=\"data row0 col4\" >0.0339</td>\n",
       "      <td id=\"T_08128_row0_col5\" class=\"data row0 col5\" >0.9096</td>\n",
       "    </tr>\n",
       "    <tr>\n",
       "      <th id=\"T_08128_level0_row1\" class=\"row_heading level0 row1\" >1</th>\n",
       "      <td id=\"T_08128_row1_col0\" class=\"data row1 col0\" >1957-12</td>\n",
       "      <td id=\"T_08128_row1_col1\" class=\"data row1 col1\" >19.1686</td>\n",
       "      <td id=\"T_08128_row1_col2\" class=\"data row1 col2\" >21.3384</td>\n",
       "      <td id=\"T_08128_row1_col3\" class=\"data row1 col3\" >0.0530</td>\n",
       "      <td id=\"T_08128_row1_col4\" class=\"data row1 col4\" >0.0513</td>\n",
       "      <td id=\"T_08128_row1_col5\" class=\"data row1 col5\" >0.8807</td>\n",
       "    </tr>\n",
       "    <tr>\n",
       "      <th id=\"T_08128_level0_row2\" class=\"row_heading level0 row2\" >2</th>\n",
       "      <td id=\"T_08128_row2_col0\" class=\"data row2 col0\" >1958-12</td>\n",
       "      <td id=\"T_08128_row2_col1\" class=\"data row2 col1\" >21.1925</td>\n",
       "      <td id=\"T_08128_row2_col2\" class=\"data row2 col2\" >23.4747</td>\n",
       "      <td id=\"T_08128_row2_col3\" class=\"data row2 col3\" >0.0491</td>\n",
       "      <td id=\"T_08128_row2_col4\" class=\"data row2 col4\" >0.0506</td>\n",
       "      <td id=\"T_08128_row2_col5\" class=\"data row2 col5\" >0.8767</td>\n",
       "    </tr>\n",
       "    <tr>\n",
       "      <th id=\"T_08128_level0_row3\" class=\"row_heading level0 row3\" >Mean</th>\n",
       "      <td id=\"T_08128_row3_col0\" class=\"data row3 col0\" >NaT</td>\n",
       "      <td id=\"T_08128_row3_col1\" class=\"data row3 col1\" >17.8746</td>\n",
       "      <td id=\"T_08128_row3_col2\" class=\"data row3 col2\" >20.4940</td>\n",
       "      <td id=\"T_08128_row3_col3\" class=\"data row3 col3\" >0.0451</td>\n",
       "      <td id=\"T_08128_row3_col4\" class=\"data row3 col4\" >0.0453</td>\n",
       "      <td id=\"T_08128_row3_col5\" class=\"data row3 col5\" >0.8890</td>\n",
       "    </tr>\n",
       "    <tr>\n",
       "      <th id=\"T_08128_level0_row4\" class=\"row_heading level0 row4\" >SD</th>\n",
       "      <td id=\"T_08128_row4_col0\" class=\"data row4 col0\" >NaT</td>\n",
       "      <td id=\"T_08128_row4_col1\" class=\"data row4 col1\" >3.3642</td>\n",
       "      <td id=\"T_08128_row4_col2\" class=\"data row4 col2\" >2.8419</td>\n",
       "      <td id=\"T_08128_row4_col3\" class=\"data row4 col3\" >0.0086</td>\n",
       "      <td id=\"T_08128_row4_col4\" class=\"data row4 col4\" >0.0080</td>\n",
       "      <td id=\"T_08128_row4_col5\" class=\"data row4 col5\" >0.0146</td>\n",
       "    </tr>\n",
       "  </tbody>\n",
       "</table>\n"
      ],
      "text/plain": [
       "<pandas.io.formats.style.Styler at 0x1cb07cd1f08>"
      ]
     },
     "metadata": {}
    },
    {
     "output_type": "execute_result",
     "data": {
      "text/plain": [
       "[AutoETS(additive_only=False, allow_multiplicative_trend=False, auto=False,\n",
       "         bounds=None, callback=None, damped_trend=False, dates=None, disp=False,\n",
       "         error='add', freq=None, full_output=True, ignore_inf_ic=True,\n",
       "         information_criterion='aic', initial_level=None, initial_seasonal=None,\n",
       "         initial_trend=None, initialization_method='estimated', maxiter=1000,\n",
       "         missing='none', n_jobs=None, restrict=True, return_params=False,\n",
       "         seasonal='add', sp=12, start_params=None, trend='add'),\n",
       " ExponentialSmoothing(damped_trend=False, initial_level=None,\n",
       "                      initial_seasonal=None, initial_trend=None,\n",
       "                      initialization_method='estimated', seasonal='add', sp=12,\n",
       "                      trend='add', use_boxcox=False),\n",
       " ARIMA(maxiter=50, method='lbfgs', order=(0, 0, 0), out_of_sample_size=0,\n",
       "       scoring='mse', scoring_args=None, seasonal_order=(1, 1, 0, 12),\n",
       "       start_params=None, suppress_warnings=False, trend=None,\n",
       "       with_intercept=True)]"
      ]
     },
     "metadata": {},
     "execution_count": 29
    }
   ],
   "metadata": {}
  },
  {
   "cell_type": "markdown",
   "source": [
    "### Blend Best Models"
   ],
   "metadata": {}
  },
  {
   "cell_type": "markdown",
   "source": [
    "#### Mean Blender"
   ],
   "metadata": {}
  },
  {
   "cell_type": "code",
   "execution_count": 30,
   "source": [
    "mean_blender = exp.blend_models(best_tuned_models, method='mean')"
   ],
   "outputs": [
    {
     "output_type": "display_data",
     "data": {
      "text/html": [
       "<style type=\"text/css\">\n",
       "#T_a8dad_row3_col0, #T_a8dad_row3_col1, #T_a8dad_row3_col2, #T_a8dad_row3_col3, #T_a8dad_row3_col4, #T_a8dad_row3_col5 {\n",
       "  background: yellow;\n",
       "}\n",
       "</style>\n",
       "<table id=\"T_a8dad_\">\n",
       "  <thead>\n",
       "    <tr>\n",
       "      <th class=\"blank level0\" >&nbsp;</th>\n",
       "      <th class=\"col_heading level0 col0\" >cutoff</th>\n",
       "      <th class=\"col_heading level0 col1\" >MAE</th>\n",
       "      <th class=\"col_heading level0 col2\" >RMSE</th>\n",
       "      <th class=\"col_heading level0 col3\" >MAPE</th>\n",
       "      <th class=\"col_heading level0 col4\" >SMAPE</th>\n",
       "      <th class=\"col_heading level0 col5\" >R2</th>\n",
       "    </tr>\n",
       "  </thead>\n",
       "  <tbody>\n",
       "    <tr>\n",
       "      <th id=\"T_a8dad_level0_row0\" class=\"row_heading level0 row0\" >0</th>\n",
       "      <td id=\"T_a8dad_row0_col0\" class=\"data row0 col0\" >1956-12</td>\n",
       "      <td id=\"T_a8dad_row0_col1\" class=\"data row0 col1\" >13.1354</td>\n",
       "      <td id=\"T_a8dad_row0_col2\" class=\"data row0 col2\" >17.2182</td>\n",
       "      <td id=\"T_a8dad_row0_col3\" class=\"data row0 col3\" >0.0328</td>\n",
       "      <td id=\"T_a8dad_row0_col4\" class=\"data row0 col4\" >0.0336</td>\n",
       "      <td id=\"T_a8dad_row0_col5\" class=\"data row0 col5\" >0.9035</td>\n",
       "    </tr>\n",
       "    <tr>\n",
       "      <th id=\"T_a8dad_level0_row1\" class=\"row_heading level0 row1\" >1</th>\n",
       "      <td id=\"T_a8dad_row1_col0\" class=\"data row1 col0\" >1957-12</td>\n",
       "      <td id=\"T_a8dad_row1_col1\" class=\"data row1 col1\" >22.4964</td>\n",
       "      <td id=\"T_a8dad_row1_col2\" class=\"data row1 col2\" >24.4307</td>\n",
       "      <td id=\"T_a8dad_row1_col3\" class=\"data row1 col3\" >0.0623</td>\n",
       "      <td id=\"T_a8dad_row1_col4\" class=\"data row1 col4\" >0.0601</td>\n",
       "      <td id=\"T_a8dad_row1_col5\" class=\"data row1 col5\" >0.8436</td>\n",
       "    </tr>\n",
       "    <tr>\n",
       "      <th id=\"T_a8dad_level0_row2\" class=\"row_heading level0 row2\" >2</th>\n",
       "      <td id=\"T_a8dad_row2_col0\" class=\"data row2 col0\" >1958-12</td>\n",
       "      <td id=\"T_a8dad_row2_col1\" class=\"data row2 col1\" >20.5070</td>\n",
       "      <td id=\"T_a8dad_row2_col2\" class=\"data row2 col2\" >23.6402</td>\n",
       "      <td id=\"T_a8dad_row2_col3\" class=\"data row2 col3\" >0.0470</td>\n",
       "      <td id=\"T_a8dad_row2_col4\" class=\"data row2 col4\" >0.0485</td>\n",
       "      <td id=\"T_a8dad_row2_col5\" class=\"data row2 col5\" >0.8750</td>\n",
       "    </tr>\n",
       "    <tr>\n",
       "      <th id=\"T_a8dad_level0_row3\" class=\"row_heading level0 row3\" >Mean</th>\n",
       "      <td id=\"T_a8dad_row3_col0\" class=\"data row3 col0\" >NaT</td>\n",
       "      <td id=\"T_a8dad_row3_col1\" class=\"data row3 col1\" >18.7129</td>\n",
       "      <td id=\"T_a8dad_row3_col2\" class=\"data row3 col2\" >21.7631</td>\n",
       "      <td id=\"T_a8dad_row3_col3\" class=\"data row3 col3\" >0.0474</td>\n",
       "      <td id=\"T_a8dad_row3_col4\" class=\"data row3 col4\" >0.0474</td>\n",
       "      <td id=\"T_a8dad_row3_col5\" class=\"data row3 col5\" >0.8740</td>\n",
       "    </tr>\n",
       "    <tr>\n",
       "      <th id=\"T_a8dad_level0_row4\" class=\"row_heading level0 row4\" >SD</th>\n",
       "      <td id=\"T_a8dad_row4_col0\" class=\"data row4 col0\" >NaT</td>\n",
       "      <td id=\"T_a8dad_row4_col1\" class=\"data row4 col1\" >4.0266</td>\n",
       "      <td id=\"T_a8dad_row4_col2\" class=\"data row4 col2\" >3.2298</td>\n",
       "      <td id=\"T_a8dad_row4_col3\" class=\"data row4 col3\" >0.0121</td>\n",
       "      <td id=\"T_a8dad_row4_col4\" class=\"data row4 col4\" >0.0108</td>\n",
       "      <td id=\"T_a8dad_row4_col5\" class=\"data row4 col5\" >0.0244</td>\n",
       "    </tr>\n",
       "  </tbody>\n",
       "</table>\n"
      ],
      "text/plain": [
       "<pandas.io.formats.style.Styler at 0x1cb0a394508>"
      ]
     },
     "metadata": {}
    }
   ],
   "metadata": {}
  },
  {
   "cell_type": "code",
   "execution_count": 31,
   "source": [
    "y_predict = exp.predict_model(mean_blender)\r\n",
    "# exp.plot_model(estimator=mean_blender)\r\n",
    "plot_series(y, y_train, y_predict[0], labels=['All', 'Train', 'Predictions'])\r\n",
    "round(mean_absolute_percentage_error(y_predict, y_test), 4)"
   ],
   "outputs": [
    {
     "output_type": "display_data",
     "data": {
      "text/html": [
       "<style type=\"text/css\">\n",
       "</style>\n",
       "<table id=\"T_a9035_\">\n",
       "  <thead>\n",
       "    <tr>\n",
       "      <th class=\"blank level0\" >&nbsp;</th>\n",
       "      <th class=\"col_heading level0 col0\" >Model</th>\n",
       "      <th class=\"col_heading level0 col1\" >MAE</th>\n",
       "      <th class=\"col_heading level0 col2\" >RMSE</th>\n",
       "      <th class=\"col_heading level0 col3\" >MAPE</th>\n",
       "      <th class=\"col_heading level0 col4\" >SMAPE</th>\n",
       "      <th class=\"col_heading level0 col5\" >R2</th>\n",
       "    </tr>\n",
       "  </thead>\n",
       "  <tbody>\n",
       "    <tr>\n",
       "      <th id=\"T_a9035_level0_row0\" class=\"row_heading level0 row0\" >0</th>\n",
       "      <td id=\"T_a9035_row0_col0\" class=\"data row0 col0\" >EnsembleForecaster</td>\n",
       "      <td id=\"T_a9035_row0_col1\" class=\"data row0 col1\" >15.5018</td>\n",
       "      <td id=\"T_a9035_row0_col2\" class=\"data row0 col2\" >18.7176</td>\n",
       "      <td id=\"T_a9035_row0_col3\" class=\"data row0 col3\" >0.0316</td>\n",
       "      <td id=\"T_a9035_row0_col4\" class=\"data row0 col4\" >0.0319</td>\n",
       "      <td id=\"T_a9035_row0_col5\" class=\"data row0 col5\" >0.9368</td>\n",
       "    </tr>\n",
       "  </tbody>\n",
       "</table>\n"
      ],
      "text/plain": [
       "<pandas.io.formats.style.Styler at 0x1cb0a420908>"
      ]
     },
     "metadata": {}
    },
    {
     "output_type": "execute_result",
     "data": {
      "text/plain": [
       "0.0319"
      ]
     },
     "metadata": {},
     "execution_count": 31
    }
   ],
   "metadata": {}
  },
  {
   "cell_type": "markdown",
   "source": [
    "#### Median Blender"
   ],
   "metadata": {}
  },
  {
   "cell_type": "code",
   "execution_count": 32,
   "source": [
    "median_blender = exp.blend_models(best_tuned_models, method='median')"
   ],
   "outputs": [
    {
     "output_type": "display_data",
     "data": {
      "text/html": [
       "<style type=\"text/css\">\n",
       "#T_3ffa3_row3_col0, #T_3ffa3_row3_col1, #T_3ffa3_row3_col2, #T_3ffa3_row3_col3, #T_3ffa3_row3_col4, #T_3ffa3_row3_col5 {\n",
       "  background: yellow;\n",
       "}\n",
       "</style>\n",
       "<table id=\"T_3ffa3_\">\n",
       "  <thead>\n",
       "    <tr>\n",
       "      <th class=\"blank level0\" >&nbsp;</th>\n",
       "      <th class=\"col_heading level0 col0\" >cutoff</th>\n",
       "      <th class=\"col_heading level0 col1\" >MAE</th>\n",
       "      <th class=\"col_heading level0 col2\" >RMSE</th>\n",
       "      <th class=\"col_heading level0 col3\" >MAPE</th>\n",
       "      <th class=\"col_heading level0 col4\" >SMAPE</th>\n",
       "      <th class=\"col_heading level0 col5\" >R2</th>\n",
       "    </tr>\n",
       "  </thead>\n",
       "  <tbody>\n",
       "    <tr>\n",
       "      <th id=\"T_3ffa3_level0_row0\" class=\"row_heading level0 row0\" >0</th>\n",
       "      <td id=\"T_3ffa3_row0_col0\" class=\"data row0 col0\" >1956-12</td>\n",
       "      <td id=\"T_3ffa3_row0_col1\" class=\"data row0 col1\" >13.4074</td>\n",
       "      <td id=\"T_3ffa3_row0_col2\" class=\"data row0 col2\" >17.7466</td>\n",
       "      <td id=\"T_3ffa3_row0_col3\" class=\"data row0 col3\" >0.0337</td>\n",
       "      <td id=\"T_3ffa3_row0_col4\" class=\"data row0 col4\" >0.0345</td>\n",
       "      <td id=\"T_3ffa3_row0_col5\" class=\"data row0 col5\" >0.8975</td>\n",
       "    </tr>\n",
       "    <tr>\n",
       "      <th id=\"T_3ffa3_level0_row1\" class=\"row_heading level0 row1\" >1</th>\n",
       "      <td id=\"T_3ffa3_row1_col0\" class=\"data row1 col0\" >1957-12</td>\n",
       "      <td id=\"T_3ffa3_row1_col1\" class=\"data row1 col1\" >23.7237</td>\n",
       "      <td id=\"T_3ffa3_row1_col2\" class=\"data row1 col2\" >25.8581</td>\n",
       "      <td id=\"T_3ffa3_row1_col3\" class=\"data row1 col3\" >0.0657</td>\n",
       "      <td id=\"T_3ffa3_row1_col4\" class=\"data row1 col4\" >0.0632</td>\n",
       "      <td id=\"T_3ffa3_row1_col5\" class=\"data row1 col5\" >0.8248</td>\n",
       "    </tr>\n",
       "    <tr>\n",
       "      <th id=\"T_3ffa3_level0_row2\" class=\"row_heading level0 row2\" >2</th>\n",
       "      <td id=\"T_3ffa3_row2_col0\" class=\"data row2 col0\" >1958-12</td>\n",
       "      <td id=\"T_3ffa3_row2_col1\" class=\"data row2 col1\" >21.5181</td>\n",
       "      <td id=\"T_3ffa3_row2_col2\" class=\"data row2 col2\" >24.4933</td>\n",
       "      <td id=\"T_3ffa3_row2_col3\" class=\"data row2 col3\" >0.0497</td>\n",
       "      <td id=\"T_3ffa3_row2_col4\" class=\"data row2 col4\" >0.0513</td>\n",
       "      <td id=\"T_3ffa3_row2_col5\" class=\"data row2 col5\" >0.8658</td>\n",
       "    </tr>\n",
       "    <tr>\n",
       "      <th id=\"T_3ffa3_level0_row3\" class=\"row_heading level0 row3\" >Mean</th>\n",
       "      <td id=\"T_3ffa3_row3_col0\" class=\"data row3 col0\" >NaT</td>\n",
       "      <td id=\"T_3ffa3_row3_col1\" class=\"data row3 col1\" >19.5497</td>\n",
       "      <td id=\"T_3ffa3_row3_col2\" class=\"data row3 col2\" >22.6993</td>\n",
       "      <td id=\"T_3ffa3_row3_col3\" class=\"data row3 col3\" >0.0497</td>\n",
       "      <td id=\"T_3ffa3_row3_col4\" class=\"data row3 col4\" >0.0497</td>\n",
       "      <td id=\"T_3ffa3_row3_col5\" class=\"data row3 col5\" >0.8627</td>\n",
       "    </tr>\n",
       "    <tr>\n",
       "      <th id=\"T_3ffa3_level0_row4\" class=\"row_heading level0 row4\" >SD</th>\n",
       "      <td id=\"T_3ffa3_row4_col0\" class=\"data row4 col0\" >NaT</td>\n",
       "      <td id=\"T_3ffa3_row4_col1\" class=\"data row4 col1\" >4.4356</td>\n",
       "      <td id=\"T_3ffa3_row4_col2\" class=\"data row4 col2\" >3.5461</td>\n",
       "      <td id=\"T_3ffa3_row4_col3\" class=\"data row4 col3\" >0.0130</td>\n",
       "      <td id=\"T_3ffa3_row4_col4\" class=\"data row4 col4\" >0.0118</td>\n",
       "      <td id=\"T_3ffa3_row4_col5\" class=\"data row4 col5\" >0.0297</td>\n",
       "    </tr>\n",
       "  </tbody>\n",
       "</table>\n"
      ],
      "text/plain": [
       "<pandas.io.formats.style.Styler at 0x1cb0a268488>"
      ]
     },
     "metadata": {}
    }
   ],
   "metadata": {}
  },
  {
   "cell_type": "code",
   "execution_count": 33,
   "source": [
    "y_predict = exp.predict_model(median_blender)\r\n",
    "exp.plot_model(estimator=median_blender)\r\n",
    "round(mean_absolute_percentage_error(y_predict, y_test), 4)"
   ],
   "outputs": [
    {
     "output_type": "display_data",
     "data": {
      "text/html": [
       "<style type=\"text/css\">\n",
       "</style>\n",
       "<table id=\"T_69a8b_\">\n",
       "  <thead>\n",
       "    <tr>\n",
       "      <th class=\"blank level0\" >&nbsp;</th>\n",
       "      <th class=\"col_heading level0 col0\" >Model</th>\n",
       "      <th class=\"col_heading level0 col1\" >MAE</th>\n",
       "      <th class=\"col_heading level0 col2\" >RMSE</th>\n",
       "      <th class=\"col_heading level0 col3\" >MAPE</th>\n",
       "      <th class=\"col_heading level0 col4\" >SMAPE</th>\n",
       "      <th class=\"col_heading level0 col5\" >R2</th>\n",
       "    </tr>\n",
       "  </thead>\n",
       "  <tbody>\n",
       "    <tr>\n",
       "      <th id=\"T_69a8b_level0_row0\" class=\"row_heading level0 row0\" >0</th>\n",
       "      <td id=\"T_69a8b_row0_col0\" class=\"data row0 col0\" >EnsembleForecaster</td>\n",
       "      <td id=\"T_69a8b_row0_col1\" class=\"data row0 col1\" >12.9901</td>\n",
       "      <td id=\"T_69a8b_row0_col2\" class=\"data row0 col2\" >16.8566</td>\n",
       "      <td id=\"T_69a8b_row0_col3\" class=\"data row0 col3\" >0.0271</td>\n",
       "      <td id=\"T_69a8b_row0_col4\" class=\"data row0 col4\" >0.0270</td>\n",
       "      <td id=\"T_69a8b_row0_col5\" class=\"data row0 col5\" >0.9487</td>\n",
       "    </tr>\n",
       "  </tbody>\n",
       "</table>\n"
      ],
      "text/plain": [
       "<pandas.io.formats.style.Styler at 0x1cb0dc4bb88>"
      ]
     },
     "metadata": {}
    },
    {
     "output_type": "display_data",
     "data": {
      "application/vnd.plotly.v1+json": {
       "config": {
        "plotlyServerURL": "https://plot.ly"
       },
       "data": [
        {
         "line": {
          "color": "#1f77b4"
         },
         "marker": {
          "size": 5
         },
         "mode": "lines+markers",
         "name": "Forecast | EnsembleForecaster",
         "showlegend": true,
         "type": "scatter",
         "x": [
          "1960-01-01T00:00:00",
          "1960-02-01T00:00:00",
          "1960-03-01T00:00:00",
          "1960-04-01T00:00:00",
          "1960-05-01T00:00:00",
          "1960-06-01T00:00:00",
          "1960-07-01T00:00:00",
          "1960-08-01T00:00:00",
          "1960-09-01T00:00:00",
          "1960-10-01T00:00:00",
          "1960-11-01T00:00:00",
          "1960-12-01T00:00:00"
         ],
         "y": [
          415.4520342617678,
          397.08630092018836,
          457.4677974393772,
          445.3666100925969,
          466.1850340086683,
          520.7294971094267,
          592.4205707929781,
          598.8390800109214,
          498.8239255623321,
          442.3780857113843,
          396.5099166385198,
          428.9878876424063
         ]
        },
        {
         "marker": {
          "color": "#3f3f3f",
          "size": 5
         },
         "mode": "lines+markers",
         "name": "Original",
         "showlegend": true,
         "type": "scatter",
         "x": [
          "1949-01-01T00:00:00",
          "1949-02-01T00:00:00",
          "1949-03-01T00:00:00",
          "1949-04-01T00:00:00",
          "1949-05-01T00:00:00",
          "1949-06-01T00:00:00",
          "1949-07-01T00:00:00",
          "1949-08-01T00:00:00",
          "1949-09-01T00:00:00",
          "1949-10-01T00:00:00",
          "1949-11-01T00:00:00",
          "1949-12-01T00:00:00",
          "1950-01-01T00:00:00",
          "1950-02-01T00:00:00",
          "1950-03-01T00:00:00",
          "1950-04-01T00:00:00",
          "1950-05-01T00:00:00",
          "1950-06-01T00:00:00",
          "1950-07-01T00:00:00",
          "1950-08-01T00:00:00",
          "1950-09-01T00:00:00",
          "1950-10-01T00:00:00",
          "1950-11-01T00:00:00",
          "1950-12-01T00:00:00",
          "1951-01-01T00:00:00",
          "1951-02-01T00:00:00",
          "1951-03-01T00:00:00",
          "1951-04-01T00:00:00",
          "1951-05-01T00:00:00",
          "1951-06-01T00:00:00",
          "1951-07-01T00:00:00",
          "1951-08-01T00:00:00",
          "1951-09-01T00:00:00",
          "1951-10-01T00:00:00",
          "1951-11-01T00:00:00",
          "1951-12-01T00:00:00",
          "1952-01-01T00:00:00",
          "1952-02-01T00:00:00",
          "1952-03-01T00:00:00",
          "1952-04-01T00:00:00",
          "1952-05-01T00:00:00",
          "1952-06-01T00:00:00",
          "1952-07-01T00:00:00",
          "1952-08-01T00:00:00",
          "1952-09-01T00:00:00",
          "1952-10-01T00:00:00",
          "1952-11-01T00:00:00",
          "1952-12-01T00:00:00",
          "1953-01-01T00:00:00",
          "1953-02-01T00:00:00",
          "1953-03-01T00:00:00",
          "1953-04-01T00:00:00",
          "1953-05-01T00:00:00",
          "1953-06-01T00:00:00",
          "1953-07-01T00:00:00",
          "1953-08-01T00:00:00",
          "1953-09-01T00:00:00",
          "1953-10-01T00:00:00",
          "1953-11-01T00:00:00",
          "1953-12-01T00:00:00",
          "1954-01-01T00:00:00",
          "1954-02-01T00:00:00",
          "1954-03-01T00:00:00",
          "1954-04-01T00:00:00",
          "1954-05-01T00:00:00",
          "1954-06-01T00:00:00",
          "1954-07-01T00:00:00",
          "1954-08-01T00:00:00",
          "1954-09-01T00:00:00",
          "1954-10-01T00:00:00",
          "1954-11-01T00:00:00",
          "1954-12-01T00:00:00",
          "1955-01-01T00:00:00",
          "1955-02-01T00:00:00",
          "1955-03-01T00:00:00",
          "1955-04-01T00:00:00",
          "1955-05-01T00:00:00",
          "1955-06-01T00:00:00",
          "1955-07-01T00:00:00",
          "1955-08-01T00:00:00",
          "1955-09-01T00:00:00",
          "1955-10-01T00:00:00",
          "1955-11-01T00:00:00",
          "1955-12-01T00:00:00",
          "1956-01-01T00:00:00",
          "1956-02-01T00:00:00",
          "1956-03-01T00:00:00",
          "1956-04-01T00:00:00",
          "1956-05-01T00:00:00",
          "1956-06-01T00:00:00",
          "1956-07-01T00:00:00",
          "1956-08-01T00:00:00",
          "1956-09-01T00:00:00",
          "1956-10-01T00:00:00",
          "1956-11-01T00:00:00",
          "1956-12-01T00:00:00",
          "1957-01-01T00:00:00",
          "1957-02-01T00:00:00",
          "1957-03-01T00:00:00",
          "1957-04-01T00:00:00",
          "1957-05-01T00:00:00",
          "1957-06-01T00:00:00",
          "1957-07-01T00:00:00",
          "1957-08-01T00:00:00",
          "1957-09-01T00:00:00",
          "1957-10-01T00:00:00",
          "1957-11-01T00:00:00",
          "1957-12-01T00:00:00",
          "1958-01-01T00:00:00",
          "1958-02-01T00:00:00",
          "1958-03-01T00:00:00",
          "1958-04-01T00:00:00",
          "1958-05-01T00:00:00",
          "1958-06-01T00:00:00",
          "1958-07-01T00:00:00",
          "1958-08-01T00:00:00",
          "1958-09-01T00:00:00",
          "1958-10-01T00:00:00",
          "1958-11-01T00:00:00",
          "1958-12-01T00:00:00",
          "1959-01-01T00:00:00",
          "1959-02-01T00:00:00",
          "1959-03-01T00:00:00",
          "1959-04-01T00:00:00",
          "1959-05-01T00:00:00",
          "1959-06-01T00:00:00",
          "1959-07-01T00:00:00",
          "1959-08-01T00:00:00",
          "1959-09-01T00:00:00",
          "1959-10-01T00:00:00",
          "1959-11-01T00:00:00",
          "1959-12-01T00:00:00",
          "1960-01-01T00:00:00",
          "1960-02-01T00:00:00",
          "1960-03-01T00:00:00",
          "1960-04-01T00:00:00",
          "1960-05-01T00:00:00",
          "1960-06-01T00:00:00",
          "1960-07-01T00:00:00",
          "1960-08-01T00:00:00",
          "1960-09-01T00:00:00",
          "1960-10-01T00:00:00",
          "1960-11-01T00:00:00",
          "1960-12-01T00:00:00"
         ],
         "y": [
          112,
          118,
          132,
          129,
          121,
          135,
          148,
          148,
          136,
          119,
          104,
          118,
          115,
          126,
          141,
          135,
          125,
          149,
          170,
          170,
          158,
          133,
          114,
          140,
          145,
          150,
          178,
          163,
          172,
          178,
          199,
          199,
          184,
          162,
          146,
          166,
          171,
          180,
          193,
          181,
          183,
          218,
          230,
          242,
          209,
          191,
          172,
          194,
          196,
          196,
          236,
          235,
          229,
          243,
          264,
          272,
          237,
          211,
          180,
          201,
          204,
          188,
          235,
          227,
          234,
          264,
          302,
          293,
          259,
          229,
          203,
          229,
          242,
          233,
          267,
          269,
          270,
          315,
          364,
          347,
          312,
          274,
          237,
          278,
          284,
          277,
          317,
          313,
          318,
          374,
          413,
          405,
          355,
          306,
          271,
          306,
          315,
          301,
          356,
          348,
          355,
          422,
          465,
          467,
          404,
          347,
          305,
          336,
          340,
          318,
          362,
          348,
          363,
          435,
          491,
          505,
          404,
          359,
          310,
          337,
          360,
          342,
          406,
          396,
          420,
          472,
          548,
          559,
          463,
          407,
          362,
          405,
          417,
          391,
          419,
          461,
          472,
          535,
          622,
          606,
          508,
          461,
          390,
          432
         ]
        }
       ],
       "layout": {
        "showlegend": true,
        "template": {
         "data": {
          "bar": [
           {
            "error_x": {
             "color": "rgb(36,36,36)"
            },
            "error_y": {
             "color": "rgb(36,36,36)"
            },
            "marker": {
             "line": {
              "color": "white",
              "width": 0.5
             },
             "pattern": {
              "fillmode": "overlay",
              "size": 10,
              "solidity": 0.2
             }
            },
            "type": "bar"
           }
          ],
          "barpolar": [
           {
            "marker": {
             "line": {
              "color": "white",
              "width": 0.5
             },
             "pattern": {
              "fillmode": "overlay",
              "size": 10,
              "solidity": 0.2
             }
            },
            "type": "barpolar"
           }
          ],
          "carpet": [
           {
            "aaxis": {
             "endlinecolor": "rgb(36,36,36)",
             "gridcolor": "white",
             "linecolor": "white",
             "minorgridcolor": "white",
             "startlinecolor": "rgb(36,36,36)"
            },
            "baxis": {
             "endlinecolor": "rgb(36,36,36)",
             "gridcolor": "white",
             "linecolor": "white",
             "minorgridcolor": "white",
             "startlinecolor": "rgb(36,36,36)"
            },
            "type": "carpet"
           }
          ],
          "choropleth": [
           {
            "colorbar": {
             "outlinewidth": 1,
             "tickcolor": "rgb(36,36,36)",
             "ticks": "outside"
            },
            "type": "choropleth"
           }
          ],
          "contour": [
           {
            "colorbar": {
             "outlinewidth": 1,
             "tickcolor": "rgb(36,36,36)",
             "ticks": "outside"
            },
            "colorscale": [
             [
              0,
              "#440154"
             ],
             [
              0.1111111111111111,
              "#482878"
             ],
             [
              0.2222222222222222,
              "#3e4989"
             ],
             [
              0.3333333333333333,
              "#31688e"
             ],
             [
              0.4444444444444444,
              "#26828e"
             ],
             [
              0.5555555555555556,
              "#1f9e89"
             ],
             [
              0.6666666666666666,
              "#35b779"
             ],
             [
              0.7777777777777778,
              "#6ece58"
             ],
             [
              0.8888888888888888,
              "#b5de2b"
             ],
             [
              1,
              "#fde725"
             ]
            ],
            "type": "contour"
           }
          ],
          "contourcarpet": [
           {
            "colorbar": {
             "outlinewidth": 1,
             "tickcolor": "rgb(36,36,36)",
             "ticks": "outside"
            },
            "type": "contourcarpet"
           }
          ],
          "heatmap": [
           {
            "colorbar": {
             "outlinewidth": 1,
             "tickcolor": "rgb(36,36,36)",
             "ticks": "outside"
            },
            "colorscale": [
             [
              0,
              "#440154"
             ],
             [
              0.1111111111111111,
              "#482878"
             ],
             [
              0.2222222222222222,
              "#3e4989"
             ],
             [
              0.3333333333333333,
              "#31688e"
             ],
             [
              0.4444444444444444,
              "#26828e"
             ],
             [
              0.5555555555555556,
              "#1f9e89"
             ],
             [
              0.6666666666666666,
              "#35b779"
             ],
             [
              0.7777777777777778,
              "#6ece58"
             ],
             [
              0.8888888888888888,
              "#b5de2b"
             ],
             [
              1,
              "#fde725"
             ]
            ],
            "type": "heatmap"
           }
          ],
          "heatmapgl": [
           {
            "colorbar": {
             "outlinewidth": 1,
             "tickcolor": "rgb(36,36,36)",
             "ticks": "outside"
            },
            "colorscale": [
             [
              0,
              "#440154"
             ],
             [
              0.1111111111111111,
              "#482878"
             ],
             [
              0.2222222222222222,
              "#3e4989"
             ],
             [
              0.3333333333333333,
              "#31688e"
             ],
             [
              0.4444444444444444,
              "#26828e"
             ],
             [
              0.5555555555555556,
              "#1f9e89"
             ],
             [
              0.6666666666666666,
              "#35b779"
             ],
             [
              0.7777777777777778,
              "#6ece58"
             ],
             [
              0.8888888888888888,
              "#b5de2b"
             ],
             [
              1,
              "#fde725"
             ]
            ],
            "type": "heatmapgl"
           }
          ],
          "histogram": [
           {
            "marker": {
             "line": {
              "color": "white",
              "width": 0.6
             }
            },
            "type": "histogram"
           }
          ],
          "histogram2d": [
           {
            "colorbar": {
             "outlinewidth": 1,
             "tickcolor": "rgb(36,36,36)",
             "ticks": "outside"
            },
            "colorscale": [
             [
              0,
              "#440154"
             ],
             [
              0.1111111111111111,
              "#482878"
             ],
             [
              0.2222222222222222,
              "#3e4989"
             ],
             [
              0.3333333333333333,
              "#31688e"
             ],
             [
              0.4444444444444444,
              "#26828e"
             ],
             [
              0.5555555555555556,
              "#1f9e89"
             ],
             [
              0.6666666666666666,
              "#35b779"
             ],
             [
              0.7777777777777778,
              "#6ece58"
             ],
             [
              0.8888888888888888,
              "#b5de2b"
             ],
             [
              1,
              "#fde725"
             ]
            ],
            "type": "histogram2d"
           }
          ],
          "histogram2dcontour": [
           {
            "colorbar": {
             "outlinewidth": 1,
             "tickcolor": "rgb(36,36,36)",
             "ticks": "outside"
            },
            "colorscale": [
             [
              0,
              "#440154"
             ],
             [
              0.1111111111111111,
              "#482878"
             ],
             [
              0.2222222222222222,
              "#3e4989"
             ],
             [
              0.3333333333333333,
              "#31688e"
             ],
             [
              0.4444444444444444,
              "#26828e"
             ],
             [
              0.5555555555555556,
              "#1f9e89"
             ],
             [
              0.6666666666666666,
              "#35b779"
             ],
             [
              0.7777777777777778,
              "#6ece58"
             ],
             [
              0.8888888888888888,
              "#b5de2b"
             ],
             [
              1,
              "#fde725"
             ]
            ],
            "type": "histogram2dcontour"
           }
          ],
          "mesh3d": [
           {
            "colorbar": {
             "outlinewidth": 1,
             "tickcolor": "rgb(36,36,36)",
             "ticks": "outside"
            },
            "type": "mesh3d"
           }
          ],
          "parcoords": [
           {
            "line": {
             "colorbar": {
              "outlinewidth": 1,
              "tickcolor": "rgb(36,36,36)",
              "ticks": "outside"
             }
            },
            "type": "parcoords"
           }
          ],
          "pie": [
           {
            "automargin": true,
            "type": "pie"
           }
          ],
          "scatter": [
           {
            "marker": {
             "colorbar": {
              "outlinewidth": 1,
              "tickcolor": "rgb(36,36,36)",
              "ticks": "outside"
             }
            },
            "type": "scatter"
           }
          ],
          "scatter3d": [
           {
            "line": {
             "colorbar": {
              "outlinewidth": 1,
              "tickcolor": "rgb(36,36,36)",
              "ticks": "outside"
             }
            },
            "marker": {
             "colorbar": {
              "outlinewidth": 1,
              "tickcolor": "rgb(36,36,36)",
              "ticks": "outside"
             }
            },
            "type": "scatter3d"
           }
          ],
          "scattercarpet": [
           {
            "marker": {
             "colorbar": {
              "outlinewidth": 1,
              "tickcolor": "rgb(36,36,36)",
              "ticks": "outside"
             }
            },
            "type": "scattercarpet"
           }
          ],
          "scattergeo": [
           {
            "marker": {
             "colorbar": {
              "outlinewidth": 1,
              "tickcolor": "rgb(36,36,36)",
              "ticks": "outside"
             }
            },
            "type": "scattergeo"
           }
          ],
          "scattergl": [
           {
            "marker": {
             "colorbar": {
              "outlinewidth": 1,
              "tickcolor": "rgb(36,36,36)",
              "ticks": "outside"
             }
            },
            "type": "scattergl"
           }
          ],
          "scattermapbox": [
           {
            "marker": {
             "colorbar": {
              "outlinewidth": 1,
              "tickcolor": "rgb(36,36,36)",
              "ticks": "outside"
             }
            },
            "type": "scattermapbox"
           }
          ],
          "scatterpolar": [
           {
            "marker": {
             "colorbar": {
              "outlinewidth": 1,
              "tickcolor": "rgb(36,36,36)",
              "ticks": "outside"
             }
            },
            "type": "scatterpolar"
           }
          ],
          "scatterpolargl": [
           {
            "marker": {
             "colorbar": {
              "outlinewidth": 1,
              "tickcolor": "rgb(36,36,36)",
              "ticks": "outside"
             }
            },
            "type": "scatterpolargl"
           }
          ],
          "scatterternary": [
           {
            "marker": {
             "colorbar": {
              "outlinewidth": 1,
              "tickcolor": "rgb(36,36,36)",
              "ticks": "outside"
             }
            },
            "type": "scatterternary"
           }
          ],
          "surface": [
           {
            "colorbar": {
             "outlinewidth": 1,
             "tickcolor": "rgb(36,36,36)",
             "ticks": "outside"
            },
            "colorscale": [
             [
              0,
              "#440154"
             ],
             [
              0.1111111111111111,
              "#482878"
             ],
             [
              0.2222222222222222,
              "#3e4989"
             ],
             [
              0.3333333333333333,
              "#31688e"
             ],
             [
              0.4444444444444444,
              "#26828e"
             ],
             [
              0.5555555555555556,
              "#1f9e89"
             ],
             [
              0.6666666666666666,
              "#35b779"
             ],
             [
              0.7777777777777778,
              "#6ece58"
             ],
             [
              0.8888888888888888,
              "#b5de2b"
             ],
             [
              1,
              "#fde725"
             ]
            ],
            "type": "surface"
           }
          ],
          "table": [
           {
            "cells": {
             "fill": {
              "color": "rgb(237,237,237)"
             },
             "line": {
              "color": "white"
             }
            },
            "header": {
             "fill": {
              "color": "rgb(217,217,217)"
             },
             "line": {
              "color": "white"
             }
            },
            "type": "table"
           }
          ]
         },
         "layout": {
          "annotationdefaults": {
           "arrowhead": 0,
           "arrowwidth": 1
          },
          "autotypenumbers": "strict",
          "coloraxis": {
           "colorbar": {
            "outlinewidth": 1,
            "tickcolor": "rgb(36,36,36)",
            "ticks": "outside"
           }
          },
          "colorscale": {
           "diverging": [
            [
             0,
             "rgb(103,0,31)"
            ],
            [
             0.1,
             "rgb(178,24,43)"
            ],
            [
             0.2,
             "rgb(214,96,77)"
            ],
            [
             0.3,
             "rgb(244,165,130)"
            ],
            [
             0.4,
             "rgb(253,219,199)"
            ],
            [
             0.5,
             "rgb(247,247,247)"
            ],
            [
             0.6,
             "rgb(209,229,240)"
            ],
            [
             0.7,
             "rgb(146,197,222)"
            ],
            [
             0.8,
             "rgb(67,147,195)"
            ],
            [
             0.9,
             "rgb(33,102,172)"
            ],
            [
             1,
             "rgb(5,48,97)"
            ]
           ],
           "sequential": [
            [
             0,
             "#440154"
            ],
            [
             0.1111111111111111,
             "#482878"
            ],
            [
             0.2222222222222222,
             "#3e4989"
            ],
            [
             0.3333333333333333,
             "#31688e"
            ],
            [
             0.4444444444444444,
             "#26828e"
            ],
            [
             0.5555555555555556,
             "#1f9e89"
            ],
            [
             0.6666666666666666,
             "#35b779"
            ],
            [
             0.7777777777777778,
             "#6ece58"
            ],
            [
             0.8888888888888888,
             "#b5de2b"
            ],
            [
             1,
             "#fde725"
            ]
           ],
           "sequentialminus": [
            [
             0,
             "#440154"
            ],
            [
             0.1111111111111111,
             "#482878"
            ],
            [
             0.2222222222222222,
             "#3e4989"
            ],
            [
             0.3333333333333333,
             "#31688e"
            ],
            [
             0.4444444444444444,
             "#26828e"
            ],
            [
             0.5555555555555556,
             "#1f9e89"
            ],
            [
             0.6666666666666666,
             "#35b779"
            ],
            [
             0.7777777777777778,
             "#6ece58"
            ],
            [
             0.8888888888888888,
             "#b5de2b"
            ],
            [
             1,
             "#fde725"
            ]
           ]
          },
          "colorway": [
           "#1F77B4",
           "#FF7F0E",
           "#2CA02C",
           "#D62728",
           "#9467BD",
           "#8C564B",
           "#E377C2",
           "#7F7F7F",
           "#BCBD22",
           "#17BECF"
          ],
          "font": {
           "color": "rgb(36,36,36)"
          },
          "geo": {
           "bgcolor": "white",
           "lakecolor": "white",
           "landcolor": "white",
           "showlakes": true,
           "showland": true,
           "subunitcolor": "white"
          },
          "hoverlabel": {
           "align": "left"
          },
          "hovermode": "closest",
          "mapbox": {
           "style": "light"
          },
          "paper_bgcolor": "white",
          "plot_bgcolor": "white",
          "polar": {
           "angularaxis": {
            "gridcolor": "rgb(232,232,232)",
            "linecolor": "rgb(36,36,36)",
            "showgrid": false,
            "showline": true,
            "ticks": "outside"
           },
           "bgcolor": "white",
           "radialaxis": {
            "gridcolor": "rgb(232,232,232)",
            "linecolor": "rgb(36,36,36)",
            "showgrid": false,
            "showline": true,
            "ticks": "outside"
           }
          },
          "scene": {
           "xaxis": {
            "backgroundcolor": "white",
            "gridcolor": "rgb(232,232,232)",
            "gridwidth": 2,
            "linecolor": "rgb(36,36,36)",
            "showbackground": true,
            "showgrid": false,
            "showline": true,
            "ticks": "outside",
            "zeroline": false,
            "zerolinecolor": "rgb(36,36,36)"
           },
           "yaxis": {
            "backgroundcolor": "white",
            "gridcolor": "rgb(232,232,232)",
            "gridwidth": 2,
            "linecolor": "rgb(36,36,36)",
            "showbackground": true,
            "showgrid": false,
            "showline": true,
            "ticks": "outside",
            "zeroline": false,
            "zerolinecolor": "rgb(36,36,36)"
           },
           "zaxis": {
            "backgroundcolor": "white",
            "gridcolor": "rgb(232,232,232)",
            "gridwidth": 2,
            "linecolor": "rgb(36,36,36)",
            "showbackground": true,
            "showgrid": false,
            "showline": true,
            "ticks": "outside",
            "zeroline": false,
            "zerolinecolor": "rgb(36,36,36)"
           }
          },
          "shapedefaults": {
           "fillcolor": "black",
           "line": {
            "width": 0
           },
           "opacity": 0.3
          },
          "ternary": {
           "aaxis": {
            "gridcolor": "rgb(232,232,232)",
            "linecolor": "rgb(36,36,36)",
            "showgrid": false,
            "showline": true,
            "ticks": "outside"
           },
           "baxis": {
            "gridcolor": "rgb(232,232,232)",
            "linecolor": "rgb(36,36,36)",
            "showgrid": false,
            "showline": true,
            "ticks": "outside"
           },
           "bgcolor": "white",
           "caxis": {
            "gridcolor": "rgb(232,232,232)",
            "linecolor": "rgb(36,36,36)",
            "showgrid": false,
            "showline": true,
            "ticks": "outside"
           }
          },
          "title": {
           "x": 0.05
          },
          "xaxis": {
           "automargin": true,
           "gridcolor": "rgb(232,232,232)",
           "linecolor": "rgb(36,36,36)",
           "showgrid": false,
           "showline": true,
           "ticks": "outside",
           "title": {
            "standoff": 15
           },
           "zeroline": false,
           "zerolinecolor": "rgb(36,36,36)"
          },
          "yaxis": {
           "automargin": true,
           "gridcolor": "rgb(232,232,232)",
           "linecolor": "rgb(36,36,36)",
           "showgrid": false,
           "showline": true,
           "ticks": "outside",
           "title": {
            "standoff": 15
           },
           "zeroline": false,
           "zerolinecolor": "rgb(36,36,36)"
          }
         }
        },
        "title": {
         "text": "Forecast(s)"
        },
        "xaxis": {
         "title": {
          "text": "Time"
         }
        },
        "yaxis": {
         "title": {
          "text": "Values"
         }
        }
       }
      }
     },
     "metadata": {}
    },
    {
     "output_type": "execute_result",
     "data": {
      "text/plain": [
       "0.027"
      ]
     },
     "metadata": {},
     "execution_count": 33
    }
   ],
   "metadata": {}
  },
  {
   "cell_type": "markdown",
   "source": [
    "#### Voting Blender"
   ],
   "metadata": {}
  },
  {
   "cell_type": "code",
   "execution_count": 34,
   "source": [
    "top_model_metrics = compare_metrics.iloc[0:3]['SMAPE']\r\n",
    "display(top_model_metrics)\r\n",
    "\r\n",
    "top_model_weights = 1 - top_model_metrics/top_model_metrics.sum()\r\n",
    "display(top_model_weights)"
   ],
   "outputs": [
    {
     "output_type": "display_data",
     "data": {
      "text/plain": [
       "ets           0.0498\n",
       "exp_smooth    0.0502\n",
       "arima         0.0507\n",
       "Name: SMAPE, dtype: object"
      ]
     },
     "metadata": {}
    },
    {
     "output_type": "display_data",
     "data": {
      "text/plain": [
       "ets           0.669542\n",
       "exp_smooth    0.666888\n",
       "arima          0.66357\n",
       "Name: SMAPE, dtype: object"
      ]
     },
     "metadata": {}
    }
   ],
   "metadata": {}
  },
  {
   "cell_type": "code",
   "execution_count": 35,
   "source": [
    "voting_blender = exp.blend_models(best_tuned_models, method='voting', weights=top_model_weights.values)"
   ],
   "outputs": [
    {
     "output_type": "display_data",
     "data": {
      "text/html": [
       "<style type=\"text/css\">\n",
       "#T_e55d2_row3_col0, #T_e55d2_row3_col1, #T_e55d2_row3_col2, #T_e55d2_row3_col3, #T_e55d2_row3_col4, #T_e55d2_row3_col5 {\n",
       "  background: yellow;\n",
       "}\n",
       "</style>\n",
       "<table id=\"T_e55d2_\">\n",
       "  <thead>\n",
       "    <tr>\n",
       "      <th class=\"blank level0\" >&nbsp;</th>\n",
       "      <th class=\"col_heading level0 col0\" >cutoff</th>\n",
       "      <th class=\"col_heading level0 col1\" >MAE</th>\n",
       "      <th class=\"col_heading level0 col2\" >RMSE</th>\n",
       "      <th class=\"col_heading level0 col3\" >MAPE</th>\n",
       "      <th class=\"col_heading level0 col4\" >SMAPE</th>\n",
       "      <th class=\"col_heading level0 col5\" >R2</th>\n",
       "    </tr>\n",
       "  </thead>\n",
       "  <tbody>\n",
       "    <tr>\n",
       "      <th id=\"T_e55d2_level0_row0\" class=\"row_heading level0 row0\" >0</th>\n",
       "      <td id=\"T_e55d2_row0_col0\" class=\"data row0 col0\" >1956-12</td>\n",
       "      <td id=\"T_e55d2_row0_col1\" class=\"data row0 col1\" >13.1365</td>\n",
       "      <td id=\"T_e55d2_row0_col2\" class=\"data row0 col2\" >17.2203</td>\n",
       "      <td id=\"T_e55d2_row0_col3\" class=\"data row0 col3\" >0.0328</td>\n",
       "      <td id=\"T_e55d2_row0_col4\" class=\"data row0 col4\" >0.0336</td>\n",
       "      <td id=\"T_e55d2_row0_col5\" class=\"data row0 col5\" >0.9035</td>\n",
       "    </tr>\n",
       "    <tr>\n",
       "      <th id=\"T_e55d2_level0_row1\" class=\"row_heading level0 row1\" >1</th>\n",
       "      <td id=\"T_e55d2_row1_col0\" class=\"data row1 col0\" >1957-12</td>\n",
       "      <td id=\"T_e55d2_row1_col1\" class=\"data row1 col1\" >22.5035</td>\n",
       "      <td id=\"T_e55d2_row1_col2\" class=\"data row1 col2\" >24.4384</td>\n",
       "      <td id=\"T_e55d2_row1_col3\" class=\"data row1 col3\" >0.0624</td>\n",
       "      <td id=\"T_e55d2_row1_col4\" class=\"data row1 col4\" >0.0601</td>\n",
       "      <td id=\"T_e55d2_row1_col5\" class=\"data row1 col5\" >0.8435</td>\n",
       "    </tr>\n",
       "    <tr>\n",
       "      <th id=\"T_e55d2_level0_row2\" class=\"row_heading level0 row2\" >2</th>\n",
       "      <td id=\"T_e55d2_row2_col0\" class=\"data row2 col0\" >1958-12</td>\n",
       "      <td id=\"T_e55d2_row2_col1\" class=\"data row2 col1\" >20.5107</td>\n",
       "      <td id=\"T_e55d2_row2_col2\" class=\"data row2 col2\" >23.6423</td>\n",
       "      <td id=\"T_e55d2_row2_col3\" class=\"data row2 col3\" >0.0470</td>\n",
       "      <td id=\"T_e55d2_row2_col4\" class=\"data row2 col4\" >0.0485</td>\n",
       "      <td id=\"T_e55d2_row2_col5\" class=\"data row2 col5\" >0.8750</td>\n",
       "    </tr>\n",
       "    <tr>\n",
       "      <th id=\"T_e55d2_level0_row3\" class=\"row_heading level0 row3\" >Mean</th>\n",
       "      <td id=\"T_e55d2_row3_col0\" class=\"data row3 col0\" >NaT</td>\n",
       "      <td id=\"T_e55d2_row3_col1\" class=\"data row3 col1\" >18.7169</td>\n",
       "      <td id=\"T_e55d2_row3_col2\" class=\"data row3 col2\" >21.7670</td>\n",
       "      <td id=\"T_e55d2_row3_col3\" class=\"data row3 col3\" >0.0474</td>\n",
       "      <td id=\"T_e55d2_row3_col4\" class=\"data row3 col4\" >0.0474</td>\n",
       "      <td id=\"T_e55d2_row3_col5\" class=\"data row3 col5\" >0.8740</td>\n",
       "    </tr>\n",
       "    <tr>\n",
       "      <th id=\"T_e55d2_level0_row4\" class=\"row_heading level0 row4\" >SD</th>\n",
       "      <td id=\"T_e55d2_row4_col0\" class=\"data row4 col0\" >NaT</td>\n",
       "      <td id=\"T_e55d2_row4_col1\" class=\"data row4 col1\" >4.0289</td>\n",
       "      <td id=\"T_e55d2_row4_col2\" class=\"data row4 col2\" >3.2314</td>\n",
       "      <td id=\"T_e55d2_row4_col3\" class=\"data row4 col3\" >0.0121</td>\n",
       "      <td id=\"T_e55d2_row4_col4\" class=\"data row4 col4\" >0.0108</td>\n",
       "      <td id=\"T_e55d2_row4_col5\" class=\"data row4 col5\" >0.0245</td>\n",
       "    </tr>\n",
       "  </tbody>\n",
       "</table>\n"
      ],
      "text/plain": [
       "<pandas.io.formats.style.Styler at 0x1cb0da34448>"
      ]
     },
     "metadata": {}
    }
   ],
   "metadata": {}
  },
  {
   "cell_type": "code",
   "execution_count": 36,
   "source": [
    "y_predict = exp.predict_model(voting_blender)\r\n",
    "# exp.plot_model(estimator=voting_blender)\r\n",
    "plot_series(y, y_train, y_predict[0], labels=['All', 'Train', 'Predictions'])\r\n",
    "round(mean_absolute_percentage_error(y_predict, y_test), 4)"
   ],
   "outputs": [
    {
     "output_type": "display_data",
     "data": {
      "text/html": [
       "<style type=\"text/css\">\n",
       "</style>\n",
       "<table id=\"T_32d5a_\">\n",
       "  <thead>\n",
       "    <tr>\n",
       "      <th class=\"blank level0\" >&nbsp;</th>\n",
       "      <th class=\"col_heading level0 col0\" >Model</th>\n",
       "      <th class=\"col_heading level0 col1\" >MAE</th>\n",
       "      <th class=\"col_heading level0 col2\" >RMSE</th>\n",
       "      <th class=\"col_heading level0 col3\" >MAPE</th>\n",
       "      <th class=\"col_heading level0 col4\" >SMAPE</th>\n",
       "      <th class=\"col_heading level0 col5\" >R2</th>\n",
       "    </tr>\n",
       "  </thead>\n",
       "  <tbody>\n",
       "    <tr>\n",
       "      <th id=\"T_32d5a_level0_row0\" class=\"row_heading level0 row0\" >0</th>\n",
       "      <td id=\"T_32d5a_row0_col0\" class=\"data row0 col0\" >EnsembleForecaster</td>\n",
       "      <td id=\"T_32d5a_row0_col1\" class=\"data row0 col1\" >15.4844</td>\n",
       "      <td id=\"T_32d5a_row0_col2\" class=\"data row0 col2\" >18.7050</td>\n",
       "      <td id=\"T_32d5a_row0_col3\" class=\"data row0 col3\" >0.0316</td>\n",
       "      <td id=\"T_32d5a_row0_col4\" class=\"data row0 col4\" >0.0319</td>\n",
       "      <td id=\"T_32d5a_row0_col5\" class=\"data row0 col5\" >0.9368</td>\n",
       "    </tr>\n",
       "  </tbody>\n",
       "</table>\n"
      ],
      "text/plain": [
       "<pandas.io.formats.style.Styler at 0x1cb0dc3d2c8>"
      ]
     },
     "metadata": {}
    },
    {
     "output_type": "execute_result",
     "data": {
      "text/plain": [
       "0.0319"
      ]
     },
     "metadata": {},
     "execution_count": 36
    }
   ],
   "metadata": {}
  },
  {
   "cell_type": "markdown",
   "source": [
    "## Prediction Customization"
   ],
   "metadata": {}
  },
  {
   "cell_type": "code",
   "execution_count": 37,
   "source": [
    "model = exp.create_model(\"auto_arima\")"
   ],
   "outputs": [
    {
     "output_type": "display_data",
     "data": {
      "text/html": [
       "<style type=\"text/css\">\n",
       "#T_8682c_row3_col0, #T_8682c_row3_col1, #T_8682c_row3_col2, #T_8682c_row3_col3, #T_8682c_row3_col4, #T_8682c_row3_col5 {\n",
       "  background: yellow;\n",
       "}\n",
       "</style>\n",
       "<table id=\"T_8682c_\">\n",
       "  <thead>\n",
       "    <tr>\n",
       "      <th class=\"blank level0\" >&nbsp;</th>\n",
       "      <th class=\"col_heading level0 col0\" >cutoff</th>\n",
       "      <th class=\"col_heading level0 col1\" >MAE</th>\n",
       "      <th class=\"col_heading level0 col2\" >RMSE</th>\n",
       "      <th class=\"col_heading level0 col3\" >MAPE</th>\n",
       "      <th class=\"col_heading level0 col4\" >SMAPE</th>\n",
       "      <th class=\"col_heading level0 col5\" >R2</th>\n",
       "    </tr>\n",
       "  </thead>\n",
       "  <tbody>\n",
       "    <tr>\n",
       "      <th id=\"T_8682c_level0_row0\" class=\"row_heading level0 row0\" >0</th>\n",
       "      <td id=\"T_8682c_row0_col0\" class=\"data row0 col0\" >1956-12</td>\n",
       "      <td id=\"T_8682c_row0_col1\" class=\"data row0 col1\" >12.0769</td>\n",
       "      <td id=\"T_8682c_row0_col2\" class=\"data row0 col2\" >15.8014</td>\n",
       "      <td id=\"T_8682c_row0_col3\" class=\"data row0 col3\" >0.0298</td>\n",
       "      <td id=\"T_8682c_row0_col4\" class=\"data row0 col4\" >0.0305</td>\n",
       "      <td id=\"T_8682c_row0_col5\" class=\"data row0 col5\" >0.9187</td>\n",
       "    </tr>\n",
       "    <tr>\n",
       "      <th id=\"T_8682c_level0_row1\" class=\"row_heading level0 row1\" >1</th>\n",
       "      <td id=\"T_8682c_row1_col0\" class=\"data row1 col0\" >1957-12</td>\n",
       "      <td id=\"T_8682c_row1_col1\" class=\"data row1 col1\" >19.4102</td>\n",
       "      <td id=\"T_8682c_row1_col2\" class=\"data row1 col2\" >21.4989</td>\n",
       "      <td id=\"T_8682c_row1_col3\" class=\"data row1 col3\" >0.0538</td>\n",
       "      <td id=\"T_8682c_row1_col4\" class=\"data row1 col4\" >0.0520</td>\n",
       "      <td id=\"T_8682c_row1_col5\" class=\"data row1 col5\" >0.8789</td>\n",
       "    </tr>\n",
       "    <tr>\n",
       "      <th id=\"T_8682c_level0_row2\" class=\"row_heading level0 row2\" >2</th>\n",
       "      <td id=\"T_8682c_row2_col0\" class=\"data row2 col0\" >1958-12</td>\n",
       "      <td id=\"T_8682c_row2_col1\" class=\"data row2 col1\" >31.6020</td>\n",
       "      <td id=\"T_8682c_row2_col2\" class=\"data row2 col2\" >33.0981</td>\n",
       "      <td id=\"T_8682c_row2_col3\" class=\"data row2 col3\" >0.0738</td>\n",
       "      <td id=\"T_8682c_row2_col4\" class=\"data row2 col4\" >0.0769</td>\n",
       "      <td id=\"T_8682c_row2_col5\" class=\"data row2 col5\" >0.7549</td>\n",
       "    </tr>\n",
       "    <tr>\n",
       "      <th id=\"T_8682c_level0_row3\" class=\"row_heading level0 row3\" >Mean</th>\n",
       "      <td id=\"T_8682c_row3_col0\" class=\"data row3 col0\" >NaT</td>\n",
       "      <td id=\"T_8682c_row3_col1\" class=\"data row3 col1\" >21.0297</td>\n",
       "      <td id=\"T_8682c_row3_col2\" class=\"data row3 col2\" >23.4661</td>\n",
       "      <td id=\"T_8682c_row3_col3\" class=\"data row3 col3\" >0.0525</td>\n",
       "      <td id=\"T_8682c_row3_col4\" class=\"data row3 col4\" >0.0531</td>\n",
       "      <td id=\"T_8682c_row3_col5\" class=\"data row3 col5\" >0.8509</td>\n",
       "    </tr>\n",
       "    <tr>\n",
       "      <th id=\"T_8682c_level0_row4\" class=\"row_heading level0 row4\" >SD</th>\n",
       "      <td id=\"T_8682c_row4_col0\" class=\"data row4 col0\" >NaT</td>\n",
       "      <td id=\"T_8682c_row4_col1\" class=\"data row4 col1\" >8.0529</td>\n",
       "      <td id=\"T_8682c_row4_col2\" class=\"data row4 col2\" >7.1970</td>\n",
       "      <td id=\"T_8682c_row4_col3\" class=\"data row4 col3\" >0.0180</td>\n",
       "      <td id=\"T_8682c_row4_col4\" class=\"data row4 col4\" >0.0190</td>\n",
       "      <td id=\"T_8682c_row4_col5\" class=\"data row4 col5\" >0.0698</td>\n",
       "    </tr>\n",
       "  </tbody>\n",
       "</table>\n"
      ],
      "text/plain": [
       "<pandas.io.formats.style.Styler at 0x1cb0ecbee88>"
      ]
     },
     "metadata": {}
    }
   ],
   "metadata": {}
  },
  {
   "cell_type": "code",
   "execution_count": 38,
   "source": [
    "# Default prediction\r\n",
    "exp.predict_model(model)"
   ],
   "outputs": [
    {
     "output_type": "display_data",
     "data": {
      "text/html": [
       "<style type=\"text/css\">\n",
       "</style>\n",
       "<table id=\"T_a1902_\">\n",
       "  <thead>\n",
       "    <tr>\n",
       "      <th class=\"blank level0\" >&nbsp;</th>\n",
       "      <th class=\"col_heading level0 col0\" >Model</th>\n",
       "      <th class=\"col_heading level0 col1\" >MAE</th>\n",
       "      <th class=\"col_heading level0 col2\" >RMSE</th>\n",
       "      <th class=\"col_heading level0 col3\" >MAPE</th>\n",
       "      <th class=\"col_heading level0 col4\" >SMAPE</th>\n",
       "      <th class=\"col_heading level0 col5\" >R2</th>\n",
       "    </tr>\n",
       "  </thead>\n",
       "  <tbody>\n",
       "    <tr>\n",
       "      <th id=\"T_a1902_level0_row0\" class=\"row_heading level0 row0\" >0</th>\n",
       "      <td id=\"T_a1902_row0_col0\" class=\"data row0 col0\" >Auto ARIMA</td>\n",
       "      <td id=\"T_a1902_row0_col1\" class=\"data row0 col1\" >14.8982</td>\n",
       "      <td id=\"T_a1902_row0_col2\" class=\"data row0 col2\" >18.5365</td>\n",
       "      <td id=\"T_a1902_row0_col3\" class=\"data row0 col3\" >0.0310</td>\n",
       "      <td id=\"T_a1902_row0_col4\" class=\"data row0 col4\" >0.0309</td>\n",
       "      <td id=\"T_a1902_row0_col5\" class=\"data row0 col5\" >0.9380</td>\n",
       "    </tr>\n",
       "  </tbody>\n",
       "</table>\n"
      ],
      "text/plain": [
       "<pandas.io.formats.style.Styler at 0x1cb1184fec8>"
      ]
     },
     "metadata": {}
    },
    {
     "output_type": "execute_result",
     "data": {
      "text/plain": [
       "1960-01    419.9672\n",
       "1960-02    399.8499\n",
       "1960-03    457.9944\n",
       "1960-04    444.4742\n",
       "1960-05    464.7892\n",
       "1960-06    514.1254\n",
       "1960-07    587.8042\n",
       "1960-08    597.0108\n",
       "1960-09    499.5313\n",
       "1960-10    442.3597\n",
       "1960-11    396.4102\n",
       "1960-12    438.6516\n",
       "Freq: M, dtype: float64"
      ]
     },
     "metadata": {},
     "execution_count": 38
    }
   ],
   "metadata": {}
  },
  {
   "cell_type": "code",
   "execution_count": 39,
   "source": [
    "# With Prediction Interval (default alpha = 0.05)\r\n",
    "exp.predict_model(model, return_pred_int=True)"
   ],
   "outputs": [
    {
     "output_type": "display_data",
     "data": {
      "text/html": [
       "<style type=\"text/css\">\n",
       "</style>\n",
       "<table id=\"T_803df_\">\n",
       "  <thead>\n",
       "    <tr>\n",
       "      <th class=\"blank level0\" >&nbsp;</th>\n",
       "      <th class=\"col_heading level0 col0\" >Model</th>\n",
       "      <th class=\"col_heading level0 col1\" >MAE</th>\n",
       "      <th class=\"col_heading level0 col2\" >RMSE</th>\n",
       "      <th class=\"col_heading level0 col3\" >MAPE</th>\n",
       "      <th class=\"col_heading level0 col4\" >SMAPE</th>\n",
       "      <th class=\"col_heading level0 col5\" >R2</th>\n",
       "    </tr>\n",
       "  </thead>\n",
       "  <tbody>\n",
       "    <tr>\n",
       "      <th id=\"T_803df_level0_row0\" class=\"row_heading level0 row0\" >0</th>\n",
       "      <td id=\"T_803df_row0_col0\" class=\"data row0 col0\" >Auto ARIMA</td>\n",
       "      <td id=\"T_803df_row0_col1\" class=\"data row0 col1\" >14.8982</td>\n",
       "      <td id=\"T_803df_row0_col2\" class=\"data row0 col2\" >18.5365</td>\n",
       "      <td id=\"T_803df_row0_col3\" class=\"data row0 col3\" >0.0310</td>\n",
       "      <td id=\"T_803df_row0_col4\" class=\"data row0 col4\" >0.0309</td>\n",
       "      <td id=\"T_803df_row0_col5\" class=\"data row0 col5\" >0.9380</td>\n",
       "    </tr>\n",
       "  </tbody>\n",
       "</table>\n"
      ],
      "text/plain": [
       "<pandas.io.formats.style.Styler at 0x1cb11866a48>"
      ]
     },
     "metadata": {}
    },
    {
     "output_type": "execute_result",
     "data": {
      "text/html": [
       "<div>\n",
       "<style scoped>\n",
       "    .dataframe tbody tr th:only-of-type {\n",
       "        vertical-align: middle;\n",
       "    }\n",
       "\n",
       "    .dataframe tbody tr th {\n",
       "        vertical-align: top;\n",
       "    }\n",
       "\n",
       "    .dataframe thead th {\n",
       "        text-align: right;\n",
       "    }\n",
       "</style>\n",
       "<table border=\"1\" class=\"dataframe\">\n",
       "  <thead>\n",
       "    <tr style=\"text-align: right;\">\n",
       "      <th></th>\n",
       "      <th>y_pred</th>\n",
       "      <th>lower</th>\n",
       "      <th>upper</th>\n",
       "    </tr>\n",
       "  </thead>\n",
       "  <tbody>\n",
       "    <tr>\n",
       "      <th>1960-01</th>\n",
       "      <td>419.9672</td>\n",
       "      <td>400.2603</td>\n",
       "      <td>439.6740</td>\n",
       "    </tr>\n",
       "    <tr>\n",
       "      <th>1960-02</th>\n",
       "      <td>399.8499</td>\n",
       "      <td>375.7392</td>\n",
       "      <td>423.9605</td>\n",
       "    </tr>\n",
       "    <tr>\n",
       "      <th>1960-03</th>\n",
       "      <td>457.9944</td>\n",
       "      <td>429.6697</td>\n",
       "      <td>486.3190</td>\n",
       "    </tr>\n",
       "    <tr>\n",
       "      <th>1960-04</th>\n",
       "      <td>444.4742</td>\n",
       "      <td>414.0056</td>\n",
       "      <td>474.9427</td>\n",
       "    </tr>\n",
       "    <tr>\n",
       "      <th>1960-05</th>\n",
       "      <td>464.7892</td>\n",
       "      <td>432.7993</td>\n",
       "      <td>496.7790</td>\n",
       "    </tr>\n",
       "    <tr>\n",
       "      <th>1960-06</th>\n",
       "      <td>514.1254</td>\n",
       "      <td>481.2385</td>\n",
       "      <td>547.0123</td>\n",
       "    </tr>\n",
       "    <tr>\n",
       "      <th>1960-07</th>\n",
       "      <td>587.8042</td>\n",
       "      <td>554.3237</td>\n",
       "      <td>621.2846</td>\n",
       "    </tr>\n",
       "    <tr>\n",
       "      <th>1960-08</th>\n",
       "      <td>597.0108</td>\n",
       "      <td>563.1606</td>\n",
       "      <td>630.8610</td>\n",
       "    </tr>\n",
       "    <tr>\n",
       "      <th>1960-09</th>\n",
       "      <td>499.5313</td>\n",
       "      <td>465.4410</td>\n",
       "      <td>533.6215</td>\n",
       "    </tr>\n",
       "    <tr>\n",
       "      <th>1960-10</th>\n",
       "      <td>442.3597</td>\n",
       "      <td>408.1167</td>\n",
       "      <td>476.6027</td>\n",
       "    </tr>\n",
       "    <tr>\n",
       "      <th>1960-11</th>\n",
       "      <td>396.4102</td>\n",
       "      <td>362.0686</td>\n",
       "      <td>430.7519</td>\n",
       "    </tr>\n",
       "    <tr>\n",
       "      <th>1960-12</th>\n",
       "      <td>438.6516</td>\n",
       "      <td>404.2466</td>\n",
       "      <td>473.0566</td>\n",
       "    </tr>\n",
       "  </tbody>\n",
       "</table>\n",
       "</div>"
      ],
      "text/plain": [
       "           y_pred     lower     upper\n",
       "1960-01  419.9672  400.2603  439.6740\n",
       "1960-02  399.8499  375.7392  423.9605\n",
       "1960-03  457.9944  429.6697  486.3190\n",
       "1960-04  444.4742  414.0056  474.9427\n",
       "1960-05  464.7892  432.7993  496.7790\n",
       "1960-06  514.1254  481.2385  547.0123\n",
       "1960-07  587.8042  554.3237  621.2846\n",
       "1960-08  597.0108  563.1606  630.8610\n",
       "1960-09  499.5313  465.4410  533.6215\n",
       "1960-10  442.3597  408.1167  476.6027\n",
       "1960-11  396.4102  362.0686  430.7519\n",
       "1960-12  438.6516  404.2466  473.0566"
      ]
     },
     "metadata": {},
     "execution_count": 39
    }
   ],
   "metadata": {}
  },
  {
   "cell_type": "code",
   "execution_count": 40,
   "source": [
    "# With Prediction Interval (custom alpha = 0.2)\r\n",
    "exp.predict_model(model, return_pred_int=True, alpha=0.2)"
   ],
   "outputs": [
    {
     "output_type": "display_data",
     "data": {
      "text/html": [
       "<style type=\"text/css\">\n",
       "</style>\n",
       "<table id=\"T_71152_\">\n",
       "  <thead>\n",
       "    <tr>\n",
       "      <th class=\"blank level0\" >&nbsp;</th>\n",
       "      <th class=\"col_heading level0 col0\" >Model</th>\n",
       "      <th class=\"col_heading level0 col1\" >MAE</th>\n",
       "      <th class=\"col_heading level0 col2\" >RMSE</th>\n",
       "      <th class=\"col_heading level0 col3\" >MAPE</th>\n",
       "      <th class=\"col_heading level0 col4\" >SMAPE</th>\n",
       "      <th class=\"col_heading level0 col5\" >R2</th>\n",
       "    </tr>\n",
       "  </thead>\n",
       "  <tbody>\n",
       "    <tr>\n",
       "      <th id=\"T_71152_level0_row0\" class=\"row_heading level0 row0\" >0</th>\n",
       "      <td id=\"T_71152_row0_col0\" class=\"data row0 col0\" >Auto ARIMA</td>\n",
       "      <td id=\"T_71152_row0_col1\" class=\"data row0 col1\" >14.8982</td>\n",
       "      <td id=\"T_71152_row0_col2\" class=\"data row0 col2\" >18.5365</td>\n",
       "      <td id=\"T_71152_row0_col3\" class=\"data row0 col3\" >0.0310</td>\n",
       "      <td id=\"T_71152_row0_col4\" class=\"data row0 col4\" >0.0309</td>\n",
       "      <td id=\"T_71152_row0_col5\" class=\"data row0 col5\" >0.9380</td>\n",
       "    </tr>\n",
       "  </tbody>\n",
       "</table>\n"
      ],
      "text/plain": [
       "<pandas.io.formats.style.Styler at 0x1cb0ec61e88>"
      ]
     },
     "metadata": {}
    },
    {
     "output_type": "execute_result",
     "data": {
      "text/html": [
       "<div>\n",
       "<style scoped>\n",
       "    .dataframe tbody tr th:only-of-type {\n",
       "        vertical-align: middle;\n",
       "    }\n",
       "\n",
       "    .dataframe tbody tr th {\n",
       "        vertical-align: top;\n",
       "    }\n",
       "\n",
       "    .dataframe thead th {\n",
       "        text-align: right;\n",
       "    }\n",
       "</style>\n",
       "<table border=\"1\" class=\"dataframe\">\n",
       "  <thead>\n",
       "    <tr style=\"text-align: right;\">\n",
       "      <th></th>\n",
       "      <th>y_pred</th>\n",
       "      <th>lower</th>\n",
       "      <th>upper</th>\n",
       "    </tr>\n",
       "  </thead>\n",
       "  <tbody>\n",
       "    <tr>\n",
       "      <th>1960-01</th>\n",
       "      <td>419.9672</td>\n",
       "      <td>407.0816</td>\n",
       "      <td>432.8528</td>\n",
       "    </tr>\n",
       "    <tr>\n",
       "      <th>1960-02</th>\n",
       "      <td>399.8499</td>\n",
       "      <td>384.0847</td>\n",
       "      <td>415.6150</td>\n",
       "    </tr>\n",
       "    <tr>\n",
       "      <th>1960-03</th>\n",
       "      <td>457.9944</td>\n",
       "      <td>439.4739</td>\n",
       "      <td>476.5149</td>\n",
       "    </tr>\n",
       "    <tr>\n",
       "      <th>1960-04</th>\n",
       "      <td>444.4742</td>\n",
       "      <td>424.5519</td>\n",
       "      <td>464.3965</td>\n",
       "    </tr>\n",
       "    <tr>\n",
       "      <th>1960-05</th>\n",
       "      <td>464.7892</td>\n",
       "      <td>443.8722</td>\n",
       "      <td>485.7062</td>\n",
       "    </tr>\n",
       "    <tr>\n",
       "      <th>1960-06</th>\n",
       "      <td>514.1254</td>\n",
       "      <td>492.6219</td>\n",
       "      <td>535.6290</td>\n",
       "    </tr>\n",
       "    <tr>\n",
       "      <th>1960-07</th>\n",
       "      <td>587.8042</td>\n",
       "      <td>565.9125</td>\n",
       "      <td>609.6959</td>\n",
       "    </tr>\n",
       "    <tr>\n",
       "      <th>1960-08</th>\n",
       "      <td>597.0108</td>\n",
       "      <td>574.8774</td>\n",
       "      <td>619.1443</td>\n",
       "    </tr>\n",
       "    <tr>\n",
       "      <th>1960-09</th>\n",
       "      <td>499.5313</td>\n",
       "      <td>477.2408</td>\n",
       "      <td>521.8217</td>\n",
       "    </tr>\n",
       "    <tr>\n",
       "      <th>1960-10</th>\n",
       "      <td>442.3597</td>\n",
       "      <td>419.9694</td>\n",
       "      <td>464.7500</td>\n",
       "    </tr>\n",
       "    <tr>\n",
       "      <th>1960-11</th>\n",
       "      <td>396.4102</td>\n",
       "      <td>373.9554</td>\n",
       "      <td>418.8650</td>\n",
       "    </tr>\n",
       "    <tr>\n",
       "      <th>1960-12</th>\n",
       "      <td>438.6516</td>\n",
       "      <td>416.1554</td>\n",
       "      <td>461.1478</td>\n",
       "    </tr>\n",
       "  </tbody>\n",
       "</table>\n",
       "</div>"
      ],
      "text/plain": [
       "           y_pred     lower     upper\n",
       "1960-01  419.9672  407.0816  432.8528\n",
       "1960-02  399.8499  384.0847  415.6150\n",
       "1960-03  457.9944  439.4739  476.5149\n",
       "1960-04  444.4742  424.5519  464.3965\n",
       "1960-05  464.7892  443.8722  485.7062\n",
       "1960-06  514.1254  492.6219  535.6290\n",
       "1960-07  587.8042  565.9125  609.6959\n",
       "1960-08  597.0108  574.8774  619.1443\n",
       "1960-09  499.5313  477.2408  521.8217\n",
       "1960-10  442.3597  419.9694  464.7500\n",
       "1960-11  396.4102  373.9554  418.8650\n",
       "1960-12  438.6516  416.1554  461.1478"
      ]
     },
     "metadata": {},
     "execution_count": 40
    }
   ],
   "metadata": {}
  },
  {
   "cell_type": "code",
   "execution_count": 41,
   "source": [
    "# Increased forecast horizon to 2 years instead of the original 1 year\r\n",
    "exp.predict_model(model, fh = np.arange(1, 25))"
   ],
   "outputs": [
    {
     "output_type": "display_data",
     "data": {
      "text/html": [
       "<style type=\"text/css\">\n",
       "</style>\n",
       "<table id=\"T_620e2_\">\n",
       "  <thead>\n",
       "    <tr>\n",
       "      <th class=\"blank level0\" >&nbsp;</th>\n",
       "      <th class=\"col_heading level0 col0\" >Model</th>\n",
       "      <th class=\"col_heading level0 col1\" >MAE</th>\n",
       "      <th class=\"col_heading level0 col2\" >RMSE</th>\n",
       "      <th class=\"col_heading level0 col3\" >MAPE</th>\n",
       "      <th class=\"col_heading level0 col4\" >SMAPE</th>\n",
       "      <th class=\"col_heading level0 col5\" >R2</th>\n",
       "    </tr>\n",
       "  </thead>\n",
       "  <tbody>\n",
       "    <tr>\n",
       "      <th id=\"T_620e2_level0_row0\" class=\"row_heading level0 row0\" >0</th>\n",
       "      <td id=\"T_620e2_row0_col0\" class=\"data row0 col0\" >Auto ARIMA</td>\n",
       "      <td id=\"T_620e2_row0_col1\" class=\"data row0 col1\" >14.8982</td>\n",
       "      <td id=\"T_620e2_row0_col2\" class=\"data row0 col2\" >18.5365</td>\n",
       "      <td id=\"T_620e2_row0_col3\" class=\"data row0 col3\" >0.0310</td>\n",
       "      <td id=\"T_620e2_row0_col4\" class=\"data row0 col4\" >0.0309</td>\n",
       "      <td id=\"T_620e2_row0_col5\" class=\"data row0 col5\" >0.9380</td>\n",
       "    </tr>\n",
       "  </tbody>\n",
       "</table>\n"
      ],
      "text/plain": [
       "<pandas.io.formats.style.Styler at 0x1cb0ec84b08>"
      ]
     },
     "metadata": {}
    },
    {
     "output_type": "execute_result",
     "data": {
      "text/plain": [
       "1960-01    419.9672\n",
       "1960-02    399.8499\n",
       "1960-03    457.9944\n",
       "1960-04    444.4742\n",
       "1960-05    464.7892\n",
       "1960-06    514.1254\n",
       "1960-07    587.8042\n",
       "1960-08    597.0108\n",
       "1960-09    499.5313\n",
       "1960-10    442.3597\n",
       "1960-11    396.4102\n",
       "1960-12    438.6516\n",
       "1961-01    453.0077\n",
       "1961-02    432.4005\n",
       "1961-03    490.1513\n",
       "1961-04    476.3150\n",
       "1961-05    496.3762\n",
       "1961-06    545.5087\n",
       "1961-07    619.0237\n",
       "1961-08    628.0990\n",
       "1961-09    530.5139\n",
       "1961-10    473.2576\n",
       "1961-11    427.2400\n",
       "1961-12    469.4268\n",
       "Freq: M, dtype: float64"
      ]
     },
     "metadata": {},
     "execution_count": 41
    }
   ],
   "metadata": {}
  },
  {
   "cell_type": "code",
   "execution_count": 42,
   "source": [
    "# For models that do not produce a prediction interval --> returns NA values\r\n",
    "model = exp.create_model(\"lr_cds_dt\")\r\n",
    "exp.predict_model(model, return_pred_int=True)"
   ],
   "outputs": [
    {
     "output_type": "display_data",
     "data": {
      "text/html": [
       "<style type=\"text/css\">\n",
       "#T_ee74a_row3_col0, #T_ee74a_row3_col1, #T_ee74a_row3_col2, #T_ee74a_row3_col3, #T_ee74a_row3_col4, #T_ee74a_row3_col5 {\n",
       "  background: yellow;\n",
       "}\n",
       "</style>\n",
       "<table id=\"T_ee74a_\">\n",
       "  <thead>\n",
       "    <tr>\n",
       "      <th class=\"blank level0\" >&nbsp;</th>\n",
       "      <th class=\"col_heading level0 col0\" >cutoff</th>\n",
       "      <th class=\"col_heading level0 col1\" >MAE</th>\n",
       "      <th class=\"col_heading level0 col2\" >RMSE</th>\n",
       "      <th class=\"col_heading level0 col3\" >MAPE</th>\n",
       "      <th class=\"col_heading level0 col4\" >SMAPE</th>\n",
       "      <th class=\"col_heading level0 col5\" >R2</th>\n",
       "    </tr>\n",
       "  </thead>\n",
       "  <tbody>\n",
       "    <tr>\n",
       "      <th id=\"T_ee74a_level0_row0\" class=\"row_heading level0 row0\" >0</th>\n",
       "      <td id=\"T_ee74a_row0_col0\" class=\"data row0 col0\" >1956-12</td>\n",
       "      <td id=\"T_ee74a_row0_col1\" class=\"data row0 col1\" >38.6824</td>\n",
       "      <td id=\"T_ee74a_row0_col2\" class=\"data row0 col2\" >45.0820</td>\n",
       "      <td id=\"T_ee74a_row0_col3\" class=\"data row0 col3\" >0.0998</td>\n",
       "      <td id=\"T_ee74a_row0_col4\" class=\"data row0 col4\" >0.1051</td>\n",
       "      <td id=\"T_ee74a_row0_col5\" class=\"data row0 col5\" >0.3384</td>\n",
       "    </tr>\n",
       "    <tr>\n",
       "      <th id=\"T_ee74a_level0_row1\" class=\"row_heading level0 row1\" >1</th>\n",
       "      <td id=\"T_ee74a_row1_col0\" class=\"data row1 col0\" >1957-12</td>\n",
       "      <td id=\"T_ee74a_row1_col1\" class=\"data row1 col1\" >28.0608</td>\n",
       "      <td id=\"T_ee74a_row1_col2\" class=\"data row1 col2\" >34.6867</td>\n",
       "      <td id=\"T_ee74a_row1_col3\" class=\"data row1 col3\" >0.0751</td>\n",
       "      <td id=\"T_ee74a_row1_col4\" class=\"data row1 col4\" >0.0734</td>\n",
       "      <td id=\"T_ee74a_row1_col5\" class=\"data row1 col5\" >0.6848</td>\n",
       "    </tr>\n",
       "    <tr>\n",
       "      <th id=\"T_ee74a_level0_row2\" class=\"row_heading level0 row2\" >2</th>\n",
       "      <td id=\"T_ee74a_row2_col0\" class=\"data row2 col0\" >1958-12</td>\n",
       "      <td id=\"T_ee74a_row2_col1\" class=\"data row2 col1\" >32.1693</td>\n",
       "      <td id=\"T_ee74a_row2_col2\" class=\"data row2 col2\" >38.2681</td>\n",
       "      <td id=\"T_ee74a_row2_col3\" class=\"data row2 col3\" >0.0737</td>\n",
       "      <td id=\"T_ee74a_row2_col4\" class=\"data row2 col4\" >0.0753</td>\n",
       "      <td id=\"T_ee74a_row2_col5\" class=\"data row2 col5\" >0.6724</td>\n",
       "    </tr>\n",
       "    <tr>\n",
       "      <th id=\"T_ee74a_level0_row3\" class=\"row_heading level0 row3\" >Mean</th>\n",
       "      <td id=\"T_ee74a_row3_col0\" class=\"data row3 col0\" >NaT</td>\n",
       "      <td id=\"T_ee74a_row3_col1\" class=\"data row3 col1\" >32.9708</td>\n",
       "      <td id=\"T_ee74a_row3_col2\" class=\"data row3 col2\" >39.3456</td>\n",
       "      <td id=\"T_ee74a_row3_col3\" class=\"data row3 col3\" >0.0828</td>\n",
       "      <td id=\"T_ee74a_row3_col4\" class=\"data row3 col4\" >0.0846</td>\n",
       "      <td id=\"T_ee74a_row3_col5\" class=\"data row3 col5\" >0.5652</td>\n",
       "    </tr>\n",
       "    <tr>\n",
       "      <th id=\"T_ee74a_level0_row4\" class=\"row_heading level0 row4\" >SD</th>\n",
       "      <td id=\"T_ee74a_row4_col0\" class=\"data row4 col0\" >NaT</td>\n",
       "      <td id=\"T_ee74a_row4_col1\" class=\"data row4 col1\" >4.3731</td>\n",
       "      <td id=\"T_ee74a_row4_col2\" class=\"data row4 col2\" >4.3117</td>\n",
       "      <td id=\"T_ee74a_row4_col3\" class=\"data row4 col3\" >0.0120</td>\n",
       "      <td id=\"T_ee74a_row4_col4\" class=\"data row4 col4\" >0.0145</td>\n",
       "      <td id=\"T_ee74a_row4_col5\" class=\"data row4 col5\" >0.1604</td>\n",
       "    </tr>\n",
       "  </tbody>\n",
       "</table>\n"
      ],
      "text/plain": [
       "<pandas.io.formats.style.Styler at 0x1cb0ecb8bc8>"
      ]
     },
     "metadata": {}
    },
    {
     "output_type": "display_data",
     "data": {
      "text/html": [
       "<style type=\"text/css\">\n",
       "</style>\n",
       "<table id=\"T_54da4_\">\n",
       "  <thead>\n",
       "    <tr>\n",
       "      <th class=\"blank level0\" >&nbsp;</th>\n",
       "      <th class=\"col_heading level0 col0\" >Model</th>\n",
       "      <th class=\"col_heading level0 col1\" >MAE</th>\n",
       "      <th class=\"col_heading level0 col2\" >RMSE</th>\n",
       "      <th class=\"col_heading level0 col3\" >MAPE</th>\n",
       "      <th class=\"col_heading level0 col4\" >SMAPE</th>\n",
       "      <th class=\"col_heading level0 col5\" >R2</th>\n",
       "    </tr>\n",
       "  </thead>\n",
       "  <tbody>\n",
       "    <tr>\n",
       "      <th id=\"T_54da4_level0_row0\" class=\"row_heading level0 row0\" >0</th>\n",
       "      <td id=\"T_54da4_row0_col0\" class=\"data row0 col0\" >LinearRegression</td>\n",
       "      <td id=\"T_54da4_row0_col1\" class=\"data row0 col1\" >47.7429</td>\n",
       "      <td id=\"T_54da4_row0_col2\" class=\"data row0 col2\" >55.0154</td>\n",
       "      <td id=\"T_54da4_row0_col3\" class=\"data row0 col3\" >0.0965</td>\n",
       "      <td id=\"T_54da4_row0_col4\" class=\"data row0 col4\" >0.1005</td>\n",
       "      <td id=\"T_54da4_row0_col5\" class=\"data row0 col5\" >0.4536</td>\n",
       "    </tr>\n",
       "  </tbody>\n",
       "</table>\n"
      ],
      "text/plain": [
       "<pandas.io.formats.style.Styler at 0x1cb1184ff48>"
      ]
     },
     "metadata": {}
    },
    {
     "output_type": "execute_result",
     "data": {
      "text/html": [
       "<div>\n",
       "<style scoped>\n",
       "    .dataframe tbody tr th:only-of-type {\n",
       "        vertical-align: middle;\n",
       "    }\n",
       "\n",
       "    .dataframe tbody tr th {\n",
       "        vertical-align: top;\n",
       "    }\n",
       "\n",
       "    .dataframe thead th {\n",
       "        text-align: right;\n",
       "    }\n",
       "</style>\n",
       "<table border=\"1\" class=\"dataframe\">\n",
       "  <thead>\n",
       "    <tr style=\"text-align: right;\">\n",
       "      <th></th>\n",
       "      <th>y_pred</th>\n",
       "      <th>lower</th>\n",
       "      <th>upper</th>\n",
       "    </tr>\n",
       "  </thead>\n",
       "  <tbody>\n",
       "    <tr>\n",
       "      <th>1960-01</th>\n",
       "      <td>433.1925</td>\n",
       "      <td>NaN</td>\n",
       "      <td>NaN</td>\n",
       "    </tr>\n",
       "    <tr>\n",
       "      <th>1960-02</th>\n",
       "      <td>414.2470</td>\n",
       "      <td>NaN</td>\n",
       "      <td>NaN</td>\n",
       "    </tr>\n",
       "    <tr>\n",
       "      <th>1960-03</th>\n",
       "      <td>394.9755</td>\n",
       "      <td>NaN</td>\n",
       "      <td>NaN</td>\n",
       "    </tr>\n",
       "    <tr>\n",
       "      <th>1960-04</th>\n",
       "      <td>374.2084</td>\n",
       "      <td>NaN</td>\n",
       "      <td>NaN</td>\n",
       "    </tr>\n",
       "    <tr>\n",
       "      <th>1960-05</th>\n",
       "      <td>431.2220</td>\n",
       "      <td>NaN</td>\n",
       "      <td>NaN</td>\n",
       "    </tr>\n",
       "    <tr>\n",
       "      <th>1960-06</th>\n",
       "      <td>493.9331</td>\n",
       "      <td>NaN</td>\n",
       "      <td>NaN</td>\n",
       "    </tr>\n",
       "    <tr>\n",
       "      <th>1960-07</th>\n",
       "      <td>527.8974</td>\n",
       "      <td>NaN</td>\n",
       "      <td>NaN</td>\n",
       "    </tr>\n",
       "    <tr>\n",
       "      <th>1960-08</th>\n",
       "      <td>512.4796</td>\n",
       "      <td>NaN</td>\n",
       "      <td>NaN</td>\n",
       "    </tr>\n",
       "    <tr>\n",
       "      <th>1960-09</th>\n",
       "      <td>456.4409</td>\n",
       "      <td>NaN</td>\n",
       "      <td>NaN</td>\n",
       "    </tr>\n",
       "    <tr>\n",
       "      <th>1960-10</th>\n",
       "      <td>436.8202</td>\n",
       "      <td>NaN</td>\n",
       "      <td>NaN</td>\n",
       "    </tr>\n",
       "    <tr>\n",
       "      <th>1960-11</th>\n",
       "      <td>439.0850</td>\n",
       "      <td>NaN</td>\n",
       "      <td>NaN</td>\n",
       "    </tr>\n",
       "    <tr>\n",
       "      <th>1960-12</th>\n",
       "      <td>460.3670</td>\n",
       "      <td>NaN</td>\n",
       "      <td>NaN</td>\n",
       "    </tr>\n",
       "  </tbody>\n",
       "</table>\n",
       "</div>"
      ],
      "text/plain": [
       "           y_pred  lower  upper\n",
       "1960-01  433.1925    NaN    NaN\n",
       "1960-02  414.2470    NaN    NaN\n",
       "1960-03  394.9755    NaN    NaN\n",
       "1960-04  374.2084    NaN    NaN\n",
       "1960-05  431.2220    NaN    NaN\n",
       "1960-06  493.9331    NaN    NaN\n",
       "1960-07  527.8974    NaN    NaN\n",
       "1960-08  512.4796    NaN    NaN\n",
       "1960-09  456.4409    NaN    NaN\n",
       "1960-10  436.8202    NaN    NaN\n",
       "1960-11  439.0850    NaN    NaN\n",
       "1960-12  460.3670    NaN    NaN"
      ]
     },
     "metadata": {},
     "execution_count": 42
    }
   ],
   "metadata": {}
  },
  {
   "cell_type": "markdown",
   "source": [
    "## Types of Window Splitters\n",
    "\n",
    "### Sliding Window Splitter"
   ],
   "metadata": {}
  },
  {
   "cell_type": "code",
   "execution_count": 43,
   "source": [
    "exp = TimeSeriesExperiment()\r\n",
    "exp.setup(data=y, fh=fh, fold=fold, fold_strategy='sliding')\r\n",
    "model = exp.create_model(\"ets\")"
   ],
   "outputs": [
    {
     "output_type": "display_data",
     "data": {
      "text/html": [
       "<style type=\"text/css\">\n",
       "#T_6c846_row3_col0, #T_6c846_row3_col1, #T_6c846_row3_col2, #T_6c846_row3_col3, #T_6c846_row3_col4, #T_6c846_row3_col5 {\n",
       "  background: yellow;\n",
       "}\n",
       "</style>\n",
       "<table id=\"T_6c846_\">\n",
       "  <thead>\n",
       "    <tr>\n",
       "      <th class=\"blank level0\" >&nbsp;</th>\n",
       "      <th class=\"col_heading level0 col0\" >cutoff</th>\n",
       "      <th class=\"col_heading level0 col1\" >MAE</th>\n",
       "      <th class=\"col_heading level0 col2\" >RMSE</th>\n",
       "      <th class=\"col_heading level0 col3\" >MAPE</th>\n",
       "      <th class=\"col_heading level0 col4\" >SMAPE</th>\n",
       "      <th class=\"col_heading level0 col5\" >R2</th>\n",
       "    </tr>\n",
       "  </thead>\n",
       "  <tbody>\n",
       "    <tr>\n",
       "      <th id=\"T_6c846_level0_row0\" class=\"row_heading level0 row0\" >0</th>\n",
       "      <td id=\"T_6c846_row0_col0\" class=\"data row0 col0\" >1956-12</td>\n",
       "      <td id=\"T_6c846_row0_col1\" class=\"data row0 col1\" >13.4802</td>\n",
       "      <td id=\"T_6c846_row0_col2\" class=\"data row0 col2\" >17.7550</td>\n",
       "      <td id=\"T_6c846_row0_col3\" class=\"data row0 col3\" >0.0340</td>\n",
       "      <td id=\"T_6c846_row0_col4\" class=\"data row0 col4\" >0.0348</td>\n",
       "      <td id=\"T_6c846_row0_col5\" class=\"data row0 col5\" >0.8974</td>\n",
       "    </tr>\n",
       "    <tr>\n",
       "      <th id=\"T_6c846_level0_row1\" class=\"row_heading level0 row1\" >1</th>\n",
       "      <td id=\"T_6c846_row1_col0\" class=\"data row1 col0\" >1957-12</td>\n",
       "      <td id=\"T_6c846_row1_col1\" class=\"data row1 col1\" >25.4850</td>\n",
       "      <td id=\"T_6c846_row1_col2\" class=\"data row1 col2\" >27.5563</td>\n",
       "      <td id=\"T_6c846_row1_col3\" class=\"data row1 col3\" >0.0707</td>\n",
       "      <td id=\"T_6c846_row1_col4\" class=\"data row1 col4\" >0.0678</td>\n",
       "      <td id=\"T_6c846_row1_col5\" class=\"data row1 col5\" >0.8011</td>\n",
       "    </tr>\n",
       "    <tr>\n",
       "      <th id=\"T_6c846_level0_row2\" class=\"row_heading level0 row2\" >2</th>\n",
       "      <td id=\"T_6c846_row2_col0\" class=\"data row2 col0\" >1958-12</td>\n",
       "      <td id=\"T_6c846_row2_col1\" class=\"data row2 col1\" >20.1357</td>\n",
       "      <td id=\"T_6c846_row2_col2\" class=\"data row2 col2\" >23.0437</td>\n",
       "      <td id=\"T_6c846_row2_col3\" class=\"data row2 col3\" >0.0465</td>\n",
       "      <td id=\"T_6c846_row2_col4\" class=\"data row2 col4\" >0.0479</td>\n",
       "      <td id=\"T_6c846_row2_col5\" class=\"data row2 col5\" >0.8812</td>\n",
       "    </tr>\n",
       "    <tr>\n",
       "      <th id=\"T_6c846_level0_row3\" class=\"row_heading level0 row3\" >Mean</th>\n",
       "      <td id=\"T_6c846_row3_col0\" class=\"data row3 col0\" >NaT</td>\n",
       "      <td id=\"T_6c846_row3_col1\" class=\"data row3 col1\" >19.7003</td>\n",
       "      <td id=\"T_6c846_row3_col2\" class=\"data row3 col2\" >22.7850</td>\n",
       "      <td id=\"T_6c846_row3_col3\" class=\"data row3 col3\" >0.0504</td>\n",
       "      <td id=\"T_6c846_row3_col4\" class=\"data row3 col4\" >0.0502</td>\n",
       "      <td id=\"T_6c846_row3_col5\" class=\"data row3 col5\" >0.8599</td>\n",
       "    </tr>\n",
       "    <tr>\n",
       "      <th id=\"T_6c846_level0_row4\" class=\"row_heading level0 row4\" >SD</th>\n",
       "      <td id=\"T_6c846_row4_col0\" class=\"data row4 col0\" >NaT</td>\n",
       "      <td id=\"T_6c846_row4_col1\" class=\"data row4 col1\" >4.9106</td>\n",
       "      <td id=\"T_6c846_row4_col2\" class=\"data row4 col2\" >4.0055</td>\n",
       "      <td id=\"T_6c846_row4_col3\" class=\"data row4 col3\" >0.0153</td>\n",
       "      <td id=\"T_6c846_row4_col4\" class=\"data row4 col4\" >0.0136</td>\n",
       "      <td id=\"T_6c846_row4_col5\" class=\"data row4 col5\" >0.0421</td>\n",
       "    </tr>\n",
       "  </tbody>\n",
       "</table>\n"
      ],
      "text/plain": [
       "<pandas.io.formats.style.Styler at 0x1cb0ece27c8>"
      ]
     },
     "metadata": {}
    }
   ],
   "metadata": {}
  },
  {
   "cell_type": "markdown",
   "source": [
    "### Expanding/Rolling Window\n",
    "\n",
    "* They are identical"
   ],
   "metadata": {}
  },
  {
   "cell_type": "code",
   "execution_count": 44,
   "source": [
    "exp = TimeSeriesExperiment()\r\n",
    "exp.setup(data=y, fh=fh, fold=fold, fold_strategy='expanding')\r\n",
    "model = exp.create_model(\"ets\")"
   ],
   "outputs": [
    {
     "output_type": "display_data",
     "data": {
      "text/html": [
       "<style type=\"text/css\">\n",
       "#T_a1aa7_row3_col0, #T_a1aa7_row3_col1, #T_a1aa7_row3_col2, #T_a1aa7_row3_col3, #T_a1aa7_row3_col4, #T_a1aa7_row3_col5 {\n",
       "  background: yellow;\n",
       "}\n",
       "</style>\n",
       "<table id=\"T_a1aa7_\">\n",
       "  <thead>\n",
       "    <tr>\n",
       "      <th class=\"blank level0\" >&nbsp;</th>\n",
       "      <th class=\"col_heading level0 col0\" >cutoff</th>\n",
       "      <th class=\"col_heading level0 col1\" >MAE</th>\n",
       "      <th class=\"col_heading level0 col2\" >RMSE</th>\n",
       "      <th class=\"col_heading level0 col3\" >MAPE</th>\n",
       "      <th class=\"col_heading level0 col4\" >SMAPE</th>\n",
       "      <th class=\"col_heading level0 col5\" >R2</th>\n",
       "    </tr>\n",
       "  </thead>\n",
       "  <tbody>\n",
       "    <tr>\n",
       "      <th id=\"T_a1aa7_level0_row0\" class=\"row_heading level0 row0\" >0</th>\n",
       "      <td id=\"T_a1aa7_row0_col0\" class=\"data row0 col0\" >1956-12</td>\n",
       "      <td id=\"T_a1aa7_row0_col1\" class=\"data row0 col1\" >13.4802</td>\n",
       "      <td id=\"T_a1aa7_row0_col2\" class=\"data row0 col2\" >17.7550</td>\n",
       "      <td id=\"T_a1aa7_row0_col3\" class=\"data row0 col3\" >0.0340</td>\n",
       "      <td id=\"T_a1aa7_row0_col4\" class=\"data row0 col4\" >0.0348</td>\n",
       "      <td id=\"T_a1aa7_row0_col5\" class=\"data row0 col5\" >0.8974</td>\n",
       "    </tr>\n",
       "    <tr>\n",
       "      <th id=\"T_a1aa7_level0_row1\" class=\"row_heading level0 row1\" >1</th>\n",
       "      <td id=\"T_a1aa7_row1_col0\" class=\"data row1 col0\" >1957-12</td>\n",
       "      <td id=\"T_a1aa7_row1_col1\" class=\"data row1 col1\" >23.6964</td>\n",
       "      <td id=\"T_a1aa7_row1_col2\" class=\"data row1 col2\" >25.8274</td>\n",
       "      <td id=\"T_a1aa7_row1_col3\" class=\"data row1 col3\" >0.0656</td>\n",
       "      <td id=\"T_a1aa7_row1_col4\" class=\"data row1 col4\" >0.0631</td>\n",
       "      <td id=\"T_a1aa7_row1_col5\" class=\"data row1 col5\" >0.8252</td>\n",
       "    </tr>\n",
       "    <tr>\n",
       "      <th id=\"T_a1aa7_level0_row2\" class=\"row_heading level0 row2\" >2</th>\n",
       "      <td id=\"T_a1aa7_row2_col0\" class=\"data row2 col0\" >1958-12</td>\n",
       "      <td id=\"T_a1aa7_row2_col1\" class=\"data row2 col1\" >21.5902</td>\n",
       "      <td id=\"T_a1aa7_row2_col2\" class=\"data row2 col2\" >24.6119</td>\n",
       "      <td id=\"T_a1aa7_row2_col3\" class=\"data row2 col3\" >0.0499</td>\n",
       "      <td id=\"T_a1aa7_row2_col4\" class=\"data row2 col4\" >0.0515</td>\n",
       "      <td id=\"T_a1aa7_row2_col5\" class=\"data row2 col5\" >0.8645</td>\n",
       "    </tr>\n",
       "    <tr>\n",
       "      <th id=\"T_a1aa7_level0_row3\" class=\"row_heading level0 row3\" >Mean</th>\n",
       "      <td id=\"T_a1aa7_row3_col0\" class=\"data row3 col0\" >NaT</td>\n",
       "      <td id=\"T_a1aa7_row3_col1\" class=\"data row3 col1\" >19.5889</td>\n",
       "      <td id=\"T_a1aa7_row3_col2\" class=\"data row3 col2\" >22.7315</td>\n",
       "      <td id=\"T_a1aa7_row3_col3\" class=\"data row3 col3\" >0.0498</td>\n",
       "      <td id=\"T_a1aa7_row3_col4\" class=\"data row3 col4\" >0.0498</td>\n",
       "      <td id=\"T_a1aa7_row3_col5\" class=\"data row3 col5\" >0.8624</td>\n",
       "    </tr>\n",
       "    <tr>\n",
       "      <th id=\"T_a1aa7_level0_row4\" class=\"row_heading level0 row4\" >SD</th>\n",
       "      <td id=\"T_a1aa7_row4_col0\" class=\"data row4 col0\" >NaT</td>\n",
       "      <td id=\"T_a1aa7_row4_col1\" class=\"data row4 col1\" >4.4043</td>\n",
       "      <td id=\"T_a1aa7_row4_col2\" class=\"data row4 col2\" >3.5537</td>\n",
       "      <td id=\"T_a1aa7_row4_col3\" class=\"data row4 col3\" >0.0129</td>\n",
       "      <td id=\"T_a1aa7_row4_col4\" class=\"data row4 col4\" >0.0116</td>\n",
       "      <td id=\"T_a1aa7_row4_col5\" class=\"data row4 col5\" >0.0295</td>\n",
       "    </tr>\n",
       "  </tbody>\n",
       "</table>\n"
      ],
      "text/plain": [
       "<pandas.io.formats.style.Styler at 0x1cb0a65cd88>"
      ]
     },
     "metadata": {}
    }
   ],
   "metadata": {}
  },
  {
   "cell_type": "code",
   "execution_count": 45,
   "source": [
    "exp = TimeSeriesExperiment()\r\n",
    "exp.setup(data=y, fh=fh, fold=fold, fold_strategy='rolling')\r\n",
    "model = exp.create_model(\"ets\")"
   ],
   "outputs": [
    {
     "output_type": "display_data",
     "data": {
      "text/html": [
       "<style type=\"text/css\">\n",
       "#T_b8e18_row3_col0, #T_b8e18_row3_col1, #T_b8e18_row3_col2, #T_b8e18_row3_col3, #T_b8e18_row3_col4, #T_b8e18_row3_col5 {\n",
       "  background: yellow;\n",
       "}\n",
       "</style>\n",
       "<table id=\"T_b8e18_\">\n",
       "  <thead>\n",
       "    <tr>\n",
       "      <th class=\"blank level0\" >&nbsp;</th>\n",
       "      <th class=\"col_heading level0 col0\" >cutoff</th>\n",
       "      <th class=\"col_heading level0 col1\" >MAE</th>\n",
       "      <th class=\"col_heading level0 col2\" >RMSE</th>\n",
       "      <th class=\"col_heading level0 col3\" >MAPE</th>\n",
       "      <th class=\"col_heading level0 col4\" >SMAPE</th>\n",
       "      <th class=\"col_heading level0 col5\" >R2</th>\n",
       "    </tr>\n",
       "  </thead>\n",
       "  <tbody>\n",
       "    <tr>\n",
       "      <th id=\"T_b8e18_level0_row0\" class=\"row_heading level0 row0\" >0</th>\n",
       "      <td id=\"T_b8e18_row0_col0\" class=\"data row0 col0\" >1956-12</td>\n",
       "      <td id=\"T_b8e18_row0_col1\" class=\"data row0 col1\" >13.4802</td>\n",
       "      <td id=\"T_b8e18_row0_col2\" class=\"data row0 col2\" >17.7550</td>\n",
       "      <td id=\"T_b8e18_row0_col3\" class=\"data row0 col3\" >0.0340</td>\n",
       "      <td id=\"T_b8e18_row0_col4\" class=\"data row0 col4\" >0.0348</td>\n",
       "      <td id=\"T_b8e18_row0_col5\" class=\"data row0 col5\" >0.8974</td>\n",
       "    </tr>\n",
       "    <tr>\n",
       "      <th id=\"T_b8e18_level0_row1\" class=\"row_heading level0 row1\" >1</th>\n",
       "      <td id=\"T_b8e18_row1_col0\" class=\"data row1 col0\" >1957-12</td>\n",
       "      <td id=\"T_b8e18_row1_col1\" class=\"data row1 col1\" >23.6964</td>\n",
       "      <td id=\"T_b8e18_row1_col2\" class=\"data row1 col2\" >25.8274</td>\n",
       "      <td id=\"T_b8e18_row1_col3\" class=\"data row1 col3\" >0.0656</td>\n",
       "      <td id=\"T_b8e18_row1_col4\" class=\"data row1 col4\" >0.0631</td>\n",
       "      <td id=\"T_b8e18_row1_col5\" class=\"data row1 col5\" >0.8252</td>\n",
       "    </tr>\n",
       "    <tr>\n",
       "      <th id=\"T_b8e18_level0_row2\" class=\"row_heading level0 row2\" >2</th>\n",
       "      <td id=\"T_b8e18_row2_col0\" class=\"data row2 col0\" >1958-12</td>\n",
       "      <td id=\"T_b8e18_row2_col1\" class=\"data row2 col1\" >21.5902</td>\n",
       "      <td id=\"T_b8e18_row2_col2\" class=\"data row2 col2\" >24.6119</td>\n",
       "      <td id=\"T_b8e18_row2_col3\" class=\"data row2 col3\" >0.0499</td>\n",
       "      <td id=\"T_b8e18_row2_col4\" class=\"data row2 col4\" >0.0515</td>\n",
       "      <td id=\"T_b8e18_row2_col5\" class=\"data row2 col5\" >0.8645</td>\n",
       "    </tr>\n",
       "    <tr>\n",
       "      <th id=\"T_b8e18_level0_row3\" class=\"row_heading level0 row3\" >Mean</th>\n",
       "      <td id=\"T_b8e18_row3_col0\" class=\"data row3 col0\" >NaT</td>\n",
       "      <td id=\"T_b8e18_row3_col1\" class=\"data row3 col1\" >19.5889</td>\n",
       "      <td id=\"T_b8e18_row3_col2\" class=\"data row3 col2\" >22.7315</td>\n",
       "      <td id=\"T_b8e18_row3_col3\" class=\"data row3 col3\" >0.0498</td>\n",
       "      <td id=\"T_b8e18_row3_col4\" class=\"data row3 col4\" >0.0498</td>\n",
       "      <td id=\"T_b8e18_row3_col5\" class=\"data row3 col5\" >0.8624</td>\n",
       "    </tr>\n",
       "    <tr>\n",
       "      <th id=\"T_b8e18_level0_row4\" class=\"row_heading level0 row4\" >SD</th>\n",
       "      <td id=\"T_b8e18_row4_col0\" class=\"data row4 col0\" >NaT</td>\n",
       "      <td id=\"T_b8e18_row4_col1\" class=\"data row4 col1\" >4.4043</td>\n",
       "      <td id=\"T_b8e18_row4_col2\" class=\"data row4 col2\" >3.5537</td>\n",
       "      <td id=\"T_b8e18_row4_col3\" class=\"data row4 col3\" >0.0129</td>\n",
       "      <td id=\"T_b8e18_row4_col4\" class=\"data row4 col4\" >0.0116</td>\n",
       "      <td id=\"T_b8e18_row4_col5\" class=\"data row4 col5\" >0.0295</td>\n",
       "    </tr>\n",
       "  </tbody>\n",
       "</table>\n"
      ],
      "text/plain": [
       "<pandas.io.formats.style.Styler at 0x1cb0da76488>"
      ]
     },
     "metadata": {}
    }
   ],
   "metadata": {}
  },
  {
   "cell_type": "markdown",
   "source": [
    "## Error Handling"
   ],
   "metadata": {}
  },
  {
   "cell_type": "code",
   "execution_count": 46,
   "source": [
    "try:\r\n",
    "    exp = TimeSeriesExperiment()\r\n",
    "    exp.setup(data=y, fh=17, fold=76, fold_strategy='expanding')\r\n",
    "except ValueError as error:\r\n",
    "    print(error)"
   ],
   "outputs": [
    {
     "output_type": "display_data",
     "data": {
      "application/vnd.jupyter.widget-view+json": {
       "version_major": 2,
       "version_minor": 0,
       "model_id": "dcdadbdcdcd4429998f35944b8050166"
      },
      "text/plain": [
       "IntProgress(value=0, description='Processing: ', max=3)"
      ]
     },
     "metadata": {}
    },
    {
     "output_type": "display_data",
     "data": {
      "text/html": [
       "<div>\n",
       "<style scoped>\n",
       "    .dataframe tbody tr th:only-of-type {\n",
       "        vertical-align: middle;\n",
       "    }\n",
       "\n",
       "    .dataframe tbody tr th {\n",
       "        vertical-align: top;\n",
       "    }\n",
       "\n",
       "    .dataframe thead th {\n",
       "        text-align: right;\n",
       "    }\n",
       "</style>\n",
       "<table border=\"1\" class=\"dataframe\">\n",
       "  <thead>\n",
       "    <tr style=\"text-align: right;\">\n",
       "      <th></th>\n",
       "      <th></th>\n",
       "      <th></th>\n",
       "    </tr>\n",
       "    <tr>\n",
       "      <th></th>\n",
       "      <th></th>\n",
       "      <th></th>\n",
       "    </tr>\n",
       "  </thead>\n",
       "  <tbody>\n",
       "    <tr>\n",
       "      <th>Initiated</th>\n",
       "      <td>. . . . . . . . . . . . . . . . . .</td>\n",
       "      <td>15:57:28</td>\n",
       "    </tr>\n",
       "    <tr>\n",
       "      <th>Status</th>\n",
       "      <td>. . . . . . . . . . . . . . . . . .</td>\n",
       "      <td>Preprocessing Data</td>\n",
       "    </tr>\n",
       "  </tbody>\n",
       "</table>\n",
       "</div>"
      ],
      "text/plain": [
       "                                                                  \n",
       "                                                                  \n",
       "Initiated  . . . . . . . . . . . . . . . . . .            15:57:28\n",
       "Status     . . . . . . . . . . . . . . . . . .  Preprocessing Data"
      ]
     },
     "metadata": {}
    },
    {
     "output_type": "stream",
     "name": "stdout",
     "text": [
      "Not Enough Data Points, set a lower number of folds or fh\n"
     ]
    }
   ],
   "metadata": {}
  }
 ],
 "metadata": {
  "interpreter": {
   "hash": "c161a91f6f4623a54f30c5492a42e7cf0592610fb90c8abd312086f09f8fbe0f"
  },
  "kernelspec": {
   "name": "python3",
   "display_name": "Python 3.7.10 64-bit"
  },
  "language_info": {
   "codemirror_mode": {
    "name": "ipython",
    "version": 3
   },
   "file_extension": ".py",
   "mimetype": "text/x-python",
   "name": "python",
   "nbconvert_exporter": "python",
   "pygments_lexer": "ipython3",
   "version": "3.7.10"
  }
 },
 "nbformat": 4,
 "nbformat_minor": 2
}